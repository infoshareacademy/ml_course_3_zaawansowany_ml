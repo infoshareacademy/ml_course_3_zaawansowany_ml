{
 "cells": [
  {
   "cell_type": "markdown",
   "metadata": {},
   "source": [
    "# Projekt - feature engineering\n",
    "\n",
    "Dane: https://www.kaggle.com/datasets/prasad22/healthcare-dataset \n",
    "\n",
    "Cel biznesowy: Na podstawie danych pacjenta i hospitalizacji ocenić ryzyko ponad przeciętnie wysokiego wyniku badań\n",
    "\n",
    "Zmienne:\n",
    "- Name: This column represents the name of the patient associated with the healthcare record.\n",
    "- Age: The age of the patient at the time of admission, expressed in years.\n",
    "- Gender: Indicates the gender of the patient, either \"Male\" or \"Female.\"\n",
    "- Blood Type: The patient's blood type, which can be one of the common blood types (e.g., \"A+\", \"O-\", etc.).\n",
    "- Medical Condition: This column specifies the primary medical condition or diagnosis associated with the patient, such as \"Diabetes,\" \"Hypertension,\" \"Asthma,\" and more.\n",
    "- Date of Admission: The date on which the patient was admitted to the healthcare facility.\n",
    "- Doctor: The name of the doctor responsible for the patient's care during their admission.\n",
    "- Hospital: Identifies the healthcare facility or hospital where the patient was admitted.\n",
    "- Insurance Provider: This column indicates the patient's insurance provider, which can be one of several options, including \"Aetna,\" \"Blue Cross,\" \"Cigna,\" \"UnitedHealthcare,\" and \"Medicare.\"\n",
    "- Billing Amount: The amount of money billed for the patient's healthcare services during their admission. This is expressed as a floating-point number.\n",
    "- Room Number: The room number where the patient was accommodated during their admission.\n",
    "- Admission Type: Specifies the type of admission, which can be \"Emergency,\" \"Elective,\" or \"Urgent,\" reflecting the circumstances of the admission.\\\n",
    "- Discharge Date: The date on which the patient was discharged from the healthcare facility, based on the admission date and a random number of days within a realistic range.\n",
    "- Medication: Identifies a medication prescribed or administered to the patient during their admission. Examples include \"Aspirin,\" \"Ibuprofen,\" \"Penicillin,\" \"Paracetamol,\" and \"Lipitor.\"\n",
    "- Test Results: Describes the results of a medical test conducted during the patient's admission. Possible values include \"Normal,\" \"Abnormal,\" or \"Inconclusive,\" indicating the outcome of the test.\n",
    "\n",
    "Zadania do wykonania:\n",
    "1. Usuń ze zbioru przypadki, gdzie wynik testu jest niejednoznaczny (Inconclusive).\n",
    "2. Wybierz zmienne do modelu. Zastanów się, które mają największy sens biznesowy.\n",
    "3. Dokonaj enkodingu zmiennych kategorycznych.\n",
    "4. Dokonaj kategoryzacji jednej, wybranej zmiennej nominalnej.\n",
    "5. Zbadaj outliery.\n",
    "6. Sprawdź czy należy bilansować zbiór.\n",
    "7. Stwórz model klasyfikacyjny.\n",
    "8. Dokonaj oceny modelu metrykami bazującymi na scoringu.\n",
    "9. Sprawdź czy należy skalibrować prawdopodobieństwo."
   ]
  },
  {
   "cell_type": "code",
   "execution_count": 4,
   "metadata": {},
   "outputs": [],
   "source": [
    "import pandas as pd"
   ]
  },
  {
   "cell_type": "code",
   "execution_count": 2,
   "metadata": {},
   "outputs": [],
   "source": [
    "df = pd.read_csv('data/healthcare_dataset.csv')"
   ]
  }
 ],
 "metadata": {
  "kernelspec": {
   "display_name": "Python 3",
   "language": "python",
   "name": "python3"
  },
  "language_info": {
   "codemirror_mode": {
    "name": "ipython",
    "version": 3
   },
   "file_extension": ".py",
   "mimetype": "text/x-python",
   "name": "python",
   "nbconvert_exporter": "python",
   "pygments_lexer": "ipython3",
   "version": "3.12.5"
  }
 },
 "nbformat": 4,
 "nbformat_minor": 2
}
