{
 "cells": [
  {
   "cell_type": "markdown",
   "metadata": {},
   "source": [
    "# Semi-supervised learning - klasyfikacja\n",
    "\n",
    "Zbiór danych: https://www.kaggle.com/datasets/abdullah0a/human-age-prediction-synthetic-dataset\n",
    "\n",
    "Omawiany zbiór danych posiada zmienną wiek, jedynie dla części obserwacji. Semi-supervised learning skupia się na problemach klasyfikacyjnych, więc przekształcimy zmienną wiek na zmienną 0/1."
   ]
  },
  {
   "cell_type": "code",
   "execution_count": 1,
   "metadata": {},
   "outputs": [],
   "source": [
    "import pandas as pd\n",
    "from sklearn.semi_supervised import SelfTrainingClassifier, LabelPropagation\n",
    "from sklearn.preprocessing import MinMaxScaler\n",
    "from sklearn.tree import DecisionTreeClassifier"
   ]
  },
  {
   "cell_type": "code",
   "execution_count": 2,
   "metadata": {},
   "outputs": [],
   "source": [
    "# puść ten kod, \n",
    "# jeżeli wywołujesz plik  w folderze rozwiąznaia, \n",
    "# a ramka danych znajduje się w folderze data\n",
    "import os \n",
    "os.chdir('../')"
   ]
  },
  {
   "cell_type": "code",
   "execution_count": 3,
   "metadata": {},
   "outputs": [],
   "source": [
    "# Wczytanie danych\n",
    "df = pd.read_csv('data/df.csv',sep=';')"
   ]
  },
  {
   "cell_type": "code",
   "execution_count": null,
   "metadata": {},
   "outputs": [],
   "source": []
  },
  {
   "cell_type": "code",
   "execution_count": 5,
   "metadata": {},
   "outputs": [
    {
     "data": {
      "text/html": [
       "<div>\n",
       "<style scoped>\n",
       "    .dataframe tbody tr th:only-of-type {\n",
       "        vertical-align: middle;\n",
       "    }\n",
       "\n",
       "    .dataframe tbody tr th {\n",
       "        vertical-align: top;\n",
       "    }\n",
       "\n",
       "    .dataframe thead th {\n",
       "        text-align: right;\n",
       "    }\n",
       "</style>\n",
       "<table border=\"1\" class=\"dataframe\">\n",
       "  <thead>\n",
       "    <tr style=\"text-align: right;\">\n",
       "      <th></th>\n",
       "      <th>Gender</th>\n",
       "      <th>Height (cm)</th>\n",
       "      <th>Weight (kg)</th>\n",
       "      <th>Blood Pressure (s/d)</th>\n",
       "      <th>Cholesterol Level (mg/dL)</th>\n",
       "      <th>BMI</th>\n",
       "      <th>Blood Glucose Level (mg/dL)</th>\n",
       "      <th>Bone Density (g/cm²)</th>\n",
       "      <th>Vision Sharpness</th>\n",
       "      <th>Hearing Ability (dB)</th>\n",
       "      <th>...</th>\n",
       "      <th>Cognitive Function</th>\n",
       "      <th>Mental Health Status</th>\n",
       "      <th>Sleep Patterns</th>\n",
       "      <th>Stress Levels</th>\n",
       "      <th>Pollution Exposure</th>\n",
       "      <th>Sun Exposure</th>\n",
       "      <th>Education Level</th>\n",
       "      <th>Income Level</th>\n",
       "      <th>Age (years)</th>\n",
       "      <th>is_retired</th>\n",
       "    </tr>\n",
       "  </thead>\n",
       "  <tbody>\n",
       "    <tr>\n",
       "      <th>0</th>\n",
       "      <td>Male</td>\n",
       "      <td>171.148359</td>\n",
       "      <td>86.185197</td>\n",
       "      <td>151/109</td>\n",
       "      <td>259.465814</td>\n",
       "      <td>29.423017</td>\n",
       "      <td>157.652848</td>\n",
       "      <td>0.132868</td>\n",
       "      <td>0.200000</td>\n",
       "      <td>58.786198</td>\n",
       "      <td>...</td>\n",
       "      <td>44.059172</td>\n",
       "      <td>Good</td>\n",
       "      <td>Insomnia</td>\n",
       "      <td>2.797064</td>\n",
       "      <td>5.142344</td>\n",
       "      <td>7.108975</td>\n",
       "      <td>NaN</td>\n",
       "      <td>Medium</td>\n",
       "      <td>89.0</td>\n",
       "      <td>1</td>\n",
       "    </tr>\n",
       "    <tr>\n",
       "      <th>1</th>\n",
       "      <td>Male</td>\n",
       "      <td>172.946206</td>\n",
       "      <td>79.641937</td>\n",
       "      <td>134/112</td>\n",
       "      <td>263.630292</td>\n",
       "      <td>26.626847</td>\n",
       "      <td>118.507805</td>\n",
       "      <td>0.629534</td>\n",
       "      <td>0.267312</td>\n",
       "      <td>54.635270</td>\n",
       "      <td>...</td>\n",
       "      <td>45.312298</td>\n",
       "      <td>Good</td>\n",
       "      <td>Normal</td>\n",
       "      <td>9.339930</td>\n",
       "      <td>7.272720</td>\n",
       "      <td>3.918489</td>\n",
       "      <td>Undergraduate</td>\n",
       "      <td>Medium</td>\n",
       "      <td>77.0</td>\n",
       "      <td>1</td>\n",
       "    </tr>\n",
       "    <tr>\n",
       "      <th>2</th>\n",
       "      <td>Female</td>\n",
       "      <td>155.945488</td>\n",
       "      <td>49.167058</td>\n",
       "      <td>160/101</td>\n",
       "      <td>207.846206</td>\n",
       "      <td>20.217553</td>\n",
       "      <td>143.587550</td>\n",
       "      <td>0.473487</td>\n",
       "      <td>0.248667</td>\n",
       "      <td>54.564632</td>\n",
       "      <td>...</td>\n",
       "      <td>56.246991</td>\n",
       "      <td>Poor</td>\n",
       "      <td>Insomnia</td>\n",
       "      <td>9.234637</td>\n",
       "      <td>8.500386</td>\n",
       "      <td>5.393408</td>\n",
       "      <td>NaN</td>\n",
       "      <td>Medium</td>\n",
       "      <td>70.0</td>\n",
       "      <td>1</td>\n",
       "    </tr>\n",
       "    <tr>\n",
       "      <th>3</th>\n",
       "      <td>Female</td>\n",
       "      <td>169.078298</td>\n",
       "      <td>56.017921</td>\n",
       "      <td>133/94</td>\n",
       "      <td>253.283779</td>\n",
       "      <td>19.595270</td>\n",
       "      <td>137.448581</td>\n",
       "      <td>1.184315</td>\n",
       "      <td>0.513818</td>\n",
       "      <td>79.722963</td>\n",
       "      <td>...</td>\n",
       "      <td>55.196092</td>\n",
       "      <td>Poor</td>\n",
       "      <td>Insomnia</td>\n",
       "      <td>4.693446</td>\n",
       "      <td>7.555511</td>\n",
       "      <td>2.745578</td>\n",
       "      <td>NaN</td>\n",
       "      <td>Low</td>\n",
       "      <td>52.0</td>\n",
       "      <td>0</td>\n",
       "    </tr>\n",
       "    <tr>\n",
       "      <th>4</th>\n",
       "      <td>Female</td>\n",
       "      <td>163.758355</td>\n",
       "      <td>73.966304</td>\n",
       "      <td>170/106</td>\n",
       "      <td>236.119899</td>\n",
       "      <td>27.582078</td>\n",
       "      <td>145.328695</td>\n",
       "      <td>0.434562</td>\n",
       "      <td>0.306864</td>\n",
       "      <td>52.479469</td>\n",
       "      <td>...</td>\n",
       "      <td>53.023379</td>\n",
       "      <td>Good</td>\n",
       "      <td>Normal</td>\n",
       "      <td>4.038537</td>\n",
       "      <td>9.429097</td>\n",
       "      <td>3.878435</td>\n",
       "      <td>Undergraduate</td>\n",
       "      <td>High</td>\n",
       "      <td>79.0</td>\n",
       "      <td>1</td>\n",
       "    </tr>\n",
       "  </tbody>\n",
       "</table>\n",
       "<p>5 rows × 27 columns</p>\n",
       "</div>"
      ],
      "text/plain": [
       "   Gender  Height (cm)  Weight (kg) Blood Pressure (s/d)  \\\n",
       "0    Male   171.148359    86.185197              151/109   \n",
       "1    Male   172.946206    79.641937              134/112   \n",
       "2  Female   155.945488    49.167058              160/101   \n",
       "3  Female   169.078298    56.017921               133/94   \n",
       "4  Female   163.758355    73.966304              170/106   \n",
       "\n",
       "   Cholesterol Level (mg/dL)        BMI  Blood Glucose Level (mg/dL)  \\\n",
       "0                 259.465814  29.423017                   157.652848   \n",
       "1                 263.630292  26.626847                   118.507805   \n",
       "2                 207.846206  20.217553                   143.587550   \n",
       "3                 253.283779  19.595270                   137.448581   \n",
       "4                 236.119899  27.582078                   145.328695   \n",
       "\n",
       "   Bone Density (g/cm²)  Vision Sharpness  Hearing Ability (dB)  ...  \\\n",
       "0              0.132868          0.200000             58.786198  ...   \n",
       "1              0.629534          0.267312             54.635270  ...   \n",
       "2              0.473487          0.248667             54.564632  ...   \n",
       "3              1.184315          0.513818             79.722963  ...   \n",
       "4              0.434562          0.306864             52.479469  ...   \n",
       "\n",
       "  Cognitive Function Mental Health Status Sleep Patterns Stress Levels  \\\n",
       "0          44.059172                 Good       Insomnia      2.797064   \n",
       "1          45.312298                 Good         Normal      9.339930   \n",
       "2          56.246991                 Poor       Insomnia      9.234637   \n",
       "3          55.196092                 Poor       Insomnia      4.693446   \n",
       "4          53.023379                 Good         Normal      4.038537   \n",
       "\n",
       "  Pollution Exposure Sun Exposure Education Level  Income Level Age (years)  \\\n",
       "0           5.142344     7.108975             NaN        Medium        89.0   \n",
       "1           7.272720     3.918489   Undergraduate        Medium        77.0   \n",
       "2           8.500386     5.393408             NaN        Medium        70.0   \n",
       "3           7.555511     2.745578             NaN           Low        52.0   \n",
       "4           9.429097     3.878435   Undergraduate          High        79.0   \n",
       "\n",
       "  is_retired  \n",
       "0          1  \n",
       "1          1  \n",
       "2          1  \n",
       "3          0  \n",
       "4          1  \n",
       "\n",
       "[5 rows x 27 columns]"
      ]
     },
     "execution_count": 5,
     "metadata": {},
     "output_type": "execute_result"
    }
   ],
   "source": [
    "# Nagłówek\n",
    "df.head()"
   ]
  },
  {
   "cell_type": "code",
   "execution_count": 6,
   "metadata": {},
   "outputs": [
    {
     "name": "stdout",
     "output_type": "stream",
     "text": [
      "<class 'pandas.core.frame.DataFrame'>\n",
      "RangeIndex: 6000 entries, 0 to 5999\n",
      "Data columns (total 27 columns):\n",
      " #   Column                       Non-Null Count  Dtype  \n",
      "---  ------                       --------------  -----  \n",
      " 0   Gender                       6000 non-null   object \n",
      " 1   Height (cm)                  6000 non-null   float64\n",
      " 2   Weight (kg)                  6000 non-null   float64\n",
      " 3   Blood Pressure (s/d)         6000 non-null   object \n",
      " 4   Cholesterol Level (mg/dL)    6000 non-null   float64\n",
      " 5   BMI                          6000 non-null   float64\n",
      " 6   Blood Glucose Level (mg/dL)  6000 non-null   float64\n",
      " 7   Bone Density (g/cm²)         6000 non-null   float64\n",
      " 8   Vision Sharpness             6000 non-null   float64\n",
      " 9   Hearing Ability (dB)         6000 non-null   float64\n",
      " 10  Physical Activity Level      6000 non-null   object \n",
      " 11  Smoking Status               6000 non-null   object \n",
      " 12  Alcohol Consumption          3598 non-null   object \n",
      " 13  Diet                         6000 non-null   object \n",
      " 14  Chronic Diseases             3402 non-null   object \n",
      " 15  Medication Use               3604 non-null   object \n",
      " 16  Family History               3098 non-null   object \n",
      " 17  Cognitive Function           6000 non-null   float64\n",
      " 18  Mental Health Status         6000 non-null   object \n",
      " 19  Sleep Patterns               6000 non-null   object \n",
      " 20  Stress Levels                6000 non-null   float64\n",
      " 21  Pollution Exposure           6000 non-null   float64\n",
      " 22  Sun Exposure                 6000 non-null   float64\n",
      " 23  Education Level              4746 non-null   object \n",
      " 24  Income Level                 6000 non-null   object \n",
      " 25  Age (years)                  3000 non-null   float64\n",
      " 26  is_retired                   6000 non-null   int64  \n",
      "dtypes: float64(13), int64(1), object(13)\n",
      "memory usage: 1.2+ MB\n"
     ]
    }
   ],
   "source": [
    "df.info()"
   ]
  },
  {
   "cell_type": "code",
   "execution_count": 7,
   "metadata": {},
   "outputs": [
    {
     "data": {
      "text/plain": [
       "is_retired\n",
       "-1    3000\n",
       " 0    1783\n",
       " 1    1217\n",
       "Name: count, dtype: int64"
      ]
     },
     "execution_count": 7,
     "metadata": {},
     "output_type": "execute_result"
    }
   ],
   "source": [
    "# Zmienna - czy emeryt\n",
    "df.is_retired.value_counts()"
   ]
  },
  {
   "cell_type": "code",
   "execution_count": 8,
   "metadata": {},
   "outputs": [
    {
     "data": {
      "text/plain": [
       "Gender                            0\n",
       "Height (cm)                       0\n",
       "Weight (kg)                       0\n",
       "Blood Pressure (s/d)              0\n",
       "Cholesterol Level (mg/dL)         0\n",
       "BMI                               0\n",
       "Blood Glucose Level (mg/dL)       0\n",
       "Bone Density (g/cm²)              0\n",
       "Vision Sharpness                  0\n",
       "Hearing Ability (dB)              0\n",
       "Physical Activity Level           0\n",
       "Smoking Status                    0\n",
       "Alcohol Consumption            2402\n",
       "Diet                              0\n",
       "Chronic Diseases               2598\n",
       "Medication Use                 2396\n",
       "Family History                 2902\n",
       "Cognitive Function                0\n",
       "Mental Health Status              0\n",
       "Sleep Patterns                    0\n",
       "Stress Levels                     0\n",
       "Pollution Exposure                0\n",
       "Sun Exposure                      0\n",
       "Education Level                1254\n",
       "Income Level                      0\n",
       "Age (years)                    3000\n",
       "is_retired                        0\n",
       "dtype: int64"
      ]
     },
     "execution_count": 8,
     "metadata": {},
     "output_type": "execute_result"
    }
   ],
   "source": [
    "# Braki danych\n",
    "df.isna().sum()"
   ]
  },
  {
   "cell_type": "code",
   "execution_count": 9,
   "metadata": {},
   "outputs": [],
   "source": [
    "# Wytypowanie zmiennych\n",
    "x_names = df.columns[(df.isna().sum()==0).values]\n"
   ]
  },
  {
   "cell_type": "code",
   "execution_count": 10,
   "metadata": {},
   "outputs": [
    {
     "data": {
      "text/plain": [
       "Index(['Gender', 'Height (cm)', 'Weight (kg)', 'Blood Pressure (s/d)',\n",
       "       'Cholesterol Level (mg/dL)', 'BMI', 'Blood Glucose Level (mg/dL)',\n",
       "       'Bone Density (g/cm²)', 'Vision Sharpness', 'Hearing Ability (dB)',\n",
       "       'Physical Activity Level', 'Smoking Status', 'Diet',\n",
       "       'Cognitive Function', 'Mental Health Status', 'Sleep Patterns',\n",
       "       'Stress Levels', 'Pollution Exposure', 'Sun Exposure', 'Income Level',\n",
       "       'is_retired'],\n",
       "      dtype='object')"
      ]
     },
     "execution_count": 10,
     "metadata": {},
     "output_type": "execute_result"
    }
   ],
   "source": [
    "x_names"
   ]
  },
  {
   "cell_type": "code",
   "execution_count": 11,
   "metadata": {},
   "outputs": [
    {
     "data": {
      "text/plain": [
       "Index(['Gender', 'Height (cm)', 'Weight (kg)', 'Blood Pressure (s/d)',\n",
       "       'Cholesterol Level (mg/dL)', 'BMI', 'Blood Glucose Level (mg/dL)',\n",
       "       'Bone Density (g/cm²)', 'Vision Sharpness', 'Hearing Ability (dB)',\n",
       "       'Physical Activity Level', 'Smoking Status', 'Diet',\n",
       "       'Cognitive Function', 'Mental Health Status', 'Sleep Patterns',\n",
       "       'Stress Levels', 'Pollution Exposure', 'Sun Exposure', 'Income Level'],\n",
       "      dtype='object')"
      ]
     },
     "execution_count": 11,
     "metadata": {},
     "output_type": "execute_result"
    }
   ],
   "source": [
    "x_names = x_names[:-1]\n",
    "x_names"
   ]
  },
  {
   "cell_type": "code",
   "execution_count": 15,
   "metadata": {},
   "outputs": [],
   "source": [
    "# Nowa ramka danych\n",
    "df_new = df[x_names].select_dtypes(exclude = 'object')"
   ]
  },
  {
   "cell_type": "code",
   "execution_count": 16,
   "metadata": {},
   "outputs": [
    {
     "data": {
      "text/plain": [
       "Height (cm)                    0\n",
       "Weight (kg)                    0\n",
       "Cholesterol Level (mg/dL)      0\n",
       "BMI                            0\n",
       "Blood Glucose Level (mg/dL)    0\n",
       "Bone Density (g/cm²)           0\n",
       "Vision Sharpness               0\n",
       "Hearing Ability (dB)           0\n",
       "Cognitive Function             0\n",
       "Stress Levels                  0\n",
       "Pollution Exposure             0\n",
       "Sun Exposure                   0\n",
       "dtype: int64"
      ]
     },
     "execution_count": 16,
     "metadata": {},
     "output_type": "execute_result"
    }
   ],
   "source": [
    "# Braki danych\n",
    "df_new.isna().sum()"
   ]
  },
  {
   "cell_type": "code",
   "execution_count": 17,
   "metadata": {},
   "outputs": [],
   "source": [
    "# Normalizacja\n",
    "scaler = pd.DataFrame(data = MinMaxScaler().fit_transform(df_new), columns = df_new.columns)"
   ]
  },
  {
   "cell_type": "code",
   "execution_count": 18,
   "metadata": {},
   "outputs": [
    {
     "data": {
      "text/html": [
       "<div>\n",
       "<style scoped>\n",
       "    .dataframe tbody tr th:only-of-type {\n",
       "        vertical-align: middle;\n",
       "    }\n",
       "\n",
       "    .dataframe tbody tr th {\n",
       "        vertical-align: top;\n",
       "    }\n",
       "\n",
       "    .dataframe thead th {\n",
       "        text-align: right;\n",
       "    }\n",
       "</style>\n",
       "<table border=\"1\" class=\"dataframe\">\n",
       "  <thead>\n",
       "    <tr style=\"text-align: right;\">\n",
       "      <th></th>\n",
       "      <th>Height (cm)</th>\n",
       "      <th>Weight (kg)</th>\n",
       "      <th>Cholesterol Level (mg/dL)</th>\n",
       "      <th>BMI</th>\n",
       "      <th>Blood Glucose Level (mg/dL)</th>\n",
       "      <th>Bone Density (g/cm²)</th>\n",
       "      <th>Vision Sharpness</th>\n",
       "      <th>Hearing Ability (dB)</th>\n",
       "      <th>Cognitive Function</th>\n",
       "      <th>Stress Levels</th>\n",
       "      <th>Pollution Exposure</th>\n",
       "      <th>Sun Exposure</th>\n",
       "    </tr>\n",
       "  </thead>\n",
       "  <tbody>\n",
       "    <tr>\n",
       "      <th>0</th>\n",
       "      <td>0.526794</td>\n",
       "      <td>0.589139</td>\n",
       "      <td>0.606361</td>\n",
       "      <td>0.555407</td>\n",
       "      <td>0.757629</td>\n",
       "      <td>0.158881</td>\n",
       "      <td>0.000000</td>\n",
       "      <td>0.625360</td>\n",
       "      <td>0.179730</td>\n",
       "      <td>0.199717</td>\n",
       "      <td>0.514022</td>\n",
       "      <td>0.592715</td>\n",
       "    </tr>\n",
       "    <tr>\n",
       "      <th>1</th>\n",
       "      <td>0.558346</td>\n",
       "      <td>0.517283</td>\n",
       "      <td>0.629182</td>\n",
       "      <td>0.466015</td>\n",
       "      <td>0.419791</td>\n",
       "      <td>0.382643</td>\n",
       "      <td>0.078039</td>\n",
       "      <td>0.581203</td>\n",
       "      <td>0.196198</td>\n",
       "      <td>0.927034</td>\n",
       "      <td>0.727236</td>\n",
       "      <td>0.326629</td>\n",
       "    </tr>\n",
       "    <tr>\n",
       "      <th>2</th>\n",
       "      <td>0.259989</td>\n",
       "      <td>0.182618</td>\n",
       "      <td>0.323497</td>\n",
       "      <td>0.261114</td>\n",
       "      <td>0.636240</td>\n",
       "      <td>0.312340</td>\n",
       "      <td>0.056424</td>\n",
       "      <td>0.580451</td>\n",
       "      <td>0.339890</td>\n",
       "      <td>0.915330</td>\n",
       "      <td>0.850105</td>\n",
       "      <td>0.449637</td>\n",
       "    </tr>\n",
       "    <tr>\n",
       "      <th>3</th>\n",
       "      <td>0.490465</td>\n",
       "      <td>0.257852</td>\n",
       "      <td>0.572485</td>\n",
       "      <td>0.241221</td>\n",
       "      <td>0.583258</td>\n",
       "      <td>0.632588</td>\n",
       "      <td>0.363831</td>\n",
       "      <td>0.848082</td>\n",
       "      <td>0.326081</td>\n",
       "      <td>0.410523</td>\n",
       "      <td>0.755539</td>\n",
       "      <td>0.228809</td>\n",
       "    </tr>\n",
       "    <tr>\n",
       "      <th>4</th>\n",
       "      <td>0.397102</td>\n",
       "      <td>0.454955</td>\n",
       "      <td>0.478431</td>\n",
       "      <td>0.496553</td>\n",
       "      <td>0.651267</td>\n",
       "      <td>0.294803</td>\n",
       "      <td>0.123895</td>\n",
       "      <td>0.558270</td>\n",
       "      <td>0.297529</td>\n",
       "      <td>0.337722</td>\n",
       "      <td>0.943053</td>\n",
       "      <td>0.323289</td>\n",
       "    </tr>\n",
       "  </tbody>\n",
       "</table>\n",
       "</div>"
      ],
      "text/plain": [
       "   Height (cm)  Weight (kg)  Cholesterol Level (mg/dL)       BMI  \\\n",
       "0     0.526794     0.589139                   0.606361  0.555407   \n",
       "1     0.558346     0.517283                   0.629182  0.466015   \n",
       "2     0.259989     0.182618                   0.323497  0.261114   \n",
       "3     0.490465     0.257852                   0.572485  0.241221   \n",
       "4     0.397102     0.454955                   0.478431  0.496553   \n",
       "\n",
       "   Blood Glucose Level (mg/dL)  Bone Density (g/cm²)  Vision Sharpness  \\\n",
       "0                     0.757629              0.158881          0.000000   \n",
       "1                     0.419791              0.382643          0.078039   \n",
       "2                     0.636240              0.312340          0.056424   \n",
       "3                     0.583258              0.632588          0.363831   \n",
       "4                     0.651267              0.294803          0.123895   \n",
       "\n",
       "   Hearing Ability (dB)  Cognitive Function  Stress Levels  \\\n",
       "0              0.625360            0.179730       0.199717   \n",
       "1              0.581203            0.196198       0.927034   \n",
       "2              0.580451            0.339890       0.915330   \n",
       "3              0.848082            0.326081       0.410523   \n",
       "4              0.558270            0.297529       0.337722   \n",
       "\n",
       "   Pollution Exposure  Sun Exposure  \n",
       "0            0.514022      0.592715  \n",
       "1            0.727236      0.326629  \n",
       "2            0.850105      0.449637  \n",
       "3            0.755539      0.228809  \n",
       "4            0.943053      0.323289  "
      ]
     },
     "execution_count": 18,
     "metadata": {},
     "output_type": "execute_result"
    }
   ],
   "source": [
    "scaler.head()"
   ]
  },
  {
   "cell_type": "code",
   "execution_count": 32,
   "metadata": {},
   "outputs": [],
   "source": [
    "# train / test x\n",
    "test_x = df_new.loc[df['is_retired']!=-1, :].sample(frac=0.3)\n",
    "train_x = df_new.loc[~(df_new.index.isin(test_x.index)),:]"
   ]
  },
  {
   "cell_type": "code",
   "execution_count": 33,
   "metadata": {},
   "outputs": [],
   "source": [
    "# train / test y\n",
    "train_y = df.loc[train_x.index,'is_retired']\n",
    "test_y = df.loc[test_x.index,'is_retired']"
   ]
  },
  {
   "cell_type": "code",
   "execution_count": null,
   "metadata": {},
   "outputs": [],
   "source": []
  },
  {
   "cell_type": "code",
   "execution_count": 22,
   "metadata": {},
   "outputs": [],
   "source": [
    "# Model klasyfikacyjny\n",
    "base = DecisionTreeClassifier(max_depth=20,min_samples_leaf=5)"
   ]
  },
  {
   "cell_type": "code",
   "execution_count": 39,
   "metadata": {},
   "outputs": [],
   "source": [
    "# Self training model\n",
    "m1 = SelfTrainingClassifier(base_estimator=base, threshold=0.8).fit(train_x, train_y)"
   ]
  },
  {
   "cell_type": "code",
   "execution_count": 40,
   "metadata": {},
   "outputs": [
    {
     "data": {
      "text/plain": [
       " 0    2994\n",
       " 1    1987\n",
       "-1     119\n",
       "Name: count, dtype: int64"
      ]
     },
     "execution_count": 40,
     "metadata": {},
     "output_type": "execute_result"
    }
   ],
   "source": [
    "# Finalne wartości y do modelowania\n",
    "pd.Series(m1.transduction_).value_counts()"
   ]
  },
  {
   "cell_type": "code",
   "execution_count": 41,
   "metadata": {},
   "outputs": [
    {
     "data": {
      "text/plain": [
       "is_retired\n",
       "-1    3000\n",
       " 0    1254\n",
       " 1     846\n",
       "Name: count, dtype: int64"
      ]
     },
     "execution_count": 41,
     "metadata": {},
     "output_type": "execute_result"
    }
   ],
   "source": [
    "train_y.value_counts()"
   ]
  },
  {
   "cell_type": "code",
   "execution_count": 43,
   "metadata": {},
   "outputs": [
    {
     "data": {
      "text/plain": [
       " 1    2710\n",
       " 0    2100\n",
       "-1     119\n",
       " 2     115\n",
       " 3      32\n",
       " 4      19\n",
       " 5       5\n",
       "Name: count, dtype: int64"
      ]
     },
     "execution_count": 43,
     "metadata": {},
     "output_type": "execute_result"
    }
   ],
   "source": [
    "# Liczba iteracji potrzebna do wyznaczenia klasy rekordom bez wartości y \n",
    "pd.Series(m1.labeled_iter_).value_counts()"
   ]
  },
  {
   "cell_type": "code",
   "execution_count": 45,
   "metadata": {},
   "outputs": [],
   "source": [
    "# Dodanie uzupełnionego y do danych\n",
    "labels = pd.DataFrame(train_y, columns = ['is_retired'])\n",
    "labels['filled_label'] = m1.transduction_"
   ]
  },
  {
   "cell_type": "code",
   "execution_count": 47,
   "metadata": {},
   "outputs": [],
   "source": [
    "# dodanie mianownika\n",
    "labels['nominator'] = 1"
   ]
  },
  {
   "cell_type": "code",
   "execution_count": 48,
   "metadata": {},
   "outputs": [
    {
     "data": {
      "text/html": [
       "<div>\n",
       "<style scoped>\n",
       "    .dataframe tbody tr th:only-of-type {\n",
       "        vertical-align: middle;\n",
       "    }\n",
       "\n",
       "    .dataframe tbody tr th {\n",
       "        vertical-align: top;\n",
       "    }\n",
       "\n",
       "    .dataframe thead th {\n",
       "        text-align: right;\n",
       "    }\n",
       "</style>\n",
       "<table border=\"1\" class=\"dataframe\">\n",
       "  <thead>\n",
       "    <tr style=\"text-align: right;\">\n",
       "      <th>filled_label</th>\n",
       "      <th>-1</th>\n",
       "      <th>0</th>\n",
       "      <th>1</th>\n",
       "    </tr>\n",
       "    <tr>\n",
       "      <th>is_retired</th>\n",
       "      <th></th>\n",
       "      <th></th>\n",
       "      <th></th>\n",
       "    </tr>\n",
       "  </thead>\n",
       "  <tbody>\n",
       "    <tr>\n",
       "      <th>-1</th>\n",
       "      <td>119.0</td>\n",
       "      <td>1740.0</td>\n",
       "      <td>1141.0</td>\n",
       "    </tr>\n",
       "    <tr>\n",
       "      <th>0</th>\n",
       "      <td>NaN</td>\n",
       "      <td>1254.0</td>\n",
       "      <td>NaN</td>\n",
       "    </tr>\n",
       "    <tr>\n",
       "      <th>1</th>\n",
       "      <td>NaN</td>\n",
       "      <td>NaN</td>\n",
       "      <td>846.0</td>\n",
       "    </tr>\n",
       "  </tbody>\n",
       "</table>\n",
       "</div>"
      ],
      "text/plain": [
       "filled_label     -1       0       1\n",
       "is_retired                         \n",
       "-1            119.0  1740.0  1141.0\n",
       " 0              NaN  1254.0     NaN\n",
       " 1              NaN     NaN   846.0"
      ]
     },
     "execution_count": 48,
     "metadata": {},
     "output_type": "execute_result"
    }
   ],
   "source": [
    "# Tabela przestawna\n",
    "labels.pivot_table(index= 'is_retired', columns='filled_label', values='nominator', aggfunc='count')"
   ]
  },
  {
   "cell_type": "code",
   "execution_count": 50,
   "metadata": {},
   "outputs": [],
   "source": [
    "test_pred= m1.predict(test_x)"
   ]
  },
  {
   "cell_type": "code",
   "execution_count": 52,
   "metadata": {},
   "outputs": [
    {
     "data": {
      "text/plain": [
       "0.9255555555555556"
      ]
     },
     "execution_count": 52,
     "metadata": {},
     "output_type": "execute_result"
    }
   ],
   "source": [
    "m1.score(test_x,test_y)"
   ]
  },
  {
   "cell_type": "markdown",
   "metadata": {},
   "source": [
    "## Label Propagation \n",
    "Dokumentacja: https://scikit-learn.org/1.5/modules/generated/sklearn.semi_supervised.LabelPropagation.html"
   ]
  },
  {
   "cell_type": "code",
   "execution_count": null,
   "metadata": {},
   "outputs": [],
   "source": [
    "# Uzupełnienie danych  - labelpropagation interpretuje -1 jako braki danych\n"
   ]
  },
  {
   "cell_type": "code",
   "execution_count": 53,
   "metadata": {},
   "outputs": [],
   "source": [
    "# Model \n",
    "m2 = LabelPropagation(kernel='knn',n_neighbors=10).fit(train_x, train_y)"
   ]
  },
  {
   "cell_type": "code",
   "execution_count": 54,
   "metadata": {},
   "outputs": [
    {
     "data": {
      "text/plain": [
       "array([[0.        , 1.        ],\n",
       "       [1.        , 0.        ],\n",
       "       [0.        , 1.        ],\n",
       "       ...,\n",
       "       [0.48836935, 0.51163065],\n",
       "       [0.85683577, 0.14316423],\n",
       "       [0.06612841, 0.93387159]])"
      ]
     },
     "execution_count": 54,
     "metadata": {},
     "output_type": "execute_result"
    }
   ],
   "source": [
    "# Dystrybucja y\n",
    "m2.label_distributions_"
   ]
  },
  {
   "cell_type": "code",
   "execution_count": 55,
   "metadata": {},
   "outputs": [
    {
     "data": {
      "text/plain": [
       "0    3069\n",
       "1    2031\n",
       "Name: count, dtype: int64"
      ]
     },
     "execution_count": 55,
     "metadata": {},
     "output_type": "execute_result"
    }
   ],
   "source": [
    "# przypisana wartość\n",
    "pd.Series(m2.transduction_).value_counts()"
   ]
  },
  {
   "cell_type": "code",
   "execution_count": 56,
   "metadata": {},
   "outputs": [],
   "source": [
    "# Predict\n",
    "test_pred = m2.predict(test_x)"
   ]
  },
  {
   "cell_type": "code",
   "execution_count": 57,
   "metadata": {},
   "outputs": [
    {
     "data": {
      "text/plain": [
       "array([1, 1, 1, 0, 0, 1, 1, 0, 0, 0, 0, 1, 0, 0, 1, 0, 0, 0, 0, 1, 1, 0,\n",
       "       0, 1, 0, 1, 0, 0, 1, 0, 1, 0, 0, 1, 1, 0, 0, 1, 0, 0, 1, 1, 0, 0,\n",
       "       1, 0, 1, 0, 0, 1, 1, 0, 0, 0, 0, 1, 0, 0, 0, 0, 1, 0, 0, 0, 0, 0,\n",
       "       0, 0, 0, 0, 1, 1, 1, 0, 0, 0, 0, 0, 0, 1, 0, 0, 0, 0, 1, 1, 1, 1,\n",
       "       1, 0, 1, 1, 0, 1, 0, 0, 0, 1, 1, 1, 1, 1, 0, 0, 0, 0, 0, 0, 0, 0,\n",
       "       0, 0, 0, 1, 1, 1, 0, 0, 0, 1, 0, 1, 1, 0, 0, 0, 1, 1, 0, 0, 0, 0,\n",
       "       1, 1, 0, 0, 0, 1, 0, 0, 0, 0, 0, 1, 1, 0, 1, 0, 1, 1, 0, 0, 1, 1,\n",
       "       0, 0, 0, 0, 0, 0, 0, 1, 1, 0, 1, 1, 0, 0, 1, 0, 1, 1, 1, 1, 0, 0,\n",
       "       0, 0, 1, 0, 1, 0, 0, 0, 0, 0, 0, 0, 1, 1, 0, 0, 0, 0, 0, 0, 1, 0,\n",
       "       1, 1, 1, 1, 0, 1, 0, 0, 0, 1, 1, 0, 1, 0, 0, 0, 1, 1, 0, 0, 0, 0,\n",
       "       1, 1, 1, 1, 0, 0, 1, 0, 0, 0, 0, 0, 0, 1, 0, 1, 1, 0, 0, 0, 1, 0,\n",
       "       0, 1, 0, 0, 1, 0, 0, 0, 1, 0, 1, 1, 1, 0, 1, 0, 1, 1, 1, 1, 1, 0,\n",
       "       0, 0, 1, 1, 0, 0, 1, 0, 0, 1, 1, 0, 0, 1, 0, 0, 0, 1, 1, 1, 1, 0,\n",
       "       0, 1, 0, 0, 0, 1, 1, 1, 1, 0, 0, 0, 0, 1, 1, 0, 1, 0, 1, 1, 0, 1,\n",
       "       0, 1, 0, 0, 1, 1, 0, 0, 0, 0, 1, 0, 0, 1, 0, 1, 1, 1, 1, 0, 0, 1,\n",
       "       0, 1, 0, 1, 1, 1, 0, 0, 1, 1, 1, 0, 1, 0, 0, 1, 0, 0, 1, 0, 1, 1,\n",
       "       1, 0, 0, 0, 0, 0, 0, 1, 0, 1, 0, 0, 1, 1, 0, 0, 1, 0, 1, 0, 0, 0,\n",
       "       0, 1, 0, 0, 0, 0, 0, 1, 0, 0, 1, 0, 0, 1, 1, 0, 1, 1, 0, 0, 1, 0,\n",
       "       1, 0, 0, 0, 1, 1, 0, 0, 0, 1, 1, 1, 0, 0, 1, 0, 0, 1, 0, 0, 1, 0,\n",
       "       0, 0, 0, 0, 0, 1, 1, 1, 1, 0, 0, 0, 1, 0, 0, 1, 0, 0, 1, 1, 0, 0,\n",
       "       1, 1, 0, 1, 0, 0, 0, 1, 0, 1, 1, 1, 1, 0, 0, 1, 0, 0, 1, 0, 0, 0,\n",
       "       0, 0, 0, 0, 0, 0, 0, 0, 1, 1, 0, 0, 0, 1, 0, 1, 0, 0, 1, 1, 0, 0,\n",
       "       0, 0, 0, 1, 0, 1, 1, 0, 1, 0, 1, 0, 0, 0, 1, 1, 0, 0, 0, 1, 1, 0,\n",
       "       0, 0, 1, 0, 1, 0, 0, 1, 0, 0, 0, 0, 0, 0, 0, 0, 0, 0, 1, 0, 1, 0,\n",
       "       1, 1, 0, 0, 0, 0, 1, 0, 1, 0, 0, 0, 0, 0, 1, 0, 0, 0, 1, 0, 1, 1,\n",
       "       0, 0, 0, 1, 0, 0, 1, 1, 0, 1, 1, 1, 0, 1, 0, 1, 1, 1, 0, 0, 0, 0,\n",
       "       1, 0, 0, 1, 1, 0, 0, 0, 0, 1, 1, 0, 1, 1, 0, 0, 0, 1, 1, 0, 0, 1,\n",
       "       1, 1, 0, 0, 0, 0, 1, 0, 0, 1, 0, 1, 0, 1, 1, 1, 1, 0, 0, 0, 1, 0,\n",
       "       0, 0, 0, 0, 0, 1, 1, 1, 0, 0, 0, 1, 1, 0, 1, 1, 0, 0, 1, 1, 1, 1,\n",
       "       1, 1, 0, 0, 0, 0, 0, 0, 0, 1, 0, 1, 0, 1, 0, 1, 1, 1, 0, 1, 0, 1,\n",
       "       0, 0, 0, 1, 0, 0, 0, 0, 0, 1, 1, 0, 1, 0, 0, 1, 0, 0, 0, 1, 0, 1,\n",
       "       0, 0, 0, 0, 0, 0, 0, 1, 0, 1, 0, 0, 1, 0, 0, 0, 0, 1, 1, 0, 0, 0,\n",
       "       1, 0, 0, 1, 1, 1, 0, 1, 1, 1, 1, 0, 0, 0, 1, 0, 1, 0, 0, 0, 1, 0,\n",
       "       1, 0, 0, 0, 0, 1, 1, 0, 1, 1, 0, 1, 1, 0, 1, 1, 0, 0, 0, 1, 0, 1,\n",
       "       0, 1, 0, 1, 1, 1, 0, 0, 0, 1, 1, 0, 1, 0, 0, 0, 0, 0, 0, 0, 0, 0,\n",
       "       0, 1, 0, 1, 0, 1, 0, 1, 0, 0, 0, 0, 1, 1, 1, 0, 1, 0, 1, 0, 0, 1,\n",
       "       1, 1, 0, 0, 0, 1, 0, 0, 0, 0, 1, 0, 0, 0, 0, 1, 1, 0, 1, 0, 0, 0,\n",
       "       0, 0, 0, 0, 1, 1, 1, 1, 0, 0, 1, 1, 0, 1, 0, 0, 1, 1, 1, 1, 1, 0,\n",
       "       0, 1, 0, 1, 0, 0, 0, 0, 0, 1, 0, 0, 0, 1, 0, 0, 1, 0, 0, 1, 0, 0,\n",
       "       1, 0, 1, 1, 0, 0, 0, 1, 1, 0, 0, 1, 1, 0, 0, 0, 0, 0, 0, 0, 0, 0,\n",
       "       0, 1, 1, 1, 0, 1, 0, 1, 0, 0, 0, 0, 1, 0, 1, 0, 0, 1, 1, 0])"
      ]
     },
     "execution_count": 57,
     "metadata": {},
     "output_type": "execute_result"
    }
   ],
   "source": [
    "test_pred"
   ]
  },
  {
   "cell_type": "code",
   "execution_count": 58,
   "metadata": {},
   "outputs": [
    {
     "data": {
      "text/plain": [
       "array([[0.02726737, 0.97273263],\n",
       "       [0.10402054, 0.89597946],\n",
       "       [0.1268838 , 0.8731162 ],\n",
       "       ...,\n",
       "       [0.03117678, 0.96882322],\n",
       "       [0.46721853, 0.53278147],\n",
       "       [0.99810417, 0.00189583]])"
      ]
     },
     "execution_count": 58,
     "metadata": {},
     "output_type": "execute_result"
    }
   ],
   "source": [
    "# Predict proba\n",
    "m2.predict_proba(test_x)"
   ]
  },
  {
   "cell_type": "code",
   "execution_count": 59,
   "metadata": {},
   "outputs": [
    {
     "data": {
      "text/plain": [
       "0.8166666666666667"
      ]
     },
     "execution_count": 59,
     "metadata": {},
     "output_type": "execute_result"
    }
   ],
   "source": [
    "# score\n",
    "m2.score(test_x,test_y)"
   ]
  }
 ],
 "metadata": {
  "kernelspec": {
   "display_name": "Python 3",
   "language": "python",
   "name": "python3"
  },
  "language_info": {
   "codemirror_mode": {
    "name": "ipython",
    "version": 3
   },
   "file_extension": ".py",
   "mimetype": "text/x-python",
   "name": "python",
   "nbconvert_exporter": "python",
   "pygments_lexer": "ipython3",
   "version": "3.12.5"
  }
 },
 "nbformat": 4,
 "nbformat_minor": 2
}
