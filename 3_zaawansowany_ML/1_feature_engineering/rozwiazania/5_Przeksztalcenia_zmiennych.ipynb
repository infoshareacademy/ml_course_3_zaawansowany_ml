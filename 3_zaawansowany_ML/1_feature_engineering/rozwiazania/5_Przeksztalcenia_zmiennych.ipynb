{
 "cells": [
  {
   "cell_type": "markdown",
   "metadata": {},
   "source": [
    "# Przekształcenia zmiennych\n",
    "\n",
    "Na tych zajęciach użyjemy zbioru danych dotyczących sprzedaży nieruchomości.\n",
    "\n",
    "Link do zbioru danych: https://www.kaggle.com/datasets/mohammedaltet/egypt-houses-price\n",
    "\n",
    "Kolumny w zbiorze:\n",
    "- Type: the type of property\n",
    "- Price: the price of property\n",
    "- Bedrooms: number of bedrooms\n",
    "- Bathrooms: number of bathrooms\n",
    "- Area: the Area of the property by m^2\n",
    "- Furnished: is the property Furnished or not\n",
    "- Level: In what floor the property is ?\n",
    "- Compound: ** In what Compound the property is ?**\n",
    "- Payment_Option\n",
    "- Delivery_Date\n",
    "- City"
   ]
  },
  {
   "cell_type": "code",
   "execution_count": 1,
   "metadata": {},
   "outputs": [],
   "source": [
    "import pandas as pd\n",
    "import numpy as np\n",
    "from sklearn.preprocessing import PolynomialFeatures, PowerTransformer\n",
    "from sklearn.model_selection import train_test_split\n",
    "import seaborn as sns\n",
    "import matplotlib.pyplot as plt"
   ]
  },
  {
   "cell_type": "code",
   "execution_count": 2,
   "metadata": {},
   "outputs": [],
   "source": [
    "# puść ten kod, \n",
    "# jeżeli wywołujesz plik  w folderze rozwiąznaia, \n",
    "# a ramka danych znajduje się w folderze data\n",
    "import os \n",
    "os.chdir('../')"
   ]
  },
  {
   "cell_type": "code",
   "execution_count": 3,
   "metadata": {},
   "outputs": [],
   "source": [
    "df = pd.read_csv(\"data/egypt_houses_price_cleaned.csv\")\n",
    "del df['index']\n",
    "del df['Unnamed: 0']"
   ]
  },
  {
   "cell_type": "markdown",
   "metadata": {},
   "source": [
    "## Podstawowe przekształcenia"
   ]
  },
  {
   "cell_type": "code",
   "execution_count": 3,
   "metadata": {},
   "outputs": [],
   "source": [
    "# logarytm\n",
    "df['price_log'] = np.log(df['Price'])"
   ]
  },
  {
   "cell_type": "code",
   "execution_count": 4,
   "metadata": {},
   "outputs": [
    {
     "data": {
      "text/html": [
       "<div>\n",
       "<style scoped>\n",
       "    .dataframe tbody tr th:only-of-type {\n",
       "        vertical-align: middle;\n",
       "    }\n",
       "\n",
       "    .dataframe tbody tr th {\n",
       "        vertical-align: top;\n",
       "    }\n",
       "\n",
       "    .dataframe thead th {\n",
       "        text-align: right;\n",
       "    }\n",
       "</style>\n",
       "<table border=\"1\" class=\"dataframe\">\n",
       "  <thead>\n",
       "    <tr style=\"text-align: right;\">\n",
       "      <th></th>\n",
       "      <th>Price</th>\n",
       "      <th>Bedrooms</th>\n",
       "      <th>Bathrooms</th>\n",
       "      <th>Area</th>\n",
       "      <th>price_log</th>\n",
       "    </tr>\n",
       "  </thead>\n",
       "  <tbody>\n",
       "    <tr>\n",
       "      <th>count</th>\n",
       "      <td>2.732100e+04</td>\n",
       "      <td>27321.000000</td>\n",
       "      <td>27321.000000</td>\n",
       "      <td>27321.000000</td>\n",
       "      <td>27321.000000</td>\n",
       "    </tr>\n",
       "    <tr>\n",
       "      <th>mean</th>\n",
       "      <td>4.761923e+06</td>\n",
       "      <td>3.239999</td>\n",
       "      <td>2.812306</td>\n",
       "      <td>228.357771</td>\n",
       "      <td>14.718943</td>\n",
       "    </tr>\n",
       "    <tr>\n",
       "      <th>std</th>\n",
       "      <td>6.766756e+06</td>\n",
       "      <td>1.207337</td>\n",
       "      <td>1.349658</td>\n",
       "      <td>159.801167</td>\n",
       "      <td>1.217385</td>\n",
       "    </tr>\n",
       "    <tr>\n",
       "      <th>min</th>\n",
       "      <td>3.000000e+04</td>\n",
       "      <td>1.000000</td>\n",
       "      <td>1.000000</td>\n",
       "      <td>10.000000</td>\n",
       "      <td>10.308953</td>\n",
       "    </tr>\n",
       "    <tr>\n",
       "      <th>25%</th>\n",
       "      <td>1.150000e+06</td>\n",
       "      <td>3.000000</td>\n",
       "      <td>2.000000</td>\n",
       "      <td>125.000000</td>\n",
       "      <td>13.955273</td>\n",
       "    </tr>\n",
       "    <tr>\n",
       "      <th>50%</th>\n",
       "      <td>2.731000e+06</td>\n",
       "      <td>3.000000</td>\n",
       "      <td>3.000000</td>\n",
       "      <td>175.000000</td>\n",
       "      <td>14.820178</td>\n",
       "    </tr>\n",
       "    <tr>\n",
       "      <th>75%</th>\n",
       "      <td>5.990000e+06</td>\n",
       "      <td>4.000000</td>\n",
       "      <td>3.000000</td>\n",
       "      <td>270.000000</td>\n",
       "      <td>15.605602</td>\n",
       "    </tr>\n",
       "    <tr>\n",
       "      <th>max</th>\n",
       "      <td>2.400000e+08</td>\n",
       "      <td>10.000000</td>\n",
       "      <td>10.000000</td>\n",
       "      <td>998.000000</td>\n",
       "      <td>19.296149</td>\n",
       "    </tr>\n",
       "  </tbody>\n",
       "</table>\n",
       "</div>"
      ],
      "text/plain": [
       "              Price      Bedrooms     Bathrooms          Area     price_log\n",
       "count  2.732100e+04  27321.000000  27321.000000  27321.000000  27321.000000\n",
       "mean   4.761923e+06      3.239999      2.812306    228.357771     14.718943\n",
       "std    6.766756e+06      1.207337      1.349658    159.801167      1.217385\n",
       "min    3.000000e+04      1.000000      1.000000     10.000000     10.308953\n",
       "25%    1.150000e+06      3.000000      2.000000    125.000000     13.955273\n",
       "50%    2.731000e+06      3.000000      3.000000    175.000000     14.820178\n",
       "75%    5.990000e+06      4.000000      3.000000    270.000000     15.605602\n",
       "max    2.400000e+08     10.000000     10.000000    998.000000     19.296149"
      ]
     },
     "execution_count": 4,
     "metadata": {},
     "output_type": "execute_result"
    }
   ],
   "source": [
    "df.describe()"
   ]
  },
  {
   "cell_type": "code",
   "execution_count": 5,
   "metadata": {},
   "outputs": [
    {
     "data": {
      "text/plain": [
       "array([[1.0000000e+00, 4.0000000e+06, 1.6000000e+13, 6.4000000e+19],\n",
       "       [1.0000000e+00, 4.0000000e+06, 1.6000000e+13, 6.4000000e+19],\n",
       "       [1.0000000e+00, 2.2500000e+06, 5.0625000e+12, 1.1390625e+19],\n",
       "       ...,\n",
       "       [1.0000000e+00, 1.3800000e+07, 1.9044000e+14, 2.6280720e+21],\n",
       "       [1.0000000e+00, 3.5000000e+07, 1.2250000e+15, 4.2875000e+22],\n",
       "       [1.0000000e+00, 4.8000000e+06, 2.3040000e+13, 1.1059200e+20]])"
      ]
     },
     "execution_count": 5,
     "metadata": {},
     "output_type": "execute_result"
    }
   ],
   "source": [
    "# zmienne do 3 potegi\n",
    "PolynomialFeatures(3).fit_transform(df[['Price']])"
   ]
  },
  {
   "cell_type": "code",
   "execution_count": 7,
   "metadata": {},
   "outputs": [
    {
     "data": {
      "text/html": [
       "<div>\n",
       "<style scoped>\n",
       "    .dataframe tbody tr th:only-of-type {\n",
       "        vertical-align: middle;\n",
       "    }\n",
       "\n",
       "    .dataframe tbody tr th {\n",
       "        vertical-align: top;\n",
       "    }\n",
       "\n",
       "    .dataframe thead th {\n",
       "        text-align: right;\n",
       "    }\n",
       "</style>\n",
       "<table border=\"1\" class=\"dataframe\">\n",
       "  <thead>\n",
       "    <tr style=\"text-align: right;\">\n",
       "      <th></th>\n",
       "      <th>Price</th>\n",
       "      <th>Area</th>\n",
       "    </tr>\n",
       "  </thead>\n",
       "  <tbody>\n",
       "    <tr>\n",
       "      <th>0</th>\n",
       "      <td>4000000.0</td>\n",
       "      <td>400.0</td>\n",
       "    </tr>\n",
       "    <tr>\n",
       "      <th>1</th>\n",
       "      <td>4000000.0</td>\n",
       "      <td>160.0</td>\n",
       "    </tr>\n",
       "    <tr>\n",
       "      <th>2</th>\n",
       "      <td>2250000.0</td>\n",
       "      <td>165.0</td>\n",
       "    </tr>\n",
       "    <tr>\n",
       "      <th>3</th>\n",
       "      <td>1900000.0</td>\n",
       "      <td>230.0</td>\n",
       "    </tr>\n",
       "    <tr>\n",
       "      <th>4</th>\n",
       "      <td>5800000.0</td>\n",
       "      <td>160.0</td>\n",
       "    </tr>\n",
       "    <tr>\n",
       "      <th>...</th>\n",
       "      <td>...</td>\n",
       "      <td>...</td>\n",
       "    </tr>\n",
       "    <tr>\n",
       "      <th>27316</th>\n",
       "      <td>890000.0</td>\n",
       "      <td>240.0</td>\n",
       "    </tr>\n",
       "    <tr>\n",
       "      <th>27317</th>\n",
       "      <td>4000000.0</td>\n",
       "      <td>218.0</td>\n",
       "    </tr>\n",
       "    <tr>\n",
       "      <th>27318</th>\n",
       "      <td>13800000.0</td>\n",
       "      <td>308.0</td>\n",
       "    </tr>\n",
       "    <tr>\n",
       "      <th>27319</th>\n",
       "      <td>35000000.0</td>\n",
       "      <td>478.0</td>\n",
       "    </tr>\n",
       "    <tr>\n",
       "      <th>27320</th>\n",
       "      <td>4800000.0</td>\n",
       "      <td>175.0</td>\n",
       "    </tr>\n",
       "  </tbody>\n",
       "</table>\n",
       "<p>27321 rows × 2 columns</p>\n",
       "</div>"
      ],
      "text/plain": [
       "            Price   Area\n",
       "0       4000000.0  400.0\n",
       "1       4000000.0  160.0\n",
       "2       2250000.0  165.0\n",
       "3       1900000.0  230.0\n",
       "4       5800000.0  160.0\n",
       "...           ...    ...\n",
       "27316    890000.0  240.0\n",
       "27317   4000000.0  218.0\n",
       "27318  13800000.0  308.0\n",
       "27319  35000000.0  478.0\n",
       "27320   4800000.0  175.0\n",
       "\n",
       "[27321 rows x 2 columns]"
      ]
     },
     "execution_count": 7,
     "metadata": {},
     "output_type": "execute_result"
    }
   ],
   "source": [
    "df[['Price','Area']]"
   ]
  },
  {
   "cell_type": "code",
   "execution_count": 6,
   "metadata": {},
   "outputs": [
    {
     "data": {
      "text/plain": [
       "array([[1.0000e+00, 4.0000e+06, 4.0000e+02, 1.6000e+09],\n",
       "       [1.0000e+00, 4.0000e+06, 1.6000e+02, 6.4000e+08],\n",
       "       [1.0000e+00, 2.2500e+06, 1.6500e+02, 3.7125e+08],\n",
       "       ...,\n",
       "       [1.0000e+00, 1.3800e+07, 3.0800e+02, 4.2504e+09],\n",
       "       [1.0000e+00, 3.5000e+07, 4.7800e+02, 1.6730e+10],\n",
       "       [1.0000e+00, 4.8000e+06, 1.7500e+02, 8.4000e+08]])"
      ]
     },
     "execution_count": 6,
     "metadata": {},
     "output_type": "execute_result"
    }
   ],
   "source": [
    "#  interakcje\n",
    "PolynomialFeatures(3,interaction_only=True).fit_transform(df[['Price','Area']])"
   ]
  },
  {
   "cell_type": "markdown",
   "metadata": {},
   "source": [
    "## Przekształcenie Box-Cox"
   ]
  },
  {
   "cell_type": "code",
   "execution_count": 11,
   "metadata": {},
   "outputs": [],
   "source": [
    "# train test split\n",
    "\n",
    "train, test, _,_ = train_test_split(df,df['Price'], test_size=0.2, random_state=123)"
   ]
  },
  {
   "cell_type": "code",
   "execution_count": 12,
   "metadata": {},
   "outputs": [],
   "source": [
    "# Transformacja boxa-coxa\n",
    "box_cox = PowerTransformer(method='box-cox',standardize=False).fit(train[['Price']])"
   ]
  },
  {
   "cell_type": "code",
   "execution_count": 13,
   "metadata": {},
   "outputs": [
    {
     "data": {
      "text/plain": [
       "array([0.0815219])"
      ]
     },
     "execution_count": 13,
     "metadata": {},
     "output_type": "execute_result"
    }
   ],
   "source": [
    "# Lambda\n",
    "box_cox.lambdas_"
   ]
  },
  {
   "cell_type": "code",
   "execution_count": 17,
   "metadata": {},
   "outputs": [],
   "source": [
    "# Zapis do ramki danych\n",
    "box_cox_price = pd.DataFrame(box_cox.transform(test[['Price']]),columns = ['price_box_cox'])"
   ]
  },
  {
   "cell_type": "code",
   "execution_count": 18,
   "metadata": {},
   "outputs": [],
   "source": [
    "# Transformacja yeo-johnson\n",
    "yeo_johnson = PowerTransformer(method='yeo-johnson',standardize=False).fit(train[['Price']])"
   ]
  },
  {
   "cell_type": "code",
   "execution_count": 19,
   "metadata": {},
   "outputs": [
    {
     "data": {
      "text/plain": [
       "array([0.08152123])"
      ]
     },
     "execution_count": 19,
     "metadata": {},
     "output_type": "execute_result"
    }
   ],
   "source": [
    "# Lambda\n",
    "yeo_johnson.lambdas_"
   ]
  },
  {
   "cell_type": "code",
   "execution_count": 20,
   "metadata": {},
   "outputs": [],
   "source": [
    "# Zapis do ramki danych\n",
    "yeo_johnson = pd.DataFrame(yeo_johnson.transform(test[['Price']]),columns = ['price_johnson'])"
   ]
  },
  {
   "cell_type": "code",
   "execution_count": 21,
   "metadata": {},
   "outputs": [
    {
     "data": {
      "image/png": "[encoded data removed]",
      "text/plain": [
       "<Figure size 1000x500 with 3 Axes>"
      ]
     },
     "metadata": {},
     "output_type": "display_data"
    }
   ],
   "source": [
    "# Porównanie na wykresie\n",
    "plt.rcParams['figure.figsize'] =[10,5]\n",
    "fig, axs = plt.subplots(ncols=3, nrows=1)\n",
    "sns.kdeplot(ax=axs[0],data=test['Price'])\n",
    "axs[0].set_title('Non-transformed price')\n",
    "sns.kdeplot(ax=axs[1], data=box_cox_price['price_box_cox'])\n",
    "axs[1].set_title('Box-Cox')\n",
    "sns.kdeplot(ax=axs[2], data=yeo_johnson['price_johnson'])\n",
    "axs[2].set_title('Yeo-johnson')\n",
    "plt.show()"
   ]
  }
 ],
 "metadata": {
  "kernelspec": {
   "display_name": "Python 3",
   "language": "python",
   "name": "python3"
  },
  "language_info": {
   "codemirror_mode": {
    "name": "ipython",
    "version": 3
   },
   "file_extension": ".py",
   "mimetype": "text/x-python",
   "name": "python",
   "nbconvert_exporter": "python",
   "pygments_lexer": "ipython3",
   "version": "3.12.5"
  }
 },
 "nbformat": 4,
 "nbformat_minor": 2
}
