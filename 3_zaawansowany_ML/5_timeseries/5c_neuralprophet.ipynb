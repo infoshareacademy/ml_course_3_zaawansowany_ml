{
 "cells": [
  {
   "cell_type": "markdown",
   "metadata": {},
   "source": [
    "# Neural Prophet\n",
    "\n",
    "Zbiór danych: https://www.kaggle.com/datasets/hamidrezabakhtaki/fmcg-export-sale\n",
    "\n",
    "Dokumentacja: https://neuralprophet.com/code/forecaster.html"
   ]
  },
  {
   "cell_type": "code",
   "execution_count": null,
   "metadata": {},
   "outputs": [],
   "source": [
    "pip install neuralprophet "
   ]
  },
  {
   "cell_type": "code",
   "execution_count": null,
   "metadata": {},
   "outputs": [],
   "source": [
    "# Import pakietów\n",
    "import pandas as pd \n",
    "import matplotlib.pyplot as plt\n",
    "import numpy as np\n",
    "from neuralprophet import NeuralProphet"
   ]
  },
  {
   "cell_type": "code",
   "execution_count": null,
   "metadata": {},
   "outputs": [],
   "source": [
    "# Przygotowanie danych panelowych\n",
    "df_2 = pd.read_csv(\"data/ExportSales.csv\")\n",
    "df_2 = df_2[df_2['Product Code'].isin([30001278,\n",
    "30001279,\n",
    "30001280,\n",
    "30001281,\n",
    "30001282,\n",
    "30001284,\n",
    "30001285,\n",
    "30001286,\n",
    "30001287\n",
    "])]\n",
    "df_2['Date'] = pd.to_datetime(df_2['Date'])\n",
    "df_2 = df_2.set_index('Date')\n",
    "df_panel = df_2[['Product Code','QTY','Total Price']].groupby('Product Code')[['QTY','Total Price']].resample('ME').sum().reset_index()\n",
    "df_panel['price'] = df_panel['Total Price'] / df_panel['QTY']\n",
    "df_panel = df_panel[df_panel['Date']<='2022-07-31']\n",
    "df_panel = df_panel.fillna(0)"
   ]
  },
  {
   "cell_type": "code",
   "execution_count": null,
   "metadata": {},
   "outputs": [],
   "source": [
    "# Dopasowanie kolumne do nazw w statsforecast\n",
    "df_panel = df_panel.rename(columns={'Date': 'ds' , 'QTY':'y' , 'Product Code':'ID'})"
   ]
  },
  {
   "cell_type": "code",
   "execution_count": null,
   "metadata": {},
   "outputs": [],
   "source": [
    "# train/test split\n",
    "train =  df_panel[df_panel['ds']<='2022-04-30'].reset_index(drop=True)\n",
    "test =  df_panel[df_panel['ds']>'2022-04-30'].reset_index(drop=True)"
   ]
  },
  {
   "cell_type": "code",
   "execution_count": null,
   "metadata": {},
   "outputs": [],
   "source": [
    "#  model\n"
   ]
  },
  {
   "cell_type": "code",
   "execution_count": null,
   "metadata": {},
   "outputs": [],
   "source": [
    "# Dodanie zmiennej egzogenicznej - każda zmienna musi być dodana osobnym wywołaniem metody\n"
   ]
  },
  {
   "cell_type": "code",
   "execution_count": null,
   "metadata": {},
   "outputs": [],
   "source": [
    "# Usunięcie zbędnych zmiennych\n",
    "del train['Total Price']\n",
    "del test['Total Price']"
   ]
  },
  {
   "cell_type": "code",
   "execution_count": null,
   "metadata": {},
   "outputs": [],
   "source": [
    "# fit\n"
   ]
  },
  {
   "cell_type": "code",
   "execution_count": null,
   "metadata": {},
   "outputs": [],
   "source": [
    "# Prognoza\n"
   ]
  },
  {
   "cell_type": "code",
   "execution_count": null,
   "metadata": {},
   "outputs": [],
   "source": [
    "# sprawdzenie wyników"
   ]
  },
  {
   "cell_type": "code",
   "execution_count": null,
   "metadata": {},
   "outputs": [],
   "source": [
    "# Ocena wizualna\n",
    "for i in forecast['ID'].unique():\n",
    "    pass"
   ]
  }
 ],
 "metadata": {
  "kernelspec": {
   "display_name": "Python 3",
   "language": "python",
   "name": "python3"
  },
  "language_info": {
   "codemirror_mode": {
    "name": "ipython",
    "version": 3
   },
   "file_extension": ".py",
   "mimetype": "text/x-python",
   "name": "python",
   "nbconvert_exporter": "python",
   "pygments_lexer": "ipython3",
   "version": "3.12.5"
  }
 },
 "nbformat": 4,
 "nbformat_minor": 2
}
