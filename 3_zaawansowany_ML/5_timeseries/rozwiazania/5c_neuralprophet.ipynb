{
 "cells": [
  {
   "cell_type": "markdown",
   "metadata": {},
   "source": [
    "# Neural Prophet\n",
    "\n",
    "Zbiór danych: https://www.kaggle.com/datasets/hamidrezabakhtaki/fmcg-export-sale\n",
    "\n",
    "Dokumentacja: https://neuralprophet.com/code/forecaster.html"
   ]
  },
  {
   "cell_type": "code",
   "execution_count": null,
   "metadata": {},
   "outputs": [],
   "source": [
    "#pip install neuralprophet "
   ]
  },
  {
   "cell_type": "code",
   "execution_count": null,
   "metadata": {},
   "outputs": [],
   "source": [
    "# Import pakietów\n",
    "import pandas as pd \n",
    "import matplotlib.pyplot as plt\n",
    "import numpy as np\n",
    "from neuralprophet import NeuralProphet"
   ]
  },
  {
   "cell_type": "code",
   "execution_count": 2,
   "metadata": {},
   "outputs": [],
   "source": [
    "# puść ten kod, \n",
    "# jeżeli wywołujesz plik  w folderze rozwiąznaia, \n",
    "# a ramka danych znajduje się w folderze data\n",
    "import os \n",
    "os.chdir('../')"
   ]
  },
  {
   "cell_type": "code",
   "execution_count": 3,
   "metadata": {},
   "outputs": [],
   "source": [
    "# Przygotowanie danych panelowych\n",
    "df_2 = pd.read_csv(\"data/ExportSales.csv\")\n",
    "df_2 = df_2[df_2['Product Code'].isin([30001278,\n",
    "30001279,\n",
    "30001280,\n",
    "30001281,\n",
    "30001282,\n",
    "30001284,\n",
    "30001285,\n",
    "30001286,\n",
    "30001287\n",
    "])]\n",
    "df_2['Date'] = pd.to_datetime(df_2['Date'])\n",
    "df_2 = df_2.set_index('Date')\n",
    "df_panel = df_2[['Product Code','QTY','Total Price']].groupby('Product Code')[['QTY','Total Price']].resample('ME').sum().reset_index()\n",
    "df_panel['price'] = df_panel['Total Price'] / df_panel['QTY']\n",
    "df_panel = df_panel[df_panel['Date']<='2022-07-31']\n",
    "df_panel = df_panel.fillna(0)"
   ]
  },
  {
   "cell_type": "code",
   "execution_count": 3,
   "metadata": {},
   "outputs": [],
   "source": [
    "# Dopasowanie kolumne do nazw w neuralprophet\n",
    "df_panel = df_panel.rename(columns={'Date': 'ds' , 'QTY':'y' , 'Product Code':'ID'})"
   ]
  },
  {
   "cell_type": "code",
   "execution_count": 4,
   "metadata": {},
   "outputs": [],
   "source": [
    "# train/test split\n",
    "train =  df_panel[df_panel['ds']<='2022-04-30'].reset_index(drop=True)\n",
    "test =  df_panel[df_panel['ds']>'2022-04-30'].reset_index(drop=True)"
   ]
  },
  {
   "cell_type": "code",
   "execution_count": 5,
   "metadata": {},
   "outputs": [],
   "source": [
    "#  model\n",
    "model = NeuralProphet()"
   ]
  },
  {
   "cell_type": "code",
   "execution_count": null,
   "metadata": {},
   "outputs": [],
   "source": [
    "# Dodanie zmiennej egzogenicznej - każda zmienna musi być dodana osobnym wywołaniem metody\n",
    "model.add_future_regressor('price')"
   ]
  },
  {
   "cell_type": "code",
   "execution_count": null,
   "metadata": {},
   "outputs": [],
   "source": [
    "train.head()"
   ]
  },
  {
   "cell_type": "code",
   "execution_count": 8,
   "metadata": {},
   "outputs": [],
   "source": [
    "# Usunięcie zbędnych zmiennych\n",
    "del train['Total Price']\n",
    "del test['Total Price']"
   ]
  },
  {
   "cell_type": "code",
   "execution_count": null,
   "metadata": {},
   "outputs": [],
   "source": [
    "# fit\n",
    "model.fit(train,freq= 'ME')"
   ]
  },
  {
   "cell_type": "code",
   "execution_count": null,
   "metadata": {},
   "outputs": [],
   "source": [
    "# Prognoza\n",
    "forecast = model.predict(df_panel[['ID','ds','y','price']])"
   ]
  },
  {
   "cell_type": "code",
   "execution_count": null,
   "metadata": {},
   "outputs": [],
   "source": [
    "# sprawdzenie wyników\n",
    "forecast"
   ]
  },
  {
   "cell_type": "code",
   "execution_count": null,
   "metadata": {},
   "outputs": [],
   "source": [
    "# Ocena wizualna\n",
    "for i in forecast['ID'].unique():\n",
    "    df_to_plot = forecast[forecast['ID']==i]\n",
    "    plt.plot(df_to_plot['ds'], df_to_plot['y'],label='actual')\n",
    "    plt.plot(df_to_plot['ds'],df_to_plot['yhat1'],label='forecast')\n",
    "    plt.title(f'ID: {i}')\n",
    "    plt.legend()\n",
    "    plt.show()"
   ]
  }
 ],
 "metadata": {
  "kernelspec": {
   "display_name": "Python 3",
   "language": "python",
   "name": "python3"
  },
  "language_info": {
   "codemirror_mode": {
    "name": "ipython",
    "version": 3
   },
   "file_extension": ".py",
   "mimetype": "text/x-python",
   "name": "python",
   "nbconvert_exporter": "python",
   "pygments_lexer": "ipython3",
   "version": "3.12.5"
  }
 },
 "nbformat": 4,
 "nbformat_minor": 2
}
