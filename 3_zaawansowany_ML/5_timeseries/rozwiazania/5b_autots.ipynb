{
 "cells": [
  {
   "cell_type": "markdown",
   "metadata": {},
   "source": [
    "# Auto TS\n",
    "\n",
    "Zbiór danych: https://www.kaggle.com/datasets/hamidrezabakhtaki/fmcg-export-sale"
   ]
  },
  {
   "cell_type": "markdown",
   "metadata": {},
   "source": [
    "\n",
    "Dokumentacja https://pypi.org/project/autots/"
   ]
  },
  {
   "cell_type": "code",
   "execution_count": 1,
   "metadata": {},
   "outputs": [],
   "source": [
    "#pip install autots"
   ]
  },
  {
   "cell_type": "code",
   "execution_count": 2,
   "metadata": {},
   "outputs": [],
   "source": [
    "import pandas as pd \n",
    "import matplotlib.pyplot as plt\n",
    "import numpy as np\n",
    "from autots import AutoTS"
   ]
  },
  {
   "cell_type": "code",
   "execution_count": 3,
   "metadata": {},
   "outputs": [],
   "source": [
    "# puść ten kod, \n",
    "# jeżeli wywołujesz plik  w folderze rozwiąznaia, \n",
    "# a ramka danych znajduje się w folderze data\n",
    "import os \n",
    "os.chdir('../')"
   ]
  },
  {
   "cell_type": "code",
   "execution_count": 4,
   "metadata": {},
   "outputs": [],
   "source": [
    "# Przygotowanie danych panelowych\n",
    "df_2 = pd.read_csv(\"data/ExportSales.csv\")\n",
    "df_2 = df_2[df_2['Product Code'].isin([30001278,\n",
    "30001279,\n",
    "30001280,\n",
    "30001281,\n",
    "30001282,\n",
    "30001284,\n",
    "30001285,\n",
    "30001286,\n",
    "30001287\n",
    "])]\n",
    "df_2['Date'] = pd.to_datetime(df_2['Date'])\n",
    "df_2 = df_2.set_index('Date')\n",
    "df_panel = df_2[['Product Code','QTY','Total Price']].groupby('Product Code')[['QTY','Total Price']].resample('ME').sum().reset_index()\n",
    "df_panel['price'] = df_panel['Total Price'] / df_panel['QTY']\n",
    "df_panel = df_panel[df_panel['Date']<='2022-07-31']\n",
    "df_panel = df_panel.fillna(0)"
   ]
  },
  {
   "cell_type": "code",
   "execution_count": 5,
   "metadata": {},
   "outputs": [
    {
     "data": {
      "text/html": [
       "<div>\n",
       "<style scoped>\n",
       "    .dataframe tbody tr th:only-of-type {\n",
       "        vertical-align: middle;\n",
       "    }\n",
       "\n",
       "    .dataframe tbody tr th {\n",
       "        vertical-align: top;\n",
       "    }\n",
       "\n",
       "    .dataframe thead th {\n",
       "        text-align: right;\n",
       "    }\n",
       "</style>\n",
       "<table border=\"1\" class=\"dataframe\">\n",
       "  <thead>\n",
       "    <tr style=\"text-align: right;\">\n",
       "      <th></th>\n",
       "      <th>Product Code</th>\n",
       "      <th>Date</th>\n",
       "      <th>QTY</th>\n",
       "      <th>Total Price</th>\n",
       "      <th>price</th>\n",
       "    </tr>\n",
       "  </thead>\n",
       "  <tbody>\n",
       "    <tr>\n",
       "      <th>0</th>\n",
       "      <td>30001278</td>\n",
       "      <td>2020-05-31</td>\n",
       "      <td>100</td>\n",
       "      <td>1550.16800</td>\n",
       "      <td>15.501680</td>\n",
       "    </tr>\n",
       "    <tr>\n",
       "      <th>1</th>\n",
       "      <td>30001278</td>\n",
       "      <td>2020-06-30</td>\n",
       "      <td>667</td>\n",
       "      <td>7892.97785</td>\n",
       "      <td>11.833550</td>\n",
       "    </tr>\n",
       "    <tr>\n",
       "      <th>2</th>\n",
       "      <td>30001278</td>\n",
       "      <td>2020-07-31</td>\n",
       "      <td>228</td>\n",
       "      <td>2859.07600</td>\n",
       "      <td>12.539807</td>\n",
       "    </tr>\n",
       "    <tr>\n",
       "      <th>3</th>\n",
       "      <td>30001278</td>\n",
       "      <td>2020-08-31</td>\n",
       "      <td>717</td>\n",
       "      <td>12688.70708</td>\n",
       "      <td>17.696942</td>\n",
       "    </tr>\n",
       "    <tr>\n",
       "      <th>4</th>\n",
       "      <td>30001278</td>\n",
       "      <td>2020-09-30</td>\n",
       "      <td>667</td>\n",
       "      <td>10357.74962</td>\n",
       "      <td>15.528860</td>\n",
       "    </tr>\n",
       "  </tbody>\n",
       "</table>\n",
       "</div>"
      ],
      "text/plain": [
       "   Product Code       Date  QTY  Total Price      price\n",
       "0      30001278 2020-05-31  100   1550.16800  15.501680\n",
       "1      30001278 2020-06-30  667   7892.97785  11.833550\n",
       "2      30001278 2020-07-31  228   2859.07600  12.539807\n",
       "3      30001278 2020-08-31  717  12688.70708  17.696942\n",
       "4      30001278 2020-09-30  667  10357.74962  15.528860"
      ]
     },
     "execution_count": 5,
     "metadata": {},
     "output_type": "execute_result"
    }
   ],
   "source": [
    "df_panel.head()"
   ]
  },
  {
   "cell_type": "code",
   "execution_count": 6,
   "metadata": {},
   "outputs": [],
   "source": [
    "# Train test split\n",
    "train =  df_panel[df_panel['Date']<='2022-04-30'].reset_index(drop=True)\n",
    "test =  df_panel[df_panel['Date']>'2022-04-30'].reset_index(drop=True)"
   ]
  },
  {
   "cell_type": "markdown",
   "metadata": {},
   "source": [
    "## Auto TS"
   ]
  },
  {
   "cell_type": "code",
   "execution_count": 7,
   "metadata": {},
   "outputs": [
    {
     "name": "stdout",
     "output_type": "stream",
     "text": [
      "Using 1 cpus for n_jobs.\n"
     ]
    }
   ],
   "source": [
    "# model \n",
    "auto_ts = AutoTS(forecast_length=3,\n",
    "                 frequency='ME',\n",
    "                 ensemble='auto',\n",
    "                 model_list='fast',\n",
    "                 no_negatives=True)"
   ]
  },
  {
   "cell_type": "code",
   "execution_count": 8,
   "metadata": {},
   "outputs": [
    {
     "name": "stdout",
     "output_type": "stream",
     "text": [
      "Data frequency is: ME, used frequency is: ME\n",
      "Model Number: 1 with model AverageValueNaive in generation 0 of 20\n",
      "Model Number: 2 with model AverageValueNaive in generation 0 of 20\n",
      "Model Number: 3 with model AverageValueNaive in generation 0 of 20\n",
      "Model Number: 4 with model DatepartRegression in generation 0 of 20\n",
      "Model Number: 5 with model DatepartRegression in generation 0 of 20\n"
     ]
    },
    {
     "name": "stderr",
     "output_type": "stream",
     "text": [
      "c:\\Users\\Lenovo\\AppData\\Local\\Programs\\Python\\Python312\\Lib\\site-packages\\sklearn\\svm\\_base.py:1235: ConvergenceWarning: Liblinear failed to converge, increase the number of iterations.\n",
      "  warnings.warn(\n",
      "c:\\Users\\Lenovo\\AppData\\Local\\Programs\\Python\\Python312\\Lib\\site-packages\\sklearn\\svm\\_base.py:1235: ConvergenceWarning: Liblinear failed to converge, increase the number of iterations.\n",
      "  warnings.warn(\n",
      "c:\\Users\\Lenovo\\AppData\\Local\\Programs\\Python\\Python312\\Lib\\site-packages\\sklearn\\svm\\_base.py:1235: ConvergenceWarning: Liblinear failed to converge, increase the number of iterations.\n",
      "  warnings.warn(\n",
      "c:\\Users\\Lenovo\\AppData\\Local\\Programs\\Python\\Python312\\Lib\\site-packages\\sklearn\\svm\\_base.py:1235: ConvergenceWarning: Liblinear failed to converge, increase the number of iterations.\n",
      "  warnings.warn(\n",
      "c:\\Users\\Lenovo\\AppData\\Local\\Programs\\Python\\Python312\\Lib\\site-packages\\sklearn\\svm\\_base.py:1235: ConvergenceWarning: Liblinear failed to converge, increase the number of iterations.\n",
      "  warnings.warn(\n",
      "c:\\Users\\Lenovo\\AppData\\Local\\Programs\\Python\\Python312\\Lib\\site-packages\\sklearn\\svm\\_base.py:1235: ConvergenceWarning: Liblinear failed to converge, increase the number of iterations.\n",
      "  warnings.warn(\n",
      "c:\\Users\\Lenovo\\AppData\\Local\\Programs\\Python\\Python312\\Lib\\site-packages\\sklearn\\svm\\_base.py:1235: ConvergenceWarning: Liblinear failed to converge, increase the number of iterations.\n",
      "  warnings.warn(\n",
      "c:\\Users\\Lenovo\\AppData\\Local\\Programs\\Python\\Python312\\Lib\\site-packages\\sklearn\\svm\\_base.py:1235: ConvergenceWarning: Liblinear failed to converge, increase the number of iterations.\n",
      "  warnings.warn(\n",
      "c:\\Users\\Lenovo\\AppData\\Local\\Programs\\Python\\Python312\\Lib\\site-packages\\sklearn\\svm\\_base.py:1235: ConvergenceWarning: Liblinear failed to converge, increase the number of iterations.\n",
      "  warnings.warn(\n"
     ]
    },
    {
     "name": "stdout",
     "output_type": "stream",
     "text": [
      "Model Number: 6 with model DatepartRegression in generation 0 of 20\n"
     ]
    },
    {
     "name": "stderr",
     "output_type": "stream",
     "text": [
      "c:\\Users\\Lenovo\\AppData\\Local\\Programs\\Python\\Python312\\Lib\\site-packages\\sklearn\\neural_network\\_multilayer_perceptron.py:545: ConvergenceWarning: lbfgs failed to converge (status=1):\n",
      "STOP: TOTAL NO. of ITERATIONS REACHED LIMIT.\n",
      "\n",
      "Increase the number of iterations (max_iter) or scale the data as shown in:\n",
      "    https://scikit-learn.org/stable/modules/preprocessing.html\n",
      "  self.n_iter_ = _check_optimize_result(\"lbfgs\", opt_res, self.max_iter)\n"
     ]
    },
    {
     "name": "stdout",
     "output_type": "stream",
     "text": [
      "Model Number: 7 with model DatepartRegression in generation 0 of 20\n",
      "Template Eval Error: ImportError('Tensorflow not available, install with pip install tensorflow.') in model 7 in generation 0: DatepartRegression\n",
      "Model Number: 8 with model ETS in generation 0 of 20\n",
      "Model Number: 9 with model ETS in generation 0 of 20\n",
      "Model Number: 10 with model GLM in generation 0 of 20\n",
      "Model Number: 11 with model GLM in generation 0 of 20\n",
      "Model Number: 12 with model GLS in generation 0 of 20\n",
      "Model Number: 13 with model GLS in generation 0 of 20\n",
      "Model Number: 14 with model LastValueNaive in generation 0 of 20\n",
      "Model Number: 15 with model LastValueNaive in generation 0 of 20\n",
      "Model Number: 16 with model LastValueNaive in generation 0 of 20\n",
      "Model Number: 17 with model LastValueNaive in generation 0 of 20\n",
      "Model Number: 18 with model SeasonalNaive in generation 0 of 20\n",
      "Model Number: 19 with model SeasonalNaive in generation 0 of 20\n",
      "Model Number: 20 with model SeasonalNaive in generation 0 of 20\n",
      "Model Number: 21 with model VAR in generation 0 of 20\n",
      "Template Eval Error: ValueError('maxlags is too large for the number of observations and the number of equations. The largest model cannot be estimated.') in model 21 in generation 0: VAR\n",
      "Model Number: 22 with model VAR in generation 0 of 20\n",
      "Template Eval Error: ValueError('maxlags is too large for the number of observations and the number of equations. The largest model cannot be estimated.') in model 22 in generation 0: VAR\n",
      "Model Number: 23 with model VECM in generation 0 of 20\n",
      "Template Eval Error: UFuncTypeError(<ufunc 'add'>, 'same_kind', dtype('complex128'), dtype('float64'), 2) in model 23 in generation 0: VECM\n",
      "Model Number: 24 with model VECM in generation 0 of 20\n"
     ]
    },
    {
     "name": "stderr",
     "output_type": "stream",
     "text": [
      "c:\\Users\\Lenovo\\AppData\\Local\\Programs\\Python\\Python312\\Lib\\site-packages\\statsmodels\\tsa\\vector_ar\\vecm.py:1710: ComplexWarning: Casting complex values to real discards the imaginary part\n",
      "  A[0] = pi + np.identity(K)\n"
     ]
    },
    {
     "name": "stdout",
     "output_type": "stream",
     "text": [
      "Model Number: 25 with model WindowRegression in generation 0 of 20\n",
      "Model Number: 26 with model ConstantNaive in generation 0 of 20\n",
      "Model Number: 27 with model DatepartRegression in generation 0 of 20\n",
      "Template Eval Error: ValueError(\"regression_type='User' but no future_regressor passed\") in model 27 in generation 0: DatepartRegression\n",
      "Model Number: 28 with model SeasonalNaive in generation 0 of 20\n"
     ]
    },
    {
     "name": "stderr",
     "output_type": "stream",
     "text": [
      "c:\\Users\\Lenovo\\AppData\\Local\\Programs\\Python\\Python312\\Lib\\site-packages\\sklearn\\neural_network\\_multilayer_perceptron.py:545: ConvergenceWarning: lbfgs failed to converge (status=1):\n",
      "STOP: TOTAL NO. of ITERATIONS REACHED LIMIT.\n",
      "\n",
      "Increase the number of iterations (max_iter) or scale the data as shown in:\n",
      "    https://scikit-learn.org/stable/modules/preprocessing.html\n",
      "  self.n_iter_ = _check_optimize_result(\"lbfgs\", opt_res, self.max_iter)\n"
     ]
    },
    {
     "name": "stdout",
     "output_type": "stream",
     "text": [
      "Model Number: 29 with model DatepartRegression in generation 0 of 20\n",
      "Model Number: 30 with model ETS in generation 0 of 20\n",
      "Model Number: 31 with model VECM in generation 0 of 20\n",
      "Model Number: 32 with model UnivariateMotif in generation 0 of 20\n",
      "Template Eval Error: ValueError('window shape cannot be larger than input array shape') in model 32 in generation 0: UnivariateMotif\n",
      "Model Number: 33 with model UnivariateMotif in generation 0 of 20\n",
      "Template Eval Error: ValueError('kth(=5) out of bounds (5)') in model 33 in generation 0: UnivariateMotif\n",
      "Model Number: 34 with model SectionalMotif in generation 0 of 20\n",
      "Template Eval Error: ValueError('kth(=20) out of bounds (9)') in model 34 in generation 0: SectionalMotif\n",
      "Model Number: 35 with model SectionalMotif in generation 0 of 20\n",
      "Model Number: 36 with model SeasonalNaive in generation 0 of 20\n",
      "Model Number: 37 with model DatepartRegression in generation 0 of 20\n",
      "Model Number: 38 with model NVAR in generation 0 of 20\n",
      "Model Number: 39 with model Cassandra in generation 0 of 20\n",
      "Template Eval Error: ValueError('negative dimensions are not allowed') in model 39 in generation 0: Cassandra\n",
      "Model Number: 40 with model SeasonalityMotif in generation 0 of 20\n"
     ]
    },
    {
     "name": "stderr",
     "output_type": "stream",
     "text": [
      "c:\\Users\\Lenovo\\AppData\\Local\\Programs\\Python\\Python312\\Lib\\site-packages\\numpy\\lib\\function_base.py:2897: RuntimeWarning: invalid value encountered in divide\n",
      "  c /= stddev[:, None]\n",
      "c:\\Users\\Lenovo\\AppData\\Local\\Programs\\Python\\Python312\\Lib\\site-packages\\numpy\\lib\\function_base.py:2898: RuntimeWarning: invalid value encountered in divide\n",
      "  c /= stddev[None, :]\n",
      "c:\\Users\\Lenovo\\AppData\\Local\\Programs\\Python\\Python312\\Lib\\site-packages\\autots\\tools\\transform.py:5608: FutureWarning: Downcasting object dtype arrays on .fillna, .ffill, .bfill is deprecated and will change in a future version. Call result.infer_objects(copy=False) instead. To opt-in to the future behavior, set `pd.set_option('future.no_silent_downcasting', True)`\n",
      "  df = df.fillna(0)\n",
      "c:\\Users\\Lenovo\\AppData\\Local\\Programs\\Python\\Python312\\Lib\\site-packages\\autots\\tools\\transform.py:5608: FutureWarning: Downcasting object dtype arrays on .fillna, .ffill, .bfill is deprecated and will change in a future version. Call result.infer_objects(copy=False) instead. To opt-in to the future behavior, set `pd.set_option('future.no_silent_downcasting', True)`\n",
      "  df = df.fillna(0)\n"
     ]
    },
    {
     "name": "stdout",
     "output_type": "stream",
     "text": [
      "Model Number: 41 with model Cassandra in generation 0 of 20\n"
     ]
    },
    {
     "name": "stderr",
     "output_type": "stream",
     "text": [
      "c:\\Users\\Lenovo\\AppData\\Local\\Programs\\Python\\Python312\\Lib\\site-packages\\numpy\\lib\\function_base.py:2897: RuntimeWarning: invalid value encountered in divide\n",
      "  c /= stddev[:, None]\n",
      "c:\\Users\\Lenovo\\AppData\\Local\\Programs\\Python\\Python312\\Lib\\site-packages\\numpy\\lib\\function_base.py:2898: RuntimeWarning: invalid value encountered in divide\n",
      "  c /= stddev[None, :]\n"
     ]
    },
    {
     "name": "stdout",
     "output_type": "stream",
     "text": [
      "Model Number: 42 with model Cassandra in generation 0 of 20\n",
      "Template Eval Error: Exception(\"Transformer DatepartRegression failed on fit from params pad {'0': {'span': 7}, '1': {'window_size': 7, 'alpha': 2.0, 'grouping_forward_limit': 2, 'max_level_shifts': 5, 'alignment': 'average'}, '2': {}, '3': {'regression_model': {'model': 'ElasticNet', 'model_params': {}}, 'datepart_method': 'recurring', 'polynomial_degree': None, 'transform_dict': {'fillna': None, 'transformations': {'0': 'ScipyFilter'}, 'transformation_params': {'0': {'method': 'savgol_filter', 'method_args': {'window_length': 31, 'polyorder': 3, 'deriv': 0, 'mode': 'interp'}}}}, 'holiday_countries_used': False}}\") in model 42 in generation 0: Cassandra\n",
      "Model Number: 43 with model Cassandra in generation 0 of 20\n",
      "Model Number: 44 with model NVAR in generation 0 of 20\n",
      "Model Number: 45 with model BallTreeMultivariateMotif in generation 0 of 20\n",
      "Template Eval Error: ValueError('negative dimensions are not allowed') in model 45 in generation 0: BallTreeMultivariateMotif\n",
      "Model Number: 46 with model SectionalMotif in generation 0 of 20\n",
      "Model Number: 47 with model FFT in generation 0 of 20\n",
      "Model Number: 48 with model ConstantNaive in generation 0 of 20\n",
      "Model Number: 49 with model LastValueNaive in generation 0 of 20\n",
      "Model Number: 50 with model AverageValueNaive in generation 0 of 20\n",
      "Model Number: 51 with model GLS in generation 0 of 20\n",
      "Model Number: 52 with model SeasonalNaive in generation 0 of 20\n",
      "Model Number: 53 with model GLM in generation 0 of 20\n",
      "Template Eval Error: UnboundLocalError(\"cannot access local variable 'Xf' where it is not associated with a value\") in model 53 in generation 0: GLM\n",
      "Model Number: 54 with model ETS in generation 0 of 20\n"
     ]
    },
    {
     "name": "stderr",
     "output_type": "stream",
     "text": [
      "c:\\Users\\Lenovo\\AppData\\Local\\Programs\\Python\\Python312\\Lib\\site-packages\\autots\\tools\\transform.py:5608: FutureWarning: Downcasting object dtype arrays on .fillna, .ffill, .bfill is deprecated and will change in a future version. Call result.infer_objects(copy=False) instead. To opt-in to the future behavior, set `pd.set_option('future.no_silent_downcasting', True)`\n",
      "  df = df.fillna(0)\n",
      "c:\\Users\\Lenovo\\AppData\\Local\\Programs\\Python\\Python312\\Lib\\site-packages\\autots\\tools\\transform.py:5608: FutureWarning: Downcasting object dtype arrays on .fillna, .ffill, .bfill is deprecated and will change in a future version. Call result.infer_objects(copy=False) instead. To opt-in to the future behavior, set `pd.set_option('future.no_silent_downcasting', True)`\n",
      "  df = df.fillna(0)\n"
     ]
    },
    {
     "name": "stdout",
     "output_type": "stream",
     "text": [
      "Model Number: 55 with model VAR in generation 0 of 20\n",
      "Template Eval Error: LinAlgError('9-th leading minor of the array is not positive definite') in model 55 in generation 0: VAR\n",
      "Model Number: 56 with model VECM in generation 0 of 20\n",
      "Model Number: 57 with model WindowRegression in generation 0 of 20\n",
      "Template Eval Error: ModuleNotFoundError(\"No module named 'xgboost'\") in model 57 in generation 0: WindowRegression\n",
      "Model Number: 58 with model DatepartRegression in generation 0 of 20\n",
      "Template Eval Error: Exception(\"Transformer AlignLastValue failed on fit from params ffill_mean_biased {'0': {'rows': 5}, '1': {'rows': 1, 'lag': 28, 'method': 'additive', 'strength': 1.0, 'first_value_only': False, 'threshold': 1, 'threshold_method': 'max'}, '2': {'n_harmonics': None, 'detrend': 'linear'}, '3': {'lag_1': 12, 'method': 'LastValue'}, '4': {}}\") in model 58 in generation 0: DatepartRegression\n",
      "Model Number: 59 with model UnivariateMotif in generation 0 of 20\n",
      "Template Eval Error: ValueError('window shape cannot be larger than input array shape') in model 59 in generation 0: UnivariateMotif\n",
      "Model Number: 60 with model SectionalMotif in generation 0 of 20\n",
      "Model Number: 61 with model NVAR in generation 0 of 20\n",
      "Template Eval Error: Exception(\"Transformer AlignLastValue failed on fit from params akima {'0': {}, '1': {'rows': 1, 'lag': 28, 'method': 'additive', 'strength': 0.7, 'first_value_only': False, 'threshold': 10, 'threshold_method': 'mean'}, '2': {'window_size': 90, 'alpha': 2.5, 'grouping_forward_limit': 4, 'max_level_shifts': 5, 'alignment': 'average'}, '3': {'rows': 1, 'lag': 1, 'method': 'additive', 'strength': 1.0, 'first_value_only': True, 'threshold': 10, 'threshold_method': 'mean'}, '4': {'fixed': False, 'window': 3, 'macro_micro': False, 'center': True}}\") in model 61 in generation 0: NVAR\n",
      "Model Number: 62 with model MAR in generation 0 of 20\n",
      "Model Number: 63 with model RRVAR in generation 0 of 20\n",
      "Model Number: 64 with model KalmanStateSpace in generation 0 of 20\n",
      "Model Number: 65 with model MetricMotif in generation 0 of 20\n",
      "Model Number: 66 with model Cassandra in generation 0 of 20\n",
      "Template Eval Error: ValueError('negative dimensions are not allowed') in model 66 in generation 0: Cassandra\n",
      "Model Number: 67 with model SeasonalityMotif in generation 0 of 20\n",
      "Model Number: 68 with model FFT in generation 0 of 20\n",
      "Template Eval Error: Exception(\"Transformer Detrend failed on fit from params ffill {'0': {'method': 'clip', 'std_threshold': 2, 'fillna': None}, '1': {'model': 'GLS', 'phi': 1, 'window': None, 'transform_dict': {'fillna': None, 'transformations': {'0': 'ScipyFilter'}, 'transformation_params': {'0': {'method': 'savgol_filter', 'method_args': {'window_length': 31, 'polyorder': 3, 'deriv': 0, 'mode': 'interp'}}}}}, '2': {'decimals': 1, 'on_transform': True, 'on_inverse': False}, '3': {'rows': 1, 'lag': 7, 'method': 'additive', 'strength': 1.0, 'first_value_only': True, 'threshold': None, 'threshold_method': 'max'}}\") in model 68 in generation 0: FFT\n",
      "Model Number: 69 with model BallTreeMultivariateMotif in generation 0 of 20\n",
      "Template Eval Error: TypeError('1D weights expected when shapes of a and weights differ.') in model 69 in generation 0: BallTreeMultivariateMotif\n",
      "Model Number: 70 with model MetricMotif in generation 0 of 20\n",
      "Model Number: 71 with model LastValueNaive in generation 0 of 20\n",
      "Model Number: 72 with model VECM in generation 0 of 20\n",
      "Template Eval Error: ValueError(\"regression_type='User' but no future_regressor supplied\") in model 72 in generation 0: VECM\n",
      "Model Number: 73 with model SectionalMotif in generation 0 of 20\n",
      "Template Eval Error: Exception(\"Transformer AlignLastValue failed on fit from params time {'0': {}, '1': {'rows': 1, 'lag': 28, 'method': 'additive', 'strength': 1.0, 'first_value_only': False, 'threshold': None, 'threshold_method': 'max'}, '2': {}}\") in model 73 in generation 0: SectionalMotif\n",
      "Model Number: 74 with model GLS in generation 0 of 20\n",
      "Model Number: 75 with model Cassandra in generation 0 of 20\n",
      "Model Number: 76 with model MetricMotif in generation 0 of 20\n",
      "Model Number: 77 with model AverageValueNaive in generation 0 of 20\n",
      "Model Number: 78 with model GLS in generation 0 of 20\n",
      "Model Number: 79 with model BallTreeMultivariateMotif in generation 0 of 20\n",
      "Template Eval Error: ValueError('negative dimensions are not allowed') in model 79 in generation 0: BallTreeMultivariateMotif\n",
      "Model Number: 80 with model ETS in generation 0 of 20\n",
      "Model Number: 81 with model VAR in generation 0 of 20\n",
      "Template Eval Error: ValueError('maxlags is too large for the number of observations and the number of equations. The largest model cannot be estimated.') in model 81 in generation 0: VAR\n",
      "Model Number: 82 with model SeasonalNaive in generation 0 of 20\n",
      "Model Number: 83 with model BallTreeMultivariateMotif in generation 0 of 20\n",
      "Model Number: 84 with model UnivariateMotif in generation 0 of 20\n",
      "Template Eval Error: ValueError('kth(=10) out of bounds (9)') in model 84 in generation 0: UnivariateMotif\n",
      "Model Number: 85 with model KalmanStateSpace in generation 0 of 20\n",
      "Model Number: 86 with model RRVAR in generation 0 of 20\n",
      "Model Number: 87 with model Cassandra in generation 0 of 20\n"
     ]
    },
    {
     "name": "stderr",
     "output_type": "stream",
     "text": [
      "c:\\Users\\Lenovo\\AppData\\Local\\Programs\\Python\\Python312\\Lib\\site-packages\\sklearn\\linear_model\\_ridge.py:255: UserWarning: Singular matrix in solving dual problem. Using least-squares solution instead.\n",
      "  warnings.warn(\n",
      "c:\\Users\\Lenovo\\AppData\\Local\\Programs\\Python\\Python312\\Lib\\site-packages\\autots\\tools\\anomaly_utils.py:1115: FutureWarning: Downcasting object dtype arrays on .fillna, .ffill, .bfill is deprecated and will change in a future version. Call result.infer_objects(copy=False) instead. To opt-in to the future behavior, set `pd.set_option('future.no_silent_downcasting', True)`\n",
      "  result = result + temp.where(temp.isnull(), 1).fillna(0)\n"
     ]
    },
    {
     "name": "stdout",
     "output_type": "stream",
     "text": [
      "Template Eval Error: ValueError('negative dimensions are not allowed') in model 87 in generation 0: Cassandra\n",
      "Model Number: 88 with model ETS in generation 0 of 20\n",
      "Model Number: 89 with model GLM in generation 0 of 20\n",
      "Template Eval Error: ValueError('regression_type=user and no future_regressor passed') in model 89 in generation 0: GLM\n",
      "Model Number: 90 with model Cassandra in generation 0 of 20\n"
     ]
    },
    {
     "name": "stderr",
     "output_type": "stream",
     "text": [
      "c:\\Users\\Lenovo\\AppData\\Local\\Programs\\Python\\Python312\\Lib\\site-packages\\numpy\\lib\\function_base.py:2897: RuntimeWarning: invalid value encountered in divide\n",
      "  c /= stddev[:, None]\n",
      "c:\\Users\\Lenovo\\AppData\\Local\\Programs\\Python\\Python312\\Lib\\site-packages\\numpy\\lib\\function_base.py:2898: RuntimeWarning: invalid value encountered in divide\n",
      "  c /= stddev[None, :]\n"
     ]
    },
    {
     "name": "stdout",
     "output_type": "stream",
     "text": [
      "Model Number: 91 with model SectionalMotif in generation 0 of 20\n",
      "Template Eval Error: ValueError('Model SectionalMotif returned NaN for one or more series. fail_on_forecast_nan=True') in model 91 in generation 0: SectionalMotif\n",
      "Model Number: 92 with model MAR in generation 0 of 20\n"
     ]
    },
    {
     "name": "stderr",
     "output_type": "stream",
     "text": [
      "c:\\Users\\Lenovo\\AppData\\Local\\Programs\\Python\\Python312\\Lib\\site-packages\\numpy\\lib\\function_base.py:553: RuntimeWarning: invalid value encountered in divide\n",
      "  avg = avg_as_array = np.multiply(a, wgt,\n"
     ]
    },
    {
     "name": "stdout",
     "output_type": "stream",
     "text": [
      "Model Number: 93 with model WindowRegression in generation 0 of 20\n",
      "Template Eval Error: ValueError(\"regression_type='User' but no future_regressor passed\") in model 93 in generation 0: WindowRegression\n",
      "Model Number: 94 with model BallTreeMultivariateMotif in generation 0 of 20\n",
      "Model Number: 95 with model SeasonalityMotif in generation 0 of 20\n",
      "Model Number: 96 with model AverageValueNaive in generation 0 of 20\n",
      "Model Number: 97 with model UnivariateMotif in generation 0 of 20\n",
      "Model Number: 98 with model MetricMotif in generation 0 of 20\n",
      "Model Number: 99 with model GLM in generation 0 of 20\n",
      "Template Eval Error: ValueError('The first guess on the deviance function returned a nan.  This could be a boundary  problem and should be reported.') in model 99 in generation 0: GLM\n",
      "Model Number: 100 with model VAR in generation 0 of 20\n",
      "Template Eval Error: ValueError('maxlags is too large for the number of observations and the number of equations. The largest model cannot be estimated.') in model 100 in generation 0: VAR\n",
      "Model Number: 101 with model MetricMotif in generation 0 of 20\n",
      "Template Eval Error: ValueError('kth(=99) out of bounds (9)') in model 101 in generation 0: MetricMotif\n",
      "Model Number: 102 with model BallTreeMultivariateMotif in generation 0 of 20\n",
      "Model Number: 103 with model UnivariateMotif in generation 0 of 20\n",
      "Model Number: 104 with model LastValueNaive in generation 0 of 20\n",
      "Model Number: 105 with model ConstantNaive in generation 0 of 20\n"
     ]
    },
    {
     "name": "stderr",
     "output_type": "stream",
     "text": [
      "c:\\Users\\Lenovo\\AppData\\Local\\Programs\\Python\\Python312\\Lib\\site-packages\\statsmodels\\genmod\\families\\family.py:1367: ValueWarning: Negative binomial dispersion parameter alpha not set. Using default value alpha=1.0.\n",
      "  warnings.warn(\"Negative binomial dispersion parameter alpha not \"\n",
      "c:\\Users\\Lenovo\\AppData\\Local\\Programs\\Python\\Python312\\Lib\\site-packages\\statsmodels\\genmod\\families\\family.py:1406: RuntimeWarning: invalid value encountered in log\n",
      "  resid_dev -= endog_alpha * np.log(endog_alpha / mu_alpha)\n"
     ]
    },
    {
     "name": "stdout",
     "output_type": "stream",
     "text": [
      "Model Number: 106 with model SeasonalityMotif in generation 0 of 20\n",
      "Template Eval Error: ValueError('kth(=99) out of bounds (21)') in model 106 in generation 0: SeasonalityMotif\n",
      "Model Number: 107 with model DatepartRegression in generation 0 of 20\n",
      "Model Number: 108 with model ConstantNaive in generation 0 of 20\n",
      "Model Number: 109 with model VAR in generation 0 of 20\n",
      "Template Eval Error: ValueError('maxlags is too large for the number of observations and the number of equations. The largest model cannot be estimated.') in model 109 in generation 0: VAR\n",
      "Model Number: 110 with model LastValueNaive in generation 0 of 20\n",
      "Model Number: 111 with model AverageValueNaive in generation 0 of 20\n",
      "Model Number: 112 with model FFT in generation 0 of 20\n"
     ]
    },
    {
     "name": "stderr",
     "output_type": "stream",
     "text": [
      "c:\\Users\\Lenovo\\AppData\\Local\\Programs\\Python\\Python312\\Lib\\site-packages\\sklearn\\linear_model\\_coordinate_descent.py:2639: ConvergenceWarning: Objective did not converge. You might want to increase the number of iterations. Duality gap: 6377631.5, tolerance: 1784.2109375\n",
      "  ) = cd_fast.enet_coordinate_descent_multi_task(\n"
     ]
    },
    {
     "name": "stdout",
     "output_type": "stream",
     "text": [
      "Model Number: 113 with model AverageValueNaive in generation 0 of 20\n",
      "Model Number: 114 with model BallTreeMultivariateMotif in generation 0 of 20\n",
      "Model Number: 115 with model SeasonalityMotif in generation 0 of 20\n",
      "Model Number: 116 with model SectionalMotif in generation 0 of 20\n",
      "Template Eval Error: ValueError('kth(=10) out of bounds (9)') in model 116 in generation 0: SectionalMotif\n",
      "Model Number: 117 with model WindowRegression in generation 0 of 20\n",
      "Template Eval Error: ValueError(\"regression_type='User' but no future_regressor passed\") in model 117 in generation 0: WindowRegression\n",
      "Model Number: 118 with model ConstantNaive in generation 0 of 20\n",
      "Model Number: 119 with model SeasonalNaive in generation 0 of 20\n",
      "Model Number: 120 with model LastValueNaive in generation 0 of 20\n"
     ]
    },
    {
     "name": "stderr",
     "output_type": "stream",
     "text": [
      "c:\\Users\\Lenovo\\AppData\\Local\\Programs\\Python\\Python312\\Lib\\site-packages\\autots\\tools\\transform.py:5608: FutureWarning: Downcasting object dtype arrays on .fillna, .ffill, .bfill is deprecated and will change in a future version. Call result.infer_objects(copy=False) instead. To opt-in to the future behavior, set `pd.set_option('future.no_silent_downcasting', True)`\n",
      "  df = df.fillna(0)\n",
      "c:\\Users\\Lenovo\\AppData\\Local\\Programs\\Python\\Python312\\Lib\\site-packages\\autots\\tools\\transform.py:5608: FutureWarning: Downcasting object dtype arrays on .fillna, .ffill, .bfill is deprecated and will change in a future version. Call result.infer_objects(copy=False) instead. To opt-in to the future behavior, set `pd.set_option('future.no_silent_downcasting', True)`\n",
      "  df = df.fillna(0)\n"
     ]
    },
    {
     "name": "stdout",
     "output_type": "stream",
     "text": [
      "Model Number: 121 with model RRVAR in generation 0 of 20\n",
      "Model Number: 122 with model GLS in generation 0 of 20\n",
      "Model Number: 123 with model SeasonalNaive in generation 0 of 20\n",
      "Model Number: 124 with model MAR in generation 0 of 20\n",
      "Template Eval Error: Exception(\"Transformer Detrend failed on fit from params pchip {'0': {'method': 'clip', 'std_threshold': 5, 'fillna': None}, '1': {'model': 'Linear', 'phi': 0.999, 'window': 900, 'transform_dict': {'fillna': None, 'transformations': {'0': 'ScipyFilter'}, 'transformation_params': {'0': {'method': 'savgol_filter', 'method_args': {'window_length': 31, 'polyorder': 3, 'deriv': 0, 'mode': 'interp'}}}}}}\") in model 124 in generation 0: MAR\n",
      "Model Number: 125 with model WindowRegression in generation 0 of 20\n",
      "Template Eval Error: ModuleNotFoundError(\"No module named 'xgboost'\") in model 125 in generation 0: WindowRegression\n",
      "Model Number: 126 with model ConstantNaive in generation 0 of 20\n",
      "Model Number: 127 with model VECM in generation 0 of 20\n",
      "Model Number: 128 with model UnivariateMotif in generation 0 of 20\n",
      "Model Number: 129 with model WindowRegression in generation 0 of 20\n",
      "Template Eval Error: ValueError(\"regression_type='User' but no future_regressor passed\") in model 129 in generation 0: WindowRegression\n",
      "Model Number: 130 with model SectionalMotif in generation 0 of 20\n",
      "Template Eval Error: Exception(\"Transformer STLFilter failed on fit from params rolling_mean_24 {'0': {'method': 'clip', 'std_threshold': 5, 'fillna': None}, '1': {}, '2': {'rows': 1, 'lag': 1, 'method': 'additive', 'strength': 0.7, 'first_value_only': False, 'threshold': 1, 'threshold_method': 'max'}, '3': {}, '4': {}, '5': {'decomp_type': 'seasonal_decompose', 'part': 'trend'}}\") in model 130 in generation 0: SectionalMotif\n",
      "Model Number: 131 with model UnivariateMotif in generation 0 of 20\n",
      "Template Eval Error: IndexError('index 9 is out of bounds for axis 0 with size 9') in model 131 in generation 0: UnivariateMotif\n",
      "Model Number: 132 with model SeasonalNaive in generation 0 of 20\n",
      "Model Number: 133 with model KalmanStateSpace in generation 0 of 20\n",
      "Model Number: 134 with model VECM in generation 0 of 20\n",
      "Model Number: 135 with model LastValueNaive in generation 0 of 20\n",
      "Model Number: 136 with model DatepartRegression in generation 0 of 20\n",
      "Model Number: 137 with model GLS in generation 0 of 20\n",
      "Model Number: 138 with model ConstantNaive in generation 0 of 20\n",
      "Model Number: 139 with model MetricMotif in generation 0 of 20\n",
      "Template Eval Error: ValueError('cannot reshape array of size 378 into shape (3,9,15)') in model 139 in generation 0: MetricMotif\n",
      "Model Number: 140 with model UnivariateMotif in generation 0 of 20\n",
      "Template Eval Error: ValueError('kth(=10) out of bounds (5)') in model 140 in generation 0: UnivariateMotif\n",
      "Model Number: 141 with model Cassandra in generation 0 of 20\n",
      "Template Eval Error: Exception(\"Transformer ScipyFilter failed on fit from params quadratic {'0': {}, '1': {'lag': 1, 'fill': 'bfill'}, '2': {'window_size': 90, 'alpha': 2.5, 'grouping_forward_limit': 4, 'max_level_shifts': 5, 'alignment': 'average'}, '3': {'fixed': True, 'window': 90, 'macro_micro': False, 'center': True}, '4': {'method': 'butter', 'method_args': {'N': 8, 'btype': 'highpass', 'analog': False, 'output': 'sos', 'Wn': 0.14285714285714285}}, '5': {'rows': 4, 'lag': 1, 'method': 'additive', 'strength': 1.0, 'first_value_only': True, 'threshold': 10, 'threshold_method': 'mean'}}\") in model 141 in generation 0: Cassandra\n",
      "Model Number: 142 with model LastValueNaive in generation 0 of 20\n",
      "Template Eval Error: Exception(\"Transformer PCA failed on fit from params fake_date {'0': {'whiten': False, 'n_components': 10}, '1': {'rows': 7, 'lag': 1, 'method': 'additive', 'strength': 1.0, 'first_value_only': False, 'threshold': 1, 'threshold_method': 'mean'}, '2': {'regression_model': {'model': 'ElasticNet', 'model_params': {'l1_ratio': 0.1, 'fit_intercept': True, 'selection': 'random'}}, 'datepart_method': 'simple_2', 'polynomial_degree': None, 'transform_dict': None, 'holiday_countries_used': False, 'lags': None, 'forward_lags': None}, '3': {}, '4': {'rows': 1, 'lag': 2, 'method': 'additive', 'strength': 0.7, 'first_value_only': False, 'threshold': None, 'threshold_method': 'max'}, '5': {'method': 'mad', 'method_params': {'distribution': 'norm', 'alpha': 0.03}, 'fillna': 'ffill', 'transform_dict': None, 'isolated_only': False}}\") in model 142 in generation 0: LastValueNaive\n",
      "Model Number: 143 with model GLM in generation 0 of 20\n",
      "Template Eval Error: UnboundLocalError(\"cannot access local variable 'Xf' where it is not associated with a value\") in model 143 in generation 0: GLM\n",
      "Model Number: 144 with model UnivariateMotif in generation 0 of 20\n",
      "Model Number: 145 with model KalmanStateSpace in generation 0 of 20\n",
      "Model Number: 146 with model LastValueNaive in generation 0 of 20\n",
      "Model Number: 147 with model AverageValueNaive in generation 0 of 20\n",
      "Model Number: 148 with model WindowRegression in generation 0 of 20\n",
      "Model Number: 149 with model NVAR in generation 0 of 20\n",
      "Model Number: 150 with model ETS in generation 0 of 20\n",
      "Model Number: 151 with model GLM in generation 0 of 20\n",
      "Template Eval Error: UnboundLocalError(\"cannot access local variable 'Xf' where it is not associated with a value\") in model 151 in generation 0: GLM\n",
      "Model Number: 152 with model ConstantNaive in generation 0 of 20\n",
      "Model Number: 153 with model AverageValueNaive in generation 0 of 20\n",
      "Model Number: 154 with model GLM in generation 0 of 20\n"
     ]
    },
    {
     "name": "stderr",
     "output_type": "stream",
     "text": [
      "c:\\Users\\Lenovo\\AppData\\Local\\Programs\\Python\\Python312\\Lib\\site-packages\\statsmodels\\genmod\\families\\family.py:1650: RuntimeWarning: invalid value encountered in log\n",
      "  endog * np.log(endog / mu) + (mu - endog))\n"
     ]
    },
    {
     "name": "stdout",
     "output_type": "stream",
     "text": [
      "Model Number: 155 with model DatepartRegression in generation 0 of 20\n",
      "Template Eval Error: ValueError(\"regression_type='User' but no future_regressor passed\") in model 155 in generation 0: DatepartRegression\n",
      "Model Number: 156 with model VECM in generation 0 of 20\n",
      "Model Number: 157 with model ConstantNaive in generation 0 of 20\n",
      "Template Eval Error: Exception(\"Transformer AlignLastValue failed on fit from params mean {'0': {}, '1': {'lag_1': 12, 'method': 'LastValue'}, '2': {'discretization': 'center', 'n_bins': 10}, '3': {'rows': 1, 'lag': 28, 'method': 'additive', 'strength': 1.0, 'first_value_only': False, 'threshold': None, 'threshold_method': 'mean'}, '4': {'lag_1': 12, 'method': 2}, '5': {'rows': 1, 'lag': 1, 'method': 'additive', 'strength': 1.0, 'first_value_only': True, 'threshold': None, 'threshold_method': 'max'}}\") in model 157 in generation 0: ConstantNaive\n",
      "New Generation: 1 of 20\n",
      "Model Number: 158 with model AverageValueNaive in generation 1 of 20\n",
      "Model Number: 159 with model SeasonalityMotif in generation 1 of 20\n",
      "Model Number: 160 with model SeasonalNaive in generation 1 of 20\n",
      "Model Number: 161 with model GLS in generation 1 of 20\n",
      "Model Number: 162 with model SectionalMotif in generation 1 of 20\n",
      "Template Eval Error: ValueError('kth(=10) out of bounds (5)') in model 162 in generation 1: SectionalMotif\n",
      "Model Number: 163 with model SeasonalNaive in generation 1 of 20\n",
      "Model Number: 164 with model GLM in generation 1 of 20\n",
      "Template Eval Error: Exception(\"Transformer PCA failed on fit from params time {'0': {'n_harmonics': 10, 'detrend': None}, '1': {'whiten': False, 'n_components': 100}, '2': {'window_size': 7, 'alpha': 4.0, 'grouping_forward_limit': 3, 'max_level_shifts': 10, 'alignment': 'rolling_diff_3nn'}, '3': {'lag_1': 12, 'method': 'LastValue'}}\") in model 164 in generation 1: GLM\n",
      "Model Number: 165 with model SeasonalNaive in generation 1 of 20\n",
      "Model Number: 166 with model UnivariateMotif in generation 1 of 20\n",
      "Model Number: 167 with model MetricMotif in generation 1 of 20\n",
      "Model Number: 168 with model KalmanStateSpace in generation 1 of 20\n",
      "Model Number: 169 with model LastValueNaive in generation 1 of 20\n",
      "Model Number: 170 with model AverageValueNaive in generation 1 of 20\n",
      "Template Eval Error: Exception(\"Transformer ScipyFilter failed on fit from params ffill {'0': {'lag': 1, 'fill': 'zero'}, '1': {'method': 'butter', 'method_args': {'N': 7, 'btype': 'lowpass', 'analog': False, 'output': 'sos', 'Wn': 0.14285714285714285}}, '2': {'rows': 1, 'lag': 2, 'method': 'additive', 'strength': 1.0, 'first_value_only': False, 'threshold': None, 'threshold_method': 'max'}}\") in model 170 in generation 1: AverageValueNaive\n",
      "Model Number: 171 with model GLM in generation 1 of 20\n",
      "Model Number: 172 with model AverageValueNaive in generation 1 of 20\n",
      "Model Number: 173 with model ConstantNaive in generation 1 of 20\n",
      "Model Number: 174 with model DatepartRegression in generation 1 of 20\n",
      "Template Eval Error: ModuleNotFoundError(\"No module named 'tensorflow'\") in model 174 in generation 1: DatepartRegression\n",
      "Model Number: 175 with model FFT in generation 1 of 20\n",
      "Model Number: 176 with model ConstantNaive in generation 1 of 20\n",
      "Model Number: 177 with model DatepartRegression in generation 1 of 20\n"
     ]
    },
    {
     "name": "stderr",
     "output_type": "stream",
     "text": [
      "c:\\Users\\Lenovo\\AppData\\Local\\Programs\\Python\\Python312\\Lib\\site-packages\\autots\\tools\\transform.py:5608: FutureWarning: Downcasting object dtype arrays on .fillna, .ffill, .bfill is deprecated and will change in a future version. Call result.infer_objects(copy=False) instead. To opt-in to the future behavior, set `pd.set_option('future.no_silent_downcasting', True)`\n",
      "  df = df.fillna(0)\n",
      "c:\\Users\\Lenovo\\AppData\\Local\\Programs\\Python\\Python312\\Lib\\site-packages\\autots\\tools\\transform.py:5608: FutureWarning: Downcasting object dtype arrays on .fillna, .ffill, .bfill is deprecated and will change in a future version. Call result.infer_objects(copy=False) instead. To opt-in to the future behavior, set `pd.set_option('future.no_silent_downcasting', True)`\n",
      "  df = df.fillna(0)\n",
      "c:\\Users\\Lenovo\\AppData\\Local\\Programs\\Python\\Python312\\Lib\\site-packages\\sklearn\\linear_model\\_coordinate_descent.py:2639: ConvergenceWarning: Objective did not converge. You might want to increase the number of iterations. Duality gap: 467.07733154296875, tolerance: 0.21577061712741852\n",
      "  ) = cd_fast.enet_coordinate_descent_multi_task(\n"
     ]
    },
    {
     "name": "stdout",
     "output_type": "stream",
     "text": [
      "Model Number: 178 with model SeasonalityMotif in generation 1 of 20\n",
      "Model Number: 179 with model KalmanStateSpace in generation 1 of 20\n",
      "Model Number: 180 with model LastValueNaive in generation 1 of 20\n",
      "Model Number: 181 with model FFT in generation 1 of 20\n",
      "Model Number: 182 with model Cassandra in generation 1 of 20\n",
      "Template Eval Error: ValueError('negative dimensions are not allowed') in model 182 in generation 1: Cassandra\n",
      "Model Number: 183 with model LastValueNaive in generation 1 of 20\n"
     ]
    },
    {
     "name": "stderr",
     "output_type": "stream",
     "text": [
      "c:\\Users\\Lenovo\\AppData\\Local\\Programs\\Python\\Python312\\Lib\\site-packages\\autots\\tools\\transform.py:5608: FutureWarning: Downcasting object dtype arrays on .fillna, .ffill, .bfill is deprecated and will change in a future version. Call result.infer_objects(copy=False) instead. To opt-in to the future behavior, set `pd.set_option('future.no_silent_downcasting', True)`\n",
      "  df = df.fillna(0)\n",
      "c:\\Users\\Lenovo\\AppData\\Local\\Programs\\Python\\Python312\\Lib\\site-packages\\autots\\tools\\transform.py:5608: FutureWarning: Downcasting object dtype arrays on .fillna, .ffill, .bfill is deprecated and will change in a future version. Call result.infer_objects(copy=False) instead. To opt-in to the future behavior, set `pd.set_option('future.no_silent_downcasting', True)`\n",
      "  df = df.fillna(0)\n"
     ]
    },
    {
     "name": "stdout",
     "output_type": "stream",
     "text": [
      "Model Number: 184 with model SectionalMotif in generation 1 of 20\n",
      "Model Number: 185 with model DatepartRegression in generation 1 of 20\n",
      "Template Eval Error: ImportError('Tensorflow not available, install with pip install tensorflow.') in model 185 in generation 1: DatepartRegression\n",
      "Model Number: 186 with model DatepartRegression in generation 1 of 20\n",
      "Template Eval Error: ValueError(\"regression_type='User' but no future_regressor passed\") in model 186 in generation 1: DatepartRegression\n",
      "Model Number: 187 with model ConstantNaive in generation 1 of 20\n",
      "Model Number: 188 with model MetricMotif in generation 1 of 20\n",
      "Model Number: 189 with model BallTreeMultivariateMotif in generation 1 of 20\n",
      "Model Number: 190 with model SeasonalNaive in generation 1 of 20\n",
      "Model Number: 191 with model ETS in generation 1 of 20\n",
      "Model Number: 192 with model DatepartRegression in generation 1 of 20\n",
      "Template Eval Error: ValueError(\"regression_type='User' but no future_regressor passed\") in model 192 in generation 1: DatepartRegression\n",
      "Model Number: 193 with model Cassandra in generation 1 of 20\n"
     ]
    },
    {
     "name": "stderr",
     "output_type": "stream",
     "text": [
      "c:\\Users\\Lenovo\\AppData\\Local\\Programs\\Python\\Python312\\Lib\\site-packages\\autots\\tools\\transform.py:1512: FutureWarning: The behavior of DataFrame concatenation with empty or all-NA entries is deprecated. In a future version, this will no longer exclude empty or all-NA columns when determining the result dtypes. To retain the old behavior, exclude the relevant entries before the concat operation.\n",
      "  df_with_last = pd.concat([self.last_values, df])\n",
      "c:\\Users\\Lenovo\\AppData\\Local\\Programs\\Python\\Python312\\Lib\\site-packages\\autots\\tools\\transform.py:1512: FutureWarning: The behavior of DataFrame concatenation with empty or all-NA entries is deprecated. In a future version, this will no longer exclude empty or all-NA columns when determining the result dtypes. To retain the old behavior, exclude the relevant entries before the concat operation.\n",
      "  df_with_last = pd.concat([self.last_values, df])\n",
      "c:\\Users\\Lenovo\\AppData\\Local\\Programs\\Python\\Python312\\Lib\\site-packages\\sklearn\\linear_model\\_coordinate_descent.py:2639: ConvergenceWarning: Objective did not converge. You might want to increase the number of iterations. Duality gap: 6349694.072115997, tolerance: 1989.5387904761901\n",
      "  ) = cd_fast.enet_coordinate_descent_multi_task(\n",
      "c:\\Users\\Lenovo\\AppData\\Local\\Programs\\Python\\Python312\\Lib\\site-packages\\numpy\\lib\\function_base.py:2897: RuntimeWarning: invalid value encountered in divide\n",
      "  c /= stddev[:, None]\n",
      "c:\\Users\\Lenovo\\AppData\\Local\\Programs\\Python\\Python312\\Lib\\site-packages\\numpy\\lib\\function_base.py:2898: RuntimeWarning: invalid value encountered in divide\n",
      "  c /= stddev[None, :]\n"
     ]
    },
    {
     "name": "stdout",
     "output_type": "stream",
     "text": [
      "Model Number: 194 with model ETS in generation 1 of 20\n",
      "Model Number: 195 with model MetricMotif in generation 1 of 20\n",
      "Model Number: 196 with model GLS in generation 1 of 20\n",
      "Model Number: 197 with model ConstantNaive in generation 1 of 20\n",
      "Model Number: 198 with model GLS in generation 1 of 20\n",
      "Model Number: 199 with model ETS in generation 1 of 20\n",
      "Model Number: 200 with model SeasonalNaive in generation 1 of 20\n",
      "Model Number: 201 with model MetricMotif in generation 1 of 20\n",
      "Model Number: 202 with model ETS in generation 1 of 20\n"
     ]
    },
    {
     "name": "stderr",
     "output_type": "stream",
     "text": [
      "c:\\Users\\Lenovo\\AppData\\Local\\Programs\\Python\\Python312\\Lib\\site-packages\\autots\\tools\\transform.py:1512: FutureWarning: The behavior of DataFrame concatenation with empty or all-NA entries is deprecated. In a future version, this will no longer exclude empty or all-NA columns when determining the result dtypes. To retain the old behavior, exclude the relevant entries before the concat operation.\n",
      "  df_with_last = pd.concat([self.last_values, df])\n",
      "c:\\Users\\Lenovo\\AppData\\Local\\Programs\\Python\\Python312\\Lib\\site-packages\\autots\\tools\\transform.py:1512: FutureWarning: The behavior of DataFrame concatenation with empty or all-NA entries is deprecated. In a future version, this will no longer exclude empty or all-NA columns when determining the result dtypes. To retain the old behavior, exclude the relevant entries before the concat operation.\n",
      "  df_with_last = pd.concat([self.last_values, df])\n"
     ]
    },
    {
     "name": "stdout",
     "output_type": "stream",
     "text": [
      "Model Number: 203 with model Cassandra in generation 1 of 20\n",
      "Template Eval Error: ValueError(\"ARDL series 30001278 failed with error ValueError('The number of regressors (28) including deterministics, lags of the endog, lags of the exogenous, and fixed regressors is larger than the sample available for estimation (20).') exog train             seasonalitycommonfourier_0  seasonalitycommonfourier_1  \\\\\\nDate                                                                 \\n2020-05-31                   -0.851148                    0.448906   \\n2020-06-30                   -0.999332                    0.997329   \\n2020-07-31                   -0.879150                    0.545811   \\n2020-08-31                   -0.514823                   -0.469915   \\n2020-09-30                   -0.024726                   -0.998777   \\n2020-10-31                    0.486908                   -0.525841   \\n2020-11-30                    0.854517                    0.460397   \\n2020-12-31                    0.999917                    0.999667   \\n2021-01-31                    0.867634                    0.505576   \\n2021-02-28                    0.538584                   -0.419855   \\n2021-03-31                    0.035473                   -0.997483   \\n2021-04-30                   -0.462305                   -0.572548   \\n2021-05-31                   -0.848883                    0.441204   \\n2021-06-30                   -0.999166                    0.996663   \\n2021-07-31                   -0.881192                    0.552997   \\n2021-08-31                   -0.518505                   -0.462305   \\n2021-09-30                   -0.029025                   -0.998315   \\n2021-10-31                    0.483147                   -0.533137   \\n2021-11-30                    0.852275                    0.452745   \\n2021-12-31                    0.999852                    0.999408   \\n2022-01-31                    0.869764                    0.512978   \\n\\n            seasonalitycommonfourier_2  seasonalitycommonfourier_3  \\\\\\nDate                                                                 \\n2020-05-31                    0.086977                    0.524926   \\n2020-06-30                   -0.993993                    0.036547   \\n2020-07-31                   -0.080549                   -0.476544   \\n2020-08-31                    0.998669                   -0.857296   \\n2020-09-30                    0.074117                   -0.999694   \\n2020-10-31                   -0.998981                   -0.873453   \\n2020-11-30                   -0.067683                   -0.519424   \\n2020-12-31                    0.999251                   -0.012901   \\n2021-01-31                    0.009676                    0.497204   \\n2021-02-28                   -0.990838                    0.842572   \\n2021-03-31                   -0.106239                    0.999371   \\n2021-04-30                    0.991689                    0.886721   \\n2021-05-31                    0.099823                    0.528581   \\n2021-06-30                   -0.992498                    0.040844   \\n2021-07-31                   -0.093402                   -0.472759   \\n2021-08-31                    0.997920                   -0.855075   \\n2021-09-30                    0.086977                   -0.999579   \\n2021-10-31                   -0.998315                   -0.875539   \\n2021-11-30                   -0.080549                   -0.523094   \\n2021-12-31                    0.998669                   -0.017202   \\n2022-01-31                    0.022576                    0.493468   \\n\\n            seasonalitycommonfourier_4  seasonalitycommonfourier_5  \\\\\\nDate                                                                 \\n2020-05-31                   -0.893579                    0.996210   \\n2020-06-30                   -0.073045                    0.109446   \\n2020-07-31                    0.837909                   -0.996751   \\n2020-08-31                    0.882712                   -0.051584   \\n2020-09-30                    0.049437                    0.997250   \\n2020-10-31                   -0.850583                    0.045141   \\n2020-11-30                   -0.887713                   -0.997707   \\n2020-12-31                   -0.025801                   -0.038696   \\n2021-01-31                    0.862782                    0.999953   \\n2021-02-28                    0.907591                    0.135055   \\n2021-03-31                    0.070900                   -0.994341   \\n2021-04-30                   -0.819871                   -0.128661   \\n2021-05-31                   -0.897407                    0.995005   \\n2021-06-30                   -0.081621                    0.122261   \\n2021-07-31                    0.833183                   -0.995628   \\n2021-08-31                    0.886721                   -0.064464   \\n2021-09-30                    0.058026                    0.996210   \\n2021-10-31                   -0.846029                    0.058026   \\n2021-11-30                   -0.891640                   -0.996751   \\n2021-12-31                   -0.034398                   -0.051584   \\n2022-01-31                    0.858402                    0.999745   \\n\\n            seasonalitycommonfourier_6  seasonalitycommonfourier_7  \\\\\\nDate                                                                 \\n2020-05-31                   -0.797750                    0.272811   \\n2020-06-30                   -0.713539                    0.018277   \\n2020-07-31                   -0.614079                   -0.245815   \\n2020-08-31                   -0.503720                   -0.492533   \\n2020-09-30                   -0.388388                   -0.698310   \\n2020-10-31                   -0.262452                   -0.862238   \\n2020-11-30                   -0.136120                   -0.962943   \\n2020-12-31                   -0.003225                   -0.999979   \\n2021-01-31                    0.129727                   -0.966342   \\n2021-02-28                    0.247898                   -0.877093   \\n2021-03-31                    0.374474                   -0.719539   \\n2021-04-30                    0.490660                   -0.518505   \\n2021-05-31                    0.602130                   -0.274879   \\n2021-06-30                    0.699848                   -0.020426   \\n2021-07-31                    0.788584                    0.243730   \\n2021-08-31                    0.863325                    0.490660   \\n2021-09-30                    0.921078                    0.696769   \\n2021-10-31                    0.964662                    0.861147   \\n2021-11-30                    0.990545                    0.962360   \\n2021-12-31                    0.999991                    0.999963   \\n2022-01-31                    0.991689                    0.966893   \\n\\n            seasonalitycommonfourier_8  seasonalitycommonfourier_9  ...  \\\\\\nDate                                                                ...   \\n2020-05-31                    0.362480                   -0.851148  ...   \\n2020-06-30                    0.687457                   -0.999332  ...   \\n2020-07-31                    0.915978                   -0.879150  ...   \\n2020-08-31                    0.999917                   -0.514823  ...   \\n2020-09-30                    0.930818                   -0.024726  ...   \\n2020-10-31                    0.715044                    0.486908  ...   \\n2020-11-30                    0.398272                    0.854517  ...   \\n2020-12-31                    0.009676                    0.999917  ...   \\n2021-01-31                   -0.380447                    0.867634  ...   \\n2021-02-28                   -0.682758                    0.538584  ...   \\n2021-03-31                   -0.913370                    0.035473  ...   \\n2021-04-30                   -0.999480                   -0.462305  ...   \\n2021-05-31                   -0.933156                   -0.848883  ...   \\n2021-06-30                   -0.728438                   -0.999166  ...   \\n2021-07-31                   -0.404181                   -0.881192  ...   \\n2021-08-31                   -0.016127                   -0.518505  ...   \\n2021-09-30                    0.362480                   -0.029025  ...   \\n2021-10-31                    0.696769                    0.483147  ...   \\n2021-11-30                    0.915978                    0.852275  ...   \\n2021-12-31                    0.999917                    0.999852  ...   \\n2022-01-31                    0.926025                    0.869764  ...   \\n\\n            seasonalitycommonfourier_16  seasonalitycommonfourier_17  \\\\\\nDate                                                                   \\n2020-05-31                    -0.602988                     0.962068   \\n2020-06-30                    -0.700615                     0.999833   \\n2020-07-31                    -0.789245                     0.969317   \\n2020-08-31                    -0.863867                     0.870294   \\n2020-09-30                    -0.921496                     0.715795   \\n2020-10-31                    -0.964945                     0.506504   \\n2020-11-30                    -0.990692                     0.269707   \\n2020-12-31                    -0.999995                     0.006451   \\n2021-01-31                    -0.991550                    -0.257261   \\n2021-02-28                    -0.968786                    -0.480321   \\n2021-03-31                    -0.927238                    -0.694452   \\n2021-04-30                    -0.871351                    -0.855075   \\n2021-05-31                    -0.798398                    -0.961479   \\n2021-06-30                    -0.714292                    -0.999791   \\n2021-07-31                    -0.614927                    -0.969843   \\n2021-08-31                    -0.504648                    -0.871351   \\n2021-09-30                    -0.389378                    -0.717295   \\n2021-10-31                    -0.263489                    -0.508356   \\n2021-11-30                    -0.137185                    -0.271777   \\n2021-12-31                    -0.004301                    -0.008601   \\n2022-01-31                     0.128661                     0.255182   \\n\\n            seasonalitycommonfourier_18  seasonalitycommonfourier_19  \\\\\\nDate                                                                   \\n2020-05-31                    -0.931992                     0.524926   \\n2020-06-30                    -0.726225                     0.036547   \\n2020-07-31                    -0.401229                    -0.476544   \\n2020-08-31                    -0.012901                    -0.857296   \\n2020-09-30                     0.365484                    -0.999694   \\n2020-10-31                     0.699079                    -0.873453   \\n2020-11-30                     0.917267                    -0.519424   \\n2020-12-31                     0.999953                    -0.012901   \\n2021-01-31                     0.924803                     0.497204   \\n2021-02-28                     0.730644                     0.842572   \\n2021-03-31                     0.407129                     0.999371   \\n2021-04-30                     0.032249                     0.886721   \\n2021-05-31                    -0.359472                     0.528581   \\n2021-06-30                    -0.685111                     0.040844   \\n2021-07-31                    -0.914679                    -0.472759   \\n2021-08-31                    -0.999870                    -0.855075   \\n2021-09-30                    -0.931992                    -0.999579   \\n2021-10-31                    -0.717295                    -0.875539   \\n2021-11-30                    -0.401229                    -0.523094   \\n2021-12-31                    -0.012901                    -0.017202   \\n2022-01-31                     0.377462                     0.493468   \\n\\n            seasonalitycommonfourier_20  seasonalitycommonfourier_21  \\\\\\nDate                                                                   \\n2020-05-31                     0.094472                    -0.675656   \\n2020-06-30                     0.674069                    -0.998497   \\n2020-07-31                     0.986501                    -0.735034   \\n2020-08-31                     0.876576                    -0.025801   \\n2020-09-30                     0.411054                     0.680398   \\n2020-10-31                    -0.240600                     0.999745   \\n2020-11-30                    -0.775859                     0.730644   \\n2020-12-31                    -0.999870                     0.019352   \\n2021-01-31                    -0.795801                    -0.703677   \\n2021-02-28                    -0.312900                    -0.997707   \\n2021-03-31                     0.341347                    -0.743720   \\n2021-04-30                     0.837909                    -0.064464   \\n2021-05-31                     0.996021                     0.670887   \\n2021-06-30                     0.742281                     0.998123   \\n2021-07-31                     0.169058                     0.739392   \\n2021-08-31                    -0.476544                     0.032249   \\n2021-09-30                    -0.909388                    -0.675656   \\n2021-10-31                    -0.971904                    -0.999579   \\n2021-11-30                    -0.635068                    -0.735034   \\n2021-12-31                    -0.021501                    -0.025801   \\n2022-01-31                     0.601271                     0.699079   \\n\\n            seasonalitycommonfourier_22  seasonalitycommonfourier_23  \\\\\\nDate                                                                   \\n2020-05-31                     0.983538                    -0.893579   \\n2020-06-30                     0.750864                    -0.073045   \\n2020-07-31                    -0.083764                     0.837909   \\n2020-08-31                    -0.850583                     0.882712   \\n2020-09-30                    -0.939570                     0.049437   \\n2020-10-31                    -0.284170                    -0.850583   \\n2020-11-30                     0.576948                    -0.887713   \\n2020-12-31                     0.999745                    -0.025801   \\n2021-01-31                     0.613230                     0.862782   \\n2021-02-28                    -0.181760                     0.907591   \\n2021-03-31                    -0.898354                     0.070900   \\n2021-04-30                    -0.901169                    -0.819871   \\n2021-05-31                    -0.188099                    -0.897407   \\n2021-06-30                     0.654787                    -0.081621   \\n2021-07-31                     0.997088                     0.833183   \\n2021-08-31                     0.532227                     0.886721   \\n2021-09-30                    -0.335276                     0.058026   \\n2021-10-31                    -0.956608                    -0.846029   \\n2021-11-30                    -0.821100                    -0.891640   \\n2021-12-31                    -0.030100                    -0.034398   \\n2022-01-31                     0.785267                     0.858402   \\n\\n            seasonalitycommonfourier_24  seasonalitycommonfourier_25  \\nDate                                                                  \\n2020-05-31                     0.442168                     0.188099  \\n2020-06-30                    -0.646623                     0.995827  \\n2020-07-31                    -0.945320                     0.323093  \\n2020-08-31                    -0.038696                    -0.843728  \\n2020-09-30                     0.901169                    -0.749442  \\n2020-10-31                     0.730644                     0.467065  \\n2020-11-30                    -0.335276                     0.978989  \\n2020-12-31                    -0.999579                     0.032249  \\n2021-01-31                    -0.389378                    -0.963807  \\n2021-02-28                     0.631740                    -0.594376  \\n2021-03-31                     0.951454                     0.641689  \\n2021-04-30                     0.096613                     0.914679  \\n2021-05-31                    -0.892612                    -0.177529  \\n2021-06-30                    -0.769031                    -0.994788  \\n2021-07-31                     0.316982                    -0.333249  \\n2021-08-31                     0.998830                     0.837909  \\n2021-09-30                     0.442168                     0.756517  \\n2021-10-31                    -0.675656                    -0.457531  \\n2021-11-30                    -0.945320                    -0.981125  \\n2021-12-31                    -0.038696                    -0.042993  \\n2022-01-31                     0.917267                     0.960885  \\n\\n[21 rows x 26 columns] and predict             seasonalitycommonfourier_0  seasonalitycommonfourier_1  \\\\\\n2022-02-28                    0.542202                   -0.412034   \\n2022-03-31                    0.039770                   -0.996837   \\n2022-04-30                   -0.458487                   -0.579579   \\n\\n            seasonalitycommonfourier_2  seasonalitycommonfourier_3  \\\\\\n2022-02-28                   -0.989013                    0.840248   \\n2022-03-31                   -0.119059                    0.999209   \\n2022-04-30                    0.989946                    0.888701   \\n\\n            seasonalitycommonfourier_4  seasonalitycommonfourier_5  \\\\\\n2022-02-28                    0.911169                    0.147827   \\n2022-03-31                    0.079477                   -0.992887   \\n2022-04-30                   -0.814916                   -0.141444   \\n\\n            seasonalitycommonfourier_6  seasonalitycommonfourier_7  \\\\\\n2022-02-28                    0.969052                    0.878124   \\n2022-03-31                    0.927640                    0.721031   \\n2022-04-30                    0.871878                    0.520343   \\n\\n            seasonalitycommonfourier_8  seasonalitycommonfourier_9  ...  \\\\\\n2022-02-28                    0.732843                    0.542202  ...   \\n2022-03-31                    0.410073                    0.039770  ...   \\n2022-04-30                    0.035473                   -0.458487  ...   \\n\\n            seasonalitycommonfourier_16  seasonalitycommonfourier_17  \\\\\\n2022-02-28                     0.246857                     0.478434   \\n2022-03-31                     0.373477                     0.692903   \\n2022-04-30                     0.489723                     0.853958   \\n\\n            seasonalitycommonfourier_18  seasonalitycommonfourier_19  \\\\\\n2022-02-28                     0.680398                     0.840248   \\n2022-03-31                     0.912053                     0.999209   \\n2022-04-30                     0.999371                     0.888701   \\n\\n            seasonalitycommonfourier_20  seasonalitycommonfourier_21  \\\\\\n2022-02-28                     0.948090                     0.997250   \\n2022-03-31                     0.941759                     0.748017   \\n2022-04-30                     0.550307                     0.070900   \\n\\n            seasonalitycommonfourier_22  seasonalitycommonfourier_23  \\\\\\n2022-02-28                     0.984683                     0.911169   \\n2022-03-31                     0.446021                     0.079477   \\n2022-04-30                    -0.426674                    -0.814916   \\n\\n            seasonalitycommonfourier_24  seasonalitycommonfourier_25  \\n2022-02-28                     0.781257                     0.602988  \\n2022-03-31                    -0.298569                    -0.633406  \\n2022-04-30                    -0.994341                    -0.918971  \\n\\n[3 rows x 26 columns]\") in model 203 in generation 1: Cassandra\n",
      "Model Number: 204 with model FFT in generation 1 of 20\n",
      "Model Number: 205 with model GLM in generation 1 of 20\n"
     ]
    },
    {
     "name": "stderr",
     "output_type": "stream",
     "text": [
      "c:\\Users\\Lenovo\\AppData\\Local\\Programs\\Python\\Python312\\Lib\\site-packages\\numpy\\lib\\function_base.py:2897: RuntimeWarning: invalid value encountered in divide\n",
      "  c /= stddev[:, None]\n",
      "c:\\Users\\Lenovo\\AppData\\Local\\Programs\\Python\\Python312\\Lib\\site-packages\\numpy\\lib\\function_base.py:2898: RuntimeWarning: invalid value encountered in divide\n",
      "  c /= stddev[None, :]\n",
      "c:\\Users\\Lenovo\\AppData\\Local\\Programs\\Python\\Python312\\Lib\\site-packages\\statsmodels\\genmod\\generalized_linear_model.py:308: DomainWarning: The InversePower link function does not respect the domain of the Gamma family.\n",
      "  warnings.warn((f\"The {type(family.link).__name__} link function \"\n",
      "c:\\Users\\Lenovo\\AppData\\Local\\Programs\\Python\\Python312\\Lib\\site-packages\\statsmodels\\genmod\\generalized_linear_model.py:308: DomainWarning: The InversePower link function does not respect the domain of the Gamma family.\n",
      "  warnings.warn((f\"The {type(family.link).__name__} link function \"\n",
      "c:\\Users\\Lenovo\\AppData\\Local\\Programs\\Python\\Python312\\Lib\\site-packages\\statsmodels\\genmod\\generalized_linear_model.py:308: DomainWarning: The InversePower link function does not respect the domain of the Gamma family.\n",
      "  warnings.warn((f\"The {type(family.link).__name__} link function \"\n",
      "c:\\Users\\Lenovo\\AppData\\Local\\Programs\\Python\\Python312\\Lib\\site-packages\\statsmodels\\genmod\\generalized_linear_model.py:308: DomainWarning: The InversePower link function does not respect the domain of the Gamma family.\n",
      "  warnings.warn((f\"The {type(family.link).__name__} link function \"\n"
     ]
    },
    {
     "name": "stdout",
     "output_type": "stream",
     "text": [
      "Model Number: 206 with model DatepartRegression in generation 1 of 20\n",
      "Template Eval Error: ValueError(\"regression_type='User' but no future_regressor passed\") in model 206 in generation 1: DatepartRegression\n",
      "Model Number: 207 with model AverageValueNaive in generation 1 of 20\n",
      "Model Number: 208 with model ConstantNaive in generation 1 of 20\n"
     ]
    },
    {
     "name": "stderr",
     "output_type": "stream",
     "text": [
      "c:\\Users\\Lenovo\\AppData\\Local\\Programs\\Python\\Python312\\Lib\\site-packages\\statsmodels\\genmod\\generalized_linear_model.py:308: DomainWarning: The InversePower link function does not respect the domain of the Gamma family.\n",
      "  warnings.warn((f\"The {type(family.link).__name__} link function \"\n",
      "c:\\Users\\Lenovo\\AppData\\Local\\Programs\\Python\\Python312\\Lib\\site-packages\\statsmodels\\genmod\\generalized_linear_model.py:308: DomainWarning: The InversePower link function does not respect the domain of the Gamma family.\n",
      "  warnings.warn((f\"The {type(family.link).__name__} link function \"\n",
      "c:\\Users\\Lenovo\\AppData\\Local\\Programs\\Python\\Python312\\Lib\\site-packages\\statsmodels\\genmod\\generalized_linear_model.py:308: DomainWarning: The InversePower link function does not respect the domain of the Gamma family.\n",
      "  warnings.warn((f\"The {type(family.link).__name__} link function \"\n",
      "c:\\Users\\Lenovo\\AppData\\Local\\Programs\\Python\\Python312\\Lib\\site-packages\\statsmodels\\genmod\\generalized_linear_model.py:308: DomainWarning: The InversePower link function does not respect the domain of the Gamma family.\n",
      "  warnings.warn((f\"The {type(family.link).__name__} link function \"\n",
      "c:\\Users\\Lenovo\\AppData\\Local\\Programs\\Python\\Python312\\Lib\\site-packages\\statsmodels\\genmod\\generalized_linear_model.py:308: DomainWarning: The InversePower link function does not respect the domain of the Gamma family.\n",
      "  warnings.warn((f\"The {type(family.link).__name__} link function \"\n"
     ]
    },
    {
     "name": "stdout",
     "output_type": "stream",
     "text": [
      "Model Number: 209 with model GLS in generation 1 of 20\n",
      "Model Number: 210 with model UnivariateMotif in generation 1 of 20\n",
      "Model Number: 211 with model GLS in generation 1 of 20\n",
      "Model Number: 212 with model ConstantNaive in generation 1 of 20\n",
      "Model Number: 213 with model FFT in generation 1 of 20\n",
      "Model Number: 214 with model AverageValueNaive in generation 1 of 20\n",
      "Template Eval Error: Exception(\"Transformer BKBandpassFilter failed on fit from params rolling_mean {'0': {}, '1': {'output_distribution': 'uniform', 'n_quantiles': 7}, '2': {}, '3': {'low': 7, 'high': 32, 'K': 25, 'lanczos_factor': False, 'return_diff': False, 'on_transform': True, 'on_inverse': False}}\") in model 214 in generation 1: AverageValueNaive\n",
      "Model Number: 215 with model SeasonalityMotif in generation 1 of 20\n",
      "Model Number: 216 with model GLS in generation 1 of 20\n",
      "Model Number: 217 with model GLM in generation 1 of 20\n",
      "Template Eval Error: Exception(\"Transformer PCA failed on fit from params rolling_mean_24 {'0': {}, '1': {'whiten': False, 'n_components': 100}, '2': {'window_size': 7, 'alpha': 4.0, 'grouping_forward_limit': 3, 'max_level_shifts': 10, 'alignment': 'rolling_diff_3nn'}}\") in model 217 in generation 1: GLM\n",
      "Model Number: 218 with model Cassandra in generation 1 of 20\n",
      "Template Eval Error: ValueError('negative dimensions are not allowed') in model 218 in generation 1: Cassandra\n",
      "Model Number: 219 with model DatepartRegression in generation 1 of 20\n",
      "Template Eval Error: ValueError('Model DatepartRegression returned NaN for one or more series. fail_on_forecast_nan=True') in model 219 in generation 1: DatepartRegression\n",
      "Model Number: 220 with model SeasonalNaive in generation 1 of 20\n",
      "Model Number: 221 with model LastValueNaive in generation 1 of 20\n"
     ]
    },
    {
     "name": "stderr",
     "output_type": "stream",
     "text": [
      "c:\\Users\\Lenovo\\AppData\\Local\\Programs\\Python\\Python312\\Lib\\site-packages\\autots\\tools\\percentile.py:47: RuntimeWarning: All-NaN slice encountered\n",
      "  max_val = np.nanmax(arr)\n",
      "c:\\Users\\Lenovo\\AppData\\Local\\Programs\\Python\\Python312\\Lib\\site-packages\\sklearn\\neighbors\\_regression.py:509: UserWarning: One or more samples have no neighbors within specified radius; predicting NaN.\n",
      "  warnings.warn(empty_warning_msg)\n"
     ]
    },
    {
     "name": "stdout",
     "output_type": "stream",
     "text": [
      "Model Number: 222 with model UnivariateMotif in generation 1 of 20\n",
      "Model Number: 223 with model UnivariateMotif in generation 1 of 20\n",
      "Model Number: 224 with model Cassandra in generation 1 of 20\n"
     ]
    },
    {
     "name": "stderr",
     "output_type": "stream",
     "text": [
      "c:\\Users\\Lenovo\\AppData\\Local\\Programs\\Python\\Python312\\Lib\\site-packages\\numpy\\lib\\function_base.py:2897: RuntimeWarning: invalid value encountered in divide\n",
      "  c /= stddev[:, None]\n",
      "c:\\Users\\Lenovo\\AppData\\Local\\Programs\\Python\\Python312\\Lib\\site-packages\\numpy\\lib\\function_base.py:2898: RuntimeWarning: invalid value encountered in divide\n",
      "  c /= stddev[None, :]\n"
     ]
    },
    {
     "name": "stdout",
     "output_type": "stream",
     "text": [
      "Model Number: 225 with model VECM in generation 1 of 20\n",
      "Model Number: 226 with model VECM in generation 1 of 20\n",
      "Model Number: 227 with model RRVAR in generation 1 of 20\n",
      "Template Eval Error: Exception(\"Transformer AlignLastValue failed on fit from params ffill_mean_biased {'0': {'method': 'clip', 'std_threshold': 2, 'fillna': None}, '1': {'model': 'Linear', 'phi': 1, 'window': None, 'transform_dict': {'fillna': None, 'transformations': {'0': 'ClipOutliers'}, 'transformation_params': {'0': {'method': 'clip', 'std_threshold': 4}}}}, '2': {'rows': 1, 'lag': 28, 'method': 'additive', 'strength': 1.0, 'first_value_only': False, 'threshold': 10, 'threshold_method': 'max'}}\") in model 227 in generation 1: RRVAR\n",
      "Model Number: 228 with model GLS in generation 1 of 20\n",
      "Model Number: 229 with model GLM in generation 1 of 20\n",
      "Template Eval Error: ValueError('The first guess on the deviance function returned a nan.  This could be a boundary  problem and should be reported.') in model 229 in generation 1: GLM\n",
      "Model Number: 230 with model GLS in generation 1 of 20\n",
      "Model Number: 231 with model Cassandra in generation 1 of 20\n",
      "Template Eval Error: ValueError('negative dimensions are not allowed') in model 231 in generation 1: Cassandra\n",
      "Model Number: 232 with model Cassandra in generation 1 of 20\n"
     ]
    },
    {
     "name": "stderr",
     "output_type": "stream",
     "text": [
      "c:\\Users\\Lenovo\\AppData\\Local\\Programs\\Python\\Python312\\Lib\\site-packages\\statsmodels\\genmod\\families\\family.py:1367: ValueWarning: Negative binomial dispersion parameter alpha not set. Using default value alpha=1.0.\n",
      "  warnings.warn(\"Negative binomial dispersion parameter alpha not \"\n",
      "c:\\Users\\Lenovo\\AppData\\Local\\Programs\\Python\\Python312\\Lib\\site-packages\\statsmodels\\genmod\\families\\family.py:1406: RuntimeWarning: invalid value encountered in log\n",
      "  resid_dev -= endog_alpha * np.log(endog_alpha / mu_alpha)\n",
      "c:\\Users\\Lenovo\\AppData\\Local\\Programs\\Python\\Python312\\Lib\\site-packages\\numpy\\lib\\function_base.py:2897: RuntimeWarning: invalid value encountered in divide\n",
      "  c /= stddev[:, None]\n",
      "c:\\Users\\Lenovo\\AppData\\Local\\Programs\\Python\\Python312\\Lib\\site-packages\\numpy\\lib\\function_base.py:2898: RuntimeWarning: invalid value encountered in divide\n",
      "  c /= stddev[None, :]\n"
     ]
    },
    {
     "name": "stdout",
     "output_type": "stream",
     "text": [
      "Template Eval Error: UnboundLocalError(\"cannot access local variable 'slope' where it is not associated with a value\") in model 232 in generation 1: Cassandra\n",
      "Model Number: 233 with model LastValueNaive in generation 1 of 20\n",
      "Model Number: 234 with model SeasonalNaive in generation 1 of 20\n",
      "Model Number: 235 with model UnivariateMotif in generation 1 of 20\n",
      "Template Eval Error: ValueError('kth(=100) out of bounds (9)') in model 235 in generation 1: UnivariateMotif\n",
      "Model Number: 236 with model WindowRegression in generation 1 of 20\n",
      "Model Number: 237 with model Cassandra in generation 1 of 20\n",
      "Template Eval Error: ValueError('transformed data is all zeroes') in model 237 in generation 1: Cassandra\n",
      "Model Number: 238 with model AverageValueNaive in generation 1 of 20\n"
     ]
    },
    {
     "name": "stderr",
     "output_type": "stream",
     "text": [
      "c:\\Users\\Lenovo\\AppData\\Local\\Programs\\Python\\Python312\\Lib\\site-packages\\autots\\tools\\anomaly_utils.py:1115: FutureWarning: Downcasting object dtype arrays on .fillna, .ffill, .bfill is deprecated and will change in a future version. Call result.infer_objects(copy=False) instead. To opt-in to the future behavior, set `pd.set_option('future.no_silent_downcasting', True)`\n",
      "  result = result + temp.where(temp.isnull(), 1).fillna(0)\n"
     ]
    },
    {
     "name": "stdout",
     "output_type": "stream",
     "text": [
      "Model Number: 239 with model ETS in generation 1 of 20\n",
      "Model Number: 240 with model ConstantNaive in generation 1 of 20\n",
      "Model Number: 241 with model GLS in generation 1 of 20\n",
      "Model Number: 242 with model DatepartRegression in generation 1 of 20\n",
      "Template Eval Error: ValueError('Model DatepartRegression returned NaN for one or more series. fail_on_forecast_nan=True') in model 242 in generation 1: DatepartRegression\n",
      "Model Number: 243 with model AverageValueNaive in generation 1 of 20\n",
      "Model Number: 244 with model Cassandra in generation 1 of 20\n"
     ]
    },
    {
     "name": "stderr",
     "output_type": "stream",
     "text": [
      "c:\\Users\\Lenovo\\AppData\\Local\\Programs\\Python\\Python312\\Lib\\site-packages\\sklearn\\neighbors\\_regression.py:509: UserWarning: One or more samples have no neighbors within specified radius; predicting NaN.\n",
      "  warnings.warn(empty_warning_msg)\n",
      "c:\\Users\\Lenovo\\AppData\\Local\\Programs\\Python\\Python312\\Lib\\site-packages\\numpy\\lib\\function_base.py:2897: RuntimeWarning: invalid value encountered in divide\n",
      "  c /= stddev[:, None]\n",
      "c:\\Users\\Lenovo\\AppData\\Local\\Programs\\Python\\Python312\\Lib\\site-packages\\numpy\\lib\\function_base.py:2898: RuntimeWarning: invalid value encountered in divide\n",
      "  c /= stddev[None, :]\n"
     ]
    },
    {
     "name": "stdout",
     "output_type": "stream",
     "text": [
      "Model Number: 245 with model LastValueNaive in generation 1 of 20\n",
      "Model Number: 246 with model SeasonalNaive in generation 1 of 20\n",
      "Model Number: 247 with model DatepartRegression in generation 1 of 20\n",
      "Template Eval Error: ValueError(\"regression_type='User' but no future_regressor passed\") in model 247 in generation 1: DatepartRegression\n",
      "Model Number: 248 with model BallTreeMultivariateMotif in generation 1 of 20\n",
      "Template Eval Error: TypeError('1D weights expected when shapes of a and weights differ.') in model 248 in generation 1: BallTreeMultivariateMotif\n",
      "Model Number: 249 with model UnivariateMotif in generation 1 of 20\n",
      "Template Eval Error: ValueError('window shape cannot be larger than input array shape') in model 249 in generation 1: UnivariateMotif\n",
      "Model Number: 250 with model GLS in generation 1 of 20\n",
      "Model Number: 251 with model BallTreeMultivariateMotif in generation 1 of 20\n",
      "Model Number: 252 with model ConstantNaive in generation 1 of 20\n",
      "Model Number: 253 with model AverageValueNaive in generation 1 of 20\n",
      "Model Number: 254 with model ETS in generation 1 of 20\n",
      "Model Number: 255 with model ETS in generation 1 of 20\n",
      "Model Number: 256 with model NVAR in generation 1 of 20\n",
      "Model Number: 257 with model SectionalMotif in generation 1 of 20\n",
      "Template Eval Error: ValueError('kth(=3) out of bounds (1)') in model 257 in generation 1: SectionalMotif\n",
      "Model Number: 258 with model DatepartRegression in generation 1 of 20\n",
      "Model Number: 259 with model AverageValueNaive in generation 1 of 20\n",
      "Model Number: 260 with model SeasonalNaive in generation 1 of 20\n"
     ]
    },
    {
     "name": "stderr",
     "output_type": "stream",
     "text": [
      "c:\\Users\\Lenovo\\AppData\\Local\\Programs\\Python\\Python312\\Lib\\site-packages\\sklearn\\linear_model\\_coordinate_descent.py:2639: ConvergenceWarning: Objective did not converge. You might want to increase the number of iterations. Duality gap: 424955.3125, tolerance: 2463.146484375\n",
      "  ) = cd_fast.enet_coordinate_descent_multi_task(\n"
     ]
    },
    {
     "name": "stdout",
     "output_type": "stream",
     "text": [
      "Model Number: 261 with model ETS in generation 1 of 20\n",
      "Model Number: 262 with model GLM in generation 1 of 20\n",
      "Model Number: 263 with model ETS in generation 1 of 20\n"
     ]
    },
    {
     "name": "stderr",
     "output_type": "stream",
     "text": [
      "c:\\Users\\Lenovo\\AppData\\Local\\Programs\\Python\\Python312\\Lib\\site-packages\\statsmodels\\genmod\\families\\links.py:198: RuntimeWarning: overflow encountered in exp\n",
      "  t = np.exp(-z)\n"
     ]
    },
    {
     "name": "stdout",
     "output_type": "stream",
     "text": [
      "Model Number: 264 with model AverageValueNaive in generation 1 of 20\n",
      "Model Number: 265 with model AverageValueNaive in generation 1 of 20\n",
      "Model Number: 266 with model Cassandra in generation 1 of 20\n"
     ]
    },
    {
     "name": "stderr",
     "output_type": "stream",
     "text": [
      "c:\\Users\\Lenovo\\AppData\\Local\\Programs\\Python\\Python312\\Lib\\site-packages\\autots\\tools\\anomaly_utils.py:1115: FutureWarning: Downcasting object dtype arrays on .fillna, .ffill, .bfill is deprecated and will change in a future version. Call result.infer_objects(copy=False) instead. To opt-in to the future behavior, set `pd.set_option('future.no_silent_downcasting', True)`\n",
      "  result = result + temp.where(temp.isnull(), 1).fillna(0)\n"
     ]
    },
    {
     "name": "stdout",
     "output_type": "stream",
     "text": [
      "Template Eval Error: ValueError('negative dimensions are not allowed') in model 266 in generation 1: Cassandra\n",
      "Model Number: 267 with model MetricMotif in generation 1 of 20\n"
     ]
    },
    {
     "name": "stderr",
     "output_type": "stream",
     "text": [
      "c:\\Users\\Lenovo\\AppData\\Local\\Programs\\Python\\Python312\\Lib\\site-packages\\autots\\tools\\impute.py:60: RuntimeWarning: Mean of empty slice\n",
      "  arr = np.nan_to_num(arr) + np.isnan(arr) * np.nan_to_num(np.nanmean(arr, axis=0))\n"
     ]
    },
    {
     "name": "stdout",
     "output_type": "stream",
     "text": [
      "New Generation: 2 of 20\n",
      "Model Number: 268 with model GLS in generation 2 of 20\n",
      "Model Number: 269 with model MetricMotif in generation 2 of 20\n",
      "Model Number: 270 with model AverageValueNaive in generation 2 of 20\n",
      "Model Number: 271 with model ETS in generation 2 of 20\n"
     ]
    },
    {
     "name": "stderr",
     "output_type": "stream",
     "text": [
      "c:\\Users\\Lenovo\\AppData\\Local\\Programs\\Python\\Python312\\Lib\\site-packages\\autots\\tools\\impute.py:60: RuntimeWarning: Mean of empty slice\n",
      "  arr = np.nan_to_num(arr) + np.isnan(arr) * np.nan_to_num(np.nanmean(arr, axis=0))\n"
     ]
    },
    {
     "name": "stdout",
     "output_type": "stream",
     "text": [
      "Model Number: 272 with model LastValueNaive in generation 2 of 20\n",
      "Model Number: 273 with model KalmanStateSpace in generation 2 of 20\n",
      "Model Number: 274 with model GLM in generation 2 of 20\n"
     ]
    },
    {
     "name": "stderr",
     "output_type": "stream",
     "text": [
      "c:\\Users\\Lenovo\\AppData\\Local\\Programs\\Python\\Python312\\Lib\\site-packages\\statsmodels\\genmod\\families\\links.py:198: RuntimeWarning: overflow encountered in exp\n",
      "  t = np.exp(-z)\n"
     ]
    },
    {
     "name": "stdout",
     "output_type": "stream",
     "text": [
      "Model Number: 275 with model ETS in generation 2 of 20\n",
      "Model Number: 276 with model AverageValueNaive in generation 2 of 20\n",
      "Model Number: 277 with model DatepartRegression in generation 2 of 20\n",
      "Model Number: 278 with model Cassandra in generation 2 of 20\n"
     ]
    },
    {
     "name": "stderr",
     "output_type": "stream",
     "text": [
      "c:\\Users\\Lenovo\\AppData\\Local\\Programs\\Python\\Python312\\Lib\\site-packages\\numpy\\lib\\function_base.py:2897: RuntimeWarning: invalid value encountered in divide\n",
      "  c /= stddev[:, None]\n",
      "c:\\Users\\Lenovo\\AppData\\Local\\Programs\\Python\\Python312\\Lib\\site-packages\\numpy\\lib\\function_base.py:2898: RuntimeWarning: invalid value encountered in divide\n",
      "  c /= stddev[None, :]\n"
     ]
    },
    {
     "name": "stdout",
     "output_type": "stream",
     "text": [
      "Model Number: 279 with model BallTreeMultivariateMotif in generation 2 of 20\n",
      "Template Eval Error: TypeError('1D weights expected when shapes of a and weights differ.') in model 279 in generation 2: BallTreeMultivariateMotif\n",
      "Model Number: 280 with model ETS in generation 2 of 20\n",
      "Model Number: 281 with model GLM in generation 2 of 20\n",
      "Template Eval Error: ValueError('regression_type=user and no future_regressor passed') in model 281 in generation 2: GLM\n",
      "Model Number: 282 with model FFT in generation 2 of 20\n",
      "Model Number: 283 with model SeasonalNaive in generation 2 of 20\n",
      "Model Number: 284 with model LastValueNaive in generation 2 of 20\n",
      "Model Number: 285 with model MetricMotif in generation 2 of 20\n",
      "Template Eval Error: ValueError('kth(=19) out of bounds (9)') in model 285 in generation 2: MetricMotif\n",
      "Model Number: 286 with model AverageValueNaive in generation 2 of 20\n",
      "Model Number: 287 with model GLM in generation 2 of 20\n",
      "Model Number: 288 with model ETS in generation 2 of 20\n"
     ]
    },
    {
     "name": "stderr",
     "output_type": "stream",
     "text": [
      "c:\\Users\\Lenovo\\AppData\\Local\\Programs\\Python\\Python312\\Lib\\site-packages\\statsmodels\\genmod\\families\\links.py:198: RuntimeWarning: overflow encountered in exp\n",
      "  t = np.exp(-z)\n"
     ]
    },
    {
     "name": "stdout",
     "output_type": "stream",
     "text": [
      "Model Number: 289 with model GLS in generation 2 of 20\n",
      "Model Number: 290 with model GLM in generation 2 of 20\n",
      "Model Number: 291 with model Cassandra in generation 2 of 20\n",
      "Template Eval Error: ValueError('transformed data is all zeroes') in model 291 in generation 2: Cassandra\n",
      "Model Number: 292 with model LastValueNaive in generation 2 of 20\n",
      "Model Number: 293 with model WindowRegression in generation 2 of 20\n"
     ]
    },
    {
     "name": "stderr",
     "output_type": "stream",
     "text": [
      "c:\\Users\\Lenovo\\AppData\\Local\\Programs\\Python\\Python312\\Lib\\site-packages\\statsmodels\\genmod\\generalized_linear_model.py:308: DomainWarning: The InversePower link function does not respect the domain of the Gamma family.\n",
      "  warnings.warn((f\"The {type(family.link).__name__} link function \"\n",
      "c:\\Users\\Lenovo\\AppData\\Local\\Programs\\Python\\Python312\\Lib\\site-packages\\statsmodels\\genmod\\generalized_linear_model.py:308: DomainWarning: The InversePower link function does not respect the domain of the Gamma family.\n",
      "  warnings.warn((f\"The {type(family.link).__name__} link function \"\n",
      "c:\\Users\\Lenovo\\AppData\\Local\\Programs\\Python\\Python312\\Lib\\site-packages\\statsmodels\\genmod\\generalized_linear_model.py:308: DomainWarning: The InversePower link function does not respect the domain of the Gamma family.\n",
      "  warnings.warn((f\"The {type(family.link).__name__} link function \"\n",
      "c:\\Users\\Lenovo\\AppData\\Local\\Programs\\Python\\Python312\\Lib\\site-packages\\statsmodels\\genmod\\generalized_linear_model.py:308: DomainWarning: The InversePower link function does not respect the domain of the Gamma family.\n",
      "  warnings.warn((f\"The {type(family.link).__name__} link function \"\n",
      "c:\\Users\\Lenovo\\AppData\\Local\\Programs\\Python\\Python312\\Lib\\site-packages\\statsmodels\\genmod\\generalized_linear_model.py:308: DomainWarning: The InversePower link function does not respect the domain of the Gamma family.\n",
      "  warnings.warn((f\"The {type(family.link).__name__} link function \"\n",
      "c:\\Users\\Lenovo\\AppData\\Local\\Programs\\Python\\Python312\\Lib\\site-packages\\statsmodels\\genmod\\generalized_linear_model.py:308: DomainWarning: The InversePower link function does not respect the domain of the Gamma family.\n",
      "  warnings.warn((f\"The {type(family.link).__name__} link function \"\n",
      "c:\\Users\\Lenovo\\AppData\\Local\\Programs\\Python\\Python312\\Lib\\site-packages\\statsmodels\\genmod\\generalized_linear_model.py:308: DomainWarning: The InversePower link function does not respect the domain of the Gamma family.\n",
      "  warnings.warn((f\"The {type(family.link).__name__} link function \"\n",
      "c:\\Users\\Lenovo\\AppData\\Local\\Programs\\Python\\Python312\\Lib\\site-packages\\statsmodels\\genmod\\generalized_linear_model.py:308: DomainWarning: The InversePower link function does not respect the domain of the Gamma family.\n",
      "  warnings.warn((f\"The {type(family.link).__name__} link function \"\n",
      "c:\\Users\\Lenovo\\AppData\\Local\\Programs\\Python\\Python312\\Lib\\site-packages\\statsmodels\\genmod\\generalized_linear_model.py:308: DomainWarning: The InversePower link function does not respect the domain of the Gamma family.\n",
      "  warnings.warn((f\"The {type(family.link).__name__} link function \"\n"
     ]
    },
    {
     "name": "stdout",
     "output_type": "stream",
     "text": [
      "Model Number: 294 with model DatepartRegression in generation 2 of 20\n",
      "Template Eval Error: Exception(\"Transformer PCA failed on fit from params ffill_mean_biased {'0': {'method': 'clip', 'std_threshold': 2, 'fillna': None}, '1': {'method': 'clip', 'std_threshold': 3, 'fillna': None}, '2': {'whiten': True, 'n_components': 10}, '3': {'model': 'GLS', 'phi': 1, 'window': None, 'transform_dict': None}}\") in model 294 in generation 2: DatepartRegression\n",
      "Model Number: 295 with model UnivariateMotif in generation 2 of 20\n",
      "Model Number: 296 with model ETS in generation 2 of 20\n",
      "Model Number: 297 with model AverageValueNaive in generation 2 of 20\n",
      "Model Number: 298 with model VECM in generation 2 of 20\n",
      "Model Number: 299 with model Cassandra in generation 2 of 20\n"
     ]
    },
    {
     "name": "stderr",
     "output_type": "stream",
     "text": [
      "c:\\Users\\Lenovo\\AppData\\Local\\Programs\\Python\\Python312\\Lib\\site-packages\\numpy\\lib\\function_base.py:2897: RuntimeWarning: invalid value encountered in divide\n",
      "  c /= stddev[:, None]\n",
      "c:\\Users\\Lenovo\\AppData\\Local\\Programs\\Python\\Python312\\Lib\\site-packages\\numpy\\lib\\function_base.py:2898: RuntimeWarning: invalid value encountered in divide\n",
      "  c /= stddev[None, :]\n"
     ]
    },
    {
     "name": "stdout",
     "output_type": "stream",
     "text": [
      "Model Number: 300 with model BallTreeMultivariateMotif in generation 2 of 20\n",
      "Model Number: 301 with model GLM in generation 2 of 20\n"
     ]
    },
    {
     "name": "stderr",
     "output_type": "stream",
     "text": [
      "c:\\Users\\Lenovo\\AppData\\Local\\Programs\\Python\\Python312\\Lib\\site-packages\\statsmodels\\genmod\\generalized_linear_model.py:308: DomainWarning: The InversePower link function does not respect the domain of the Gamma family.\n",
      "  warnings.warn((f\"The {type(family.link).__name__} link function \"\n",
      "c:\\Users\\Lenovo\\AppData\\Local\\Programs\\Python\\Python312\\Lib\\site-packages\\statsmodels\\genmod\\generalized_linear_model.py:308: DomainWarning: The InversePower link function does not respect the domain of the Gamma family.\n",
      "  warnings.warn((f\"The {type(family.link).__name__} link function \"\n",
      "c:\\Users\\Lenovo\\AppData\\Local\\Programs\\Python\\Python312\\Lib\\site-packages\\statsmodels\\genmod\\generalized_linear_model.py:308: DomainWarning: The InversePower link function does not respect the domain of the Gamma family.\n",
      "  warnings.warn((f\"The {type(family.link).__name__} link function \"\n",
      "c:\\Users\\Lenovo\\AppData\\Local\\Programs\\Python\\Python312\\Lib\\site-packages\\statsmodels\\genmod\\generalized_linear_model.py:308: DomainWarning: The InversePower link function does not respect the domain of the Gamma family.\n",
      "  warnings.warn((f\"The {type(family.link).__name__} link function \"\n",
      "c:\\Users\\Lenovo\\AppData\\Local\\Programs\\Python\\Python312\\Lib\\site-packages\\statsmodels\\genmod\\generalized_linear_model.py:308: DomainWarning: The InversePower link function does not respect the domain of the Gamma family.\n",
      "  warnings.warn((f\"The {type(family.link).__name__} link function \"\n",
      "c:\\Users\\Lenovo\\AppData\\Local\\Programs\\Python\\Python312\\Lib\\site-packages\\statsmodels\\genmod\\generalized_linear_model.py:308: DomainWarning: The InversePower link function does not respect the domain of the Gamma family.\n",
      "  warnings.warn((f\"The {type(family.link).__name__} link function \"\n",
      "c:\\Users\\Lenovo\\AppData\\Local\\Programs\\Python\\Python312\\Lib\\site-packages\\statsmodels\\genmod\\generalized_linear_model.py:308: DomainWarning: The InversePower link function does not respect the domain of the Gamma family.\n",
      "  warnings.warn((f\"The {type(family.link).__name__} link function \"\n",
      "c:\\Users\\Lenovo\\AppData\\Local\\Programs\\Python\\Python312\\Lib\\site-packages\\statsmodels\\genmod\\generalized_linear_model.py:308: DomainWarning: The InversePower link function does not respect the domain of the Gamma family.\n",
      "  warnings.warn((f\"The {type(family.link).__name__} link function \"\n",
      "c:\\Users\\Lenovo\\AppData\\Local\\Programs\\Python\\Python312\\Lib\\site-packages\\statsmodels\\genmod\\generalized_linear_model.py:308: DomainWarning: The InversePower link function does not respect the domain of the Gamma family.\n",
      "  warnings.warn((f\"The {type(family.link).__name__} link function \"\n"
     ]
    },
    {
     "name": "stdout",
     "output_type": "stream",
     "text": [
      "Model Number: 302 with model SeasonalityMotif in generation 2 of 20\n",
      "Model Number: 303 with model GLM in generation 2 of 20\n",
      "Template Eval Error: ValueError('regression_type=user and no future_regressor passed') in model 303 in generation 2: GLM\n",
      "Model Number: 304 with model LastValueNaive in generation 2 of 20\n",
      "Model Number: 305 with model Cassandra in generation 2 of 20\n",
      "Template Eval Error: UnboundLocalError(\"cannot access local variable 'slope' where it is not associated with a value\") in model 305 in generation 2: Cassandra\n",
      "Model Number: 306 with model DatepartRegression in generation 2 of 20\n"
     ]
    },
    {
     "name": "stderr",
     "output_type": "stream",
     "text": [
      "c:\\Users\\Lenovo\\AppData\\Local\\Programs\\Python\\Python312\\Lib\\site-packages\\sklearn\\svm\\_base.py:1235: ConvergenceWarning: Liblinear failed to converge, increase the number of iterations.\n",
      "  warnings.warn(\n",
      "c:\\Users\\Lenovo\\AppData\\Local\\Programs\\Python\\Python312\\Lib\\site-packages\\sklearn\\svm\\_base.py:1235: ConvergenceWarning: Liblinear failed to converge, increase the number of iterations.\n",
      "  warnings.warn(\n",
      "c:\\Users\\Lenovo\\AppData\\Local\\Programs\\Python\\Python312\\Lib\\site-packages\\sklearn\\svm\\_base.py:1235: ConvergenceWarning: Liblinear failed to converge, increase the number of iterations.\n",
      "  warnings.warn(\n",
      "c:\\Users\\Lenovo\\AppData\\Local\\Programs\\Python\\Python312\\Lib\\site-packages\\sklearn\\svm\\_base.py:1235: ConvergenceWarning: Liblinear failed to converge, increase the number of iterations.\n",
      "  warnings.warn(\n",
      "c:\\Users\\Lenovo\\AppData\\Local\\Programs\\Python\\Python312\\Lib\\site-packages\\sklearn\\svm\\_base.py:1235: ConvergenceWarning: Liblinear failed to converge, increase the number of iterations.\n",
      "  warnings.warn(\n",
      "c:\\Users\\Lenovo\\AppData\\Local\\Programs\\Python\\Python312\\Lib\\site-packages\\sklearn\\svm\\_base.py:1235: ConvergenceWarning: Liblinear failed to converge, increase the number of iterations.\n",
      "  warnings.warn(\n",
      "c:\\Users\\Lenovo\\AppData\\Local\\Programs\\Python\\Python312\\Lib\\site-packages\\sklearn\\svm\\_base.py:1235: ConvergenceWarning: Liblinear failed to converge, increase the number of iterations.\n",
      "  warnings.warn(\n",
      "c:\\Users\\Lenovo\\AppData\\Local\\Programs\\Python\\Python312\\Lib\\site-packages\\sklearn\\svm\\_base.py:1235: ConvergenceWarning: Liblinear failed to converge, increase the number of iterations.\n",
      "  warnings.warn(\n",
      "c:\\Users\\Lenovo\\AppData\\Local\\Programs\\Python\\Python312\\Lib\\site-packages\\sklearn\\svm\\_base.py:1235: ConvergenceWarning: Liblinear failed to converge, increase the number of iterations.\n",
      "  warnings.warn(\n"
     ]
    },
    {
     "name": "stdout",
     "output_type": "stream",
     "text": [
      "Model Number: 307 with model ConstantNaive in generation 2 of 20\n",
      "Model Number: 308 with model RRVAR in generation 2 of 20\n",
      "Model Number: 309 with model LastValueNaive in generation 2 of 20\n",
      "Model Number: 310 with model UnivariateMotif in generation 2 of 20\n",
      "Model Number: 311 with model Cassandra in generation 2 of 20\n",
      "Model Number: 312 with model BallTreeMultivariateMotif in generation 2 of 20\n",
      "Model Number: 313 with model Cassandra in generation 2 of 20\n"
     ]
    },
    {
     "name": "stderr",
     "output_type": "stream",
     "text": [
      "c:\\Users\\Lenovo\\AppData\\Local\\Programs\\Python\\Python312\\Lib\\site-packages\\numpy\\lib\\function_base.py:2897: RuntimeWarning: invalid value encountered in divide\n",
      "  c /= stddev[:, None]\n",
      "c:\\Users\\Lenovo\\AppData\\Local\\Programs\\Python\\Python312\\Lib\\site-packages\\numpy\\lib\\function_base.py:2898: RuntimeWarning: invalid value encountered in divide\n",
      "  c /= stddev[None, :]\n"
     ]
    },
    {
     "name": "stdout",
     "output_type": "stream",
     "text": [
      "Model Number: 314 with model ConstantNaive in generation 2 of 20\n",
      "Model Number: 315 with model LastValueNaive in generation 2 of 20\n",
      "Model Number: 316 with model AverageValueNaive in generation 2 of 20\n",
      "Model Number: 317 with model MAR in generation 2 of 20\n",
      "Model Number: 318 with model MetricMotif in generation 2 of 20\n",
      "Template Eval Error: ValueError('kth(=4) out of bounds (4)') in model 318 in generation 2: MetricMotif\n",
      "Model Number: 319 with model AverageValueNaive in generation 2 of 20\n",
      "Model Number: 320 with model ETS in generation 2 of 20\n",
      "Model Number: 321 with model DatepartRegression in generation 2 of 20\n",
      "Model Number: 322 with model BallTreeMultivariateMotif in generation 2 of 20\n",
      "Template Eval Error: ValueError('negative dimensions are not allowed') in model 322 in generation 2: BallTreeMultivariateMotif\n",
      "Model Number: 323 with model GLS in generation 2 of 20\n",
      "Model Number: 324 with model BallTreeMultivariateMotif in generation 2 of 20\n",
      "Model Number: 325 with model FFT in generation 2 of 20\n",
      "Model Number: 326 with model AverageValueNaive in generation 2 of 20\n",
      "Model Number: 327 with model DatepartRegression in generation 2 of 20\n",
      "Model Number: 328 with model ETS in generation 2 of 20\n",
      "Model Number: 329 with model GLS in generation 2 of 20\n",
      "Model Number: 330 with model ConstantNaive in generation 2 of 20\n",
      "Model Number: 331 with model FFT in generation 2 of 20\n",
      "Model Number: 332 with model GLS in generation 2 of 20\n",
      "Model Number: 333 with model DatepartRegression in generation 2 of 20\n",
      "Model Number: 334 with model LastValueNaive in generation 2 of 20\n",
      "Model Number: 335 with model MetricMotif in generation 2 of 20\n",
      "Model Number: 336 with model GLS in generation 2 of 20\n",
      "Model Number: 337 with model LastValueNaive in generation 2 of 20\n"
     ]
    },
    {
     "name": "stderr",
     "output_type": "stream",
     "text": [
      "c:\\Users\\Lenovo\\AppData\\Local\\Programs\\Python\\Python312\\Lib\\site-packages\\sklearn\\linear_model\\_ridge.py:255: UserWarning: Singular matrix in solving dual problem. Using least-squares solution instead.\n",
      "  warnings.warn(\n",
      "c:\\Users\\Lenovo\\AppData\\Local\\Programs\\Python\\Python312\\Lib\\site-packages\\autots\\tools\\transform.py:5608: FutureWarning: Downcasting object dtype arrays on .fillna, .ffill, .bfill is deprecated and will change in a future version. Call result.infer_objects(copy=False) instead. To opt-in to the future behavior, set `pd.set_option('future.no_silent_downcasting', True)`\n",
      "  df = df.fillna(0)\n",
      "c:\\Users\\Lenovo\\AppData\\Local\\Programs\\Python\\Python312\\Lib\\site-packages\\autots\\tools\\transform.py:5608: FutureWarning: Downcasting object dtype arrays on .fillna, .ffill, .bfill is deprecated and will change in a future version. Call result.infer_objects(copy=False) instead. To opt-in to the future behavior, set `pd.set_option('future.no_silent_downcasting', True)`\n",
      "  df = df.fillna(0)\n"
     ]
    },
    {
     "name": "stdout",
     "output_type": "stream",
     "text": [
      "Model Number: 338 with model Cassandra in generation 2 of 20\n"
     ]
    },
    {
     "name": "stderr",
     "output_type": "stream",
     "text": [
      "c:\\Users\\Lenovo\\AppData\\Local\\Programs\\Python\\Python312\\Lib\\site-packages\\numpy\\lib\\function_base.py:2897: RuntimeWarning: invalid value encountered in divide\n",
      "  c /= stddev[:, None]\n",
      "c:\\Users\\Lenovo\\AppData\\Local\\Programs\\Python\\Python312\\Lib\\site-packages\\numpy\\lib\\function_base.py:2898: RuntimeWarning: invalid value encountered in divide\n",
      "  c /= stddev[None, :]\n"
     ]
    },
    {
     "name": "stdout",
     "output_type": "stream",
     "text": [
      "Model Number: 339 with model SectionalMotif in generation 2 of 20\n",
      "Model Number: 340 with model Cassandra in generation 2 of 20\n",
      "Model Number: 341 with model AverageValueNaive in generation 2 of 20\n"
     ]
    },
    {
     "name": "stderr",
     "output_type": "stream",
     "text": [
      "c:\\Users\\Lenovo\\AppData\\Local\\Programs\\Python\\Python312\\Lib\\site-packages\\numpy\\lib\\function_base.py:2897: RuntimeWarning: invalid value encountered in divide\n",
      "  c /= stddev[:, None]\n",
      "c:\\Users\\Lenovo\\AppData\\Local\\Programs\\Python\\Python312\\Lib\\site-packages\\numpy\\lib\\function_base.py:2898: RuntimeWarning: invalid value encountered in divide\n",
      "  c /= stddev[None, :]\n"
     ]
    },
    {
     "name": "stdout",
     "output_type": "stream",
     "text": [
      "Model Number: 342 with model FFT in generation 2 of 20\n",
      "Model Number: 343 with model MetricMotif in generation 2 of 20\n",
      "Model Number: 344 with model RRVAR in generation 2 of 20\n",
      "Model Number: 345 with model SeasonalityMotif in generation 2 of 20\n",
      "Model Number: 346 with model ETS in generation 2 of 20\n",
      "Model Number: 347 with model ETS in generation 2 of 20\n"
     ]
    },
    {
     "name": "stderr",
     "output_type": "stream",
     "text": [
      "c:\\Users\\Lenovo\\AppData\\Local\\Programs\\Python\\Python312\\Lib\\site-packages\\autots\\tools\\transform.py:5608: FutureWarning: Downcasting object dtype arrays on .fillna, .ffill, .bfill is deprecated and will change in a future version. Call result.infer_objects(copy=False) instead. To opt-in to the future behavior, set `pd.set_option('future.no_silent_downcasting', True)`\n",
      "  df = df.fillna(0)\n",
      "c:\\Users\\Lenovo\\AppData\\Local\\Programs\\Python\\Python312\\Lib\\site-packages\\autots\\tools\\transform.py:5608: FutureWarning: Downcasting object dtype arrays on .fillna, .ffill, .bfill is deprecated and will change in a future version. Call result.infer_objects(copy=False) instead. To opt-in to the future behavior, set `pd.set_option('future.no_silent_downcasting', True)`\n",
      "  df = df.fillna(0)\n"
     ]
    },
    {
     "name": "stdout",
     "output_type": "stream",
     "text": [
      "Model Number: 348 with model SeasonalNaive in generation 2 of 20\n",
      "Model Number: 349 with model UnivariateMotif in generation 2 of 20\n",
      "Model Number: 350 with model LastValueNaive in generation 2 of 20\n",
      "Model Number: 351 with model SeasonalityMotif in generation 2 of 20\n",
      "Model Number: 352 with model UnivariateMotif in generation 2 of 20\n",
      "Model Number: 353 with model Cassandra in generation 2 of 20\n",
      "Template Eval Error: ValueError('negative dimensions are not allowed') in model 353 in generation 2: Cassandra\n",
      "Model Number: 354 with model SeasonalityMotif in generation 2 of 20\n",
      "Model Number: 355 with model UnivariateMotif in generation 2 of 20\n",
      "Model Number: 356 with model Cassandra in generation 2 of 20\n"
     ]
    },
    {
     "name": "stderr",
     "output_type": "stream",
     "text": [
      "c:\\Users\\Lenovo\\AppData\\Local\\Programs\\Python\\Python312\\Lib\\site-packages\\numpy\\lib\\function_base.py:2897: RuntimeWarning: invalid value encountered in divide\n",
      "  c /= stddev[:, None]\n",
      "c:\\Users\\Lenovo\\AppData\\Local\\Programs\\Python\\Python312\\Lib\\site-packages\\numpy\\lib\\function_base.py:2898: RuntimeWarning: invalid value encountered in divide\n",
      "  c /= stddev[None, :]\n"
     ]
    },
    {
     "name": "stdout",
     "output_type": "stream",
     "text": [
      "Model Number: 357 with model ETS in generation 2 of 20\n",
      "Model Number: 358 with model Cassandra in generation 2 of 20\n",
      "Model Number: 359 with model FFT in generation 2 of 20\n"
     ]
    },
    {
     "name": "stderr",
     "output_type": "stream",
     "text": [
      "c:\\Users\\Lenovo\\AppData\\Local\\Programs\\Python\\Python312\\Lib\\site-packages\\numpy\\lib\\function_base.py:2897: RuntimeWarning: invalid value encountered in divide\n",
      "  c /= stddev[:, None]\n",
      "c:\\Users\\Lenovo\\AppData\\Local\\Programs\\Python\\Python312\\Lib\\site-packages\\numpy\\lib\\function_base.py:2898: RuntimeWarning: invalid value encountered in divide\n",
      "  c /= stddev[None, :]\n"
     ]
    },
    {
     "name": "stdout",
     "output_type": "stream",
     "text": [
      "Model Number: 360 with model KalmanStateSpace in generation 2 of 20\n",
      "Model Number: 361 with model MetricMotif in generation 2 of 20\n",
      "Model Number: 362 with model LastValueNaive in generation 2 of 20\n",
      "Model Number: 363 with model GLS in generation 2 of 20\n",
      "Model Number: 364 with model NVAR in generation 2 of 20\n",
      "Model Number: 365 with model GLS in generation 2 of 20\n",
      "Model Number: 366 with model UnivariateMotif in generation 2 of 20\n",
      "Template Eval Error: ValueError('kth(=10) out of bounds (9)') in model 366 in generation 2: UnivariateMotif\n",
      "Model Number: 367 with model DatepartRegression in generation 2 of 20\n",
      "Model Number: 368 with model SeasonalNaive in generation 2 of 20\n",
      "Model Number: 369 with model DatepartRegression in generation 2 of 20\n",
      "Template Eval Error: ValueError('Model DatepartRegression returned NaN for one or more series. fail_on_forecast_nan=True') in model 369 in generation 2: DatepartRegression\n",
      "Model Number: 370 with model LastValueNaive in generation 2 of 20\n",
      "Model Number: 371 with model SectionalMotif in generation 2 of 20\n",
      "Template Eval Error: ValueError(\"regression_type=='User' but no future_regressor supplied\") in model 371 in generation 2: SectionalMotif\n",
      "Model Number: 372 with model MetricMotif in generation 2 of 20\n"
     ]
    },
    {
     "name": "stderr",
     "output_type": "stream",
     "text": [
      "c:\\Users\\Lenovo\\AppData\\Local\\Programs\\Python\\Python312\\Lib\\site-packages\\sklearn\\neighbors\\_regression.py:509: UserWarning: One or more samples have no neighbors within specified radius; predicting NaN.\n",
      "  warnings.warn(empty_warning_msg)\n"
     ]
    },
    {
     "name": "stdout",
     "output_type": "stream",
     "text": [
      "Model Number: 373 with model BallTreeMultivariateMotif in generation 2 of 20\n",
      "Template Eval Error: IndexError('too many indices for array: array is 2-dimensional, but 3 were indexed') in model 373 in generation 2: BallTreeMultivariateMotif\n",
      "Model Number: 374 with model FFT in generation 2 of 20\n",
      "Model Number: 375 with model DatepartRegression in generation 2 of 20\n",
      "Model Number: 376 with model SeasonalNaive in generation 2 of 20\n",
      "Model Number: 377 with model GLS in generation 2 of 20\n",
      "New Generation: 3 of 20\n",
      "Model Number: 378 with model ETS in generation 3 of 20\n",
      "Model Number: 379 with model UnivariateMotif in generation 3 of 20\n",
      "Model Number: 380 with model SeasonalNaive in generation 3 of 20\n",
      "Model Number: 381 with model AverageValueNaive in generation 3 of 20\n",
      "Model Number: 382 with model SeasonalityMotif in generation 3 of 20\n",
      "Model Number: 383 with model DatepartRegression in generation 3 of 20\n",
      "Template Eval Error: InvalidParameterError(\"The 'alpha' parameter of MLPRegressor must be a float in the range [0.0, inf). Got None instead.\") in model 383 in generation 3: DatepartRegression\n",
      "Model Number: 384 with model LastValueNaive in generation 3 of 20\n",
      "Model Number: 385 with model LastValueNaive in generation 3 of 20\n",
      "Model Number: 386 with model DatepartRegression in generation 3 of 20\n",
      "Template Eval Error: Exception(\"Transformer STLFilter failed on fit from params mean {'0': {'method': 'clip', 'std_threshold': 3, 'fillna': None}, '1': {'decomp_type': 'seasonal_decompose', 'part': 'trend'}, '2': {'rows': 1, 'lag': 1, 'method': 'multiplicative', 'strength': 1.0, 'first_value_only': False, 'threshold': 10, 'threshold_method': 'mean'}}\") in model 386 in generation 3: DatepartRegression\n",
      "Model Number: 387 with model Cassandra in generation 3 of 20\n"
     ]
    },
    {
     "name": "stderr",
     "output_type": "stream",
     "text": [
      "c:\\Users\\Lenovo\\AppData\\Local\\Programs\\Python\\Python312\\Lib\\site-packages\\numpy\\lib\\function_base.py:2897: RuntimeWarning: invalid value encountered in divide\n",
      "  c /= stddev[:, None]\n",
      "c:\\Users\\Lenovo\\AppData\\Local\\Programs\\Python\\Python312\\Lib\\site-packages\\numpy\\lib\\function_base.py:2898: RuntimeWarning: invalid value encountered in divide\n",
      "  c /= stddev[None, :]\n"
     ]
    },
    {
     "name": "stdout",
     "output_type": "stream",
     "text": [
      "Model Number: 388 with model ETS in generation 3 of 20\n",
      "Model Number: 389 with model GLM in generation 3 of 20\n",
      "Model Number: 390 with model SeasonalNaive in generation 3 of 20\n",
      "Model Number: 391 with model ConstantNaive in generation 3 of 20\n",
      "Model Number: 392 with model UnivariateMotif in generation 3 of 20\n",
      "Model Number: 393 with model UnivariateMotif in generation 3 of 20\n",
      "Template Eval Error: ValueError('kth(=10) out of bounds (9)') in model 393 in generation 3: UnivariateMotif\n",
      "Model Number: 394 with model ETS in generation 3 of 20\n",
      "Model Number: 395 with model ConstantNaive in generation 3 of 20\n",
      "Model Number: 396 with model NVAR in generation 3 of 20\n",
      "Model Number: 397 with model LastValueNaive in generation 3 of 20\n",
      "Model Number: 398 with model Cassandra in generation 3 of 20\n",
      "Model Number: 399 with model ETS in generation 3 of 20\n",
      "Model Number: 400 with model MetricMotif in generation 3 of 20\n",
      "Model Number: 401 with model SeasonalNaive in generation 3 of 20\n",
      "Model Number: 402 with model ConstantNaive in generation 3 of 20\n",
      "Model Number: 403 with model FFT in generation 3 of 20\n",
      "Model Number: 404 with model FFT in generation 3 of 20\n",
      "Model Number: 405 with model GLS in generation 3 of 20\n",
      "Model Number: 406 with model FFT in generation 3 of 20\n",
      "Model Number: 407 with model KalmanStateSpace in generation 3 of 20\n",
      "Model Number: 408 with model SeasonalityMotif in generation 3 of 20\n",
      "Model Number: 409 with model SeasonalNaive in generation 3 of 20\n",
      "Model Number: 410 with model FFT in generation 3 of 20\n"
     ]
    },
    {
     "name": "stderr",
     "output_type": "stream",
     "text": [
      "c:\\Users\\Lenovo\\AppData\\Local\\Programs\\Python\\Python312\\Lib\\site-packages\\autots\\tools\\transform.py:5608: FutureWarning: Downcasting object dtype arrays on .fillna, .ffill, .bfill is deprecated and will change in a future version. Call result.infer_objects(copy=False) instead. To opt-in to the future behavior, set `pd.set_option('future.no_silent_downcasting', True)`\n",
      "  df = df.fillna(0)\n",
      "c:\\Users\\Lenovo\\AppData\\Local\\Programs\\Python\\Python312\\Lib\\site-packages\\autots\\tools\\transform.py:5608: FutureWarning: Downcasting object dtype arrays on .fillna, .ffill, .bfill is deprecated and will change in a future version. Call result.infer_objects(copy=False) instead. To opt-in to the future behavior, set `pd.set_option('future.no_silent_downcasting', True)`\n",
      "  df = df.fillna(0)\n"
     ]
    },
    {
     "name": "stdout",
     "output_type": "stream",
     "text": [
      "Model Number: 411 with model DatepartRegression in generation 3 of 20\n",
      "Model Number: 412 with model FFT in generation 3 of 20\n",
      "Model Number: 413 with model AverageValueNaive in generation 3 of 20\n",
      "Model Number: 414 with model KalmanStateSpace in generation 3 of 20\n",
      "Model Number: 415 with model FFT in generation 3 of 20\n",
      "Model Number: 416 with model ETS in generation 3 of 20\n",
      "Model Number: 417 with model UnivariateMotif in generation 3 of 20\n",
      "Model Number: 418 with model ETS in generation 3 of 20\n",
      "Model Number: 419 with model BallTreeMultivariateMotif in generation 3 of 20\n",
      "Template Eval Error: ValueError('negative dimensions are not allowed') in model 419 in generation 3: BallTreeMultivariateMotif\n",
      "Model Number: 420 with model UnivariateMotif in generation 3 of 20\n",
      "Model Number: 421 with model VECM in generation 3 of 20\n",
      "Model Number: 422 with model SeasonalNaive in generation 3 of 20\n",
      "Model Number: 423 with model KalmanStateSpace in generation 3 of 20\n",
      "Model Number: 424 with model RRVAR in generation 3 of 20\n",
      "Model Number: 425 with model Cassandra in generation 3 of 20\n",
      "Model Number: 426 with model BallTreeMultivariateMotif in generation 3 of 20\n"
     ]
    },
    {
     "name": "stderr",
     "output_type": "stream",
     "text": [
      "c:\\Users\\Lenovo\\AppData\\Local\\Programs\\Python\\Python312\\Lib\\site-packages\\numpy\\lib\\function_base.py:2897: RuntimeWarning: invalid value encountered in divide\n",
      "  c /= stddev[:, None]\n",
      "c:\\Users\\Lenovo\\AppData\\Local\\Programs\\Python\\Python312\\Lib\\site-packages\\numpy\\lib\\function_base.py:2898: RuntimeWarning: invalid value encountered in divide\n",
      "  c /= stddev[None, :]\n"
     ]
    },
    {
     "name": "stdout",
     "output_type": "stream",
     "text": [
      "Template Eval Error: Exception(\"Transformer STLFilter failed on fit from params pchip {'0': {'decomp_type': 'seasonal_decompose', 'part': 'trend'}, '1': {'lag_1': 12, 'method': 2}, '2': {}, '3': {}, '4': {'rows': 1, 'lag': 1, 'method': 'additive', 'strength': 1.0, 'first_value_only': False, 'threshold': None, 'threshold_method': 'mean'}}\") in model 426 in generation 3: BallTreeMultivariateMotif\n",
      "Model Number: 427 with model GLM in generation 3 of 20\n",
      "Model Number: 428 with model MetricMotif in generation 3 of 20\n",
      "Model Number: 429 with model AverageValueNaive in generation 3 of 20\n",
      "Model Number: 430 with model FFT in generation 3 of 20\n",
      "Model Number: 431 with model ConstantNaive in generation 3 of 20\n",
      "Model Number: 432 with model ETS in generation 3 of 20\n",
      "Model Number: 433 with model GLM in generation 3 of 20\n",
      "Template Eval Error: ValueError('NaN, inf or invalid value detected in weights, estimation infeasible.') in model 433 in generation 3: GLM\n",
      "Model Number: 434 with model SeasonalityMotif in generation 3 of 20\n",
      "Model Number: 435 with model GLM in generation 3 of 20\n"
     ]
    },
    {
     "name": "stderr",
     "output_type": "stream",
     "text": [
      "c:\\Users\\Lenovo\\AppData\\Local\\Programs\\Python\\Python312\\Lib\\site-packages\\autots\\tools\\transform.py:5608: FutureWarning: Downcasting object dtype arrays on .fillna, .ffill, .bfill is deprecated and will change in a future version. Call result.infer_objects(copy=False) instead. To opt-in to the future behavior, set `pd.set_option('future.no_silent_downcasting', True)`\n",
      "  df = df.fillna(0)\n",
      "c:\\Users\\Lenovo\\AppData\\Local\\Programs\\Python\\Python312\\Lib\\site-packages\\autots\\tools\\transform.py:5608: FutureWarning: Downcasting object dtype arrays on .fillna, .ffill, .bfill is deprecated and will change in a future version. Call result.infer_objects(copy=False) instead. To opt-in to the future behavior, set `pd.set_option('future.no_silent_downcasting', True)`\n",
      "  df = df.fillna(0)\n",
      "c:\\Users\\Lenovo\\AppData\\Local\\Programs\\Python\\Python312\\Lib\\site-packages\\statsmodels\\genmod\\families\\links.py:527: RuntimeWarning: overflow encountered in exp\n",
      "  return np.exp(z)\n",
      "c:\\Users\\Lenovo\\AppData\\Local\\Programs\\Python\\Python312\\Lib\\site-packages\\statsmodels\\genmod\\families\\family.py:143: RuntimeWarning: invalid value encountered in multiply\n",
      "  return 1. / (self.link.deriv(mu)**2 * self.variance(mu))\n",
      "c:\\Users\\Lenovo\\AppData\\Local\\Programs\\Python\\Python312\\Lib\\site-packages\\statsmodels\\genmod\\generalized_linear_model.py:1328: RuntimeWarning: invalid value encountered in multiply\n",
      "  wlsendog = (lin_pred + self.family.link.deriv(mu) * (self.endog-mu)\n",
      "c:\\Users\\Lenovo\\AppData\\Local\\Programs\\Python\\Python312\\Lib\\site-packages\\statsmodels\\genmod\\generalized_linear_model.py:308: DomainWarning: The InversePower link function does not respect the domain of the Gamma family.\n",
      "  warnings.warn((f\"The {type(family.link).__name__} link function \"\n",
      "c:\\Users\\Lenovo\\AppData\\Local\\Programs\\Python\\Python312\\Lib\\site-packages\\statsmodels\\genmod\\generalized_linear_model.py:308: DomainWarning: The InversePower link function does not respect the domain of the Gamma family.\n",
      "  warnings.warn((f\"The {type(family.link).__name__} link function \"\n",
      "c:\\Users\\Lenovo\\AppData\\Local\\Programs\\Python\\Python312\\Lib\\site-packages\\statsmodels\\genmod\\generalized_linear_model.py:308: DomainWarning: The InversePower link function does not respect the domain of the Gamma family.\n",
      "  warnings.warn((f\"The {type(family.link).__name__} link function \"\n",
      "c:\\Users\\Lenovo\\AppData\\Local\\Programs\\Python\\Python312\\Lib\\site-packages\\statsmodels\\genmod\\generalized_linear_model.py:308: DomainWarning: The InversePower link function does not respect the domain of the Gamma family.\n",
      "  warnings.warn((f\"The {type(family.link).__name__} link function \"\n",
      "c:\\Users\\Lenovo\\AppData\\Local\\Programs\\Python\\Python312\\Lib\\site-packages\\statsmodels\\genmod\\generalized_linear_model.py:308: DomainWarning: The InversePower link function does not respect the domain of the Gamma family.\n",
      "  warnings.warn((f\"The {type(family.link).__name__} link function \"\n",
      "c:\\Users\\Lenovo\\AppData\\Local\\Programs\\Python\\Python312\\Lib\\site-packages\\statsmodels\\genmod\\generalized_linear_model.py:308: DomainWarning: The InversePower link function does not respect the domain of the Gamma family.\n",
      "  warnings.warn((f\"The {type(family.link).__name__} link function \"\n",
      "c:\\Users\\Lenovo\\AppData\\Local\\Programs\\Python\\Python312\\Lib\\site-packages\\statsmodels\\genmod\\generalized_linear_model.py:308: DomainWarning: The InversePower link function does not respect the domain of the Gamma family.\n",
      "  warnings.warn((f\"The {type(family.link).__name__} link function \"\n",
      "c:\\Users\\Lenovo\\AppData\\Local\\Programs\\Python\\Python312\\Lib\\site-packages\\statsmodels\\genmod\\generalized_linear_model.py:308: DomainWarning: The InversePower link function does not respect the domain of the Gamma family.\n",
      "  warnings.warn((f\"The {type(family.link).__name__} link function \"\n",
      "c:\\Users\\Lenovo\\AppData\\Local\\Programs\\Python\\Python312\\Lib\\site-packages\\statsmodels\\genmod\\generalized_linear_model.py:308: DomainWarning: The InversePower link function does not respect the domain of the Gamma family.\n",
      "  warnings.warn((f\"The {type(family.link).__name__} link function \"\n"
     ]
    },
    {
     "name": "stdout",
     "output_type": "stream",
     "text": [
      "Model Number: 436 with model LastValueNaive in generation 3 of 20\n",
      "Model Number: 437 with model BallTreeMultivariateMotif in generation 3 of 20\n",
      "Template Eval Error: TypeError('1D weights expected when shapes of a and weights differ.') in model 437 in generation 3: BallTreeMultivariateMotif\n",
      "Model Number: 438 with model DatepartRegression in generation 3 of 20\n",
      "Model Number: 439 with model ConstantNaive in generation 3 of 20\n",
      "Model Number: 440 with model DatepartRegression in generation 3 of 20\n",
      "Template Eval Error: ValueError(\"regression_type='User' but no future_regressor passed\") in model 440 in generation 3: DatepartRegression\n",
      "Model Number: 441 with model AverageValueNaive in generation 3 of 20\n",
      "Model Number: 442 with model AverageValueNaive in generation 3 of 20\n",
      "Model Number: 443 with model FFT in generation 3 of 20\n"
     ]
    },
    {
     "name": "stderr",
     "output_type": "stream",
     "text": [
      "c:\\Users\\Lenovo\\AppData\\Local\\Programs\\Python\\Python312\\Lib\\site-packages\\sklearn\\svm\\_base.py:1235: ConvergenceWarning: Liblinear failed to converge, increase the number of iterations.\n",
      "  warnings.warn(\n",
      "c:\\Users\\Lenovo\\AppData\\Local\\Programs\\Python\\Python312\\Lib\\site-packages\\sklearn\\svm\\_base.py:1235: ConvergenceWarning: Liblinear failed to converge, increase the number of iterations.\n",
      "  warnings.warn(\n",
      "c:\\Users\\Lenovo\\AppData\\Local\\Programs\\Python\\Python312\\Lib\\site-packages\\sklearn\\svm\\_base.py:1235: ConvergenceWarning: Liblinear failed to converge, increase the number of iterations.\n",
      "  warnings.warn(\n",
      "c:\\Users\\Lenovo\\AppData\\Local\\Programs\\Python\\Python312\\Lib\\site-packages\\sklearn\\svm\\_base.py:1235: ConvergenceWarning: Liblinear failed to converge, increase the number of iterations.\n",
      "  warnings.warn(\n",
      "c:\\Users\\Lenovo\\AppData\\Local\\Programs\\Python\\Python312\\Lib\\site-packages\\sklearn\\svm\\_base.py:1235: ConvergenceWarning: Liblinear failed to converge, increase the number of iterations.\n",
      "  warnings.warn(\n",
      "c:\\Users\\Lenovo\\AppData\\Local\\Programs\\Python\\Python312\\Lib\\site-packages\\sklearn\\svm\\_base.py:1235: ConvergenceWarning: Liblinear failed to converge, increase the number of iterations.\n",
      "  warnings.warn(\n",
      "c:\\Users\\Lenovo\\AppData\\Local\\Programs\\Python\\Python312\\Lib\\site-packages\\sklearn\\svm\\_base.py:1235: ConvergenceWarning: Liblinear failed to converge, increase the number of iterations.\n",
      "  warnings.warn(\n",
      "c:\\Users\\Lenovo\\AppData\\Local\\Programs\\Python\\Python312\\Lib\\site-packages\\sklearn\\svm\\_base.py:1235: ConvergenceWarning: Liblinear failed to converge, increase the number of iterations.\n",
      "  warnings.warn(\n",
      "c:\\Users\\Lenovo\\AppData\\Local\\Programs\\Python\\Python312\\Lib\\site-packages\\sklearn\\svm\\_base.py:1235: ConvergenceWarning: Liblinear failed to converge, increase the number of iterations.\n",
      "  warnings.warn(\n"
     ]
    },
    {
     "name": "stdout",
     "output_type": "stream",
     "text": [
      "Model Number: 444 with model SeasonalNaive in generation 3 of 20\n",
      "Model Number: 445 with model SeasonalityMotif in generation 3 of 20\n",
      "Model Number: 446 with model GLS in generation 3 of 20\n",
      "Model Number: 447 with model DatepartRegression in generation 3 of 20\n",
      "Model Number: 448 with model ETS in generation 3 of 20\n",
      "Model Number: 449 with model AverageValueNaive in generation 3 of 20\n",
      "Model Number: 450 with model SectionalMotif in generation 3 of 20\n",
      "Template Eval Error: ValueError('kth(=20) out of bounds (14)') in model 450 in generation 3: SectionalMotif\n",
      "Model Number: 451 with model KalmanStateSpace in generation 3 of 20\n",
      "Model Number: 452 with model SeasonalNaive in generation 3 of 20\n",
      "Template Eval Error: Exception(\"Transformer AlignLastValue failed on fit from params rolling_mean {'0': {'method': 'clip', 'std_threshold': 2, 'fillna': None}, '1': {}, '2': {}, '3': {'rows': 1, 'lag': 28, 'method': 'additive', 'strength': 1.0, 'first_value_only': False, 'threshold': 1, 'threshold_method': 'mean'}}\") in model 452 in generation 3: SeasonalNaive\n",
      "Model Number: 453 with model MetricMotif in generation 3 of 20\n",
      "Model Number: 454 with model GLS in generation 3 of 20\n"
     ]
    },
    {
     "name": "stderr",
     "output_type": "stream",
     "text": [
      "c:\\Users\\Lenovo\\AppData\\Local\\Programs\\Python\\Python312\\Lib\\site-packages\\sklearn\\linear_model\\_coordinate_descent.py:2639: ConvergenceWarning: Objective did not converge. You might want to increase the number of iterations. Duality gap: 136377.26512566875, tolerance: 1989.5387904761901\n",
      "  ) = cd_fast.enet_coordinate_descent_multi_task(\n"
     ]
    },
    {
     "name": "stdout",
     "output_type": "stream",
     "text": [
      "Model Number: 455 with model SectionalMotif in generation 3 of 20\n",
      "Template Eval Error: ValueError('kth(=10) out of bounds (9)') in model 455 in generation 3: SectionalMotif\n",
      "Model Number: 456 with model ETS in generation 3 of 20\n",
      "Model Number: 457 with model AverageValueNaive in generation 3 of 20\n",
      "Model Number: 458 with model GLM in generation 3 of 20\n",
      "Template Eval Error: UnboundLocalError(\"cannot access local variable 'Xf' where it is not associated with a value\") in model 458 in generation 3: GLM\n",
      "Model Number: 459 with model AverageValueNaive in generation 3 of 20\n",
      "Model Number: 460 with model Cassandra in generation 3 of 20\n",
      "Model Number: 461 with model ConstantNaive in generation 3 of 20\n",
      "Template Eval Error: Exception(\"Transformer STLFilter failed on fit from params ffill {'0': {'decomp_type': 'seasonal_decompose', 'part': 'trend'}, '1': {'rows': 1, 'lag': 1, 'method': 'additive', 'strength': 1.0, 'first_value_only': False, 'threshold': None, 'threshold_method': 'max'}, '2': {'window_size': 90, 'alpha': 3.0, 'grouping_forward_limit': 3, 'max_level_shifts': 30, 'alignment': 'average'}}\") in model 461 in generation 3: ConstantNaive\n",
      "Model Number: 462 with model GLS in generation 3 of 20\n",
      "Model Number: 463 with model FFT in generation 3 of 20\n",
      "Model Number: 464 with model KalmanStateSpace in generation 3 of 20\n",
      "Model Number: 465 with model UnivariateMotif in generation 3 of 20\n",
      "Model Number: 466 with model BallTreeMultivariateMotif in generation 3 of 20\n",
      "Template Eval Error: Exception(\"Transformer STLFilter failed on fit from params pchip {'0': {'decomp_type': 'seasonal_decompose', 'part': 'trend'}, '1': {'lag_1': 12, 'method': 2}, '2': {}, '3': {'rows': 3}}\") in model 466 in generation 3: BallTreeMultivariateMotif\n",
      "Model Number: 467 with model ConstantNaive in generation 3 of 20\n",
      "Model Number: 468 with model SeasonalNaive in generation 3 of 20\n",
      "Model Number: 469 with model WindowRegression in generation 3 of 20\n",
      "Model Number: 470 with model SectionalMotif in generation 3 of 20\n",
      "Model Number: 471 with model BallTreeMultivariateMotif in generation 3 of 20\n",
      "Model Number: 472 with model SectionalMotif in generation 3 of 20\n",
      "Model Number: 473 with model AverageValueNaive in generation 3 of 20\n",
      "Template Eval Error: ValueError('Model AverageValueNaive returned NaN for one or more series. fail_on_forecast_nan=True') in model 473 in generation 3: AverageValueNaive\n",
      "Model Number: 474 with model GLM in generation 3 of 20\n",
      "Model Number: 475 with model AverageValueNaive in generation 3 of 20\n"
     ]
    },
    {
     "name": "stderr",
     "output_type": "stream",
     "text": [
      "c:\\Users\\Lenovo\\AppData\\Local\\Programs\\Python\\Python312\\Lib\\site-packages\\autots\\tools\\percentile.py:47: RuntimeWarning: All-NaN slice encountered\n",
      "  max_val = np.nanmax(arr)\n",
      "c:\\Users\\Lenovo\\AppData\\Local\\Programs\\Python\\Python312\\Lib\\site-packages\\statsmodels\\genmod\\generalized_linear_model.py:308: DomainWarning: The InversePower link function does not respect the domain of the Gamma family.\n",
      "  warnings.warn((f\"The {type(family.link).__name__} link function \"\n",
      "c:\\Users\\Lenovo\\AppData\\Local\\Programs\\Python\\Python312\\Lib\\site-packages\\statsmodels\\genmod\\generalized_linear_model.py:308: DomainWarning: The InversePower link function does not respect the domain of the Gamma family.\n",
      "  warnings.warn((f\"The {type(family.link).__name__} link function \"\n",
      "c:\\Users\\Lenovo\\AppData\\Local\\Programs\\Python\\Python312\\Lib\\site-packages\\statsmodels\\genmod\\generalized_linear_model.py:308: DomainWarning: The InversePower link function does not respect the domain of the Gamma family.\n",
      "  warnings.warn((f\"The {type(family.link).__name__} link function \"\n",
      "c:\\Users\\Lenovo\\AppData\\Local\\Programs\\Python\\Python312\\Lib\\site-packages\\statsmodels\\genmod\\generalized_linear_model.py:308: DomainWarning: The InversePower link function does not respect the domain of the Gamma family.\n",
      "  warnings.warn((f\"The {type(family.link).__name__} link function \"\n",
      "c:\\Users\\Lenovo\\AppData\\Local\\Programs\\Python\\Python312\\Lib\\site-packages\\statsmodels\\genmod\\generalized_linear_model.py:308: DomainWarning: The InversePower link function does not respect the domain of the Gamma family.\n",
      "  warnings.warn((f\"The {type(family.link).__name__} link function \"\n",
      "c:\\Users\\Lenovo\\AppData\\Local\\Programs\\Python\\Python312\\Lib\\site-packages\\statsmodels\\genmod\\generalized_linear_model.py:308: DomainWarning: The InversePower link function does not respect the domain of the Gamma family.\n",
      "  warnings.warn((f\"The {type(family.link).__name__} link function \"\n",
      "c:\\Users\\Lenovo\\AppData\\Local\\Programs\\Python\\Python312\\Lib\\site-packages\\statsmodels\\genmod\\generalized_linear_model.py:308: DomainWarning: The InversePower link function does not respect the domain of the Gamma family.\n",
      "  warnings.warn((f\"The {type(family.link).__name__} link function \"\n",
      "c:\\Users\\Lenovo\\AppData\\Local\\Programs\\Python\\Python312\\Lib\\site-packages\\statsmodels\\genmod\\generalized_linear_model.py:308: DomainWarning: The InversePower link function does not respect the domain of the Gamma family.\n",
      "  warnings.warn((f\"The {type(family.link).__name__} link function \"\n",
      "c:\\Users\\Lenovo\\AppData\\Local\\Programs\\Python\\Python312\\Lib\\site-packages\\statsmodels\\genmod\\generalized_linear_model.py:308: DomainWarning: The InversePower link function does not respect the domain of the Gamma family.\n",
      "  warnings.warn((f\"The {type(family.link).__name__} link function \"\n"
     ]
    },
    {
     "name": "stdout",
     "output_type": "stream",
     "text": [
      "Model Number: 476 with model UnivariateMotif in generation 3 of 20\n",
      "Model Number: 477 with model FFT in generation 3 of 20\n",
      "Model Number: 478 with model FFT in generation 3 of 20\n",
      "Model Number: 479 with model LastValueNaive in generation 3 of 20\n",
      "Model Number: 480 with model MetricMotif in generation 3 of 20\n",
      "Model Number: 481 with model UnivariateMotif in generation 3 of 20\n",
      "Model Number: 482 with model SeasonalNaive in generation 3 of 20\n",
      "Model Number: 483 with model LastValueNaive in generation 3 of 20\n",
      "Model Number: 484 with model ETS in generation 3 of 20\n",
      "Model Number: 485 with model UnivariateMotif in generation 3 of 20\n",
      "Model Number: 486 with model Cassandra in generation 3 of 20\n",
      "Model Number: 487 with model VECM in generation 3 of 20\n",
      "New Generation: 4 of 20\n",
      "Model Number: 488 with model SectionalMotif in generation 4 of 20\n",
      "Model Number: 489 with model RRVAR in generation 4 of 20\n",
      "Model Number: 490 with model Cassandra in generation 4 of 20\n",
      "Model Number: 491 with model ETS in generation 4 of 20\n",
      "Model Number: 492 with model BallTreeMultivariateMotif in generation 4 of 20\n",
      "Model Number: 493 with model DatepartRegression in generation 4 of 20\n",
      "Template Eval Error: InvalidParameterError(\"The 'alpha' parameter of MLPRegressor must be a float in the range [0.0, inf). Got None instead.\") in model 493 in generation 4: DatepartRegression\n",
      "Model Number: 494 with model DatepartRegression in generation 4 of 20\n",
      "Template Eval Error: ValueError('Model DatepartRegression returned NaN for one or more series. fail_on_forecast_nan=True') in model 494 in generation 4: DatepartRegression\n",
      "Model Number: 495 with model Cassandra in generation 4 of 20\n"
     ]
    },
    {
     "name": "stderr",
     "output_type": "stream",
     "text": [
      "c:\\Users\\Lenovo\\AppData\\Local\\Programs\\Python\\Python312\\Lib\\site-packages\\sklearn\\neighbors\\_regression.py:509: UserWarning: One or more samples have no neighbors within specified radius; predicting NaN.\n",
      "  warnings.warn(empty_warning_msg)\n",
      "c:\\Users\\Lenovo\\AppData\\Local\\Programs\\Python\\Python312\\Lib\\site-packages\\numpy\\lib\\function_base.py:2897: RuntimeWarning: invalid value encountered in divide\n",
      "  c /= stddev[:, None]\n",
      "c:\\Users\\Lenovo\\AppData\\Local\\Programs\\Python\\Python312\\Lib\\site-packages\\numpy\\lib\\function_base.py:2898: RuntimeWarning: invalid value encountered in divide\n",
      "  c /= stddev[None, :]\n"
     ]
    },
    {
     "name": "stdout",
     "output_type": "stream",
     "text": [
      "Model Number: 496 with model ETS in generation 4 of 20\n",
      "Model Number: 497 with model ETS in generation 4 of 20\n",
      "Model Number: 498 with model DatepartRegression in generation 4 of 20\n",
      "Model Number: 499 with model ConstantNaive in generation 4 of 20\n",
      "Model Number: 500 with model SeasonalNaive in generation 4 of 20\n",
      "Model Number: 501 with model ETS in generation 4 of 20\n",
      "Model Number: 502 with model ETS in generation 4 of 20\n",
      "Model Number: 503 with model KalmanStateSpace in generation 4 of 20\n",
      "Model Number: 504 with model Cassandra in generation 4 of 20\n"
     ]
    },
    {
     "name": "stderr",
     "output_type": "stream",
     "text": [
      "c:\\Users\\Lenovo\\AppData\\Local\\Programs\\Python\\Python312\\Lib\\site-packages\\numpy\\lib\\function_base.py:2897: RuntimeWarning: invalid value encountered in divide\n",
      "  c /= stddev[:, None]\n",
      "c:\\Users\\Lenovo\\AppData\\Local\\Programs\\Python\\Python312\\Lib\\site-packages\\numpy\\lib\\function_base.py:2898: RuntimeWarning: invalid value encountered in divide\n",
      "  c /= stddev[None, :]\n"
     ]
    },
    {
     "name": "stdout",
     "output_type": "stream",
     "text": [
      "Model Number: 505 with model ETS in generation 4 of 20\n",
      "Model Number: 506 with model DatepartRegression in generation 4 of 20\n",
      "Template Eval Error: ValueError('Model DatepartRegression returned NaN for one or more series. fail_on_forecast_nan=True') in model 506 in generation 4: DatepartRegression\n",
      "Model Number: 507 with model WindowRegression in generation 4 of 20\n",
      "Model Number: 508 with model SeasonalityMotif in generation 4 of 20\n"
     ]
    },
    {
     "name": "stderr",
     "output_type": "stream",
     "text": [
      "c:\\Users\\Lenovo\\AppData\\Local\\Programs\\Python\\Python312\\Lib\\site-packages\\sklearn\\neighbors\\_regression.py:509: UserWarning: One or more samples have no neighbors within specified radius; predicting NaN.\n",
      "  warnings.warn(empty_warning_msg)\n"
     ]
    },
    {
     "name": "stdout",
     "output_type": "stream",
     "text": [
      "Model Number: 509 with model MetricMotif in generation 4 of 20\n"
     ]
    },
    {
     "name": "stderr",
     "output_type": "stream",
     "text": [
      "c:\\Users\\Lenovo\\AppData\\Local\\Programs\\Python\\Python312\\Lib\\site-packages\\numpy\\core\\fromnumeric.py:3504: RuntimeWarning: Mean of empty slice.\n",
      "  return _methods._mean(a, axis=axis, dtype=dtype,\n",
      "c:\\Users\\Lenovo\\AppData\\Local\\Programs\\Python\\Python312\\Lib\\site-packages\\numpy\\core\\_methods.py:129: RuntimeWarning: invalid value encountered in scalar divide\n",
      "  ret = ret.dtype.type(ret / rcount)\n",
      "c:\\Users\\Lenovo\\AppData\\Local\\Programs\\Python\\Python312\\Lib\\site-packages\\numpy\\core\\_methods.py:206: RuntimeWarning: Degrees of freedom <= 0 for slice\n",
      "  ret = _var(a, axis=axis, dtype=dtype, out=out, ddof=ddof,\n",
      "c:\\Users\\Lenovo\\AppData\\Local\\Programs\\Python\\Python312\\Lib\\site-packages\\numpy\\core\\_methods.py:163: RuntimeWarning: invalid value encountered in divide\n",
      "  arrmean = um.true_divide(arrmean, div, out=arrmean,\n",
      "c:\\Users\\Lenovo\\AppData\\Local\\Programs\\Python\\Python312\\Lib\\site-packages\\numpy\\core\\_methods.py:198: RuntimeWarning: invalid value encountered in scalar divide\n",
      "  ret = ret.dtype.type(ret / rcount)\n",
      "c:\\Users\\Lenovo\\AppData\\Local\\Programs\\Python\\Python312\\Lib\\site-packages\\autots\\tools\\thresholding.py:359: RuntimeWarning: invalid value encountered in divide\n",
      "  return abs(self.e_s - self.epsilon) / (self.mean_e_s + self.sd_e_s)\n"
     ]
    },
    {
     "name": "stdout",
     "output_type": "stream",
     "text": [
      "Model Number: 510 with model MetricMotif in generation 4 of 20\n"
     ]
    },
    {
     "name": "stderr",
     "output_type": "stream",
     "text": [
      "c:\\Users\\Lenovo\\AppData\\Local\\Programs\\Python\\Python312\\Lib\\site-packages\\autots\\tools\\impute.py:60: RuntimeWarning: Mean of empty slice\n",
      "  arr = np.nan_to_num(arr) + np.isnan(arr) * np.nan_to_num(np.nanmean(arr, axis=0))\n",
      "c:\\Users\\Lenovo\\AppData\\Local\\Programs\\Python\\Python312\\Lib\\site-packages\\statsmodels\\genmod\\generalized_linear_model.py:308: DomainWarning: The InversePower link function does not respect the domain of the Gamma family.\n",
      "  warnings.warn((f\"The {type(family.link).__name__} link function \"\n",
      "c:\\Users\\Lenovo\\AppData\\Local\\Programs\\Python\\Python312\\Lib\\site-packages\\statsmodels\\genmod\\families\\family.py:143: RuntimeWarning: overflow encountered in square\n",
      "  return 1. / (self.link.deriv(mu)**2 * self.variance(mu))\n",
      "c:\\Users\\Lenovo\\AppData\\Local\\Programs\\Python\\Python312\\Lib\\site-packages\\statsmodels\\genmod\\families\\links.py:325: RuntimeWarning: divide by zero encountered in power\n",
      "  return np.power(z, 1. / self.power)\n",
      "c:\\Users\\Lenovo\\AppData\\Local\\Programs\\Python\\Python312\\Lib\\site-packages\\statsmodels\\genmod\\families\\family.py:775: RuntimeWarning: invalid value encountered in divide\n",
      "  resid_dev = -np.log(endog_mu) + (endog - mu) / mu\n",
      "c:\\Users\\Lenovo\\AppData\\Local\\Programs\\Python\\Python312\\Lib\\site-packages\\statsmodels\\genmod\\generalized_linear_model.py:898: RuntimeWarning: invalid value encountered in divide\n",
      "  return np.sum(resid / self.family.variance(mu)) / self.df_resid\n",
      "c:\\Users\\Lenovo\\AppData\\Local\\Programs\\Python\\Python312\\Lib\\site-packages\\statsmodels\\genmod\\families\\family.py:143: RuntimeWarning: invalid value encountered in multiply\n",
      "  return 1. / (self.link.deriv(mu)**2 * self.variance(mu))\n",
      "c:\\Users\\Lenovo\\AppData\\Local\\Programs\\Python\\Python312\\Lib\\site-packages\\statsmodels\\genmod\\generalized_linear_model.py:1328: RuntimeWarning: invalid value encountered in multiply\n",
      "  wlsendog = (lin_pred + self.family.link.deriv(mu) * (self.endog-mu)\n"
     ]
    },
    {
     "name": "stdout",
     "output_type": "stream",
     "text": [
      "Model Number: 511 with model GLM in generation 4 of 20\n",
      "Template Eval Error: ValueError('NaN, inf or invalid value detected in weights, estimation infeasible.') in model 511 in generation 4: GLM\n",
      "Model Number: 512 with model NVAR in generation 4 of 20\n",
      "Model Number: 513 with model GLS in generation 4 of 20\n",
      "Model Number: 514 with model GLM in generation 4 of 20\n",
      "Template Eval Error: Exception(\"Transformer DatepartRegression failed on fit from params akima {'0': {'regression_model': {'model': 'ElasticNet', 'model_params': {'l1_ratio': 0.5, 'fit_intercept': True, 'selection': 'cyclic'}}, 'datepart_method': 'simple_poly', 'polynomial_degree': None, 'transform_dict': {'fillna': None, 'transformations': {'0': 'AnomalyRemoval'}, 'transformation_params': {'0': {'method': 'zscore', 'transform_dict': {'transformations': {'0': 'DatepartRegression'}, 'transformation_params': {'0': {'datepart_method': 'simple_3', 'regression_model': {'model': 'ElasticNet', 'model_params': {}}}}}, 'method_params': {'distribution': 'uniform', 'alpha': 0.05}}}}, 'holiday_countries_used': False, 'lags': None, 'forward_lags': None}, '1': {'rows': 1, 'lag': 1, 'method': 'additive', 'strength': 1.0, 'first_value_only': False, 'threshold': None, 'threshold_method': 'max'}, '2': {}}\") in model 514 in generation 4: GLM\n",
      "Model Number: 515 with model WindowRegression in generation 4 of 20\n",
      "Model Number: 516 with model GLM in generation 4 of 20\n",
      "Model Number: 517 with model GLM in generation 4 of 20\n",
      "Model Number: 518 with model SeasonalNaive in generation 4 of 20\n"
     ]
    },
    {
     "name": "stderr",
     "output_type": "stream",
     "text": [
      "c:\\Users\\Lenovo\\AppData\\Local\\Programs\\Python\\Python312\\Lib\\site-packages\\statsmodels\\genmod\\families\\family.py:1367: ValueWarning: Negative binomial dispersion parameter alpha not set. Using default value alpha=1.0.\n",
      "  warnings.warn(\"Negative binomial dispersion parameter alpha not \"\n",
      "c:\\Users\\Lenovo\\AppData\\Local\\Programs\\Python\\Python312\\Lib\\site-packages\\statsmodels\\genmod\\families\\family.py:1367: ValueWarning: Negative binomial dispersion parameter alpha not set. Using default value alpha=1.0.\n",
      "  warnings.warn(\"Negative binomial dispersion parameter alpha not \"\n",
      "c:\\Users\\Lenovo\\AppData\\Local\\Programs\\Python\\Python312\\Lib\\site-packages\\statsmodels\\genmod\\families\\family.py:1367: ValueWarning: Negative binomial dispersion parameter alpha not set. Using default value alpha=1.0.\n",
      "  warnings.warn(\"Negative binomial dispersion parameter alpha not \"\n",
      "c:\\Users\\Lenovo\\AppData\\Local\\Programs\\Python\\Python312\\Lib\\site-packages\\statsmodels\\genmod\\families\\family.py:1367: ValueWarning: Negative binomial dispersion parameter alpha not set. Using default value alpha=1.0.\n",
      "  warnings.warn(\"Negative binomial dispersion parameter alpha not \"\n",
      "c:\\Users\\Lenovo\\AppData\\Local\\Programs\\Python\\Python312\\Lib\\site-packages\\statsmodels\\genmod\\families\\family.py:1367: ValueWarning: Negative binomial dispersion parameter alpha not set. Using default value alpha=1.0.\n",
      "  warnings.warn(\"Negative binomial dispersion parameter alpha not \"\n",
      "c:\\Users\\Lenovo\\AppData\\Local\\Programs\\Python\\Python312\\Lib\\site-packages\\statsmodels\\genmod\\families\\family.py:1367: ValueWarning: Negative binomial dispersion parameter alpha not set. Using default value alpha=1.0.\n",
      "  warnings.warn(\"Negative binomial dispersion parameter alpha not \"\n",
      "c:\\Users\\Lenovo\\AppData\\Local\\Programs\\Python\\Python312\\Lib\\site-packages\\statsmodels\\genmod\\families\\family.py:1367: ValueWarning: Negative binomial dispersion parameter alpha not set. Using default value alpha=1.0.\n",
      "  warnings.warn(\"Negative binomial dispersion parameter alpha not \"\n",
      "c:\\Users\\Lenovo\\AppData\\Local\\Programs\\Python\\Python312\\Lib\\site-packages\\statsmodels\\genmod\\families\\family.py:1367: ValueWarning: Negative binomial dispersion parameter alpha not set. Using default value alpha=1.0.\n",
      "  warnings.warn(\"Negative binomial dispersion parameter alpha not \"\n",
      "c:\\Users\\Lenovo\\AppData\\Local\\Programs\\Python\\Python312\\Lib\\site-packages\\statsmodels\\genmod\\families\\family.py:1367: ValueWarning: Negative binomial dispersion parameter alpha not set. Using default value alpha=1.0.\n",
      "  warnings.warn(\"Negative binomial dispersion parameter alpha not \"\n",
      "c:\\Users\\Lenovo\\AppData\\Local\\Programs\\Python\\Python312\\Lib\\site-packages\\statsmodels\\genmod\\generalized_linear_model.py:308: DomainWarning: The InversePower link function does not respect the domain of the Gamma family.\n",
      "  warnings.warn((f\"The {type(family.link).__name__} link function \"\n",
      "c:\\Users\\Lenovo\\AppData\\Local\\Programs\\Python\\Python312\\Lib\\site-packages\\statsmodels\\genmod\\generalized_linear_model.py:308: DomainWarning: The InversePower link function does not respect the domain of the Gamma family.\n",
      "  warnings.warn((f\"The {type(family.link).__name__} link function \"\n",
      "c:\\Users\\Lenovo\\AppData\\Local\\Programs\\Python\\Python312\\Lib\\site-packages\\statsmodels\\genmod\\generalized_linear_model.py:308: DomainWarning: The InversePower link function does not respect the domain of the Gamma family.\n",
      "  warnings.warn((f\"The {type(family.link).__name__} link function \"\n",
      "c:\\Users\\Lenovo\\AppData\\Local\\Programs\\Python\\Python312\\Lib\\site-packages\\statsmodels\\genmod\\generalized_linear_model.py:308: DomainWarning: The InversePower link function does not respect the domain of the Gamma family.\n",
      "  warnings.warn((f\"The {type(family.link).__name__} link function \"\n",
      "c:\\Users\\Lenovo\\AppData\\Local\\Programs\\Python\\Python312\\Lib\\site-packages\\statsmodels\\genmod\\generalized_linear_model.py:308: DomainWarning: The InversePower link function does not respect the domain of the Gamma family.\n",
      "  warnings.warn((f\"The {type(family.link).__name__} link function \"\n",
      "c:\\Users\\Lenovo\\AppData\\Local\\Programs\\Python\\Python312\\Lib\\site-packages\\statsmodels\\genmod\\generalized_linear_model.py:308: DomainWarning: The InversePower link function does not respect the domain of the Gamma family.\n",
      "  warnings.warn((f\"The {type(family.link).__name__} link function \"\n",
      "c:\\Users\\Lenovo\\AppData\\Local\\Programs\\Python\\Python312\\Lib\\site-packages\\statsmodels\\genmod\\generalized_linear_model.py:308: DomainWarning: The InversePower link function does not respect the domain of the Gamma family.\n",
      "  warnings.warn((f\"The {type(family.link).__name__} link function \"\n",
      "c:\\Users\\Lenovo\\AppData\\Local\\Programs\\Python\\Python312\\Lib\\site-packages\\statsmodels\\genmod\\generalized_linear_model.py:308: DomainWarning: The InversePower link function does not respect the domain of the Gamma family.\n",
      "  warnings.warn((f\"The {type(family.link).__name__} link function \"\n",
      "c:\\Users\\Lenovo\\AppData\\Local\\Programs\\Python\\Python312\\Lib\\site-packages\\statsmodels\\genmod\\generalized_linear_model.py:308: DomainWarning: The InversePower link function does not respect the domain of the Gamma family.\n",
      "  warnings.warn((f\"The {type(family.link).__name__} link function \"\n"
     ]
    },
    {
     "name": "stdout",
     "output_type": "stream",
     "text": [
      "Model Number: 519 with model AverageValueNaive in generation 4 of 20\n",
      "Model Number: 520 with model FFT in generation 4 of 20\n",
      "Model Number: 521 with model GLM in generation 4 of 20\n",
      "Model Number: 522 with model ETS in generation 4 of 20\n"
     ]
    },
    {
     "name": "stderr",
     "output_type": "stream",
     "text": [
      "c:\\Users\\Lenovo\\AppData\\Local\\Programs\\Python\\Python312\\Lib\\site-packages\\statsmodels\\genmod\\families\\links.py:198: RuntimeWarning: overflow encountered in exp\n",
      "  t = np.exp(-z)\n"
     ]
    },
    {
     "name": "stdout",
     "output_type": "stream",
     "text": [
      "Model Number: 523 with model BallTreeMultivariateMotif in generation 4 of 20\n",
      "Model Number: 524 with model BallTreeMultivariateMotif in generation 4 of 20\n",
      "Model Number: 525 with model ConstantNaive in generation 4 of 20\n",
      "Model Number: 526 with model AverageValueNaive in generation 4 of 20\n",
      "Model Number: 527 with model LastValueNaive in generation 4 of 20\n",
      "Model Number: 528 with model SeasonalNaive in generation 4 of 20\n",
      "Model Number: 529 with model UnivariateMotif in generation 4 of 20\n",
      "Model Number: 530 with model GLM in generation 4 of 20\n",
      "Model Number: 531 with model SeasonalityMotif in generation 4 of 20\n",
      "Model Number: 532 with model LastValueNaive in generation 4 of 20\n",
      "Model Number: 533 with model FFT in generation 4 of 20\n",
      "Model Number: 534 with model SeasonalNaive in generation 4 of 20\n",
      "Model Number: 535 with model DatepartRegression in generation 4 of 20\n",
      "Template Eval Error: ValueError(\"regression_type='User' but no future_regressor passed\") in model 535 in generation 4: DatepartRegression\n",
      "Model Number: 536 with model LastValueNaive in generation 4 of 20\n",
      "Model Number: 537 with model LastValueNaive in generation 4 of 20\n",
      "Model Number: 538 with model Cassandra in generation 4 of 20\n",
      "Template Eval Error: ValueError(\"regression_type='User' but future_regressor not supplied\") in model 538 in generation 4: Cassandra\n",
      "Model Number: 539 with model KalmanStateSpace in generation 4 of 20\n"
     ]
    },
    {
     "name": "stderr",
     "output_type": "stream",
     "text": [
      "c:\\Users\\Lenovo\\AppData\\Local\\Programs\\Python\\Python312\\Lib\\site-packages\\numpy\\lib\\function_base.py:2897: RuntimeWarning: invalid value encountered in divide\n",
      "  c /= stddev[:, None]\n",
      "c:\\Users\\Lenovo\\AppData\\Local\\Programs\\Python\\Python312\\Lib\\site-packages\\numpy\\lib\\function_base.py:2898: RuntimeWarning: invalid value encountered in divide\n",
      "  c /= stddev[None, :]\n"
     ]
    },
    {
     "name": "stdout",
     "output_type": "stream",
     "text": [
      "Model Number: 540 with model FFT in generation 4 of 20\n",
      "Template Eval Error: ValueError(\"Model returned NaN due to a preprocessing transformer {'fillna': 'ffill', 'transformations': {'0': 'MaxAbsScaler', '1': 'AlignLastValue', '2': 'AlignLastValue'}, 'transformation_params': {'0': {}, '1': {'rows': 7, 'lag': 28, 'method': 'additive', 'strength': 0.5, 'first_value_only': True, 'threshold': None, 'threshold_method': 'mean'}, '2': {'rows': 1, 'lag': 1, 'method': 'additive', 'strength': 1.0, 'first_value_only': False, 'threshold': None, 'threshold_method': 'mean'}}}. fail_on_forecast_nan=True\") in model 540 in generation 4: FFT\n",
      "Model Number: 541 with model ETS in generation 4 of 20\n",
      "Model Number: 542 with model GLM in generation 4 of 20\n",
      "Model Number: 543 with model RRVAR in generation 4 of 20\n",
      "Model Number: 544 with model MetricMotif in generation 4 of 20\n"
     ]
    },
    {
     "name": "stderr",
     "output_type": "stream",
     "text": [
      "c:\\Users\\Lenovo\\AppData\\Local\\Programs\\Python\\Python312\\Lib\\site-packages\\statsmodels\\genmod\\families\\links.py:198: RuntimeWarning: overflow encountered in exp\n",
      "  t = np.exp(-z)\n"
     ]
    },
    {
     "name": "stdout",
     "output_type": "stream",
     "text": [
      "Template Eval Error: ValueError(\"Model returned NaN due to a preprocessing transformer {'fillna': 'zero', 'transformations': {'0': 'HolidayTransformer', '1': 'AnomalyRemoval', '2': 'RobustScaler', '3': 'AlignLastValue', '4': 'bkfilter'}, 'transformation_params': {'0': {'threshold': 0.9, 'splash_threshold': None, 'use_dayofmonth_holidays': False, 'use_wkdom_holidays': True, 'use_wkdeom_holidays': False, 'use_lunar_holidays': False, 'use_lunar_weekday': False, 'use_islamic_holidays': True, 'use_hebrew_holidays': False, 'anomaly_detector_params': {'method': 'IQR', 'method_params': {'iqr_threshold': 2.0, 'iqr_quantiles': [0.25, 0.75]}, 'fillna': 'rolling_mean_24', 'transform_dict': {'fillna': None, 'transformations': {'0': 'EWMAFilter'}, 'transformation_params': {'0': {'span': 7}}}, 'isolated_only': False}, 'remove_excess_anomalies': True, 'impact': 'datepart_regression', 'regression_params': {'regression_model': {'model': 'DecisionTree', 'model_params': {'max_depth': None, 'min_samples_split': 2}}, 'datepart_method': 'simple_2', 'polynomial_degree': None, 'transform_dict': None, 'holiday_countries_used': False, 'lags': None, 'forward_lags': None}}, '1': {'method': 'mad', 'method_params': {'distribution': 'norm', 'alpha': 0.1}, 'fillna': 'mean', 'transform_dict': None, 'isolated_only': False}, '2': {}, '3': {'rows': 1, 'lag': 1, 'method': 'multiplicative', 'strength': 1.0, 'first_value_only': False, 'threshold': None, 'threshold_method': 'max'}, '4': {}}}. fail_on_forecast_nan=True\") in model 544 in generation 4: MetricMotif\n",
      "Model Number: 545 with model SeasonalNaive in generation 4 of 20\n",
      "Model Number: 546 with model MetricMotif in generation 4 of 20\n",
      "Model Number: 547 with model AverageValueNaive in generation 4 of 20\n",
      "Model Number: 548 with model SeasonalNaive in generation 4 of 20\n",
      "Model Number: 549 with model RRVAR in generation 4 of 20\n",
      "Model Number: 550 with model FFT in generation 4 of 20\n",
      "Model Number: 551 with model Cassandra in generation 4 of 20\n"
     ]
    },
    {
     "name": "stderr",
     "output_type": "stream",
     "text": [
      "c:\\Users\\Lenovo\\AppData\\Local\\Programs\\Python\\Python312\\Lib\\site-packages\\numpy\\lib\\function_base.py:2897: RuntimeWarning: invalid value encountered in divide\n",
      "  c /= stddev[:, None]\n",
      "c:\\Users\\Lenovo\\AppData\\Local\\Programs\\Python\\Python312\\Lib\\site-packages\\numpy\\lib\\function_base.py:2898: RuntimeWarning: invalid value encountered in divide\n",
      "  c /= stddev[None, :]\n"
     ]
    },
    {
     "name": "stdout",
     "output_type": "stream",
     "text": [
      "Model Number: 552 with model GLS in generation 4 of 20\n",
      "Model Number: 553 with model ETS in generation 4 of 20\n",
      "Model Number: 554 with model ETS in generation 4 of 20\n",
      "Model Number: 555 with model GLM in generation 4 of 20\n",
      "Model Number: 556 with model FFT in generation 4 of 20\n",
      "Model Number: 557 with model SeasonalityMotif in generation 4 of 20\n",
      "Model Number: 558 with model AverageValueNaive in generation 4 of 20\n",
      "Model Number: 559 with model LastValueNaive in generation 4 of 20\n",
      "Model Number: 560 with model SeasonalNaive in generation 4 of 20\n"
     ]
    },
    {
     "name": "stderr",
     "output_type": "stream",
     "text": [
      "c:\\Users\\Lenovo\\AppData\\Local\\Programs\\Python\\Python312\\Lib\\site-packages\\statsmodels\\genmod\\families\\family.py:1367: ValueWarning: Negative binomial dispersion parameter alpha not set. Using default value alpha=1.0.\n",
      "  warnings.warn(\"Negative binomial dispersion parameter alpha not \"\n",
      "c:\\Users\\Lenovo\\AppData\\Local\\Programs\\Python\\Python312\\Lib\\site-packages\\statsmodels\\genmod\\families\\family.py:1367: ValueWarning: Negative binomial dispersion parameter alpha not set. Using default value alpha=1.0.\n",
      "  warnings.warn(\"Negative binomial dispersion parameter alpha not \"\n",
      "c:\\Users\\Lenovo\\AppData\\Local\\Programs\\Python\\Python312\\Lib\\site-packages\\statsmodels\\genmod\\families\\family.py:1367: ValueWarning: Negative binomial dispersion parameter alpha not set. Using default value alpha=1.0.\n",
      "  warnings.warn(\"Negative binomial dispersion parameter alpha not \"\n",
      "c:\\Users\\Lenovo\\AppData\\Local\\Programs\\Python\\Python312\\Lib\\site-packages\\statsmodels\\genmod\\families\\family.py:1367: ValueWarning: Negative binomial dispersion parameter alpha not set. Using default value alpha=1.0.\n",
      "  warnings.warn(\"Negative binomial dispersion parameter alpha not \"\n",
      "c:\\Users\\Lenovo\\AppData\\Local\\Programs\\Python\\Python312\\Lib\\site-packages\\statsmodels\\genmod\\families\\family.py:1367: ValueWarning: Negative binomial dispersion parameter alpha not set. Using default value alpha=1.0.\n",
      "  warnings.warn(\"Negative binomial dispersion parameter alpha not \"\n",
      "c:\\Users\\Lenovo\\AppData\\Local\\Programs\\Python\\Python312\\Lib\\site-packages\\statsmodels\\genmod\\families\\family.py:1367: ValueWarning: Negative binomial dispersion parameter alpha not set. Using default value alpha=1.0.\n",
      "  warnings.warn(\"Negative binomial dispersion parameter alpha not \"\n",
      "c:\\Users\\Lenovo\\AppData\\Local\\Programs\\Python\\Python312\\Lib\\site-packages\\statsmodels\\genmod\\families\\family.py:1367: ValueWarning: Negative binomial dispersion parameter alpha not set. Using default value alpha=1.0.\n",
      "  warnings.warn(\"Negative binomial dispersion parameter alpha not \"\n",
      "c:\\Users\\Lenovo\\AppData\\Local\\Programs\\Python\\Python312\\Lib\\site-packages\\statsmodels\\genmod\\families\\family.py:1367: ValueWarning: Negative binomial dispersion parameter alpha not set. Using default value alpha=1.0.\n",
      "  warnings.warn(\"Negative binomial dispersion parameter alpha not \"\n",
      "c:\\Users\\Lenovo\\AppData\\Local\\Programs\\Python\\Python312\\Lib\\site-packages\\statsmodels\\genmod\\families\\family.py:1367: ValueWarning: Negative binomial dispersion parameter alpha not set. Using default value alpha=1.0.\n",
      "  warnings.warn(\"Negative binomial dispersion parameter alpha not \"\n"
     ]
    },
    {
     "name": "stdout",
     "output_type": "stream",
     "text": [
      "Model Number: 561 with model KalmanStateSpace in generation 4 of 20\n",
      "Model Number: 562 with model RRVAR in generation 4 of 20\n",
      "Model Number: 563 with model AverageValueNaive in generation 4 of 20\n",
      "Model Number: 564 with model NVAR in generation 4 of 20\n",
      "Model Number: 565 with model GLM in generation 4 of 20\n",
      "Model Number: 566 with model ConstantNaive in generation 4 of 20\n",
      "Model Number: 567 with model SeasonalNaive in generation 4 of 20\n"
     ]
    },
    {
     "name": "stderr",
     "output_type": "stream",
     "text": [
      "c:\\Users\\Lenovo\\AppData\\Local\\Programs\\Python\\Python312\\Lib\\site-packages\\statsmodels\\genmod\\generalized_linear_model.py:308: DomainWarning: The InversePower link function does not respect the domain of the Gamma family.\n",
      "  warnings.warn((f\"The {type(family.link).__name__} link function \"\n",
      "c:\\Users\\Lenovo\\AppData\\Local\\Programs\\Python\\Python312\\Lib\\site-packages\\statsmodels\\genmod\\generalized_linear_model.py:308: DomainWarning: The InversePower link function does not respect the domain of the Gamma family.\n",
      "  warnings.warn((f\"The {type(family.link).__name__} link function \"\n",
      "c:\\Users\\Lenovo\\AppData\\Local\\Programs\\Python\\Python312\\Lib\\site-packages\\statsmodels\\genmod\\generalized_linear_model.py:308: DomainWarning: The InversePower link function does not respect the domain of the Gamma family.\n",
      "  warnings.warn((f\"The {type(family.link).__name__} link function \"\n",
      "c:\\Users\\Lenovo\\AppData\\Local\\Programs\\Python\\Python312\\Lib\\site-packages\\statsmodels\\genmod\\generalized_linear_model.py:308: DomainWarning: The InversePower link function does not respect the domain of the Gamma family.\n",
      "  warnings.warn((f\"The {type(family.link).__name__} link function \"\n",
      "c:\\Users\\Lenovo\\AppData\\Local\\Programs\\Python\\Python312\\Lib\\site-packages\\statsmodels\\genmod\\generalized_linear_model.py:308: DomainWarning: The InversePower link function does not respect the domain of the Gamma family.\n",
      "  warnings.warn((f\"The {type(family.link).__name__} link function \"\n",
      "c:\\Users\\Lenovo\\AppData\\Local\\Programs\\Python\\Python312\\Lib\\site-packages\\statsmodels\\genmod\\generalized_linear_model.py:308: DomainWarning: The InversePower link function does not respect the domain of the Gamma family.\n",
      "  warnings.warn((f\"The {type(family.link).__name__} link function \"\n",
      "c:\\Users\\Lenovo\\AppData\\Local\\Programs\\Python\\Python312\\Lib\\site-packages\\statsmodels\\genmod\\generalized_linear_model.py:308: DomainWarning: The InversePower link function does not respect the domain of the Gamma family.\n",
      "  warnings.warn((f\"The {type(family.link).__name__} link function \"\n",
      "c:\\Users\\Lenovo\\AppData\\Local\\Programs\\Python\\Python312\\Lib\\site-packages\\statsmodels\\genmod\\generalized_linear_model.py:308: DomainWarning: The InversePower link function does not respect the domain of the Gamma family.\n",
      "  warnings.warn((f\"The {type(family.link).__name__} link function \"\n",
      "c:\\Users\\Lenovo\\AppData\\Local\\Programs\\Python\\Python312\\Lib\\site-packages\\statsmodels\\genmod\\generalized_linear_model.py:308: DomainWarning: The InversePower link function does not respect the domain of the Gamma family.\n",
      "  warnings.warn((f\"The {type(family.link).__name__} link function \"\n"
     ]
    },
    {
     "name": "stdout",
     "output_type": "stream",
     "text": [
      "Model Number: 568 with model Cassandra in generation 4 of 20\n",
      "Template Eval Error: UnboundLocalError(\"cannot access local variable 'slope' where it is not associated with a value\") in model 568 in generation 4: Cassandra\n",
      "Model Number: 569 with model AverageValueNaive in generation 4 of 20\n",
      "Model Number: 570 with model Cassandra in generation 4 of 20\n"
     ]
    },
    {
     "name": "stderr",
     "output_type": "stream",
     "text": [
      "c:\\Users\\Lenovo\\AppData\\Local\\Programs\\Python\\Python312\\Lib\\site-packages\\autots\\tools\\anomaly_utils.py:1115: FutureWarning: Downcasting object dtype arrays on .fillna, .ffill, .bfill is deprecated and will change in a future version. Call result.infer_objects(copy=False) instead. To opt-in to the future behavior, set `pd.set_option('future.no_silent_downcasting', True)`\n",
      "  result = result + temp.where(temp.isnull(), 1).fillna(0)\n",
      "c:\\Users\\Lenovo\\AppData\\Local\\Programs\\Python\\Python312\\Lib\\site-packages\\numpy\\lib\\function_base.py:2897: RuntimeWarning: invalid value encountered in divide\n",
      "  c /= stddev[:, None]\n",
      "c:\\Users\\Lenovo\\AppData\\Local\\Programs\\Python\\Python312\\Lib\\site-packages\\numpy\\lib\\function_base.py:2898: RuntimeWarning: invalid value encountered in divide\n",
      "  c /= stddev[None, :]\n"
     ]
    },
    {
     "name": "stdout",
     "output_type": "stream",
     "text": [
      "Model Number: 571 with model BallTreeMultivariateMotif in generation 4 of 20\n",
      "Model Number: 572 with model UnivariateMotif in generation 4 of 20\n",
      "Model Number: 573 with model FFT in generation 4 of 20\n",
      "Model Number: 574 with model ConstantNaive in generation 4 of 20\n",
      "Model Number: 575 with model GLS in generation 4 of 20\n",
      "Model Number: 576 with model ETS in generation 4 of 20\n",
      "Model Number: 577 with model DatepartRegression in generation 4 of 20\n",
      "Template Eval Error: ModuleNotFoundError(\"No module named 'tensorflow'\") in model 577 in generation 4: DatepartRegression\n",
      "Model Number: 578 with model FFT in generation 4 of 20\n"
     ]
    },
    {
     "name": "stderr",
     "output_type": "stream",
     "text": [
      "c:\\Users\\Lenovo\\AppData\\Local\\Programs\\Python\\Python312\\Lib\\site-packages\\sklearn\\linear_model\\_coordinate_descent.py:2639: ConvergenceWarning: Objective did not converge. You might want to increase the number of iterations. Duality gap: 0.0, tolerance: 0.0\n",
      "  ) = cd_fast.enet_coordinate_descent_multi_task(\n"
     ]
    },
    {
     "name": "stdout",
     "output_type": "stream",
     "text": [
      "Model Number: 579 with model BallTreeMultivariateMotif in generation 4 of 20\n",
      "Model Number: 580 with model LastValueNaive in generation 4 of 20\n",
      "Model Number: 581 with model GLM in generation 4 of 20\n"
     ]
    },
    {
     "name": "stderr",
     "output_type": "stream",
     "text": [
      "c:\\Users\\Lenovo\\AppData\\Local\\Programs\\Python\\Python312\\Lib\\site-packages\\statsmodels\\genmod\\generalized_linear_model.py:308: DomainWarning: The InversePower link function does not respect the domain of the Gamma family.\n",
      "  warnings.warn((f\"The {type(family.link).__name__} link function \"\n",
      "c:\\Users\\Lenovo\\AppData\\Local\\Programs\\Python\\Python312\\Lib\\site-packages\\statsmodels\\genmod\\generalized_linear_model.py:308: DomainWarning: The InversePower link function does not respect the domain of the Gamma family.\n",
      "  warnings.warn((f\"The {type(family.link).__name__} link function \"\n",
      "c:\\Users\\Lenovo\\AppData\\Local\\Programs\\Python\\Python312\\Lib\\site-packages\\statsmodels\\genmod\\generalized_linear_model.py:308: DomainWarning: The InversePower link function does not respect the domain of the Gamma family.\n",
      "  warnings.warn((f\"The {type(family.link).__name__} link function \"\n",
      "c:\\Users\\Lenovo\\AppData\\Local\\Programs\\Python\\Python312\\Lib\\site-packages\\statsmodels\\genmod\\generalized_linear_model.py:308: DomainWarning: The InversePower link function does not respect the domain of the Gamma family.\n",
      "  warnings.warn((f\"The {type(family.link).__name__} link function \"\n",
      "c:\\Users\\Lenovo\\AppData\\Local\\Programs\\Python\\Python312\\Lib\\site-packages\\statsmodels\\genmod\\generalized_linear_model.py:308: DomainWarning: The InversePower link function does not respect the domain of the Gamma family.\n",
      "  warnings.warn((f\"The {type(family.link).__name__} link function \"\n"
     ]
    },
    {
     "name": "stdout",
     "output_type": "stream",
     "text": [
      "Model Number: 582 with model DatepartRegression in generation 4 of 20\n"
     ]
    },
    {
     "name": "stderr",
     "output_type": "stream",
     "text": [
      "c:\\Users\\Lenovo\\AppData\\Local\\Programs\\Python\\Python312\\Lib\\site-packages\\statsmodels\\genmod\\generalized_linear_model.py:308: DomainWarning: The InversePower link function does not respect the domain of the Gamma family.\n",
      "  warnings.warn((f\"The {type(family.link).__name__} link function \"\n",
      "c:\\Users\\Lenovo\\AppData\\Local\\Programs\\Python\\Python312\\Lib\\site-packages\\statsmodels\\genmod\\generalized_linear_model.py:308: DomainWarning: The InversePower link function does not respect the domain of the Gamma family.\n",
      "  warnings.warn((f\"The {type(family.link).__name__} link function \"\n",
      "c:\\Users\\Lenovo\\AppData\\Local\\Programs\\Python\\Python312\\Lib\\site-packages\\statsmodels\\genmod\\generalized_linear_model.py:308: DomainWarning: The InversePower link function does not respect the domain of the Gamma family.\n",
      "  warnings.warn((f\"The {type(family.link).__name__} link function \"\n",
      "c:\\Users\\Lenovo\\AppData\\Local\\Programs\\Python\\Python312\\Lib\\site-packages\\statsmodels\\genmod\\generalized_linear_model.py:308: DomainWarning: The InversePower link function does not respect the domain of the Gamma family.\n",
      "  warnings.warn((f\"The {type(family.link).__name__} link function \"\n"
     ]
    },
    {
     "name": "stdout",
     "output_type": "stream",
     "text": [
      "Model Number: 583 with model GLS in generation 4 of 20\n",
      "Model Number: 584 with model UnivariateMotif in generation 4 of 20\n",
      "Template Eval Error: ValueError('kth(=10) out of bounds (9)') in model 584 in generation 4: UnivariateMotif\n",
      "Model Number: 585 with model MetricMotif in generation 4 of 20\n",
      "Model Number: 586 with model VECM in generation 4 of 20\n",
      "Model Number: 587 with model ConstantNaive in generation 4 of 20\n",
      "Model Number: 588 with model Cassandra in generation 4 of 20\n",
      "Model Number: 589 with model SeasonalNaive in generation 4 of 20\n"
     ]
    },
    {
     "name": "stderr",
     "output_type": "stream",
     "text": [
      "c:\\Users\\Lenovo\\AppData\\Local\\Programs\\Python\\Python312\\Lib\\site-packages\\numpy\\lib\\function_base.py:2897: RuntimeWarning: invalid value encountered in divide\n",
      "  c /= stddev[:, None]\n",
      "c:\\Users\\Lenovo\\AppData\\Local\\Programs\\Python\\Python312\\Lib\\site-packages\\numpy\\lib\\function_base.py:2898: RuntimeWarning: invalid value encountered in divide\n",
      "  c /= stddev[None, :]\n"
     ]
    },
    {
     "name": "stdout",
     "output_type": "stream",
     "text": [
      "Model Number: 590 with model SeasonalNaive in generation 4 of 20\n",
      "Model Number: 591 with model FFT in generation 4 of 20\n",
      "Model Number: 592 with model DatepartRegression in generation 4 of 20\n",
      "Template Eval Error: ValueError(\"regression_type='User' but no future_regressor passed\") in model 592 in generation 4: DatepartRegression\n",
      "Model Number: 593 with model UnivariateMotif in generation 4 of 20\n",
      "Template Eval Error: ValueError('kth(=5) out of bounds (5)') in model 593 in generation 4: UnivariateMotif\n",
      "Model Number: 594 with model UnivariateMotif in generation 4 of 20\n",
      "Model Number: 595 with model FFT in generation 4 of 20\n",
      "Model Number: 596 with model ConstantNaive in generation 4 of 20\n",
      "Model Number: 597 with model MetricMotif in generation 4 of 20\n",
      "New Generation: 5 of 20\n",
      "Model Number: 598 with model MetricMotif in generation 5 of 20\n",
      "Model Number: 599 with model FFT in generation 5 of 20\n",
      "Model Number: 600 with model ETS in generation 5 of 20\n",
      "Model Number: 601 with model DatepartRegression in generation 5 of 20\n",
      "Model Number: 602 with model SeasonalityMotif in generation 5 of 20\n",
      "Model Number: 603 with model AverageValueNaive in generation 5 of 20\n",
      "Template Eval Error: Exception(\"Transformer STLFilter failed on fit from params zero {'0': {'decomp_type': 'seasonal_decompose', 'part': 'trend'}, '1': {'method': 'med_diff', 'method_params': {'distribution': 'uniform', 'alpha': 0.05}, 'fillna': 'ffill', 'transform_dict': {'transformations': {'0': 'DifferencedTransformer'}, 'transformation_params': {'0': {}}}, 'isolated_only': True}, '2': {}}\") in model 603 in generation 5: AverageValueNaive\n",
      "Model Number: 604 with model SeasonalNaive in generation 5 of 20\n",
      "Model Number: 605 with model FFT in generation 5 of 20\n",
      "Model Number: 606 with model DatepartRegression in generation 5 of 20\n",
      "Template Eval Error: ValueError('Model DatepartRegression returned NaN for one or more series. fail_on_forecast_nan=True') in model 606 in generation 5: DatepartRegression\n",
      "Model Number: 607 with model FFT in generation 5 of 20\n",
      "Model Number: 608 with model ETS in generation 5 of 20\n"
     ]
    },
    {
     "name": "stderr",
     "output_type": "stream",
     "text": [
      "c:\\Users\\Lenovo\\AppData\\Local\\Programs\\Python\\Python312\\Lib\\site-packages\\sklearn\\neighbors\\_regression.py:509: UserWarning: One or more samples have no neighbors within specified radius; predicting NaN.\n",
      "  warnings.warn(empty_warning_msg)\n"
     ]
    },
    {
     "name": "stdout",
     "output_type": "stream",
     "text": [
      "Template Eval Error: ValueError('Model ETS returned improper forecast_length. Returned: 1 and requested: 3') in model 608 in generation 5: ETS\n",
      "Model Number: 609 with model FFT in generation 5 of 20\n",
      "Model Number: 610 with model ConstantNaive in generation 5 of 20\n",
      "Model Number: 611 with model Cassandra in generation 5 of 20\n",
      "Model Number: 612 with model GLS in generation 5 of 20\n"
     ]
    },
    {
     "name": "stderr",
     "output_type": "stream",
     "text": [
      "c:\\Users\\Lenovo\\AppData\\Local\\Programs\\Python\\Python312\\Lib\\site-packages\\numpy\\lib\\function_base.py:2897: RuntimeWarning: invalid value encountered in divide\n",
      "  c /= stddev[:, None]\n",
      "c:\\Users\\Lenovo\\AppData\\Local\\Programs\\Python\\Python312\\Lib\\site-packages\\numpy\\lib\\function_base.py:2898: RuntimeWarning: invalid value encountered in divide\n",
      "  c /= stddev[None, :]\n"
     ]
    },
    {
     "name": "stdout",
     "output_type": "stream",
     "text": [
      "Model Number: 613 with model ETS in generation 5 of 20\n",
      "Model Number: 614 with model SectionalMotif in generation 5 of 20\n",
      "Template Eval Error: ValueError('kth(=10) out of bounds (9)') in model 614 in generation 5: SectionalMotif\n",
      "Model Number: 615 with model Cassandra in generation 5 of 20\n",
      "Template Eval Error: ValueError('maxlags is too large for the number of observations and the number of equations. The largest model cannot be estimated.') in model 615 in generation 5: Cassandra\n",
      "Model Number: 616 with model UnivariateMotif in generation 5 of 20\n",
      "Template Eval Error: ValueError('kth(=10) out of bounds (9)') in model 616 in generation 5: UnivariateMotif\n",
      "Model Number: 617 with model SeasonalityMotif in generation 5 of 20\n",
      "Template Eval Error: ValueError('kth(=9) out of bounds (9)') in model 617 in generation 5: SeasonalityMotif\n",
      "Model Number: 618 with model LastValueNaive in generation 5 of 20\n",
      "Model Number: 619 with model Cassandra in generation 5 of 20\n",
      "Template Eval Error: ValueError('negative dimensions are not allowed') in model 619 in generation 5: Cassandra\n",
      "Model Number: 620 with model AverageValueNaive in generation 5 of 20\n",
      "Template Eval Error: Exception(\"Transformer Detrend failed on fit from params ffill {'0': {'decimals': 0, 'on_transform': True, 'on_inverse': False}, '1': {'model': 'Linear', 'phi': 1, 'window': 365, 'transform_dict': {'fillna': None, 'transformations': {'0': 'AnomalyRemoval'}, 'transformation_params': {'0': {'method': 'zscore', 'transform_dict': {'transformations': {'0': 'DatepartRegression'}, 'transformation_params': {'0': {'datepart_method': 'simple_3', 'regression_model': {'model': 'ElasticNet', 'model_params': {}}}}}, 'method_params': {'distribution': 'uniform', 'alpha': 0.05}}}}}}\") in model 620 in generation 5: AverageValueNaive\n",
      "Model Number: 621 with model DatepartRegression in generation 5 of 20\n"
     ]
    },
    {
     "name": "stderr",
     "output_type": "stream",
     "text": [
      "c:\\Users\\Lenovo\\AppData\\Local\\Programs\\Python\\Python312\\Lib\\site-packages\\numpy\\lib\\function_base.py:2897: RuntimeWarning: invalid value encountered in divide\n",
      "  c /= stddev[:, None]\n",
      "c:\\Users\\Lenovo\\AppData\\Local\\Programs\\Python\\Python312\\Lib\\site-packages\\numpy\\lib\\function_base.py:2898: RuntimeWarning: invalid value encountered in divide\n",
      "  c /= stddev[None, :]\n"
     ]
    },
    {
     "name": "stdout",
     "output_type": "stream",
     "text": [
      "Model Number: 622 with model Cassandra in generation 5 of 20\n",
      "Model Number: 623 with model ConstantNaive in generation 5 of 20\n",
      "Model Number: 624 with model FFT in generation 5 of 20\n",
      "Model Number: 625 with model LastValueNaive in generation 5 of 20\n",
      "Model Number: 626 with model DatepartRegression in generation 5 of 20\n",
      "Model Number: 627 with model LastValueNaive in generation 5 of 20\n"
     ]
    },
    {
     "name": "stderr",
     "output_type": "stream",
     "text": [
      "c:\\Users\\Lenovo\\AppData\\Local\\Programs\\Python\\Python312\\Lib\\site-packages\\sklearn\\linear_model\\_coordinate_descent.py:2639: ConvergenceWarning: Objective did not converge. You might want to increase the number of iterations. Duality gap: 0.8597015738487244, tolerance: 0.0010976773919537663\n",
      "  ) = cd_fast.enet_coordinate_descent_multi_task(\n"
     ]
    },
    {
     "name": "stdout",
     "output_type": "stream",
     "text": [
      "Model Number: 628 with model DatepartRegression in generation 5 of 20\n",
      "Template Eval Error: Exception(\"Transformer ScipyFilter failed on fit from params ffill {'0': {'rows': 1, 'lag': 1, 'method': 'additive', 'strength': 1.0, 'first_value_only': False, 'threshold': 1, 'threshold_method': 'max'}, '1': {'method': 'savgol_filter', 'method_args': {'window_length': 31, 'polyorder': 3, 'deriv': 0, 'mode': 'interp'}}, '2': {}}\") in model 628 in generation 5: DatepartRegression\n",
      "Model Number: 629 with model ETS in generation 5 of 20\n",
      "Model Number: 630 with model Cassandra in generation 5 of 20\n",
      "Template Eval Error: ValueError('negative dimensions are not allowed') in model 630 in generation 5: Cassandra\n",
      "Model Number: 631 with model GLM in generation 5 of 20\n"
     ]
    },
    {
     "name": "stderr",
     "output_type": "stream",
     "text": [
      "c:\\Users\\Lenovo\\AppData\\Local\\Programs\\Python\\Python312\\Lib\\site-packages\\numpy\\lib\\function_base.py:2897: RuntimeWarning: invalid value encountered in divide\n",
      "  c /= stddev[:, None]\n",
      "c:\\Users\\Lenovo\\AppData\\Local\\Programs\\Python\\Python312\\Lib\\site-packages\\numpy\\lib\\function_base.py:2898: RuntimeWarning: invalid value encountered in divide\n",
      "  c /= stddev[None, :]\n",
      "c:\\Users\\Lenovo\\AppData\\Local\\Programs\\Python\\Python312\\Lib\\site-packages\\statsmodels\\genmod\\families\\links.py:198: RuntimeWarning: overflow encountered in exp\n",
      "  t = np.exp(-z)\n"
     ]
    },
    {
     "name": "stdout",
     "output_type": "stream",
     "text": [
      "Model Number: 632 with model SeasonalNaive in generation 5 of 20\n",
      "Model Number: 633 with model ETS in generation 5 of 20\n",
      "Model Number: 634 with model LastValueNaive in generation 5 of 20\n",
      "Model Number: 635 with model GLM in generation 5 of 20\n",
      "Model Number: 636 with model BallTreeMultivariateMotif in generation 5 of 20\n",
      "Model Number: 637 with model SeasonalityMotif in generation 5 of 20\n",
      "Model Number: 638 with model SeasonalNaive in generation 5 of 20\n"
     ]
    },
    {
     "name": "stderr",
     "output_type": "stream",
     "text": [
      "c:\\Users\\Lenovo\\AppData\\Local\\Programs\\Python\\Python312\\Lib\\site-packages\\statsmodels\\genmod\\generalized_linear_model.py:308: DomainWarning: The InversePower link function does not respect the domain of the Gamma family.\n",
      "  warnings.warn((f\"The {type(family.link).__name__} link function \"\n",
      "c:\\Users\\Lenovo\\AppData\\Local\\Programs\\Python\\Python312\\Lib\\site-packages\\statsmodels\\genmod\\generalized_linear_model.py:308: DomainWarning: The InversePower link function does not respect the domain of the Gamma family.\n",
      "  warnings.warn((f\"The {type(family.link).__name__} link function \"\n",
      "c:\\Users\\Lenovo\\AppData\\Local\\Programs\\Python\\Python312\\Lib\\site-packages\\statsmodels\\genmod\\generalized_linear_model.py:308: DomainWarning: The InversePower link function does not respect the domain of the Gamma family.\n",
      "  warnings.warn((f\"The {type(family.link).__name__} link function \"\n",
      "c:\\Users\\Lenovo\\AppData\\Local\\Programs\\Python\\Python312\\Lib\\site-packages\\statsmodels\\genmod\\generalized_linear_model.py:308: DomainWarning: The InversePower link function does not respect the domain of the Gamma family.\n",
      "  warnings.warn((f\"The {type(family.link).__name__} link function \"\n",
      "c:\\Users\\Lenovo\\AppData\\Local\\Programs\\Python\\Python312\\Lib\\site-packages\\statsmodels\\genmod\\generalized_linear_model.py:308: DomainWarning: The InversePower link function does not respect the domain of the Gamma family.\n",
      "  warnings.warn((f\"The {type(family.link).__name__} link function \"\n",
      "c:\\Users\\Lenovo\\AppData\\Local\\Programs\\Python\\Python312\\Lib\\site-packages\\statsmodels\\genmod\\generalized_linear_model.py:308: DomainWarning: The InversePower link function does not respect the domain of the Gamma family.\n",
      "  warnings.warn((f\"The {type(family.link).__name__} link function \"\n",
      "c:\\Users\\Lenovo\\AppData\\Local\\Programs\\Python\\Python312\\Lib\\site-packages\\statsmodels\\genmod\\generalized_linear_model.py:308: DomainWarning: The InversePower link function does not respect the domain of the Gamma family.\n",
      "  warnings.warn((f\"The {type(family.link).__name__} link function \"\n",
      "c:\\Users\\Lenovo\\AppData\\Local\\Programs\\Python\\Python312\\Lib\\site-packages\\statsmodels\\genmod\\generalized_linear_model.py:308: DomainWarning: The InversePower link function does not respect the domain of the Gamma family.\n",
      "  warnings.warn((f\"The {type(family.link).__name__} link function \"\n",
      "c:\\Users\\Lenovo\\AppData\\Local\\Programs\\Python\\Python312\\Lib\\site-packages\\statsmodels\\genmod\\generalized_linear_model.py:308: DomainWarning: The InversePower link function does not respect the domain of the Gamma family.\n",
      "  warnings.warn((f\"The {type(family.link).__name__} link function \"\n",
      "c:\\Users\\Lenovo\\AppData\\Local\\Programs\\Python\\Python312\\Lib\\site-packages\\autots\\tools\\transform.py:5608: FutureWarning: Downcasting object dtype arrays on .fillna, .ffill, .bfill is deprecated and will change in a future version. Call result.infer_objects(copy=False) instead. To opt-in to the future behavior, set `pd.set_option('future.no_silent_downcasting', True)`\n",
      "  df = df.fillna(0)\n",
      "c:\\Users\\Lenovo\\AppData\\Local\\Programs\\Python\\Python312\\Lib\\site-packages\\autots\\tools\\transform.py:5608: FutureWarning: Downcasting object dtype arrays on .fillna, .ffill, .bfill is deprecated and will change in a future version. Call result.infer_objects(copy=False) instead. To opt-in to the future behavior, set `pd.set_option('future.no_silent_downcasting', True)`\n",
      "  df = df.fillna(0)\n"
     ]
    },
    {
     "name": "stdout",
     "output_type": "stream",
     "text": [
      "Model Number: 639 with model KalmanStateSpace in generation 5 of 20\n",
      "Model Number: 640 with model DatepartRegression in generation 5 of 20\n",
      "Model Number: 641 with model LastValueNaive in generation 5 of 20\n",
      "Model Number: 642 with model Cassandra in generation 5 of 20\n"
     ]
    },
    {
     "name": "stderr",
     "output_type": "stream",
     "text": [
      "c:\\Users\\Lenovo\\AppData\\Local\\Programs\\Python\\Python312\\Lib\\site-packages\\numpy\\lib\\function_base.py:2897: RuntimeWarning: invalid value encountered in divide\n",
      "  c /= stddev[:, None]\n",
      "c:\\Users\\Lenovo\\AppData\\Local\\Programs\\Python\\Python312\\Lib\\site-packages\\numpy\\lib\\function_base.py:2898: RuntimeWarning: invalid value encountered in divide\n",
      "  c /= stddev[None, :]\n",
      "c:\\Users\\Lenovo\\AppData\\Local\\Programs\\Python\\Python312\\Lib\\site-packages\\autots\\tools\\transform.py:5608: FutureWarning: Downcasting object dtype arrays on .fillna, .ffill, .bfill is deprecated and will change in a future version. Call result.infer_objects(copy=False) instead. To opt-in to the future behavior, set `pd.set_option('future.no_silent_downcasting', True)`\n",
      "  df = df.fillna(0)\n",
      "c:\\Users\\Lenovo\\AppData\\Local\\Programs\\Python\\Python312\\Lib\\site-packages\\autots\\tools\\transform.py:5608: FutureWarning: Downcasting object dtype arrays on .fillna, .ffill, .bfill is deprecated and will change in a future version. Call result.infer_objects(copy=False) instead. To opt-in to the future behavior, set `pd.set_option('future.no_silent_downcasting', True)`\n",
      "  df = df.fillna(0)\n"
     ]
    },
    {
     "name": "stdout",
     "output_type": "stream",
     "text": [
      "Model Number: 643 with model SeasonalNaive in generation 5 of 20\n",
      "Model Number: 644 with model WindowRegression in generation 5 of 20\n",
      "Model Number: 645 with model LastValueNaive in generation 5 of 20\n",
      "Model Number: 646 with model AverageValueNaive in generation 5 of 20\n",
      "Model Number: 647 with model GLM in generation 5 of 20\n",
      "Model Number: 648 with model MetricMotif in generation 5 of 20\n",
      "Template Eval Error: Exception(\"Transformer AlignLastValue failed on fit from params zero {'0': {'rows': 1, 'lag': 28, 'method': 'additive', 'strength': 1.0, 'first_value_only': False, 'threshold': None, 'threshold_method': 'max'}, '1': {'threshold': 0.9, 'splash_threshold': None, 'use_dayofmonth_holidays': False, 'use_wkdom_holidays': True, 'use_wkdeom_holidays': False, 'use_lunar_holidays': False, 'use_lunar_weekday': False, 'use_islamic_holidays': True, 'use_hebrew_holidays': False, 'anomaly_detector_params': {'method': 'IQR', 'method_params': {'iqr_threshold': 2.0, 'iqr_quantiles': [0.25, 0.75]}, 'fillna': 'rolling_mean_24', 'transform_dict': {'fillna': None, 'transformations': {'0': 'EWMAFilter'}, 'transformation_params': {'0': {'span': 7}}}, 'isolated_only': False}, 'remove_excess_anomalies': True, 'impact': 'datepart_regression', 'regression_params': {'regression_model': {'model': 'DecisionTree', 'model_params': {'max_depth': None, 'min_samples_split': 2}}, 'datepart_method': 'simple_2', 'polynomial_degree': None, 'transform_dict': None, 'holiday_countries_used': False, 'lags': None, 'forward_lags': None}}, '2': {'fillna': 'mean', 'center': 'median'}, '3': {'lag': 2, 'fill': 'bfill'}}\") in model 648 in generation 5: MetricMotif\n",
      "Model Number: 649 with model GLM in generation 5 of 20\n",
      "Model Number: 650 with model DatepartRegression in generation 5 of 20\n",
      "Template Eval Error: ModuleNotFoundError(\"No module named 'tensorflow'\") in model 650 in generation 5: DatepartRegression\n",
      "Model Number: 651 with model BallTreeMultivariateMotif in generation 5 of 20\n",
      "Model Number: 652 with model KalmanStateSpace in generation 5 of 20\n"
     ]
    },
    {
     "name": "stderr",
     "output_type": "stream",
     "text": [
      "c:\\Users\\Lenovo\\AppData\\Local\\Programs\\Python\\Python312\\Lib\\site-packages\\statsmodels\\genmod\\families\\links.py:198: RuntimeWarning: overflow encountered in exp\n",
      "  t = np.exp(-z)\n"
     ]
    },
    {
     "name": "stdout",
     "output_type": "stream",
     "text": [
      "Model Number: 653 with model WindowRegression in generation 5 of 20\n",
      "Model Number: 654 with model SeasonalNaive in generation 5 of 20\n",
      "Model Number: 655 with model BallTreeMultivariateMotif in generation 5 of 20\n",
      "Model Number: 656 with model AverageValueNaive in generation 5 of 20\n",
      "Model Number: 657 with model KalmanStateSpace in generation 5 of 20\n",
      "Template Eval Error: Exception(\"Transformer ReplaceConstant failed on fit from params cubic {'0': {'constant': 0, 'reintroduction_model': {'model': 'xgboost', 'model_params': {'booster': 'gbtree', 'max_depth': 6, 'eta': 0.003, 'min_child_weight': 1, 'subsample': 1, 'colsample_bylevel': 1, 'reg_alpha': 0, 'reg_lambda': 1}, 'datepart_method': 'expanded_binarized'}, 'fillna': None}, '1': {'lag_1': 12, 'method': 'LastValue'}, '2': {'decimals': 0, 'on_transform': True, 'on_inverse': True}, '3': {'rows': 1, 'lag': 1, 'method': 'additive', 'strength': 0.9, 'first_value_only': False, 'threshold': None, 'threshold_method': 'max'}}\") in model 657 in generation 5: KalmanStateSpace\n",
      "Model Number: 658 with model BallTreeMultivariateMotif in generation 5 of 20\n",
      "Template Eval Error: TypeError('1D weights expected when shapes of a and weights differ.') in model 658 in generation 5: BallTreeMultivariateMotif\n",
      "Model Number: 659 with model SeasonalNaive in generation 5 of 20\n",
      "Model Number: 660 with model SeasonalityMotif in generation 5 of 20\n",
      "Template Eval Error: ValueError('kth(=9) out of bounds (9)') in model 660 in generation 5: SeasonalityMotif\n",
      "Model Number: 661 with model ConstantNaive in generation 5 of 20\n",
      "Model Number: 662 with model KalmanStateSpace in generation 5 of 20\n",
      "Model Number: 663 with model RRVAR in generation 5 of 20\n",
      "Model Number: 664 with model SeasonalNaive in generation 5 of 20\n",
      "Model Number: 665 with model GLS in generation 5 of 20\n",
      "Model Number: 666 with model SeasonalNaive in generation 5 of 20\n",
      "Model Number: 667 with model DatepartRegression in generation 5 of 20\n",
      "Model Number: 668 with model RRVAR in generation 5 of 20\n",
      "Model Number: 669 with model FFT in generation 5 of 20\n",
      "Model Number: 670 with model AverageValueNaive in generation 5 of 20\n",
      "Model Number: 671 with model NVAR in generation 5 of 20\n",
      "Model Number: 672 with model FFT in generation 5 of 20\n",
      "Model Number: 673 with model UnivariateMotif in generation 5 of 20\n",
      "Model Number: 674 with model MetricMotif in generation 5 of 20\n",
      "Template Eval Error: Exception(\"Transformer AlignLastValue failed on fit from params fake_date {'0': {'rows': 1, 'lag': 28, 'method': 'additive', 'strength': 1.0, 'first_value_only': False, 'threshold': None, 'threshold_method': 'mean'}, '1': {'cutoff': 0.01, 'reverse': False}, '2': {'method': 0.5}, '3': {}, '4': {'lag_1': 7, 'method': 'Median'}}\") in model 674 in generation 5: MetricMotif\n",
      "Model Number: 675 with model RRVAR in generation 5 of 20\n",
      "Model Number: 676 with model AverageValueNaive in generation 5 of 20\n",
      "Model Number: 677 with model GLS in generation 5 of 20\n",
      "Model Number: 678 with model LastValueNaive in generation 5 of 20\n",
      "Model Number: 679 with model ETS in generation 5 of 20\n",
      "Model Number: 680 with model SectionalMotif in generation 5 of 20\n",
      "Model Number: 681 with model DatepartRegression in generation 5 of 20\n",
      "Template Eval Error: ModuleNotFoundError(\"No module named 'tensorflow'\") in model 681 in generation 5: DatepartRegression\n",
      "Model Number: 682 with model GLM in generation 5 of 20\n",
      "Template Eval Error: UnboundLocalError(\"cannot access local variable 'Xf' where it is not associated with a value\") in model 682 in generation 5: GLM\n",
      "Model Number: 683 with model MetricMotif in generation 5 of 20\n",
      "Template Eval Error: ValueError('kth(=9) out of bounds (9)') in model 683 in generation 5: MetricMotif\n",
      "Model Number: 684 with model LastValueNaive in generation 5 of 20\n",
      "Model Number: 685 with model UnivariateMotif in generation 5 of 20\n",
      "New Generation: 6 of 20\n",
      "Model Number: 686 with model AverageValueNaive in generation 6 of 20\n",
      "Model Number: 687 with model GLS in generation 6 of 20\n",
      "Model Number: 688 with model GLM in generation 6 of 20\n",
      "Template Eval Error: ValueError('NaN, inf or invalid value detected in weights, estimation infeasible.') in model 688 in generation 6: GLM\n",
      "Model Number: 689 with model KalmanStateSpace in generation 6 of 20\n"
     ]
    },
    {
     "name": "stderr",
     "output_type": "stream",
     "text": [
      "c:\\Users\\Lenovo\\AppData\\Local\\Programs\\Python\\Python312\\Lib\\site-packages\\statsmodels\\genmod\\generalized_linear_model.py:308: DomainWarning: The InversePower link function does not respect the domain of the Gamma family.\n",
      "  warnings.warn((f\"The {type(family.link).__name__} link function \"\n",
      "c:\\Users\\Lenovo\\AppData\\Local\\Programs\\Python\\Python312\\Lib\\site-packages\\statsmodels\\genmod\\families\\family.py:143: RuntimeWarning: overflow encountered in square\n",
      "  return 1. / (self.link.deriv(mu)**2 * self.variance(mu))\n",
      "c:\\Users\\Lenovo\\AppData\\Local\\Programs\\Python\\Python312\\Lib\\site-packages\\statsmodels\\genmod\\families\\links.py:325: RuntimeWarning: divide by zero encountered in power\n",
      "  return np.power(z, 1. / self.power)\n",
      "c:\\Users\\Lenovo\\AppData\\Local\\Programs\\Python\\Python312\\Lib\\site-packages\\statsmodels\\genmod\\families\\family.py:775: RuntimeWarning: invalid value encountered in divide\n",
      "  resid_dev = -np.log(endog_mu) + (endog - mu) / mu\n",
      "c:\\Users\\Lenovo\\AppData\\Local\\Programs\\Python\\Python312\\Lib\\site-packages\\statsmodels\\genmod\\generalized_linear_model.py:898: RuntimeWarning: invalid value encountered in divide\n",
      "  return np.sum(resid / self.family.variance(mu)) / self.df_resid\n",
      "c:\\Users\\Lenovo\\AppData\\Local\\Programs\\Python\\Python312\\Lib\\site-packages\\statsmodels\\genmod\\families\\family.py:143: RuntimeWarning: invalid value encountered in multiply\n",
      "  return 1. / (self.link.deriv(mu)**2 * self.variance(mu))\n",
      "c:\\Users\\Lenovo\\AppData\\Local\\Programs\\Python\\Python312\\Lib\\site-packages\\statsmodels\\genmod\\generalized_linear_model.py:1328: RuntimeWarning: invalid value encountered in multiply\n",
      "  wlsendog = (lin_pred + self.family.link.deriv(mu) * (self.endog-mu)\n"
     ]
    },
    {
     "name": "stdout",
     "output_type": "stream",
     "text": [
      "Model Number: 690 with model KalmanStateSpace in generation 6 of 20\n",
      "Model Number: 691 with model Cassandra in generation 6 of 20\n",
      "Template Eval Error: ValueError('negative dimensions are not allowed') in model 691 in generation 6: Cassandra\n",
      "Model Number: 692 with model Cassandra in generation 6 of 20\n"
     ]
    },
    {
     "name": "stderr",
     "output_type": "stream",
     "text": [
      "c:\\Users\\Lenovo\\AppData\\Local\\Programs\\Python\\Python312\\Lib\\site-packages\\numpy\\lib\\function_base.py:2897: RuntimeWarning: invalid value encountered in divide\n",
      "  c /= stddev[:, None]\n",
      "c:\\Users\\Lenovo\\AppData\\Local\\Programs\\Python\\Python312\\Lib\\site-packages\\numpy\\lib\\function_base.py:2898: RuntimeWarning: invalid value encountered in divide\n",
      "  c /= stddev[None, :]\n",
      "c:\\Users\\Lenovo\\AppData\\Local\\Programs\\Python\\Python312\\Lib\\site-packages\\numpy\\lib\\function_base.py:2897: RuntimeWarning: invalid value encountered in divide\n",
      "  c /= stddev[:, None]\n",
      "c:\\Users\\Lenovo\\AppData\\Local\\Programs\\Python\\Python312\\Lib\\site-packages\\numpy\\lib\\function_base.py:2898: RuntimeWarning: invalid value encountered in divide\n",
      "  c /= stddev[None, :]\n"
     ]
    },
    {
     "name": "stdout",
     "output_type": "stream",
     "text": [
      "Model Number: 693 with model DatepartRegression in generation 6 of 20\n",
      "Model Number: 694 with model UnivariateMotif in generation 6 of 20\n",
      "Model Number: 695 with model UnivariateMotif in generation 6 of 20\n",
      "Template Eval Error: ValueError(\"Model returned NaN due to a preprocessing transformer {'fillna': 'ffill_mean_biased', 'transformations': {'0': 'FFTFilter', '1': 'AlignLastDiff', '2': 'AlignLastValue'}, 'transformation_params': {'0': {'cutoff': 0.05, 'reverse': False}, '1': {'rows': 7, 'displacement_rows': 1, 'quantile': 1.0, 'decay_span': 2}, '2': {'rows': 7, 'lag': 28, 'method': 'additive', 'strength': 1.0, 'first_value_only': False, 'threshold': 10, 'threshold_method': 'mean'}}}. fail_on_forecast_nan=True\") in model 695 in generation 6: UnivariateMotif\n",
      "Model Number: 696 with model FFT in generation 6 of 20\n",
      "Model Number: 697 with model SeasonalityMotif in generation 6 of 20\n",
      "Template Eval Error: ValueError('window shape cannot be larger than input array shape') in model 697 in generation 6: SeasonalityMotif\n",
      "Model Number: 698 with model DatepartRegression in generation 6 of 20\n",
      "Model Number: 699 with model GLS in generation 6 of 20\n",
      "Model Number: 700 with model SectionalMotif in generation 6 of 20\n",
      "Model Number: 701 with model DatepartRegression in generation 6 of 20\n"
     ]
    },
    {
     "name": "stderr",
     "output_type": "stream",
     "text": [
      "c:\\Users\\Lenovo\\AppData\\Local\\Programs\\Python\\Python312\\Lib\\site-packages\\sklearn\\linear_model\\_coordinate_descent.py:2639: ConvergenceWarning: Objective did not converge. You might want to increase the number of iterations. Duality gap: 5785593.0, tolerance: 3564.907958984375\n",
      "  ) = cd_fast.enet_coordinate_descent_multi_task(\n",
      "c:\\Users\\Lenovo\\AppData\\Local\\Programs\\Python\\Python312\\Lib\\site-packages\\sklearn\\svm\\_base.py:1235: ConvergenceWarning: Liblinear failed to converge, increase the number of iterations.\n",
      "  warnings.warn(\n",
      "c:\\Users\\Lenovo\\AppData\\Local\\Programs\\Python\\Python312\\Lib\\site-packages\\sklearn\\svm\\_base.py:1235: ConvergenceWarning: Liblinear failed to converge, increase the number of iterations.\n",
      "  warnings.warn(\n",
      "c:\\Users\\Lenovo\\AppData\\Local\\Programs\\Python\\Python312\\Lib\\site-packages\\sklearn\\svm\\_base.py:1235: ConvergenceWarning: Liblinear failed to converge, increase the number of iterations.\n",
      "  warnings.warn(\n",
      "c:\\Users\\Lenovo\\AppData\\Local\\Programs\\Python\\Python312\\Lib\\site-packages\\sklearn\\svm\\_base.py:1235: ConvergenceWarning: Liblinear failed to converge, increase the number of iterations.\n",
      "  warnings.warn(\n",
      "c:\\Users\\Lenovo\\AppData\\Local\\Programs\\Python\\Python312\\Lib\\site-packages\\sklearn\\svm\\_base.py:1235: ConvergenceWarning: Liblinear failed to converge, increase the number of iterations.\n",
      "  warnings.warn(\n",
      "c:\\Users\\Lenovo\\AppData\\Local\\Programs\\Python\\Python312\\Lib\\site-packages\\sklearn\\svm\\_base.py:1235: ConvergenceWarning: Liblinear failed to converge, increase the number of iterations.\n",
      "  warnings.warn(\n",
      "c:\\Users\\Lenovo\\AppData\\Local\\Programs\\Python\\Python312\\Lib\\site-packages\\sklearn\\svm\\_base.py:1235: ConvergenceWarning: Liblinear failed to converge, increase the number of iterations.\n",
      "  warnings.warn(\n",
      "c:\\Users\\Lenovo\\AppData\\Local\\Programs\\Python\\Python312\\Lib\\site-packages\\sklearn\\svm\\_base.py:1235: ConvergenceWarning: Liblinear failed to converge, increase the number of iterations.\n",
      "  warnings.warn(\n",
      "c:\\Users\\Lenovo\\AppData\\Local\\Programs\\Python\\Python312\\Lib\\site-packages\\sklearn\\svm\\_base.py:1235: ConvergenceWarning: Liblinear failed to converge, increase the number of iterations.\n",
      "  warnings.warn(\n"
     ]
    },
    {
     "name": "stdout",
     "output_type": "stream",
     "text": [
      "Model Number: 702 with model SeasonalNaive in generation 6 of 20\n",
      "Model Number: 703 with model SectionalMotif in generation 6 of 20\n",
      "Model Number: 704 with model AverageValueNaive in generation 6 of 20\n",
      "Model Number: 705 with model SeasonalNaive in generation 6 of 20\n",
      "Model Number: 706 with model ETS in generation 6 of 20\n",
      "Model Number: 707 with model Cassandra in generation 6 of 20\n"
     ]
    },
    {
     "name": "stderr",
     "output_type": "stream",
     "text": [
      "c:\\Users\\Lenovo\\AppData\\Local\\Programs\\Python\\Python312\\Lib\\site-packages\\numpy\\lib\\function_base.py:2897: RuntimeWarning: invalid value encountered in divide\n",
      "  c /= stddev[:, None]\n",
      "c:\\Users\\Lenovo\\AppData\\Local\\Programs\\Python\\Python312\\Lib\\site-packages\\numpy\\lib\\function_base.py:2898: RuntimeWarning: invalid value encountered in divide\n",
      "  c /= stddev[None, :]\n",
      "c:\\Users\\Lenovo\\AppData\\Local\\Programs\\Python\\Python312\\Lib\\site-packages\\autots\\tools\\transform.py:5608: FutureWarning: Downcasting object dtype arrays on .fillna, .ffill, .bfill is deprecated and will change in a future version. Call result.infer_objects(copy=False) instead. To opt-in to the future behavior, set `pd.set_option('future.no_silent_downcasting', True)`\n",
      "  df = df.fillna(0)\n",
      "c:\\Users\\Lenovo\\AppData\\Local\\Programs\\Python\\Python312\\Lib\\site-packages\\autots\\tools\\transform.py:5608: FutureWarning: Downcasting object dtype arrays on .fillna, .ffill, .bfill is deprecated and will change in a future version. Call result.infer_objects(copy=False) instead. To opt-in to the future behavior, set `pd.set_option('future.no_silent_downcasting', True)`\n",
      "  df = df.fillna(0)\n"
     ]
    },
    {
     "name": "stdout",
     "output_type": "stream",
     "text": [
      "Model Number: 708 with model DatepartRegression in generation 6 of 20\n",
      "Model Number: 709 with model FFT in generation 6 of 20\n",
      "Model Number: 710 with model GLS in generation 6 of 20\n",
      "Model Number: 711 with model LastValueNaive in generation 6 of 20\n",
      "Model Number: 712 with model MetricMotif in generation 6 of 20\n",
      "Model Number: 713 with model SeasonalNaive in generation 6 of 20\n",
      "Model Number: 714 with model ConstantNaive in generation 6 of 20\n",
      "Model Number: 715 with model RRVAR in generation 6 of 20\n",
      "Model Number: 716 with model GLM in generation 6 of 20\n",
      "Model Number: 717 with model RRVAR in generation 6 of 20\n",
      "Model Number: 718 with model AverageValueNaive in generation 6 of 20\n",
      "Model Number: 719 with model LastValueNaive in generation 6 of 20\n",
      "Model Number: 720 with model LastValueNaive in generation 6 of 20\n"
     ]
    },
    {
     "name": "stderr",
     "output_type": "stream",
     "text": [
      "c:\\Users\\Lenovo\\AppData\\Local\\Programs\\Python\\Python312\\Lib\\site-packages\\statsmodels\\genmod\\generalized_linear_model.py:308: DomainWarning: The InversePower link function does not respect the domain of the Gamma family.\n",
      "  warnings.warn((f\"The {type(family.link).__name__} link function \"\n",
      "c:\\Users\\Lenovo\\AppData\\Local\\Programs\\Python\\Python312\\Lib\\site-packages\\statsmodels\\genmod\\generalized_linear_model.py:308: DomainWarning: The InversePower link function does not respect the domain of the Gamma family.\n",
      "  warnings.warn((f\"The {type(family.link).__name__} link function \"\n",
      "c:\\Users\\Lenovo\\AppData\\Local\\Programs\\Python\\Python312\\Lib\\site-packages\\statsmodels\\genmod\\generalized_linear_model.py:308: DomainWarning: The InversePower link function does not respect the domain of the Gamma family.\n",
      "  warnings.warn((f\"The {type(family.link).__name__} link function \"\n",
      "c:\\Users\\Lenovo\\AppData\\Local\\Programs\\Python\\Python312\\Lib\\site-packages\\statsmodels\\genmod\\generalized_linear_model.py:308: DomainWarning: The InversePower link function does not respect the domain of the Gamma family.\n",
      "  warnings.warn((f\"The {type(family.link).__name__} link function \"\n",
      "c:\\Users\\Lenovo\\AppData\\Local\\Programs\\Python\\Python312\\Lib\\site-packages\\statsmodels\\genmod\\generalized_linear_model.py:308: DomainWarning: The InversePower link function does not respect the domain of the Gamma family.\n",
      "  warnings.warn((f\"The {type(family.link).__name__} link function \"\n",
      "c:\\Users\\Lenovo\\AppData\\Local\\Programs\\Python\\Python312\\Lib\\site-packages\\statsmodels\\genmod\\generalized_linear_model.py:308: DomainWarning: The InversePower link function does not respect the domain of the Gamma family.\n",
      "  warnings.warn((f\"The {type(family.link).__name__} link function \"\n",
      "c:\\Users\\Lenovo\\AppData\\Local\\Programs\\Python\\Python312\\Lib\\site-packages\\statsmodels\\genmod\\generalized_linear_model.py:308: DomainWarning: The InversePower link function does not respect the domain of the Gamma family.\n",
      "  warnings.warn((f\"The {type(family.link).__name__} link function \"\n",
      "c:\\Users\\Lenovo\\AppData\\Local\\Programs\\Python\\Python312\\Lib\\site-packages\\statsmodels\\genmod\\generalized_linear_model.py:308: DomainWarning: The InversePower link function does not respect the domain of the Gamma family.\n",
      "  warnings.warn((f\"The {type(family.link).__name__} link function \"\n",
      "c:\\Users\\Lenovo\\AppData\\Local\\Programs\\Python\\Python312\\Lib\\site-packages\\statsmodels\\genmod\\generalized_linear_model.py:308: DomainWarning: The InversePower link function does not respect the domain of the Gamma family.\n",
      "  warnings.warn((f\"The {type(family.link).__name__} link function \"\n"
     ]
    },
    {
     "name": "stdout",
     "output_type": "stream",
     "text": [
      "Model Number: 721 with model FFT in generation 6 of 20\n",
      "Model Number: 722 with model SeasonalNaive in generation 6 of 20\n",
      "Model Number: 723 with model FFT in generation 6 of 20\n",
      "Model Number: 724 with model MetricMotif in generation 6 of 20\n",
      "Model Number: 725 with model MetricMotif in generation 6 of 20\n",
      "Model Number: 726 with model DatepartRegression in generation 6 of 20\n",
      "Template Eval Error: ModuleNotFoundError(\"No module named 'tensorflow'\") in model 726 in generation 6: DatepartRegression\n",
      "Model Number: 727 with model GLM in generation 6 of 20\n",
      "Model Number: 728 with model Cassandra in generation 6 of 20\n"
     ]
    },
    {
     "name": "stderr",
     "output_type": "stream",
     "text": [
      "c:\\Users\\Lenovo\\AppData\\Local\\Programs\\Python\\Python312\\Lib\\site-packages\\statsmodels\\genmod\\families\\links.py:198: RuntimeWarning: overflow encountered in exp\n",
      "  t = np.exp(-z)\n",
      "c:\\Users\\Lenovo\\AppData\\Local\\Programs\\Python\\Python312\\Lib\\site-packages\\autots\\tools\\anomaly_utils.py:1115: FutureWarning: Downcasting object dtype arrays on .fillna, .ffill, .bfill is deprecated and will change in a future version. Call result.infer_objects(copy=False) instead. To opt-in to the future behavior, set `pd.set_option('future.no_silent_downcasting', True)`\n",
      "  result = result + temp.where(temp.isnull(), 1).fillna(0)\n",
      "c:\\Users\\Lenovo\\AppData\\Local\\Programs\\Python\\Python312\\Lib\\site-packages\\numpy\\lib\\function_base.py:2897: RuntimeWarning: invalid value encountered in divide\n",
      "  c /= stddev[:, None]\n",
      "c:\\Users\\Lenovo\\AppData\\Local\\Programs\\Python\\Python312\\Lib\\site-packages\\numpy\\lib\\function_base.py:2898: RuntimeWarning: invalid value encountered in divide\n",
      "  c /= stddev[None, :]\n"
     ]
    },
    {
     "name": "stdout",
     "output_type": "stream",
     "text": [
      "Model Number: 729 with model ETS in generation 6 of 20\n",
      "Model Number: 730 with model FFT in generation 6 of 20\n",
      "Model Number: 731 with model FFT in generation 6 of 20\n",
      "Template Eval Error: Exception(\"Transformer ScipyFilter failed on fit from params ffill {'0': {'method': 'butter', 'method_args': {'N': 6, 'btype': 'lowpass', 'analog': False, 'output': 'sos', 'Wn': 0.08333333333333333}}}\") in model 731 in generation 6: FFT\n",
      "Model Number: 732 with model SectionalMotif in generation 6 of 20\n",
      "Model Number: 733 with model ConstantNaive in generation 6 of 20\n",
      "Model Number: 734 with model SectionalMotif in generation 6 of 20\n",
      "Model Number: 735 with model GLS in generation 6 of 20\n",
      "Model Number: 736 with model BallTreeMultivariateMotif in generation 6 of 20\n",
      "Model Number: 737 with model AverageValueNaive in generation 6 of 20\n",
      "Model Number: 738 with model SeasonalNaive in generation 6 of 20\n",
      "Model Number: 739 with model RRVAR in generation 6 of 20\n",
      "Model Number: 740 with model DatepartRegression in generation 6 of 20\n",
      "Template Eval Error: ModuleNotFoundError(\"No module named 'tensorflow'\") in model 740 in generation 6: DatepartRegression\n",
      "Model Number: 741 with model WindowRegression in generation 6 of 20\n",
      "Template Eval Error: ValueError(\"regression_type='User' but no future_regressor passed\") in model 741 in generation 6: WindowRegression\n",
      "Model Number: 742 with model DatepartRegression in generation 6 of 20\n",
      "Model Number: 743 with model UnivariateMotif in generation 6 of 20\n",
      "Model Number: 744 with model AverageValueNaive in generation 6 of 20\n"
     ]
    },
    {
     "name": "stderr",
     "output_type": "stream",
     "text": [
      "c:\\Users\\Lenovo\\AppData\\Local\\Programs\\Python\\Python312\\Lib\\site-packages\\sklearn\\svm\\_base.py:1235: ConvergenceWarning: Liblinear failed to converge, increase the number of iterations.\n",
      "  warnings.warn(\n",
      "c:\\Users\\Lenovo\\AppData\\Local\\Programs\\Python\\Python312\\Lib\\site-packages\\sklearn\\svm\\_base.py:1235: ConvergenceWarning: Liblinear failed to converge, increase the number of iterations.\n",
      "  warnings.warn(\n",
      "c:\\Users\\Lenovo\\AppData\\Local\\Programs\\Python\\Python312\\Lib\\site-packages\\sklearn\\svm\\_base.py:1235: ConvergenceWarning: Liblinear failed to converge, increase the number of iterations.\n",
      "  warnings.warn(\n",
      "c:\\Users\\Lenovo\\AppData\\Local\\Programs\\Python\\Python312\\Lib\\site-packages\\sklearn\\svm\\_base.py:1235: ConvergenceWarning: Liblinear failed to converge, increase the number of iterations.\n",
      "  warnings.warn(\n",
      "c:\\Users\\Lenovo\\AppData\\Local\\Programs\\Python\\Python312\\Lib\\site-packages\\sklearn\\svm\\_base.py:1235: ConvergenceWarning: Liblinear failed to converge, increase the number of iterations.\n",
      "  warnings.warn(\n",
      "c:\\Users\\Lenovo\\AppData\\Local\\Programs\\Python\\Python312\\Lib\\site-packages\\sklearn\\svm\\_base.py:1235: ConvergenceWarning: Liblinear failed to converge, increase the number of iterations.\n",
      "  warnings.warn(\n",
      "c:\\Users\\Lenovo\\AppData\\Local\\Programs\\Python\\Python312\\Lib\\site-packages\\sklearn\\svm\\_base.py:1235: ConvergenceWarning: Liblinear failed to converge, increase the number of iterations.\n",
      "  warnings.warn(\n",
      "c:\\Users\\Lenovo\\AppData\\Local\\Programs\\Python\\Python312\\Lib\\site-packages\\sklearn\\svm\\_base.py:1235: ConvergenceWarning: Liblinear failed to converge, increase the number of iterations.\n",
      "  warnings.warn(\n",
      "c:\\Users\\Lenovo\\AppData\\Local\\Programs\\Python\\Python312\\Lib\\site-packages\\sklearn\\svm\\_base.py:1235: ConvergenceWarning: Liblinear failed to converge, increase the number of iterations.\n",
      "  warnings.warn(\n"
     ]
    },
    {
     "name": "stdout",
     "output_type": "stream",
     "text": [
      "Model Number: 745 with model SeasonalNaive in generation 6 of 20\n",
      "Model Number: 746 with model NVAR in generation 6 of 20\n",
      "Model Number: 747 with model KalmanStateSpace in generation 6 of 20\n",
      "Model Number: 748 with model SeasonalityMotif in generation 6 of 20\n",
      "Model Number: 749 with model KalmanStateSpace in generation 6 of 20\n",
      "Model Number: 750 with model LastValueNaive in generation 6 of 20\n",
      "Model Number: 751 with model RRVAR in generation 6 of 20\n",
      "Model Number: 752 with model SeasonalNaive in generation 6 of 20\n",
      "Model Number: 753 with model ETS in generation 6 of 20\n",
      "Model Number: 754 with model DatepartRegression in generation 6 of 20\n",
      "Model Number: 755 with model Cassandra in generation 6 of 20\n",
      "Model Number: 756 with model RRVAR in generation 6 of 20\n"
     ]
    },
    {
     "name": "stderr",
     "output_type": "stream",
     "text": [
      "c:\\Users\\Lenovo\\AppData\\Local\\Programs\\Python\\Python312\\Lib\\site-packages\\sklearn\\svm\\_base.py:1235: ConvergenceWarning: Liblinear failed to converge, increase the number of iterations.\n",
      "  warnings.warn(\n",
      "c:\\Users\\Lenovo\\AppData\\Local\\Programs\\Python\\Python312\\Lib\\site-packages\\sklearn\\svm\\_base.py:1235: ConvergenceWarning: Liblinear failed to converge, increase the number of iterations.\n",
      "  warnings.warn(\n",
      "c:\\Users\\Lenovo\\AppData\\Local\\Programs\\Python\\Python312\\Lib\\site-packages\\sklearn\\svm\\_base.py:1235: ConvergenceWarning: Liblinear failed to converge, increase the number of iterations.\n",
      "  warnings.warn(\n",
      "c:\\Users\\Lenovo\\AppData\\Local\\Programs\\Python\\Python312\\Lib\\site-packages\\sklearn\\svm\\_base.py:1235: ConvergenceWarning: Liblinear failed to converge, increase the number of iterations.\n",
      "  warnings.warn(\n",
      "c:\\Users\\Lenovo\\AppData\\Local\\Programs\\Python\\Python312\\Lib\\site-packages\\sklearn\\svm\\_base.py:1235: ConvergenceWarning: Liblinear failed to converge, increase the number of iterations.\n",
      "  warnings.warn(\n",
      "c:\\Users\\Lenovo\\AppData\\Local\\Programs\\Python\\Python312\\Lib\\site-packages\\sklearn\\svm\\_base.py:1235: ConvergenceWarning: Liblinear failed to converge, increase the number of iterations.\n",
      "  warnings.warn(\n",
      "c:\\Users\\Lenovo\\AppData\\Local\\Programs\\Python\\Python312\\Lib\\site-packages\\sklearn\\svm\\_base.py:1235: ConvergenceWarning: Liblinear failed to converge, increase the number of iterations.\n",
      "  warnings.warn(\n",
      "c:\\Users\\Lenovo\\AppData\\Local\\Programs\\Python\\Python312\\Lib\\site-packages\\sklearn\\svm\\_base.py:1235: ConvergenceWarning: Liblinear failed to converge, increase the number of iterations.\n",
      "  warnings.warn(\n",
      "c:\\Users\\Lenovo\\AppData\\Local\\Programs\\Python\\Python312\\Lib\\site-packages\\sklearn\\svm\\_base.py:1235: ConvergenceWarning: Liblinear failed to converge, increase the number of iterations.\n",
      "  warnings.warn(\n",
      "c:\\Users\\Lenovo\\AppData\\Local\\Programs\\Python\\Python312\\Lib\\site-packages\\numpy\\lib\\function_base.py:2897: RuntimeWarning: invalid value encountered in divide\n",
      "  c /= stddev[:, None]\n",
      "c:\\Users\\Lenovo\\AppData\\Local\\Programs\\Python\\Python312\\Lib\\site-packages\\numpy\\lib\\function_base.py:2898: RuntimeWarning: invalid value encountered in divide\n",
      "  c /= stddev[None, :]\n"
     ]
    },
    {
     "name": "stdout",
     "output_type": "stream",
     "text": [
      "Model Number: 757 with model KalmanStateSpace in generation 6 of 20\n",
      "Model Number: 758 with model GLM in generation 6 of 20\n",
      "Model Number: 759 with model AverageValueNaive in generation 6 of 20\n",
      "Model Number: 760 with model ETS in generation 6 of 20\n"
     ]
    },
    {
     "name": "stderr",
     "output_type": "stream",
     "text": [
      "c:\\Users\\Lenovo\\AppData\\Local\\Programs\\Python\\Python312\\Lib\\site-packages\\statsmodels\\genmod\\families\\links.py:198: RuntimeWarning: overflow encountered in exp\n",
      "  t = np.exp(-z)\n"
     ]
    },
    {
     "name": "stdout",
     "output_type": "stream",
     "text": [
      "Model Number: 761 with model GLM in generation 6 of 20\n",
      "Model Number: 762 with model ConstantNaive in generation 6 of 20\n"
     ]
    },
    {
     "name": "stderr",
     "output_type": "stream",
     "text": [
      "c:\\Users\\Lenovo\\AppData\\Local\\Programs\\Python\\Python312\\Lib\\site-packages\\statsmodels\\genmod\\generalized_linear_model.py:308: DomainWarning: The InversePower link function does not respect the domain of the Gamma family.\n",
      "  warnings.warn((f\"The {type(family.link).__name__} link function \"\n",
      "c:\\Users\\Lenovo\\AppData\\Local\\Programs\\Python\\Python312\\Lib\\site-packages\\statsmodels\\genmod\\generalized_linear_model.py:308: DomainWarning: The InversePower link function does not respect the domain of the Gamma family.\n",
      "  warnings.warn((f\"The {type(family.link).__name__} link function \"\n",
      "c:\\Users\\Lenovo\\AppData\\Local\\Programs\\Python\\Python312\\Lib\\site-packages\\statsmodels\\genmod\\generalized_linear_model.py:308: DomainWarning: The InversePower link function does not respect the domain of the Gamma family.\n",
      "  warnings.warn((f\"The {type(family.link).__name__} link function \"\n",
      "c:\\Users\\Lenovo\\AppData\\Local\\Programs\\Python\\Python312\\Lib\\site-packages\\statsmodels\\genmod\\generalized_linear_model.py:308: DomainWarning: The InversePower link function does not respect the domain of the Gamma family.\n",
      "  warnings.warn((f\"The {type(family.link).__name__} link function \"\n",
      "c:\\Users\\Lenovo\\AppData\\Local\\Programs\\Python\\Python312\\Lib\\site-packages\\statsmodels\\genmod\\generalized_linear_model.py:308: DomainWarning: The InversePower link function does not respect the domain of the Gamma family.\n",
      "  warnings.warn((f\"The {type(family.link).__name__} link function \"\n",
      "c:\\Users\\Lenovo\\AppData\\Local\\Programs\\Python\\Python312\\Lib\\site-packages\\statsmodels\\genmod\\generalized_linear_model.py:308: DomainWarning: The InversePower link function does not respect the domain of the Gamma family.\n",
      "  warnings.warn((f\"The {type(family.link).__name__} link function \"\n",
      "c:\\Users\\Lenovo\\AppData\\Local\\Programs\\Python\\Python312\\Lib\\site-packages\\statsmodels\\genmod\\generalized_linear_model.py:308: DomainWarning: The InversePower link function does not respect the domain of the Gamma family.\n",
      "  warnings.warn((f\"The {type(family.link).__name__} link function \"\n",
      "c:\\Users\\Lenovo\\AppData\\Local\\Programs\\Python\\Python312\\Lib\\site-packages\\statsmodels\\genmod\\generalized_linear_model.py:308: DomainWarning: The InversePower link function does not respect the domain of the Gamma family.\n",
      "  warnings.warn((f\"The {type(family.link).__name__} link function \"\n",
      "c:\\Users\\Lenovo\\AppData\\Local\\Programs\\Python\\Python312\\Lib\\site-packages\\statsmodels\\genmod\\generalized_linear_model.py:308: DomainWarning: The InversePower link function does not respect the domain of the Gamma family.\n",
      "  warnings.warn((f\"The {type(family.link).__name__} link function \"\n"
     ]
    },
    {
     "name": "stdout",
     "output_type": "stream",
     "text": [
      "Model Number: 763 with model ETS in generation 6 of 20\n",
      "Model Number: 764 with model UnivariateMotif in generation 6 of 20\n",
      "Model Number: 765 with model LastValueNaive in generation 6 of 20\n",
      "Model Number: 766 with model ConstantNaive in generation 6 of 20\n",
      "Model Number: 767 with model ETS in generation 6 of 20\n",
      "Model Number: 768 with model MetricMotif in generation 6 of 20\n",
      "Model Number: 769 with model DatepartRegression in generation 6 of 20\n",
      "Model Number: 770 with model AverageValueNaive in generation 6 of 20\n",
      "Model Number: 771 with model ConstantNaive in generation 6 of 20\n",
      "Model Number: 772 with model UnivariateMotif in generation 6 of 20\n",
      "Model Number: 773 with model RRVAR in generation 6 of 20\n",
      "New Generation: 7 of 20\n",
      "Model Number: 774 with model SeasonalNaive in generation 7 of 20\n",
      "Model Number: 775 with model Cassandra in generation 7 of 20\n",
      "Model Number: 776 with model UnivariateMotif in generation 7 of 20\n",
      "Model Number: 777 with model SeasonalNaive in generation 7 of 20\n"
     ]
    },
    {
     "name": "stderr",
     "output_type": "stream",
     "text": [
      "c:\\Users\\Lenovo\\AppData\\Local\\Programs\\Python\\Python312\\Lib\\site-packages\\numpy\\lib\\function_base.py:2897: RuntimeWarning: invalid value encountered in divide\n",
      "  c /= stddev[:, None]\n",
      "c:\\Users\\Lenovo\\AppData\\Local\\Programs\\Python\\Python312\\Lib\\site-packages\\numpy\\lib\\function_base.py:2898: RuntimeWarning: invalid value encountered in divide\n",
      "  c /= stddev[None, :]\n",
      "c:\\Users\\Lenovo\\AppData\\Local\\Programs\\Python\\Python312\\Lib\\site-packages\\autots\\tools\\transform.py:5608: FutureWarning: Downcasting object dtype arrays on .fillna, .ffill, .bfill is deprecated and will change in a future version. Call result.infer_objects(copy=False) instead. To opt-in to the future behavior, set `pd.set_option('future.no_silent_downcasting', True)`\n",
      "  df = df.fillna(0)\n",
      "c:\\Users\\Lenovo\\AppData\\Local\\Programs\\Python\\Python312\\Lib\\site-packages\\autots\\tools\\transform.py:5608: FutureWarning: Downcasting object dtype arrays on .fillna, .ffill, .bfill is deprecated and will change in a future version. Call result.infer_objects(copy=False) instead. To opt-in to the future behavior, set `pd.set_option('future.no_silent_downcasting', True)`\n",
      "  df = df.fillna(0)\n"
     ]
    },
    {
     "name": "stdout",
     "output_type": "stream",
     "text": [
      "Model Number: 778 with model ETS in generation 7 of 20\n",
      "Model Number: 779 with model SeasonalNaive in generation 7 of 20\n",
      "Model Number: 780 with model Cassandra in generation 7 of 20\n",
      "Template Eval Error: ValueError('negative dimensions are not allowed') in model 780 in generation 7: Cassandra\n",
      "Model Number: 781 with model ConstantNaive in generation 7 of 20\n",
      "Model Number: 782 with model BallTreeMultivariateMotif in generation 7 of 20\n",
      "Template Eval Error: TypeError('1D weights expected when shapes of a and weights differ.') in model 782 in generation 7: BallTreeMultivariateMotif\n",
      "Model Number: 783 with model ETS in generation 7 of 20\n",
      "Model Number: 784 with model GLS in generation 7 of 20\n",
      "Model Number: 785 with model ETS in generation 7 of 20\n",
      "Model Number: 786 with model FFT in generation 7 of 20\n",
      "Model Number: 787 with model Cassandra in generation 7 of 20\n",
      "Model Number: 788 with model Cassandra in generation 7 of 20\n"
     ]
    },
    {
     "name": "stderr",
     "output_type": "stream",
     "text": [
      "c:\\Users\\Lenovo\\AppData\\Local\\Programs\\Python\\Python312\\Lib\\site-packages\\numpy\\lib\\function_base.py:2897: RuntimeWarning: invalid value encountered in divide\n",
      "  c /= stddev[:, None]\n",
      "c:\\Users\\Lenovo\\AppData\\Local\\Programs\\Python\\Python312\\Lib\\site-packages\\numpy\\lib\\function_base.py:2898: RuntimeWarning: invalid value encountered in divide\n",
      "  c /= stddev[None, :]\n"
     ]
    },
    {
     "name": "stdout",
     "output_type": "stream",
     "text": [
      "Model Number: 789 with model FFT in generation 7 of 20\n",
      "Model Number: 790 with model RRVAR in generation 7 of 20\n",
      "Model Number: 791 with model GLS in generation 7 of 20\n"
     ]
    },
    {
     "name": "stderr",
     "output_type": "stream",
     "text": [
      "c:\\Users\\Lenovo\\AppData\\Local\\Programs\\Python\\Python312\\Lib\\site-packages\\autots\\tools\\transform.py:5608: FutureWarning: Downcasting object dtype arrays on .fillna, .ffill, .bfill is deprecated and will change in a future version. Call result.infer_objects(copy=False) instead. To opt-in to the future behavior, set `pd.set_option('future.no_silent_downcasting', True)`\n",
      "  df = df.fillna(0)\n",
      "c:\\Users\\Lenovo\\AppData\\Local\\Programs\\Python\\Python312\\Lib\\site-packages\\autots\\tools\\transform.py:5608: FutureWarning: Downcasting object dtype arrays on .fillna, .ffill, .bfill is deprecated and will change in a future version. Call result.infer_objects(copy=False) instead. To opt-in to the future behavior, set `pd.set_option('future.no_silent_downcasting', True)`\n",
      "  df = df.fillna(0)\n"
     ]
    },
    {
     "name": "stdout",
     "output_type": "stream",
     "text": [
      "Model Number: 792 with model ConstantNaive in generation 7 of 20\n",
      "Model Number: 793 with model UnivariateMotif in generation 7 of 20\n",
      "Model Number: 794 with model FFT in generation 7 of 20\n",
      "Model Number: 795 with model SeasonalNaive in generation 7 of 20\n",
      "Model Number: 796 with model BallTreeMultivariateMotif in generation 7 of 20\n",
      "Model Number: 797 with model KalmanStateSpace in generation 7 of 20\n",
      "Model Number: 798 with model RRVAR in generation 7 of 20\n",
      "Model Number: 799 with model LastValueNaive in generation 7 of 20\n",
      "Model Number: 800 with model LastValueNaive in generation 7 of 20\n",
      "Template Eval Error: Exception(\"Transformer ScipyFilter failed on fit from params fake_date {'0': {'method': 'clip', 'std_threshold': 1, 'fillna': None}, '1': {'rows': 1, 'lag': 1, 'method': 'additive', 'strength': 1.0, 'first_value_only': False, 'threshold': 10, 'threshold_method': 'max'}, '2': {'method': 'savgol_filter', 'method_args': {'window_length': 31, 'polyorder': 2, 'deriv': 0, 'mode': 'interp'}}, '3': {'rows': 1, 'lag': 28, 'method': 'additive', 'strength': 1.0, 'first_value_only': False, 'threshold': 3, 'threshold_method': 'max'}, '4': {'method': 'savgol_filter', 'method_args': {'window_length': 7, 'polyorder': 1, 'deriv': 0, 'mode': 'nearest'}}}\") in model 800 in generation 7: LastValueNaive\n",
      "Model Number: 801 with model NVAR in generation 7 of 20\n",
      "Template Eval Error: ValueError('Model NVAR returned NaN for one or more series. fail_on_forecast_nan=True') in model 801 in generation 7: NVAR\n",
      "Model Number: 802 with model ETS in generation 7 of 20\n",
      "Model Number: 803 with model DatepartRegression in generation 7 of 20\n",
      "Template Eval Error: ValueError(\"regression_type='User' but no future_regressor passed\") in model 803 in generation 7: DatepartRegression\n",
      "Model Number: 804 with model UnivariateMotif in generation 7 of 20\n",
      "Template Eval Error: Exception(\"Transformer AlignLastValue failed on fit from params ffill_mean_biased {'0': {}, '1': {}, '2': {'model': 'GLS', 'phi': 1, 'window': None, 'transform_dict': None}, '3': {'rows': 1, 'lag': 28, 'method': 'multiplicative', 'strength': 1.0, 'first_value_only': False, 'threshold': 1, 'threshold_method': 'max'}, '4': {'threshold': 0.7, 'splash_threshold': None, 'use_dayofmonth_holidays': True, 'use_wkdom_holidays': True, 'use_wkdeom_holidays': False, 'use_lunar_holidays': False, 'use_lunar_weekday': True, 'use_islamic_holidays': False, 'use_hebrew_holidays': False, 'anomaly_detector_params': {'method': 'rolling_zscore', 'method_params': {'distribution': 'norm', 'alpha': 0.05, 'rolling_periods': 28, 'center': True}, 'fillna': 'ffill', 'transform_dict': {'transformations': {'0': 'DatepartRegression'}, 'transformation_params': {'0': {'datepart_method': 'simple_3', 'regression_model': {'model': 'FastRidge', 'model_params': {}}}}}, 'isolated_only': False}, 'remove_excess_anomalies': True, 'impact': None, 'regression_params': {}}, '5': {'output_distribution': 'uniform', 'n_quantiles': 1000}}\") in model 804 in generation 7: UnivariateMotif\n",
      "Model Number: 805 with model BallTreeMultivariateMotif in generation 7 of 20\n",
      "Model Number: 806 with model AverageValueNaive in generation 7 of 20\n",
      "Model Number: 807 with model DatepartRegression in generation 7 of 20\n",
      "Template Eval Error: ModuleNotFoundError(\"No module named 'tensorflow'\") in model 807 in generation 7: DatepartRegression\n",
      "Model Number: 808 with model LastValueNaive in generation 7 of 20\n",
      "Model Number: 809 with model KalmanStateSpace in generation 7 of 20\n",
      "Model Number: 810 with model KalmanStateSpace in generation 7 of 20\n",
      "Model Number: 811 with model GLS in generation 7 of 20\n",
      "Model Number: 812 with model SeasonalNaive in generation 7 of 20\n",
      "Model Number: 813 with model RRVAR in generation 7 of 20\n",
      "Model Number: 814 with model GLM in generation 7 of 20\n",
      "Model Number: 815 with model UnivariateMotif in generation 7 of 20\n"
     ]
    },
    {
     "name": "stderr",
     "output_type": "stream",
     "text": [
      "c:\\Users\\Lenovo\\AppData\\Local\\Programs\\Python\\Python312\\Lib\\site-packages\\statsmodels\\genmod\\generalized_linear_model.py:308: DomainWarning: The InversePower link function does not respect the domain of the Gamma family.\n",
      "  warnings.warn((f\"The {type(family.link).__name__} link function \"\n",
      "c:\\Users\\Lenovo\\AppData\\Local\\Programs\\Python\\Python312\\Lib\\site-packages\\statsmodels\\genmod\\generalized_linear_model.py:308: DomainWarning: The InversePower link function does not respect the domain of the Gamma family.\n",
      "  warnings.warn((f\"The {type(family.link).__name__} link function \"\n",
      "c:\\Users\\Lenovo\\AppData\\Local\\Programs\\Python\\Python312\\Lib\\site-packages\\statsmodels\\genmod\\generalized_linear_model.py:308: DomainWarning: The InversePower link function does not respect the domain of the Gamma family.\n",
      "  warnings.warn((f\"The {type(family.link).__name__} link function \"\n",
      "c:\\Users\\Lenovo\\AppData\\Local\\Programs\\Python\\Python312\\Lib\\site-packages\\statsmodels\\genmod\\generalized_linear_model.py:308: DomainWarning: The InversePower link function does not respect the domain of the Gamma family.\n",
      "  warnings.warn((f\"The {type(family.link).__name__} link function \"\n",
      "c:\\Users\\Lenovo\\AppData\\Local\\Programs\\Python\\Python312\\Lib\\site-packages\\statsmodels\\genmod\\generalized_linear_model.py:308: DomainWarning: The InversePower link function does not respect the domain of the Gamma family.\n",
      "  warnings.warn((f\"The {type(family.link).__name__} link function \"\n",
      "c:\\Users\\Lenovo\\AppData\\Local\\Programs\\Python\\Python312\\Lib\\site-packages\\statsmodels\\genmod\\generalized_linear_model.py:308: DomainWarning: The InversePower link function does not respect the domain of the Gamma family.\n",
      "  warnings.warn((f\"The {type(family.link).__name__} link function \"\n",
      "c:\\Users\\Lenovo\\AppData\\Local\\Programs\\Python\\Python312\\Lib\\site-packages\\statsmodels\\genmod\\generalized_linear_model.py:308: DomainWarning: The InversePower link function does not respect the domain of the Gamma family.\n",
      "  warnings.warn((f\"The {type(family.link).__name__} link function \"\n",
      "c:\\Users\\Lenovo\\AppData\\Local\\Programs\\Python\\Python312\\Lib\\site-packages\\statsmodels\\genmod\\generalized_linear_model.py:308: DomainWarning: The InversePower link function does not respect the domain of the Gamma family.\n",
      "  warnings.warn((f\"The {type(family.link).__name__} link function \"\n",
      "c:\\Users\\Lenovo\\AppData\\Local\\Programs\\Python\\Python312\\Lib\\site-packages\\statsmodels\\genmod\\generalized_linear_model.py:308: DomainWarning: The InversePower link function does not respect the domain of the Gamma family.\n",
      "  warnings.warn((f\"The {type(family.link).__name__} link function \"\n"
     ]
    },
    {
     "name": "stdout",
     "output_type": "stream",
     "text": [
      "Template Eval Error: Exception(\"Transformer AlignLastValue failed on fit from params fake_date {'0': {'method': 'clip', 'std_threshold': 2, 'fillna': None}, '1': {'rows': 1, 'lag': 28, 'method': 'multiplicative', 'strength': 1.0, 'first_value_only': False, 'threshold': 1, 'threshold_method': 'max'}}\") in model 815 in generation 7: UnivariateMotif\n",
      "Model Number: 816 with model ETS in generation 7 of 20\n",
      "Model Number: 817 with model ConstantNaive in generation 7 of 20\n",
      "Model Number: 818 with model FFT in generation 7 of 20\n",
      "Model Number: 819 with model FFT in generation 7 of 20\n",
      "Model Number: 820 with model Cassandra in generation 7 of 20\n",
      "Template Eval Error: ValueError('negative dimensions are not allowed') in model 820 in generation 7: Cassandra\n",
      "Model Number: 821 with model KalmanStateSpace in generation 7 of 20\n"
     ]
    },
    {
     "name": "stderr",
     "output_type": "stream",
     "text": [
      "c:\\Users\\Lenovo\\AppData\\Local\\Programs\\Python\\Python312\\Lib\\site-packages\\numpy\\lib\\function_base.py:2897: RuntimeWarning: invalid value encountered in divide\n",
      "  c /= stddev[:, None]\n",
      "c:\\Users\\Lenovo\\AppData\\Local\\Programs\\Python\\Python312\\Lib\\site-packages\\numpy\\lib\\function_base.py:2898: RuntimeWarning: invalid value encountered in divide\n",
      "  c /= stddev[None, :]\n"
     ]
    },
    {
     "name": "stdout",
     "output_type": "stream",
     "text": [
      "SVD did not converge, attempting more robust approach...\n",
      "Template Eval Error: LinAlgError('SVD did not converge') in model 821 in generation 7: KalmanStateSpace\n",
      "Model Number: 822 with model LastValueNaive in generation 7 of 20\n"
     ]
    },
    {
     "name": "stderr",
     "output_type": "stream",
     "text": [
      "c:\\Users\\Lenovo\\AppData\\Local\\Programs\\Python\\Python312\\Lib\\site-packages\\autots\\tools\\fast_kalman.py:1137: RuntimeWarning: overflow encountered in cast\n",
      "  result.smoothed.states.cov[:, j, :, :] = Ps\n",
      "c:\\Users\\Lenovo\\AppData\\Local\\Programs\\Python\\Python312\\Lib\\site-packages\\autots\\tools\\fast_kalman.py:1354: RuntimeWarning: invalid value encountered in matmul\n",
      "  return np.matmul(A, np.swapaxes(B, -1, -2))\n",
      "c:\\Users\\Lenovo\\AppData\\Local\\Programs\\Python\\Python312\\Lib\\site-packages\\autots\\tools\\fast_kalman.py:1341: RuntimeWarning: invalid value encountered in matmul\n",
      "  return np.matmul(A, B)\n"
     ]
    },
    {
     "name": "stdout",
     "output_type": "stream",
     "text": [
      "Model Number: 823 with model DatepartRegression in generation 7 of 20\n",
      "Model Number: 824 with model SeasonalNaive in generation 7 of 20\n",
      "Model Number: 825 with model SeasonalityMotif in generation 7 of 20\n",
      "Model Number: 826 with model DatepartRegression in generation 7 of 20\n",
      "Model Number: 827 with model SeasonalNaive in generation 7 of 20\n",
      "Model Number: 828 with model Cassandra in generation 7 of 20\n",
      "Model Number: 829 with model RRVAR in generation 7 of 20\n"
     ]
    },
    {
     "name": "stderr",
     "output_type": "stream",
     "text": [
      "c:\\Users\\Lenovo\\AppData\\Local\\Programs\\Python\\Python312\\Lib\\site-packages\\numpy\\lib\\function_base.py:2897: RuntimeWarning: invalid value encountered in divide\n",
      "  c /= stddev[:, None]\n",
      "c:\\Users\\Lenovo\\AppData\\Local\\Programs\\Python\\Python312\\Lib\\site-packages\\numpy\\lib\\function_base.py:2898: RuntimeWarning: invalid value encountered in divide\n",
      "  c /= stddev[None, :]\n"
     ]
    },
    {
     "name": "stdout",
     "output_type": "stream",
     "text": [
      "Model Number: 830 with model SectionalMotif in generation 7 of 20\n",
      "Model Number: 831 with model Cassandra in generation 7 of 20\n",
      "Model Number: 832 with model AverageValueNaive in generation 7 of 20\n",
      "Model Number: 833 with model RRVAR in generation 7 of 20\n",
      "Model Number: 834 with model SeasonalNaive in generation 7 of 20\n",
      "Model Number: 835 with model FFT in generation 7 of 20\n",
      "Model Number: 836 with model RRVAR in generation 7 of 20\n"
     ]
    },
    {
     "name": "stderr",
     "output_type": "stream",
     "text": [
      "c:\\Users\\Lenovo\\AppData\\Local\\Programs\\Python\\Python312\\Lib\\site-packages\\autots\\tools\\transform.py:5608: FutureWarning: Downcasting object dtype arrays on .fillna, .ffill, .bfill is deprecated and will change in a future version. Call result.infer_objects(copy=False) instead. To opt-in to the future behavior, set `pd.set_option('future.no_silent_downcasting', True)`\n",
      "  df = df.fillna(0)\n",
      "c:\\Users\\Lenovo\\AppData\\Local\\Programs\\Python\\Python312\\Lib\\site-packages\\autots\\tools\\transform.py:5608: FutureWarning: Downcasting object dtype arrays on .fillna, .ffill, .bfill is deprecated and will change in a future version. Call result.infer_objects(copy=False) instead. To opt-in to the future behavior, set `pd.set_option('future.no_silent_downcasting', True)`\n",
      "  df = df.fillna(0)\n"
     ]
    },
    {
     "name": "stdout",
     "output_type": "stream",
     "text": [
      "Model Number: 837 with model FFT in generation 7 of 20\n",
      "Model Number: 838 with model MetricMotif in generation 7 of 20\n",
      "Template Eval Error: Exception(\"Transformer STLFilter failed on fit from params ffill {'0': {'decomp_type': 'seasonal_decompose', 'part': 'trend'}, '1': {'whiten': False, 'n_components': 10}}\") in model 838 in generation 7: MetricMotif\n",
      "Model Number: 839 with model RRVAR in generation 7 of 20\n",
      "Model Number: 840 with model GLM in generation 7 of 20\n",
      "Template Eval Error: ValueError('The first guess on the deviance function returned a nan.  This could be a boundary  problem and should be reported.') in model 840 in generation 7: GLM\n",
      "Model Number: 841 with model DatepartRegression in generation 7 of 20\n"
     ]
    },
    {
     "name": "stderr",
     "output_type": "stream",
     "text": [
      "c:\\Users\\Lenovo\\AppData\\Local\\Programs\\Python\\Python312\\Lib\\site-packages\\statsmodels\\genmod\\families\\family.py:1367: ValueWarning: Negative binomial dispersion parameter alpha not set. Using default value alpha=1.0.\n",
      "  warnings.warn(\"Negative binomial dispersion parameter alpha not \"\n",
      "c:\\Users\\Lenovo\\AppData\\Local\\Programs\\Python\\Python312\\Lib\\site-packages\\statsmodels\\genmod\\families\\family.py:1406: RuntimeWarning: invalid value encountered in log\n",
      "  resid_dev -= endog_alpha * np.log(endog_alpha / mu_alpha)\n"
     ]
    },
    {
     "name": "stdout",
     "output_type": "stream",
     "text": [
      "Model Number: 842 with model FFT in generation 7 of 20\n"
     ]
    },
    {
     "name": "stderr",
     "output_type": "stream",
     "text": [
      "c:\\Users\\Lenovo\\AppData\\Local\\Programs\\Python\\Python312\\Lib\\site-packages\\autots\\tools\\transform.py:1637: FutureWarning: The behavior of DataFrame concatenation with empty or all-NA entries is deprecated. In a future version, this will no longer exclude empty or all-NA columns when determining the result dtypes. To retain the old behavior, exclude the relevant entries before the concat operation.\n",
      "  df = pd.concat([self.last_values, df], axis=0)\n",
      "c:\\Users\\Lenovo\\AppData\\Local\\Programs\\Python\\Python312\\Lib\\site-packages\\autots\\tools\\transform.py:1637: FutureWarning: The behavior of DataFrame concatenation with empty or all-NA entries is deprecated. In a future version, this will no longer exclude empty or all-NA columns when determining the result dtypes. To retain the old behavior, exclude the relevant entries before the concat operation.\n",
      "  df = pd.concat([self.last_values, df], axis=0)\n"
     ]
    },
    {
     "name": "stdout",
     "output_type": "stream",
     "text": [
      "Model Number: 843 with model ETS in generation 7 of 20\n",
      "Model Number: 844 with model ETS in generation 7 of 20\n",
      "Model Number: 845 with model GLS in generation 7 of 20\n",
      "Model Number: 846 with model ETS in generation 7 of 20\n",
      "Model Number: 847 with model KalmanStateSpace in generation 7 of 20\n",
      "Model Number: 848 with model GLM in generation 7 of 20\n",
      "Model Number: 849 with model FFT in generation 7 of 20\n",
      "Model Number: 850 with model RRVAR in generation 7 of 20\n",
      "Model Number: 851 with model MetricMotif in generation 7 of 20\n",
      "Template Eval Error: Exception(\"Transformer STLFilter failed on fit from params ffill {'0': {'decomp_type': 'seasonal_decompose', 'part': 'trend'}, '1': {'model_name': 'local linear stochastic seasonal dummy', 'state_transition': [[1, 0, 0, 0], [0, -1, -1, -1], [0, 1, 0, 0], [0, 0, 1, 0]], 'process_noise': [[1, 0, 0, 0], [0, 1, 0, 0], [0, 0, 0, 0], [0, 0, 0, 0]], 'observation_model': [[1, 1, 0, 0]], 'observation_noise': 0.1, 'em_iter': None, 'on_transform': True, 'on_inverse': False}, '2': {'lag': 1, 'fill': 'bfill'}, '3': {'whiten': False, 'n_components': 10}, '4': {'rows': 1, 'lag': 1, 'method': 'additive', 'strength': 1.0, 'first_value_only': False, 'threshold': None, 'threshold_method': 'mean'}}\") in model 851 in generation 7: MetricMotif\n",
      "Model Number: 852 with model ETS in generation 7 of 20\n",
      "Model Number: 853 with model ETS in generation 7 of 20\n",
      "Model Number: 854 with model FFT in generation 7 of 20\n",
      "Model Number: 855 with model FFT in generation 7 of 20\n",
      "Template Eval Error: Exception(\"Transformer ScipyFilter failed on fit from params fake_date {'0': {'cutoff': 0.005, 'reverse': False}, '1': {'method': 'savgol_filter', 'method_args': {'window_length': 31, 'polyorder': 1, 'deriv': 1, 'mode': 'nearest'}}, '2': {'method': 'savgol_filter', 'method_args': {'window_length': 31, 'polyorder': 3, 'deriv': 0, 'mode': 'interp'}}}\") in model 855 in generation 7: FFT\n",
      "Model Number: 856 with model FFT in generation 7 of 20\n",
      "Template Eval Error: Exception(\"Transformer ReplaceConstant failed on fit from params linear {'0': {'constant': 0, 'reintroduction_model': {'model': 'xgboost', 'model_params': {'booster': 'gbtree', 'max_depth': 6, 'eta': 0.03, 'min_child_weight': 1, 'subsample': 1, 'colsample_bylevel': 1, 'reg_alpha': 0.05, 'reg_lambda': 1, 'n_estimators': 10, 'multi_strategy': 'multi_output_tree', 'tree_method': 'hist'}, 'datepart_method': 'simple'}, 'fillna': 'ffill'}}\") in model 856 in generation 7: FFT\n",
      "Model Number: 857 with model SeasonalityMotif in generation 7 of 20\n",
      "Model Number: 858 with model AverageValueNaive in generation 7 of 20\n",
      "Model Number: 859 with model BallTreeMultivariateMotif in generation 7 of 20\n",
      "Model Number: 860 with model DatepartRegression in generation 7 of 20\n",
      "Template Eval Error: ModuleNotFoundError(\"No module named 'tensorflow'\") in model 860 in generation 7: DatepartRegression\n",
      "Model Number: 861 with model AverageValueNaive in generation 7 of 20\n",
      "New Generation: 8 of 20\n",
      "Model Number: 862 with model ETS in generation 8 of 20\n",
      "Model Number: 863 with model AverageValueNaive in generation 8 of 20\n",
      "Model Number: 864 with model KalmanStateSpace in generation 8 of 20\n",
      "Model Number: 865 with model FFT in generation 8 of 20\n",
      "Model Number: 866 with model DatepartRegression in generation 8 of 20\n",
      "Model Number: 867 with model LastValueNaive in generation 8 of 20\n",
      "Model Number: 868 with model RRVAR in generation 8 of 20\n",
      "Model Number: 869 with model ETS in generation 8 of 20\n",
      "Model Number: 870 with model Cassandra in generation 8 of 20\n",
      "Model Number: 871 with model UnivariateMotif in generation 8 of 20\n",
      "Model Number: 872 with model GLS in generation 8 of 20\n",
      "Model Number: 873 with model UnivariateMotif in generation 8 of 20\n",
      "Model Number: 874 with model FFT in generation 8 of 20\n",
      "Model Number: 875 with model DatepartRegression in generation 8 of 20\n"
     ]
    },
    {
     "name": "stderr",
     "output_type": "stream",
     "text": [
      "c:\\Users\\Lenovo\\AppData\\Local\\Programs\\Python\\Python312\\Lib\\site-packages\\autots\\tools\\transform.py:5608: FutureWarning: Downcasting object dtype arrays on .fillna, .ffill, .bfill is deprecated and will change in a future version. Call result.infer_objects(copy=False) instead. To opt-in to the future behavior, set `pd.set_option('future.no_silent_downcasting', True)`\n",
      "  df = df.fillna(0)\n",
      "c:\\Users\\Lenovo\\AppData\\Local\\Programs\\Python\\Python312\\Lib\\site-packages\\autots\\tools\\transform.py:5608: FutureWarning: Downcasting object dtype arrays on .fillna, .ffill, .bfill is deprecated and will change in a future version. Call result.infer_objects(copy=False) instead. To opt-in to the future behavior, set `pd.set_option('future.no_silent_downcasting', True)`\n",
      "  df = df.fillna(0)\n"
     ]
    },
    {
     "name": "stdout",
     "output_type": "stream",
     "text": [
      "Model Number: 876 with model SeasonalNaive in generation 8 of 20\n",
      "Model Number: 877 with model RRVAR in generation 8 of 20\n",
      "Model Number: 878 with model UnivariateMotif in generation 8 of 20\n",
      "Template Eval Error: ValueError('kth(=10) out of bounds (9)') in model 878 in generation 8: UnivariateMotif\n",
      "Model Number: 879 with model ETS in generation 8 of 20\n",
      "Model Number: 880 with model UnivariateMotif in generation 8 of 20\n",
      "Model Number: 881 with model LastValueNaive in generation 8 of 20\n",
      "Model Number: 882 with model DatepartRegression in generation 8 of 20\n",
      "Model Number: 883 with model DatepartRegression in generation 8 of 20\n",
      "Model Number: 884 with model ETS in generation 8 of 20\n",
      "Model Number: 885 with model RRVAR in generation 8 of 20\n",
      "Model Number: 886 with model ETS in generation 8 of 20\n",
      "Model Number: 887 with model SeasonalNaive in generation 8 of 20\n",
      "Model Number: 888 with model RRVAR in generation 8 of 20\n",
      "Model Number: 889 with model SeasonalNaive in generation 8 of 20\n",
      "Model Number: 890 with model LastValueNaive in generation 8 of 20\n",
      "Model Number: 891 with model MetricMotif in generation 8 of 20\n",
      "Template Eval Error: ValueError('kth(=4) out of bounds (4)') in model 891 in generation 8: MetricMotif\n",
      "Model Number: 892 with model FFT in generation 8 of 20\n",
      "Model Number: 893 with model DatepartRegression in generation 8 of 20\n",
      "Model Number: 894 with model GLM in generation 8 of 20\n",
      "Template Eval Error: ValueError('regression_type=user and no future_regressor passed') in model 894 in generation 8: GLM\n",
      "Model Number: 895 with model GLM in generation 8 of 20\n",
      "Model Number: 896 with model RRVAR in generation 8 of 20\n",
      "Model Number: 897 with model MetricMotif in generation 8 of 20\n",
      "Model Number: 898 with model DatepartRegression in generation 8 of 20\n",
      "Template Eval Error: Exception(\"Transformer Detrend failed on fit from params ffill {'0': {'method': 'nonparametric', 'method_params': {'p': None, 'z_init': 2.0, 'z_limit': 12, 'z_step': 0.5, 'inverse': False, 'max_contamination': 0.25, 'mean_weight': 25, 'sd_weight': 1, 'anomaly_count_weight': 1.0}, 'transform_dict': None, 'reverse_alignment': True, 'isolated_only': True, 'fillna': 'mean'}, '1': {}, '2': {}, '3': {'model': 'Linear', 'phi': 1, 'window': None, 'transform_dict': {'fillna': None, 'transformations': {'0': 'AnomalyRemoval'}, 'transformation_params': {'0': {'method': 'zscore', 'transform_dict': {'transformations': {'0': 'DatepartRegression'}, 'transformation_params': {'0': {'datepart_method': 'simple_3', 'regression_model': {'model': 'ElasticNet', 'model_params': {}}}}}, 'method_params': {'distribution': 'uniform', 'alpha': 0.05}}}}}}\") in model 898 in generation 8: DatepartRegression\n"
     ]
    },
    {
     "name": "stderr",
     "output_type": "stream",
     "text": [
      "c:\\Users\\Lenovo\\AppData\\Local\\Programs\\Python\\Python312\\Lib\\site-packages\\statsmodels\\genmod\\generalized_linear_model.py:308: DomainWarning: The InversePower link function does not respect the domain of the Gamma family.\n",
      "  warnings.warn((f\"The {type(family.link).__name__} link function \"\n",
      "c:\\Users\\Lenovo\\AppData\\Local\\Programs\\Python\\Python312\\Lib\\site-packages\\statsmodels\\genmod\\generalized_linear_model.py:308: DomainWarning: The InversePower link function does not respect the domain of the Gamma family.\n",
      "  warnings.warn((f\"The {type(family.link).__name__} link function \"\n",
      "c:\\Users\\Lenovo\\AppData\\Local\\Programs\\Python\\Python312\\Lib\\site-packages\\statsmodels\\genmod\\generalized_linear_model.py:308: DomainWarning: The InversePower link function does not respect the domain of the Gamma family.\n",
      "  warnings.warn((f\"The {type(family.link).__name__} link function \"\n",
      "c:\\Users\\Lenovo\\AppData\\Local\\Programs\\Python\\Python312\\Lib\\site-packages\\statsmodels\\genmod\\generalized_linear_model.py:308: DomainWarning: The InversePower link function does not respect the domain of the Gamma family.\n",
      "  warnings.warn((f\"The {type(family.link).__name__} link function \"\n",
      "c:\\Users\\Lenovo\\AppData\\Local\\Programs\\Python\\Python312\\Lib\\site-packages\\statsmodels\\genmod\\generalized_linear_model.py:308: DomainWarning: The InversePower link function does not respect the domain of the Gamma family.\n",
      "  warnings.warn((f\"The {type(family.link).__name__} link function \"\n",
      "c:\\Users\\Lenovo\\AppData\\Local\\Programs\\Python\\Python312\\Lib\\site-packages\\statsmodels\\genmod\\generalized_linear_model.py:308: DomainWarning: The InversePower link function does not respect the domain of the Gamma family.\n",
      "  warnings.warn((f\"The {type(family.link).__name__} link function \"\n",
      "c:\\Users\\Lenovo\\AppData\\Local\\Programs\\Python\\Python312\\Lib\\site-packages\\statsmodels\\genmod\\generalized_linear_model.py:308: DomainWarning: The InversePower link function does not respect the domain of the Gamma family.\n",
      "  warnings.warn((f\"The {type(family.link).__name__} link function \"\n",
      "c:\\Users\\Lenovo\\AppData\\Local\\Programs\\Python\\Python312\\Lib\\site-packages\\statsmodels\\genmod\\generalized_linear_model.py:308: DomainWarning: The InversePower link function does not respect the domain of the Gamma family.\n",
      "  warnings.warn((f\"The {type(family.link).__name__} link function \"\n",
      "c:\\Users\\Lenovo\\AppData\\Local\\Programs\\Python\\Python312\\Lib\\site-packages\\statsmodels\\genmod\\generalized_linear_model.py:308: DomainWarning: The InversePower link function does not respect the domain of the Gamma family.\n",
      "  warnings.warn((f\"The {type(family.link).__name__} link function \"\n"
     ]
    },
    {
     "name": "stdout",
     "output_type": "stream",
     "text": [
      "Model Number: 899 with model UnivariateMotif in generation 8 of 20\n",
      "Model Number: 900 with model ETS in generation 8 of 20\n",
      "Model Number: 901 with model FFT in generation 8 of 20\n",
      "Model Number: 902 with model FFT in generation 8 of 20\n",
      "Model Number: 903 with model GLM in generation 8 of 20\n",
      "Template Eval Error: ValueError('NaN, inf or invalid value detected in weights, estimation infeasible.') in model 903 in generation 8: GLM\n",
      "Model Number: 904 with model RRVAR in generation 8 of 20\n",
      "Model Number: 905 with model FFT in generation 8 of 20\n",
      "Model Number: 906 with model FFT in generation 8 of 20\n",
      "Model Number: 907 with model RRVAR in generation 8 of 20\n",
      "Model Number: 908 with model RRVAR in generation 8 of 20\n"
     ]
    },
    {
     "name": "stderr",
     "output_type": "stream",
     "text": [
      "c:\\Users\\Lenovo\\AppData\\Local\\Programs\\Python\\Python312\\Lib\\site-packages\\statsmodels\\genmod\\families\\family.py:1367: ValueWarning: Negative binomial dispersion parameter alpha not set. Using default value alpha=1.0.\n",
      "  warnings.warn(\"Negative binomial dispersion parameter alpha not \"\n",
      "c:\\Users\\Lenovo\\AppData\\Local\\Programs\\Python\\Python312\\Lib\\site-packages\\statsmodels\\genmod\\families\\links.py:527: RuntimeWarning: overflow encountered in exp\n",
      "  return np.exp(z)\n",
      "c:\\Users\\Lenovo\\AppData\\Local\\Programs\\Python\\Python312\\Lib\\site-packages\\statsmodels\\genmod\\families\\family.py:1402: RuntimeWarning: divide by zero encountered in divide\n",
      "  endog_mu = self._clean(endog / mu)\n",
      "c:\\Users\\Lenovo\\AppData\\Local\\Programs\\Python\\Python312\\Lib\\site-packages\\statsmodels\\genmod\\families\\family.py:1406: RuntimeWarning: divide by zero encountered in log\n",
      "  resid_dev -= endog_alpha * np.log(endog_alpha / mu_alpha)\n",
      "c:\\Users\\Lenovo\\AppData\\Local\\Programs\\Python\\Python312\\Lib\\site-packages\\statsmodels\\genmod\\families\\family.py:1406: RuntimeWarning: invalid value encountered in log\n",
      "  resid_dev -= endog_alpha * np.log(endog_alpha / mu_alpha)\n",
      "c:\\Users\\Lenovo\\AppData\\Local\\Programs\\Python\\Python312\\Lib\\site-packages\\statsmodels\\genmod\\families\\family.py:143: RuntimeWarning: invalid value encountered in multiply\n",
      "  return 1. / (self.link.deriv(mu)**2 * self.variance(mu))\n",
      "c:\\Users\\Lenovo\\AppData\\Local\\Programs\\Python\\Python312\\Lib\\site-packages\\statsmodels\\genmod\\generalized_linear_model.py:1328: RuntimeWarning: invalid value encountered in multiply\n",
      "  wlsendog = (lin_pred + self.family.link.deriv(mu) * (self.endog-mu)\n"
     ]
    },
    {
     "name": "stdout",
     "output_type": "stream",
     "text": [
      "Model Number: 909 with model GLM in generation 8 of 20\n",
      "Template Eval Error: UnboundLocalError(\"cannot access local variable 'Xf' where it is not associated with a value\") in model 909 in generation 8: GLM\n",
      "Model Number: 910 with model DatepartRegression in generation 8 of 20\n",
      "Model Number: 911 with model SeasonalNaive in generation 8 of 20\n",
      "Model Number: 912 with model ETS in generation 8 of 20\n",
      "Model Number: 913 with model Cassandra in generation 8 of 20\n",
      "Model Number: 914 with model ConstantNaive in generation 8 of 20\n",
      "Model Number: 915 with model ConstantNaive in generation 8 of 20\n",
      "Template Eval Error: Exception(\"Transformer ScipyFilter failed on fit from params ffill_mean_biased {'0': {'method': 'clip', 'std_threshold': 2, 'fillna': None}, '1': {'method': 'butter', 'method_args': {'N': 7, 'btype': 'lowpass', 'analog': False, 'output': 'sos', 'Wn': 0.5}}}\") in model 915 in generation 8: ConstantNaive\n",
      "Model Number: 916 with model AverageValueNaive in generation 8 of 20\n",
      "Model Number: 917 with model AverageValueNaive in generation 8 of 20\n",
      "Model Number: 918 with model ETS in generation 8 of 20\n",
      "Model Number: 919 with model GLM in generation 8 of 20\n",
      "Model Number: 920 with model GLS in generation 8 of 20\n",
      "Model Number: 921 with model AverageValueNaive in generation 8 of 20\n",
      "Model Number: 922 with model SeasonalNaive in generation 8 of 20\n",
      "Model Number: 923 with model SeasonalNaive in generation 8 of 20\n"
     ]
    },
    {
     "name": "stderr",
     "output_type": "stream",
     "text": [
      "c:\\Users\\Lenovo\\AppData\\Local\\Programs\\Python\\Python312\\Lib\\site-packages\\statsmodels\\genmod\\families\\family.py:1367: ValueWarning: Negative binomial dispersion parameter alpha not set. Using default value alpha=1.0.\n",
      "  warnings.warn(\"Negative binomial dispersion parameter alpha not \"\n",
      "c:\\Users\\Lenovo\\AppData\\Local\\Programs\\Python\\Python312\\Lib\\site-packages\\statsmodels\\genmod\\families\\family.py:1367: ValueWarning: Negative binomial dispersion parameter alpha not set. Using default value alpha=1.0.\n",
      "  warnings.warn(\"Negative binomial dispersion parameter alpha not \"\n",
      "c:\\Users\\Lenovo\\AppData\\Local\\Programs\\Python\\Python312\\Lib\\site-packages\\statsmodels\\genmod\\families\\family.py:1367: ValueWarning: Negative binomial dispersion parameter alpha not set. Using default value alpha=1.0.\n",
      "  warnings.warn(\"Negative binomial dispersion parameter alpha not \"\n",
      "c:\\Users\\Lenovo\\AppData\\Local\\Programs\\Python\\Python312\\Lib\\site-packages\\statsmodels\\genmod\\families\\family.py:1367: ValueWarning: Negative binomial dispersion parameter alpha not set. Using default value alpha=1.0.\n",
      "  warnings.warn(\"Negative binomial dispersion parameter alpha not \"\n",
      "c:\\Users\\Lenovo\\AppData\\Local\\Programs\\Python\\Python312\\Lib\\site-packages\\statsmodels\\genmod\\families\\family.py:1367: ValueWarning: Negative binomial dispersion parameter alpha not set. Using default value alpha=1.0.\n",
      "  warnings.warn(\"Negative binomial dispersion parameter alpha not \"\n",
      "c:\\Users\\Lenovo\\AppData\\Local\\Programs\\Python\\Python312\\Lib\\site-packages\\statsmodels\\genmod\\families\\family.py:1367: ValueWarning: Negative binomial dispersion parameter alpha not set. Using default value alpha=1.0.\n",
      "  warnings.warn(\"Negative binomial dispersion parameter alpha not \"\n",
      "c:\\Users\\Lenovo\\AppData\\Local\\Programs\\Python\\Python312\\Lib\\site-packages\\statsmodels\\genmod\\families\\family.py:1367: ValueWarning: Negative binomial dispersion parameter alpha not set. Using default value alpha=1.0.\n",
      "  warnings.warn(\"Negative binomial dispersion parameter alpha not \"\n",
      "c:\\Users\\Lenovo\\AppData\\Local\\Programs\\Python\\Python312\\Lib\\site-packages\\statsmodels\\genmod\\families\\family.py:1367: ValueWarning: Negative binomial dispersion parameter alpha not set. Using default value alpha=1.0.\n",
      "  warnings.warn(\"Negative binomial dispersion parameter alpha not \"\n",
      "c:\\Users\\Lenovo\\AppData\\Local\\Programs\\Python\\Python312\\Lib\\site-packages\\statsmodels\\genmod\\families\\family.py:1367: ValueWarning: Negative binomial dispersion parameter alpha not set. Using default value alpha=1.0.\n",
      "  warnings.warn(\"Negative binomial dispersion parameter alpha not \"\n"
     ]
    },
    {
     "name": "stdout",
     "output_type": "stream",
     "text": [
      "Model Number: 924 with model BallTreeMultivariateMotif in generation 8 of 20\n",
      "Template Eval Error: IndexError('index 81 is out of bounds for axis 0 with size 81') in model 924 in generation 8: BallTreeMultivariateMotif\n",
      "Model Number: 925 with model DatepartRegression in generation 8 of 20\n",
      "Model Number: 926 with model LastValueNaive in generation 8 of 20\n",
      "Model Number: 927 with model KalmanStateSpace in generation 8 of 20\n",
      "Model Number: 928 with model GLS in generation 8 of 20\n",
      "Model Number: 929 with model ConstantNaive in generation 8 of 20\n",
      "Model Number: 930 with model KalmanStateSpace in generation 8 of 20\n",
      "Model Number: 931 with model KalmanStateSpace in generation 8 of 20\n",
      "Model Number: 932 with model KalmanStateSpace in generation 8 of 20\n",
      "Model Number: 933 with model DatepartRegression in generation 8 of 20\n",
      "Model Number: 934 with model ETS in generation 8 of 20\n",
      "Model Number: 935 with model UnivariateMotif in generation 8 of 20\n",
      "Model Number: 936 with model KalmanStateSpace in generation 8 of 20\n",
      "Model Number: 937 with model SeasonalNaive in generation 8 of 20\n",
      "Model Number: 938 with model RRVAR in generation 8 of 20\n",
      "Model Number: 939 with model KalmanStateSpace in generation 8 of 20\n",
      "Model Number: 940 with model FFT in generation 8 of 20\n",
      "Model Number: 941 with model GLS in generation 8 of 20\n",
      "Model Number: 942 with model NVAR in generation 8 of 20\n",
      "Model Number: 943 with model SeasonalityMotif in generation 8 of 20\n",
      "Model Number: 944 with model ETS in generation 8 of 20\n",
      "Model Number: 945 with model GLS in generation 8 of 20\n",
      "Model Number: 946 with model RRVAR in generation 8 of 20\n",
      "Model Number: 947 with model AverageValueNaive in generation 8 of 20\n",
      "Model Number: 948 with model Cassandra in generation 8 of 20\n",
      "Template Eval Error: UnboundLocalError(\"cannot access local variable 'slope' where it is not associated with a value\") in model 948 in generation 8: Cassandra\n",
      "Model Number: 949 with model FFT in generation 8 of 20\n",
      "New Generation: 9 of 20\n",
      "Model Number: 950 with model FFT in generation 9 of 20\n",
      "Model Number: 951 with model FFT in generation 9 of 20\n",
      "Model Number: 952 with model SeasonalityMotif in generation 9 of 20\n",
      "Model Number: 953 with model GLS in generation 9 of 20\n",
      "Model Number: 954 with model DatepartRegression in generation 9 of 20\n",
      "Model Number: 955 with model GLM in generation 9 of 20\n",
      "Template Eval Error: ValueError('NaN, inf or invalid value detected in weights, estimation infeasible.') in model 955 in generation 9: GLM\n",
      "Model Number: 956 with model GLS in generation 9 of 20\n",
      "Model Number: 957 with model UnivariateMotif in generation 9 of 20\n",
      "Model Number: 958 with model KalmanStateSpace in generation 9 of 20\n"
     ]
    },
    {
     "name": "stderr",
     "output_type": "stream",
     "text": [
      "c:\\Users\\Lenovo\\AppData\\Local\\Programs\\Python\\Python312\\Lib\\site-packages\\statsmodels\\genmod\\generalized_linear_model.py:308: DomainWarning: The InversePower link function does not respect the domain of the Gamma family.\n",
      "  warnings.warn((f\"The {type(family.link).__name__} link function \"\n",
      "c:\\Users\\Lenovo\\AppData\\Local\\Programs\\Python\\Python312\\Lib\\site-packages\\statsmodels\\genmod\\families\\family.py:143: RuntimeWarning: overflow encountered in square\n",
      "  return 1. / (self.link.deriv(mu)**2 * self.variance(mu))\n",
      "c:\\Users\\Lenovo\\AppData\\Local\\Programs\\Python\\Python312\\Lib\\site-packages\\statsmodels\\genmod\\families\\links.py:325: RuntimeWarning: divide by zero encountered in power\n",
      "  return np.power(z, 1. / self.power)\n",
      "c:\\Users\\Lenovo\\AppData\\Local\\Programs\\Python\\Python312\\Lib\\site-packages\\statsmodels\\genmod\\families\\family.py:775: RuntimeWarning: invalid value encountered in divide\n",
      "  resid_dev = -np.log(endog_mu) + (endog - mu) / mu\n",
      "c:\\Users\\Lenovo\\AppData\\Local\\Programs\\Python\\Python312\\Lib\\site-packages\\statsmodels\\genmod\\generalized_linear_model.py:898: RuntimeWarning: invalid value encountered in divide\n",
      "  return np.sum(resid / self.family.variance(mu)) / self.df_resid\n",
      "c:\\Users\\Lenovo\\AppData\\Local\\Programs\\Python\\Python312\\Lib\\site-packages\\statsmodels\\genmod\\families\\family.py:143: RuntimeWarning: invalid value encountered in multiply\n",
      "  return 1. / (self.link.deriv(mu)**2 * self.variance(mu))\n",
      "c:\\Users\\Lenovo\\AppData\\Local\\Programs\\Python\\Python312\\Lib\\site-packages\\statsmodels\\genmod\\generalized_linear_model.py:1328: RuntimeWarning: invalid value encountered in multiply\n",
      "  wlsendog = (lin_pred + self.family.link.deriv(mu) * (self.endog-mu)\n"
     ]
    },
    {
     "name": "stdout",
     "output_type": "stream",
     "text": [
      "Model Number: 959 with model GLM in generation 9 of 20\n",
      "Model Number: 960 with model Cassandra in generation 9 of 20\n"
     ]
    },
    {
     "name": "stderr",
     "output_type": "stream",
     "text": [
      "c:\\Users\\Lenovo\\AppData\\Local\\Programs\\Python\\Python312\\Lib\\site-packages\\statsmodels\\genmod\\generalized_linear_model.py:308: DomainWarning: The InversePower link function does not respect the domain of the Gamma family.\n",
      "  warnings.warn((f\"The {type(family.link).__name__} link function \"\n",
      "c:\\Users\\Lenovo\\AppData\\Local\\Programs\\Python\\Python312\\Lib\\site-packages\\statsmodels\\genmod\\generalized_linear_model.py:308: DomainWarning: The InversePower link function does not respect the domain of the Gamma family.\n",
      "  warnings.warn((f\"The {type(family.link).__name__} link function \"\n",
      "c:\\Users\\Lenovo\\AppData\\Local\\Programs\\Python\\Python312\\Lib\\site-packages\\statsmodels\\genmod\\generalized_linear_model.py:308: DomainWarning: The InversePower link function does not respect the domain of the Gamma family.\n",
      "  warnings.warn((f\"The {type(family.link).__name__} link function \"\n",
      "c:\\Users\\Lenovo\\AppData\\Local\\Programs\\Python\\Python312\\Lib\\site-packages\\statsmodels\\genmod\\generalized_linear_model.py:308: DomainWarning: The InversePower link function does not respect the domain of the Gamma family.\n",
      "  warnings.warn((f\"The {type(family.link).__name__} link function \"\n",
      "c:\\Users\\Lenovo\\AppData\\Local\\Programs\\Python\\Python312\\Lib\\site-packages\\statsmodels\\genmod\\generalized_linear_model.py:308: DomainWarning: The InversePower link function does not respect the domain of the Gamma family.\n",
      "  warnings.warn((f\"The {type(family.link).__name__} link function \"\n",
      "c:\\Users\\Lenovo\\AppData\\Local\\Programs\\Python\\Python312\\Lib\\site-packages\\statsmodels\\genmod\\generalized_linear_model.py:308: DomainWarning: The InversePower link function does not respect the domain of the Gamma family.\n",
      "  warnings.warn((f\"The {type(family.link).__name__} link function \"\n",
      "c:\\Users\\Lenovo\\AppData\\Local\\Programs\\Python\\Python312\\Lib\\site-packages\\statsmodels\\genmod\\generalized_linear_model.py:308: DomainWarning: The InversePower link function does not respect the domain of the Gamma family.\n",
      "  warnings.warn((f\"The {type(family.link).__name__} link function \"\n",
      "c:\\Users\\Lenovo\\AppData\\Local\\Programs\\Python\\Python312\\Lib\\site-packages\\statsmodels\\genmod\\generalized_linear_model.py:308: DomainWarning: The InversePower link function does not respect the domain of the Gamma family.\n",
      "  warnings.warn((f\"The {type(family.link).__name__} link function \"\n",
      "c:\\Users\\Lenovo\\AppData\\Local\\Programs\\Python\\Python312\\Lib\\site-packages\\statsmodels\\genmod\\generalized_linear_model.py:308: DomainWarning: The InversePower link function does not respect the domain of the Gamma family.\n",
      "  warnings.warn((f\"The {type(family.link).__name__} link function \"\n",
      "c:\\Users\\Lenovo\\AppData\\Local\\Programs\\Python\\Python312\\Lib\\site-packages\\autots\\tools\\anomaly_utils.py:1115: FutureWarning: Downcasting object dtype arrays on .fillna, .ffill, .bfill is deprecated and will change in a future version. Call result.infer_objects(copy=False) instead. To opt-in to the future behavior, set `pd.set_option('future.no_silent_downcasting', True)`\n",
      "  result = result + temp.where(temp.isnull(), 1).fillna(0)\n"
     ]
    },
    {
     "name": "stdout",
     "output_type": "stream",
     "text": [
      "Model Number: 961 with model KalmanStateSpace in generation 9 of 20\n",
      "Model Number: 962 with model SectionalMotif in generation 9 of 20\n",
      "Model Number: 963 with model MetricMotif in generation 9 of 20\n",
      "Template Eval Error: ValueError('kth(=14) out of bounds (9)') in model 963 in generation 9: MetricMotif\n",
      "Model Number: 964 with model ETS in generation 9 of 20\n",
      "Model Number: 965 with model MetricMotif in generation 9 of 20\n",
      "Model Number: 966 with model RRVAR in generation 9 of 20\n",
      "Model Number: 967 with model ETS in generation 9 of 20\n",
      "Model Number: 968 with model FFT in generation 9 of 20\n",
      "Model Number: 969 with model SeasonalNaive in generation 9 of 20\n",
      "Model Number: 970 with model KalmanStateSpace in generation 9 of 20\n",
      "Model Number: 971 with model KalmanStateSpace in generation 9 of 20\n",
      "Template Eval Error: Exception(\"Transformer BKBandpassFilter failed on inverse from params ffill_mean_biased {'0': {'method': 'clip', 'std_threshold': 2, 'fillna': None}, '1': {'lag': 1, 'fill': 'bfill'}, '2': {'low': 12, 'high': 32, 'K': 6, 'lanczos_factor': False, 'return_diff': False, 'on_transform': False, 'on_inverse': True}} with ValueError('Shape of passed values is (11, 9), indices imply (3, 9)')\") in model 971 in generation 9: KalmanStateSpace\n",
      "Model Number: 972 with model GLS in generation 9 of 20\n",
      "Model Number: 973 with model GLS in generation 9 of 20\n",
      "Model Number: 974 with model RRVAR in generation 9 of 20\n",
      "Template Eval Error: Exception(\"Transformer ScipyFilter failed on fit from params ffill {'0': {'output_distribution': 'uniform', 'n_quantiles': 20}, '1': {'rows': 1, 'lag': 1, 'method': 'additive', 'strength': 1.0, 'first_value_only': False, 'threshold': None, 'threshold_method': 'mean'}, '2': {'method': 'butter', 'method_args': {'N': 6, 'btype': 'highpass', 'analog': False, 'output': 'sos', 'Wn': 0.010416666666666666}}}\") in model 974 in generation 9: RRVAR\n",
      "Model Number: 975 with model RRVAR in generation 9 of 20\n",
      "Model Number: 976 with model DatepartRegression in generation 9 of 20\n",
      "Model Number: 977 with model SeasonalNaive in generation 9 of 20\n",
      "Model Number: 978 with model ETS in generation 9 of 20\n",
      "Model Number: 979 with model GLS in generation 9 of 20\n",
      "Model Number: 980 with model GLM in generation 9 of 20\n"
     ]
    },
    {
     "name": "stderr",
     "output_type": "stream",
     "text": [
      "c:\\Users\\Lenovo\\AppData\\Local\\Programs\\Python\\Python312\\Lib\\site-packages\\statsmodels\\genmod\\generalized_linear_model.py:308: DomainWarning: The InversePower link function does not respect the domain of the Gamma family.\n",
      "  warnings.warn((f\"The {type(family.link).__name__} link function \"\n",
      "c:\\Users\\Lenovo\\AppData\\Local\\Programs\\Python\\Python312\\Lib\\site-packages\\statsmodels\\genmod\\generalized_linear_model.py:308: DomainWarning: The InversePower link function does not respect the domain of the Gamma family.\n",
      "  warnings.warn((f\"The {type(family.link).__name__} link function \"\n",
      "c:\\Users\\Lenovo\\AppData\\Local\\Programs\\Python\\Python312\\Lib\\site-packages\\statsmodels\\genmod\\generalized_linear_model.py:308: DomainWarning: The InversePower link function does not respect the domain of the Gamma family.\n",
      "  warnings.warn((f\"The {type(family.link).__name__} link function \"\n",
      "c:\\Users\\Lenovo\\AppData\\Local\\Programs\\Python\\Python312\\Lib\\site-packages\\statsmodels\\genmod\\generalized_linear_model.py:308: DomainWarning: The InversePower link function does not respect the domain of the Gamma family.\n",
      "  warnings.warn((f\"The {type(family.link).__name__} link function \"\n",
      "c:\\Users\\Lenovo\\AppData\\Local\\Programs\\Python\\Python312\\Lib\\site-packages\\statsmodels\\genmod\\generalized_linear_model.py:308: DomainWarning: The InversePower link function does not respect the domain of the Gamma family.\n",
      "  warnings.warn((f\"The {type(family.link).__name__} link function \"\n",
      "c:\\Users\\Lenovo\\AppData\\Local\\Programs\\Python\\Python312\\Lib\\site-packages\\statsmodels\\genmod\\generalized_linear_model.py:308: DomainWarning: The InversePower link function does not respect the domain of the Gamma family.\n",
      "  warnings.warn((f\"The {type(family.link).__name__} link function \"\n",
      "c:\\Users\\Lenovo\\AppData\\Local\\Programs\\Python\\Python312\\Lib\\site-packages\\statsmodels\\genmod\\generalized_linear_model.py:308: DomainWarning: The InversePower link function does not respect the domain of the Gamma family.\n",
      "  warnings.warn((f\"The {type(family.link).__name__} link function \"\n",
      "c:\\Users\\Lenovo\\AppData\\Local\\Programs\\Python\\Python312\\Lib\\site-packages\\statsmodels\\genmod\\generalized_linear_model.py:308: DomainWarning: The InversePower link function does not respect the domain of the Gamma family.\n",
      "  warnings.warn((f\"The {type(family.link).__name__} link function \"\n",
      "c:\\Users\\Lenovo\\AppData\\Local\\Programs\\Python\\Python312\\Lib\\site-packages\\statsmodels\\genmod\\generalized_linear_model.py:308: DomainWarning: The InversePower link function does not respect the domain of the Gamma family.\n",
      "  warnings.warn((f\"The {type(family.link).__name__} link function \"\n"
     ]
    },
    {
     "name": "stdout",
     "output_type": "stream",
     "text": [
      "Model Number: 981 with model SeasonalNaive in generation 9 of 20\n",
      "Model Number: 982 with model RRVAR in generation 9 of 20\n",
      "Model Number: 983 with model GLM in generation 9 of 20\n",
      "Model Number: 984 with model RRVAR in generation 9 of 20\n",
      "Model Number: 985 with model SeasonalNaive in generation 9 of 20\n",
      "Model Number: 986 with model AverageValueNaive in generation 9 of 20\n",
      "Template Eval Error: Exception(\"Transformer BKBandpassFilter failed on inverse from params zero {'0': {'method': 'clip', 'std_threshold': 2, 'fillna': None}, '1': {'rows': 1, 'lag': 1, 'method': 'additive', 'strength': 0.2, 'first_value_only': False, 'threshold': 1, 'threshold_method': 'mean'}, '2': {}, '3': {'low': 6, 'high': 90, 'K': 25, 'lanczos_factor': False, 'return_diff': True, 'on_transform': False, 'on_inverse': True}, '4': {'rows': 1, 'lag': 1, 'method': 'additive', 'strength': 1.0, 'first_value_only': False, 'threshold': None, 'threshold_method': 'mean'}} with ValueError('Shape of passed values is (49, 9), indices imply (3, 9)')\") in model 986 in generation 9: AverageValueNaive\n",
      "Model Number: 987 with model FFT in generation 9 of 20\n"
     ]
    },
    {
     "name": "stderr",
     "output_type": "stream",
     "text": [
      "c:\\Users\\Lenovo\\AppData\\Local\\Programs\\Python\\Python312\\Lib\\site-packages\\statsmodels\\genmod\\families\\links.py:198: RuntimeWarning: overflow encountered in exp\n",
      "  t = np.exp(-z)\n"
     ]
    },
    {
     "name": "stdout",
     "output_type": "stream",
     "text": [
      "Model Number: 988 with model GLS in generation 9 of 20\n",
      "Model Number: 989 with model MetricMotif in generation 9 of 20\n",
      "Template Eval Error: Exception(\"Transformer ScipyFilter failed on fit from params ffill {'0': {'method': 'clip', 'std_threshold': 2, 'fillna': None}, '1': {'method': 'savgol_filter', 'method_args': {'window_length': 31, 'polyorder': 4, 'deriv': 1, 'mode': 'interp'}}}\") in model 989 in generation 9: MetricMotif\n",
      "Model Number: 990 with model SeasonalNaive in generation 9 of 20\n",
      "Model Number: 991 with model SeasonalNaive in generation 9 of 20\n",
      "Model Number: 992 with model KalmanStateSpace in generation 9 of 20\n",
      "Model Number: 993 with model FFT in generation 9 of 20\n",
      "Model Number: 994 with model ETS in generation 9 of 20\n",
      "Model Number: 995 with model FFT in generation 9 of 20\n",
      "Model Number: 996 with model ETS in generation 9 of 20\n",
      "Model Number: 997 with model DatepartRegression in generation 9 of 20\n",
      "Model Number: 998 with model DatepartRegression in generation 9 of 20\n",
      "Template Eval Error: ValueError('Model DatepartRegression returned NaN for one or more series. fail_on_forecast_nan=True') in model 998 in generation 9: DatepartRegression\n",
      "Model Number: 999 with model KalmanStateSpace in generation 9 of 20\n",
      "Model Number: 1000 with model UnivariateMotif in generation 9 of 20\n",
      "Model Number: 1001 with model SeasonalityMotif in generation 9 of 20\n",
      "Template Eval Error: ValueError('kth(=9) out of bounds (9)') in model 1001 in generation 9: SeasonalityMotif\n",
      "Model Number: 1002 with model SeasonalNaive in generation 9 of 20\n"
     ]
    },
    {
     "name": "stderr",
     "output_type": "stream",
     "text": [
      "c:\\Users\\Lenovo\\AppData\\Local\\Programs\\Python\\Python312\\Lib\\site-packages\\sklearn\\neighbors\\_regression.py:509: UserWarning: One or more samples have no neighbors within specified radius; predicting NaN.\n",
      "  warnings.warn(empty_warning_msg)\n",
      "c:\\Users\\Lenovo\\AppData\\Local\\Programs\\Python\\Python312\\Lib\\site-packages\\statsmodels\\genmod\\generalized_linear_model.py:308: DomainWarning: The InversePower link function does not respect the domain of the Gamma family.\n",
      "  warnings.warn((f\"The {type(family.link).__name__} link function \"\n",
      "c:\\Users\\Lenovo\\AppData\\Local\\Programs\\Python\\Python312\\Lib\\site-packages\\statsmodels\\genmod\\generalized_linear_model.py:308: DomainWarning: The InversePower link function does not respect the domain of the Gamma family.\n",
      "  warnings.warn((f\"The {type(family.link).__name__} link function \"\n",
      "c:\\Users\\Lenovo\\AppData\\Local\\Programs\\Python\\Python312\\Lib\\site-packages\\statsmodels\\genmod\\generalized_linear_model.py:308: DomainWarning: The InversePower link function does not respect the domain of the Gamma family.\n",
      "  warnings.warn((f\"The {type(family.link).__name__} link function \"\n",
      "c:\\Users\\Lenovo\\AppData\\Local\\Programs\\Python\\Python312\\Lib\\site-packages\\statsmodels\\genmod\\generalized_linear_model.py:308: DomainWarning: The InversePower link function does not respect the domain of the Gamma family.\n",
      "  warnings.warn((f\"The {type(family.link).__name__} link function \"\n",
      "c:\\Users\\Lenovo\\AppData\\Local\\Programs\\Python\\Python312\\Lib\\site-packages\\statsmodels\\genmod\\generalized_linear_model.py:308: DomainWarning: The InversePower link function does not respect the domain of the Gamma family.\n",
      "  warnings.warn((f\"The {type(family.link).__name__} link function \"\n",
      "c:\\Users\\Lenovo\\AppData\\Local\\Programs\\Python\\Python312\\Lib\\site-packages\\statsmodels\\genmod\\generalized_linear_model.py:308: DomainWarning: The InversePower link function does not respect the domain of the Gamma family.\n",
      "  warnings.warn((f\"The {type(family.link).__name__} link function \"\n"
     ]
    },
    {
     "name": "stdout",
     "output_type": "stream",
     "text": [
      "Model Number: 1003 with model GLM in generation 9 of 20\n"
     ]
    },
    {
     "name": "stderr",
     "output_type": "stream",
     "text": [
      "c:\\Users\\Lenovo\\AppData\\Local\\Programs\\Python\\Python312\\Lib\\site-packages\\statsmodels\\genmod\\generalized_linear_model.py:308: DomainWarning: The InversePower link function does not respect the domain of the Gamma family.\n",
      "  warnings.warn((f\"The {type(family.link).__name__} link function \"\n",
      "c:\\Users\\Lenovo\\AppData\\Local\\Programs\\Python\\Python312\\Lib\\site-packages\\statsmodels\\genmod\\generalized_linear_model.py:308: DomainWarning: The InversePower link function does not respect the domain of the Gamma family.\n",
      "  warnings.warn((f\"The {type(family.link).__name__} link function \"\n",
      "c:\\Users\\Lenovo\\AppData\\Local\\Programs\\Python\\Python312\\Lib\\site-packages\\statsmodels\\genmod\\generalized_linear_model.py:308: DomainWarning: The InversePower link function does not respect the domain of the Gamma family.\n",
      "  warnings.warn((f\"The {type(family.link).__name__} link function \"\n",
      "c:\\Users\\Lenovo\\AppData\\Local\\Programs\\Python\\Python312\\Lib\\site-packages\\statsmodels\\genmod\\generalized_linear_model.py:308: DomainWarning: The InversePower link function does not respect the domain of the Gamma family.\n",
      "  warnings.warn((f\"The {type(family.link).__name__} link function \"\n",
      "c:\\Users\\Lenovo\\AppData\\Local\\Programs\\Python\\Python312\\Lib\\site-packages\\statsmodels\\genmod\\generalized_linear_model.py:308: DomainWarning: The InversePower link function does not respect the domain of the Gamma family.\n",
      "  warnings.warn((f\"The {type(family.link).__name__} link function \"\n",
      "c:\\Users\\Lenovo\\AppData\\Local\\Programs\\Python\\Python312\\Lib\\site-packages\\statsmodels\\genmod\\generalized_linear_model.py:308: DomainWarning: The InversePower link function does not respect the domain of the Gamma family.\n",
      "  warnings.warn((f\"The {type(family.link).__name__} link function \"\n",
      "c:\\Users\\Lenovo\\AppData\\Local\\Programs\\Python\\Python312\\Lib\\site-packages\\statsmodels\\genmod\\generalized_linear_model.py:308: DomainWarning: The InversePower link function does not respect the domain of the Gamma family.\n",
      "  warnings.warn((f\"The {type(family.link).__name__} link function \"\n",
      "c:\\Users\\Lenovo\\AppData\\Local\\Programs\\Python\\Python312\\Lib\\site-packages\\statsmodels\\genmod\\generalized_linear_model.py:308: DomainWarning: The InversePower link function does not respect the domain of the Gamma family.\n",
      "  warnings.warn((f\"The {type(family.link).__name__} link function \"\n",
      "c:\\Users\\Lenovo\\AppData\\Local\\Programs\\Python\\Python312\\Lib\\site-packages\\statsmodels\\genmod\\generalized_linear_model.py:308: DomainWarning: The InversePower link function does not respect the domain of the Gamma family.\n",
      "  warnings.warn((f\"The {type(family.link).__name__} link function \"\n",
      "c:\\Users\\Lenovo\\AppData\\Local\\Programs\\Python\\Python312\\Lib\\site-packages\\statsmodels\\genmod\\generalized_linear_model.py:308: DomainWarning: The InversePower link function does not respect the domain of the Gamma family.\n",
      "  warnings.warn((f\"The {type(family.link).__name__} link function \"\n",
      "c:\\Users\\Lenovo\\AppData\\Local\\Programs\\Python\\Python312\\Lib\\site-packages\\statsmodels\\genmod\\generalized_linear_model.py:308: DomainWarning: The InversePower link function does not respect the domain of the Gamma family.\n",
      "  warnings.warn((f\"The {type(family.link).__name__} link function \"\n",
      "c:\\Users\\Lenovo\\AppData\\Local\\Programs\\Python\\Python312\\Lib\\site-packages\\statsmodels\\genmod\\generalized_linear_model.py:308: DomainWarning: The InversePower link function does not respect the domain of the Gamma family.\n",
      "  warnings.warn((f\"The {type(family.link).__name__} link function \"\n"
     ]
    },
    {
     "name": "stdout",
     "output_type": "stream",
     "text": [
      "Model Number: 1004 with model GLM in generation 9 of 20\n",
      "Model Number: 1005 with model FFT in generation 9 of 20\n",
      "Model Number: 1006 with model RRVAR in generation 9 of 20\n",
      "Model Number: 1007 with model SeasonalNaive in generation 9 of 20\n",
      "Template Eval Error: Exception(\"Transformer AlignLastValue failed on fit from params ffill {'0': {'span': 3}, '1': {}, '2': {}, '3': {'rows': 1, 'lag': 28, 'method': 'multiplicative', 'strength': 1.0, 'first_value_only': False, 'threshold': None, 'threshold_method': 'max'}}\") in model 1007 in generation 9: SeasonalNaive\n",
      "Model Number: 1008 with model BallTreeMultivariateMotif in generation 9 of 20\n",
      "Template Eval Error: Exception(\"Transformer AlignLastValue failed on fit from params ffill {'0': {'discretization': 'center', 'n_bins': 5}, '1': {'n_harmonics': -0.5, 'detrend': 'quartic'}, '2': {'rows': 1, 'lag': 28, 'method': 'additive', 'strength': 1.0, 'first_value_only': False, 'threshold': 10, 'threshold_method': 'mean'}, '3': {'rows': 1, 'lag': 1, 'method': 'additive', 'strength': 1.0, 'first_value_only': False, 'threshold': 1, 'threshold_method': 'max'}, '4': {'rows': 7, 'lag': 1, 'method': 'multiplicative', 'strength': 1.0, 'first_value_only': False, 'threshold': 10, 'threshold_method': 'mean'}}\") in model 1008 in generation 9: BallTreeMultivariateMotif\n",
      "Model Number: 1009 with model AverageValueNaive in generation 9 of 20\n",
      "Model Number: 1010 with model LastValueNaive in generation 9 of 20\n",
      "Model Number: 1011 with model LastValueNaive in generation 9 of 20\n",
      "Model Number: 1012 with model ETS in generation 9 of 20\n",
      "Model Number: 1013 with model LastValueNaive in generation 9 of 20\n",
      "Model Number: 1014 with model FFT in generation 9 of 20\n",
      "Template Eval Error: Exception(\"Transformer PCA failed on fit from params mean {'0': {'fillna': 'ffill', 'center': 'zero'}, '1': {'whiten': False, 'n_components': 100}}\") in model 1014 in generation 9: FFT\n",
      "Model Number: 1015 with model DatepartRegression in generation 9 of 20\n",
      "Model Number: 1016 with model SeasonalNaive in generation 9 of 20\n",
      "Model Number: 1017 with model BallTreeMultivariateMotif in generation 9 of 20\n",
      "Model Number: 1018 with model DatepartRegression in generation 9 of 20\n",
      "Model Number: 1019 with model DatepartRegression in generation 9 of 20\n",
      "Template Eval Error: ValueError('Model DatepartRegression returned NaN for one or more series. fail_on_forecast_nan=True') in model 1019 in generation 9: DatepartRegression\n",
      "Model Number: 1020 with model SeasonalityMotif in generation 9 of 20\n",
      "Model Number: 1021 with model FFT in generation 9 of 20\n",
      "Model Number: 1022 with model DatepartRegression in generation 9 of 20\n",
      "Template Eval Error: ValueError('Model DatepartRegression returned NaN for one or more series. fail_on_forecast_nan=True') in model 1022 in generation 9: DatepartRegression\n",
      "Model Number: 1023 with model BallTreeMultivariateMotif in generation 9 of 20\n",
      "Template Eval Error: Exception(\"Transformer AlignLastValue failed on fit from params ffill_mean_biased {'0': {'rows': 1, 'lag': 28, 'method': 'additive', 'strength': 1.0, 'first_value_only': False, 'threshold': 1, 'threshold_method': 'max'}, '1': {'model': 'Linear', 'phi': 1, 'window': None, 'transform_dict': {'fillna': None, 'transformations': {'0': 'ClipOutliers'}, 'transformation_params': {'0': {'method': 'clip', 'std_threshold': 4}}}}}\") in model 1023 in generation 9: BallTreeMultivariateMotif\n",
      "Model Number: 1024 with model Cassandra in generation 9 of 20\n"
     ]
    },
    {
     "name": "stderr",
     "output_type": "stream",
     "text": [
      "c:\\Users\\Lenovo\\AppData\\Local\\Programs\\Python\\Python312\\Lib\\site-packages\\sklearn\\neighbors\\_regression.py:509: UserWarning: One or more samples have no neighbors within specified radius; predicting NaN.\n",
      "  warnings.warn(empty_warning_msg)\n",
      "c:\\Users\\Lenovo\\AppData\\Local\\Programs\\Python\\Python312\\Lib\\site-packages\\sklearn\\linear_model\\_coordinate_descent.py:2639: ConvergenceWarning: Objective did not converge. You might want to increase the number of iterations. Duality gap: 4002037.224816151, tolerance: 1443.052309584917\n",
      "  ) = cd_fast.enet_coordinate_descent_multi_task(\n",
      "c:\\Users\\Lenovo\\AppData\\Local\\Programs\\Python\\Python312\\Lib\\site-packages\\sklearn\\neighbors\\_regression.py:509: UserWarning: One or more samples have no neighbors within specified radius; predicting NaN.\n",
      "  warnings.warn(empty_warning_msg)\n"
     ]
    },
    {
     "name": "stdout",
     "output_type": "stream",
     "text": [
      "Model Number: 1025 with model LastValueNaive in generation 9 of 20\n",
      "Model Number: 1026 with model UnivariateMotif in generation 9 of 20\n",
      "Template Eval Error: ValueError('window shape cannot be larger than input array shape') in model 1026 in generation 9: UnivariateMotif\n",
      "Model Number: 1027 with model UnivariateMotif in generation 9 of 20\n",
      "Model Number: 1028 with model LastValueNaive in generation 9 of 20\n",
      "Model Number: 1029 with model LastValueNaive in generation 9 of 20\n"
     ]
    },
    {
     "name": "stderr",
     "output_type": "stream",
     "text": [
      "c:\\Users\\Lenovo\\AppData\\Local\\Programs\\Python\\Python312\\Lib\\site-packages\\autots\\tools\\transform.py:5608: FutureWarning: Downcasting object dtype arrays on .fillna, .ffill, .bfill is deprecated and will change in a future version. Call result.infer_objects(copy=False) instead. To opt-in to the future behavior, set `pd.set_option('future.no_silent_downcasting', True)`\n",
      "  df = df.fillna(0)\n",
      "c:\\Users\\Lenovo\\AppData\\Local\\Programs\\Python\\Python312\\Lib\\site-packages\\autots\\tools\\transform.py:5608: FutureWarning: Downcasting object dtype arrays on .fillna, .ffill, .bfill is deprecated and will change in a future version. Call result.infer_objects(copy=False) instead. To opt-in to the future behavior, set `pd.set_option('future.no_silent_downcasting', True)`\n",
      "  df = df.fillna(0)\n"
     ]
    },
    {
     "name": "stdout",
     "output_type": "stream",
     "text": [
      "Model Number: 1030 with model SectionalMotif in generation 9 of 20\n",
      "Model Number: 1031 with model FFT in generation 9 of 20\n",
      "Model Number: 1032 with model AverageValueNaive in generation 9 of 20\n",
      "Model Number: 1033 with model UnivariateMotif in generation 9 of 20\n",
      "Model Number: 1034 with model DatepartRegression in generation 9 of 20\n",
      "Model Number: 1035 with model LastValueNaive in generation 9 of 20\n",
      "Model Number: 1036 with model AverageValueNaive in generation 9 of 20\n",
      "Model Number: 1037 with model Cassandra in generation 9 of 20\n",
      "New Generation: 10 of 20\n",
      "Model Number: 1038 with model RRVAR in generation 10 of 20\n",
      "Template Eval Error: Exception(\"Transformer AlignLastValue failed on fit from params ffill {'0': {'rows': 1, 'lag': 28, 'method': 'additive', 'strength': 1.0, 'first_value_only': True, 'threshold': 10, 'threshold_method': 'mean'}, '1': {}, '2': {'cutoff': 0.1, 'reverse': False}, '3': {}, '4': {'discretization': 'center', 'n_bins': 5}}\") in model 1038 in generation 10: RRVAR\n",
      "Model Number: 1039 with model SeasonalityMotif in generation 10 of 20\n",
      "Model Number: 1040 with model FFT in generation 10 of 20\n",
      "Model Number: 1041 with model DatepartRegression in generation 10 of 20\n",
      "Model Number: 1042 with model FFT in generation 10 of 20\n",
      "Model Number: 1043 with model LastValueNaive in generation 10 of 20\n",
      "Model Number: 1044 with model AverageValueNaive in generation 10 of 20\n",
      "Model Number: 1045 with model FFT in generation 10 of 20\n",
      "Model Number: 1046 with model AverageValueNaive in generation 10 of 20\n",
      "Model Number: 1047 with model LastValueNaive in generation 10 of 20\n",
      "Model Number: 1048 with model DatepartRegression in generation 10 of 20\n",
      "Template Eval Error: Exception(\"Transformer ScipyFilter failed on fit from params ffill {'0': {'method': 'clip', 'std_threshold': 2, 'fillna': None}, '1': {}, '2': {'lag_1': 12, 'method': 'Median'}, '3': {'method': 'butter', 'method_args': {'N': 7, 'btype': 'highpass', 'analog': False, 'output': 'sos', 'Wn': 0.014492753623188406}}, '4': {}}\") in model 1048 in generation 10: DatepartRegression\n",
      "Model Number: 1049 with model UnivariateMotif in generation 10 of 20\n",
      "Model Number: 1050 with model KalmanStateSpace in generation 10 of 20\n",
      "Model Number: 1051 with model AverageValueNaive in generation 10 of 20\n",
      "Model Number: 1052 with model LastValueNaive in generation 10 of 20\n",
      "Model Number: 1053 with model SeasonalNaive in generation 10 of 20\n",
      "Model Number: 1054 with model KalmanStateSpace in generation 10 of 20\n",
      "Model Number: 1055 with model LastValueNaive in generation 10 of 20\n",
      "Model Number: 1056 with model SeasonalityMotif in generation 10 of 20\n",
      "Model Number: 1057 with model ETS in generation 10 of 20\n",
      "Model Number: 1058 with model SeasonalityMotif in generation 10 of 20\n",
      "Model Number: 1059 with model LastValueNaive in generation 10 of 20\n",
      "Model Number: 1060 with model AverageValueNaive in generation 10 of 20\n",
      "Model Number: 1061 with model FFT in generation 10 of 20\n",
      "Model Number: 1062 with model KalmanStateSpace in generation 10 of 20\n",
      "Model Number: 1063 with model ConstantNaive in generation 10 of 20\n",
      "Model Number: 1064 with model SeasonalNaive in generation 10 of 20\n",
      "Model Number: 1065 with model UnivariateMotif in generation 10 of 20\n",
      "Template Eval Error: Exception(\"Transformer STLFilter failed on fit from params linear {'0': {'method': 'butter', 'method_args': {'N': 5, 'btype': 'highpass', 'analog': False, 'output': 'sos', 'Wn': 0.010416666666666666}}, '1': {'method': 'clip', 'std_threshold': 3, 'fillna': None}, '2': {'window_size': 30, 'alpha': 4.0, 'grouping_forward_limit': 4, 'max_level_shifts': 5, 'alignment': 'rolling_diff'}, '3': {'decomp_type': 'seasonal_decompose', 'part': 'trend'}}\") in model 1065 in generation 10: UnivariateMotif\n",
      "Model Number: 1066 with model GLM in generation 10 of 20\n",
      "Model Number: 1067 with model RRVAR in generation 10 of 20\n"
     ]
    },
    {
     "name": "stderr",
     "output_type": "stream",
     "text": [
      "c:\\Users\\Lenovo\\AppData\\Local\\Programs\\Python\\Python312\\Lib\\site-packages\\autots\\tools\\transform.py:5608: FutureWarning: Downcasting object dtype arrays on .fillna, .ffill, .bfill is deprecated and will change in a future version. Call result.infer_objects(copy=False) instead. To opt-in to the future behavior, set `pd.set_option('future.no_silent_downcasting', True)`\n",
      "  df = df.fillna(0)\n",
      "c:\\Users\\Lenovo\\AppData\\Local\\Programs\\Python\\Python312\\Lib\\site-packages\\autots\\tools\\transform.py:5608: FutureWarning: Downcasting object dtype arrays on .fillna, .ffill, .bfill is deprecated and will change in a future version. Call result.infer_objects(copy=False) instead. To opt-in to the future behavior, set `pd.set_option('future.no_silent_downcasting', True)`\n",
      "  df = df.fillna(0)\n",
      "c:\\Users\\Lenovo\\AppData\\Local\\Programs\\Python\\Python312\\Lib\\site-packages\\statsmodels\\genmod\\families\\links.py:198: RuntimeWarning: overflow encountered in exp\n",
      "  t = np.exp(-z)\n"
     ]
    },
    {
     "name": "stdout",
     "output_type": "stream",
     "text": [
      "Model Number: 1068 with model GLS in generation 10 of 20\n",
      "Model Number: 1069 with model MetricMotif in generation 10 of 20\n",
      "Model Number: 1070 with model Cassandra in generation 10 of 20\n",
      "Model Number: 1071 with model ETS in generation 10 of 20\n"
     ]
    },
    {
     "name": "stderr",
     "output_type": "stream",
     "text": [
      "c:\\Users\\Lenovo\\AppData\\Local\\Programs\\Python\\Python312\\Lib\\site-packages\\numpy\\lib\\function_base.py:2897: RuntimeWarning: invalid value encountered in divide\n",
      "  c /= stddev[:, None]\n",
      "c:\\Users\\Lenovo\\AppData\\Local\\Programs\\Python\\Python312\\Lib\\site-packages\\numpy\\lib\\function_base.py:2898: RuntimeWarning: invalid value encountered in divide\n",
      "  c /= stddev[None, :]\n"
     ]
    },
    {
     "name": "stdout",
     "output_type": "stream",
     "text": [
      "Model Number: 1072 with model BallTreeMultivariateMotif in generation 10 of 20\n",
      "Model Number: 1073 with model FFT in generation 10 of 20\n",
      "Model Number: 1074 with model LastValueNaive in generation 10 of 20\n",
      "Model Number: 1075 with model RRVAR in generation 10 of 20\n",
      "Model Number: 1076 with model KalmanStateSpace in generation 10 of 20\n",
      "Model Number: 1077 with model ETS in generation 10 of 20\n",
      "Model Number: 1078 with model SeasonalNaive in generation 10 of 20\n",
      "Model Number: 1079 with model FFT in generation 10 of 20\n",
      "Model Number: 1080 with model SeasonalNaive in generation 10 of 20\n",
      "Template Eval Error: Exception(\"Transformer AlignLastValue failed on fit from params ffill_mean_biased {'0': {}, '1': {'rows': 1, 'lag': 28, 'method': 'additive', 'strength': 0.7, 'first_value_only': False, 'threshold': 1, 'threshold_method': 'max'}}\") in model 1080 in generation 10: SeasonalNaive\n",
      "Model Number: 1081 with model SeasonalNaive in generation 10 of 20\n",
      "Model Number: 1082 with model GLS in generation 10 of 20\n",
      "Model Number: 1083 with model FFT in generation 10 of 20\n",
      "Model Number: 1084 with model DatepartRegression in generation 10 of 20\n",
      "Model Number: 1085 with model GLM in generation 10 of 20\n",
      "Model Number: 1086 with model ETS in generation 10 of 20\n"
     ]
    },
    {
     "name": "stderr",
     "output_type": "stream",
     "text": [
      "c:\\Users\\Lenovo\\AppData\\Local\\Programs\\Python\\Python312\\Lib\\site-packages\\statsmodels\\genmod\\generalized_linear_model.py:308: DomainWarning: The InversePower link function does not respect the domain of the Gamma family.\n",
      "  warnings.warn((f\"The {type(family.link).__name__} link function \"\n",
      "c:\\Users\\Lenovo\\AppData\\Local\\Programs\\Python\\Python312\\Lib\\site-packages\\statsmodels\\genmod\\generalized_linear_model.py:308: DomainWarning: The InversePower link function does not respect the domain of the Gamma family.\n",
      "  warnings.warn((f\"The {type(family.link).__name__} link function \"\n",
      "c:\\Users\\Lenovo\\AppData\\Local\\Programs\\Python\\Python312\\Lib\\site-packages\\statsmodels\\genmod\\generalized_linear_model.py:308: DomainWarning: The InversePower link function does not respect the domain of the Gamma family.\n",
      "  warnings.warn((f\"The {type(family.link).__name__} link function \"\n",
      "c:\\Users\\Lenovo\\AppData\\Local\\Programs\\Python\\Python312\\Lib\\site-packages\\statsmodels\\genmod\\generalized_linear_model.py:308: DomainWarning: The InversePower link function does not respect the domain of the Gamma family.\n",
      "  warnings.warn((f\"The {type(family.link).__name__} link function \"\n",
      "c:\\Users\\Lenovo\\AppData\\Local\\Programs\\Python\\Python312\\Lib\\site-packages\\statsmodels\\genmod\\generalized_linear_model.py:308: DomainWarning: The InversePower link function does not respect the domain of the Gamma family.\n",
      "  warnings.warn((f\"The {type(family.link).__name__} link function \"\n",
      "c:\\Users\\Lenovo\\AppData\\Local\\Programs\\Python\\Python312\\Lib\\site-packages\\statsmodels\\genmod\\generalized_linear_model.py:308: DomainWarning: The InversePower link function does not respect the domain of the Gamma family.\n",
      "  warnings.warn((f\"The {type(family.link).__name__} link function \"\n",
      "c:\\Users\\Lenovo\\AppData\\Local\\Programs\\Python\\Python312\\Lib\\site-packages\\statsmodels\\genmod\\generalized_linear_model.py:308: DomainWarning: The InversePower link function does not respect the domain of the Gamma family.\n",
      "  warnings.warn((f\"The {type(family.link).__name__} link function \"\n",
      "c:\\Users\\Lenovo\\AppData\\Local\\Programs\\Python\\Python312\\Lib\\site-packages\\statsmodels\\genmod\\generalized_linear_model.py:308: DomainWarning: The InversePower link function does not respect the domain of the Gamma family.\n",
      "  warnings.warn((f\"The {type(family.link).__name__} link function \"\n",
      "c:\\Users\\Lenovo\\AppData\\Local\\Programs\\Python\\Python312\\Lib\\site-packages\\statsmodels\\genmod\\generalized_linear_model.py:308: DomainWarning: The InversePower link function does not respect the domain of the Gamma family.\n",
      "  warnings.warn((f\"The {type(family.link).__name__} link function \"\n"
     ]
    },
    {
     "name": "stdout",
     "output_type": "stream",
     "text": [
      "Model Number: 1087 with model LastValueNaive in generation 10 of 20\n",
      "Model Number: 1088 with model FFT in generation 10 of 20\n",
      "Model Number: 1089 with model DatepartRegression in generation 10 of 20\n",
      "Model Number: 1090 with model SeasonalNaive in generation 10 of 20\n",
      "Model Number: 1091 with model DatepartRegression in generation 10 of 20\n",
      "Model Number: 1092 with model RRVAR in generation 10 of 20\n",
      "Model Number: 1093 with model AverageValueNaive in generation 10 of 20\n",
      "Model Number: 1094 with model SeasonalNaive in generation 10 of 20\n",
      "Model Number: 1095 with model UnivariateMotif in generation 10 of 20\n",
      "Template Eval Error: ValueError('window shape cannot be larger than input array shape') in model 1095 in generation 10: UnivariateMotif\n",
      "Model Number: 1096 with model Cassandra in generation 10 of 20\n",
      "Template Eval Error: UnboundLocalError(\"cannot access local variable 'slope' where it is not associated with a value\") in model 1096 in generation 10: Cassandra\n",
      "Model Number: 1097 with model DatepartRegression in generation 10 of 20\n"
     ]
    },
    {
     "name": "stderr",
     "output_type": "stream",
     "text": [
      "c:\\Users\\Lenovo\\AppData\\Local\\Programs\\Python\\Python312\\Lib\\site-packages\\numpy\\lib\\function_base.py:2897: RuntimeWarning: invalid value encountered in divide\n",
      "  c /= stddev[:, None]\n",
      "c:\\Users\\Lenovo\\AppData\\Local\\Programs\\Python\\Python312\\Lib\\site-packages\\numpy\\lib\\function_base.py:2898: RuntimeWarning: invalid value encountered in divide\n",
      "  c /= stddev[None, :]\n"
     ]
    },
    {
     "name": "stdout",
     "output_type": "stream",
     "text": [
      "Model Number: 1098 with model MetricMotif in generation 10 of 20\n",
      "Model Number: 1099 with model ETS in generation 10 of 20\n",
      "Model Number: 1100 with model FFT in generation 10 of 20\n",
      "Model Number: 1101 with model GLM in generation 10 of 20\n",
      "Model Number: 1102 with model SeasonalNaive in generation 10 of 20\n",
      "Model Number: 1103 with model ETS in generation 10 of 20\n"
     ]
    },
    {
     "name": "stderr",
     "output_type": "stream",
     "text": [
      "c:\\Users\\Lenovo\\AppData\\Local\\Programs\\Python\\Python312\\Lib\\site-packages\\statsmodels\\genmod\\generalized_linear_model.py:308: DomainWarning: The InversePower link function does not respect the domain of the Gamma family.\n",
      "  warnings.warn((f\"The {type(family.link).__name__} link function \"\n",
      "c:\\Users\\Lenovo\\AppData\\Local\\Programs\\Python\\Python312\\Lib\\site-packages\\statsmodels\\genmod\\generalized_linear_model.py:308: DomainWarning: The InversePower link function does not respect the domain of the Gamma family.\n",
      "  warnings.warn((f\"The {type(family.link).__name__} link function \"\n",
      "c:\\Users\\Lenovo\\AppData\\Local\\Programs\\Python\\Python312\\Lib\\site-packages\\statsmodels\\genmod\\generalized_linear_model.py:308: DomainWarning: The InversePower link function does not respect the domain of the Gamma family.\n",
      "  warnings.warn((f\"The {type(family.link).__name__} link function \"\n",
      "c:\\Users\\Lenovo\\AppData\\Local\\Programs\\Python\\Python312\\Lib\\site-packages\\statsmodels\\genmod\\generalized_linear_model.py:308: DomainWarning: The InversePower link function does not respect the domain of the Gamma family.\n",
      "  warnings.warn((f\"The {type(family.link).__name__} link function \"\n",
      "c:\\Users\\Lenovo\\AppData\\Local\\Programs\\Python\\Python312\\Lib\\site-packages\\statsmodels\\genmod\\generalized_linear_model.py:308: DomainWarning: The InversePower link function does not respect the domain of the Gamma family.\n",
      "  warnings.warn((f\"The {type(family.link).__name__} link function \"\n",
      "c:\\Users\\Lenovo\\AppData\\Local\\Programs\\Python\\Python312\\Lib\\site-packages\\statsmodels\\genmod\\generalized_linear_model.py:308: DomainWarning: The InversePower link function does not respect the domain of the Gamma family.\n",
      "  warnings.warn((f\"The {type(family.link).__name__} link function \"\n",
      "c:\\Users\\Lenovo\\AppData\\Local\\Programs\\Python\\Python312\\Lib\\site-packages\\statsmodels\\genmod\\generalized_linear_model.py:308: DomainWarning: The InversePower link function does not respect the domain of the Gamma family.\n",
      "  warnings.warn((f\"The {type(family.link).__name__} link function \"\n",
      "c:\\Users\\Lenovo\\AppData\\Local\\Programs\\Python\\Python312\\Lib\\site-packages\\statsmodels\\genmod\\generalized_linear_model.py:308: DomainWarning: The InversePower link function does not respect the domain of the Gamma family.\n",
      "  warnings.warn((f\"The {type(family.link).__name__} link function \"\n",
      "c:\\Users\\Lenovo\\AppData\\Local\\Programs\\Python\\Python312\\Lib\\site-packages\\statsmodels\\genmod\\generalized_linear_model.py:308: DomainWarning: The InversePower link function does not respect the domain of the Gamma family.\n",
      "  warnings.warn((f\"The {type(family.link).__name__} link function \"\n"
     ]
    },
    {
     "name": "stdout",
     "output_type": "stream",
     "text": [
      "New Generation: 11 of 20\n",
      "Model Number: 1104 with model GLM in generation 11 of 20\n",
      "Model Number: 1105 with model LastValueNaive in generation 11 of 20\n",
      "Model Number: 1106 with model RRVAR in generation 11 of 20\n",
      "Model Number: 1107 with model ETS in generation 11 of 20\n",
      "Template Eval Error: Exception(\"Transformer STLFilter failed on fit from params ffill_mean_biased {'0': {'rows': 1, 'lag': 1, 'method': 'additive', 'strength': 1.0, 'first_value_only': True, 'threshold': None, 'threshold_method': 'mean'}, '1': {'decomp_type': 'seasonal_decompose', 'part': 'trend'}}\") in model 1107 in generation 11: ETS\n",
      "Model Number: 1108 with model GLM in generation 11 of 20\n",
      "Template Eval Error: ValueError('NaN, inf or invalid value detected in weights, estimation infeasible.') in model 1108 in generation 11: GLM\n",
      "Model Number: 1109 with model SeasonalNaive in generation 11 of 20\n",
      "Model Number: 1110 with model SeasonalNaive in generation 11 of 20\n",
      "Model Number: 1111 with model DatepartRegression in generation 11 of 20\n"
     ]
    },
    {
     "name": "stderr",
     "output_type": "stream",
     "text": [
      "c:\\Users\\Lenovo\\AppData\\Local\\Programs\\Python\\Python312\\Lib\\site-packages\\autots\\tools\\transform.py:1637: FutureWarning: The behavior of DataFrame concatenation with empty or all-NA entries is deprecated. In a future version, this will no longer exclude empty or all-NA columns when determining the result dtypes. To retain the old behavior, exclude the relevant entries before the concat operation.\n",
      "  df = pd.concat([self.last_values, df], axis=0)\n",
      "c:\\Users\\Lenovo\\AppData\\Local\\Programs\\Python\\Python312\\Lib\\site-packages\\autots\\tools\\transform.py:1637: FutureWarning: The behavior of DataFrame concatenation with empty or all-NA entries is deprecated. In a future version, this will no longer exclude empty or all-NA columns when determining the result dtypes. To retain the old behavior, exclude the relevant entries before the concat operation.\n",
      "  df = pd.concat([self.last_values, df], axis=0)\n",
      "c:\\Users\\Lenovo\\AppData\\Local\\Programs\\Python\\Python312\\Lib\\site-packages\\statsmodels\\genmod\\generalized_linear_model.py:308: DomainWarning: The InversePower link function does not respect the domain of the Gamma family.\n",
      "  warnings.warn((f\"The {type(family.link).__name__} link function \"\n",
      "c:\\Users\\Lenovo\\AppData\\Local\\Programs\\Python\\Python312\\Lib\\site-packages\\statsmodels\\genmod\\families\\family.py:143: RuntimeWarning: overflow encountered in square\n",
      "  return 1. / (self.link.deriv(mu)**2 * self.variance(mu))\n",
      "c:\\Users\\Lenovo\\AppData\\Local\\Programs\\Python\\Python312\\Lib\\site-packages\\statsmodels\\genmod\\families\\links.py:325: RuntimeWarning: divide by zero encountered in power\n",
      "  return np.power(z, 1. / self.power)\n",
      "c:\\Users\\Lenovo\\AppData\\Local\\Programs\\Python\\Python312\\Lib\\site-packages\\statsmodels\\genmod\\families\\family.py:775: RuntimeWarning: invalid value encountered in divide\n",
      "  resid_dev = -np.log(endog_mu) + (endog - mu) / mu\n",
      "c:\\Users\\Lenovo\\AppData\\Local\\Programs\\Python\\Python312\\Lib\\site-packages\\statsmodels\\genmod\\generalized_linear_model.py:898: RuntimeWarning: invalid value encountered in divide\n",
      "  return np.sum(resid / self.family.variance(mu)) / self.df_resid\n",
      "c:\\Users\\Lenovo\\AppData\\Local\\Programs\\Python\\Python312\\Lib\\site-packages\\statsmodels\\genmod\\families\\family.py:143: RuntimeWarning: invalid value encountered in multiply\n",
      "  return 1. / (self.link.deriv(mu)**2 * self.variance(mu))\n",
      "c:\\Users\\Lenovo\\AppData\\Local\\Programs\\Python\\Python312\\Lib\\site-packages\\statsmodels\\genmod\\generalized_linear_model.py:1328: RuntimeWarning: invalid value encountered in multiply\n",
      "  wlsendog = (lin_pred + self.family.link.deriv(mu) * (self.endog-mu)\n"
     ]
    },
    {
     "name": "stdout",
     "output_type": "stream",
     "text": [
      "Model Number: 1112 with model RRVAR in generation 11 of 20\n",
      "Model Number: 1113 with model KalmanStateSpace in generation 11 of 20\n",
      "Model Number: 1114 with model ConstantNaive in generation 11 of 20\n",
      "Model Number: 1115 with model GLS in generation 11 of 20\n",
      "Model Number: 1116 with model DatepartRegression in generation 11 of 20\n",
      "Model Number: 1117 with model SeasonalNaive in generation 11 of 20\n",
      "Model Number: 1118 with model AverageValueNaive in generation 11 of 20\n",
      "Model Number: 1119 with model FFT in generation 11 of 20\n",
      "Model Number: 1120 with model RRVAR in generation 11 of 20\n",
      "Model Number: 1121 with model ETS in generation 11 of 20\n",
      "Model Number: 1122 with model SeasonalNaive in generation 11 of 20\n",
      "Model Number: 1123 with model LastValueNaive in generation 11 of 20\n",
      "Model Number: 1124 with model RRVAR in generation 11 of 20\n",
      "Model Number: 1125 with model FFT in generation 11 of 20\n",
      "Model Number: 1126 with model LastValueNaive in generation 11 of 20\n",
      "Model Number: 1127 with model SeasonalNaive in generation 11 of 20\n",
      "Model Number: 1128 with model ETS in generation 11 of 20\n",
      "Model Number: 1129 with model UnivariateMotif in generation 11 of 20\n",
      "Model Number: 1130 with model RRVAR in generation 11 of 20\n",
      "Model Number: 1131 with model SeasonalNaive in generation 11 of 20\n",
      "Model Number: 1132 with model DatepartRegression in generation 11 of 20\n",
      "Model Number: 1133 with model ETS in generation 11 of 20\n",
      "Model Number: 1134 with model FFT in generation 11 of 20\n",
      "Model Number: 1135 with model ETS in generation 11 of 20\n",
      "Model Number: 1136 with model LastValueNaive in generation 11 of 20\n",
      "Model Number: 1137 with model DatepartRegression in generation 11 of 20\n",
      "Model Number: 1138 with model RRVAR in generation 11 of 20\n",
      "Model Number: 1139 with model LastValueNaive in generation 11 of 20\n",
      "Model Number: 1140 with model Cassandra in generation 11 of 20\n",
      "Model Number: 1141 with model SeasonalNaive in generation 11 of 20\n",
      "Model Number: 1142 with model ETS in generation 11 of 20\n",
      "Template Eval Error: Exception(\"Transformer STLFilter failed on fit from params ffill_mean_biased {'0': {}, '1': {'decomp_type': 'seasonal_decompose', 'part': 'trend'}}\") in model 1142 in generation 11: ETS\n",
      "Model Number: 1143 with model Cassandra in generation 11 of 20\n",
      "Template Eval Error: ValueError(\"regression_type='User' but future_regressor not supplied\") in model 1143 in generation 11: Cassandra\n",
      "Model Number: 1144 with model SeasonalNaive in generation 11 of 20\n",
      "Model Number: 1145 with model DatepartRegression in generation 11 of 20\n",
      "Model Number: 1146 with model LastValueNaive in generation 11 of 20\n",
      "Model Number: 1147 with model GLM in generation 11 of 20\n",
      "Model Number: 1148 with model FFT in generation 11 of 20\n",
      "Model Number: 1149 with model FFT in generation 11 of 20\n",
      "Model Number: 1150 with model AverageValueNaive in generation 11 of 20\n",
      "Model Number: 1151 with model GLM in generation 11 of 20\n",
      "Template Eval Error: UnboundLocalError(\"cannot access local variable 'Xf' where it is not associated with a value\") in model 1151 in generation 11: GLM\n",
      "Model Number: 1152 with model RRVAR in generation 11 of 20\n",
      "Model Number: 1153 with model GLS in generation 11 of 20\n",
      "Model Number: 1154 with model ETS in generation 11 of 20\n",
      "Model Number: 1155 with model FFT in generation 11 of 20\n"
     ]
    },
    {
     "name": "stderr",
     "output_type": "stream",
     "text": [
      "c:\\Users\\Lenovo\\AppData\\Local\\Programs\\Python\\Python312\\Lib\\site-packages\\autots\\tools\\transform.py:5608: FutureWarning: Downcasting object dtype arrays on .fillna, .ffill, .bfill is deprecated and will change in a future version. Call result.infer_objects(copy=False) instead. To opt-in to the future behavior, set `pd.set_option('future.no_silent_downcasting', True)`\n",
      "  df = df.fillna(0)\n",
      "c:\\Users\\Lenovo\\AppData\\Local\\Programs\\Python\\Python312\\Lib\\site-packages\\autots\\tools\\transform.py:5608: FutureWarning: Downcasting object dtype arrays on .fillna, .ffill, .bfill is deprecated and will change in a future version. Call result.infer_objects(copy=False) instead. To opt-in to the future behavior, set `pd.set_option('future.no_silent_downcasting', True)`\n",
      "  df = df.fillna(0)\n"
     ]
    },
    {
     "name": "stdout",
     "output_type": "stream",
     "text": [
      "Model Number: 1156 with model Cassandra in generation 11 of 20\n",
      "Model Number: 1157 with model KalmanStateSpace in generation 11 of 20\n",
      "Model Number: 1158 with model FFT in generation 11 of 20\n",
      "Model Number: 1159 with model SeasonalityMotif in generation 11 of 20\n",
      "Template Eval Error: Exception(\"Transformer BKBandpassFilter failed on inverse from params ffill {'0': {'method': 100}, '1': {'discretization': 'center', 'n_bins': 5}, '2': {'low': 6, 'high': 40, 'K': 25, 'lanczos_factor': False, 'return_diff': True, 'on_transform': False, 'on_inverse': True}, '3': {'rows': 1, 'lag': 1, 'method': 'additive', 'strength': 1.0, 'first_value_only': False, 'threshold': 10, 'threshold_method': 'mean'}} with ValueError('Shape of passed values is (49, 9), indices imply (3, 9)')\") in model 1159 in generation 11: SeasonalityMotif\n",
      "Model Number: 1160 with model SeasonalNaive in generation 11 of 20\n",
      "Model Number: 1161 with model GLS in generation 11 of 20\n",
      "Model Number: 1162 with model KalmanStateSpace in generation 11 of 20\n",
      "Model Number: 1163 with model DatepartRegression in generation 11 of 20\n",
      "Template Eval Error: ModuleNotFoundError(\"No module named 'tensorflow'\") in model 1163 in generation 11: DatepartRegression\n",
      "Model Number: 1164 with model KalmanStateSpace in generation 11 of 20\n",
      "Template Eval Error: Exception(\"Transformer STLFilter failed on fit from params rolling_mean {'0': {'method': 'clip', 'std_threshold': 4, 'fillna': None}, '1': {'decomp_type': 'seasonal_decompose', 'part': 'trend'}, '2': {}, '3': {'rows': 7, 'lag': 28, 'method': 'additive', 'strength': 0.2, 'first_value_only': False, 'threshold': 10, 'threshold_method': 'max'}, '4': {'lag_1': 12, 'method': 'Mean'}}\") in model 1164 in generation 11: KalmanStateSpace\n",
      "Model Number: 1165 with model UnivariateMotif in generation 11 of 20\n",
      "Template Eval Error: ValueError('kth(=20) out of bounds (9)') in model 1165 in generation 11: UnivariateMotif\n",
      "Model Number: 1166 with model GLM in generation 11 of 20\n",
      "Template Eval Error: ValueError('regression_type=user and no future_regressor passed') in model 1166 in generation 11: GLM\n",
      "Model Number: 1167 with model KalmanStateSpace in generation 11 of 20\n",
      "Model Number: 1168 with model KalmanStateSpace in generation 11 of 20\n",
      "Model Number: 1169 with model AverageValueNaive in generation 11 of 20\n",
      "New Generation: 12 of 20\n",
      "Model Number: 1170 with model FFT in generation 12 of 20\n",
      "Model Number: 1171 with model ETS in generation 12 of 20\n",
      "Model Number: 1172 with model FFT in generation 12 of 20\n",
      "Model Number: 1173 with model DatepartRegression in generation 12 of 20\n",
      "Model Number: 1174 with model LastValueNaive in generation 12 of 20\n",
      "Model Number: 1175 with model RRVAR in generation 12 of 20\n",
      "Model Number: 1176 with model ETS in generation 12 of 20\n",
      "Model Number: 1177 with model ETS in generation 12 of 20\n",
      "Model Number: 1178 with model FFT in generation 12 of 20\n",
      "Model Number: 1179 with model DatepartRegression in generation 12 of 20\n",
      "Model Number: 1180 with model SeasonalNaive in generation 12 of 20\n",
      "Model Number: 1181 with model GLM in generation 12 of 20\n",
      "Model Number: 1182 with model UnivariateMotif in generation 12 of 20\n",
      "Template Eval Error: Exception(\"Transformer ScipyFilter failed on fit from params ffill {'0': {'method': 'clip', 'std_threshold': 2, 'fillna': None}, '1': {'method': 'butter', 'method_args': {'N': 6, 'btype': 'highpass', 'analog': False, 'output': 'sos', 'Wn': 0.14285714285714285}}}\") in model 1182 in generation 12: UnivariateMotif\n",
      "Model Number: 1183 with model RRVAR in generation 12 of 20\n",
      "Model Number: 1184 with model SeasonalNaive in generation 12 of 20\n",
      "Model Number: 1185 with model UnivariateMotif in generation 12 of 20\n"
     ]
    },
    {
     "name": "stderr",
     "output_type": "stream",
     "text": [
      "c:\\Users\\Lenovo\\AppData\\Local\\Programs\\Python\\Python312\\Lib\\site-packages\\statsmodels\\genmod\\families\\links.py:198: RuntimeWarning: overflow encountered in exp\n",
      "  t = np.exp(-z)\n"
     ]
    },
    {
     "name": "stdout",
     "output_type": "stream",
     "text": [
      "Model Number: 1186 with model ETS in generation 12 of 20\n",
      "Model Number: 1187 with model KalmanStateSpace in generation 12 of 20\n",
      "Model Number: 1188 with model DatepartRegression in generation 12 of 20\n",
      "Model Number: 1189 with model LastValueNaive in generation 12 of 20\n",
      "Template Eval Error: Exception(\"Transformer STLFilter failed on fit from params rolling_mean {'0': {'decomp_type': 'seasonal_decompose', 'part': 'trend'}, '1': {'decimals': 2, 'on_transform': True, 'on_inverse': False}, '2': {'model': 'Linear', 'phi': 1, 'window': None, 'transform_dict': None}, '3': {'window_size': 90, 'alpha': 3.0, 'grouping_forward_limit': 3, 'max_level_shifts': 10, 'alignment': 'rolling_diff_3nn'}}\") in model 1189 in generation 12: LastValueNaive\n",
      "Model Number: 1190 with model KalmanStateSpace in generation 12 of 20\n",
      "Model Number: 1191 with model SeasonalNaive in generation 12 of 20\n",
      "Model Number: 1192 with model ETS in generation 12 of 20\n",
      "Model Number: 1193 with model GLM in generation 12 of 20\n",
      "Template Eval Error: ValueError('regression_type=user and no future_regressor passed') in model 1193 in generation 12: GLM\n",
      "Model Number: 1194 with model AverageValueNaive in generation 12 of 20\n",
      "Model Number: 1195 with model KalmanStateSpace in generation 12 of 20\n",
      "Model Number: 1196 with model AverageValueNaive in generation 12 of 20\n",
      "Model Number: 1197 with model DatepartRegression in generation 12 of 20\n",
      "Model Number: 1198 with model RRVAR in generation 12 of 20\n",
      "Model Number: 1199 with model UnivariateMotif in generation 12 of 20\n",
      "Model Number: 1200 with model RRVAR in generation 12 of 20\n",
      "Model Number: 1201 with model DatepartRegression in generation 12 of 20\n",
      "Model Number: 1202 with model BallTreeMultivariateMotif in generation 12 of 20\n",
      "Model Number: 1203 with model Cassandra in generation 12 of 20\n",
      "Template Eval Error: ValueError('negative dimensions are not allowed') in model 1203 in generation 12: Cassandra\n"
     ]
    },
    {
     "name": "stderr",
     "output_type": "stream",
     "text": [
      "c:\\Users\\Lenovo\\AppData\\Local\\Programs\\Python\\Python312\\Lib\\site-packages\\numpy\\lib\\function_base.py:2897: RuntimeWarning: invalid value encountered in divide\n",
      "  c /= stddev[:, None]\n",
      "c:\\Users\\Lenovo\\AppData\\Local\\Programs\\Python\\Python312\\Lib\\site-packages\\numpy\\lib\\function_base.py:2898: RuntimeWarning: invalid value encountered in divide\n",
      "  c /= stddev[None, :]\n"
     ]
    },
    {
     "name": "stdout",
     "output_type": "stream",
     "text": [
      "Model Number: 1204 with model KalmanStateSpace in generation 12 of 20\n",
      "Model Number: 1205 with model SeasonalNaive in generation 12 of 20\n",
      "Model Number: 1206 with model SeasonalNaive in generation 12 of 20\n",
      "Model Number: 1207 with model ETS in generation 12 of 20\n"
     ]
    },
    {
     "name": "stderr",
     "output_type": "stream",
     "text": [
      "c:\\Users\\Lenovo\\AppData\\Local\\Programs\\Python\\Python312\\Lib\\site-packages\\autots\\tools\\transform.py:5608: FutureWarning: Downcasting object dtype arrays on .fillna, .ffill, .bfill is deprecated and will change in a future version. Call result.infer_objects(copy=False) instead. To opt-in to the future behavior, set `pd.set_option('future.no_silent_downcasting', True)`\n",
      "  df = df.fillna(0)\n",
      "c:\\Users\\Lenovo\\AppData\\Local\\Programs\\Python\\Python312\\Lib\\site-packages\\autots\\tools\\transform.py:5608: FutureWarning: Downcasting object dtype arrays on .fillna, .ffill, .bfill is deprecated and will change in a future version. Call result.infer_objects(copy=False) instead. To opt-in to the future behavior, set `pd.set_option('future.no_silent_downcasting', True)`\n",
      "  df = df.fillna(0)\n"
     ]
    },
    {
     "name": "stdout",
     "output_type": "stream",
     "text": [
      "Model Number: 1208 with model FFT in generation 12 of 20\n",
      "Model Number: 1209 with model RRVAR in generation 12 of 20\n",
      "Model Number: 1210 with model SeasonalNaive in generation 12 of 20\n",
      "Model Number: 1211 with model DatepartRegression in generation 12 of 20\n",
      "Model Number: 1212 with model RRVAR in generation 12 of 20\n",
      "Model Number: 1213 with model LastValueNaive in generation 12 of 20\n",
      "Model Number: 1214 with model RRVAR in generation 12 of 20\n",
      "Model Number: 1215 with model ETS in generation 12 of 20\n",
      "Model Number: 1216 with model KalmanStateSpace in generation 12 of 20\n",
      "Model Number: 1217 with model KalmanStateSpace in generation 12 of 20\n",
      "Model Number: 1218 with model KalmanStateSpace in generation 12 of 20\n",
      "Template Eval Error: Exception(\"Transformer BKBandpassFilter failed on fit from params ffill {'0': {'low': 6, 'high': 40, 'K': 25, 'lanczos_factor': True, 'return_diff': True, 'on_transform': True, 'on_inverse': False}, '1': {'regression_model': {'model': 'ElasticNet', 'model_params': {'l1_ratio': 0.1, 'fit_intercept': True, 'selection': 'random'}}, 'datepart_method': 'common_fourier_rw', 'polynomial_degree': None, 'transform_dict': None, 'holiday_countries_used': False, 'lags': None, 'forward_lags': None}, '2': {'rows': 1, 'lag': 1, 'method': 'additive', 'strength': 1.0, 'first_value_only': True, 'threshold': 1, 'threshold_method': 'max'}}\") in model 1218 in generation 12: KalmanStateSpace\n",
      "Model Number: 1219 with model FFT in generation 12 of 20\n",
      "Model Number: 1220 with model SeasonalNaive in generation 12 of 20\n",
      "Template Eval Error: Exception(\"Transformer RegressionFilter failed on fit from params ffill {'0': {'sigma': 2, 'rolling_window': 90, 'run_order': 'season_first', 'regression_params': {'regression_model': {'model': 'ElasticNet', 'model_params': {'l1_ratio': 0.5, 'fit_intercept': True, 'selection': 'cyclic'}}, 'datepart_method': 'simple', 'polynomial_degree': None, 'transform_dict': {'fillna': None, 'transformations': {'0': 'ScipyFilter'}, 'transformation_params': {'0': {'method': 'savgol_filter', 'method_args': {'window_length': 31, 'polyorder': 3, 'deriv': 0, 'mode': 'interp'}}}}, 'holiday_countries_used': True, 'lags': None, 'forward_lags': 1}, 'holiday_params': None, 'trend_method': 'rolling_mean'}, '1': {'model_name': 'local linear hidden state with seasonal 7', 'state_transition': [[1.0, 0.0, 0.0, 0.0, 0.0, 0.0, 0.0, 0.0], [0.0, -1.0, -1.0, -1.0, -1.0, -1.0, -1.0, 0.0], [0.0, 1.0, 0.0, 0.0, 0.0, 0.0, 0.0, 0.0], [0.0, 0.0, 1.0, 0.0, 0.0, 0.0, 0.0, 0.0], [0.0, 0.0, 0.0, 1.0, 0.0, 0.0, 0.0, 0.0], [0.0, 0.0, 0.0, 0.0, 1.0, 0.0, 0.0, 0.0], [0.0, 0.0, 0.0, 0.0, 0.0, 1.0, 0.0, 0.0], [0.0, 0.0, 0.0, 0.0, 0.0, 0.0, 1.0, 0.0]], 'process_noise': [[0.0016, 0.0, 0.0, 0.0, 0.0, 0.0, 0.0, 0.0], [0.0, 1e-06, 0.0, 0.0, 0.0, 0.0, 0.0, 0.0], [0.0, 0.0, 0.0, 0.0, 0.0, 0.0, 0.0, 0.0], [0.0, 0.0, 0.0, 0.0, 0.0, 0.0, 0.0, 0.0], [0.0, 0.0, 0.0, 0.0, 0.0, 0.0, 0.0, 0.0], [0.0, 0.0, 0.0, 0.0, 0.0, 0.0, 0.0, 0.0], [0.0, 0.0, 0.0, 0.0, 0.0, 0.0, 0.0, 0.0], [0.0, 0.0, 0.0, 0.0, 0.0, 0.0, 0.0, 0.0]], 'observation_model': [[1, 1, 0, 0, 0, 0, 0, 0]], 'observation_noise': 0.04, 'em_iter': None, 'on_transform': True, 'on_inverse': False}, '2': {'rows': 7, 'lag': 1, 'method': 'additive', 'strength': 1.0, 'first_value_only': False, 'threshold': 10, 'threshold_method': 'mean'}, '3': {'method': 0.2}, '4': {}}\") in model 1220 in generation 12: SeasonalNaive\n",
      "Model Number: 1221 with model ETS in generation 12 of 20\n",
      "Model Number: 1222 with model RRVAR in generation 12 of 20\n",
      "Model Number: 1223 with model AverageValueNaive in generation 12 of 20\n",
      "Model Number: 1224 with model DatepartRegression in generation 12 of 20\n",
      "Model Number: 1225 with model RRVAR in generation 12 of 20\n",
      "Model Number: 1226 with model ETS in generation 12 of 20\n",
      "Template Eval Error: Exception(\"Transformer STLFilter failed on fit from params fake_date {'0': {'window_size': 90, 'alpha': 2.5, 'grouping_forward_limit': 3, 'max_level_shifts': 5, 'alignment': 'rolling_diff_3nn'}, '1': {'decomp_type': 'seasonal_decompose', 'part': 'trend'}}\") in model 1226 in generation 12: ETS\n",
      "Model Number: 1227 with model MetricMotif in generation 12 of 20\n",
      "Model Number: 1228 with model DatepartRegression in generation 12 of 20\n",
      "Model Number: 1229 with model BallTreeMultivariateMotif in generation 12 of 20\n",
      "Model Number: 1230 with model LastValueNaive in generation 12 of 20\n",
      "Model Number: 1231 with model GLS in generation 12 of 20\n",
      "Model Number: 1232 with model GLM in generation 12 of 20\n"
     ]
    },
    {
     "name": "stderr",
     "output_type": "stream",
     "text": [
      "c:\\Users\\Lenovo\\AppData\\Local\\Programs\\Python\\Python312\\Lib\\site-packages\\autots\\tools\\transform.py:5608: FutureWarning: Downcasting object dtype arrays on .fillna, .ffill, .bfill is deprecated and will change in a future version. Call result.infer_objects(copy=False) instead. To opt-in to the future behavior, set `pd.set_option('future.no_silent_downcasting', True)`\n",
      "  df = df.fillna(0)\n",
      "c:\\Users\\Lenovo\\AppData\\Local\\Programs\\Python\\Python312\\Lib\\site-packages\\autots\\tools\\transform.py:5608: FutureWarning: Downcasting object dtype arrays on .fillna, .ffill, .bfill is deprecated and will change in a future version. Call result.infer_objects(copy=False) instead. To opt-in to the future behavior, set `pd.set_option('future.no_silent_downcasting', True)`\n",
      "  df = df.fillna(0)\n",
      "c:\\Users\\Lenovo\\AppData\\Local\\Programs\\Python\\Python312\\Lib\\site-packages\\statsmodels\\genmod\\families\\links.py:198: RuntimeWarning: overflow encountered in exp\n",
      "  t = np.exp(-z)\n"
     ]
    },
    {
     "name": "stdout",
     "output_type": "stream",
     "text": [
      "Model Number: 1233 with model LastValueNaive in generation 12 of 20\n",
      "Model Number: 1234 with model DatepartRegression in generation 12 of 20\n",
      "Template Eval Error: ValueError(\"regression_type='User' but no future_regressor passed\") in model 1234 in generation 12: DatepartRegression\n",
      "Model Number: 1235 with model LastValueNaive in generation 12 of 20\n",
      "New Generation: 13 of 20\n",
      "Model Number: 1236 with model SeasonalNaive in generation 13 of 20\n",
      "Model Number: 1237 with model AverageValueNaive in generation 13 of 20\n",
      "Model Number: 1238 with model FFT in generation 13 of 20\n",
      "Model Number: 1239 with model GLM in generation 13 of 20\n",
      "Template Eval Error: ValueError('NaN, inf or invalid value detected in weights, estimation infeasible.') in model 1239 in generation 13: GLM\n",
      "Model Number: 1240 with model ConstantNaive in generation 13 of 20\n",
      "Model Number: 1241 with model LastValueNaive in generation 13 of 20\n",
      "Template Eval Error: Exception(\"Transformer ScipyFilter failed on fit from params quadratic {'0': {'rows': 1, 'lag': 1, 'method': 'multiplicative', 'strength': 1.0, 'first_value_only': False, 'threshold': None, 'threshold_method': 'max'}, '1': {'regression_model': {'model': 'ElasticNet', 'model_params': {'l1_ratio': 0.1, 'fit_intercept': True, 'selection': 'random'}}, 'datepart_method': 'common_fourier_rw', 'polynomial_degree': None, 'transform_dict': None, 'holiday_countries_used': False, 'lags': None, 'forward_lags': None}, '2': {'method': 'savgol_filter', 'method_args': {'window_length': 31, 'polyorder': 4, 'deriv': 0, 'mode': 'interp'}}}\") in model 1241 in generation 13: LastValueNaive\n",
      "Model Number: 1242 with model LastValueNaive in generation 13 of 20\n",
      "Model Number: 1243 with model UnivariateMotif in generation 13 of 20\n",
      "Template Eval Error: ValueError('kth(=10) out of bounds (9)') in model 1243 in generation 13: UnivariateMotif\n",
      "Model Number: 1244 with model SeasonalNaive in generation 13 of 20\n"
     ]
    },
    {
     "name": "stderr",
     "output_type": "stream",
     "text": [
      "c:\\Users\\Lenovo\\AppData\\Local\\Programs\\Python\\Python312\\Lib\\site-packages\\statsmodels\\genmod\\generalized_linear_model.py:308: DomainWarning: The InversePower link function does not respect the domain of the Gamma family.\n",
      "  warnings.warn((f\"The {type(family.link).__name__} link function \"\n",
      "c:\\Users\\Lenovo\\AppData\\Local\\Programs\\Python\\Python312\\Lib\\site-packages\\statsmodels\\genmod\\generalized_linear_model.py:308: DomainWarning: The InversePower link function does not respect the domain of the Gamma family.\n",
      "  warnings.warn((f\"The {type(family.link).__name__} link function \"\n",
      "c:\\Users\\Lenovo\\AppData\\Local\\Programs\\Python\\Python312\\Lib\\site-packages\\statsmodels\\genmod\\families\\family.py:143: RuntimeWarning: overflow encountered in square\n",
      "  return 1. / (self.link.deriv(mu)**2 * self.variance(mu))\n",
      "c:\\Users\\Lenovo\\AppData\\Local\\Programs\\Python\\Python312\\Lib\\site-packages\\statsmodels\\genmod\\families\\links.py:325: RuntimeWarning: divide by zero encountered in power\n",
      "  return np.power(z, 1. / self.power)\n",
      "c:\\Users\\Lenovo\\AppData\\Local\\Programs\\Python\\Python312\\Lib\\site-packages\\statsmodels\\genmod\\families\\family.py:775: RuntimeWarning: invalid value encountered in divide\n",
      "  resid_dev = -np.log(endog_mu) + (endog - mu) / mu\n",
      "c:\\Users\\Lenovo\\AppData\\Local\\Programs\\Python\\Python312\\Lib\\site-packages\\statsmodels\\genmod\\generalized_linear_model.py:898: RuntimeWarning: invalid value encountered in divide\n",
      "  return np.sum(resid / self.family.variance(mu)) / self.df_resid\n",
      "c:\\Users\\Lenovo\\AppData\\Local\\Programs\\Python\\Python312\\Lib\\site-packages\\statsmodels\\genmod\\families\\family.py:143: RuntimeWarning: invalid value encountered in multiply\n",
      "  return 1. / (self.link.deriv(mu)**2 * self.variance(mu))\n",
      "c:\\Users\\Lenovo\\AppData\\Local\\Programs\\Python\\Python312\\Lib\\site-packages\\statsmodels\\genmod\\generalized_linear_model.py:1328: RuntimeWarning: invalid value encountered in multiply\n",
      "  wlsendog = (lin_pred + self.family.link.deriv(mu) * (self.endog-mu)\n"
     ]
    },
    {
     "name": "stdout",
     "output_type": "stream",
     "text": [
      "Model Number: 1245 with model SeasonalNaive in generation 13 of 20\n",
      "Model Number: 1246 with model SeasonalNaive in generation 13 of 20\n",
      "Model Number: 1247 with model FFT in generation 13 of 20\n",
      "Model Number: 1248 with model SeasonalNaive in generation 13 of 20\n",
      "Model Number: 1249 with model BallTreeMultivariateMotif in generation 13 of 20\n",
      "Model Number: 1250 with model UnivariateMotif in generation 13 of 20\n",
      "Model Number: 1251 with model DatepartRegression in generation 13 of 20\n",
      "Model Number: 1252 with model DatepartRegression in generation 13 of 20\n",
      "Model Number: 1253 with model DatepartRegression in generation 13 of 20\n",
      "Template Eval Error: ValueError(\"regression_type='User' but no future_regressor passed\") in model 1253 in generation 13: DatepartRegression\n",
      "Model Number: 1254 with model BallTreeMultivariateMotif in generation 13 of 20\n",
      "Model Number: 1255 with model DatepartRegression in generation 13 of 20\n",
      "Model Number: 1256 with model KalmanStateSpace in generation 13 of 20\n",
      "Model Number: 1257 with model SeasonalNaive in generation 13 of 20\n",
      "Model Number: 1258 with model UnivariateMotif in generation 13 of 20\n",
      "Model Number: 1259 with model AverageValueNaive in generation 13 of 20\n",
      "Template Eval Error: Exception(\"Transformer ScipyFilter failed on fit from params pchip {'0': {'model_name': 'randomly generated_original', 'state_transition': [[1, 0, 0, 0], [0, 1, 0, 0], [0, 0, -1, 0], [0, 0, 0, 0]], 'process_noise': [[0.0, 0.0, 0.0, 0.0], [0.0, 0.0, 0.0, 0.0], [0.0, 0.0, 0.0, 0.0], [0.0, 0.0, 0.0, 0.0]], 'observation_model': [[1, 1, 0, 0]], 'observation_noise': 2.0, 'em_iter': None, 'on_transform': False, 'on_inverse': True}, '1': {'method': 'butter', 'method_args': {'N': 6, 'btype': 'highpass', 'analog': False, 'output': 'sos', 'Wn': 0.041666666666666664}}, '2': {}, '3': {'cutoff': 0.8, 'reverse': False}, '4': {'model': 'Linear', 'phi': 1, 'window': 10, 'transform_dict': None}}\") in model 1259 in generation 13: AverageValueNaive\n",
      "Model Number: 1260 with model FFT in generation 13 of 20\n",
      "Model Number: 1261 with model SeasonalityMotif in generation 13 of 20\n",
      "Template Eval Error: Exception(\"Transformer AlignLastValue failed on fit from params ffill {'0': {'model': 'Linear', 'phi': 1, 'window': 90, 'transform_dict': {'fillna': None, 'transformations': {'0': 'EWMAFilter'}, 'transformation_params': {'0': {'span': 2}}}}, '1': {'rows': 1, 'lag': 28, 'method': 'additive', 'strength': 0.7, 'first_value_only': False, 'threshold': 10, 'threshold_method': 'max'}, '2': {'decimals': -2, 'on_transform': False, 'on_inverse': True}, '3': {'decimals': 2, 'on_transform': True, 'on_inverse': False}, '4': {'model_name': 'spline', 'state_transition': [[2, -1], [1, 0]], 'process_noise': [[1, 0], [0, 0]], 'observation_model': [[1, 0]], 'observation_noise': 0.1, 'em_iter': None, 'on_transform': True, 'on_inverse': False}}\") in model 1261 in generation 13: SeasonalityMotif\n",
      "Model Number: 1262 with model SeasonalNaive in generation 13 of 20\n",
      "Model Number: 1263 with model KalmanStateSpace in generation 13 of 20\n"
     ]
    },
    {
     "name": "stderr",
     "output_type": "stream",
     "text": [
      "c:\\Users\\Lenovo\\AppData\\Local\\Programs\\Python\\Python312\\Lib\\site-packages\\sklearn\\linear_model\\_ridge.py:255: UserWarning: Singular matrix in solving dual problem. Using least-squares solution instead.\n",
      "  warnings.warn(\n"
     ]
    },
    {
     "name": "stdout",
     "output_type": "stream",
     "text": [
      "Model Number: 1264 with model FFT in generation 13 of 20\n",
      "Model Number: 1265 with model LastValueNaive in generation 13 of 20\n",
      "Model Number: 1266 with model SeasonalNaive in generation 13 of 20\n",
      "Model Number: 1267 with model FFT in generation 13 of 20\n",
      "Model Number: 1268 with model FFT in generation 13 of 20\n",
      "Model Number: 1269 with model RRVAR in generation 13 of 20\n",
      "Model Number: 1270 with model KalmanStateSpace in generation 13 of 20\n",
      "Model Number: 1271 with model UnivariateMotif in generation 13 of 20\n",
      "Model Number: 1272 with model DatepartRegression in generation 13 of 20\n",
      "Template Eval Error: ValueError('Model DatepartRegression returned NaN for one or more series. fail_on_forecast_nan=True') in model 1272 in generation 13: DatepartRegression\n",
      "Model Number: 1273 with model LastValueNaive in generation 13 of 20\n",
      "Model Number: 1274 with model DatepartRegression in generation 13 of 20\n",
      "Model Number: 1275 with model RRVAR in generation 13 of 20\n",
      "Model Number: 1276 with model BallTreeMultivariateMotif in generation 13 of 20\n",
      "Model Number: 1277 with model AverageValueNaive in generation 13 of 20\n"
     ]
    },
    {
     "name": "stderr",
     "output_type": "stream",
     "text": [
      "c:\\Users\\Lenovo\\AppData\\Local\\Programs\\Python\\Python312\\Lib\\site-packages\\sklearn\\neighbors\\_regression.py:509: UserWarning: One or more samples have no neighbors within specified radius; predicting NaN.\n",
      "  warnings.warn(empty_warning_msg)\n"
     ]
    },
    {
     "name": "stdout",
     "output_type": "stream",
     "text": [
      "Model Number: 1278 with model RRVAR in generation 13 of 20\n",
      "Model Number: 1279 with model RRVAR in generation 13 of 20\n",
      "Model Number: 1280 with model KalmanStateSpace in generation 13 of 20\n",
      "Template Eval Error: Exception(\"Transformer DatepartRegression failed on fit from params ffill {'0': {'rows': 1, 'lag': 1, 'method': 'additive', 'strength': 1.0, 'first_value_only': False, 'threshold': 1, 'threshold_method': 'max'}, '1': {'lag_1': 7, 'method': 20}, '2': {'regression_model': {'model': 'ElasticNet', 'model_params': {'l1_ratio': 0.5, 'fit_intercept': True, 'selection': 'cyclic'}}, 'datepart_method': 'recurring', 'polynomial_degree': 2, 'transform_dict': {'fillna': None, 'transformations': {'0': 'ScipyFilter'}, 'transformation_params': {'0': {'method': 'savgol_filter', 'method_args': {'window_length': 31, 'polyorder': 3, 'deriv': 0, 'mode': 'interp'}}}}, 'holiday_countries_used': False, 'lags': None, 'forward_lags': 1}}\") in model 1280 in generation 13: KalmanStateSpace\n",
      "Model Number: 1281 with model KalmanStateSpace in generation 13 of 20\n",
      "Model Number: 1282 with model DatepartRegression in generation 13 of 20\n",
      "Template Eval Error: ValueError('Model DatepartRegression returned NaN for one or more series. fail_on_forecast_nan=True') in model 1282 in generation 13: DatepartRegression\n",
      "Model Number: 1283 with model UnivariateMotif in generation 13 of 20\n",
      "Model Number: 1284 with model GLS in generation 13 of 20\n",
      "Model Number: 1285 with model ETS in generation 13 of 20\n",
      "Model Number: 1286 with model AverageValueNaive in generation 13 of 20\n"
     ]
    },
    {
     "name": "stderr",
     "output_type": "stream",
     "text": [
      "c:\\Users\\Lenovo\\AppData\\Local\\Programs\\Python\\Python312\\Lib\\site-packages\\sklearn\\neighbors\\_regression.py:509: UserWarning: One or more samples have no neighbors within specified radius; predicting NaN.\n",
      "  warnings.warn(empty_warning_msg)\n"
     ]
    },
    {
     "name": "stdout",
     "output_type": "stream",
     "text": [
      "Model Number: 1287 with model RRVAR in generation 13 of 20\n",
      "Model Number: 1288 with model LastValueNaive in generation 13 of 20\n",
      "Model Number: 1289 with model KalmanStateSpace in generation 13 of 20\n",
      "Model Number: 1290 with model FFT in generation 13 of 20\n",
      "Model Number: 1291 with model RRVAR in generation 13 of 20\n",
      "Model Number: 1292 with model GLS in generation 13 of 20\n",
      "Model Number: 1293 with model LastValueNaive in generation 13 of 20\n",
      "Model Number: 1294 with model FFT in generation 13 of 20\n",
      "Model Number: 1295 with model KalmanStateSpace in generation 13 of 20\n"
     ]
    },
    {
     "name": "stderr",
     "output_type": "stream",
     "text": [
      "c:\\Users\\Lenovo\\AppData\\Local\\Programs\\Python\\Python312\\Lib\\site-packages\\autots\\models\\basics.py:2171: RuntimeWarning: invalid value encountered in sqrt\n",
      "  df_stdev = np.sqrt(result.observations.cov).T\n",
      "c:\\Users\\Lenovo\\AppData\\Local\\Programs\\Python\\Python312\\Lib\\site-packages\\autots\\models\\basics.py:2197: RuntimeWarning: Mean of empty slice\n",
      "  result_score = np.nansum(np.nanmean(upper_pl + lower_pl, axis=0) / scaler)\n"
     ]
    },
    {
     "name": "stdout",
     "output_type": "stream",
     "text": [
      "Model Number: 1296 with model SeasonalityMotif in generation 13 of 20\n",
      "Model Number: 1297 with model FFT in generation 13 of 20\n",
      "Model Number: 1298 with model GLS in generation 13 of 20\n",
      "Model Number: 1299 with model MetricMotif in generation 13 of 20\n",
      "Template Eval Error: ValueError('kth(=9) out of bounds (9)') in model 1299 in generation 13: MetricMotif\n",
      "Model Number: 1300 with model SeasonalNaive in generation 13 of 20\n",
      "Model Number: 1301 with model MetricMotif in generation 13 of 20\n",
      "Template Eval Error: ValueError('kth(=19) out of bounds (14)') in model 1301 in generation 13: MetricMotif\n",
      "New Generation: 14 of 20\n",
      "Model Number: 1302 with model AverageValueNaive in generation 14 of 20\n",
      "Model Number: 1303 with model SeasonalNaive in generation 14 of 20\n",
      "Model Number: 1304 with model SeasonalNaive in generation 14 of 20\n",
      "Model Number: 1305 with model SeasonalNaive in generation 14 of 20\n",
      "Model Number: 1306 with model KalmanStateSpace in generation 14 of 20\n"
     ]
    },
    {
     "name": "stderr",
     "output_type": "stream",
     "text": [
      "c:\\Users\\Lenovo\\AppData\\Local\\Programs\\Python\\Python312\\Lib\\site-packages\\autots\\tools\\transform.py:5608: FutureWarning: Downcasting object dtype arrays on .fillna, .ffill, .bfill is deprecated and will change in a future version. Call result.infer_objects(copy=False) instead. To opt-in to the future behavior, set `pd.set_option('future.no_silent_downcasting', True)`\n",
      "  df = df.fillna(0)\n",
      "c:\\Users\\Lenovo\\AppData\\Local\\Programs\\Python\\Python312\\Lib\\site-packages\\autots\\tools\\transform.py:5608: FutureWarning: Downcasting object dtype arrays on .fillna, .ffill, .bfill is deprecated and will change in a future version. Call result.infer_objects(copy=False) instead. To opt-in to the future behavior, set `pd.set_option('future.no_silent_downcasting', True)`\n",
      "  df = df.fillna(0)\n"
     ]
    },
    {
     "name": "stdout",
     "output_type": "stream",
     "text": [
      "Model Number: 1307 with model Cassandra in generation 14 of 20\n"
     ]
    },
    {
     "name": "stderr",
     "output_type": "stream",
     "text": [
      "c:\\Users\\Lenovo\\AppData\\Local\\Programs\\Python\\Python312\\Lib\\site-packages\\numpy\\lib\\function_base.py:2897: RuntimeWarning: invalid value encountered in divide\n",
      "  c /= stddev[:, None]\n",
      "c:\\Users\\Lenovo\\AppData\\Local\\Programs\\Python\\Python312\\Lib\\site-packages\\numpy\\lib\\function_base.py:2898: RuntimeWarning: invalid value encountered in divide\n",
      "  c /= stddev[None, :]\n"
     ]
    },
    {
     "name": "stdout",
     "output_type": "stream",
     "text": [
      "Model Number: 1308 with model ETS in generation 14 of 20\n",
      "Model Number: 1309 with model DatepartRegression in generation 14 of 20\n",
      "Template Eval Error: ValueError(\"regression_type='User' but no future_regressor passed\") in model 1309 in generation 14: DatepartRegression\n",
      "Model Number: 1310 with model LastValueNaive in generation 14 of 20\n",
      "Model Number: 1311 with model FFT in generation 14 of 20\n",
      "Model Number: 1312 with model GLM in generation 14 of 20\n",
      "Template Eval Error: UnboundLocalError(\"cannot access local variable 'Xf' where it is not associated with a value\") in model 1312 in generation 14: GLM\n",
      "Model Number: 1313 with model UnivariateMotif in generation 14 of 20\n",
      "Model Number: 1314 with model DatepartRegression in generation 14 of 20\n",
      "Template Eval Error: ValueError(\"regression_type='User' but no future_regressor passed\") in model 1314 in generation 14: DatepartRegression\n",
      "Model Number: 1315 with model FFT in generation 14 of 20\n",
      "Model Number: 1316 with model SeasonalNaive in generation 14 of 20\n",
      "Model Number: 1317 with model MetricMotif in generation 14 of 20\n",
      "Model Number: 1318 with model DatepartRegression in generation 14 of 20\n",
      "Template Eval Error: Exception(\"Transformer Detrend failed on fit from params ffill {'0': {'rows': 1, 'lag': 1, 'method': 'additive', 'strength': 1.0, 'first_value_only': False, 'threshold': 10, 'threshold_method': 'max'}, '1': {'model': 'Linear', 'phi': 1, 'window': 90, 'transform_dict': {'fillna': None, 'transformations': {'0': 'ScipyFilter'}, 'transformation_params': {'0': {'method': 'savgol_filter', 'method_args': {'window_length': 31, 'polyorder': 3, 'deriv': 0, 'mode': 'interp'}}}}}, '2': {'fillna': 'one', 'center': 'median'}, '3': {'window_size': 30, 'alpha': 3.0, 'grouping_forward_limit': 4, 'max_level_shifts': 30, 'alignment': 'rolling_diff'}}\") in model 1318 in generation 14: DatepartRegression\n",
      "Model Number: 1319 with model KalmanStateSpace in generation 14 of 20\n",
      "Model Number: 1320 with model ETS in generation 14 of 20\n",
      "Model Number: 1321 with model LastValueNaive in generation 14 of 20\n",
      "Model Number: 1322 with model UnivariateMotif in generation 14 of 20\n",
      "Model Number: 1323 with model LastValueNaive in generation 14 of 20\n",
      "Model Number: 1324 with model RRVAR in generation 14 of 20\n",
      "Model Number: 1325 with model KalmanStateSpace in generation 14 of 20\n",
      "Model Number: 1326 with model FFT in generation 14 of 20\n",
      "Model Number: 1327 with model AverageValueNaive in generation 14 of 20\n",
      "Model Number: 1328 with model SeasonalNaive in generation 14 of 20\n",
      "Model Number: 1329 with model ETS in generation 14 of 20\n"
     ]
    },
    {
     "name": "stderr",
     "output_type": "stream",
     "text": [
      "c:\\Users\\Lenovo\\AppData\\Local\\Programs\\Python\\Python312\\Lib\\site-packages\\autots\\tools\\transform.py:5608: FutureWarning: Downcasting object dtype arrays on .fillna, .ffill, .bfill is deprecated and will change in a future version. Call result.infer_objects(copy=False) instead. To opt-in to the future behavior, set `pd.set_option('future.no_silent_downcasting', True)`\n",
      "  df = df.fillna(0)\n",
      "c:\\Users\\Lenovo\\AppData\\Local\\Programs\\Python\\Python312\\Lib\\site-packages\\autots\\tools\\transform.py:5608: FutureWarning: Downcasting object dtype arrays on .fillna, .ffill, .bfill is deprecated and will change in a future version. Call result.infer_objects(copy=False) instead. To opt-in to the future behavior, set `pd.set_option('future.no_silent_downcasting', True)`\n",
      "  df = df.fillna(0)\n"
     ]
    },
    {
     "name": "stdout",
     "output_type": "stream",
     "text": [
      "Model Number: 1330 with model SeasonalNaive in generation 14 of 20\n",
      "Template Eval Error: Exception(\"Transformer AlignLastValue failed on fit from params ffill {'0': {'rows': 1, 'lag': 28, 'method': 'additive', 'strength': 1.0, 'first_value_only': False, 'threshold': 10, 'threshold_method': 'max'}, '1': {'model': 'Linear', 'phi': 1, 'window': None, 'transform_dict': {'fillna': None, 'transformations': {'0': 'ClipOutliers'}, 'transformation_params': {'0': {'method': 'clip', 'std_threshold': 4}}}}, '2': {}, '3': {'model_name': 'dynamic linear', 'state_transition': [[1, 1, 0, 0], [0, 1, 0, 0], [0, 0, 1.1, 1], [0, 0, 0.2, 0]], 'process_noise': [[0.8, 0, 0, 0], [0, 0.1, 0, 0], [0, 0, 1.4, 0], [0, 0, 0, 0]], 'observation_model': [[1, 0, 1, 0]], 'observation_noise': 0.25, 'em_iter': None, 'on_transform': True, 'on_inverse': False}}\") in model 1330 in generation 14: SeasonalNaive\n",
      "Model Number: 1331 with model ETS in generation 14 of 20\n",
      "Model Number: 1332 with model FFT in generation 14 of 20\n",
      "Model Number: 1333 with model DatepartRegression in generation 14 of 20\n",
      "Model Number: 1334 with model FFT in generation 14 of 20\n",
      "Model Number: 1335 with model FFT in generation 14 of 20\n",
      "Model Number: 1336 with model SeasonalNaive in generation 14 of 20\n",
      "Model Number: 1337 with model KalmanStateSpace in generation 14 of 20\n"
     ]
    },
    {
     "name": "stderr",
     "output_type": "stream",
     "text": [
      "c:\\Users\\Lenovo\\AppData\\Local\\Programs\\Python\\Python312\\Lib\\site-packages\\sklearn\\neural_network\\_multilayer_perceptron.py:690: ConvergenceWarning: Stochastic Optimizer: Maximum iterations (250) reached and the optimization hasn't converged yet.\n",
      "  warnings.warn(\n"
     ]
    },
    {
     "name": "stdout",
     "output_type": "stream",
     "text": [
      "Model Number: 1338 with model RRVAR in generation 14 of 20\n",
      "Model Number: 1339 with model KalmanStateSpace in generation 14 of 20\n",
      "Model Number: 1340 with model FFT in generation 14 of 20\n",
      "Template Eval Error: Exception(\"Transformer Log failed on inverse from params ffill {'0': {}, '1': {'rows': 1, 'lag': 2, 'method': 'multiplicative', 'strength': 1.0, 'first_value_only': False, 'threshold': 10, 'threshold_method': 'mean'}} with TypeError('loop of ufunc does not support argument 0 of type float which has no callable exp method')\") in model 1340 in generation 14: FFT\n",
      "Model Number: 1341 with model RRVAR in generation 14 of 20\n",
      "Model Number: 1342 with model UnivariateMotif in generation 14 of 20\n"
     ]
    },
    {
     "name": "stderr",
     "output_type": "stream",
     "text": [
      "c:\\Users\\Lenovo\\AppData\\Local\\Programs\\Python\\Python312\\Lib\\site-packages\\autots\\models\\basics.py:2279: RuntimeWarning: invalid value encountered in sqrt\n",
      "  df_stdev = np.sqrt(result.observations.cov).T\n"
     ]
    },
    {
     "name": "stdout",
     "output_type": "stream",
     "text": [
      "Model Number: 1343 with model BallTreeMultivariateMotif in generation 14 of 20\n",
      "Model Number: 1344 with model LastValueNaive in generation 14 of 20\n",
      "Model Number: 1345 with model FFT in generation 14 of 20\n",
      "Model Number: 1346 with model RRVAR in generation 14 of 20\n",
      "Model Number: 1347 with model ETS in generation 14 of 20\n",
      "Model Number: 1348 with model AverageValueNaive in generation 14 of 20\n",
      "Model Number: 1349 with model GLS in generation 14 of 20\n",
      "Model Number: 1350 with model KalmanStateSpace in generation 14 of 20\n",
      "Template Eval Error: Exception(\"Transformer RegressionFilter failed on fit from params quadratic {'0': {'output_distribution': 'uniform', 'n_quantiles': 7}, '1': {'sigma': 1, 'rolling_window': 90, 'run_order': 'season_first', 'regression_params': {'regression_model': {'model': 'ElasticNet', 'model_params': {'l1_ratio': 0.9, 'fit_intercept': True, 'selection': 'cyclic'}}, 'datepart_method': ['hour', 168, 'dayofweek'], 'polynomial_degree': None, 'transform_dict': {'fillna': None, 'transformations': {'0': 'AnomalyRemoval'}, 'transformation_params': {'0': {'method': 'zscore', 'transform_dict': {'transformations': {'0': 'DatepartRegression'}, 'transformation_params': {'0': {'datepart_method': 'simple_3', 'regression_model': {'model': 'ElasticNet', 'model_params': {}}}}}, 'method_params': {'distribution': 'uniform', 'alpha': 0.05}}}}, 'holiday_countries_used': False, 'lags': 1, 'forward_lags': None}, 'holiday_params': None, 'trend_method': 'rolling_mean'}, '2': {'whiten': True, 'n_components': None}, '3': {'rows': 1, 'lag': 1, 'method': 'additive', 'strength': 1.0, 'first_value_only': False, 'threshold': 1, 'threshold_method': 'max'}}\") in model 1350 in generation 14: KalmanStateSpace\n",
      "Model Number: 1351 with model DatepartRegression in generation 14 of 20\n",
      "Template Eval Error: ValueError('Model DatepartRegression returned NaN for one or more series. fail_on_forecast_nan=True') in model 1351 in generation 14: DatepartRegression\n",
      "Model Number: 1352 with model DatepartRegression in generation 14 of 20\n",
      "Template Eval Error: InvalidParameterError(\"The 'alpha' parameter of MLPRegressor must be a float in the range [0.0, inf). Got None instead.\") in model 1352 in generation 14: DatepartRegression\n",
      "Model Number: 1353 with model GLS in generation 14 of 20\n",
      "Model Number: 1354 with model KalmanStateSpace in generation 14 of 20\n",
      "Model Number: 1355 with model FFT in generation 14 of 20\n"
     ]
    },
    {
     "name": "stderr",
     "output_type": "stream",
     "text": [
      "c:\\Users\\Lenovo\\AppData\\Local\\Programs\\Python\\Python312\\Lib\\site-packages\\sklearn\\neighbors\\_regression.py:509: UserWarning: One or more samples have no neighbors within specified radius; predicting NaN.\n",
      "  warnings.warn(empty_warning_msg)\n"
     ]
    },
    {
     "name": "stdout",
     "output_type": "stream",
     "text": [
      "Model Number: 1356 with model Cassandra in generation 14 of 20\n",
      "Template Eval Error: ValueError('negative dimensions are not allowed') in model 1356 in generation 14: Cassandra\n",
      "Model Number: 1357 with model DatepartRegression in generation 14 of 20\n",
      "Template Eval Error: ValueError(\"regression_type='User' but no future_regressor passed\") in model 1357 in generation 14: DatepartRegression\n",
      "Model Number: 1358 with model RRVAR in generation 14 of 20\n",
      "Model Number: 1359 with model Cassandra in generation 14 of 20\n",
      "Template Eval Error: ValueError('window shape cannot be larger than input array shape') in model 1359 in generation 14: Cassandra\n",
      "Model Number: 1360 with model SeasonalNaive in generation 14 of 20\n",
      "Template Eval Error: Exception(\"Transformer DatepartRegression failed on fit from params ffill {'0': {'regression_model': {'model': 'DecisionTree', 'model_params': {'max_depth': 3, 'min_samples_split': 1.0}}, 'datepart_method': ['common_fourier'], 'polynomial_degree': None, 'transform_dict': {'fillna': 'ffill', 'transformations': {'0': 'BKBandpassFilter', '1': 'AnomalyRemoval'}, 'transformation_params': {'0': {'low': 6, 'high': 32, 'K': 25, 'lanczos_factor': False, 'return_diff': True, 'on_transform': True, 'on_inverse': False}, '1': {'method': 'nonparametric', 'method_params': {'p': None, 'z_init': 2.0, 'z_limit': 12, 'z_step': 0.5, 'inverse': False, 'max_contamination': 0.25, 'mean_weight': 25, 'sd_weight': 1, 'anomaly_count_weight': 1.0}, 'fillna': 'ffill', 'transform_dict': None, 'isolated_only': False}}}, 'holiday_countries_used': True, 'lags': None, 'forward_lags': None}, '1': {'method': 'zscore', 'method_params': {'distribution': 'uniform', 'alpha': 0.05}, 'fillna': 'rolling_mean_24', 'transform_dict': {'transformations': {'0': 'DatepartRegression'}, 'transformation_params': {'0': {'datepart_method': 'simple_3', 'regression_model': {'model': 'FastRidge', 'model_params': {}}}}}, 'isolated_only': False}, '2': {'model': 'GLS', 'phi': 1, 'window': None, 'transform_dict': None}, '3': {'rows': 1, 'lag': 1, 'method': 'additive', 'strength': 1.0, 'first_value_only': False, 'threshold': None, 'threshold_method': 'mean'}, '4': {'lag_1': 7, 'method': 'LastValue'}}\") in model 1360 in generation 14: SeasonalNaive\n",
      "Model Number: 1361 with model Cassandra in generation 14 of 20\n",
      "Template Eval Error: AttributeError(\"'NoneType' object has no attribute 'scores'\") in model 1361 in generation 14: Cassandra\n",
      "Model Number: 1362 with model UnivariateMotif in generation 14 of 20\n",
      "Model Number: 1363 with model ETS in generation 14 of 20\n",
      "Template Eval Error: Exception(\"Transformer STLFilter failed on fit from params akima {'0': {}, '1': {'model': 'GLS', 'phi': 1, 'window': None, 'transform_dict': None}, '2': {'decomp_type': 'seasonal_decompose', 'part': 'trend'}, '3': {'window_size': 90, 'alpha': 3.0, 'grouping_forward_limit': 4, 'max_level_shifts': 30, 'alignment': 'rolling_diff_3nn'}, '4': {'method': 'clip', 'std_threshold': 3, 'fillna': None}}\") in model 1363 in generation 14: ETS\n",
      "Model Number: 1364 with model LastValueNaive in generation 14 of 20\n"
     ]
    },
    {
     "name": "stderr",
     "output_type": "stream",
     "text": [
      "c:\\Users\\Lenovo\\AppData\\Local\\Programs\\Python\\Python312\\Lib\\site-packages\\numpy\\lib\\function_base.py:2897: RuntimeWarning: invalid value encountered in divide\n",
      "  c /= stddev[:, None]\n",
      "c:\\Users\\Lenovo\\AppData\\Local\\Programs\\Python\\Python312\\Lib\\site-packages\\numpy\\lib\\function_base.py:2898: RuntimeWarning: invalid value encountered in divide\n",
      "  c /= stddev[None, :]\n"
     ]
    },
    {
     "name": "stdout",
     "output_type": "stream",
     "text": [
      "Model Number: 1365 with model DatepartRegression in generation 14 of 20\n",
      "Template Eval Error: ValueError(\"regression_type='User' but no future_regressor passed\") in model 1365 in generation 14: DatepartRegression\n",
      "Model Number: 1366 with model AverageValueNaive in generation 14 of 20\n",
      "Model Number: 1367 with model GLS in generation 14 of 20\n",
      "New Generation: 15 of 20\n",
      "Model Number: 1368 with model ETS in generation 15 of 20\n",
      "Model Number: 1369 with model UnivariateMotif in generation 15 of 20\n",
      "Model Number: 1370 with model SeasonalNaive in generation 15 of 20\n",
      "Model Number: 1371 with model SeasonalNaive in generation 15 of 20\n",
      "Model Number: 1372 with model DatepartRegression in generation 15 of 20\n",
      "Template Eval Error: InvalidParameterError(\"The 'alpha' parameter of MLPRegressor must be a float in the range [0.0, inf). Got None instead.\") in model 1372 in generation 15: DatepartRegression\n",
      "Model Number: 1373 with model SeasonalityMotif in generation 15 of 20\n",
      "Model Number: 1374 with model ETS in generation 15 of 20\n",
      "Model Number: 1375 with model KalmanStateSpace in generation 15 of 20\n",
      "Model Number: 1376 with model DatepartRegression in generation 15 of 20\n",
      "Template Eval Error: ValueError('Model DatepartRegression returned NaN for one or more series. fail_on_forecast_nan=True') in model 1376 in generation 15: DatepartRegression\n",
      "Model Number: 1377 with model FFT in generation 15 of 20\n",
      "Model Number: 1378 with model SeasonalNaive in generation 15 of 20\n",
      "Model Number: 1379 with model DatepartRegression in generation 15 of 20\n",
      "Template Eval Error: ValueError(\"regression_type='User' but no future_regressor passed\") in model 1379 in generation 15: DatepartRegression\n",
      "Model Number: 1380 with model SeasonalNaive in generation 15 of 20\n",
      "Model Number: 1381 with model MetricMotif in generation 15 of 20\n",
      "Template Eval Error: ValueError('kth(=9) out of bounds (4)') in model 1381 in generation 15: MetricMotif\n",
      "Model Number: 1382 with model DatepartRegression in generation 15 of 20\n",
      "Template Eval Error: ModuleNotFoundError(\"No module named 'tensorflow'\") in model 1382 in generation 15: DatepartRegression\n",
      "Model Number: 1383 with model FFT in generation 15 of 20\n"
     ]
    },
    {
     "name": "stderr",
     "output_type": "stream",
     "text": [
      "c:\\Users\\Lenovo\\AppData\\Local\\Programs\\Python\\Python312\\Lib\\site-packages\\sklearn\\neighbors\\_regression.py:509: UserWarning: One or more samples have no neighbors within specified radius; predicting NaN.\n",
      "  warnings.warn(empty_warning_msg)\n"
     ]
    },
    {
     "name": "stdout",
     "output_type": "stream",
     "text": [
      "Model Number: 1384 with model SeasonalNaive in generation 15 of 20\n",
      "Model Number: 1385 with model RRVAR in generation 15 of 20\n",
      "Model Number: 1386 with model RRVAR in generation 15 of 20\n",
      "Model Number: 1387 with model SeasonalNaive in generation 15 of 20\n",
      "Model Number: 1388 with model FFT in generation 15 of 20\n",
      "Model Number: 1389 with model DatepartRegression in generation 15 of 20\n",
      "Model Number: 1390 with model RRVAR in generation 15 of 20\n",
      "Model Number: 1391 with model LastValueNaive in generation 15 of 20\n",
      "Model Number: 1392 with model SeasonalNaive in generation 15 of 20\n",
      "Model Number: 1393 with model DatepartRegression in generation 15 of 20\n",
      "Model Number: 1394 with model UnivariateMotif in generation 15 of 20\n",
      "Template Eval Error: ValueError('kth(=100) out of bounds (9)') in model 1394 in generation 15: UnivariateMotif\n",
      "Model Number: 1395 with model GLM in generation 15 of 20\n",
      "Model Number: 1396 with model FFT in generation 15 of 20\n",
      "Model Number: 1397 with model GLM in generation 15 of 20\n"
     ]
    },
    {
     "name": "stderr",
     "output_type": "stream",
     "text": [
      "c:\\Users\\Lenovo\\AppData\\Local\\Programs\\Python\\Python312\\Lib\\site-packages\\statsmodels\\genmod\\generalized_linear_model.py:308: DomainWarning: The InversePower link function does not respect the domain of the Gamma family.\n",
      "  warnings.warn((f\"The {type(family.link).__name__} link function \"\n",
      "c:\\Users\\Lenovo\\AppData\\Local\\Programs\\Python\\Python312\\Lib\\site-packages\\statsmodels\\genmod\\generalized_linear_model.py:308: DomainWarning: The InversePower link function does not respect the domain of the Gamma family.\n",
      "  warnings.warn((f\"The {type(family.link).__name__} link function \"\n",
      "c:\\Users\\Lenovo\\AppData\\Local\\Programs\\Python\\Python312\\Lib\\site-packages\\statsmodels\\genmod\\generalized_linear_model.py:308: DomainWarning: The InversePower link function does not respect the domain of the Gamma family.\n",
      "  warnings.warn((f\"The {type(family.link).__name__} link function \"\n",
      "c:\\Users\\Lenovo\\AppData\\Local\\Programs\\Python\\Python312\\Lib\\site-packages\\statsmodels\\genmod\\generalized_linear_model.py:308: DomainWarning: The InversePower link function does not respect the domain of the Gamma family.\n",
      "  warnings.warn((f\"The {type(family.link).__name__} link function \"\n",
      "c:\\Users\\Lenovo\\AppData\\Local\\Programs\\Python\\Python312\\Lib\\site-packages\\statsmodels\\genmod\\generalized_linear_model.py:308: DomainWarning: The InversePower link function does not respect the domain of the Gamma family.\n",
      "  warnings.warn((f\"The {type(family.link).__name__} link function \"\n",
      "c:\\Users\\Lenovo\\AppData\\Local\\Programs\\Python\\Python312\\Lib\\site-packages\\statsmodels\\genmod\\generalized_linear_model.py:308: DomainWarning: The InversePower link function does not respect the domain of the Gamma family.\n",
      "  warnings.warn((f\"The {type(family.link).__name__} link function \"\n",
      "c:\\Users\\Lenovo\\AppData\\Local\\Programs\\Python\\Python312\\Lib\\site-packages\\statsmodels\\genmod\\generalized_linear_model.py:308: DomainWarning: The InversePower link function does not respect the domain of the Gamma family.\n",
      "  warnings.warn((f\"The {type(family.link).__name__} link function \"\n",
      "c:\\Users\\Lenovo\\AppData\\Local\\Programs\\Python\\Python312\\Lib\\site-packages\\statsmodels\\genmod\\generalized_linear_model.py:308: DomainWarning: The InversePower link function does not respect the domain of the Gamma family.\n",
      "  warnings.warn((f\"The {type(family.link).__name__} link function \"\n",
      "c:\\Users\\Lenovo\\AppData\\Local\\Programs\\Python\\Python312\\Lib\\site-packages\\statsmodels\\genmod\\generalized_linear_model.py:308: DomainWarning: The InversePower link function does not respect the domain of the Gamma family.\n",
      "  warnings.warn((f\"The {type(family.link).__name__} link function \"\n"
     ]
    },
    {
     "name": "stdout",
     "output_type": "stream",
     "text": [
      "Model Number: 1398 with model DatepartRegression in generation 15 of 20\n",
      "Model Number: 1399 with model SeasonalNaive in generation 15 of 20\n",
      "Model Number: 1400 with model SeasonalNaive in generation 15 of 20\n",
      "Model Number: 1401 with model RRVAR in generation 15 of 20\n",
      "Model Number: 1402 with model UnivariateMotif in generation 15 of 20\n",
      "Model Number: 1403 with model ETS in generation 15 of 20\n",
      "Model Number: 1404 with model DatepartRegression in generation 15 of 20\n",
      "Model Number: 1405 with model KalmanStateSpace in generation 15 of 20\n",
      "Template Eval Error: Exception(\"Transformer BKBandpassFilter failed on inverse from params rolling_mean_24 {'0': {'rows': 1, 'lag': 1, 'method': 'additive', 'strength': 1.0, 'first_value_only': False, 'threshold': 10, 'threshold_method': 'max'}, '1': {'low': 6, 'high': 90, 'K': 3, 'lanczos_factor': True, 'return_diff': False, 'on_transform': False, 'on_inverse': True}, '2': {'method': 'med_diff', 'method_params': {'distribution': 'uniform', 'alpha': 0.05}, 'fillna': 'mean', 'transform_dict': None, 'isolated_only': True}} with ValueError('Shape of passed values is (5, 9), indices imply (3, 9)')\") in model 1405 in generation 15: KalmanStateSpace\n",
      "Model Number: 1406 with model MetricMotif in generation 15 of 20\n",
      "Template Eval Error: ValueError('kth(=4) out of bounds (4)') in model 1406 in generation 15: MetricMotif\n",
      "Model Number: 1407 with model KalmanStateSpace in generation 15 of 20\n",
      "Model Number: 1408 with model DatepartRegression in generation 15 of 20\n",
      "Template Eval Error: InvalidParameterError(\"The 'alpha' parameter of MLPRegressor must be a float in the range [0.0, inf). Got None instead.\") in model 1408 in generation 15: DatepartRegression\n",
      "Model Number: 1409 with model AverageValueNaive in generation 15 of 20\n",
      "Model Number: 1410 with model LastValueNaive in generation 15 of 20\n",
      "Model Number: 1411 with model ETS in generation 15 of 20\n",
      "Model Number: 1412 with model KalmanStateSpace in generation 15 of 20\n",
      "Model Number: 1413 with model UnivariateMotif in generation 15 of 20\n",
      "Model Number: 1414 with model ETS in generation 15 of 20\n",
      "Model Number: 1415 with model GLS in generation 15 of 20\n",
      "Model Number: 1416 with model AverageValueNaive in generation 15 of 20\n",
      "Model Number: 1417 with model DatepartRegression in generation 15 of 20\n",
      "Template Eval Error: Exception(\"Transformer ScipyFilter failed on fit from params ffill_mean_biased {'0': {}, '1': {'lag': 1, 'fill': 'bfill'}, '2': {'method': 'savgol_filter', 'method_args': {'window_length': 91, 'polyorder': 4, 'deriv': 0, 'mode': 'interp'}}, '3': {'n_harmonics': 10, 'detrend': 'quadratic'}}\") in model 1417 in generation 15: DatepartRegression\n",
      "Model Number: 1418 with model GLS in generation 15 of 20\n",
      "Model Number: 1419 with model SeasonalNaive in generation 15 of 20\n",
      "Model Number: 1420 with model LastValueNaive in generation 15 of 20\n",
      "Model Number: 1421 with model RRVAR in generation 15 of 20\n",
      "Model Number: 1422 with model RRVAR in generation 15 of 20\n",
      "Model Number: 1423 with model ETS in generation 15 of 20\n",
      "Model Number: 1424 with model UnivariateMotif in generation 15 of 20\n",
      "Template Eval Error: ValueError('kth(=10) out of bounds (9)') in model 1424 in generation 15: UnivariateMotif\n",
      "Model Number: 1425 with model GLS in generation 15 of 20\n",
      "Model Number: 1426 with model FFT in generation 15 of 20\n",
      "Model Number: 1427 with model FFT in generation 15 of 20\n",
      "Model Number: 1428 with model SeasonalNaive in generation 15 of 20\n",
      "Model Number: 1429 with model RRVAR in generation 15 of 20\n",
      "Model Number: 1430 with model LastValueNaive in generation 15 of 20\n",
      "Model Number: 1431 with model ETS in generation 15 of 20\n",
      "Model Number: 1432 with model SeasonalNaive in generation 15 of 20\n",
      "Model Number: 1433 with model ETS in generation 15 of 20\n"
     ]
    },
    {
     "name": "stderr",
     "output_type": "stream",
     "text": [
      "c:\\Users\\Lenovo\\AppData\\Local\\Programs\\Python\\Python312\\Lib\\site-packages\\sklearn\\linear_model\\_ridge.py:255: UserWarning: Singular matrix in solving dual problem. Using least-squares solution instead.\n",
      "  warnings.warn(\n"
     ]
    },
    {
     "name": "stdout",
     "output_type": "stream",
     "text": [
      "New Generation: 16 of 20\n",
      "Model Number: 1434 with model DatepartRegression in generation 16 of 20\n",
      "Model Number: 1435 with model FFT in generation 16 of 20\n",
      "Model Number: 1436 with model GLS in generation 16 of 20\n",
      "Model Number: 1437 with model UnivariateMotif in generation 16 of 20\n",
      "Template Eval Error: IndexError('index 1 is out of bounds for axis 0 with size 1') in model 1437 in generation 16: UnivariateMotif\n",
      "Model Number: 1438 with model DatepartRegression in generation 16 of 20\n",
      "Model Number: 1439 with model RRVAR in generation 16 of 20\n",
      "Model Number: 1440 with model MetricMotif in generation 16 of 20\n",
      "Model Number: 1441 with model GLS in generation 16 of 20\n",
      "Model Number: 1442 with model ETS in generation 16 of 20\n",
      "Model Number: 1443 with model Cassandra in generation 16 of 20\n",
      "Model Number: 1444 with model SeasonalNaive in generation 16 of 20\n",
      "Model Number: 1445 with model ETS in generation 16 of 20\n",
      "Model Number: 1446 with model KalmanStateSpace in generation 16 of 20\n",
      "Model Number: 1447 with model DatepartRegression in generation 16 of 20\n",
      "Model Number: 1448 with model MetricMotif in generation 16 of 20\n",
      "Model Number: 1449 with model ETS in generation 16 of 20\n",
      "Model Number: 1450 with model ETS in generation 16 of 20\n",
      "Model Number: 1451 with model RRVAR in generation 16 of 20\n",
      "Model Number: 1452 with model DatepartRegression in generation 16 of 20\n",
      "Model Number: 1453 with model BallTreeMultivariateMotif in generation 16 of 20\n",
      "Model Number: 1454 with model DatepartRegression in generation 16 of 20\n",
      "Model Number: 1455 with model RRVAR in generation 16 of 20\n",
      "Model Number: 1456 with model FFT in generation 16 of 20\n",
      "Model Number: 1457 with model ETS in generation 16 of 20\n",
      "Model Number: 1458 with model GLS in generation 16 of 20\n",
      "Model Number: 1459 with model SeasonalNaive in generation 16 of 20\n",
      "Model Number: 1460 with model SeasonalNaive in generation 16 of 20\n",
      "Model Number: 1461 with model FFT in generation 16 of 20\n",
      "Model Number: 1462 with model KalmanStateSpace in generation 16 of 20\n",
      "Model Number: 1463 with model ETS in generation 16 of 20\n",
      "Model Number: 1464 with model KalmanStateSpace in generation 16 of 20\n",
      "Model Number: 1465 with model GLS in generation 16 of 20\n",
      "Model Number: 1466 with model ConstantNaive in generation 16 of 20\n",
      "Model Number: 1467 with model DatepartRegression in generation 16 of 20\n",
      "Model Number: 1468 with model SeasonalNaive in generation 16 of 20\n",
      "Model Number: 1469 with model SeasonalNaive in generation 16 of 20\n",
      "Model Number: 1470 with model RRVAR in generation 16 of 20\n",
      "Model Number: 1471 with model LastValueNaive in generation 16 of 20\n"
     ]
    },
    {
     "name": "stderr",
     "output_type": "stream",
     "text": [
      "c:\\Users\\Lenovo\\AppData\\Local\\Programs\\Python\\Python312\\Lib\\site-packages\\autots\\tools\\transform.py:5608: FutureWarning: Downcasting object dtype arrays on .fillna, .ffill, .bfill is deprecated and will change in a future version. Call result.infer_objects(copy=False) instead. To opt-in to the future behavior, set `pd.set_option('future.no_silent_downcasting', True)`\n",
      "  df = df.fillna(0)\n",
      "c:\\Users\\Lenovo\\AppData\\Local\\Programs\\Python\\Python312\\Lib\\site-packages\\autots\\tools\\transform.py:5608: FutureWarning: Downcasting object dtype arrays on .fillna, .ffill, .bfill is deprecated and will change in a future version. Call result.infer_objects(copy=False) instead. To opt-in to the future behavior, set `pd.set_option('future.no_silent_downcasting', True)`\n",
      "  df = df.fillna(0)\n"
     ]
    },
    {
     "name": "stdout",
     "output_type": "stream",
     "text": [
      "Model Number: 1472 with model KalmanStateSpace in generation 16 of 20\n",
      "Model Number: 1473 with model SeasonalNaive in generation 16 of 20\n",
      "Model Number: 1474 with model AverageValueNaive in generation 16 of 20\n",
      "Model Number: 1475 with model GLS in generation 16 of 20\n",
      "Model Number: 1476 with model FFT in generation 16 of 20\n",
      "Model Number: 1477 with model BallTreeMultivariateMotif in generation 16 of 20\n",
      "Model Number: 1478 with model UnivariateMotif in generation 16 of 20\n",
      "Model Number: 1479 with model FFT in generation 16 of 20\n",
      "Model Number: 1480 with model AverageValueNaive in generation 16 of 20\n",
      "Model Number: 1481 with model SeasonalNaive in generation 16 of 20\n",
      "Model Number: 1482 with model RRVAR in generation 16 of 20\n",
      "Model Number: 1483 with model LastValueNaive in generation 16 of 20\n",
      "Model Number: 1484 with model ETS in generation 16 of 20\n",
      "Model Number: 1485 with model ETS in generation 16 of 20\n",
      "Template Eval Error: Exception(\"Transformer HolidayTransformer failed on fit from params mean {'0': {'method': 'clip', 'std_threshold': 2, 'fillna': None}, '1': {'threshold': 0.9, 'splash_threshold': None, 'use_dayofmonth_holidays': True, 'use_wkdom_holidays': True, 'use_wkdeom_holidays': False, 'use_lunar_holidays': False, 'use_lunar_weekday': False, 'use_islamic_holidays': False, 'use_hebrew_holidays': True, 'anomaly_detector_params': {'method': 'IQR', 'method_params': {'iqr_threshold': 2.5, 'iqr_quantiles': [0.25, 0.75]}, 'fillna': 'ffill', 'transform_dict': None, 'isolated_only': True}, 'remove_excess_anomalies': True, 'impact': 'datepart_regression', 'regression_params': {'regression_model': {'model': 'ElasticNet', 'model_params': {'l1_ratio': 0.5, 'fit_intercept': True, 'selection': 'cyclic'}}, 'datepart_method': ['weekdayofmonth', 'common_fourier'], 'polynomial_degree': None, 'transform_dict': {'fillna': None, 'transformations': {'0': 'ScipyFilter'}, 'transformation_params': {'0': {'method': 'savgol_filter', 'method_args': {'window_length': 31, 'polyorder': 3, 'deriv': 0, 'mode': 'interp'}}}}, 'holiday_countries_used': False, 'lags': None, 'forward_lags': None}}}\") in model 1485 in generation 16: ETS\n",
      "Model Number: 1486 with model SeasonalNaive in generation 16 of 20\n",
      "Model Number: 1487 with model KalmanStateSpace in generation 16 of 20\n",
      "Model Number: 1488 with model RRVAR in generation 16 of 20\n",
      "Model Number: 1489 with model FFT in generation 16 of 20\n",
      "Model Number: 1490 with model SeasonalNaive in generation 16 of 20\n",
      "Model Number: 1491 with model AverageValueNaive in generation 16 of 20\n",
      "Model Number: 1492 with model LastValueNaive in generation 16 of 20\n",
      "Model Number: 1493 with model KalmanStateSpace in generation 16 of 20\n",
      "Model Number: 1494 with model RRVAR in generation 16 of 20\n",
      "Model Number: 1495 with model KalmanStateSpace in generation 16 of 20\n",
      "Model Number: 1496 with model ETS in generation 16 of 20\n",
      "Model Number: 1497 with model RRVAR in generation 16 of 20\n",
      "Model Number: 1498 with model FFT in generation 16 of 20\n",
      "Model Number: 1499 with model KalmanStateSpace in generation 16 of 20\n"
     ]
    },
    {
     "name": "stderr",
     "output_type": "stream",
     "text": [
      "c:\\Users\\Lenovo\\AppData\\Local\\Programs\\Python\\Python312\\Lib\\site-packages\\autots\\tools\\transform.py:5608: FutureWarning: Downcasting object dtype arrays on .fillna, .ffill, .bfill is deprecated and will change in a future version. Call result.infer_objects(copy=False) instead. To opt-in to the future behavior, set `pd.set_option('future.no_silent_downcasting', True)`\n",
      "  df = df.fillna(0)\n",
      "c:\\Users\\Lenovo\\AppData\\Local\\Programs\\Python\\Python312\\Lib\\site-packages\\autots\\tools\\transform.py:5608: FutureWarning: Downcasting object dtype arrays on .fillna, .ffill, .bfill is deprecated and will change in a future version. Call result.infer_objects(copy=False) instead. To opt-in to the future behavior, set `pd.set_option('future.no_silent_downcasting', True)`\n",
      "  df = df.fillna(0)\n"
     ]
    },
    {
     "name": "stdout",
     "output_type": "stream",
     "text": [
      "New Generation: 17 of 20\n",
      "Model Number: 1500 with model SeasonalNaive in generation 17 of 20\n",
      "Model Number: 1501 with model FFT in generation 17 of 20\n",
      "Model Number: 1502 with model AverageValueNaive in generation 17 of 20\n",
      "Model Number: 1503 with model SeasonalNaive in generation 17 of 20\n",
      "Model Number: 1504 with model LastValueNaive in generation 17 of 20\n",
      "Model Number: 1505 with model GLS in generation 17 of 20\n",
      "Model Number: 1506 with model ETS in generation 17 of 20\n",
      "Model Number: 1507 with model DatepartRegression in generation 17 of 20\n",
      "Model Number: 1508 with model MetricMotif in generation 17 of 20\n",
      "Template Eval Error: ValueError('kth(=14) out of bounds (9)') in model 1508 in generation 17: MetricMotif\n",
      "Model Number: 1509 with model RRVAR in generation 17 of 20\n",
      "Model Number: 1510 with model DatepartRegression in generation 17 of 20\n",
      "Model Number: 1511 with model BallTreeMultivariateMotif in generation 17 of 20\n",
      "Model Number: 1512 with model KalmanStateSpace in generation 17 of 20\n",
      "Model Number: 1513 with model GLM in generation 17 of 20\n",
      "Template Eval Error: Exception(\"Transformer ScipyFilter failed on fit from params ffill {'0': {'method': 'clip', 'std_threshold': 2, 'fillna': None}, '1': {'regression_model': {'model': 'ElasticNet', 'model_params': {'l1_ratio': 0.1, 'fit_intercept': True, 'selection': 'random'}}, 'datepart_method': 'common_fourier_rw', 'polynomial_degree': None, 'transform_dict': None, 'holiday_countries_used': False, 'lags': None, 'forward_lags': None}, '2': {'method': 'butter', 'method_args': {'N': 8, 'btype': 'highpass', 'analog': False, 'output': 'sos', 'Wn': 0.14285714285714285}}}\") in model 1513 in generation 17: GLM\n",
      "Model Number: 1514 with model UnivariateMotif in generation 17 of 20\n",
      "Model Number: 1515 with model FFT in generation 17 of 20\n",
      "Model Number: 1516 with model AverageValueNaive in generation 17 of 20\n"
     ]
    },
    {
     "name": "stderr",
     "output_type": "stream",
     "text": [
      "c:\\Users\\Lenovo\\AppData\\Local\\Programs\\Python\\Python312\\Lib\\site-packages\\autots\\tools\\transform.py:5608: FutureWarning: Downcasting object dtype arrays on .fillna, .ffill, .bfill is deprecated and will change in a future version. Call result.infer_objects(copy=False) instead. To opt-in to the future behavior, set `pd.set_option('future.no_silent_downcasting', True)`\n",
      "  df = df.fillna(0)\n",
      "c:\\Users\\Lenovo\\AppData\\Local\\Programs\\Python\\Python312\\Lib\\site-packages\\autots\\tools\\transform.py:5608: FutureWarning: Downcasting object dtype arrays on .fillna, .ffill, .bfill is deprecated and will change in a future version. Call result.infer_objects(copy=False) instead. To opt-in to the future behavior, set `pd.set_option('future.no_silent_downcasting', True)`\n",
      "  df = df.fillna(0)\n"
     ]
    },
    {
     "name": "stdout",
     "output_type": "stream",
     "text": [
      "Model Number: 1517 with model ETS in generation 17 of 20\n",
      "Model Number: 1518 with model LastValueNaive in generation 17 of 20\n",
      "Model Number: 1519 with model ETS in generation 17 of 20\n",
      "Model Number: 1520 with model LastValueNaive in generation 17 of 20\n",
      "Model Number: 1521 with model GLM in generation 17 of 20\n",
      "Model Number: 1522 with model SeasonalNaive in generation 17 of 20\n",
      "Model Number: 1523 with model ETS in generation 17 of 20\n"
     ]
    },
    {
     "name": "stderr",
     "output_type": "stream",
     "text": [
      "c:\\Users\\Lenovo\\AppData\\Local\\Programs\\Python\\Python312\\Lib\\site-packages\\statsmodels\\genmod\\families\\links.py:198: RuntimeWarning: overflow encountered in exp\n",
      "  t = np.exp(-z)\n"
     ]
    },
    {
     "name": "stdout",
     "output_type": "stream",
     "text": [
      "Model Number: 1524 with model UnivariateMotif in generation 17 of 20\n",
      "Template Eval Error: IndexError('index 1 is out of bounds for axis 0 with size 1') in model 1524 in generation 17: UnivariateMotif\n",
      "Model Number: 1525 with model FFT in generation 17 of 20\n",
      "Model Number: 1526 with model RRVAR in generation 17 of 20\n",
      "Model Number: 1527 with model ETS in generation 17 of 20\n",
      "Model Number: 1528 with model SeasonalNaive in generation 17 of 20\n",
      "Model Number: 1529 with model GLS in generation 17 of 20\n",
      "Model Number: 1530 with model GLS in generation 17 of 20\n",
      "Model Number: 1531 with model UnivariateMotif in generation 17 of 20\n",
      "Template Eval Error: Exception(\"Transformer BKBandpassFilter failed on fit from params zero {'0': {'low': 6, 'high': 364, 'K': 25, 'lanczos_factor': False, 'return_diff': True, 'on_transform': True, 'on_inverse': False}, '1': {}, '2': {'whiten': False, 'n_components': None}, '3': {}, '4': {}, '5': {'rows': 1, 'lag': 1, 'method': 'additive', 'strength': 1.0, 'first_value_only': False, 'threshold': 1, 'threshold_method': 'max'}}\") in model 1531 in generation 17: UnivariateMotif\n",
      "Model Number: 1532 with model DatepartRegression in generation 17 of 20\n"
     ]
    },
    {
     "name": "stderr",
     "output_type": "stream",
     "text": [
      "c:\\Users\\Lenovo\\AppData\\Local\\Programs\\Python\\Python312\\Lib\\site-packages\\autots\\tools\\transform.py:5608: FutureWarning: Downcasting object dtype arrays on .fillna, .ffill, .bfill is deprecated and will change in a future version. Call result.infer_objects(copy=False) instead. To opt-in to the future behavior, set `pd.set_option('future.no_silent_downcasting', True)`\n",
      "  df = df.fillna(0)\n",
      "c:\\Users\\Lenovo\\AppData\\Local\\Programs\\Python\\Python312\\Lib\\site-packages\\autots\\tools\\transform.py:5608: FutureWarning: Downcasting object dtype arrays on .fillna, .ffill, .bfill is deprecated and will change in a future version. Call result.infer_objects(copy=False) instead. To opt-in to the future behavior, set `pd.set_option('future.no_silent_downcasting', True)`\n",
      "  df = df.fillna(0)\n"
     ]
    },
    {
     "name": "stdout",
     "output_type": "stream",
     "text": [
      "Model Number: 1533 with model DatepartRegression in generation 17 of 20\n",
      "Model Number: 1534 with model UnivariateMotif in generation 17 of 20\n",
      "Template Eval Error: ValueError('kth(=10) out of bounds (9)') in model 1534 in generation 17: UnivariateMotif\n",
      "Model Number: 1535 with model FFT in generation 17 of 20\n",
      "Model Number: 1536 with model RRVAR in generation 17 of 20\n",
      "Model Number: 1537 with model DatepartRegression in generation 17 of 20\n",
      "Model Number: 1538 with model FFT in generation 17 of 20\n",
      "Model Number: 1539 with model SeasonalityMotif in generation 17 of 20\n",
      "Template Eval Error: ValueError('window shape cannot be larger than input array shape') in model 1539 in generation 17: SeasonalityMotif\n",
      "Model Number: 1540 with model RRVAR in generation 17 of 20\n",
      "Model Number: 1541 with model ETS in generation 17 of 20\n",
      "Model Number: 1542 with model AverageValueNaive in generation 17 of 20\n",
      "Model Number: 1543 with model KalmanStateSpace in generation 17 of 20\n",
      "Model Number: 1544 with model BallTreeMultivariateMotif in generation 17 of 20\n",
      "Model Number: 1545 with model KalmanStateSpace in generation 17 of 20\n",
      "Model Number: 1546 with model FFT in generation 17 of 20\n",
      "Model Number: 1547 with model RRVAR in generation 17 of 20\n",
      "Model Number: 1548 with model GLM in generation 17 of 20\n",
      "Model Number: 1549 with model AverageValueNaive in generation 17 of 20\n",
      "Model Number: 1550 with model SeasonalNaive in generation 17 of 20\n",
      "Model Number: 1551 with model FFT in generation 17 of 20\n",
      "Model Number: 1552 with model KalmanStateSpace in generation 17 of 20\n"
     ]
    },
    {
     "name": "stderr",
     "output_type": "stream",
     "text": [
      "c:\\Users\\Lenovo\\AppData\\Local\\Programs\\Python\\Python312\\Lib\\site-packages\\statsmodels\\genmod\\generalized_linear_model.py:308: DomainWarning: The InversePower link function does not respect the domain of the Gamma family.\n",
      "  warnings.warn((f\"The {type(family.link).__name__} link function \"\n",
      "c:\\Users\\Lenovo\\AppData\\Local\\Programs\\Python\\Python312\\Lib\\site-packages\\statsmodels\\genmod\\generalized_linear_model.py:898: RuntimeWarning: divide by zero encountered in scalar divide\n",
      "  return np.sum(resid / self.family.variance(mu)) / self.df_resid\n",
      "c:\\Users\\Lenovo\\AppData\\Local\\Programs\\Python\\Python312\\Lib\\site-packages\\statsmodels\\genmod\\generalized_linear_model.py:308: DomainWarning: The InversePower link function does not respect the domain of the Gamma family.\n",
      "  warnings.warn((f\"The {type(family.link).__name__} link function \"\n",
      "c:\\Users\\Lenovo\\AppData\\Local\\Programs\\Python\\Python312\\Lib\\site-packages\\statsmodels\\genmod\\generalized_linear_model.py:308: DomainWarning: The InversePower link function does not respect the domain of the Gamma family.\n",
      "  warnings.warn((f\"The {type(family.link).__name__} link function \"\n",
      "c:\\Users\\Lenovo\\AppData\\Local\\Programs\\Python\\Python312\\Lib\\site-packages\\statsmodels\\genmod\\generalized_linear_model.py:308: DomainWarning: The InversePower link function does not respect the domain of the Gamma family.\n",
      "  warnings.warn((f\"The {type(family.link).__name__} link function \"\n",
      "c:\\Users\\Lenovo\\AppData\\Local\\Programs\\Python\\Python312\\Lib\\site-packages\\statsmodels\\genmod\\generalized_linear_model.py:308: DomainWarning: The InversePower link function does not respect the domain of the Gamma family.\n",
      "  warnings.warn((f\"The {type(family.link).__name__} link function \"\n",
      "c:\\Users\\Lenovo\\AppData\\Local\\Programs\\Python\\Python312\\Lib\\site-packages\\statsmodels\\genmod\\generalized_linear_model.py:308: DomainWarning: The InversePower link function does not respect the domain of the Gamma family.\n",
      "  warnings.warn((f\"The {type(family.link).__name__} link function \"\n",
      "c:\\Users\\Lenovo\\AppData\\Local\\Programs\\Python\\Python312\\Lib\\site-packages\\statsmodels\\genmod\\generalized_linear_model.py:308: DomainWarning: The InversePower link function does not respect the domain of the Gamma family.\n",
      "  warnings.warn((f\"The {type(family.link).__name__} link function \"\n",
      "c:\\Users\\Lenovo\\AppData\\Local\\Programs\\Python\\Python312\\Lib\\site-packages\\statsmodels\\genmod\\generalized_linear_model.py:308: DomainWarning: The InversePower link function does not respect the domain of the Gamma family.\n",
      "  warnings.warn((f\"The {type(family.link).__name__} link function \"\n",
      "c:\\Users\\Lenovo\\AppData\\Local\\Programs\\Python\\Python312\\Lib\\site-packages\\statsmodels\\genmod\\generalized_linear_model.py:308: DomainWarning: The InversePower link function does not respect the domain of the Gamma family.\n",
      "  warnings.warn((f\"The {type(family.link).__name__} link function \"\n"
     ]
    },
    {
     "name": "stdout",
     "output_type": "stream",
     "text": [
      "Model Number: 1553 with model FFT in generation 17 of 20\n",
      "Model Number: 1554 with model DatepartRegression in generation 17 of 20\n",
      "Model Number: 1555 with model RRVAR in generation 17 of 20\n",
      "Model Number: 1556 with model GLS in generation 17 of 20\n",
      "Model Number: 1557 with model FFT in generation 17 of 20\n"
     ]
    },
    {
     "name": "stderr",
     "output_type": "stream",
     "text": [
      "c:\\Users\\Lenovo\\AppData\\Local\\Programs\\Python\\Python312\\Lib\\site-packages\\autots\\tools\\transform.py:5608: FutureWarning: Downcasting object dtype arrays on .fillna, .ffill, .bfill is deprecated and will change in a future version. Call result.infer_objects(copy=False) instead. To opt-in to the future behavior, set `pd.set_option('future.no_silent_downcasting', True)`\n",
      "  df = df.fillna(0)\n",
      "c:\\Users\\Lenovo\\AppData\\Local\\Programs\\Python\\Python312\\Lib\\site-packages\\autots\\tools\\transform.py:5608: FutureWarning: Downcasting object dtype arrays on .fillna, .ffill, .bfill is deprecated and will change in a future version. Call result.infer_objects(copy=False) instead. To opt-in to the future behavior, set `pd.set_option('future.no_silent_downcasting', True)`\n",
      "  df = df.fillna(0)\n"
     ]
    },
    {
     "name": "stdout",
     "output_type": "stream",
     "text": [
      "Model Number: 1558 with model RRVAR in generation 17 of 20\n",
      "Model Number: 1559 with model RRVAR in generation 17 of 20\n",
      "Model Number: 1560 with model FFT in generation 17 of 20\n",
      "Model Number: 1561 with model RRVAR in generation 17 of 20\n",
      "Model Number: 1562 with model GLS in generation 17 of 20\n"
     ]
    },
    {
     "name": "stderr",
     "output_type": "stream",
     "text": [
      "c:\\Users\\Lenovo\\AppData\\Local\\Programs\\Python\\Python312\\Lib\\site-packages\\sklearn\\linear_model\\_ridge.py:255: UserWarning: Singular matrix in solving dual problem. Using least-squares solution instead.\n",
      "  warnings.warn(\n",
      "c:\\Users\\Lenovo\\AppData\\Local\\Programs\\Python\\Python312\\Lib\\site-packages\\autots\\tools\\anomaly_utils.py:1115: FutureWarning: Downcasting object dtype arrays on .fillna, .ffill, .bfill is deprecated and will change in a future version. Call result.infer_objects(copy=False) instead. To opt-in to the future behavior, set `pd.set_option('future.no_silent_downcasting', True)`\n",
      "  result = result + temp.where(temp.isnull(), 1).fillna(0)\n"
     ]
    },
    {
     "name": "stdout",
     "output_type": "stream",
     "text": [
      "Model Number: 1563 with model SeasonalNaive in generation 17 of 20\n",
      "Model Number: 1564 with model AverageValueNaive in generation 17 of 20\n",
      "Model Number: 1565 with model AverageValueNaive in generation 17 of 20\n",
      "New Generation: 18 of 20\n",
      "Model Number: 1566 with model SeasonalNaive in generation 18 of 20\n",
      "Model Number: 1567 with model Cassandra in generation 18 of 20\n",
      "Template Eval Error: UnboundLocalError(\"cannot access local variable 'slope' where it is not associated with a value\") in model 1567 in generation 18: Cassandra\n",
      "Model Number: 1568 with model Cassandra in generation 18 of 20\n",
      "Template Eval Error: ValueError('negative dimensions are not allowed') in model 1568 in generation 18: Cassandra\n",
      "Model Number: 1569 with model FFT in generation 18 of 20\n",
      "Model Number: 1570 with model ETS in generation 18 of 20\n"
     ]
    },
    {
     "name": "stderr",
     "output_type": "stream",
     "text": [
      "c:\\Users\\Lenovo\\AppData\\Local\\Programs\\Python\\Python312\\Lib\\site-packages\\numpy\\lib\\function_base.py:2897: RuntimeWarning: invalid value encountered in divide\n",
      "  c /= stddev[:, None]\n",
      "c:\\Users\\Lenovo\\AppData\\Local\\Programs\\Python\\Python312\\Lib\\site-packages\\numpy\\lib\\function_base.py:2898: RuntimeWarning: invalid value encountered in divide\n",
      "  c /= stddev[None, :]\n"
     ]
    },
    {
     "name": "stdout",
     "output_type": "stream",
     "text": [
      "Model Number: 1571 with model UnivariateMotif in generation 18 of 20\n",
      "Model Number: 1572 with model RRVAR in generation 18 of 20\n",
      "Template Eval Error: Exception(\"Transformer Detrend failed on fit from params ffill {'0': {'model': 'Linear', 'phi': 1, 'window': None, 'transform_dict': {'fillna': None, 'transformations': {'0': 'ScipyFilter'}, 'transformation_params': {'0': {'method': 'savgol_filter', 'method_args': {'window_length': 31, 'polyorder': 3, 'deriv': 0, 'mode': 'interp'}}}}}, '1': {'output_distribution': 'uniform', 'n_quantiles': 20}, '2': {}, '3': {}}\") in model 1572 in generation 18: RRVAR\n",
      "Model Number: 1573 with model LastValueNaive in generation 18 of 20\n",
      "Model Number: 1574 with model LastValueNaive in generation 18 of 20\n",
      "Model Number: 1575 with model UnivariateMotif in generation 18 of 20\n",
      "Template Eval Error: IndexError('index 9 is out of bounds for axis 0 with size 9') in model 1575 in generation 18: UnivariateMotif\n",
      "Model Number: 1576 with model UnivariateMotif in generation 18 of 20\n",
      "Model Number: 1577 with model SeasonalNaive in generation 18 of 20\n",
      "Model Number: 1578 with model ETS in generation 18 of 20\n",
      "Model Number: 1579 with model ETS in generation 18 of 20\n",
      "Model Number: 1580 with model SeasonalNaive in generation 18 of 20\n",
      "Model Number: 1581 with model KalmanStateSpace in generation 18 of 20\n",
      "Model Number: 1582 with model RRVAR in generation 18 of 20\n",
      "Template Eval Error: Exception(\"Transformer AlignLastValue failed on fit from params rolling_mean_24 {'0': {'fixed': False, 'window': 3, 'macro_micro': False, 'center': False}, '1': {}, '2': {'decimals': 1, 'on_transform': True, 'on_inverse': False}, '3': {'rows': 4, 'lag': 7, 'method': 'additive', 'strength': 1.0, 'first_value_only': False, 'threshold': 10, 'threshold_method': 'max'}, '4': {'rows': 1, 'lag': 28, 'method': 'additive', 'strength': 0.5, 'first_value_only': False, 'threshold': 1, 'threshold_method': 'max'}}\") in model 1582 in generation 18: RRVAR\n",
      "Model Number: 1583 with model DatepartRegression in generation 18 of 20\n",
      "Model Number: 1584 with model UnivariateMotif in generation 18 of 20\n",
      "Model Number: 1585 with model DatepartRegression in generation 18 of 20\n",
      "Model Number: 1586 with model BallTreeMultivariateMotif in generation 18 of 20\n",
      "Model Number: 1587 with model SeasonalNaive in generation 18 of 20\n",
      "Model Number: 1588 with model ETS in generation 18 of 20\n",
      "Model Number: 1589 with model SeasonalNaive in generation 18 of 20\n",
      "Model Number: 1590 with model SeasonalNaive in generation 18 of 20\n",
      "Model Number: 1591 with model FFT in generation 18 of 20\n",
      "Model Number: 1592 with model DatepartRegression in generation 18 of 20\n",
      "Model Number: 1593 with model FFT in generation 18 of 20\n",
      "Model Number: 1594 with model SeasonalNaive in generation 18 of 20\n",
      "Model Number: 1595 with model ETS in generation 18 of 20\n",
      "Model Number: 1596 with model RRVAR in generation 18 of 20\n",
      "Model Number: 1597 with model ETS in generation 18 of 20\n",
      "Model Number: 1598 with model RRVAR in generation 18 of 20\n",
      "Model Number: 1599 with model FFT in generation 18 of 20\n",
      "Model Number: 1600 with model ETS in generation 18 of 20\n",
      "Model Number: 1601 with model KalmanStateSpace in generation 18 of 20\n",
      "Model Number: 1602 with model RRVAR in generation 18 of 20\n",
      "Model Number: 1603 with model UnivariateMotif in generation 18 of 20\n",
      "Model Number: 1604 with model SeasonalNaive in generation 18 of 20\n",
      "Model Number: 1605 with model ETS in generation 18 of 20\n",
      "Model Number: 1606 with model KalmanStateSpace in generation 18 of 20\n",
      "Model Number: 1607 with model SeasonalityMotif in generation 18 of 20\n",
      "Model Number: 1608 with model DatepartRegression in generation 18 of 20\n",
      "Model Number: 1609 with model FFT in generation 18 of 20\n",
      "Model Number: 1610 with model RRVAR in generation 18 of 20\n",
      "Model Number: 1611 with model RRVAR in generation 18 of 20\n",
      "Model Number: 1612 with model KalmanStateSpace in generation 18 of 20\n",
      "Model Number: 1613 with model FFT in generation 18 of 20\n",
      "Model Number: 1614 with model FFT in generation 18 of 20\n",
      "Model Number: 1615 with model ETS in generation 18 of 20\n",
      "Model Number: 1616 with model UnivariateMotif in generation 18 of 20\n",
      "Template Eval Error: IndexError('index 9 is out of bounds for axis 0 with size 9') in model 1616 in generation 18: UnivariateMotif\n",
      "Model Number: 1617 with model SeasonalityMotif in generation 18 of 20\n",
      "Model Number: 1618 with model ETS in generation 18 of 20\n",
      "Model Number: 1619 with model SeasonalNaive in generation 18 of 20\n",
      "Model Number: 1620 with model LastValueNaive in generation 18 of 20\n",
      "Model Number: 1621 with model UnivariateMotif in generation 18 of 20\n",
      "Template Eval Error: IndexError('index 12 is out of bounds for axis 0 with size 12') in model 1621 in generation 18: UnivariateMotif\n",
      "Model Number: 1622 with model RRVAR in generation 18 of 20\n",
      "Model Number: 1623 with model FFT in generation 18 of 20\n",
      "Model Number: 1624 with model GLM in generation 18 of 20\n"
     ]
    },
    {
     "name": "stderr",
     "output_type": "stream",
     "text": [
      "c:\\Users\\Lenovo\\AppData\\Local\\Programs\\Python\\Python312\\Lib\\site-packages\\sklearn\\linear_model\\_ridge.py:255: UserWarning: Singular matrix in solving dual problem. Using least-squares solution instead.\n",
      "  warnings.warn(\n",
      "c:\\Users\\Lenovo\\AppData\\Local\\Programs\\Python\\Python312\\Lib\\site-packages\\statsmodels\\genmod\\generalized_linear_model.py:308: DomainWarning: The InversePower link function does not respect the domain of the Gamma family.\n",
      "  warnings.warn((f\"The {type(family.link).__name__} link function \"\n",
      "c:\\Users\\Lenovo\\AppData\\Local\\Programs\\Python\\Python312\\Lib\\site-packages\\statsmodels\\genmod\\generalized_linear_model.py:308: DomainWarning: The InversePower link function does not respect the domain of the Gamma family.\n",
      "  warnings.warn((f\"The {type(family.link).__name__} link function \"\n",
      "c:\\Users\\Lenovo\\AppData\\Local\\Programs\\Python\\Python312\\Lib\\site-packages\\statsmodels\\genmod\\generalized_linear_model.py:308: DomainWarning: The InversePower link function does not respect the domain of the Gamma family.\n",
      "  warnings.warn((f\"The {type(family.link).__name__} link function \"\n",
      "c:\\Users\\Lenovo\\AppData\\Local\\Programs\\Python\\Python312\\Lib\\site-packages\\statsmodels\\genmod\\generalized_linear_model.py:308: DomainWarning: The InversePower link function does not respect the domain of the Gamma family.\n",
      "  warnings.warn((f\"The {type(family.link).__name__} link function \"\n",
      "c:\\Users\\Lenovo\\AppData\\Local\\Programs\\Python\\Python312\\Lib\\site-packages\\statsmodels\\genmod\\generalized_linear_model.py:308: DomainWarning: The InversePower link function does not respect the domain of the Gamma family.\n",
      "  warnings.warn((f\"The {type(family.link).__name__} link function \"\n",
      "c:\\Users\\Lenovo\\AppData\\Local\\Programs\\Python\\Python312\\Lib\\site-packages\\statsmodels\\genmod\\generalized_linear_model.py:308: DomainWarning: The InversePower link function does not respect the domain of the Gamma family.\n",
      "  warnings.warn((f\"The {type(family.link).__name__} link function \"\n",
      "c:\\Users\\Lenovo\\AppData\\Local\\Programs\\Python\\Python312\\Lib\\site-packages\\statsmodels\\genmod\\generalized_linear_model.py:308: DomainWarning: The InversePower link function does not respect the domain of the Gamma family.\n",
      "  warnings.warn((f\"The {type(family.link).__name__} link function \"\n",
      "c:\\Users\\Lenovo\\AppData\\Local\\Programs\\Python\\Python312\\Lib\\site-packages\\statsmodels\\genmod\\generalized_linear_model.py:308: DomainWarning: The InversePower link function does not respect the domain of the Gamma family.\n",
      "  warnings.warn((f\"The {type(family.link).__name__} link function \"\n",
      "c:\\Users\\Lenovo\\AppData\\Local\\Programs\\Python\\Python312\\Lib\\site-packages\\statsmodels\\genmod\\generalized_linear_model.py:308: DomainWarning: The InversePower link function does not respect the domain of the Gamma family.\n",
      "  warnings.warn((f\"The {type(family.link).__name__} link function \"\n"
     ]
    },
    {
     "name": "stdout",
     "output_type": "stream",
     "text": [
      "Model Number: 1625 with model AverageValueNaive in generation 18 of 20\n",
      "Model Number: 1626 with model SeasonalNaive in generation 18 of 20\n",
      "Model Number: 1627 with model AverageValueNaive in generation 18 of 20\n",
      "Model Number: 1628 with model GLM in generation 18 of 20\n",
      "Model Number: 1629 with model KalmanStateSpace in generation 18 of 20\n"
     ]
    },
    {
     "name": "stderr",
     "output_type": "stream",
     "text": [
      "c:\\Users\\Lenovo\\AppData\\Local\\Programs\\Python\\Python312\\Lib\\site-packages\\statsmodels\\genmod\\families\\family.py:1367: ValueWarning: Negative binomial dispersion parameter alpha not set. Using default value alpha=1.0.\n",
      "  warnings.warn(\"Negative binomial dispersion parameter alpha not \"\n",
      "c:\\Users\\Lenovo\\AppData\\Local\\Programs\\Python\\Python312\\Lib\\site-packages\\statsmodels\\genmod\\families\\family.py:1367: ValueWarning: Negative binomial dispersion parameter alpha not set. Using default value alpha=1.0.\n",
      "  warnings.warn(\"Negative binomial dispersion parameter alpha not \"\n",
      "c:\\Users\\Lenovo\\AppData\\Local\\Programs\\Python\\Python312\\Lib\\site-packages\\statsmodels\\genmod\\families\\family.py:1367: ValueWarning: Negative binomial dispersion parameter alpha not set. Using default value alpha=1.0.\n",
      "  warnings.warn(\"Negative binomial dispersion parameter alpha not \"\n",
      "c:\\Users\\Lenovo\\AppData\\Local\\Programs\\Python\\Python312\\Lib\\site-packages\\statsmodels\\genmod\\families\\family.py:1367: ValueWarning: Negative binomial dispersion parameter alpha not set. Using default value alpha=1.0.\n",
      "  warnings.warn(\"Negative binomial dispersion parameter alpha not \"\n",
      "c:\\Users\\Lenovo\\AppData\\Local\\Programs\\Python\\Python312\\Lib\\site-packages\\statsmodels\\genmod\\families\\family.py:1367: ValueWarning: Negative binomial dispersion parameter alpha not set. Using default value alpha=1.0.\n",
      "  warnings.warn(\"Negative binomial dispersion parameter alpha not \"\n",
      "c:\\Users\\Lenovo\\AppData\\Local\\Programs\\Python\\Python312\\Lib\\site-packages\\statsmodels\\genmod\\families\\family.py:1367: ValueWarning: Negative binomial dispersion parameter alpha not set. Using default value alpha=1.0.\n",
      "  warnings.warn(\"Negative binomial dispersion parameter alpha not \"\n",
      "c:\\Users\\Lenovo\\AppData\\Local\\Programs\\Python\\Python312\\Lib\\site-packages\\statsmodels\\genmod\\families\\family.py:1367: ValueWarning: Negative binomial dispersion parameter alpha not set. Using default value alpha=1.0.\n",
      "  warnings.warn(\"Negative binomial dispersion parameter alpha not \"\n",
      "c:\\Users\\Lenovo\\AppData\\Local\\Programs\\Python\\Python312\\Lib\\site-packages\\statsmodels\\genmod\\families\\family.py:1367: ValueWarning: Negative binomial dispersion parameter alpha not set. Using default value alpha=1.0.\n",
      "  warnings.warn(\"Negative binomial dispersion parameter alpha not \"\n",
      "c:\\Users\\Lenovo\\AppData\\Local\\Programs\\Python\\Python312\\Lib\\site-packages\\statsmodels\\genmod\\families\\family.py:1367: ValueWarning: Negative binomial dispersion parameter alpha not set. Using default value alpha=1.0.\n",
      "  warnings.warn(\"Negative binomial dispersion parameter alpha not \"\n"
     ]
    },
    {
     "name": "stdout",
     "output_type": "stream",
     "text": [
      "Model Number: 1630 with model FFT in generation 18 of 20\n",
      "Model Number: 1631 with model RRVAR in generation 18 of 20\n",
      "New Generation: 19 of 20\n",
      "Model Number: 1632 with model Cassandra in generation 19 of 20\n",
      "Model Number: 1633 with model LastValueNaive in generation 19 of 20\n"
     ]
    },
    {
     "name": "stderr",
     "output_type": "stream",
     "text": [
      "c:\\Users\\Lenovo\\AppData\\Local\\Programs\\Python\\Python312\\Lib\\site-packages\\numpy\\lib\\function_base.py:2897: RuntimeWarning: invalid value encountered in divide\n",
      "  c /= stddev[:, None]\n",
      "c:\\Users\\Lenovo\\AppData\\Local\\Programs\\Python\\Python312\\Lib\\site-packages\\numpy\\lib\\function_base.py:2898: RuntimeWarning: invalid value encountered in divide\n",
      "  c /= stddev[None, :]\n",
      "c:\\Users\\Lenovo\\AppData\\Local\\Programs\\Python\\Python312\\Lib\\site-packages\\autots\\tools\\transform.py:5608: FutureWarning: Downcasting object dtype arrays on .fillna, .ffill, .bfill is deprecated and will change in a future version. Call result.infer_objects(copy=False) instead. To opt-in to the future behavior, set `pd.set_option('future.no_silent_downcasting', True)`\n",
      "  df = df.fillna(0)\n",
      "c:\\Users\\Lenovo\\AppData\\Local\\Programs\\Python\\Python312\\Lib\\site-packages\\autots\\tools\\transform.py:5608: FutureWarning: Downcasting object dtype arrays on .fillna, .ffill, .bfill is deprecated and will change in a future version. Call result.infer_objects(copy=False) instead. To opt-in to the future behavior, set `pd.set_option('future.no_silent_downcasting', True)`\n",
      "  df = df.fillna(0)\n"
     ]
    },
    {
     "name": "stdout",
     "output_type": "stream",
     "text": [
      "Model Number: 1634 with model DatepartRegression in generation 19 of 20\n",
      "Model Number: 1635 with model SeasonalNaive in generation 19 of 20\n",
      "Model Number: 1636 with model SeasonalNaive in generation 19 of 20\n",
      "Model Number: 1637 with model FFT in generation 19 of 20\n",
      "Template Eval Error: Exception(\"Transformer RegressionFilter failed on fit from params cubic {'0': {'method': 'clip', 'std_threshold': 3, 'fillna': None}, '1': {'rows': 7, 'lag': 1, 'method': 'multiplicative', 'strength': 1.0, 'first_value_only': False, 'threshold': 10, 'threshold_method': 'mean'}, '2': {'rows': 7, 'lag': 1, 'method': 'additive', 'strength': 1.0, 'first_value_only': False, 'threshold': 10, 'threshold_method': 'mean'}, '3': {'sigma': 2, 'rolling_window': 90, 'run_order': 'season_first', 'regression_params': {'regression_model': {'model': 'DecisionTree', 'model_params': {'max_depth': None, 'min_samples_split': 0.05}}, 'datepart_method': 'simple_binarized', 'polynomial_degree': None, 'transform_dict': {'fillna': None, 'transformations': {'0': 'ScipyFilter'}, 'transformation_params': {'0': {'method': 'savgol_filter', 'method_args': {'window_length': 31, 'polyorder': 3, 'deriv': 0, 'mode': 'interp'}}}}, 'holiday_countries_used': False, 'lags': None, 'forward_lags': 2}, 'holiday_params': None, 'trend_method': 'rolling_mean'}, '4': {'rows': 1, 'lag': 7, 'method': 'additive', 'strength': 1.0, 'first_value_only': False, 'threshold': None, 'threshold_method': 'mean'}}\") in model 1637 in generation 19: FFT\n",
      "Model Number: 1638 with model GLM in generation 19 of 20\n",
      "Model Number: 1639 with model RRVAR in generation 19 of 20\n",
      "Model Number: 1640 with model FFT in generation 19 of 20\n",
      "Model Number: 1641 with model RRVAR in generation 19 of 20\n",
      "Model Number: 1642 with model FFT in generation 19 of 20\n",
      "Model Number: 1643 with model RRVAR in generation 19 of 20\n",
      "Model Number: 1644 with model KalmanStateSpace in generation 19 of 20\n",
      "Template Eval Error: ValueError('Model KalmanStateSpace returned improper forecast_length. Returned: 1 and requested: 3') in model 1644 in generation 19: KalmanStateSpace\n",
      "Model Number: 1645 with model KalmanStateSpace in generation 19 of 20\n",
      "Model Number: 1646 with model AverageValueNaive in generation 19 of 20\n",
      "Model Number: 1647 with model DatepartRegression in generation 19 of 20\n",
      "Template Eval Error: ValueError(\"regression_type='User' but no future_regressor passed\") in model 1647 in generation 19: DatepartRegression\n",
      "Model Number: 1648 with model ETS in generation 19 of 20\n",
      "Model Number: 1649 with model ETS in generation 19 of 20\n",
      "Model Number: 1650 with model LastValueNaive in generation 19 of 20\n",
      "Model Number: 1651 with model MetricMotif in generation 19 of 20\n",
      "Template Eval Error: IndexError('shape mismatch: indexing arrays could not be broadcast together with shapes (3,18,5) (1,9,1) (1,1,1) ') in model 1651 in generation 19: MetricMotif\n",
      "Model Number: 1652 with model AverageValueNaive in generation 19 of 20\n",
      "Model Number: 1653 with model LastValueNaive in generation 19 of 20\n",
      "Model Number: 1654 with model RRVAR in generation 19 of 20\n",
      "Model Number: 1655 with model UnivariateMotif in generation 19 of 20\n",
      "Template Eval Error: Exception(\"Transformer PCA failed on fit from params zero {'0': {'lag_1': 12, 'method': 'Mean'}, '1': {}, '2': {'whiten': False, 'n_components': 100}}\") in model 1655 in generation 19: UnivariateMotif\n",
      "Model Number: 1656 with model AverageValueNaive in generation 19 of 20\n",
      "Model Number: 1657 with model FFT in generation 19 of 20\n",
      "Model Number: 1658 with model SeasonalNaive in generation 19 of 20\n",
      "Model Number: 1659 with model ETS in generation 19 of 20\n",
      "Model Number: 1660 with model ETS in generation 19 of 20\n",
      "Model Number: 1661 with model SeasonalNaive in generation 19 of 20\n",
      "Model Number: 1662 with model RRVAR in generation 19 of 20\n",
      "Model Number: 1663 with model GLM in generation 19 of 20\n",
      "Template Eval Error: ValueError('regression_type=user and no future_regressor passed') in model 1663 in generation 19: GLM\n",
      "Model Number: 1664 with model RRVAR in generation 19 of 20\n",
      "Model Number: 1665 with model GLS in generation 19 of 20\n",
      "Model Number: 1666 with model ETS in generation 19 of 20\n",
      "Model Number: 1667 with model FFT in generation 19 of 20\n",
      "Template Eval Error: Exception(\"Transformer RegressionFilter failed on fit from params cubic {'0': {'method': 'clip', 'std_threshold': 2, 'fillna': None}, '1': {'regression_model': {'model': 'ElasticNet', 'model_params': {'l1_ratio': 0.1, 'fit_intercept': True, 'selection': 'random'}}, 'datepart_method': 'common_fourier_rw', 'polynomial_degree': None, 'transform_dict': None, 'holiday_countries_used': False, 'lags': None, 'forward_lags': None}, '2': {'sigma': 2, 'rolling_window': 90, 'run_order': 'season_first', 'regression_params': {'regression_model': {'model': 'DecisionTree', 'model_params': {'max_depth': None, 'min_samples_split': 0.05}}, 'datepart_method': 'simple_binarized', 'polynomial_degree': None, 'transform_dict': {'fillna': None, 'transformations': {'0': 'ScipyFilter'}, 'transformation_params': {'0': {'method': 'savgol_filter', 'method_args': {'window_length': 31, 'polyorder': 3, 'deriv': 0, 'mode': 'interp'}}}}, 'holiday_countries_used': False, 'lags': None, 'forward_lags': 2}, 'holiday_params': None, 'trend_method': 'rolling_mean'}, '3': {'rows': 4, 'lag': 1, 'method': 'additive', 'strength': 1.0, 'first_value_only': False, 'threshold': 10, 'threshold_method': 'max'}}\") in model 1667 in generation 19: FFT\n",
      "Model Number: 1668 with model SeasonalNaive in generation 19 of 20\n",
      "Model Number: 1669 with model SeasonalNaive in generation 19 of 20\n",
      "Model Number: 1670 with model Cassandra in generation 19 of 20\n",
      "Model Number: 1671 with model KalmanStateSpace in generation 19 of 20\n",
      "Model Number: 1672 with model AverageValueNaive in generation 19 of 20\n",
      "Model Number: 1673 with model LastValueNaive in generation 19 of 20\n",
      "Model Number: 1674 with model KalmanStateSpace in generation 19 of 20\n",
      "Model Number: 1675 with model Cassandra in generation 19 of 20\n",
      "Template Eval Error: ValueError('transformed data is all zeroes') in model 1675 in generation 19: Cassandra\n",
      "Model Number: 1676 with model SeasonalNaive in generation 19 of 20\n",
      "Model Number: 1677 with model FFT in generation 19 of 20\n",
      "Model Number: 1678 with model DatepartRegression in generation 19 of 20\n",
      "Model Number: 1679 with model FFT in generation 19 of 20\n",
      "Model Number: 1680 with model SeasonalNaive in generation 19 of 20\n",
      "Model Number: 1681 with model Cassandra in generation 19 of 20\n",
      "Model Number: 1682 with model GLS in generation 19 of 20\n",
      "Model Number: 1683 with model GLS in generation 19 of 20\n",
      "Model Number: 1684 with model UnivariateMotif in generation 19 of 20\n",
      "Model Number: 1685 with model Cassandra in generation 19 of 20\n",
      "Template Eval Error: ValueError('transformed data is all zeroes') in model 1685 in generation 19: Cassandra\n",
      "Model Number: 1686 with model UnivariateMotif in generation 19 of 20\n",
      "Model Number: 1687 with model ETS in generation 19 of 20\n"
     ]
    },
    {
     "name": "stderr",
     "output_type": "stream",
     "text": [
      "c:\\Users\\Lenovo\\AppData\\Local\\Programs\\Python\\Python312\\Lib\\site-packages\\autots\\tools\\anomaly_utils.py:1115: FutureWarning: Downcasting object dtype arrays on .fillna, .ffill, .bfill is deprecated and will change in a future version. Call result.infer_objects(copy=False) instead. To opt-in to the future behavior, set `pd.set_option('future.no_silent_downcasting', True)`\n",
      "  result = result + temp.where(temp.isnull(), 1).fillna(0)\n"
     ]
    },
    {
     "name": "stdout",
     "output_type": "stream",
     "text": [
      "Model Number: 1688 with model DatepartRegression in generation 19 of 20\n",
      "Model Number: 1689 with model ETS in generation 19 of 20\n",
      "Model Number: 1690 with model RRVAR in generation 19 of 20\n",
      "Model Number: 1691 with model AverageValueNaive in generation 19 of 20\n",
      "Model Number: 1692 with model RRVAR in generation 19 of 20\n",
      "Model Number: 1693 with model RRVAR in generation 19 of 20\n",
      "Model Number: 1694 with model AverageValueNaive in generation 19 of 20\n",
      "Model Number: 1695 with model GLM in generation 19 of 20\n",
      "Model Number: 1696 with model FFT in generation 19 of 20\n",
      "Template Eval Error: Exception(\"Transformer AlignLastValue failed on fit from params rolling_mean_24 {'0': {'method': 'clip', 'std_threshold': 2, 'fillna': None}, '1': {'n_harmonics': 10, 'detrend': None}, '2': {}, '3': {'rows': 1, 'lag': 28, 'method': 'additive', 'strength': 1.0, 'first_value_only': False, 'threshold': None, 'threshold_method': 'max'}}\") in model 1696 in generation 19: FFT\n",
      "Model Number: 1697 with model DatepartRegression in generation 19 of 20\n",
      "New Generation: 20 of 20\n",
      "Model Number: 1698 with model SeasonalNaive in generation 20 of 20\n",
      "Template Eval Error: Exception(\"Transformer AlignLastValue failed on fit from params piecewise_polynomial {'0': {'method': 'savgol_filter', 'method_args': {'window_length': 7, 'polyorder': 2, 'deriv': 0, 'mode': 'nearest'}}, '1': {'regression_model': {'model': 'ElasticNet', 'model_params': {'l1_ratio': 0.1, 'fit_intercept': True, 'selection': 'random'}}, 'datepart_method': 'common_fourier_rw', 'polynomial_degree': None, 'transform_dict': None, 'holiday_countries_used': False, 'lags': None, 'forward_lags': None}, '2': {'rows': 1, 'lag': 28, 'method': 'additive', 'strength': 1.0, 'first_value_only': False, 'threshold': None, 'threshold_method': 'max'}}\") in model 1698 in generation 20: SeasonalNaive\n",
      "Model Number: 1699 with model LastValueNaive in generation 20 of 20\n",
      "Model Number: 1700 with model ETS in generation 20 of 20\n",
      "Model Number: 1701 with model SeasonalNaive in generation 20 of 20\n",
      "Model Number: 1702 with model FFT in generation 20 of 20\n",
      "Model Number: 1703 with model FFT in generation 20 of 20\n",
      "Model Number: 1704 with model RRVAR in generation 20 of 20\n"
     ]
    },
    {
     "name": "stderr",
     "output_type": "stream",
     "text": [
      "c:\\Users\\Lenovo\\AppData\\Local\\Programs\\Python\\Python312\\Lib\\site-packages\\autots\\tools\\transform.py:5608: FutureWarning: Downcasting object dtype arrays on .fillna, .ffill, .bfill is deprecated and will change in a future version. Call result.infer_objects(copy=False) instead. To opt-in to the future behavior, set `pd.set_option('future.no_silent_downcasting', True)`\n",
      "  df = df.fillna(0)\n",
      "c:\\Users\\Lenovo\\AppData\\Local\\Programs\\Python\\Python312\\Lib\\site-packages\\autots\\tools\\transform.py:5608: FutureWarning: Downcasting object dtype arrays on .fillna, .ffill, .bfill is deprecated and will change in a future version. Call result.infer_objects(copy=False) instead. To opt-in to the future behavior, set `pd.set_option('future.no_silent_downcasting', True)`\n",
      "  df = df.fillna(0)\n"
     ]
    },
    {
     "name": "stdout",
     "output_type": "stream",
     "text": [
      "Model Number: 1705 with model KalmanStateSpace in generation 20 of 20\n",
      "Template Eval Error: Exception(\"Transformer ScipyFilter failed on fit from params akima {'0': {'method': 'butter', 'method_args': {'N': 7, 'btype': 'lowpass', 'analog': False, 'output': 'sos', 'Wn': 0.14285714285714285}}, '1': {}, '2': {}}\") in model 1705 in generation 20: KalmanStateSpace\n",
      "Model Number: 1706 with model ETS in generation 20 of 20\n",
      "Model Number: 1707 with model FFT in generation 20 of 20\n",
      "Model Number: 1708 with model DatepartRegression in generation 20 of 20\n",
      "Template Eval Error: ValueError(\"regression_type='User' but no future_regressor passed\") in model 1708 in generation 20: DatepartRegression\n",
      "Model Number: 1709 with model UnivariateMotif in generation 20 of 20\n",
      "Template Eval Error: ValueError('kth(=10) out of bounds (5)') in model 1709 in generation 20: UnivariateMotif\n",
      "Model Number: 1710 with model DatepartRegression in generation 20 of 20\n",
      "Model Number: 1711 with model SeasonalNaive in generation 20 of 20\n",
      "Model Number: 1712 with model FFT in generation 20 of 20\n",
      "Model Number: 1713 with model GLS in generation 20 of 20\n",
      "Model Number: 1714 with model SeasonalNaive in generation 20 of 20\n",
      "Model Number: 1715 with model ETS in generation 20 of 20\n",
      "Model Number: 1716 with model FFT in generation 20 of 20\n",
      "Model Number: 1717 with model ETS in generation 20 of 20\n",
      "Model Number: 1718 with model ETS in generation 20 of 20\n",
      "Template Eval Error: Exception(\"Transformer AlignLastValue failed on fit from params rolling_mean_24 {'0': {}, '1': {'regression_model': {'model': 'ElasticNet', 'model_params': {'l1_ratio': 0.1, 'fit_intercept': True, 'selection': 'random'}}, 'datepart_method': 'common_fourier_rw', 'polynomial_degree': None, 'transform_dict': None, 'holiday_countries_used': False, 'lags': None, 'forward_lags': None}, '2': {}, '3': {'rows': 1, 'lag': 28, 'method': 'additive', 'strength': 1.0, 'first_value_only': False, 'threshold': 1, 'threshold_method': 'max'}}\") in model 1718 in generation 20: ETS\n",
      "Model Number: 1719 with model RRVAR in generation 20 of 20\n",
      "Model Number: 1720 with model RRVAR in generation 20 of 20\n",
      "Model Number: 1721 with model SeasonalNaive in generation 20 of 20\n",
      "Model Number: 1722 with model AverageValueNaive in generation 20 of 20\n",
      "Model Number: 1723 with model AverageValueNaive in generation 20 of 20\n",
      "Template Eval Error: Exception(\"Transformer RegressionFilter failed on fit from params ffill {'0': {'method': 'clip', 'std_threshold': 2, 'fillna': None}, '1': {'decimals': -2, 'on_transform': False, 'on_inverse': True}, '2': {'span': 10}, '3': {'sigma': 3, 'rolling_window': 90, 'run_order': 'season_first', 'regression_params': {'regression_model': {'model': 'DecisionTree', 'model_params': {'max_depth': None, 'min_samples_split': 2}}, 'datepart_method': ['morlet_365.25_12_12', 'ricker_7_7_1'], 'polynomial_degree': None, 'transform_dict': {'fillna': None, 'transformations': {'0': 'ScipyFilter'}, 'transformation_params': {'0': {'method': 'savgol_filter', 'method_args': {'window_length': 31, 'polyorder': 3, 'deriv': 0, 'mode': 'interp'}}}}, 'holiday_countries_used': False, 'lags': None, 'forward_lags': None}, 'holiday_params': None, 'trend_method': 'rolling_mean'}, '4': {'discretization': 'upper', 'n_bins': 5}}\") in model 1723 in generation 20: AverageValueNaive\n",
      "Model Number: 1724 with model UnivariateMotif in generation 20 of 20\n",
      "Model Number: 1725 with model SeasonalNaive in generation 20 of 20\n",
      "Model Number: 1726 with model FFT in generation 20 of 20\n",
      "Model Number: 1727 with model ETS in generation 20 of 20\n",
      "Model Number: 1728 with model FFT in generation 20 of 20\n",
      "Model Number: 1729 with model KalmanStateSpace in generation 20 of 20\n",
      "Model Number: 1730 with model RRVAR in generation 20 of 20\n",
      "Model Number: 1731 with model ETS in generation 20 of 20\n",
      "Model Number: 1732 with model RRVAR in generation 20 of 20\n",
      "Model Number: 1733 with model SeasonalNaive in generation 20 of 20\n",
      "Model Number: 1734 with model FFT in generation 20 of 20\n",
      "Model Number: 1735 with model ETS in generation 20 of 20\n"
     ]
    },
    {
     "name": "stderr",
     "output_type": "stream",
     "text": [
      "c:\\Users\\Lenovo\\AppData\\Local\\Programs\\Python\\Python312\\Lib\\site-packages\\autots\\tools\\transform.py:5608: FutureWarning: Downcasting object dtype arrays on .fillna, .ffill, .bfill is deprecated and will change in a future version. Call result.infer_objects(copy=False) instead. To opt-in to the future behavior, set `pd.set_option('future.no_silent_downcasting', True)`\n",
      "  df = df.fillna(0)\n",
      "c:\\Users\\Lenovo\\AppData\\Local\\Programs\\Python\\Python312\\Lib\\site-packages\\autots\\tools\\transform.py:5608: FutureWarning: Downcasting object dtype arrays on .fillna, .ffill, .bfill is deprecated and will change in a future version. Call result.infer_objects(copy=False) instead. To opt-in to the future behavior, set `pd.set_option('future.no_silent_downcasting', True)`\n",
      "  df = df.fillna(0)\n"
     ]
    },
    {
     "name": "stdout",
     "output_type": "stream",
     "text": [
      "Model Number: 1736 with model RRVAR in generation 20 of 20\n",
      "Model Number: 1737 with model SeasonalNaive in generation 20 of 20\n",
      "Model Number: 1738 with model DatepartRegression in generation 20 of 20\n",
      "Model Number: 1739 with model UnivariateMotif in generation 20 of 20\n",
      "Template Eval Error: ValueError('window shape cannot be larger than input array shape') in model 1739 in generation 20: UnivariateMotif\n",
      "Model Number: 1740 with model KalmanStateSpace in generation 20 of 20\n",
      "Model Number: 1741 with model LastValueNaive in generation 20 of 20\n",
      "Model Number: 1742 with model Ensemble in generation 21 of Ensembles\n",
      "Model Number: 1743 with model Ensemble in generation 21 of Ensembles\n",
      "Model Number: 1744 with model Ensemble in generation 21 of Ensembles\n",
      "Model Number: 1745 with model Ensemble in generation 21 of Ensembles\n",
      "Model Number: 1746 with model Ensemble in generation 21 of Ensembles\n",
      "Model Number: 1747 with model Ensemble in generation 21 of Ensembles\n",
      "Model Number: 1748 with model Ensemble in generation 21 of Ensembles\n",
      "Model Number: 1749 with model Ensemble in generation 21 of Ensembles\n",
      "Model Number: 1750 with model Ensemble in generation 21 of Ensembles\n",
      "Model Number: 1751 with model Ensemble in generation 21 of Ensembles\n",
      "Model Number: 1752 with model Ensemble in generation 21 of Ensembles\n",
      "Model Number: 1753 with model Ensemble in generation 21 of Ensembles\n",
      "Model Number: 1754 with model Ensemble in generation 21 of Ensembles\n",
      "Validation Round: 1\n",
      "Model Number: 1 of 279 with model Ensemble for Validation 1\n",
      "📈 1 - Ensemble with avg smape 104.68: \n",
      "Model Number: 2 of 279 with model Ensemble for Validation 1\n",
      "📈 2 - Ensemble with avg smape 59.38: \n",
      "Model Number: 3 of 279 with model Ensemble for Validation 1\n",
      "3 - Ensemble with avg smape 61.04: \n",
      "Model Number: 4 of 279 with model Ensemble for Validation 1\n",
      "4 - Ensemble with avg smape 68.73: \n",
      "Model Number: 5 of 279 with model Ensemble for Validation 1\n",
      "5 - Ensemble with avg smape 73.66: \n",
      "Model Number: 6 of 279 with model Ensemble for Validation 1\n",
      "6 - Ensemble with avg smape 63.78: \n",
      "Model Number: 7 of 279 with model FFT for Validation 1\n",
      "7 - FFT with avg smape 60.43: \n",
      "Model Number: 8 of 279 with model Ensemble for Validation 1\n",
      "8 - Ensemble with avg smape 60.43: \n",
      "Model Number: 9 of 279 with model FFT for Validation 1\n",
      "9 - FFT with avg smape 60.43: \n",
      "Model Number: 10 of 279 with model Ensemble for Validation 1\n",
      "10 - Ensemble with avg smape 60.43: \n",
      "Model Number: 11 of 279 with model FFT for Validation 1\n",
      "11 - FFT with avg smape 60.43: \n",
      "Model Number: 12 of 279 with model FFT for Validation 1\n",
      "12 - FFT with avg smape 60.43: \n",
      "Model Number: 13 of 279 with model FFT for Validation 1\n",
      "13 - FFT with avg smape 60.43: \n",
      "Model Number: 14 of 279 with model FFT for Validation 1\n",
      "14 - FFT with avg smape 60.43: \n",
      "Model Number: 15 of 279 with model SeasonalNaive for Validation 1\n",
      "15 - SeasonalNaive with avg smape 114.42: \n",
      "Model Number: 16 of 279 with model SeasonalNaive for Validation 1\n",
      "16 - SeasonalNaive with avg smape 114.42: \n",
      "Model Number: 17 of 279 with model Ensemble for Validation 1\n",
      "17 - Ensemble with avg smape 84.83: \n",
      "Model Number: 18 of 279 with model SeasonalNaive for Validation 1\n",
      "18 - SeasonalNaive with avg smape 81.83: \n",
      "Model Number: 19 of 279 with model SeasonalNaive for Validation 1\n",
      "19 - SeasonalNaive with avg smape 81.83: \n",
      "Model Number: 20 of 279 with model ETS for Validation 1\n",
      "20 - ETS with avg smape 89.95: \n",
      "Model Number: 21 of 279 with model SeasonalNaive for Validation 1\n",
      "21 - SeasonalNaive with avg smape 85.93: \n",
      "Model Number: 22 of 279 with model FFT for Validation 1\n",
      "22 - FFT with avg smape 71.52: \n",
      "Model Number: 23 of 279 with model FFT for Validation 1\n",
      "23 - FFT with avg smape 71.52: \n",
      "Model Number: 24 of 279 with model FFT for Validation 1\n",
      "24 - FFT with avg smape 71.52: \n",
      "Model Number: 25 of 279 with model FFT for Validation 1\n",
      "25 - FFT with avg smape 71.52: \n",
      "Model Number: 26 of 279 with model FFT for Validation 1\n",
      "26 - FFT with avg smape 71.52: \n",
      "Model Number: 27 of 279 with model FFT for Validation 1\n",
      "27 - FFT with avg smape 71.52: \n",
      "Model Number: 28 of 279 with model FFT for Validation 1\n",
      "28 - FFT with avg smape 71.52: \n",
      "Model Number: 29 of 279 with model Ensemble for Validation 1\n",
      "29 - Ensemble with avg smape 65.31: \n",
      "Model Number: 30 of 279 with model ETS for Validation 1\n",
      "30 - ETS with avg smape 90.12: \n",
      "Model Number: 31 of 279 with model Ensemble for Validation 1\n",
      "31 - Ensemble with avg smape 71.63: \n",
      "Model Number: 32 of 279 with model SeasonalNaive for Validation 1\n",
      "32 - SeasonalNaive with avg smape 75.57: \n",
      "Model Number: 33 of 279 with model ETS for Validation 1\n",
      "33 - ETS with avg smape 94.55: \n",
      "Model Number: 34 of 279 with model ETS for Validation 1\n",
      "34 - ETS with avg smape 94.55: \n",
      "Model Number: 35 of 279 with model SeasonalNaive for Validation 1\n",
      "35 - SeasonalNaive with avg smape 65.18: \n",
      "Model Number: 36 of 279 with model SeasonalNaive for Validation 1\n",
      "36 - SeasonalNaive with avg smape 65.18: \n",
      "Model Number: 37 of 279 with model SeasonalNaive for Validation 1\n",
      "37 - SeasonalNaive with avg smape 65.18: \n",
      "Model Number: 38 of 279 with model SeasonalNaive for Validation 1\n",
      "38 - SeasonalNaive with avg smape 65.18: \n",
      "Model Number: 39 of 279 with model ETS for Validation 1\n",
      "39 - ETS with avg smape 70.47: \n",
      "Model Number: 40 of 279 with model ETS for Validation 1\n",
      "40 - ETS with avg smape 70.47: \n",
      "Model Number: 41 of 279 with model ETS for Validation 1\n",
      "41 - ETS with avg smape 70.47: \n",
      "Model Number: 42 of 279 with model ETS for Validation 1\n",
      "42 - ETS with avg smape 89.53: \n",
      "Model Number: 43 of 279 with model ETS for Validation 1\n",
      "43 - ETS with avg smape 89.53: \n",
      "Model Number: 44 of 279 with model ETS for Validation 1\n",
      "44 - ETS with avg smape 69.07: \n",
      "Model Number: 45 of 279 with model ETS for Validation 1\n",
      "45 - ETS with avg smape 69.07: \n",
      "Model Number: 46 of 279 with model AverageValueNaive for Validation 1\n",
      "46 - AverageValueNaive with avg smape 66.98: \n",
      "Model Number: 47 of 279 with model SeasonalNaive for Validation 1\n",
      "47 - SeasonalNaive with avg smape 70.17: \n",
      "Model Number: 48 of 279 with model SeasonalNaive for Validation 1\n",
      "48 - SeasonalNaive with avg smape 70.17: \n",
      "Model Number: 49 of 279 with model SeasonalNaive for Validation 1\n",
      "49 - SeasonalNaive with avg smape 69.63: \n",
      "Model Number: 50 of 279 with model ETS for Validation 1\n",
      "50 - ETS with avg smape 82.28: \n",
      "Model Number: 51 of 279 with model ETS for Validation 1\n",
      "51 - ETS with avg smape 82.17: \n",
      "Model Number: 52 of 279 with model KalmanStateSpace for Validation 1\n",
      "52 - KalmanStateSpace with avg smape 68.12: \n",
      "Model Number: 53 of 279 with model UnivariateMotif for Validation 1\n",
      "53 - UnivariateMotif with avg smape 71.52: \n",
      "Model Number: 54 of 279 with model UnivariateMotif for Validation 1\n",
      "54 - UnivariateMotif with avg smape 71.52: \n",
      "Model Number: 55 of 279 with model RRVAR for Validation 1\n",
      "55 - RRVAR with avg smape 71.52: \n",
      "Model Number: 56 of 279 with model RRVAR for Validation 1\n",
      "56 - RRVAR with avg smape 68.51: \n",
      "Model Number: 57 of 279 with model AverageValueNaive for Validation 1\n",
      "57 - AverageValueNaive with avg smape 74.33: \n",
      "Model Number: 58 of 279 with model DatepartRegression for Validation 1\n",
      "58 - DatepartRegression with avg smape 86.54: \n",
      "Model Number: 59 of 279 with model RRVAR for Validation 1\n",
      "59 - RRVAR with avg smape 68.66: \n",
      "Model Number: 60 of 279 with model RRVAR for Validation 1\n",
      "60 - RRVAR with avg smape 68.66: \n",
      "Model Number: 61 of 279 with model RRVAR for Validation 1\n",
      "61 - RRVAR with avg smape 68.66: \n",
      "Model Number: 62 of 279 with model RRVAR for Validation 1\n",
      "62 - RRVAR with avg smape 68.66: \n",
      "Model Number: 63 of 279 with model RRVAR for Validation 1\n",
      "63 - RRVAR with avg smape 68.66: \n",
      "Model Number: 64 of 279 with model RRVAR for Validation 1\n",
      "64 - RRVAR with avg smape 68.66: \n",
      "Model Number: 65 of 279 with model RRVAR for Validation 1\n",
      "65 - RRVAR with avg smape 68.66: \n",
      "Model Number: 66 of 279 with model RRVAR for Validation 1\n",
      "66 - RRVAR with avg smape 68.66: \n",
      "Model Number: 67 of 279 with model DatepartRegression for Validation 1\n",
      "67 - DatepartRegression with avg smape 84.71: \n",
      "Model Number: 68 of 279 with model DatepartRegression for Validation 1\n",
      "68 - DatepartRegression with avg smape 62.86: \n",
      "Model Number: 69 of 279 with model KalmanStateSpace for Validation 1\n",
      "69 - KalmanStateSpace with avg smape 68.16: \n",
      "Model Number: 70 of 279 with model KalmanStateSpace for Validation 1\n",
      "70 - KalmanStateSpace with avg smape 70.64: \n",
      "Model Number: 71 of 279 with model KalmanStateSpace for Validation 1\n",
      "71 - KalmanStateSpace with avg smape 68.98: \n",
      "Model Number: 72 of 279 with model AverageValueNaive for Validation 1\n",
      "72 - AverageValueNaive with avg smape 75.55: \n",
      "Model Number: 73 of 279 with model GLS for Validation 1\n",
      "73 - GLS with avg smape 73.55: \n",
      "Model Number: 74 of 279 with model DatepartRegression for Validation 1\n",
      "74 - DatepartRegression with avg smape 69.67: \n",
      "Model Number: 75 of 279 with model DatepartRegression for Validation 1\n",
      "75 - DatepartRegression with avg smape 69.67: \n",
      "Model Number: 76 of 279 with model DatepartRegression for Validation 1\n",
      "76 - DatepartRegression with avg smape 70.81: \n",
      "Model Number: 77 of 279 with model DatepartRegression for Validation 1\n",
      "77 - DatepartRegression with avg smape 70.02: \n",
      "Model Number: 78 of 279 with model DatepartRegression for Validation 1\n",
      "78 - DatepartRegression with avg smape 70.11: \n",
      "Model Number: 79 of 279 with model DatepartRegression for Validation 1\n",
      "79 - DatepartRegression with avg smape 66.16: \n",
      "Model Number: 80 of 279 with model DatepartRegression for Validation 1\n",
      "80 - DatepartRegression with avg smape 71.82: \n",
      "Model Number: 81 of 279 with model MetricMotif for Validation 1\n",
      "81 - MetricMotif with avg smape 75.02: \n",
      "Model Number: 82 of 279 with model MetricMotif for Validation 1\n",
      "82 - MetricMotif with avg smape 75.02: \n",
      "Model Number: 83 of 279 with model LastValueNaive for Validation 1\n",
      "83 - LastValueNaive with avg smape 64.54: \n",
      "Model Number: 84 of 279 with model LastValueNaive for Validation 1\n",
      "84 - LastValueNaive with avg smape 64.54: \n",
      "Model Number: 85 of 279 with model LastValueNaive for Validation 1\n",
      "85 - LastValueNaive with avg smape 64.54: \n",
      "Model Number: 86 of 279 with model LastValueNaive for Validation 1\n",
      "86 - LastValueNaive with avg smape 64.54: \n",
      "Model Number: 87 of 279 with model RRVAR for Validation 1\n",
      "87 - RRVAR with avg smape 66.43: \n",
      "Model Number: 88 of 279 with model GLS for Validation 1\n",
      "88 - GLS with avg smape 73.06: \n",
      "Model Number: 89 of 279 with model GLS for Validation 1\n",
      "89 - GLS with avg smape 73.06: \n",
      "Model Number: 90 of 279 with model RRVAR for Validation 1\n",
      "90 - RRVAR with avg smape 78.71: \n",
      "Model Number: 91 of 279 with model RRVAR for Validation 1\n",
      "91 - RRVAR with avg smape 78.71: \n",
      "Model Number: 92 of 279 with model LastValueNaive for Validation 1\n",
      "92 - LastValueNaive with avg smape 64.54: \n",
      "Model Number: 93 of 279 with model DatepartRegression for Validation 1\n",
      "93 - DatepartRegression with avg smape 70.95: \n",
      "Model Number: 94 of 279 with model DatepartRegression for Validation 1\n",
      "94 - DatepartRegression with avg smape 70.95: \n",
      "Model Number: 95 of 279 with model AverageValueNaive for Validation 1\n",
      "95 - AverageValueNaive with avg smape 67.02: \n",
      "Model Number: 96 of 279 with model KalmanStateSpace for Validation 1\n",
      "96 - KalmanStateSpace with avg smape 66.6: \n",
      "Model Number: 97 of 279 with model KalmanStateSpace for Validation 1\n",
      "97 - KalmanStateSpace with avg smape 66.6: \n",
      "Model Number: 98 of 279 with model KalmanStateSpace for Validation 1\n",
      "98 - KalmanStateSpace with avg smape 63.43: \n",
      "Model Number: 99 of 279 with model KalmanStateSpace for Validation 1\n",
      "99 - KalmanStateSpace with avg smape 63.43: \n",
      "Model Number: 100 of 279 with model AverageValueNaive for Validation 1\n",
      "100 - AverageValueNaive with avg smape 66.22: \n",
      "Model Number: 101 of 279 with model Ensemble for Validation 1\n",
      "101 - Ensemble with avg smape 72.89: \n",
      "Model Number: 102 of 279 with model DatepartRegression for Validation 1\n",
      "102 - DatepartRegression with avg smape 75.06: \n",
      "Model Number: 103 of 279 with model KalmanStateSpace for Validation 1\n",
      "103 - KalmanStateSpace with avg smape 64.8: \n",
      "Model Number: 104 of 279 with model KalmanStateSpace for Validation 1\n",
      "104 - KalmanStateSpace with avg smape 72.03: \n",
      "Model Number: 105 of 279 with model AverageValueNaive for Validation 1\n",
      "105 - AverageValueNaive with avg smape 73.06: \n",
      "Model Number: 106 of 279 with model AverageValueNaive for Validation 1\n",
      "106 - AverageValueNaive with avg smape 73.06: \n",
      "Model Number: 107 of 279 with model LastValueNaive for Validation 1\n",
      "107 - LastValueNaive with avg smape 85.9: \n",
      "Model Number: 108 of 279 with model LastValueNaive for Validation 1\n",
      "108 - LastValueNaive with avg smape 64.54: \n",
      "Model Number: 109 of 279 with model LastValueNaive for Validation 1\n",
      "109 - LastValueNaive with avg smape 64.54: \n",
      "Model Number: 110 of 279 with model LastValueNaive for Validation 1\n",
      "110 - LastValueNaive with avg smape 64.54: \n",
      "Model Number: 111 of 279 with model LastValueNaive for Validation 1\n",
      "111 - LastValueNaive with avg smape 64.54: \n",
      "Model Number: 112 of 279 with model LastValueNaive for Validation 1\n",
      "112 - LastValueNaive with avg smape 64.54: \n",
      "Model Number: 113 of 279 with model LastValueNaive for Validation 1\n",
      "113 - LastValueNaive with avg smape 64.54: \n",
      "Model Number: 114 of 279 with model LastValueNaive for Validation 1\n",
      "114 - LastValueNaive with avg smape 64.54: \n",
      "Model Number: 115 of 279 with model KalmanStateSpace for Validation 1\n",
      "115 - KalmanStateSpace with avg smape 121.88: \n",
      "Model Number: 116 of 279 with model KalmanStateSpace for Validation 1\n",
      "116 - KalmanStateSpace with avg smape 70.16: \n",
      "Model Number: 117 of 279 with model UnivariateMotif for Validation 1\n",
      "117 - UnivariateMotif with avg smape 63.98: \n",
      "Model Number: 118 of 279 with model BallTreeMultivariateMotif for Validation 1\n",
      "118 - BallTreeMultivariateMotif with avg smape 63.12: \n",
      "Model Number: 119 of 279 with model UnivariateMotif for Validation 1\n",
      "119 - UnivariateMotif with avg smape 72.6: \n",
      "Model Number: 120 of 279 with model UnivariateMotif for Validation 1\n",
      "120 - UnivariateMotif with avg smape 74.67: \n",
      "Model Number: 121 of 279 with model KalmanStateSpace for Validation 1\n",
      "121 - KalmanStateSpace with avg smape 68.99: \n",
      "Model Number: 122 of 279 with model UnivariateMotif for Validation 1\n",
      "122 - UnivariateMotif with avg smape 79.0: \n",
      "Model Number: 123 of 279 with model AverageValueNaive for Validation 1\n",
      "123 - AverageValueNaive with avg smape 63.86: \n",
      "Model Number: 124 of 279 with model AverageValueNaive for Validation 1\n",
      "124 - AverageValueNaive with avg smape 63.86: \n",
      "Model Number: 125 of 279 with model AverageValueNaive for Validation 1\n",
      "125 - AverageValueNaive with avg smape 64.89: \n",
      "Model Number: 126 of 279 with model AverageValueNaive for Validation 1\n",
      "126 - AverageValueNaive with avg smape 62.59: \n",
      "Model Number: 127 of 279 with model AverageValueNaive for Validation 1\n",
      "127 - AverageValueNaive with avg smape 63.69: \n",
      "Model Number: 128 of 279 with model AverageValueNaive for Validation 1\n",
      "128 - AverageValueNaive with avg smape 63.69: \n",
      "Model Number: 129 of 279 with model SeasonalityMotif for Validation 1\n",
      "129 - SeasonalityMotif with avg smape 73.64: \n",
      "Model Number: 130 of 279 with model UnivariateMotif for Validation 1\n",
      "130 - UnivariateMotif with avg smape 73.86: \n",
      "Model Number: 131 of 279 with model GLM for Validation 1\n"
     ]
    },
    {
     "name": "stderr",
     "output_type": "stream",
     "text": [
      "c:\\Users\\Lenovo\\AppData\\Local\\Programs\\Python\\Python312\\Lib\\site-packages\\statsmodels\\genmod\\generalized_linear_model.py:308: DomainWarning: The InversePower link function does not respect the domain of the Gamma family.\n",
      "  warnings.warn((f\"The {type(family.link).__name__} link function \"\n",
      "c:\\Users\\Lenovo\\AppData\\Local\\Programs\\Python\\Python312\\Lib\\site-packages\\statsmodels\\genmod\\generalized_linear_model.py:308: DomainWarning: The InversePower link function does not respect the domain of the Gamma family.\n",
      "  warnings.warn((f\"The {type(family.link).__name__} link function \"\n",
      "c:\\Users\\Lenovo\\AppData\\Local\\Programs\\Python\\Python312\\Lib\\site-packages\\statsmodels\\genmod\\generalized_linear_model.py:308: DomainWarning: The InversePower link function does not respect the domain of the Gamma family.\n",
      "  warnings.warn((f\"The {type(family.link).__name__} link function \"\n",
      "c:\\Users\\Lenovo\\AppData\\Local\\Programs\\Python\\Python312\\Lib\\site-packages\\statsmodels\\genmod\\generalized_linear_model.py:308: DomainWarning: The InversePower link function does not respect the domain of the Gamma family.\n",
      "  warnings.warn((f\"The {type(family.link).__name__} link function \"\n",
      "c:\\Users\\Lenovo\\AppData\\Local\\Programs\\Python\\Python312\\Lib\\site-packages\\statsmodels\\genmod\\generalized_linear_model.py:308: DomainWarning: The InversePower link function does not respect the domain of the Gamma family.\n",
      "  warnings.warn((f\"The {type(family.link).__name__} link function \"\n",
      "c:\\Users\\Lenovo\\AppData\\Local\\Programs\\Python\\Python312\\Lib\\site-packages\\statsmodels\\genmod\\generalized_linear_model.py:308: DomainWarning: The InversePower link function does not respect the domain of the Gamma family.\n",
      "  warnings.warn((f\"The {type(family.link).__name__} link function \"\n",
      "c:\\Users\\Lenovo\\AppData\\Local\\Programs\\Python\\Python312\\Lib\\site-packages\\statsmodels\\genmod\\generalized_linear_model.py:308: DomainWarning: The InversePower link function does not respect the domain of the Gamma family.\n",
      "  warnings.warn((f\"The {type(family.link).__name__} link function \"\n",
      "c:\\Users\\Lenovo\\AppData\\Local\\Programs\\Python\\Python312\\Lib\\site-packages\\statsmodels\\genmod\\generalized_linear_model.py:308: DomainWarning: The InversePower link function does not respect the domain of the Gamma family.\n",
      "  warnings.warn((f\"The {type(family.link).__name__} link function \"\n",
      "c:\\Users\\Lenovo\\AppData\\Local\\Programs\\Python\\Python312\\Lib\\site-packages\\statsmodels\\genmod\\generalized_linear_model.py:308: DomainWarning: The InversePower link function does not respect the domain of the Gamma family.\n",
      "  warnings.warn((f\"The {type(family.link).__name__} link function \"\n",
      "c:\\Users\\Lenovo\\AppData\\Local\\Programs\\Python\\Python312\\Lib\\site-packages\\statsmodels\\genmod\\generalized_linear_model.py:308: DomainWarning: The InversePower link function does not respect the domain of the Gamma family.\n",
      "  warnings.warn((f\"The {type(family.link).__name__} link function \"\n",
      "c:\\Users\\Lenovo\\AppData\\Local\\Programs\\Python\\Python312\\Lib\\site-packages\\statsmodels\\genmod\\generalized_linear_model.py:308: DomainWarning: The InversePower link function does not respect the domain of the Gamma family.\n",
      "  warnings.warn((f\"The {type(family.link).__name__} link function \"\n",
      "c:\\Users\\Lenovo\\AppData\\Local\\Programs\\Python\\Python312\\Lib\\site-packages\\statsmodels\\genmod\\generalized_linear_model.py:308: DomainWarning: The InversePower link function does not respect the domain of the Gamma family.\n",
      "  warnings.warn((f\"The {type(family.link).__name__} link function \"\n",
      "c:\\Users\\Lenovo\\AppData\\Local\\Programs\\Python\\Python312\\Lib\\site-packages\\statsmodels\\genmod\\generalized_linear_model.py:308: DomainWarning: The InversePower link function does not respect the domain of the Gamma family.\n",
      "  warnings.warn((f\"The {type(family.link).__name__} link function \"\n",
      "c:\\Users\\Lenovo\\AppData\\Local\\Programs\\Python\\Python312\\Lib\\site-packages\\statsmodels\\genmod\\generalized_linear_model.py:308: DomainWarning: The InversePower link function does not respect the domain of the Gamma family.\n",
      "  warnings.warn((f\"The {type(family.link).__name__} link function \"\n",
      "c:\\Users\\Lenovo\\AppData\\Local\\Programs\\Python\\Python312\\Lib\\site-packages\\statsmodels\\genmod\\generalized_linear_model.py:308: DomainWarning: The InversePower link function does not respect the domain of the Gamma family.\n",
      "  warnings.warn((f\"The {type(family.link).__name__} link function \"\n",
      "c:\\Users\\Lenovo\\AppData\\Local\\Programs\\Python\\Python312\\Lib\\site-packages\\statsmodels\\genmod\\generalized_linear_model.py:308: DomainWarning: The InversePower link function does not respect the domain of the Gamma family.\n",
      "  warnings.warn((f\"The {type(family.link).__name__} link function \"\n",
      "c:\\Users\\Lenovo\\AppData\\Local\\Programs\\Python\\Python312\\Lib\\site-packages\\statsmodels\\genmod\\generalized_linear_model.py:308: DomainWarning: The InversePower link function does not respect the domain of the Gamma family.\n",
      "  warnings.warn((f\"The {type(family.link).__name__} link function \"\n"
     ]
    },
    {
     "name": "stdout",
     "output_type": "stream",
     "text": [
      "131 - GLM with avg smape 75.9: \n",
      "Model Number: 132 of 279 with model GLM for Validation 1\n",
      "132 - GLM with avg smape 75.9: \n",
      "Model Number: 133 of 279 with model Cassandra for Validation 1\n"
     ]
    },
    {
     "name": "stderr",
     "output_type": "stream",
     "text": [
      "c:\\Users\\Lenovo\\AppData\\Local\\Programs\\Python\\Python312\\Lib\\site-packages\\statsmodels\\genmod\\generalized_linear_model.py:308: DomainWarning: The InversePower link function does not respect the domain of the Gamma family.\n",
      "  warnings.warn((f\"The {type(family.link).__name__} link function \"\n",
      "c:\\Users\\Lenovo\\AppData\\Local\\Programs\\Python\\Python312\\Lib\\site-packages\\numpy\\lib\\function_base.py:2897: RuntimeWarning: invalid value encountered in divide\n",
      "  c /= stddev[:, None]\n",
      "c:\\Users\\Lenovo\\AppData\\Local\\Programs\\Python\\Python312\\Lib\\site-packages\\numpy\\lib\\function_base.py:2898: RuntimeWarning: invalid value encountered in divide\n",
      "  c /= stddev[None, :]\n",
      "c:\\Users\\Lenovo\\AppData\\Local\\Programs\\Python\\Python312\\Lib\\site-packages\\autots\\tools\\transform.py:5608: FutureWarning: Downcasting object dtype arrays on .fillna, .ffill, .bfill is deprecated and will change in a future version. Call result.infer_objects(copy=False) instead. To opt-in to the future behavior, set `pd.set_option('future.no_silent_downcasting', True)`\n",
      "  df = df.fillna(0)\n",
      "c:\\Users\\Lenovo\\AppData\\Local\\Programs\\Python\\Python312\\Lib\\site-packages\\autots\\tools\\transform.py:5608: FutureWarning: Downcasting object dtype arrays on .fillna, .ffill, .bfill is deprecated and will change in a future version. Call result.infer_objects(copy=False) instead. To opt-in to the future behavior, set `pd.set_option('future.no_silent_downcasting', True)`\n",
      "  df = df.fillna(0)\n"
     ]
    },
    {
     "name": "stdout",
     "output_type": "stream",
     "text": [
      "133 - Cassandra with avg smape 139.46: \n",
      "Model Number: 134 of 279 with model BallTreeMultivariateMotif for Validation 1\n",
      "134 - BallTreeMultivariateMotif with avg smape 81.33: \n",
      "Model Number: 135 of 279 with model GLM for Validation 1\n",
      "135 - GLM with avg smape 63.65: \n",
      "Model Number: 136 of 279 with model GLM for Validation 1\n",
      "136 - GLM with avg smape 63.69: \n",
      "Model Number: 137 of 279 with model GLM for Validation 1\n"
     ]
    },
    {
     "name": "stderr",
     "output_type": "stream",
     "text": [
      "c:\\Users\\Lenovo\\AppData\\Local\\Programs\\Python\\Python312\\Lib\\site-packages\\statsmodels\\genmod\\families\\links.py:198: RuntimeWarning: overflow encountered in exp\n",
      "  t = np.exp(-z)\n",
      "c:\\Users\\Lenovo\\AppData\\Local\\Programs\\Python\\Python312\\Lib\\site-packages\\statsmodels\\genmod\\families\\links.py:198: RuntimeWarning: overflow encountered in exp\n",
      "  t = np.exp(-z)\n",
      "c:\\Users\\Lenovo\\AppData\\Local\\Programs\\Python\\Python312\\Lib\\site-packages\\statsmodels\\genmod\\families\\links.py:198: RuntimeWarning: overflow encountered in exp\n",
      "  t = np.exp(-z)\n",
      "c:\\Users\\Lenovo\\AppData\\Local\\Programs\\Python\\Python312\\Lib\\site-packages\\statsmodels\\genmod\\generalized_linear_model.py:308: DomainWarning: The InversePower link function does not respect the domain of the Gamma family.\n",
      "  warnings.warn((f\"The {type(family.link).__name__} link function \"\n",
      "c:\\Users\\Lenovo\\AppData\\Local\\Programs\\Python\\Python312\\Lib\\site-packages\\statsmodels\\genmod\\generalized_linear_model.py:308: DomainWarning: The InversePower link function does not respect the domain of the Gamma family.\n",
      "  warnings.warn((f\"The {type(family.link).__name__} link function \"\n",
      "c:\\Users\\Lenovo\\AppData\\Local\\Programs\\Python\\Python312\\Lib\\site-packages\\statsmodels\\genmod\\generalized_linear_model.py:308: DomainWarning: The InversePower link function does not respect the domain of the Gamma family.\n",
      "  warnings.warn((f\"The {type(family.link).__name__} link function \"\n"
     ]
    },
    {
     "name": "stdout",
     "output_type": "stream",
     "text": [
      "137 - GLM with avg smape 63.69: \n",
      "Model Number: 138 of 279 with model GLM for Validation 1\n",
      "138 - GLM with avg smape 63.69: \n",
      "Model Number: 139 of 279 with model UnivariateMotif for Validation 1\n"
     ]
    },
    {
     "name": "stderr",
     "output_type": "stream",
     "text": [
      "c:\\Users\\Lenovo\\AppData\\Local\\Programs\\Python\\Python312\\Lib\\site-packages\\statsmodels\\genmod\\generalized_linear_model.py:308: DomainWarning: The InversePower link function does not respect the domain of the Gamma family.\n",
      "  warnings.warn((f\"The {type(family.link).__name__} link function \"\n",
      "c:\\Users\\Lenovo\\AppData\\Local\\Programs\\Python\\Python312\\Lib\\site-packages\\statsmodels\\genmod\\generalized_linear_model.py:308: DomainWarning: The InversePower link function does not respect the domain of the Gamma family.\n",
      "  warnings.warn((f\"The {type(family.link).__name__} link function \"\n",
      "c:\\Users\\Lenovo\\AppData\\Local\\Programs\\Python\\Python312\\Lib\\site-packages\\statsmodels\\genmod\\generalized_linear_model.py:308: DomainWarning: The InversePower link function does not respect the domain of the Gamma family.\n",
      "  warnings.warn((f\"The {type(family.link).__name__} link function \"\n",
      "c:\\Users\\Lenovo\\AppData\\Local\\Programs\\Python\\Python312\\Lib\\site-packages\\statsmodels\\genmod\\generalized_linear_model.py:308: DomainWarning: The InversePower link function does not respect the domain of the Gamma family.\n",
      "  warnings.warn((f\"The {type(family.link).__name__} link function \"\n",
      "c:\\Users\\Lenovo\\AppData\\Local\\Programs\\Python\\Python312\\Lib\\site-packages\\statsmodels\\genmod\\generalized_linear_model.py:308: DomainWarning: The InversePower link function does not respect the domain of the Gamma family.\n",
      "  warnings.warn((f\"The {type(family.link).__name__} link function \"\n",
      "c:\\Users\\Lenovo\\AppData\\Local\\Programs\\Python\\Python312\\Lib\\site-packages\\statsmodels\\genmod\\generalized_linear_model.py:308: DomainWarning: The InversePower link function does not respect the domain of the Gamma family.\n",
      "  warnings.warn((f\"The {type(family.link).__name__} link function \"\n"
     ]
    },
    {
     "name": "stdout",
     "output_type": "stream",
     "text": [
      "139 - UnivariateMotif with avg smape 71.75: \n",
      "Model Number: 140 of 279 with model ConstantNaive for Validation 1\n",
      "140 - ConstantNaive with avg smape 69.55: \n",
      "Model Number: 141 of 279 with model Cassandra for Validation 1\n",
      "141 - Cassandra with avg smape 69.53: \n",
      "Model Number: 142 of 279 with model Cassandra for Validation 1\n",
      "142 - Cassandra with avg smape 69.53: \n",
      "Model Number: 143 of 279 with model Cassandra for Validation 1\n",
      "143 - Cassandra with avg smape 69.53: \n",
      "Model Number: 144 of 279 with model Cassandra for Validation 1\n",
      "144 - Cassandra with avg smape 69.53: \n",
      "Model Number: 145 of 279 with model Cassandra for Validation 1\n",
      "145 - Cassandra with avg smape 69.53: \n",
      "Model Number: 146 of 279 with model Cassandra for Validation 1\n",
      "146 - Cassandra with avg smape 69.53: \n",
      "Model Number: 147 of 279 with model GLS for Validation 1\n",
      "147 - GLS with avg smape 67.7: \n",
      "Model Number: 148 of 279 with model GLS for Validation 1\n",
      "148 - GLS with avg smape 67.7: \n",
      "Model Number: 149 of 279 with model GLS for Validation 1\n",
      "149 - GLS with avg smape 67.7: \n",
      "Model Number: 150 of 279 with model GLS for Validation 1\n",
      "150 - GLS with avg smape 67.7: \n",
      "Model Number: 151 of 279 with model GLS for Validation 1\n",
      "151 - GLS with avg smape 67.7: \n",
      "Model Number: 152 of 279 with model GLS for Validation 1\n",
      "152 - GLS with avg smape 67.7: \n",
      "Model Number: 153 of 279 with model GLS for Validation 1\n",
      "153 - GLS with avg smape 67.7: \n",
      "Model Number: 154 of 279 with model GLS for Validation 1\n",
      "154 - GLS with avg smape 67.7: \n",
      "Model Number: 155 of 279 with model GLS for Validation 1\n",
      "155 - GLS with avg smape 67.7: \n",
      "Model Number: 156 of 279 with model GLS for Validation 1\n",
      "156 - GLS with avg smape 67.64: \n",
      "Model Number: 157 of 279 with model UnivariateMotif for Validation 1\n",
      "157 - UnivariateMotif with avg smape 75.88: \n",
      "Model Number: 158 of 279 with model GLM for Validation 1\n",
      "158 - GLM with avg smape 72.18: \n",
      "Model Number: 159 of 279 with model GLM for Validation 1\n",
      "159 - GLM with avg smape 115.5: \n",
      "Model Number: 160 of 279 with model GLM for Validation 1\n"
     ]
    },
    {
     "name": "stderr",
     "output_type": "stream",
     "text": [
      "c:\\Users\\Lenovo\\AppData\\Local\\Programs\\Python\\Python312\\Lib\\site-packages\\statsmodels\\genmod\\families\\links.py:198: RuntimeWarning: overflow encountered in exp\n",
      "  t = np.exp(-z)\n",
      "c:\\Users\\Lenovo\\AppData\\Local\\Programs\\Python\\Python312\\Lib\\site-packages\\statsmodels\\genmod\\generalized_linear_model.py:308: DomainWarning: The InversePower link function does not respect the domain of the Gamma family.\n",
      "  warnings.warn((f\"The {type(family.link).__name__} link function \"\n",
      "c:\\Users\\Lenovo\\AppData\\Local\\Programs\\Python\\Python312\\Lib\\site-packages\\statsmodels\\genmod\\generalized_linear_model.py:308: DomainWarning: The InversePower link function does not respect the domain of the Gamma family.\n",
      "  warnings.warn((f\"The {type(family.link).__name__} link function \"\n",
      "c:\\Users\\Lenovo\\AppData\\Local\\Programs\\Python\\Python312\\Lib\\site-packages\\statsmodels\\genmod\\generalized_linear_model.py:308: DomainWarning: The InversePower link function does not respect the domain of the Gamma family.\n",
      "  warnings.warn((f\"The {type(family.link).__name__} link function \"\n",
      "c:\\Users\\Lenovo\\AppData\\Local\\Programs\\Python\\Python312\\Lib\\site-packages\\statsmodels\\genmod\\generalized_linear_model.py:308: DomainWarning: The InversePower link function does not respect the domain of the Gamma family.\n",
      "  warnings.warn((f\"The {type(family.link).__name__} link function \"\n",
      "c:\\Users\\Lenovo\\AppData\\Local\\Programs\\Python\\Python312\\Lib\\site-packages\\statsmodels\\genmod\\generalized_linear_model.py:308: DomainWarning: The InversePower link function does not respect the domain of the Gamma family.\n",
      "  warnings.warn((f\"The {type(family.link).__name__} link function \"\n",
      "c:\\Users\\Lenovo\\AppData\\Local\\Programs\\Python\\Python312\\Lib\\site-packages\\statsmodels\\genmod\\generalized_linear_model.py:308: DomainWarning: The InversePower link function does not respect the domain of the Gamma family.\n",
      "  warnings.warn((f\"The {type(family.link).__name__} link function \"\n",
      "c:\\Users\\Lenovo\\AppData\\Local\\Programs\\Python\\Python312\\Lib\\site-packages\\statsmodels\\genmod\\generalized_linear_model.py:308: DomainWarning: The InversePower link function does not respect the domain of the Gamma family.\n",
      "  warnings.warn((f\"The {type(family.link).__name__} link function \"\n",
      "c:\\Users\\Lenovo\\AppData\\Local\\Programs\\Python\\Python312\\Lib\\site-packages\\statsmodels\\genmod\\generalized_linear_model.py:308: DomainWarning: The InversePower link function does not respect the domain of the Gamma family.\n",
      "  warnings.warn((f\"The {type(family.link).__name__} link function \"\n",
      "c:\\Users\\Lenovo\\AppData\\Local\\Programs\\Python\\Python312\\Lib\\site-packages\\statsmodels\\genmod\\generalized_linear_model.py:308: DomainWarning: The InversePower link function does not respect the domain of the Gamma family.\n",
      "  warnings.warn((f\"The {type(family.link).__name__} link function \"\n",
      "c:\\Users\\Lenovo\\AppData\\Local\\Programs\\Python\\Python312\\Lib\\site-packages\\statsmodels\\genmod\\families\\links.py:198: RuntimeWarning: overflow encountered in exp\n",
      "  t = np.exp(-z)\n"
     ]
    },
    {
     "name": "stdout",
     "output_type": "stream",
     "text": [
      "160 - GLM with avg smape 72.3: \n",
      "Model Number: 161 of 279 with model Cassandra for Validation 1\n"
     ]
    },
    {
     "name": "stderr",
     "output_type": "stream",
     "text": [
      "c:\\Users\\Lenovo\\AppData\\Local\\Programs\\Python\\Python312\\Lib\\site-packages\\numpy\\lib\\function_base.py:2897: RuntimeWarning: invalid value encountered in divide\n",
      "  c /= stddev[:, None]\n",
      "c:\\Users\\Lenovo\\AppData\\Local\\Programs\\Python\\Python312\\Lib\\site-packages\\numpy\\lib\\function_base.py:2898: RuntimeWarning: invalid value encountered in divide\n",
      "  c /= stddev[None, :]\n"
     ]
    },
    {
     "name": "stdout",
     "output_type": "stream",
     "text": [
      "161 - Cassandra with avg smape 139.98: \n",
      "Model Number: 162 of 279 with model SeasonalityMotif for Validation 1\n",
      "162 - SeasonalityMotif with avg smape 80.98: \n",
      "Model Number: 163 of 279 with model UnivariateMotif for Validation 1\n",
      "163 - UnivariateMotif with avg smape 79.18: \n",
      "Model Number: 164 of 279 with model SeasonalityMotif for Validation 1\n",
      "164 - SeasonalityMotif with avg smape 79.52: \n",
      "Model Number: 165 of 279 with model SeasonalityMotif for Validation 1\n",
      "165 - SeasonalityMotif with avg smape 78.58: \n",
      "Model Number: 166 of 279 with model Cassandra for Validation 1\n"
     ]
    },
    {
     "name": "stderr",
     "output_type": "stream",
     "text": [
      "c:\\Users\\Lenovo\\AppData\\Local\\Programs\\Python\\Python312\\Lib\\site-packages\\numpy\\lib\\function_base.py:2897: RuntimeWarning: invalid value encountered in divide\n",
      "  c /= stddev[:, None]\n",
      "c:\\Users\\Lenovo\\AppData\\Local\\Programs\\Python\\Python312\\Lib\\site-packages\\numpy\\lib\\function_base.py:2898: RuntimeWarning: invalid value encountered in divide\n",
      "  c /= stddev[None, :]\n"
     ]
    },
    {
     "name": "stdout",
     "output_type": "stream",
     "text": [
      "166 - Cassandra with avg smape 123.29: \n",
      "Model Number: 167 of 279 with model SeasonalityMotif for Validation 1\n",
      "167 - SeasonalityMotif with avg smape 83.32: \n",
      "Model Number: 168 of 279 with model UnivariateMotif for Validation 1\n",
      "168 - UnivariateMotif with avg smape 73.08: \n",
      "Model Number: 169 of 279 with model UnivariateMotif for Validation 1\n",
      "169 - UnivariateMotif with avg smape 71.53: \n",
      "Model Number: 170 of 279 with model UnivariateMotif for Validation 1\n",
      "📈 170 - UnivariateMotif with avg smape 58.17: \n",
      "Model Number: 171 of 279 with model GLM for Validation 1\n",
      "171 - GLM with avg smape 65.43: \n",
      "Model Number: 172 of 279 with model GLM for Validation 1\n",
      "172 - GLM with avg smape 65.4: \n",
      "Model Number: 173 of 279 with model SeasonalityMotif for Validation 1\n"
     ]
    },
    {
     "name": "stderr",
     "output_type": "stream",
     "text": [
      "c:\\Users\\Lenovo\\AppData\\Local\\Programs\\Python\\Python312\\Lib\\site-packages\\statsmodels\\genmod\\generalized_linear_model.py:308: DomainWarning: The InversePower link function does not respect the domain of the Gamma family.\n",
      "  warnings.warn((f\"The {type(family.link).__name__} link function \"\n",
      "c:\\Users\\Lenovo\\AppData\\Local\\Programs\\Python\\Python312\\Lib\\site-packages\\statsmodels\\genmod\\generalized_linear_model.py:308: DomainWarning: The InversePower link function does not respect the domain of the Gamma family.\n",
      "  warnings.warn((f\"The {type(family.link).__name__} link function \"\n",
      "c:\\Users\\Lenovo\\AppData\\Local\\Programs\\Python\\Python312\\Lib\\site-packages\\statsmodels\\genmod\\generalized_linear_model.py:308: DomainWarning: The InversePower link function does not respect the domain of the Gamma family.\n",
      "  warnings.warn((f\"The {type(family.link).__name__} link function \"\n",
      "c:\\Users\\Lenovo\\AppData\\Local\\Programs\\Python\\Python312\\Lib\\site-packages\\statsmodels\\genmod\\generalized_linear_model.py:308: DomainWarning: The InversePower link function does not respect the domain of the Gamma family.\n",
      "  warnings.warn((f\"The {type(family.link).__name__} link function \"\n",
      "c:\\Users\\Lenovo\\AppData\\Local\\Programs\\Python\\Python312\\Lib\\site-packages\\statsmodels\\genmod\\generalized_linear_model.py:308: DomainWarning: The InversePower link function does not respect the domain of the Gamma family.\n",
      "  warnings.warn((f\"The {type(family.link).__name__} link function \"\n",
      "c:\\Users\\Lenovo\\AppData\\Local\\Programs\\Python\\Python312\\Lib\\site-packages\\statsmodels\\genmod\\generalized_linear_model.py:308: DomainWarning: The InversePower link function does not respect the domain of the Gamma family.\n",
      "  warnings.warn((f\"The {type(family.link).__name__} link function \"\n",
      "c:\\Users\\Lenovo\\AppData\\Local\\Programs\\Python\\Python312\\Lib\\site-packages\\statsmodels\\genmod\\generalized_linear_model.py:308: DomainWarning: The InversePower link function does not respect the domain of the Gamma family.\n",
      "  warnings.warn((f\"The {type(family.link).__name__} link function \"\n",
      "c:\\Users\\Lenovo\\AppData\\Local\\Programs\\Python\\Python312\\Lib\\site-packages\\statsmodels\\genmod\\generalized_linear_model.py:308: DomainWarning: The InversePower link function does not respect the domain of the Gamma family.\n",
      "  warnings.warn((f\"The {type(family.link).__name__} link function \"\n",
      "c:\\Users\\Lenovo\\AppData\\Local\\Programs\\Python\\Python312\\Lib\\site-packages\\statsmodels\\genmod\\generalized_linear_model.py:308: DomainWarning: The InversePower link function does not respect the domain of the Gamma family.\n",
      "  warnings.warn((f\"The {type(family.link).__name__} link function \"\n"
     ]
    },
    {
     "name": "stdout",
     "output_type": "stream",
     "text": [
      "173 - SeasonalityMotif with avg smape 66.06: \n",
      "Model Number: 174 of 279 with model Cassandra for Validation 1\n"
     ]
    },
    {
     "name": "stderr",
     "output_type": "stream",
     "text": [
      "c:\\Users\\Lenovo\\AppData\\Local\\Programs\\Python\\Python312\\Lib\\site-packages\\numpy\\lib\\function_base.py:2897: RuntimeWarning: invalid value encountered in divide\n",
      "  c /= stddev[:, None]\n",
      "c:\\Users\\Lenovo\\AppData\\Local\\Programs\\Python\\Python312\\Lib\\site-packages\\numpy\\lib\\function_base.py:2898: RuntimeWarning: invalid value encountered in divide\n",
      "  c /= stddev[None, :]\n"
     ]
    },
    {
     "name": "stdout",
     "output_type": "stream",
     "text": [
      "174 - Cassandra with avg smape 70.34: \n",
      "Model Number: 175 of 279 with model GLM for Validation 1\n",
      "175 - GLM with avg smape 67.13: \n",
      "Model Number: 176 of 279 with model GLM for Validation 1\n",
      "176 - GLM with avg smape 67.13: \n",
      "Model Number: 177 of 279 with model SeasonalityMotif for Validation 1\n",
      "177 - SeasonalityMotif with avg smape 74.18: \n",
      "Model Number: 178 of 279 with model BallTreeMultivariateMotif for Validation 1\n"
     ]
    },
    {
     "name": "stderr",
     "output_type": "stream",
     "text": [
      "c:\\Users\\Lenovo\\AppData\\Local\\Programs\\Python\\Python312\\Lib\\site-packages\\statsmodels\\genmod\\families\\family.py:1367: ValueWarning: Negative binomial dispersion parameter alpha not set. Using default value alpha=1.0.\n",
      "  warnings.warn(\"Negative binomial dispersion parameter alpha not \"\n",
      "c:\\Users\\Lenovo\\AppData\\Local\\Programs\\Python\\Python312\\Lib\\site-packages\\statsmodels\\genmod\\families\\family.py:1367: ValueWarning: Negative binomial dispersion parameter alpha not set. Using default value alpha=1.0.\n",
      "  warnings.warn(\"Negative binomial dispersion parameter alpha not \"\n",
      "c:\\Users\\Lenovo\\AppData\\Local\\Programs\\Python\\Python312\\Lib\\site-packages\\statsmodels\\genmod\\families\\family.py:1367: ValueWarning: Negative binomial dispersion parameter alpha not set. Using default value alpha=1.0.\n",
      "  warnings.warn(\"Negative binomial dispersion parameter alpha not \"\n",
      "c:\\Users\\Lenovo\\AppData\\Local\\Programs\\Python\\Python312\\Lib\\site-packages\\statsmodels\\genmod\\families\\family.py:1367: ValueWarning: Negative binomial dispersion parameter alpha not set. Using default value alpha=1.0.\n",
      "  warnings.warn(\"Negative binomial dispersion parameter alpha not \"\n",
      "c:\\Users\\Lenovo\\AppData\\Local\\Programs\\Python\\Python312\\Lib\\site-packages\\statsmodels\\genmod\\families\\family.py:1367: ValueWarning: Negative binomial dispersion parameter alpha not set. Using default value alpha=1.0.\n",
      "  warnings.warn(\"Negative binomial dispersion parameter alpha not \"\n",
      "c:\\Users\\Lenovo\\AppData\\Local\\Programs\\Python\\Python312\\Lib\\site-packages\\statsmodels\\genmod\\families\\family.py:1367: ValueWarning: Negative binomial dispersion parameter alpha not set. Using default value alpha=1.0.\n",
      "  warnings.warn(\"Negative binomial dispersion parameter alpha not \"\n",
      "c:\\Users\\Lenovo\\AppData\\Local\\Programs\\Python\\Python312\\Lib\\site-packages\\statsmodels\\genmod\\families\\family.py:1367: ValueWarning: Negative binomial dispersion parameter alpha not set. Using default value alpha=1.0.\n",
      "  warnings.warn(\"Negative binomial dispersion parameter alpha not \"\n",
      "c:\\Users\\Lenovo\\AppData\\Local\\Programs\\Python\\Python312\\Lib\\site-packages\\statsmodels\\genmod\\families\\family.py:1367: ValueWarning: Negative binomial dispersion parameter alpha not set. Using default value alpha=1.0.\n",
      "  warnings.warn(\"Negative binomial dispersion parameter alpha not \"\n",
      "c:\\Users\\Lenovo\\AppData\\Local\\Programs\\Python\\Python312\\Lib\\site-packages\\statsmodels\\genmod\\families\\family.py:1367: ValueWarning: Negative binomial dispersion parameter alpha not set. Using default value alpha=1.0.\n",
      "  warnings.warn(\"Negative binomial dispersion parameter alpha not \"\n",
      "c:\\Users\\Lenovo\\AppData\\Local\\Programs\\Python\\Python312\\Lib\\site-packages\\statsmodels\\genmod\\families\\family.py:1367: ValueWarning: Negative binomial dispersion parameter alpha not set. Using default value alpha=1.0.\n",
      "  warnings.warn(\"Negative binomial dispersion parameter alpha not \"\n",
      "c:\\Users\\Lenovo\\AppData\\Local\\Programs\\Python\\Python312\\Lib\\site-packages\\statsmodels\\genmod\\families\\family.py:1367: ValueWarning: Negative binomial dispersion parameter alpha not set. Using default value alpha=1.0.\n",
      "  warnings.warn(\"Negative binomial dispersion parameter alpha not \"\n",
      "c:\\Users\\Lenovo\\AppData\\Local\\Programs\\Python\\Python312\\Lib\\site-packages\\statsmodels\\genmod\\families\\family.py:1367: ValueWarning: Negative binomial dispersion parameter alpha not set. Using default value alpha=1.0.\n",
      "  warnings.warn(\"Negative binomial dispersion parameter alpha not \"\n",
      "c:\\Users\\Lenovo\\AppData\\Local\\Programs\\Python\\Python312\\Lib\\site-packages\\statsmodels\\genmod\\families\\family.py:1367: ValueWarning: Negative binomial dispersion parameter alpha not set. Using default value alpha=1.0.\n",
      "  warnings.warn(\"Negative binomial dispersion parameter alpha not \"\n",
      "c:\\Users\\Lenovo\\AppData\\Local\\Programs\\Python\\Python312\\Lib\\site-packages\\statsmodels\\genmod\\families\\family.py:1367: ValueWarning: Negative binomial dispersion parameter alpha not set. Using default value alpha=1.0.\n",
      "  warnings.warn(\"Negative binomial dispersion parameter alpha not \"\n",
      "c:\\Users\\Lenovo\\AppData\\Local\\Programs\\Python\\Python312\\Lib\\site-packages\\statsmodels\\genmod\\families\\family.py:1367: ValueWarning: Negative binomial dispersion parameter alpha not set. Using default value alpha=1.0.\n",
      "  warnings.warn(\"Negative binomial dispersion parameter alpha not \"\n",
      "c:\\Users\\Lenovo\\AppData\\Local\\Programs\\Python\\Python312\\Lib\\site-packages\\statsmodels\\genmod\\families\\family.py:1367: ValueWarning: Negative binomial dispersion parameter alpha not set. Using default value alpha=1.0.\n",
      "  warnings.warn(\"Negative binomial dispersion parameter alpha not \"\n",
      "c:\\Users\\Lenovo\\AppData\\Local\\Programs\\Python\\Python312\\Lib\\site-packages\\statsmodels\\genmod\\families\\family.py:1367: ValueWarning: Negative binomial dispersion parameter alpha not set. Using default value alpha=1.0.\n",
      "  warnings.warn(\"Negative binomial dispersion parameter alpha not \"\n",
      "c:\\Users\\Lenovo\\AppData\\Local\\Programs\\Python\\Python312\\Lib\\site-packages\\statsmodels\\genmod\\families\\family.py:1367: ValueWarning: Negative binomial dispersion parameter alpha not set. Using default value alpha=1.0.\n",
      "  warnings.warn(\"Negative binomial dispersion parameter alpha not \"\n"
     ]
    },
    {
     "name": "stdout",
     "output_type": "stream",
     "text": [
      "178 - BallTreeMultivariateMotif with avg smape 141.2: \n",
      "Model Number: 179 of 279 with model SeasonalityMotif for Validation 1\n",
      "179 - SeasonalityMotif with avg smape 66.75: \n",
      "Model Number: 180 of 279 with model SeasonalityMotif for Validation 1\n",
      "180 - SeasonalityMotif with avg smape 83.34: \n",
      "Model Number: 181 of 279 with model SectionalMotif for Validation 1\n",
      "181 - SectionalMotif with avg smape 90.38: \n",
      "Model Number: 182 of 279 with model BallTreeMultivariateMotif for Validation 1\n",
      "182 - BallTreeMultivariateMotif with avg smape 64.0: \n",
      "Model Number: 183 of 279 with model MetricMotif for Validation 1\n",
      "183 - MetricMotif with avg smape 108.59: \n",
      "Model Number: 184 of 279 with model MetricMotif for Validation 1\n"
     ]
    },
    {
     "name": "stderr",
     "output_type": "stream",
     "text": [
      "c:\\Users\\Lenovo\\AppData\\Local\\Programs\\Python\\Python312\\Lib\\site-packages\\autots\\tools\\impute.py:60: RuntimeWarning: Mean of empty slice\n",
      "  arr = np.nan_to_num(arr) + np.isnan(arr) * np.nan_to_num(np.nanmean(arr, axis=0))\n",
      "c:\\Users\\Lenovo\\AppData\\Local\\Programs\\Python\\Python312\\Lib\\site-packages\\autots\\tools\\impute.py:60: RuntimeWarning: Mean of empty slice\n",
      "  arr = np.nan_to_num(arr) + np.isnan(arr) * np.nan_to_num(np.nanmean(arr, axis=0))\n"
     ]
    },
    {
     "name": "stdout",
     "output_type": "stream",
     "text": [
      "Template Eval Error: ValueError('kth(=2) out of bounds (1)') in model 184 in generation 0: MetricMotif\n",
      "Model Number: 185 of 279 with model MetricMotif for Validation 1\n",
      "Template Eval Error: ValueError('kth(=2) out of bounds (1)') in model 185 in generation 0: MetricMotif\n",
      "Model Number: 186 of 279 with model MetricMotif for Validation 1\n",
      "Template Eval Error: ValueError('kth(=2) out of bounds (1)') in model 186 in generation 0: MetricMotif\n",
      "Model Number: 187 of 279 with model Cassandra for Validation 1\n"
     ]
    },
    {
     "name": "stderr",
     "output_type": "stream",
     "text": [
      "c:\\Users\\Lenovo\\AppData\\Local\\Programs\\Python\\Python312\\Lib\\site-packages\\autots\\tools\\impute.py:60: RuntimeWarning: Mean of empty slice\n",
      "  arr = np.nan_to_num(arr) + np.isnan(arr) * np.nan_to_num(np.nanmean(arr, axis=0))\n",
      "c:\\Users\\Lenovo\\AppData\\Local\\Programs\\Python\\Python312\\Lib\\site-packages\\autots\\tools\\anomaly_utils.py:1115: FutureWarning: Downcasting object dtype arrays on .fillna, .ffill, .bfill is deprecated and will change in a future version. Call result.infer_objects(copy=False) instead. To opt-in to the future behavior, set `pd.set_option('future.no_silent_downcasting', True)`\n",
      "  result = result + temp.where(temp.isnull(), 1).fillna(0)\n",
      "c:\\Users\\Lenovo\\AppData\\Local\\Programs\\Python\\Python312\\Lib\\site-packages\\numpy\\lib\\function_base.py:2897: RuntimeWarning: invalid value encountered in divide\n",
      "  c /= stddev[:, None]\n",
      "c:\\Users\\Lenovo\\AppData\\Local\\Programs\\Python\\Python312\\Lib\\site-packages\\numpy\\lib\\function_base.py:2898: RuntimeWarning: invalid value encountered in divide\n",
      "  c /= stddev[None, :]\n"
     ]
    },
    {
     "name": "stdout",
     "output_type": "stream",
     "text": [
      "187 - Cassandra with avg smape 116.32: \n",
      "Model Number: 188 of 279 with model Cassandra for Validation 1\n",
      "188 - Cassandra with avg smape 93.35: \n",
      "Model Number: 189 of 279 with model SeasonalityMotif for Validation 1\n",
      "189 - SeasonalityMotif with avg smape 68.34: \n",
      "Model Number: 190 of 279 with model BallTreeMultivariateMotif for Validation 1\n",
      "190 - BallTreeMultivariateMotif with avg smape 68.05: \n",
      "Model Number: 191 of 279 with model ConstantNaive for Validation 1\n"
     ]
    },
    {
     "name": "stderr",
     "output_type": "stream",
     "text": [
      "c:\\Users\\Lenovo\\AppData\\Local\\Programs\\Python\\Python312\\Lib\\site-packages\\numpy\\lib\\function_base.py:2897: RuntimeWarning: invalid value encountered in divide\n",
      "  c /= stddev[:, None]\n",
      "c:\\Users\\Lenovo\\AppData\\Local\\Programs\\Python\\Python312\\Lib\\site-packages\\numpy\\lib\\function_base.py:2898: RuntimeWarning: invalid value encountered in divide\n",
      "  c /= stddev[None, :]\n"
     ]
    },
    {
     "name": "stdout",
     "output_type": "stream",
     "text": [
      "191 - ConstantNaive with avg smape 59.68: \n",
      "Model Number: 192 of 279 with model Cassandra for Validation 1\n",
      "192 - Cassandra with avg smape 137.84: \n",
      "Model Number: 193 of 279 with model SectionalMotif for Validation 1\n",
      "193 - SectionalMotif with avg smape 64.68: \n",
      "Model Number: 194 of 279 with model ConstantNaive for Validation 1\n",
      "194 - ConstantNaive with avg smape 63.58: \n",
      "Model Number: 195 of 279 with model ConstantNaive for Validation 1\n",
      "195 - ConstantNaive with avg smape 63.58: \n",
      "Model Number: 196 of 279 with model ConstantNaive for Validation 1\n",
      "196 - ConstantNaive with avg smape 63.69: \n",
      "Model Number: 197 of 279 with model MetricMotif for Validation 1\n",
      "197 - MetricMotif with avg smape 73.66: \n",
      "Model Number: 198 of 279 with model MetricMotif for Validation 1\n",
      "198 - MetricMotif with avg smape 86.5: \n",
      "Model Number: 199 of 279 with model BallTreeMultivariateMotif for Validation 1\n",
      "199 - BallTreeMultivariateMotif with avg smape 63.48: \n",
      "Model Number: 200 of 279 with model SectionalMotif for Validation 1\n",
      "200 - SectionalMotif with avg smape 79.37: \n",
      "Model Number: 201 of 279 with model SeasonalityMotif for Validation 1\n",
      "201 - SeasonalityMotif with avg smape 76.34: \n",
      "Model Number: 202 of 279 with model MetricMotif for Validation 1\n",
      "202 - MetricMotif with avg smape 64.83: \n",
      "Model Number: 203 of 279 with model BallTreeMultivariateMotif for Validation 1\n",
      "203 - BallTreeMultivariateMotif with avg smape 71.29: \n",
      "Model Number: 204 of 279 with model MetricMotif for Validation 1\n",
      "204 - MetricMotif with avg smape 84.2: \n",
      "Model Number: 205 of 279 with model ConstantNaive for Validation 1\n",
      "205 - ConstantNaive with avg smape 66.57: \n",
      "Model Number: 206 of 279 with model ConstantNaive for Validation 1\n",
      "206 - ConstantNaive with avg smape 66.57: \n",
      "Model Number: 207 of 279 with model ConstantNaive for Validation 1\n",
      "207 - ConstantNaive with avg smape 67.48: \n",
      "Model Number: 208 of 279 with model ConstantNaive for Validation 1\n",
      "208 - ConstantNaive with avg smape 67.41: \n",
      "Model Number: 209 of 279 with model ConstantNaive for Validation 1\n",
      "209 - ConstantNaive with avg smape 67.7: \n",
      "Model Number: 210 of 279 with model ConstantNaive for Validation 1\n",
      "210 - ConstantNaive with avg smape 67.7: \n",
      "Model Number: 211 of 279 with model ConstantNaive for Validation 1\n",
      "211 - ConstantNaive with avg smape 67.7: \n",
      "Model Number: 212 of 279 with model BallTreeMultivariateMotif for Validation 1\n",
      "212 - BallTreeMultivariateMotif with avg smape 92.13: \n",
      "Model Number: 213 of 279 with model ConstantNaive for Validation 1\n",
      "213 - ConstantNaive with avg smape 130.51: \n",
      "Model Number: 214 of 279 with model BallTreeMultivariateMotif for Validation 1\n",
      "214 - BallTreeMultivariateMotif with avg smape 117.29: \n",
      "Model Number: 215 of 279 with model SectionalMotif for Validation 1\n",
      "215 - SectionalMotif with avg smape 88.66: \n",
      "Model Number: 216 of 279 with model SectionalMotif for Validation 1\n",
      "216 - SectionalMotif with avg smape 71.48: \n",
      "Model Number: 217 of 279 with model BallTreeMultivariateMotif for Validation 1\n",
      "217 - BallTreeMultivariateMotif with avg smape 88.85: \n",
      "Model Number: 218 of 279 with model MetricMotif for Validation 1\n",
      "218 - MetricMotif with avg smape 72.62: \n",
      "Model Number: 219 of 279 with model NVAR for Validation 1\n",
      "Template Eval Error: Exception('Transformer RobustScaler failed on inverse from params fake_date {\\'0\\': {}, \\'1\\': {\\'window\\': 100}, \\'2\\': {\\'part\\': \\'trend\\', \\'lamb\\': 129600}, \\'3\\': {\\'output_distribution\\': \\'normal\\', \\'n_quantiles\\': 7}, \\'4\\': {}} with ValueError(\"Input contains infinity or a value too large for dtype(\\'float64\\').\")') in model 219 in generation 0: NVAR\n",
      "Model Number: 220 of 279 with model NVAR for Validation 1\n",
      "220 - NVAR with avg smape 71.18: \n",
      "Model Number: 221 of 279 with model MetricMotif for Validation 1\n",
      "221 - MetricMotif with avg smape 109.32: \n",
      "Model Number: 222 of 279 with model MetricMotif for Validation 1\n",
      "222 - MetricMotif with avg smape 109.32: \n",
      "Model Number: 223 of 279 with model BallTreeMultivariateMotif for Validation 1\n",
      "223 - BallTreeMultivariateMotif with avg smape 103.35: \n",
      "Model Number: 224 of 279 with model BallTreeMultivariateMotif for Validation 1\n",
      "224 - BallTreeMultivariateMotif with avg smape 74.43: \n",
      "Model Number: 225 of 279 with model BallTreeMultivariateMotif for Validation 1\n",
      "225 - BallTreeMultivariateMotif with avg smape 70.24: \n",
      "Model Number: 226 of 279 with model SectionalMotif for Validation 1\n",
      "226 - SectionalMotif with avg smape 75.88: \n",
      "Model Number: 227 of 279 with model SectionalMotif for Validation 1\n",
      "227 - SectionalMotif with avg smape 88.04: \n",
      "Model Number: 228 of 279 with model SeasonalityMotif for Validation 1\n",
      "228 - SeasonalityMotif with avg smape 64.97: \n",
      "Model Number: 229 of 279 with model SectionalMotif for Validation 1\n",
      "229 - SectionalMotif with avg smape 74.41: \n",
      "Model Number: 230 of 279 with model WindowRegression for Validation 1\n",
      "230 - WindowRegression with avg smape 94.15: \n",
      "Model Number: 231 of 279 with model SeasonalityMotif for Validation 1\n",
      "231 - SeasonalityMotif with avg smape 64.98: \n",
      "Model Number: 232 of 279 with model SectionalMotif for Validation 1\n",
      "232 - SectionalMotif with avg smape 86.79: \n",
      "Model Number: 233 of 279 with model SectionalMotif for Validation 1\n",
      "233 - SectionalMotif with avg smape 87.41: \n",
      "Model Number: 234 of 279 with model SectionalMotif for Validation 1\n",
      "234 - SectionalMotif with avg smape 82.0: \n",
      "Model Number: 235 of 279 with model WindowRegression for Validation 1\n",
      "235 - WindowRegression with avg smape 81.69: \n",
      "Model Number: 236 of 279 with model SectionalMotif for Validation 1\n",
      "236 - SectionalMotif with avg smape 74.53: \n",
      "Model Number: 237 of 279 with model WindowRegression for Validation 1\n",
      "237 - WindowRegression with avg smape 65.38: \n",
      "Model Number: 238 of 279 with model SectionalMotif for Validation 1\n",
      "238 - SectionalMotif with avg smape 106.23: \n",
      "Model Number: 239 of 279 with model WindowRegression for Validation 1\n",
      "239 - WindowRegression with avg smape 108.08: \n",
      "Model Number: 240 of 279 with model WindowRegression for Validation 1\n",
      "240 - WindowRegression with avg smape 79.34: \n",
      "Model Number: 241 of 279 with model WindowRegression for Validation 1\n",
      "241 - WindowRegression with avg smape 101.17: \n",
      "Model Number: 242 of 279 with model NVAR for Validation 1\n",
      "242 - NVAR with avg smape 114.25: \n",
      "Model Number: 243 of 279 with model NVAR for Validation 1\n",
      "243 - NVAR with avg smape 137.7: \n",
      "Model Number: 244 of 279 with model NVAR for Validation 1\n",
      "244 - NVAR with avg smape 99.52: \n",
      "Model Number: 245 of 279 with model WindowRegression for Validation 1\n",
      "245 - WindowRegression with avg smape 102.06: \n",
      "Model Number: 246 of 279 with model WindowRegression for Validation 1\n",
      "246 - WindowRegression with avg smape 139.53: \n",
      "Model Number: 247 of 279 with model VECM for Validation 1\n",
      "247 - VECM with avg smape 200.0: \n",
      "Model Number: 248 of 279 with model VECM for Validation 1\n"
     ]
    },
    {
     "name": "stderr",
     "output_type": "stream",
     "text": [
      "c:\\Users\\Lenovo\\AppData\\Local\\Programs\\Python\\Python312\\Lib\\site-packages\\sklearn\\neural_network\\_multilayer_perceptron.py:545: ConvergenceWarning: lbfgs failed to converge (status=1):\n",
      "STOP: TOTAL NO. of ITERATIONS REACHED LIMIT.\n",
      "\n",
      "Increase the number of iterations (max_iter) or scale the data as shown in:\n",
      "    https://scikit-learn.org/stable/modules/preprocessing.html\n",
      "  self.n_iter_ = _check_optimize_result(\"lbfgs\", opt_res, self.max_iter)\n"
     ]
    },
    {
     "name": "stdout",
     "output_type": "stream",
     "text": [
      "248 - VECM with avg smape 138.7: \n",
      "Model Number: 249 of 279 with model MAR for Validation 1\n",
      "249 - MAR with avg smape 195.1: \n",
      "Model Number: 250 of 279 with model NVAR for Validation 1\n",
      "250 - NVAR with avg smape 198.54: \n",
      "Model Number: 251 of 279 with model VECM for Validation 1\n",
      "251 - VECM with avg smape 182.47: \n",
      "Model Number: 252 of 279 with model WindowRegression for Validation 1\n",
      "252 - WindowRegression with avg smape 132.13: \n",
      "Model Number: 253 of 279 with model VECM for Validation 1\n",
      "253 - VECM with avg smape 187.19: \n",
      "Model Number: 254 of 279 with model VECM for Validation 1\n",
      "254 - VECM with avg smape 199.82: \n",
      "Model Number: 255 of 279 with model VECM for Validation 1\n",
      "255 - VECM with avg smape 144.74: \n",
      "Model Number: 256 of 279 with model MAR for Validation 1\n",
      "256 - MAR with avg smape 185.68: \n",
      "Model Number: 257 of 279 with model MAR for Validation 1\n",
      "257 - MAR with avg smape 193.15: \n",
      "Model Number: 258 of 279 with model VECM for Validation 1\n",
      "258 - VECM with avg smape 200.0: \n",
      "Model Number: 259 of 279 with model VECM for Validation 1\n",
      "259 - VECM with avg smape 185.52: \n",
      "Model Number: 260 of 279 with model VECM for Validation 1\n",
      "Template Eval Error: UFuncTypeError(<ufunc 'add'>, 'same_kind', dtype('complex128'), dtype('float64'), 2) in model 260 in generation 0: VECM\n",
      "Model Number: 261 of 279 with model VECM for Validation 1\n",
      "261 - VECM with avg smape 200.0: \n",
      "Model Number: 262 of 279 with model VECM for Validation 1\n",
      "262 - VECM with avg smape 186.04: \n",
      "Model Number: 263 of 279 with model DatepartRegression for Validation 1\n",
      "263 - DatepartRegression with avg smape 72.73: \n",
      "Model Number: 264 of 279 with model FFT for Validation 1\n"
     ]
    },
    {
     "name": "stderr",
     "output_type": "stream",
     "text": [
      "c:\\Users\\Lenovo\\AppData\\Local\\Programs\\Python\\Python312\\Lib\\site-packages\\statsmodels\\tsa\\vector_ar\\vecm.py:1710: ComplexWarning: Casting complex values to real discards the imaginary part\n",
      "  A[0] = pi + np.identity(K)\n",
      "c:\\Users\\Lenovo\\AppData\\Local\\Programs\\Python\\Python312\\Lib\\site-packages\\sklearn\\svm\\_base.py:1235: ConvergenceWarning: Liblinear failed to converge, increase the number of iterations.\n",
      "  warnings.warn(\n",
      "c:\\Users\\Lenovo\\AppData\\Local\\Programs\\Python\\Python312\\Lib\\site-packages\\sklearn\\svm\\_base.py:1235: ConvergenceWarning: Liblinear failed to converge, increase the number of iterations.\n",
      "  warnings.warn(\n",
      "c:\\Users\\Lenovo\\AppData\\Local\\Programs\\Python\\Python312\\Lib\\site-packages\\sklearn\\svm\\_base.py:1235: ConvergenceWarning: Liblinear failed to converge, increase the number of iterations.\n",
      "  warnings.warn(\n",
      "c:\\Users\\Lenovo\\AppData\\Local\\Programs\\Python\\Python312\\Lib\\site-packages\\sklearn\\svm\\_base.py:1235: ConvergenceWarning: Liblinear failed to converge, increase the number of iterations.\n",
      "  warnings.warn(\n",
      "c:\\Users\\Lenovo\\AppData\\Local\\Programs\\Python\\Python312\\Lib\\site-packages\\sklearn\\svm\\_base.py:1235: ConvergenceWarning: Liblinear failed to converge, increase the number of iterations.\n",
      "  warnings.warn(\n",
      "c:\\Users\\Lenovo\\AppData\\Local\\Programs\\Python\\Python312\\Lib\\site-packages\\sklearn\\svm\\_base.py:1235: ConvergenceWarning: Liblinear failed to converge, increase the number of iterations.\n",
      "  warnings.warn(\n",
      "c:\\Users\\Lenovo\\AppData\\Local\\Programs\\Python\\Python312\\Lib\\site-packages\\sklearn\\svm\\_base.py:1235: ConvergenceWarning: Liblinear failed to converge, increase the number of iterations.\n",
      "  warnings.warn(\n",
      "c:\\Users\\Lenovo\\AppData\\Local\\Programs\\Python\\Python312\\Lib\\site-packages\\sklearn\\svm\\_base.py:1235: ConvergenceWarning: Liblinear failed to converge, increase the number of iterations.\n",
      "  warnings.warn(\n",
      "c:\\Users\\Lenovo\\AppData\\Local\\Programs\\Python\\Python312\\Lib\\site-packages\\sklearn\\svm\\_base.py:1235: ConvergenceWarning: Liblinear failed to converge, increase the number of iterations.\n",
      "  warnings.warn(\n"
     ]
    },
    {
     "name": "stdout",
     "output_type": "stream",
     "text": [
      "264 - FFT with avg smape 71.44: \n",
      "Model Number: 265 of 279 with model KalmanStateSpace for Validation 1\n",
      "265 - KalmanStateSpace with avg smape 62.95: \n",
      "Model Number: 266 of 279 with model FFT for Validation 1\n",
      "266 - FFT with avg smape 70.11: \n",
      "Model Number: 267 of 279 with model FFT for Validation 1\n",
      "267 - FFT with avg smape 69.22: \n",
      "Model Number: 268 of 279 with model FFT for Validation 1\n",
      "268 - FFT with avg smape 76.53: \n",
      "Model Number: 269 of 279 with model FFT for Validation 1\n",
      "269 - FFT with avg smape 66.31: \n",
      "Model Number: 270 of 279 with model SeasonalNaive for Validation 1\n",
      "270 - SeasonalNaive with avg smape 76.16: \n",
      "Model Number: 271 of 279 with model FFT for Validation 1\n",
      "271 - FFT with avg smape 84.17: \n",
      "Model Number: 272 of 279 with model MetricMotif for Validation 1\n",
      "272 - MetricMotif with avg smape 75.37: \n",
      "Model Number: 273 of 279 with model FFT for Validation 1\n",
      "273 - FFT with avg smape 107.77: \n",
      "Model Number: 274 of 279 with model FFT for Validation 1\n",
      "274 - FFT with avg smape 63.36: \n",
      "Model Number: 275 of 279 with model FFT for Validation 1\n",
      "275 - FFT with avg smape 91.83: \n",
      "Model Number: 276 of 279 with model BallTreeMultivariateMotif for Validation 1\n",
      "276 - BallTreeMultivariateMotif with avg smape 69.23: \n",
      "Model Number: 277 of 279 with model FFT for Validation 1\n",
      "277 - FFT with avg smape 72.13: \n",
      "Model Number: 278 of 279 with model FFT for Validation 1\n",
      "278 - FFT with avg smape 102.78: \n",
      "Model Number: 279 of 279 with model SeasonalNaive for Validation 1\n",
      "279 - SeasonalNaive with avg smape 70.08: \n",
      "Validation Round: 2\n",
      "Model Number: 1 of 279 with model Ensemble for Validation 2\n",
      "📈 1 - Ensemble with avg smape 103.37: \n",
      "Model Number: 2 of 279 with model Ensemble for Validation 2\n",
      "2 - Ensemble with avg smape 106.25: \n",
      "Model Number: 3 of 279 with model Ensemble for Validation 2\n",
      "Traceback (most recent call last):\n",
      "  File \"c:\\Users\\Lenovo\\AppData\\Local\\Programs\\Python\\Python312\\Lib\\site-packages\\autots\\evaluator\\auto_model.py\", line 1386, in model_forecast\n",
      "    df_forecast = model_forecast(\n",
      "                  ^^^^^^^^^^^^^^^\n",
      "  File \"c:\\Users\\Lenovo\\AppData\\Local\\Programs\\Python\\Python312\\Lib\\site-packages\\autots\\evaluator\\auto_model.py\", line 1494, in model_forecast\n",
      "    return model.predict(\n",
      "           ^^^^^^^^^^^^^^\n",
      "  File \"c:\\Users\\Lenovo\\AppData\\Local\\Programs\\Python\\Python312\\Lib\\site-packages\\autots\\evaluator\\auto_model.py\", line 879, in predict\n",
      "    df_forecast = self.model.predict(\n",
      "                  ^^^^^^^^^^^^^^^^^^^\n",
      "  File \"c:\\Users\\Lenovo\\AppData\\Local\\Programs\\Python\\Python312\\Lib\\site-packages\\autots\\models\\basics.py\", line 1300, in predict\n",
      "    looped_motif(\n",
      "  File \"c:\\Users\\Lenovo\\AppData\\Local\\Programs\\Python\\Python312\\Lib\\site-packages\\autots\\models\\basics.py\", line 1142, in looped_motif\n",
      "    results = y[idx]\n",
      "              ~^^^^^\n",
      "IndexError: index 3 is out of bounds for axis 0 with size 3\n",
      "\n",
      "FAILED: Ensemble BestN component 3 of 3 UnivariateMotif with error: IndexError('index 3 is out of bounds for axis 0 with size 3')\n",
      "3 - Ensemble with avg smape 109.83: \n",
      "Model Number: 4 of 279 with model Ensemble for Validation 2\n",
      "4 - Ensemble with avg smape 118.32: \n",
      "Model Number: 5 of 279 with model Ensemble for Validation 2\n",
      "5 - Ensemble with avg smape 112.28: \n",
      "Model Number: 6 of 279 with model Ensemble for Validation 2\n",
      "6 - Ensemble with avg smape 132.92: \n",
      "Model Number: 7 of 279 with model FFT for Validation 2\n",
      "7 - FFT with avg smape 118.15: \n",
      "Model Number: 8 of 279 with model Ensemble for Validation 2\n",
      "8 - Ensemble with avg smape 118.15: \n",
      "Model Number: 9 of 279 with model FFT for Validation 2\n",
      "9 - FFT with avg smape 118.15: \n",
      "Model Number: 10 of 279 with model Ensemble for Validation 2\n",
      "10 - Ensemble with avg smape 118.15: \n",
      "Model Number: 11 of 279 with model FFT for Validation 2\n",
      "11 - FFT with avg smape 118.15: \n",
      "Model Number: 12 of 279 with model FFT for Validation 2\n",
      "12 - FFT with avg smape 118.15: \n",
      "Model Number: 13 of 279 with model FFT for Validation 2\n",
      "13 - FFT with avg smape 118.15: \n",
      "Model Number: 14 of 279 with model FFT for Validation 2\n",
      "14 - FFT with avg smape 118.15: \n",
      "Model Number: 15 of 279 with model SeasonalNaive for Validation 2\n",
      "15 - SeasonalNaive with avg smape 134.78: \n",
      "Model Number: 16 of 279 with model SeasonalNaive for Validation 2\n",
      "16 - SeasonalNaive with avg smape 134.78: \n",
      "Model Number: 17 of 279 with model Ensemble for Validation 2\n",
      "📈 17 - Ensemble with avg smape 97.28: \n",
      "Model Number: 18 of 279 with model SeasonalNaive for Validation 2\n",
      "18 - SeasonalNaive with avg smape 97.65: \n",
      "Model Number: 19 of 279 with model SeasonalNaive for Validation 2\n",
      "19 - SeasonalNaive with avg smape 97.65: \n",
      "Model Number: 20 of 279 with model ETS for Validation 2\n",
      "20 - ETS with avg smape 110.38: \n",
      "Model Number: 21 of 279 with model SeasonalNaive for Validation 2\n",
      "21 - SeasonalNaive with avg smape 111.45: \n",
      "Model Number: 22 of 279 with model FFT for Validation 2\n",
      "22 - FFT with avg smape 145.09: \n",
      "Model Number: 23 of 279 with model FFT for Validation 2\n",
      "23 - FFT with avg smape 145.09: \n",
      "Model Number: 24 of 279 with model FFT for Validation 2\n",
      "24 - FFT with avg smape 145.09: \n",
      "Model Number: 25 of 279 with model FFT for Validation 2\n",
      "25 - FFT with avg smape 145.09: \n",
      "Model Number: 26 of 279 with model FFT for Validation 2\n",
      "26 - FFT with avg smape 145.09: \n",
      "Model Number: 27 of 279 with model FFT for Validation 2\n",
      "27 - FFT with avg smape 145.09: \n",
      "Model Number: 28 of 279 with model FFT for Validation 2\n",
      "28 - FFT with avg smape 145.09: \n",
      "Model Number: 29 of 279 with model Ensemble for Validation 2\n",
      "29 - Ensemble with avg smape 138.83: \n",
      "Model Number: 30 of 279 with model ETS for Validation 2\n",
      "30 - ETS with avg smape 109.35: \n",
      "Model Number: 31 of 279 with model Ensemble for Validation 2\n",
      "31 - Ensemble with avg smape 128.5: \n",
      "Model Number: 32 of 279 with model SeasonalNaive for Validation 2\n",
      "32 - SeasonalNaive with avg smape 126.87: \n",
      "Model Number: 33 of 279 with model ETS for Validation 2\n",
      "33 - ETS with avg smape 109.94: \n",
      "Model Number: 34 of 279 with model ETS for Validation 2\n",
      "34 - ETS with avg smape 109.94: \n",
      "Model Number: 35 of 279 with model SeasonalNaive for Validation 2\n",
      "35 - SeasonalNaive with avg smape 110.98: \n",
      "Model Number: 36 of 279 with model SeasonalNaive for Validation 2\n",
      "36 - SeasonalNaive with avg smape 110.98: \n",
      "Model Number: 37 of 279 with model SeasonalNaive for Validation 2\n",
      "37 - SeasonalNaive with avg smape 110.98: \n",
      "Model Number: 38 of 279 with model SeasonalNaive for Validation 2\n",
      "38 - SeasonalNaive with avg smape 110.98: \n",
      "Model Number: 39 of 279 with model ETS for Validation 2\n",
      "39 - ETS with avg smape 120.48: \n",
      "Model Number: 40 of 279 with model ETS for Validation 2\n",
      "40 - ETS with avg smape 120.48: \n",
      "Model Number: 41 of 279 with model ETS for Validation 2\n",
      "41 - ETS with avg smape 120.48: \n",
      "Model Number: 42 of 279 with model ETS for Validation 2\n",
      "42 - ETS with avg smape 109.87: \n",
      "Model Number: 43 of 279 with model ETS for Validation 2\n",
      "43 - ETS with avg smape 109.87: \n",
      "Model Number: 44 of 279 with model ETS for Validation 2\n",
      "44 - ETS with avg smape 148.95: \n",
      "Model Number: 45 of 279 with model ETS for Validation 2\n",
      "45 - ETS with avg smape 148.95: \n",
      "Model Number: 46 of 279 with model AverageValueNaive for Validation 2\n",
      "46 - AverageValueNaive with avg smape 154.24: \n",
      "Model Number: 47 of 279 with model SeasonalNaive for Validation 2\n",
      "47 - SeasonalNaive with avg smape 111.49: \n",
      "Model Number: 48 of 279 with model SeasonalNaive for Validation 2\n",
      "48 - SeasonalNaive with avg smape 111.49: \n",
      "Model Number: 49 of 279 with model SeasonalNaive for Validation 2\n",
      "49 - SeasonalNaive with avg smape 133.59: \n",
      "Model Number: 50 of 279 with model ETS for Validation 2\n",
      "50 - ETS with avg smape 121.76: \n",
      "Model Number: 51 of 279 with model ETS for Validation 2\n",
      "51 - ETS with avg smape 132.71: \n",
      "Model Number: 52 of 279 with model KalmanStateSpace for Validation 2\n",
      "52 - KalmanStateSpace with avg smape 146.8: \n",
      "Model Number: 53 of 279 with model UnivariateMotif for Validation 2\n",
      "Template Eval Error: IndexError('index 3 is out of bounds for axis 0 with size 3') in model 53 in generation 0: UnivariateMotif\n",
      "Model Number: 54 of 279 with model UnivariateMotif for Validation 2\n",
      "Template Eval Error: IndexError('index 3 is out of bounds for axis 0 with size 3') in model 54 in generation 0: UnivariateMotif\n",
      "Model Number: 55 of 279 with model RRVAR for Validation 2\n",
      "55 - RRVAR with avg smape 145.09: \n",
      "Model Number: 56 of 279 with model RRVAR for Validation 2\n",
      "56 - RRVAR with avg smape 158.22: \n",
      "Model Number: 57 of 279 with model AverageValueNaive for Validation 2\n",
      "57 - AverageValueNaive with avg smape 116.83: \n",
      "Model Number: 58 of 279 with model DatepartRegression for Validation 2\n",
      "58 - DatepartRegression with avg smape 119.26: \n",
      "Model Number: 59 of 279 with model RRVAR for Validation 2\n",
      "59 - RRVAR with avg smape 158.49: \n",
      "Model Number: 60 of 279 with model RRVAR for Validation 2\n",
      "60 - RRVAR with avg smape 158.49: \n",
      "Model Number: 61 of 279 with model RRVAR for Validation 2\n",
      "61 - RRVAR with avg smape 158.49: \n",
      "Model Number: 62 of 279 with model RRVAR for Validation 2\n",
      "62 - RRVAR with avg smape 158.49: \n",
      "Model Number: 63 of 279 with model RRVAR for Validation 2\n",
      "63 - RRVAR with avg smape 158.49: \n",
      "Model Number: 64 of 279 with model RRVAR for Validation 2\n",
      "64 - RRVAR with avg smape 158.49: \n",
      "Model Number: 65 of 279 with model RRVAR for Validation 2\n",
      "65 - RRVAR with avg smape 158.49: \n",
      "Model Number: 66 of 279 with model RRVAR for Validation 2\n",
      "66 - RRVAR with avg smape 158.49: \n",
      "Model Number: 67 of 279 with model DatepartRegression for Validation 2\n",
      "67 - DatepartRegression with avg smape 117.9: \n",
      "Model Number: 68 of 279 with model DatepartRegression for Validation 2\n",
      "68 - DatepartRegression with avg smape 129.48: \n",
      "Model Number: 69 of 279 with model KalmanStateSpace for Validation 2\n",
      "69 - KalmanStateSpace with avg smape 136.72: \n",
      "Model Number: 70 of 279 with model KalmanStateSpace for Validation 2\n",
      "70 - KalmanStateSpace with avg smape 131.85: \n",
      "Model Number: 71 of 279 with model KalmanStateSpace for Validation 2\n",
      "71 - KalmanStateSpace with avg smape 142.76: \n",
      "Model Number: 72 of 279 with model AverageValueNaive for Validation 2\n",
      "72 - AverageValueNaive with avg smape 124.39: \n",
      "Model Number: 73 of 279 with model GLS for Validation 2\n",
      "73 - GLS with avg smape 114.09: \n",
      "Model Number: 74 of 279 with model DatepartRegression for Validation 2\n",
      "74 - DatepartRegression with avg smape 129.02: \n",
      "Model Number: 75 of 279 with model DatepartRegression for Validation 2\n",
      "75 - DatepartRegression with avg smape 129.02: \n",
      "Model Number: 76 of 279 with model DatepartRegression for Validation 2\n",
      "76 - DatepartRegression with avg smape 130.5: \n",
      "Model Number: 77 of 279 with model DatepartRegression for Validation 2\n",
      "77 - DatepartRegression with avg smape 128.39: \n",
      "Model Number: 78 of 279 with model DatepartRegression for Validation 2\n",
      "78 - DatepartRegression with avg smape 128.28: \n",
      "Model Number: 79 of 279 with model DatepartRegression for Validation 2\n",
      "79 - DatepartRegression with avg smape 114.52: \n",
      "Model Number: 80 of 279 with model DatepartRegression for Validation 2\n",
      "80 - DatepartRegression with avg smape 114.22: \n",
      "Model Number: 81 of 279 with model MetricMotif for Validation 2\n",
      "81 - MetricMotif with avg smape 119.86: \n",
      "Model Number: 82 of 279 with model MetricMotif for Validation 2\n",
      "82 - MetricMotif with avg smape 119.86: \n",
      "Model Number: 83 of 279 with model LastValueNaive for Validation 2\n",
      "83 - LastValueNaive with avg smape 154.96: \n",
      "Model Number: 84 of 279 with model LastValueNaive for Validation 2\n",
      "84 - LastValueNaive with avg smape 154.96: \n",
      "Model Number: 85 of 279 with model LastValueNaive for Validation 2\n",
      "85 - LastValueNaive with avg smape 154.96: \n",
      "Model Number: 86 of 279 with model LastValueNaive for Validation 2\n",
      "86 - LastValueNaive with avg smape 154.96: \n",
      "Model Number: 87 of 279 with model RRVAR for Validation 2\n",
      "87 - RRVAR with avg smape 127.38: \n",
      "Model Number: 88 of 279 with model GLS for Validation 2\n",
      "88 - GLS with avg smape 120.23: \n",
      "Model Number: 89 of 279 with model GLS for Validation 2\n",
      "89 - GLS with avg smape 120.23: \n",
      "Model Number: 90 of 279 with model RRVAR for Validation 2\n",
      "📈 90 - RRVAR with avg smape 89.49: \n",
      "Model Number: 91 of 279 with model RRVAR for Validation 2\n",
      "91 - RRVAR with avg smape 89.49: \n",
      "Model Number: 92 of 279 with model LastValueNaive for Validation 2\n",
      "92 - LastValueNaive with avg smape 154.96: \n",
      "Model Number: 93 of 279 with model DatepartRegression for Validation 2\n",
      "93 - DatepartRegression with avg smape 114.52: \n",
      "Model Number: 94 of 279 with model DatepartRegression for Validation 2\n",
      "94 - DatepartRegression with avg smape 114.52: \n",
      "Model Number: 95 of 279 with model AverageValueNaive for Validation 2\n",
      "95 - AverageValueNaive with avg smape 130.29: \n",
      "Model Number: 96 of 279 with model KalmanStateSpace for Validation 2\n",
      "96 - KalmanStateSpace with avg smape 137.16: \n",
      "Model Number: 97 of 279 with model KalmanStateSpace for Validation 2\n",
      "97 - KalmanStateSpace with avg smape 137.16: \n",
      "Model Number: 98 of 279 with model KalmanStateSpace for Validation 2\n",
      "98 - KalmanStateSpace with avg smape 172.63: \n",
      "Model Number: 99 of 279 with model KalmanStateSpace for Validation 2\n",
      "99 - KalmanStateSpace with avg smape 172.63: \n",
      "Model Number: 100 of 279 with model AverageValueNaive for Validation 2\n",
      "100 - AverageValueNaive with avg smape 160.71: \n",
      "Model Number: 101 of 279 with model Ensemble for Validation 2\n",
      "Traceback (most recent call last):\n",
      "  File \"c:\\Users\\Lenovo\\AppData\\Local\\Programs\\Python\\Python312\\Lib\\site-packages\\autots\\evaluator\\auto_model.py\", line 1386, in model_forecast\n",
      "    df_forecast = model_forecast(\n",
      "                  ^^^^^^^^^^^^^^^\n",
      "  File \"c:\\Users\\Lenovo\\AppData\\Local\\Programs\\Python\\Python312\\Lib\\site-packages\\autots\\evaluator\\auto_model.py\", line 1494, in model_forecast\n",
      "    return model.predict(\n",
      "           ^^^^^^^^^^^^^^\n",
      "  File \"c:\\Users\\Lenovo\\AppData\\Local\\Programs\\Python\\Python312\\Lib\\site-packages\\autots\\evaluator\\auto_model.py\", line 879, in predict\n",
      "    df_forecast = self.model.predict(\n",
      "                  ^^^^^^^^^^^^^^^^^^^\n",
      "  File \"c:\\Users\\Lenovo\\AppData\\Local\\Programs\\Python\\Python312\\Lib\\site-packages\\autots\\models\\basics.py\", line 2754, in predict\n",
      "    test, scores = seasonal_window_match(\n",
      "                   ^^^^^^^^^^^^^^^^^^^^^^\n",
      "  File \"c:\\Users\\Lenovo\\AppData\\Local\\Programs\\Python\\Python312\\Lib\\site-packages\\autots\\tools\\seasonal.py\", line 784, in seasonal_window_match\n",
      "    min_idx = np.argpartition(scores.mean(axis=1), k - 1, axis=0)[:k]\n",
      "              ^^^^^^^^^^^^^^^^^^^^^^^^^^^^^^^^^^^^^^^^^^^^^^^^^^^\n",
      "  File \"c:\\Users\\Lenovo\\AppData\\Local\\Programs\\Python\\Python312\\Lib\\site-packages\\numpy\\core\\fromnumeric.py\", line 858, in argpartition\n",
      "    return _wrapfunc(a, 'argpartition', kth, axis=axis, kind=kind, order=order)\n",
      "           ^^^^^^^^^^^^^^^^^^^^^^^^^^^^^^^^^^^^^^^^^^^^^^^^^^^^^^^^^^^^^^^^^^^^\n",
      "  File \"c:\\Users\\Lenovo\\AppData\\Local\\Programs\\Python\\Python312\\Lib\\site-packages\\numpy\\core\\fromnumeric.py\", line 59, in _wrapfunc\n",
      "    return bound(*args, **kwds)\n",
      "           ^^^^^^^^^^^^^^^^^^^^\n",
      "ValueError: kth(=4) out of bounds (3)\n",
      "\n",
      "FAILED: Ensemble BestN component 3 of 3 SeasonalityMotif with error: ValueError('kth(=4) out of bounds (3)')\n",
      "Traceback (most recent call last):\n",
      "  File \"c:\\Users\\Lenovo\\AppData\\Local\\Programs\\Python\\Python312\\Lib\\site-packages\\autots\\evaluator\\auto_model.py\", line 1386, in model_forecast\n",
      "    df_forecast = model_forecast(\n",
      "                  ^^^^^^^^^^^^^^^\n",
      "  File \"c:\\Users\\Lenovo\\AppData\\Local\\Programs\\Python\\Python312\\Lib\\site-packages\\autots\\evaluator\\auto_model.py\", line 1494, in model_forecast\n",
      "    return model.predict(\n",
      "           ^^^^^^^^^^^^^^\n",
      "  File \"c:\\Users\\Lenovo\\AppData\\Local\\Programs\\Python\\Python312\\Lib\\site-packages\\autots\\evaluator\\auto_model.py\", line 879, in predict\n",
      "    df_forecast = self.model.predict(\n",
      "                  ^^^^^^^^^^^^^^^^^^^\n",
      "  File \"c:\\Users\\Lenovo\\AppData\\Local\\Programs\\Python\\Python312\\Lib\\site-packages\\autots\\models\\basics.py\", line 1931, in predict\n",
      "    res_idx = np.argpartition(res_sum, num_top, axis=0)[0:num_top]\n",
      "              ^^^^^^^^^^^^^^^^^^^^^^^^^^^^^^^^^^^^^^^^^\n",
      "  File \"c:\\Users\\Lenovo\\AppData\\Local\\Programs\\Python\\Python312\\Lib\\site-packages\\numpy\\core\\fromnumeric.py\", line 858, in argpartition\n",
      "    return _wrapfunc(a, 'argpartition', kth, axis=axis, kind=kind, order=order)\n",
      "           ^^^^^^^^^^^^^^^^^^^^^^^^^^^^^^^^^^^^^^^^^^^^^^^^^^^^^^^^^^^^^^^^^^^^\n",
      "  File \"c:\\Users\\Lenovo\\AppData\\Local\\Programs\\Python\\Python312\\Lib\\site-packages\\numpy\\core\\fromnumeric.py\", line 59, in _wrapfunc\n",
      "    return bound(*args, **kwds)\n",
      "           ^^^^^^^^^^^^^^^^^^^^\n",
      "ValueError: kth(=10) out of bounds (8)\n",
      "\n",
      "FAILED: Ensemble BestN component 4 of 3 SectionalMotif with error: ValueError('kth(=10) out of bounds (8)')\n",
      "101 - Ensemble with avg smape 146.8: \n",
      "Model Number: 102 of 279 with model DatepartRegression for Validation 2\n",
      "102 - DatepartRegression with avg smape 123.38: \n",
      "Model Number: 103 of 279 with model KalmanStateSpace for Validation 2\n",
      "103 - KalmanStateSpace with avg smape 114.62: \n",
      "Model Number: 104 of 279 with model KalmanStateSpace for Validation 2\n",
      "104 - KalmanStateSpace with avg smape 139.27: \n",
      "Model Number: 105 of 279 with model AverageValueNaive for Validation 2\n",
      "105 - AverageValueNaive with avg smape 120.23: \n",
      "Model Number: 106 of 279 with model AverageValueNaive for Validation 2\n",
      "106 - AverageValueNaive with avg smape 120.23: \n",
      "Model Number: 107 of 279 with model LastValueNaive for Validation 2\n",
      "107 - LastValueNaive with avg smape 145.08: \n",
      "Model Number: 108 of 279 with model LastValueNaive for Validation 2\n",
      "108 - LastValueNaive with avg smape 154.96: \n",
      "Model Number: 109 of 279 with model LastValueNaive for Validation 2\n",
      "109 - LastValueNaive with avg smape 154.96: \n",
      "Model Number: 110 of 279 with model LastValueNaive for Validation 2\n",
      "110 - LastValueNaive with avg smape 154.96: \n",
      "Model Number: 111 of 279 with model LastValueNaive for Validation 2\n",
      "111 - LastValueNaive with avg smape 154.96: \n",
      "Model Number: 112 of 279 with model LastValueNaive for Validation 2\n",
      "112 - LastValueNaive with avg smape 154.96: \n",
      "Model Number: 113 of 279 with model LastValueNaive for Validation 2\n",
      "113 - LastValueNaive with avg smape 154.96: \n",
      "Model Number: 114 of 279 with model LastValueNaive for Validation 2\n",
      "114 - LastValueNaive with avg smape 154.96: \n",
      "Model Number: 115 of 279 with model KalmanStateSpace for Validation 2\n",
      "115 - KalmanStateSpace with avg smape 131.99: \n",
      "Model Number: 116 of 279 with model KalmanStateSpace for Validation 2\n",
      "116 - KalmanStateSpace with avg smape 123.02: \n",
      "Model Number: 117 of 279 with model UnivariateMotif for Validation 2\n",
      "Template Eval Error: ValueError('kth(=5) out of bounds (3)') in model 117 in generation 0: UnivariateMotif\n",
      "Model Number: 118 of 279 with model BallTreeMultivariateMotif for Validation 2\n",
      "118 - BallTreeMultivariateMotif with avg smape 133.23: \n",
      "Model Number: 119 of 279 with model UnivariateMotif for Validation 2\n",
      "119 - UnivariateMotif with avg smape 161.74: \n",
      "Model Number: 120 of 279 with model UnivariateMotif for Validation 2\n",
      "120 - UnivariateMotif with avg smape 107.51: \n",
      "Model Number: 121 of 279 with model KalmanStateSpace for Validation 2\n",
      "121 - KalmanStateSpace with avg smape 123.55: \n",
      "Model Number: 122 of 279 with model UnivariateMotif for Validation 2\n",
      "122 - UnivariateMotif with avg smape 111.49: \n",
      "Model Number: 123 of 279 with model AverageValueNaive for Validation 2\n",
      "123 - AverageValueNaive with avg smape 128.83: \n",
      "Model Number: 124 of 279 with model AverageValueNaive for Validation 2\n",
      "124 - AverageValueNaive with avg smape 128.83: \n",
      "Model Number: 125 of 279 with model AverageValueNaive for Validation 2\n",
      "125 - AverageValueNaive with avg smape 115.13: \n",
      "Model Number: 126 of 279 with model AverageValueNaive for Validation 2\n",
      "126 - AverageValueNaive with avg smape 116.19: \n",
      "Model Number: 127 of 279 with model AverageValueNaive for Validation 2\n",
      "127 - AverageValueNaive with avg smape 123.89: \n",
      "Model Number: 128 of 279 with model AverageValueNaive for Validation 2\n",
      "128 - AverageValueNaive with avg smape 123.89: \n",
      "Model Number: 129 of 279 with model SeasonalityMotif for Validation 2\n",
      "Template Eval Error: ValueError('kth(=4) out of bounds (3)') in model 129 in generation 0: SeasonalityMotif\n",
      "Model Number: 130 of 279 with model UnivariateMotif for Validation 2\n",
      "130 - UnivariateMotif with avg smape 167.27: \n",
      "Model Number: 131 of 279 with model GLM for Validation 2\n"
     ]
    },
    {
     "name": "stderr",
     "output_type": "stream",
     "text": [
      "c:\\Users\\Lenovo\\AppData\\Local\\Programs\\Python\\Python312\\Lib\\site-packages\\statsmodels\\genmod\\generalized_linear_model.py:308: DomainWarning: The InversePower link function does not respect the domain of the Gamma family.\n",
      "  warnings.warn((f\"The {type(family.link).__name__} link function \"\n",
      "c:\\Users\\Lenovo\\AppData\\Local\\Programs\\Python\\Python312\\Lib\\site-packages\\statsmodels\\genmod\\generalized_linear_model.py:308: DomainWarning: The InversePower link function does not respect the domain of the Gamma family.\n",
      "  warnings.warn((f\"The {type(family.link).__name__} link function \"\n",
      "c:\\Users\\Lenovo\\AppData\\Local\\Programs\\Python\\Python312\\Lib\\site-packages\\statsmodels\\genmod\\generalized_linear_model.py:308: DomainWarning: The InversePower link function does not respect the domain of the Gamma family.\n",
      "  warnings.warn((f\"The {type(family.link).__name__} link function \"\n",
      "c:\\Users\\Lenovo\\AppData\\Local\\Programs\\Python\\Python312\\Lib\\site-packages\\statsmodels\\genmod\\generalized_linear_model.py:308: DomainWarning: The InversePower link function does not respect the domain of the Gamma family.\n",
      "  warnings.warn((f\"The {type(family.link).__name__} link function \"\n",
      "c:\\Users\\Lenovo\\AppData\\Local\\Programs\\Python\\Python312\\Lib\\site-packages\\statsmodels\\genmod\\generalized_linear_model.py:308: DomainWarning: The InversePower link function does not respect the domain of the Gamma family.\n",
      "  warnings.warn((f\"The {type(family.link).__name__} link function \"\n",
      "c:\\Users\\Lenovo\\AppData\\Local\\Programs\\Python\\Python312\\Lib\\site-packages\\statsmodels\\genmod\\generalized_linear_model.py:308: DomainWarning: The InversePower link function does not respect the domain of the Gamma family.\n",
      "  warnings.warn((f\"The {type(family.link).__name__} link function \"\n",
      "c:\\Users\\Lenovo\\AppData\\Local\\Programs\\Python\\Python312\\Lib\\site-packages\\statsmodels\\genmod\\generalized_linear_model.py:308: DomainWarning: The InversePower link function does not respect the domain of the Gamma family.\n",
      "  warnings.warn((f\"The {type(family.link).__name__} link function \"\n",
      "c:\\Users\\Lenovo\\AppData\\Local\\Programs\\Python\\Python312\\Lib\\site-packages\\statsmodels\\genmod\\generalized_linear_model.py:308: DomainWarning: The InversePower link function does not respect the domain of the Gamma family.\n",
      "  warnings.warn((f\"The {type(family.link).__name__} link function \"\n",
      "c:\\Users\\Lenovo\\AppData\\Local\\Programs\\Python\\Python312\\Lib\\site-packages\\statsmodels\\genmod\\generalized_linear_model.py:308: DomainWarning: The InversePower link function does not respect the domain of the Gamma family.\n",
      "  warnings.warn((f\"The {type(family.link).__name__} link function \"\n",
      "c:\\Users\\Lenovo\\AppData\\Local\\Programs\\Python\\Python312\\Lib\\site-packages\\statsmodels\\genmod\\generalized_linear_model.py:308: DomainWarning: The InversePower link function does not respect the domain of the Gamma family.\n",
      "  warnings.warn((f\"The {type(family.link).__name__} link function \"\n",
      "c:\\Users\\Lenovo\\AppData\\Local\\Programs\\Python\\Python312\\Lib\\site-packages\\statsmodels\\genmod\\generalized_linear_model.py:308: DomainWarning: The InversePower link function does not respect the domain of the Gamma family.\n",
      "  warnings.warn((f\"The {type(family.link).__name__} link function \"\n"
     ]
    },
    {
     "name": "stdout",
     "output_type": "stream",
     "text": [
      "131 - GLM with avg smape 133.77: \n",
      "Model Number: 132 of 279 with model GLM for Validation 2\n"
     ]
    },
    {
     "name": "stderr",
     "output_type": "stream",
     "text": [
      "c:\\Users\\Lenovo\\AppData\\Local\\Programs\\Python\\Python312\\Lib\\site-packages\\statsmodels\\genmod\\generalized_linear_model.py:308: DomainWarning: The InversePower link function does not respect the domain of the Gamma family.\n",
      "  warnings.warn((f\"The {type(family.link).__name__} link function \"\n",
      "c:\\Users\\Lenovo\\AppData\\Local\\Programs\\Python\\Python312\\Lib\\site-packages\\statsmodels\\genmod\\generalized_linear_model.py:308: DomainWarning: The InversePower link function does not respect the domain of the Gamma family.\n",
      "  warnings.warn((f\"The {type(family.link).__name__} link function \"\n",
      "c:\\Users\\Lenovo\\AppData\\Local\\Programs\\Python\\Python312\\Lib\\site-packages\\statsmodels\\genmod\\generalized_linear_model.py:308: DomainWarning: The InversePower link function does not respect the domain of the Gamma family.\n",
      "  warnings.warn((f\"The {type(family.link).__name__} link function \"\n",
      "c:\\Users\\Lenovo\\AppData\\Local\\Programs\\Python\\Python312\\Lib\\site-packages\\statsmodels\\genmod\\generalized_linear_model.py:308: DomainWarning: The InversePower link function does not respect the domain of the Gamma family.\n",
      "  warnings.warn((f\"The {type(family.link).__name__} link function \"\n",
      "c:\\Users\\Lenovo\\AppData\\Local\\Programs\\Python\\Python312\\Lib\\site-packages\\statsmodels\\genmod\\generalized_linear_model.py:308: DomainWarning: The InversePower link function does not respect the domain of the Gamma family.\n",
      "  warnings.warn((f\"The {type(family.link).__name__} link function \"\n",
      "c:\\Users\\Lenovo\\AppData\\Local\\Programs\\Python\\Python312\\Lib\\site-packages\\statsmodels\\genmod\\generalized_linear_model.py:308: DomainWarning: The InversePower link function does not respect the domain of the Gamma family.\n",
      "  warnings.warn((f\"The {type(family.link).__name__} link function \"\n",
      "c:\\Users\\Lenovo\\AppData\\Local\\Programs\\Python\\Python312\\Lib\\site-packages\\statsmodels\\genmod\\generalized_linear_model.py:308: DomainWarning: The InversePower link function does not respect the domain of the Gamma family.\n",
      "  warnings.warn((f\"The {type(family.link).__name__} link function \"\n"
     ]
    },
    {
     "name": "stdout",
     "output_type": "stream",
     "text": [
      "132 - GLM with avg smape 133.77: \n",
      "Model Number: 133 of 279 with model Cassandra for Validation 2\n"
     ]
    },
    {
     "name": "stderr",
     "output_type": "stream",
     "text": [
      "c:\\Users\\Lenovo\\AppData\\Local\\Programs\\Python\\Python312\\Lib\\site-packages\\numpy\\lib\\function_base.py:2897: RuntimeWarning: invalid value encountered in divide\n",
      "  c /= stddev[:, None]\n",
      "c:\\Users\\Lenovo\\AppData\\Local\\Programs\\Python\\Python312\\Lib\\site-packages\\numpy\\lib\\function_base.py:2898: RuntimeWarning: invalid value encountered in divide\n",
      "  c /= stddev[None, :]\n",
      "c:\\Users\\Lenovo\\AppData\\Local\\Programs\\Python\\Python312\\Lib\\site-packages\\autots\\tools\\transform.py:5608: FutureWarning: Downcasting object dtype arrays on .fillna, .ffill, .bfill is deprecated and will change in a future version. Call result.infer_objects(copy=False) instead. To opt-in to the future behavior, set `pd.set_option('future.no_silent_downcasting', True)`\n",
      "  df = df.fillna(0)\n",
      "c:\\Users\\Lenovo\\AppData\\Local\\Programs\\Python\\Python312\\Lib\\site-packages\\autots\\tools\\transform.py:5608: FutureWarning: Downcasting object dtype arrays on .fillna, .ffill, .bfill is deprecated and will change in a future version. Call result.infer_objects(copy=False) instead. To opt-in to the future behavior, set `pd.set_option('future.no_silent_downcasting', True)`\n",
      "  df = df.fillna(0)\n"
     ]
    },
    {
     "name": "stdout",
     "output_type": "stream",
     "text": [
      "133 - Cassandra with avg smape 120.08: \n",
      "Model Number: 134 of 279 with model BallTreeMultivariateMotif for Validation 2\n",
      "134 - BallTreeMultivariateMotif with avg smape 119.94: \n",
      "Model Number: 135 of 279 with model GLM for Validation 2\n",
      "135 - GLM with avg smape 123.64: \n",
      "Model Number: 136 of 279 with model GLM for Validation 2\n",
      "136 - GLM with avg smape 123.89: \n",
      "Model Number: 137 of 279 with model GLM for Validation 2\n"
     ]
    },
    {
     "name": "stderr",
     "output_type": "stream",
     "text": [
      "c:\\Users\\Lenovo\\AppData\\Local\\Programs\\Python\\Python312\\Lib\\site-packages\\statsmodels\\genmod\\families\\links.py:198: RuntimeWarning: overflow encountered in exp\n",
      "  t = np.exp(-z)\n",
      "c:\\Users\\Lenovo\\AppData\\Local\\Programs\\Python\\Python312\\Lib\\site-packages\\statsmodels\\genmod\\families\\links.py:198: RuntimeWarning: overflow encountered in exp\n",
      "  t = np.exp(-z)\n",
      "c:\\Users\\Lenovo\\AppData\\Local\\Programs\\Python\\Python312\\Lib\\site-packages\\statsmodels\\genmod\\families\\links.py:198: RuntimeWarning: overflow encountered in exp\n",
      "  t = np.exp(-z)\n",
      "c:\\Users\\Lenovo\\AppData\\Local\\Programs\\Python\\Python312\\Lib\\site-packages\\statsmodels\\genmod\\generalized_linear_model.py:308: DomainWarning: The InversePower link function does not respect the domain of the Gamma family.\n",
      "  warnings.warn((f\"The {type(family.link).__name__} link function \"\n",
      "c:\\Users\\Lenovo\\AppData\\Local\\Programs\\Python\\Python312\\Lib\\site-packages\\statsmodels\\genmod\\generalized_linear_model.py:308: DomainWarning: The InversePower link function does not respect the domain of the Gamma family.\n",
      "  warnings.warn((f\"The {type(family.link).__name__} link function \"\n"
     ]
    },
    {
     "name": "stdout",
     "output_type": "stream",
     "text": [
      "137 - GLM with avg smape 123.89: \n",
      "Model Number: 138 of 279 with model GLM for Validation 2\n"
     ]
    },
    {
     "name": "stderr",
     "output_type": "stream",
     "text": [
      "c:\\Users\\Lenovo\\AppData\\Local\\Programs\\Python\\Python312\\Lib\\site-packages\\statsmodels\\genmod\\generalized_linear_model.py:308: DomainWarning: The InversePower link function does not respect the domain of the Gamma family.\n",
      "  warnings.warn((f\"The {type(family.link).__name__} link function \"\n",
      "c:\\Users\\Lenovo\\AppData\\Local\\Programs\\Python\\Python312\\Lib\\site-packages\\statsmodels\\genmod\\generalized_linear_model.py:308: DomainWarning: The InversePower link function does not respect the domain of the Gamma family.\n",
      "  warnings.warn((f\"The {type(family.link).__name__} link function \"\n",
      "c:\\Users\\Lenovo\\AppData\\Local\\Programs\\Python\\Python312\\Lib\\site-packages\\statsmodels\\genmod\\generalized_linear_model.py:308: DomainWarning: The InversePower link function does not respect the domain of the Gamma family.\n",
      "  warnings.warn((f\"The {type(family.link).__name__} link function \"\n",
      "c:\\Users\\Lenovo\\AppData\\Local\\Programs\\Python\\Python312\\Lib\\site-packages\\statsmodels\\genmod\\generalized_linear_model.py:308: DomainWarning: The InversePower link function does not respect the domain of the Gamma family.\n",
      "  warnings.warn((f\"The {type(family.link).__name__} link function \"\n",
      "c:\\Users\\Lenovo\\AppData\\Local\\Programs\\Python\\Python312\\Lib\\site-packages\\statsmodels\\genmod\\generalized_linear_model.py:308: DomainWarning: The InversePower link function does not respect the domain of the Gamma family.\n",
      "  warnings.warn((f\"The {type(family.link).__name__} link function \"\n",
      "c:\\Users\\Lenovo\\AppData\\Local\\Programs\\Python\\Python312\\Lib\\site-packages\\statsmodels\\genmod\\generalized_linear_model.py:308: DomainWarning: The InversePower link function does not respect the domain of the Gamma family.\n",
      "  warnings.warn((f\"The {type(family.link).__name__} link function \"\n",
      "c:\\Users\\Lenovo\\AppData\\Local\\Programs\\Python\\Python312\\Lib\\site-packages\\statsmodels\\genmod\\generalized_linear_model.py:308: DomainWarning: The InversePower link function does not respect the domain of the Gamma family.\n",
      "  warnings.warn((f\"The {type(family.link).__name__} link function \"\n"
     ]
    },
    {
     "name": "stdout",
     "output_type": "stream",
     "text": [
      "138 - GLM with avg smape 123.89: \n",
      "Model Number: 139 of 279 with model UnivariateMotif for Validation 2\n",
      "Template Eval Error: ValueError('kth(=5) out of bounds (3)') in model 139 in generation 0: UnivariateMotif\n",
      "Model Number: 140 of 279 with model ConstantNaive for Validation 2\n",
      "140 - ConstantNaive with avg smape 133.47: \n",
      "Model Number: 141 of 279 with model Cassandra for Validation 2\n",
      "141 - Cassandra with avg smape 133.62: \n",
      "Model Number: 142 of 279 with model Cassandra for Validation 2\n",
      "142 - Cassandra with avg smape 133.62: \n",
      "Model Number: 143 of 279 with model Cassandra for Validation 2\n",
      "143 - Cassandra with avg smape 133.62: \n",
      "Model Number: 144 of 279 with model Cassandra for Validation 2\n",
      "144 - Cassandra with avg smape 133.62: \n",
      "Model Number: 145 of 279 with model Cassandra for Validation 2\n",
      "145 - Cassandra with avg smape 133.62: \n",
      "Model Number: 146 of 279 with model Cassandra for Validation 2\n",
      "146 - Cassandra with avg smape 133.62: \n",
      "Model Number: 147 of 279 with model GLS for Validation 2\n",
      "147 - GLS with avg smape 141.14: \n",
      "Model Number: 148 of 279 with model GLS for Validation 2\n",
      "148 - GLS with avg smape 141.1: \n",
      "Model Number: 149 of 279 with model GLS for Validation 2\n",
      "149 - GLS with avg smape 141.14: \n",
      "Model Number: 150 of 279 with model GLS for Validation 2\n",
      "150 - GLS with avg smape 141.14: \n",
      "Model Number: 151 of 279 with model GLS for Validation 2\n",
      "151 - GLS with avg smape 141.14: \n",
      "Model Number: 152 of 279 with model GLS for Validation 2\n",
      "152 - GLS with avg smape 141.14: \n",
      "Model Number: 153 of 279 with model GLS for Validation 2\n",
      "153 - GLS with avg smape 141.14: \n",
      "Model Number: 154 of 279 with model GLS for Validation 2\n",
      "154 - GLS with avg smape 141.14: \n",
      "Model Number: 155 of 279 with model GLS for Validation 2\n",
      "155 - GLS with avg smape 141.15: \n",
      "Model Number: 156 of 279 with model GLS for Validation 2\n",
      "156 - GLS with avg smape 141.01: \n",
      "Model Number: 157 of 279 with model UnivariateMotif for Validation 2\n",
      "157 - UnivariateMotif with avg smape 121.83: \n",
      "Model Number: 158 of 279 with model GLM for Validation 2\n",
      "158 - GLM with avg smape 100.43: \n",
      "Model Number: 159 of 279 with model GLM for Validation 2\n",
      "159 - GLM with avg smape 142.61: \n",
      "Model Number: 160 of 279 with model GLM for Validation 2\n",
      "160 - GLM with avg smape 100.48: \n",
      "Model Number: 161 of 279 with model Cassandra for Validation 2\n"
     ]
    },
    {
     "name": "stderr",
     "output_type": "stream",
     "text": [
      "c:\\Users\\Lenovo\\AppData\\Local\\Programs\\Python\\Python312\\Lib\\site-packages\\statsmodels\\genmod\\families\\links.py:198: RuntimeWarning: overflow encountered in exp\n",
      "  t = np.exp(-z)\n",
      "c:\\Users\\Lenovo\\AppData\\Local\\Programs\\Python\\Python312\\Lib\\site-packages\\statsmodels\\genmod\\generalized_linear_model.py:308: DomainWarning: The InversePower link function does not respect the domain of the Gamma family.\n",
      "  warnings.warn((f\"The {type(family.link).__name__} link function \"\n",
      "c:\\Users\\Lenovo\\AppData\\Local\\Programs\\Python\\Python312\\Lib\\site-packages\\statsmodels\\genmod\\generalized_linear_model.py:308: DomainWarning: The InversePower link function does not respect the domain of the Gamma family.\n",
      "  warnings.warn((f\"The {type(family.link).__name__} link function \"\n",
      "c:\\Users\\Lenovo\\AppData\\Local\\Programs\\Python\\Python312\\Lib\\site-packages\\statsmodels\\genmod\\generalized_linear_model.py:308: DomainWarning: The InversePower link function does not respect the domain of the Gamma family.\n",
      "  warnings.warn((f\"The {type(family.link).__name__} link function \"\n",
      "c:\\Users\\Lenovo\\AppData\\Local\\Programs\\Python\\Python312\\Lib\\site-packages\\statsmodels\\genmod\\generalized_linear_model.py:308: DomainWarning: The InversePower link function does not respect the domain of the Gamma family.\n",
      "  warnings.warn((f\"The {type(family.link).__name__} link function \"\n",
      "c:\\Users\\Lenovo\\AppData\\Local\\Programs\\Python\\Python312\\Lib\\site-packages\\statsmodels\\genmod\\generalized_linear_model.py:308: DomainWarning: The InversePower link function does not respect the domain of the Gamma family.\n",
      "  warnings.warn((f\"The {type(family.link).__name__} link function \"\n",
      "c:\\Users\\Lenovo\\AppData\\Local\\Programs\\Python\\Python312\\Lib\\site-packages\\statsmodels\\genmod\\generalized_linear_model.py:308: DomainWarning: The InversePower link function does not respect the domain of the Gamma family.\n",
      "  warnings.warn((f\"The {type(family.link).__name__} link function \"\n",
      "c:\\Users\\Lenovo\\AppData\\Local\\Programs\\Python\\Python312\\Lib\\site-packages\\statsmodels\\genmod\\generalized_linear_model.py:308: DomainWarning: The InversePower link function does not respect the domain of the Gamma family.\n",
      "  warnings.warn((f\"The {type(family.link).__name__} link function \"\n",
      "c:\\Users\\Lenovo\\AppData\\Local\\Programs\\Python\\Python312\\Lib\\site-packages\\statsmodels\\genmod\\generalized_linear_model.py:308: DomainWarning: The InversePower link function does not respect the domain of the Gamma family.\n",
      "  warnings.warn((f\"The {type(family.link).__name__} link function \"\n",
      "c:\\Users\\Lenovo\\AppData\\Local\\Programs\\Python\\Python312\\Lib\\site-packages\\statsmodels\\genmod\\generalized_linear_model.py:308: DomainWarning: The InversePower link function does not respect the domain of the Gamma family.\n",
      "  warnings.warn((f\"The {type(family.link).__name__} link function \"\n",
      "c:\\Users\\Lenovo\\AppData\\Local\\Programs\\Python\\Python312\\Lib\\site-packages\\statsmodels\\genmod\\families\\links.py:198: RuntimeWarning: overflow encountered in exp\n",
      "  t = np.exp(-z)\n",
      "c:\\Users\\Lenovo\\AppData\\Local\\Programs\\Python\\Python312\\Lib\\site-packages\\numpy\\lib\\function_base.py:2897: RuntimeWarning: invalid value encountered in divide\n",
      "  c /= stddev[:, None]\n",
      "c:\\Users\\Lenovo\\AppData\\Local\\Programs\\Python\\Python312\\Lib\\site-packages\\numpy\\lib\\function_base.py:2898: RuntimeWarning: invalid value encountered in divide\n",
      "  c /= stddev[None, :]\n"
     ]
    },
    {
     "name": "stdout",
     "output_type": "stream",
     "text": [
      "161 - Cassandra with avg smape 108.03: \n",
      "Model Number: 162 of 279 with model SeasonalityMotif for Validation 2\n",
      "162 - SeasonalityMotif with avg smape 145.88: \n",
      "Model Number: 163 of 279 with model UnivariateMotif for Validation 2\n",
      "163 - UnivariateMotif with avg smape 134.23: \n",
      "Model Number: 164 of 279 with model SeasonalityMotif for Validation 2\n",
      "164 - SeasonalityMotif with avg smape 125.2: \n",
      "Model Number: 165 of 279 with model SeasonalityMotif for Validation 2\n",
      "165 - SeasonalityMotif with avg smape 126.59: \n",
      "Model Number: 166 of 279 with model Cassandra for Validation 2\n"
     ]
    },
    {
     "name": "stderr",
     "output_type": "stream",
     "text": [
      "c:\\Users\\Lenovo\\AppData\\Local\\Programs\\Python\\Python312\\Lib\\site-packages\\numpy\\lib\\function_base.py:2897: RuntimeWarning: invalid value encountered in divide\n",
      "  c /= stddev[:, None]\n",
      "c:\\Users\\Lenovo\\AppData\\Local\\Programs\\Python\\Python312\\Lib\\site-packages\\numpy\\lib\\function_base.py:2898: RuntimeWarning: invalid value encountered in divide\n",
      "  c /= stddev[None, :]\n"
     ]
    },
    {
     "name": "stdout",
     "output_type": "stream",
     "text": [
      "166 - Cassandra with avg smape 102.33: \n",
      "Model Number: 167 of 279 with model SeasonalityMotif for Validation 2\n",
      "167 - SeasonalityMotif with avg smape 109.3: \n",
      "Model Number: 168 of 279 with model UnivariateMotif for Validation 2\n",
      "168 - UnivariateMotif with avg smape 115.47: \n",
      "Model Number: 169 of 279 with model UnivariateMotif for Validation 2\n",
      "169 - UnivariateMotif with avg smape 163.73: \n",
      "Model Number: 170 of 279 with model UnivariateMotif for Validation 2\n",
      "170 - UnivariateMotif with avg smape 158.35: \n",
      "Model Number: 171 of 279 with model GLM for Validation 2\n",
      "171 - GLM with avg smape 106.32: \n",
      "Model Number: 172 of 279 with model GLM for Validation 2\n",
      "172 - GLM with avg smape 162.71: \n",
      "Model Number: 173 of 279 with model SeasonalityMotif for Validation 2\n"
     ]
    },
    {
     "name": "stderr",
     "output_type": "stream",
     "text": [
      "c:\\Users\\Lenovo\\AppData\\Local\\Programs\\Python\\Python312\\Lib\\site-packages\\statsmodels\\genmod\\generalized_linear_model.py:308: DomainWarning: The InversePower link function does not respect the domain of the Gamma family.\n",
      "  warnings.warn((f\"The {type(family.link).__name__} link function \"\n",
      "c:\\Users\\Lenovo\\AppData\\Local\\Programs\\Python\\Python312\\Lib\\site-packages\\statsmodels\\genmod\\generalized_linear_model.py:308: DomainWarning: The InversePower link function does not respect the domain of the Gamma family.\n",
      "  warnings.warn((f\"The {type(family.link).__name__} link function \"\n",
      "c:\\Users\\Lenovo\\AppData\\Local\\Programs\\Python\\Python312\\Lib\\site-packages\\statsmodels\\genmod\\generalized_linear_model.py:308: DomainWarning: The InversePower link function does not respect the domain of the Gamma family.\n",
      "  warnings.warn((f\"The {type(family.link).__name__} link function \"\n",
      "c:\\Users\\Lenovo\\AppData\\Local\\Programs\\Python\\Python312\\Lib\\site-packages\\statsmodels\\genmod\\generalized_linear_model.py:308: DomainWarning: The InversePower link function does not respect the domain of the Gamma family.\n",
      "  warnings.warn((f\"The {type(family.link).__name__} link function \"\n",
      "c:\\Users\\Lenovo\\AppData\\Local\\Programs\\Python\\Python312\\Lib\\site-packages\\statsmodels\\genmod\\generalized_linear_model.py:308: DomainWarning: The InversePower link function does not respect the domain of the Gamma family.\n",
      "  warnings.warn((f\"The {type(family.link).__name__} link function \"\n",
      "c:\\Users\\Lenovo\\AppData\\Local\\Programs\\Python\\Python312\\Lib\\site-packages\\statsmodels\\genmod\\generalized_linear_model.py:308: DomainWarning: The InversePower link function does not respect the domain of the Gamma family.\n",
      "  warnings.warn((f\"The {type(family.link).__name__} link function \"\n",
      "c:\\Users\\Lenovo\\AppData\\Local\\Programs\\Python\\Python312\\Lib\\site-packages\\statsmodels\\genmod\\generalized_linear_model.py:308: DomainWarning: The InversePower link function does not respect the domain of the Gamma family.\n",
      "  warnings.warn((f\"The {type(family.link).__name__} link function \"\n",
      "c:\\Users\\Lenovo\\AppData\\Local\\Programs\\Python\\Python312\\Lib\\site-packages\\statsmodels\\genmod\\generalized_linear_model.py:308: DomainWarning: The InversePower link function does not respect the domain of the Gamma family.\n",
      "  warnings.warn((f\"The {type(family.link).__name__} link function \"\n",
      "c:\\Users\\Lenovo\\AppData\\Local\\Programs\\Python\\Python312\\Lib\\site-packages\\statsmodels\\genmod\\generalized_linear_model.py:308: DomainWarning: The InversePower link function does not respect the domain of the Gamma family.\n",
      "  warnings.warn((f\"The {type(family.link).__name__} link function \"\n"
     ]
    },
    {
     "name": "stdout",
     "output_type": "stream",
     "text": [
      "173 - SeasonalityMotif with avg smape 121.55: \n",
      "Model Number: 174 of 279 with model Cassandra for Validation 2\n",
      "174 - Cassandra with avg smape 133.59: \n",
      "Model Number: 175 of 279 with model GLM for Validation 2\n"
     ]
    },
    {
     "name": "stderr",
     "output_type": "stream",
     "text": [
      "c:\\Users\\Lenovo\\AppData\\Local\\Programs\\Python\\Python312\\Lib\\site-packages\\numpy\\lib\\function_base.py:2897: RuntimeWarning: invalid value encountered in divide\n",
      "  c /= stddev[:, None]\n",
      "c:\\Users\\Lenovo\\AppData\\Local\\Programs\\Python\\Python312\\Lib\\site-packages\\numpy\\lib\\function_base.py:2898: RuntimeWarning: invalid value encountered in divide\n",
      "  c /= stddev[None, :]\n",
      "c:\\Users\\Lenovo\\AppData\\Local\\Programs\\Python\\Python312\\Lib\\site-packages\\statsmodels\\genmod\\families\\family.py:1367: ValueWarning: Negative binomial dispersion parameter alpha not set. Using default value alpha=1.0.\n",
      "  warnings.warn(\"Negative binomial dispersion parameter alpha not \"\n",
      "c:\\Users\\Lenovo\\AppData\\Local\\Programs\\Python\\Python312\\Lib\\site-packages\\statsmodels\\genmod\\families\\family.py:1367: ValueWarning: Negative binomial dispersion parameter alpha not set. Using default value alpha=1.0.\n",
      "  warnings.warn(\"Negative binomial dispersion parameter alpha not \"\n",
      "c:\\Users\\Lenovo\\AppData\\Local\\Programs\\Python\\Python312\\Lib\\site-packages\\statsmodels\\genmod\\families\\family.py:1367: ValueWarning: Negative binomial dispersion parameter alpha not set. Using default value alpha=1.0.\n",
      "  warnings.warn(\"Negative binomial dispersion parameter alpha not \"\n",
      "c:\\Users\\Lenovo\\AppData\\Local\\Programs\\Python\\Python312\\Lib\\site-packages\\statsmodels\\genmod\\families\\family.py:1367: ValueWarning: Negative binomial dispersion parameter alpha not set. Using default value alpha=1.0.\n",
      "  warnings.warn(\"Negative binomial dispersion parameter alpha not \"\n",
      "c:\\Users\\Lenovo\\AppData\\Local\\Programs\\Python\\Python312\\Lib\\site-packages\\statsmodels\\genmod\\families\\family.py:1367: ValueWarning: Negative binomial dispersion parameter alpha not set. Using default value alpha=1.0.\n",
      "  warnings.warn(\"Negative binomial dispersion parameter alpha not \"\n",
      "c:\\Users\\Lenovo\\AppData\\Local\\Programs\\Python\\Python312\\Lib\\site-packages\\statsmodels\\genmod\\families\\family.py:1367: ValueWarning: Negative binomial dispersion parameter alpha not set. Using default value alpha=1.0.\n",
      "  warnings.warn(\"Negative binomial dispersion parameter alpha not \"\n",
      "c:\\Users\\Lenovo\\AppData\\Local\\Programs\\Python\\Python312\\Lib\\site-packages\\statsmodels\\genmod\\families\\family.py:1367: ValueWarning: Negative binomial dispersion parameter alpha not set. Using default value alpha=1.0.\n",
      "  warnings.warn(\"Negative binomial dispersion parameter alpha not \"\n",
      "c:\\Users\\Lenovo\\AppData\\Local\\Programs\\Python\\Python312\\Lib\\site-packages\\statsmodels\\genmod\\families\\family.py:1367: ValueWarning: Negative binomial dispersion parameter alpha not set. Using default value alpha=1.0.\n",
      "  warnings.warn(\"Negative binomial dispersion parameter alpha not \"\n",
      "c:\\Users\\Lenovo\\AppData\\Local\\Programs\\Python\\Python312\\Lib\\site-packages\\statsmodels\\genmod\\families\\family.py:1367: ValueWarning: Negative binomial dispersion parameter alpha not set. Using default value alpha=1.0.\n",
      "  warnings.warn(\"Negative binomial dispersion parameter alpha not \"\n"
     ]
    },
    {
     "name": "stdout",
     "output_type": "stream",
     "text": [
      "📈 175 - GLM with avg smape 86.02: \n",
      "Model Number: 176 of 279 with model GLM for Validation 2\n",
      "176 - GLM with avg smape 86.02: \n",
      "Model Number: 177 of 279 with model SeasonalityMotif for Validation 2\n",
      "177 - SeasonalityMotif with avg smape 127.22: \n",
      "Model Number: 178 of 279 with model BallTreeMultivariateMotif for Validation 2\n",
      "178 - BallTreeMultivariateMotif with avg smape 128.38: \n",
      "Model Number: 179 of 279 with model SeasonalityMotif for Validation 2\n"
     ]
    },
    {
     "name": "stderr",
     "output_type": "stream",
     "text": [
      "c:\\Users\\Lenovo\\AppData\\Local\\Programs\\Python\\Python312\\Lib\\site-packages\\statsmodels\\genmod\\families\\family.py:1367: ValueWarning: Negative binomial dispersion parameter alpha not set. Using default value alpha=1.0.\n",
      "  warnings.warn(\"Negative binomial dispersion parameter alpha not \"\n",
      "c:\\Users\\Lenovo\\AppData\\Local\\Programs\\Python\\Python312\\Lib\\site-packages\\statsmodels\\genmod\\families\\family.py:1367: ValueWarning: Negative binomial dispersion parameter alpha not set. Using default value alpha=1.0.\n",
      "  warnings.warn(\"Negative binomial dispersion parameter alpha not \"\n",
      "c:\\Users\\Lenovo\\AppData\\Local\\Programs\\Python\\Python312\\Lib\\site-packages\\statsmodels\\genmod\\families\\family.py:1367: ValueWarning: Negative binomial dispersion parameter alpha not set. Using default value alpha=1.0.\n",
      "  warnings.warn(\"Negative binomial dispersion parameter alpha not \"\n",
      "c:\\Users\\Lenovo\\AppData\\Local\\Programs\\Python\\Python312\\Lib\\site-packages\\statsmodels\\genmod\\families\\family.py:1367: ValueWarning: Negative binomial dispersion parameter alpha not set. Using default value alpha=1.0.\n",
      "  warnings.warn(\"Negative binomial dispersion parameter alpha not \"\n",
      "c:\\Users\\Lenovo\\AppData\\Local\\Programs\\Python\\Python312\\Lib\\site-packages\\statsmodels\\genmod\\families\\family.py:1367: ValueWarning: Negative binomial dispersion parameter alpha not set. Using default value alpha=1.0.\n",
      "  warnings.warn(\"Negative binomial dispersion parameter alpha not \"\n",
      "c:\\Users\\Lenovo\\AppData\\Local\\Programs\\Python\\Python312\\Lib\\site-packages\\statsmodels\\genmod\\families\\family.py:1367: ValueWarning: Negative binomial dispersion parameter alpha not set. Using default value alpha=1.0.\n",
      "  warnings.warn(\"Negative binomial dispersion parameter alpha not \"\n",
      "c:\\Users\\Lenovo\\AppData\\Local\\Programs\\Python\\Python312\\Lib\\site-packages\\statsmodels\\genmod\\families\\family.py:1367: ValueWarning: Negative binomial dispersion parameter alpha not set. Using default value alpha=1.0.\n",
      "  warnings.warn(\"Negative binomial dispersion parameter alpha not \"\n",
      "c:\\Users\\Lenovo\\AppData\\Local\\Programs\\Python\\Python312\\Lib\\site-packages\\statsmodels\\genmod\\families\\family.py:1367: ValueWarning: Negative binomial dispersion parameter alpha not set. Using default value alpha=1.0.\n",
      "  warnings.warn(\"Negative binomial dispersion parameter alpha not \"\n",
      "c:\\Users\\Lenovo\\AppData\\Local\\Programs\\Python\\Python312\\Lib\\site-packages\\statsmodels\\genmod\\families\\family.py:1367: ValueWarning: Negative binomial dispersion parameter alpha not set. Using default value alpha=1.0.\n",
      "  warnings.warn(\"Negative binomial dispersion parameter alpha not \"\n"
     ]
    },
    {
     "name": "stdout",
     "output_type": "stream",
     "text": [
      "179 - SeasonalityMotif with avg smape 136.25: \n",
      "Model Number: 180 of 279 with model SeasonalityMotif for Validation 2\n",
      "180 - SeasonalityMotif with avg smape 142.57: \n",
      "Model Number: 181 of 279 with model SectionalMotif for Validation 2\n",
      "Template Eval Error: ValueError('kth(=10) out of bounds (8)') in model 181 in generation 0: SectionalMotif\n",
      "Model Number: 182 of 279 with model BallTreeMultivariateMotif for Validation 2\n",
      "182 - BallTreeMultivariateMotif with avg smape 124.58: \n",
      "Model Number: 183 of 279 with model MetricMotif for Validation 2\n",
      "183 - MetricMotif with avg smape 162.61: \n",
      "Model Number: 184 of 279 with model MetricMotif for Validation 2\n",
      "Template Eval Error: ValueError('window shape cannot be larger than input array shape') in model 184 in generation 0: MetricMotif\n"
     ]
    },
    {
     "name": "stderr",
     "output_type": "stream",
     "text": [
      "c:\\Users\\Lenovo\\AppData\\Local\\Programs\\Python\\Python312\\Lib\\site-packages\\autots\\tools\\impute.py:60: RuntimeWarning: Mean of empty slice\n",
      "  arr = np.nan_to_num(arr) + np.isnan(arr) * np.nan_to_num(np.nanmean(arr, axis=0))\n",
      "c:\\Users\\Lenovo\\AppData\\Local\\Programs\\Python\\Python312\\Lib\\site-packages\\autots\\tools\\impute.py:60: RuntimeWarning: Mean of empty slice\n",
      "  arr = np.nan_to_num(arr) + np.isnan(arr) * np.nan_to_num(np.nanmean(arr, axis=0))\n"
     ]
    },
    {
     "name": "stdout",
     "output_type": "stream",
     "text": [
      "Model Number: 185 of 279 with model MetricMotif for Validation 2\n",
      "Template Eval Error: ValueError('window shape cannot be larger than input array shape') in model 185 in generation 0: MetricMotif\n",
      "Model Number: 186 of 279 with model MetricMotif for Validation 2\n",
      "Template Eval Error: ValueError('window shape cannot be larger than input array shape') in model 186 in generation 0: MetricMotif\n"
     ]
    },
    {
     "name": "stderr",
     "output_type": "stream",
     "text": [
      "c:\\Users\\Lenovo\\AppData\\Local\\Programs\\Python\\Python312\\Lib\\site-packages\\autots\\tools\\impute.py:60: RuntimeWarning: Mean of empty slice\n",
      "  arr = np.nan_to_num(arr) + np.isnan(arr) * np.nan_to_num(np.nanmean(arr, axis=0))\n",
      "c:\\Users\\Lenovo\\AppData\\Local\\Programs\\Python\\Python312\\Lib\\site-packages\\autots\\tools\\anomaly_utils.py:1115: FutureWarning: Downcasting object dtype arrays on .fillna, .ffill, .bfill is deprecated and will change in a future version. Call result.infer_objects(copy=False) instead. To opt-in to the future behavior, set `pd.set_option('future.no_silent_downcasting', True)`\n",
      "  result = result + temp.where(temp.isnull(), 1).fillna(0)\n",
      "c:\\Users\\Lenovo\\AppData\\Local\\Programs\\Python\\Python312\\Lib\\site-packages\\numpy\\lib\\function_base.py:2897: RuntimeWarning: invalid value encountered in divide\n",
      "  c /= stddev[:, None]\n",
      "c:\\Users\\Lenovo\\AppData\\Local\\Programs\\Python\\Python312\\Lib\\site-packages\\numpy\\lib\\function_base.py:2898: RuntimeWarning: invalid value encountered in divide\n",
      "  c /= stddev[None, :]\n"
     ]
    },
    {
     "name": "stdout",
     "output_type": "stream",
     "text": [
      "Model Number: 187 of 279 with model Cassandra for Validation 2\n",
      "187 - Cassandra with avg smape 155.53: \n",
      "Model Number: 188 of 279 with model Cassandra for Validation 2\n",
      "188 - Cassandra with avg smape 108.69: \n",
      "Model Number: 189 of 279 with model SeasonalityMotif for Validation 2\n",
      "189 - SeasonalityMotif with avg smape 113.56: \n",
      "Model Number: 190 of 279 with model BallTreeMultivariateMotif for Validation 2\n",
      "190 - BallTreeMultivariateMotif with avg smape 108.95: \n",
      "Model Number: 191 of 279 with model ConstantNaive for Validation 2\n"
     ]
    },
    {
     "name": "stderr",
     "output_type": "stream",
     "text": [
      "c:\\Users\\Lenovo\\AppData\\Local\\Programs\\Python\\Python312\\Lib\\site-packages\\numpy\\lib\\function_base.py:2897: RuntimeWarning: invalid value encountered in divide\n",
      "  c /= stddev[:, None]\n",
      "c:\\Users\\Lenovo\\AppData\\Local\\Programs\\Python\\Python312\\Lib\\site-packages\\numpy\\lib\\function_base.py:2898: RuntimeWarning: invalid value encountered in divide\n",
      "  c /= stddev[None, :]\n"
     ]
    },
    {
     "name": "stdout",
     "output_type": "stream",
     "text": [
      "📈 191 - ConstantNaive with avg smape 70.97: \n",
      "Model Number: 192 of 279 with model Cassandra for Validation 2\n",
      "Template Eval Error: ValueError('kth(=3) out of bounds (3)') in model 192 in generation 0: Cassandra\n",
      "Model Number: 193 of 279 with model SectionalMotif for Validation 2\n",
      "Template Eval Error: ValueError('kth(=10) out of bounds (8)') in model 193 in generation 0: SectionalMotif\n",
      "Model Number: 194 of 279 with model ConstantNaive for Validation 2\n",
      "194 - ConstantNaive with avg smape 123.45: \n",
      "Model Number: 195 of 279 with model ConstantNaive for Validation 2\n",
      "195 - ConstantNaive with avg smape 123.45: \n",
      "Model Number: 196 of 279 with model ConstantNaive for Validation 2\n",
      "196 - ConstantNaive with avg smape 123.89: \n",
      "Model Number: 197 of 279 with model MetricMotif for Validation 2\n",
      "197 - MetricMotif with avg smape 97.63: \n",
      "Model Number: 198 of 279 with model MetricMotif for Validation 2\n",
      "Template Eval Error: ValueError('kth(=4) out of bounds (3)') in model 198 in generation 0: MetricMotif\n",
      "Model Number: 199 of 279 with model BallTreeMultivariateMotif for Validation 2\n",
      "199 - BallTreeMultivariateMotif with avg smape 123.56: \n",
      "Model Number: 200 of 279 with model SectionalMotif for Validation 2\n",
      "Template Eval Error: ValueError('kth(=10) out of bounds (8)') in model 200 in generation 0: SectionalMotif\n",
      "Model Number: 201 of 279 with model SeasonalityMotif for Validation 2\n",
      "201 - SeasonalityMotif with avg smape 146.81: \n",
      "Model Number: 202 of 279 with model MetricMotif for Validation 2\n",
      "202 - MetricMotif with avg smape 123.12: \n",
      "Model Number: 203 of 279 with model BallTreeMultivariateMotif for Validation 2\n",
      "203 - BallTreeMultivariateMotif with avg smape 94.0: \n",
      "Model Number: 204 of 279 with model MetricMotif for Validation 2\n",
      "204 - MetricMotif with avg smape 93.06: \n",
      "Model Number: 205 of 279 with model ConstantNaive for Validation 2\n",
      "205 - ConstantNaive with avg smape 100.48: \n",
      "Model Number: 206 of 279 with model ConstantNaive for Validation 2\n",
      "206 - ConstantNaive with avg smape 100.48: \n",
      "Model Number: 207 of 279 with model ConstantNaive for Validation 2\n",
      "207 - ConstantNaive with avg smape 97.92: \n",
      "Model Number: 208 of 279 with model ConstantNaive for Validation 2\n",
      "208 - ConstantNaive with avg smape 97.86: \n",
      "Model Number: 209 of 279 with model ConstantNaive for Validation 2\n",
      "209 - ConstantNaive with avg smape 141.14: \n",
      "Model Number: 210 of 279 with model ConstantNaive for Validation 2\n",
      "210 - ConstantNaive with avg smape 141.14: \n",
      "Model Number: 211 of 279 with model ConstantNaive for Validation 2\n",
      "211 - ConstantNaive with avg smape 141.14: \n",
      "Model Number: 212 of 279 with model BallTreeMultivariateMotif for Validation 2\n",
      "212 - BallTreeMultivariateMotif with avg smape 108.31: \n",
      "Model Number: 213 of 279 with model ConstantNaive for Validation 2\n",
      "213 - ConstantNaive with avg smape 129.1: \n",
      "Model Number: 214 of 279 with model BallTreeMultivariateMotif for Validation 2\n",
      "214 - BallTreeMultivariateMotif with avg smape 158.67: \n",
      "Model Number: 215 of 279 with model SectionalMotif for Validation 2\n",
      "215 - SectionalMotif with avg smape 90.32: \n",
      "Model Number: 216 of 279 with model SectionalMotif for Validation 2\n",
      "Template Eval Error: ValueError('kth(=10) out of bounds (8)') in model 216 in generation 0: SectionalMotif\n",
      "Model Number: 217 of 279 with model BallTreeMultivariateMotif for Validation 2\n",
      "217 - BallTreeMultivariateMotif with avg smape 103.89: \n",
      "Model Number: 218 of 279 with model MetricMotif for Validation 2\n",
      "Template Eval Error: ValueError('kth(=9) out of bounds (8)') in model 218 in generation 0: MetricMotif\n",
      "Model Number: 219 of 279 with model NVAR for Validation 2\n",
      "Template Eval Error: Exception('Transformer RobustScaler failed on inverse from params fake_date {\\'0\\': {}, \\'1\\': {\\'window\\': 100}, \\'2\\': {\\'part\\': \\'trend\\', \\'lamb\\': 129600}, \\'3\\': {\\'output_distribution\\': \\'normal\\', \\'n_quantiles\\': 7}, \\'4\\': {}} with ValueError(\"Input contains infinity or a value too large for dtype(\\'float64\\').\")') in model 219 in generation 0: NVAR\n",
      "Model Number: 220 of 279 with model NVAR for Validation 2\n",
      "220 - NVAR with avg smape 175.62: \n",
      "Model Number: 221 of 279 with model MetricMotif for Validation 2\n",
      "221 - MetricMotif with avg smape 162.61: \n",
      "Model Number: 222 of 279 with model MetricMotif for Validation 2\n",
      "222 - MetricMotif with avg smape 162.61: \n",
      "Model Number: 223 of 279 with model BallTreeMultivariateMotif for Validation 2\n",
      "223 - BallTreeMultivariateMotif with avg smape 100.18: \n",
      "Model Number: 224 of 279 with model BallTreeMultivariateMotif for Validation 2\n",
      "224 - BallTreeMultivariateMotif with avg smape 95.75: \n",
      "Model Number: 225 of 279 with model BallTreeMultivariateMotif for Validation 2\n",
      "225 - BallTreeMultivariateMotif with avg smape 98.83: \n",
      "Model Number: 226 of 279 with model SectionalMotif for Validation 2\n",
      "226 - SectionalMotif with avg smape 154.09: \n",
      "Model Number: 227 of 279 with model SectionalMotif for Validation 2\n",
      "Template Eval Error: ValueError('kth(=10) out of bounds (8)') in model 227 in generation 0: SectionalMotif\n",
      "Model Number: 228 of 279 with model SeasonalityMotif for Validation 2\n",
      "228 - SeasonalityMotif with avg smape 156.94: \n",
      "Model Number: 229 of 279 with model SectionalMotif for Validation 2\n",
      "Template Eval Error: ValueError('kth(=10) out of bounds (8)') in model 229 in generation 0: SectionalMotif\n",
      "Model Number: 230 of 279 with model WindowRegression for Validation 2\n",
      "230 - WindowRegression with avg smape 124.63: \n",
      "Model Number: 231 of 279 with model SeasonalityMotif for Validation 2\n",
      "231 - SeasonalityMotif with avg smape 152.31: \n",
      "Model Number: 232 of 279 with model SectionalMotif for Validation 2\n",
      "232 - SectionalMotif with avg smape 132.47: \n",
      "Model Number: 233 of 279 with model SectionalMotif for Validation 2\n",
      "Template Eval Error: ValueError('kth(=10) out of bounds (8)') in model 233 in generation 0: SectionalMotif\n",
      "Model Number: 234 of 279 with model SectionalMotif for Validation 2\n",
      "Template Eval Error: ValueError('kth(=10) out of bounds (8)') in model 234 in generation 0: SectionalMotif\n",
      "Model Number: 235 of 279 with model WindowRegression for Validation 2\n",
      "235 - WindowRegression with avg smape 96.9: \n",
      "Model Number: 236 of 279 with model SectionalMotif for Validation 2\n",
      "Template Eval Error: ValueError('kth(=10) out of bounds (8)') in model 236 in generation 0: SectionalMotif\n",
      "Model Number: 237 of 279 with model WindowRegression for Validation 2\n",
      "237 - WindowRegression with avg smape 162.61: \n",
      "Model Number: 238 of 279 with model SectionalMotif for Validation 2\n",
      "238 - SectionalMotif with avg smape 77.8: \n",
      "Model Number: 239 of 279 with model WindowRegression for Validation 2\n",
      "239 - WindowRegression with avg smape 179.96: \n",
      "Model Number: 240 of 279 with model WindowRegression for Validation 2\n",
      "240 - WindowRegression with avg smape 178.97: \n",
      "Model Number: 241 of 279 with model WindowRegression for Validation 2\n",
      "241 - WindowRegression with avg smape 84.69: \n",
      "Model Number: 242 of 279 with model NVAR for Validation 2\n",
      "242 - NVAR with avg smape 144.57: \n",
      "Model Number: 243 of 279 with model NVAR for Validation 2\n",
      "243 - NVAR with avg smape 118.13: \n",
      "Model Number: 244 of 279 with model NVAR for Validation 2\n",
      "244 - NVAR with avg smape 153.33: \n",
      "Model Number: 245 of 279 with model WindowRegression for Validation 2\n",
      "245 - WindowRegression with avg smape 113.02: \n",
      "Model Number: 246 of 279 with model WindowRegression for Validation 2\n"
     ]
    },
    {
     "name": "stderr",
     "output_type": "stream",
     "text": [
      "c:\\Users\\Lenovo\\AppData\\Local\\Programs\\Python\\Python312\\Lib\\site-packages\\sklearn\\neural_network\\_multilayer_perceptron.py:545: ConvergenceWarning: lbfgs failed to converge (status=1):\n",
      "STOP: TOTAL NO. of ITERATIONS REACHED LIMIT.\n",
      "\n",
      "Increase the number of iterations (max_iter) or scale the data as shown in:\n",
      "    https://scikit-learn.org/stable/modules/preprocessing.html\n",
      "  self.n_iter_ = _check_optimize_result(\"lbfgs\", opt_res, self.max_iter)\n"
     ]
    },
    {
     "name": "stdout",
     "output_type": "stream",
     "text": [
      "246 - WindowRegression with avg smape 158.21: \n",
      "Model Number: 247 of 279 with model VECM for Validation 2\n",
      "Template Eval Error: UFuncTypeError(<ufunc 'add'>, 'same_kind', dtype('complex128'), dtype('float64'), 2) in model 247 in generation 0: VECM\n",
      "Model Number: 248 of 279 with model VECM for Validation 2\n"
     ]
    },
    {
     "name": "stderr",
     "output_type": "stream",
     "text": [
      "c:\\Users\\Lenovo\\AppData\\Local\\Programs\\Python\\Python312\\Lib\\site-packages\\statsmodels\\tsa\\vector_ar\\vecm.py:1710: ComplexWarning: Casting complex values to real discards the imaginary part\n",
      "  A[0] = pi + np.identity(K)\n"
     ]
    },
    {
     "name": "stdout",
     "output_type": "stream",
     "text": [
      "248 - VECM with avg smape 91.45: \n",
      "Model Number: 249 of 279 with model MAR for Validation 2\n",
      "249 - MAR with avg smape 198.7: \n",
      "Model Number: 250 of 279 with model NVAR for Validation 2\n",
      "250 - NVAR with avg smape 175.8: \n",
      "Model Number: 251 of 279 with model VECM for Validation 2\n",
      "251 - VECM with avg smape 177.62: \n",
      "Model Number: 252 of 279 with model WindowRegression for Validation 2\n",
      "252 - WindowRegression with avg smape 141.4: \n",
      "Model Number: 253 of 279 with model VECM for Validation 2\n",
      "253 - VECM with avg smape 174.28: \n",
      "Model Number: 254 of 279 with model VECM for Validation 2\n",
      "254 - VECM with avg smape 200.0: \n",
      "Model Number: 255 of 279 with model VECM for Validation 2\n",
      "255 - VECM with avg smape 171.68: \n",
      "Model Number: 256 of 279 with model MAR for Validation 2\n",
      "256 - MAR with avg smape 194.7: \n",
      "Model Number: 257 of 279 with model MAR for Validation 2\n",
      "257 - MAR with avg smape 166.09: \n",
      "Model Number: 258 of 279 with model VECM for Validation 2\n",
      "Template Eval Error: LinAlgError('Singular matrix') in model 258 in generation 0: VECM\n",
      "Model Number: 259 of 279 with model VECM for Validation 2\n",
      "259 - VECM with avg smape 200.0: \n",
      "Model Number: 260 of 279 with model VECM for Validation 2\n",
      "260 - VECM with avg smape 200.0: \n",
      "Model Number: 261 of 279 with model VECM for Validation 2\n",
      "261 - VECM with avg smape 200.0: \n",
      "Model Number: 262 of 279 with model VECM for Validation 2\n",
      "262 - VECM with avg smape 199.7: \n",
      "Model Number: 263 of 279 with model DatepartRegression for Validation 2\n",
      "263 - DatepartRegression with avg smape 110.65: \n",
      "Model Number: 264 of 279 with model FFT for Validation 2\n",
      "264 - FFT with avg smape 138.5: \n",
      "Model Number: 265 of 279 with model KalmanStateSpace for Validation 2\n"
     ]
    },
    {
     "name": "stderr",
     "output_type": "stream",
     "text": [
      "c:\\Users\\Lenovo\\AppData\\Local\\Programs\\Python\\Python312\\Lib\\site-packages\\sklearn\\svm\\_base.py:1235: ConvergenceWarning: Liblinear failed to converge, increase the number of iterations.\n",
      "  warnings.warn(\n",
      "c:\\Users\\Lenovo\\AppData\\Local\\Programs\\Python\\Python312\\Lib\\site-packages\\sklearn\\svm\\_base.py:1235: ConvergenceWarning: Liblinear failed to converge, increase the number of iterations.\n",
      "  warnings.warn(\n",
      "c:\\Users\\Lenovo\\AppData\\Local\\Programs\\Python\\Python312\\Lib\\site-packages\\sklearn\\svm\\_base.py:1235: ConvergenceWarning: Liblinear failed to converge, increase the number of iterations.\n",
      "  warnings.warn(\n",
      "c:\\Users\\Lenovo\\AppData\\Local\\Programs\\Python\\Python312\\Lib\\site-packages\\sklearn\\svm\\_base.py:1235: ConvergenceWarning: Liblinear failed to converge, increase the number of iterations.\n",
      "  warnings.warn(\n",
      "c:\\Users\\Lenovo\\AppData\\Local\\Programs\\Python\\Python312\\Lib\\site-packages\\sklearn\\svm\\_base.py:1235: ConvergenceWarning: Liblinear failed to converge, increase the number of iterations.\n",
      "  warnings.warn(\n",
      "c:\\Users\\Lenovo\\AppData\\Local\\Programs\\Python\\Python312\\Lib\\site-packages\\sklearn\\svm\\_base.py:1235: ConvergenceWarning: Liblinear failed to converge, increase the number of iterations.\n",
      "  warnings.warn(\n",
      "c:\\Users\\Lenovo\\AppData\\Local\\Programs\\Python\\Python312\\Lib\\site-packages\\sklearn\\svm\\_base.py:1235: ConvergenceWarning: Liblinear failed to converge, increase the number of iterations.\n",
      "  warnings.warn(\n",
      "c:\\Users\\Lenovo\\AppData\\Local\\Programs\\Python\\Python312\\Lib\\site-packages\\sklearn\\svm\\_base.py:1235: ConvergenceWarning: Liblinear failed to converge, increase the number of iterations.\n",
      "  warnings.warn(\n",
      "c:\\Users\\Lenovo\\AppData\\Local\\Programs\\Python\\Python312\\Lib\\site-packages\\sklearn\\svm\\_base.py:1235: ConvergenceWarning: Liblinear failed to converge, increase the number of iterations.\n",
      "  warnings.warn(\n"
     ]
    },
    {
     "name": "stdout",
     "output_type": "stream",
     "text": [
      "265 - KalmanStateSpace with avg smape 168.75: \n",
      "Model Number: 266 of 279 with model FFT for Validation 2\n",
      "266 - FFT with avg smape 155.8: \n",
      "Model Number: 267 of 279 with model FFT for Validation 2\n",
      "267 - FFT with avg smape 155.95: \n",
      "Model Number: 268 of 279 with model FFT for Validation 2\n",
      "268 - FFT with avg smape 170.21: \n",
      "Model Number: 269 of 279 with model FFT for Validation 2\n",
      "269 - FFT with avg smape 155.85: \n",
      "Model Number: 270 of 279 with model SeasonalNaive for Validation 2\n",
      "270 - SeasonalNaive with avg smape 92.72: \n",
      "Model Number: 271 of 279 with model FFT for Validation 2\n",
      "271 - FFT with avg smape 138.62: \n",
      "Model Number: 272 of 279 with model MetricMotif for Validation 2\n",
      "272 - MetricMotif with avg smape 98.34: \n",
      "Model Number: 273 of 279 with model FFT for Validation 2\n",
      "273 - FFT with avg smape 167.12: \n",
      "Model Number: 274 of 279 with model FFT for Validation 2\n",
      "274 - FFT with avg smape 165.51: \n",
      "Model Number: 275 of 279 with model FFT for Validation 2\n",
      "📈 275 - FFT with avg smape 67.04: \n",
      "Model Number: 276 of 279 with model BallTreeMultivariateMotif for Validation 2\n",
      "276 - BallTreeMultivariateMotif with avg smape 113.87: \n",
      "Model Number: 277 of 279 with model FFT for Validation 2\n",
      "277 - FFT with avg smape 145.99: \n",
      "Model Number: 278 of 279 with model FFT for Validation 2\n",
      "278 - FFT with avg smape 169.69: \n",
      "Model Number: 279 of 279 with model SeasonalNaive for Validation 2\n",
      "279 - SeasonalNaive with avg smape 122.82: \n",
      "Validation Round: 3\n",
      "Model Number: 1 of 279 with model Ensemble for Validation 3\n",
      "📈 1 - Ensemble with avg smape 138.77: \n",
      "Model Number: 2 of 279 with model Ensemble for Validation 3\n",
      "📈 2 - Ensemble with avg smape 110.41: \n",
      "Model Number: 3 of 279 with model Ensemble for Validation 3\n",
      "Traceback (most recent call last):\n",
      "  File \"c:\\Users\\Lenovo\\AppData\\Local\\Programs\\Python\\Python312\\Lib\\site-packages\\autots\\evaluator\\auto_model.py\", line 1386, in model_forecast\n",
      "    df_forecast = model_forecast(\n",
      "                  ^^^^^^^^^^^^^^^\n",
      "  File \"c:\\Users\\Lenovo\\AppData\\Local\\Programs\\Python\\Python312\\Lib\\site-packages\\autots\\evaluator\\auto_model.py\", line 1494, in model_forecast\n",
      "    return model.predict(\n",
      "           ^^^^^^^^^^^^^^\n",
      "  File \"c:\\Users\\Lenovo\\AppData\\Local\\Programs\\Python\\Python312\\Lib\\site-packages\\autots\\evaluator\\auto_model.py\", line 879, in predict\n",
      "    df_forecast = self.model.predict(\n",
      "                  ^^^^^^^^^^^^^^^^^^^\n",
      "  File \"c:\\Users\\Lenovo\\AppData\\Local\\Programs\\Python\\Python312\\Lib\\site-packages\\autots\\models\\basics.py\", line 1255, in predict\n",
      "    x = sliding_window_view(\n",
      "        ^^^^^^^^^^^^^^^^^^^^\n",
      "  File \"c:\\Users\\Lenovo\\AppData\\Local\\Programs\\Python\\Python312\\Lib\\site-packages\\autots\\tools\\window_functions.py\", line 461, in sliding_window_view\n",
      "    return np.lib.stride_tricks.sliding_window_view(\n",
      "           ^^^^^^^^^^^^^^^^^^^^^^^^^^^^^^^^^^^^^^^^^\n",
      "  File \"c:\\Users\\Lenovo\\AppData\\Local\\Programs\\Python\\Python312\\Lib\\site-packages\\numpy\\lib\\stride_tricks.py\", line 332, in sliding_window_view\n",
      "    raise ValueError(\n",
      "ValueError: window shape cannot be larger than input array shape\n",
      "\n",
      "FAILED: Ensemble BestN component 3 of 3 UnivariateMotif with error: ValueError('window shape cannot be larger than input array shape')\n",
      "3 - Ensemble with avg smape 119.57: \n",
      "Model Number: 4 of 279 with model Ensemble for Validation 3\n",
      "4 - Ensemble with avg smape 115.08: \n",
      "Model Number: 5 of 279 with model Ensemble for Validation 3\n",
      "5 - Ensemble with avg smape 154.52: \n",
      "Model Number: 6 of 279 with model Ensemble for Validation 3\n",
      "6 - Ensemble with avg smape 122.42: \n",
      "Model Number: 7 of 279 with model FFT for Validation 3\n",
      "📈 7 - FFT with avg smape 98.56: \n",
      "Model Number: 8 of 279 with model Ensemble for Validation 3\n",
      "8 - Ensemble with avg smape 98.56: \n",
      "Model Number: 9 of 279 with model FFT for Validation 3\n",
      "9 - FFT with avg smape 98.56: \n",
      "Model Number: 10 of 279 with model Ensemble for Validation 3\n",
      "10 - Ensemble with avg smape 98.56: \n",
      "Model Number: 11 of 279 with model FFT for Validation 3\n",
      "11 - FFT with avg smape 98.56: \n",
      "Model Number: 12 of 279 with model FFT for Validation 3\n",
      "12 - FFT with avg smape 98.56: \n",
      "Model Number: 13 of 279 with model FFT for Validation 3\n",
      "13 - FFT with avg smape 98.56: \n",
      "Model Number: 14 of 279 with model FFT for Validation 3\n",
      "14 - FFT with avg smape 98.56: \n",
      "Model Number: 15 of 279 with model SeasonalNaive for Validation 3\n",
      "15 - SeasonalNaive with avg smape 137.15: \n",
      "Model Number: 16 of 279 with model SeasonalNaive for Validation 3\n",
      "16 - SeasonalNaive with avg smape 137.15: \n",
      "Model Number: 17 of 279 with model Ensemble for Validation 3\n",
      "17 - Ensemble with avg smape 138.32: \n",
      "Model Number: 18 of 279 with model SeasonalNaive for Validation 3\n",
      "18 - SeasonalNaive with avg smape 137.56: \n",
      "Model Number: 19 of 279 with model SeasonalNaive for Validation 3\n",
      "19 - SeasonalNaive with avg smape 137.56: \n",
      "Model Number: 20 of 279 with model ETS for Validation 3\n",
      "20 - ETS with avg smape 179.57: \n",
      "Model Number: 21 of 279 with model SeasonalNaive for Validation 3\n",
      "21 - SeasonalNaive with avg smape 133.63: \n",
      "Model Number: 22 of 279 with model FFT for Validation 3\n",
      "📈 22 - FFT with avg smape 50.02: \n",
      "Model Number: 23 of 279 with model FFT for Validation 3\n",
      "23 - FFT with avg smape 50.02: \n",
      "Model Number: 24 of 279 with model FFT for Validation 3\n",
      "24 - FFT with avg smape 50.02: \n",
      "Model Number: 25 of 279 with model FFT for Validation 3\n",
      "25 - FFT with avg smape 50.02: \n",
      "Model Number: 26 of 279 with model FFT for Validation 3\n",
      "26 - FFT with avg smape 50.02: \n",
      "Model Number: 27 of 279 with model FFT for Validation 3\n",
      "27 - FFT with avg smape 50.02: \n",
      "Model Number: 28 of 279 with model FFT for Validation 3\n",
      "28 - FFT with avg smape 50.02: \n",
      "Model Number: 29 of 279 with model Ensemble for Validation 3\n",
      "29 - Ensemble with avg smape 114.49: \n",
      "Model Number: 30 of 279 with model ETS for Validation 3\n",
      "30 - ETS with avg smape 179.57: \n",
      "Model Number: 31 of 279 with model Ensemble for Validation 3\n",
      "31 - Ensemble with avg smape 158.01: \n",
      "Model Number: 32 of 279 with model SeasonalNaive for Validation 3\n",
      "32 - SeasonalNaive with avg smape 149.15: \n",
      "Model Number: 33 of 279 with model ETS for Validation 3\n",
      "33 - ETS with avg smape 179.57: \n",
      "Model Number: 34 of 279 with model ETS for Validation 3\n",
      "34 - ETS with avg smape 179.57: \n",
      "Model Number: 35 of 279 with model SeasonalNaive for Validation 3\n",
      "35 - SeasonalNaive with avg smape 119.01: \n",
      "Model Number: 36 of 279 with model SeasonalNaive for Validation 3\n",
      "36 - SeasonalNaive with avg smape 119.01: \n",
      "Model Number: 37 of 279 with model SeasonalNaive for Validation 3\n",
      "37 - SeasonalNaive with avg smape 119.01: \n",
      "Model Number: 38 of 279 with model SeasonalNaive for Validation 3\n",
      "38 - SeasonalNaive with avg smape 119.01: \n",
      "Model Number: 39 of 279 with model ETS for Validation 3\n",
      "39 - ETS with avg smape 157.46: \n",
      "Model Number: 40 of 279 with model ETS for Validation 3\n",
      "40 - ETS with avg smape 157.46: \n",
      "Model Number: 41 of 279 with model ETS for Validation 3\n",
      "41 - ETS with avg smape 157.46: \n",
      "Model Number: 42 of 279 with model ETS for Validation 3\n",
      "42 - ETS with avg smape 158.44: \n",
      "Model Number: 43 of 279 with model ETS for Validation 3\n",
      "43 - ETS with avg smape 158.44: \n",
      "Model Number: 44 of 279 with model ETS for Validation 3\n",
      "44 - ETS with avg smape 154.2: \n",
      "Model Number: 45 of 279 with model ETS for Validation 3\n",
      "45 - ETS with avg smape 154.2: \n",
      "Model Number: 46 of 279 with model AverageValueNaive for Validation 3\n",
      "46 - AverageValueNaive with avg smape 149.96: \n",
      "Model Number: 47 of 279 with model SeasonalNaive for Validation 3\n",
      "47 - SeasonalNaive with avg smape 129.97: \n",
      "Model Number: 48 of 279 with model SeasonalNaive for Validation 3\n",
      "48 - SeasonalNaive with avg smape 129.97: \n",
      "Model Number: 49 of 279 with model SeasonalNaive for Validation 3\n",
      "49 - SeasonalNaive with avg smape 104.02: \n",
      "Model Number: 50 of 279 with model ETS for Validation 3\n",
      "50 - ETS with avg smape 123.53: \n",
      "Model Number: 51 of 279 with model ETS for Validation 3\n",
      "51 - ETS with avg smape 123.53: \n",
      "Model Number: 52 of 279 with model KalmanStateSpace for Validation 3\n",
      "52 - KalmanStateSpace with avg smape 115.04: \n",
      "Model Number: 53 of 279 with model UnivariateMotif for Validation 3\n",
      "Template Eval Error: ValueError('window shape cannot be larger than input array shape') in model 53 in generation 0: UnivariateMotif\n",
      "Model Number: 54 of 279 with model UnivariateMotif for Validation 3\n",
      "Template Eval Error: ValueError('window shape cannot be larger than input array shape') in model 54 in generation 0: UnivariateMotif\n",
      "Model Number: 55 of 279 with model RRVAR for Validation 3\n",
      "55 - RRVAR with avg smape 50.02: \n",
      "Model Number: 56 of 279 with model RRVAR for Validation 3\n",
      "56 - RRVAR with avg smape 171.18: \n",
      "Model Number: 57 of 279 with model AverageValueNaive for Validation 3\n",
      "57 - AverageValueNaive with avg smape 148.38: \n",
      "Model Number: 58 of 279 with model DatepartRegression for Validation 3\n",
      "58 - DatepartRegression with avg smape 108.69: \n",
      "Model Number: 59 of 279 with model RRVAR for Validation 3\n",
      "59 - RRVAR with avg smape 171.79: \n",
      "Model Number: 60 of 279 with model RRVAR for Validation 3\n",
      "60 - RRVAR with avg smape 171.79: \n",
      "Model Number: 61 of 279 with model RRVAR for Validation 3\n",
      "61 - RRVAR with avg smape 171.79: \n",
      "Model Number: 62 of 279 with model RRVAR for Validation 3\n",
      "62 - RRVAR with avg smape 171.79: \n",
      "Model Number: 63 of 279 with model RRVAR for Validation 3\n",
      "63 - RRVAR with avg smape 171.79: \n",
      "Model Number: 64 of 279 with model RRVAR for Validation 3\n",
      "64 - RRVAR with avg smape 171.79: \n",
      "Model Number: 65 of 279 with model RRVAR for Validation 3\n",
      "65 - RRVAR with avg smape 171.79: \n",
      "Model Number: 66 of 279 with model RRVAR for Validation 3\n",
      "66 - RRVAR with avg smape 171.79: \n",
      "Model Number: 67 of 279 with model DatepartRegression for Validation 3\n",
      "67 - DatepartRegression with avg smape 103.72: \n",
      "Model Number: 68 of 279 with model DatepartRegression for Validation 3\n",
      "68 - DatepartRegression with avg smape 133.4: \n",
      "Model Number: 69 of 279 with model KalmanStateSpace for Validation 3\n",
      "69 - KalmanStateSpace with avg smape 117.91: \n",
      "Model Number: 70 of 279 with model KalmanStateSpace for Validation 3\n",
      "70 - KalmanStateSpace with avg smape 160.59: \n",
      "Model Number: 71 of 279 with model KalmanStateSpace for Validation 3\n",
      "71 - KalmanStateSpace with avg smape 152.69: \n",
      "Model Number: 72 of 279 with model AverageValueNaive for Validation 3\n",
      "72 - AverageValueNaive with avg smape 140.19: \n",
      "Model Number: 73 of 279 with model GLS for Validation 3\n",
      "73 - GLS with avg smape 150.47: \n",
      "Model Number: 74 of 279 with model DatepartRegression for Validation 3\n",
      "74 - DatepartRegression with avg smape 122.78: \n",
      "Model Number: 75 of 279 with model DatepartRegression for Validation 3\n",
      "75 - DatepartRegression with avg smape 122.78: \n",
      "Model Number: 76 of 279 with model DatepartRegression for Validation 3\n",
      "76 - DatepartRegression with avg smape 124.73: \n",
      "Model Number: 77 of 279 with model DatepartRegression for Validation 3\n",
      "77 - DatepartRegression with avg smape 121.57: \n",
      "Model Number: 78 of 279 with model DatepartRegression for Validation 3\n",
      "78 - DatepartRegression with avg smape 121.89: \n",
      "Model Number: 79 of 279 with model DatepartRegression for Validation 3\n",
      "79 - DatepartRegression with avg smape 139.47: \n",
      "Model Number: 80 of 279 with model DatepartRegression for Validation 3\n",
      "80 - DatepartRegression with avg smape 150.14: \n",
      "Model Number: 81 of 279 with model MetricMotif for Validation 3\n",
      "81 - MetricMotif with avg smape 159.44: \n",
      "Model Number: 82 of 279 with model MetricMotif for Validation 3\n",
      "82 - MetricMotif with avg smape 159.44: \n",
      "Model Number: 83 of 279 with model LastValueNaive for Validation 3\n",
      "83 - LastValueNaive with avg smape 131.78: \n",
      "Model Number: 84 of 279 with model LastValueNaive for Validation 3\n",
      "84 - LastValueNaive with avg smape 131.78: \n",
      "Model Number: 85 of 279 with model LastValueNaive for Validation 3\n",
      "85 - LastValueNaive with avg smape 131.78: \n",
      "Model Number: 86 of 279 with model LastValueNaive for Validation 3\n",
      "86 - LastValueNaive with avg smape 131.78: \n",
      "Model Number: 87 of 279 with model RRVAR for Validation 3\n",
      "87 - RRVAR with avg smape 131.83: \n",
      "Model Number: 88 of 279 with model GLS for Validation 3\n",
      "88 - GLS with avg smape 146.32: \n",
      "Model Number: 89 of 279 with model GLS for Validation 3\n",
      "89 - GLS with avg smape 146.32: \n",
      "Model Number: 90 of 279 with model RRVAR for Validation 3\n",
      "90 - RRVAR with avg smape 115.57: \n",
      "Model Number: 91 of 279 with model RRVAR for Validation 3\n",
      "91 - RRVAR with avg smape 115.57: \n",
      "Model Number: 92 of 279 with model LastValueNaive for Validation 3\n",
      "92 - LastValueNaive with avg smape 131.78: \n",
      "Model Number: 93 of 279 with model DatepartRegression for Validation 3\n",
      "93 - DatepartRegression with avg smape 129.51: \n",
      "Model Number: 94 of 279 with model DatepartRegression for Validation 3\n",
      "94 - DatepartRegression with avg smape 129.51: \n",
      "Model Number: 95 of 279 with model AverageValueNaive for Validation 3\n",
      "95 - AverageValueNaive with avg smape 108.68: \n",
      "Model Number: 96 of 279 with model KalmanStateSpace for Validation 3\n",
      "96 - KalmanStateSpace with avg smape 118.87: \n",
      "Model Number: 97 of 279 with model KalmanStateSpace for Validation 3\n",
      "97 - KalmanStateSpace with avg smape 118.87: \n",
      "Model Number: 98 of 279 with model KalmanStateSpace for Validation 3\n",
      "98 - KalmanStateSpace with avg smape 106.01: \n",
      "Model Number: 99 of 279 with model KalmanStateSpace for Validation 3\n",
      "99 - KalmanStateSpace with avg smape 106.01: \n",
      "Model Number: 100 of 279 with model AverageValueNaive for Validation 3\n",
      "100 - AverageValueNaive with avg smape 107.75: \n",
      "Model Number: 101 of 279 with model Ensemble for Validation 3\n",
      "Traceback (most recent call last):\n",
      "  File \"c:\\Users\\Lenovo\\AppData\\Local\\Programs\\Python\\Python312\\Lib\\site-packages\\autots\\evaluator\\auto_model.py\", line 1386, in model_forecast\n",
      "    df_forecast = model_forecast(\n",
      "                  ^^^^^^^^^^^^^^^\n",
      "  File \"c:\\Users\\Lenovo\\AppData\\Local\\Programs\\Python\\Python312\\Lib\\site-packages\\autots\\evaluator\\auto_model.py\", line 1494, in model_forecast\n",
      "    return model.predict(\n",
      "           ^^^^^^^^^^^^^^\n",
      "  File \"c:\\Users\\Lenovo\\AppData\\Local\\Programs\\Python\\Python312\\Lib\\site-packages\\autots\\evaluator\\auto_model.py\", line 879, in predict\n",
      "    df_forecast = self.model.predict(\n",
      "                  ^^^^^^^^^^^^^^^^^^^\n",
      "  File \"c:\\Users\\Lenovo\\AppData\\Local\\Programs\\Python\\Python312\\Lib\\site-packages\\autots\\models\\basics.py\", line 2754, in predict\n",
      "    test, scores = seasonal_window_match(\n",
      "                   ^^^^^^^^^^^^^^^^^^^^^^\n",
      "  File \"c:\\Users\\Lenovo\\AppData\\Local\\Programs\\Python\\Python312\\Lib\\site-packages\\autots\\tools\\seasonal.py\", line 749, in seasonal_window_match\n",
      "    temp = sliding_window_view(array[:-n_tail, :], window_size, axis=0)\n",
      "           ^^^^^^^^^^^^^^^^^^^^^^^^^^^^^^^^^^^^^^^^^^^^^^^^^^^^^^^^^^^^\n",
      "  File \"c:\\Users\\Lenovo\\AppData\\Local\\Programs\\Python\\Python312\\Lib\\site-packages\\autots\\tools\\window_functions.py\", line 461, in sliding_window_view\n",
      "    return np.lib.stride_tricks.sliding_window_view(\n",
      "           ^^^^^^^^^^^^^^^^^^^^^^^^^^^^^^^^^^^^^^^^^\n",
      "  File \"c:\\Users\\Lenovo\\AppData\\Local\\Programs\\Python\\Python312\\Lib\\site-packages\\numpy\\lib\\stride_tricks.py\", line 332, in sliding_window_view\n",
      "    raise ValueError(\n",
      "ValueError: window shape cannot be larger than input array shape\n",
      "\n",
      "FAILED: Ensemble BestN component 3 of 3 SeasonalityMotif with error: ValueError('window shape cannot be larger than input array shape')\n",
      "Traceback (most recent call last):\n",
      "  File \"c:\\Users\\Lenovo\\AppData\\Local\\Programs\\Python\\Python312\\Lib\\site-packages\\autots\\evaluator\\auto_model.py\", line 1386, in model_forecast\n",
      "    df_forecast = model_forecast(\n",
      "                  ^^^^^^^^^^^^^^^\n",
      "  File \"c:\\Users\\Lenovo\\AppData\\Local\\Programs\\Python\\Python312\\Lib\\site-packages\\autots\\evaluator\\auto_model.py\", line 1494, in model_forecast\n",
      "    return model.predict(\n",
      "           ^^^^^^^^^^^^^^\n",
      "  File \"c:\\Users\\Lenovo\\AppData\\Local\\Programs\\Python\\Python312\\Lib\\site-packages\\autots\\evaluator\\auto_model.py\", line 879, in predict\n",
      "    df_forecast = self.model.predict(\n",
      "                  ^^^^^^^^^^^^^^^^^^^\n",
      "  File \"c:\\Users\\Lenovo\\AppData\\Local\\Programs\\Python\\Python312\\Lib\\site-packages\\autots\\models\\basics.py\", line 1931, in predict\n",
      "    res_idx = np.argpartition(res_sum, num_top, axis=0)[0:num_top]\n",
      "              ^^^^^^^^^^^^^^^^^^^^^^^^^^^^^^^^^^^^^^^^^\n",
      "  File \"c:\\Users\\Lenovo\\AppData\\Local\\Programs\\Python\\Python312\\Lib\\site-packages\\numpy\\core\\fromnumeric.py\", line 858, in argpartition\n",
      "    return _wrapfunc(a, 'argpartition', kth, axis=axis, kind=kind, order=order)\n",
      "           ^^^^^^^^^^^^^^^^^^^^^^^^^^^^^^^^^^^^^^^^^^^^^^^^^^^^^^^^^^^^^^^^^^^^\n",
      "  File \"c:\\Users\\Lenovo\\AppData\\Local\\Programs\\Python\\Python312\\Lib\\site-packages\\numpy\\core\\fromnumeric.py\", line 59, in _wrapfunc\n",
      "    return bound(*args, **kwds)\n",
      "           ^^^^^^^^^^^^^^^^^^^^\n",
      "ValueError: kth(=10) out of bounds (5)\n",
      "\n",
      "FAILED: Ensemble BestN component 4 of 3 SectionalMotif with error: ValueError('kth(=10) out of bounds (5)')\n",
      "101 - Ensemble with avg smape 115.04: \n",
      "Model Number: 102 of 279 with model DatepartRegression for Validation 3\n",
      "102 - DatepartRegression with avg smape 127.61: \n",
      "Model Number: 103 of 279 with model KalmanStateSpace for Validation 3\n",
      "103 - KalmanStateSpace with avg smape 132.26: \n",
      "Model Number: 104 of 279 with model KalmanStateSpace for Validation 3\n",
      "104 - KalmanStateSpace with avg smape 67.41: \n",
      "Model Number: 105 of 279 with model AverageValueNaive for Validation 3\n",
      "105 - AverageValueNaive with avg smape 146.32: \n",
      "Model Number: 106 of 279 with model AverageValueNaive for Validation 3\n",
      "106 - AverageValueNaive with avg smape 146.32: \n",
      "Model Number: 107 of 279 with model LastValueNaive for Validation 3\n",
      "107 - LastValueNaive with avg smape 72.4: \n",
      "Model Number: 108 of 279 with model LastValueNaive for Validation 3\n",
      "108 - LastValueNaive with avg smape 131.78: \n",
      "Model Number: 109 of 279 with model LastValueNaive for Validation 3\n",
      "109 - LastValueNaive with avg smape 131.78: \n",
      "Model Number: 110 of 279 with model LastValueNaive for Validation 3\n",
      "110 - LastValueNaive with avg smape 131.78: \n",
      "Model Number: 111 of 279 with model LastValueNaive for Validation 3\n",
      "111 - LastValueNaive with avg smape 131.78: \n",
      "Model Number: 112 of 279 with model LastValueNaive for Validation 3\n",
      "112 - LastValueNaive with avg smape 131.78: \n",
      "Model Number: 113 of 279 with model LastValueNaive for Validation 3\n",
      "113 - LastValueNaive with avg smape 131.78: \n",
      "Model Number: 114 of 279 with model LastValueNaive for Validation 3\n",
      "114 - LastValueNaive with avg smape 131.78: \n",
      "Model Number: 115 of 279 with model KalmanStateSpace for Validation 3\n",
      "115 - KalmanStateSpace with avg smape 107.49: \n",
      "Model Number: 116 of 279 with model KalmanStateSpace for Validation 3\n",
      "116 - KalmanStateSpace with avg smape 111.78: \n",
      "Model Number: 117 of 279 with model UnivariateMotif for Validation 3\n",
      "Template Eval Error: ValueError('window shape cannot be larger than input array shape') in model 117 in generation 0: UnivariateMotif\n",
      "Model Number: 118 of 279 with model BallTreeMultivariateMotif for Validation 3\n",
      "Template Eval Error: ValueError('window shape cannot be larger than input array shape') in model 118 in generation 0: BallTreeMultivariateMotif\n",
      "Model Number: 119 of 279 with model UnivariateMotif for Validation 3\n",
      "Template Eval Error: ValueError('window shape cannot be larger than input array shape') in model 119 in generation 0: UnivariateMotif\n",
      "Model Number: 120 of 279 with model UnivariateMotif for Validation 3\n",
      "120 - UnivariateMotif with avg smape 135.66: \n",
      "Model Number: 121 of 279 with model KalmanStateSpace for Validation 3\n",
      "121 - KalmanStateSpace with avg smape 114.41: \n",
      "Model Number: 122 of 279 with model UnivariateMotif for Validation 3\n",
      "122 - UnivariateMotif with avg smape 134.26: \n",
      "Model Number: 123 of 279 with model AverageValueNaive for Validation 3\n",
      "123 - AverageValueNaive with avg smape 108.5: \n",
      "Model Number: 124 of 279 with model AverageValueNaive for Validation 3\n",
      "124 - AverageValueNaive with avg smape 108.5: \n",
      "Model Number: 125 of 279 with model AverageValueNaive for Validation 3\n",
      "125 - AverageValueNaive with avg smape 132.39: \n",
      "Model Number: 126 of 279 with model AverageValueNaive for Validation 3\n",
      "126 - AverageValueNaive with avg smape 109.66: \n",
      "Model Number: 127 of 279 with model AverageValueNaive for Validation 3\n",
      "127 - AverageValueNaive with avg smape 109.32: \n",
      "Model Number: 128 of 279 with model AverageValueNaive for Validation 3\n",
      "128 - AverageValueNaive with avg smape 109.32: \n",
      "Model Number: 129 of 279 with model SeasonalityMotif for Validation 3\n",
      "Template Eval Error: ValueError('window shape cannot be larger than input array shape') in model 129 in generation 0: SeasonalityMotif\n",
      "Model Number: 130 of 279 with model UnivariateMotif for Validation 3\n",
      "Template Eval Error: ValueError('window shape cannot be larger than input array shape') in model 130 in generation 0: UnivariateMotif\n",
      "Model Number: 131 of 279 with model GLM for Validation 3\n"
     ]
    },
    {
     "name": "stderr",
     "output_type": "stream",
     "text": [
      "c:\\Users\\Lenovo\\AppData\\Local\\Programs\\Python\\Python312\\Lib\\site-packages\\statsmodels\\genmod\\generalized_linear_model.py:308: DomainWarning: The InversePower link function does not respect the domain of the Gamma family.\n",
      "  warnings.warn((f\"The {type(family.link).__name__} link function \"\n",
      "c:\\Users\\Lenovo\\AppData\\Local\\Programs\\Python\\Python312\\Lib\\site-packages\\statsmodels\\genmod\\generalized_linear_model.py:308: DomainWarning: The InversePower link function does not respect the domain of the Gamma family.\n",
      "  warnings.warn((f\"The {type(family.link).__name__} link function \"\n",
      "c:\\Users\\Lenovo\\AppData\\Local\\Programs\\Python\\Python312\\Lib\\site-packages\\statsmodels\\genmod\\generalized_linear_model.py:308: DomainWarning: The InversePower link function does not respect the domain of the Gamma family.\n",
      "  warnings.warn((f\"The {type(family.link).__name__} link function \"\n",
      "c:\\Users\\Lenovo\\AppData\\Local\\Programs\\Python\\Python312\\Lib\\site-packages\\statsmodels\\genmod\\generalized_linear_model.py:308: DomainWarning: The InversePower link function does not respect the domain of the Gamma family.\n",
      "  warnings.warn((f\"The {type(family.link).__name__} link function \"\n",
      "c:\\Users\\Lenovo\\AppData\\Local\\Programs\\Python\\Python312\\Lib\\site-packages\\statsmodels\\genmod\\generalized_linear_model.py:308: DomainWarning: The InversePower link function does not respect the domain of the Gamma family.\n",
      "  warnings.warn((f\"The {type(family.link).__name__} link function \"\n",
      "c:\\Users\\Lenovo\\AppData\\Local\\Programs\\Python\\Python312\\Lib\\site-packages\\statsmodels\\genmod\\generalized_linear_model.py:308: DomainWarning: The InversePower link function does not respect the domain of the Gamma family.\n",
      "  warnings.warn((f\"The {type(family.link).__name__} link function \"\n",
      "c:\\Users\\Lenovo\\AppData\\Local\\Programs\\Python\\Python312\\Lib\\site-packages\\statsmodels\\genmod\\generalized_linear_model.py:308: DomainWarning: The InversePower link function does not respect the domain of the Gamma family.\n",
      "  warnings.warn((f\"The {type(family.link).__name__} link function \"\n",
      "c:\\Users\\Lenovo\\AppData\\Local\\Programs\\Python\\Python312\\Lib\\site-packages\\statsmodels\\genmod\\generalized_linear_model.py:308: DomainWarning: The InversePower link function does not respect the domain of the Gamma family.\n",
      "  warnings.warn((f\"The {type(family.link).__name__} link function \"\n",
      "c:\\Users\\Lenovo\\AppData\\Local\\Programs\\Python\\Python312\\Lib\\site-packages\\statsmodels\\genmod\\generalized_linear_model.py:308: DomainWarning: The InversePower link function does not respect the domain of the Gamma family.\n",
      "  warnings.warn((f\"The {type(family.link).__name__} link function \"\n"
     ]
    },
    {
     "name": "stdout",
     "output_type": "stream",
     "text": [
      "131 - GLM with avg smape 109.32: \n",
      "Model Number: 132 of 279 with model GLM for Validation 3\n"
     ]
    },
    {
     "name": "stderr",
     "output_type": "stream",
     "text": [
      "c:\\Users\\Lenovo\\AppData\\Local\\Programs\\Python\\Python312\\Lib\\site-packages\\statsmodels\\genmod\\generalized_linear_model.py:308: DomainWarning: The InversePower link function does not respect the domain of the Gamma family.\n",
      "  warnings.warn((f\"The {type(family.link).__name__} link function \"\n",
      "c:\\Users\\Lenovo\\AppData\\Local\\Programs\\Python\\Python312\\Lib\\site-packages\\statsmodels\\genmod\\generalized_linear_model.py:308: DomainWarning: The InversePower link function does not respect the domain of the Gamma family.\n",
      "  warnings.warn((f\"The {type(family.link).__name__} link function \"\n",
      "c:\\Users\\Lenovo\\AppData\\Local\\Programs\\Python\\Python312\\Lib\\site-packages\\statsmodels\\genmod\\generalized_linear_model.py:308: DomainWarning: The InversePower link function does not respect the domain of the Gamma family.\n",
      "  warnings.warn((f\"The {type(family.link).__name__} link function \"\n",
      "c:\\Users\\Lenovo\\AppData\\Local\\Programs\\Python\\Python312\\Lib\\site-packages\\statsmodels\\genmod\\generalized_linear_model.py:308: DomainWarning: The InversePower link function does not respect the domain of the Gamma family.\n",
      "  warnings.warn((f\"The {type(family.link).__name__} link function \"\n",
      "c:\\Users\\Lenovo\\AppData\\Local\\Programs\\Python\\Python312\\Lib\\site-packages\\statsmodels\\genmod\\generalized_linear_model.py:308: DomainWarning: The InversePower link function does not respect the domain of the Gamma family.\n",
      "  warnings.warn((f\"The {type(family.link).__name__} link function \"\n",
      "c:\\Users\\Lenovo\\AppData\\Local\\Programs\\Python\\Python312\\Lib\\site-packages\\statsmodels\\genmod\\generalized_linear_model.py:308: DomainWarning: The InversePower link function does not respect the domain of the Gamma family.\n",
      "  warnings.warn((f\"The {type(family.link).__name__} link function \"\n",
      "c:\\Users\\Lenovo\\AppData\\Local\\Programs\\Python\\Python312\\Lib\\site-packages\\statsmodels\\genmod\\generalized_linear_model.py:308: DomainWarning: The InversePower link function does not respect the domain of the Gamma family.\n",
      "  warnings.warn((f\"The {type(family.link).__name__} link function \"\n",
      "c:\\Users\\Lenovo\\AppData\\Local\\Programs\\Python\\Python312\\Lib\\site-packages\\statsmodels\\genmod\\generalized_linear_model.py:308: DomainWarning: The InversePower link function does not respect the domain of the Gamma family.\n",
      "  warnings.warn((f\"The {type(family.link).__name__} link function \"\n",
      "c:\\Users\\Lenovo\\AppData\\Local\\Programs\\Python\\Python312\\Lib\\site-packages\\statsmodels\\genmod\\generalized_linear_model.py:308: DomainWarning: The InversePower link function does not respect the domain of the Gamma family.\n",
      "  warnings.warn((f\"The {type(family.link).__name__} link function \"\n"
     ]
    },
    {
     "name": "stdout",
     "output_type": "stream",
     "text": [
      "132 - GLM with avg smape 109.32: \n",
      "Model Number: 133 of 279 with model Cassandra for Validation 3\n",
      "Template Eval Error: ValueError('negative dimensions are not allowed') in model 133 in generation 0: Cassandra\n",
      "Model Number: 134 of 279 with model BallTreeMultivariateMotif for Validation 3\n",
      "Template Eval Error: ValueError('window shape cannot be larger than input array shape') in model 134 in generation 0: BallTreeMultivariateMotif\n",
      "Model Number: 135 of 279 with model GLM for Validation 3\n",
      "135 - GLM with avg smape 109.32: \n",
      "Model Number: 136 of 279 with model GLM for Validation 3\n"
     ]
    },
    {
     "name": "stderr",
     "output_type": "stream",
     "text": [
      "c:\\Users\\Lenovo\\AppData\\Local\\Programs\\Python\\Python312\\Lib\\site-packages\\numpy\\lib\\function_base.py:2897: RuntimeWarning: invalid value encountered in divide\n",
      "  c /= stddev[:, None]\n",
      "c:\\Users\\Lenovo\\AppData\\Local\\Programs\\Python\\Python312\\Lib\\site-packages\\numpy\\lib\\function_base.py:2898: RuntimeWarning: invalid value encountered in divide\n",
      "  c /= stddev[None, :]\n",
      "c:\\Users\\Lenovo\\AppData\\Local\\Programs\\Python\\Python312\\Lib\\site-packages\\statsmodels\\genmod\\families\\links.py:198: RuntimeWarning: overflow encountered in exp\n",
      "  t = np.exp(-z)\n",
      "c:\\Users\\Lenovo\\AppData\\Local\\Programs\\Python\\Python312\\Lib\\site-packages\\statsmodels\\genmod\\families\\links.py:198: RuntimeWarning: overflow encountered in exp\n",
      "  t = np.exp(-z)\n",
      "c:\\Users\\Lenovo\\AppData\\Local\\Programs\\Python\\Python312\\Lib\\site-packages\\statsmodels\\genmod\\families\\links.py:198: RuntimeWarning: overflow encountered in exp\n",
      "  t = np.exp(-z)\n"
     ]
    },
    {
     "name": "stdout",
     "output_type": "stream",
     "text": [
      "136 - GLM with avg smape 109.32: \n",
      "Model Number: 137 of 279 with model GLM for Validation 3\n",
      "137 - GLM with avg smape 109.32: \n",
      "Model Number: 138 of 279 with model GLM for Validation 3\n"
     ]
    },
    {
     "name": "stderr",
     "output_type": "stream",
     "text": [
      "c:\\Users\\Lenovo\\AppData\\Local\\Programs\\Python\\Python312\\Lib\\site-packages\\statsmodels\\genmod\\generalized_linear_model.py:308: DomainWarning: The InversePower link function does not respect the domain of the Gamma family.\n",
      "  warnings.warn((f\"The {type(family.link).__name__} link function \"\n",
      "c:\\Users\\Lenovo\\AppData\\Local\\Programs\\Python\\Python312\\Lib\\site-packages\\statsmodels\\genmod\\generalized_linear_model.py:308: DomainWarning: The InversePower link function does not respect the domain of the Gamma family.\n",
      "  warnings.warn((f\"The {type(family.link).__name__} link function \"\n",
      "c:\\Users\\Lenovo\\AppData\\Local\\Programs\\Python\\Python312\\Lib\\site-packages\\statsmodels\\genmod\\generalized_linear_model.py:308: DomainWarning: The InversePower link function does not respect the domain of the Gamma family.\n",
      "  warnings.warn((f\"The {type(family.link).__name__} link function \"\n",
      "c:\\Users\\Lenovo\\AppData\\Local\\Programs\\Python\\Python312\\Lib\\site-packages\\statsmodels\\genmod\\generalized_linear_model.py:308: DomainWarning: The InversePower link function does not respect the domain of the Gamma family.\n",
      "  warnings.warn((f\"The {type(family.link).__name__} link function \"\n",
      "c:\\Users\\Lenovo\\AppData\\Local\\Programs\\Python\\Python312\\Lib\\site-packages\\statsmodels\\genmod\\generalized_linear_model.py:308: DomainWarning: The InversePower link function does not respect the domain of the Gamma family.\n",
      "  warnings.warn((f\"The {type(family.link).__name__} link function \"\n",
      "c:\\Users\\Lenovo\\AppData\\Local\\Programs\\Python\\Python312\\Lib\\site-packages\\statsmodels\\genmod\\generalized_linear_model.py:308: DomainWarning: The InversePower link function does not respect the domain of the Gamma family.\n",
      "  warnings.warn((f\"The {type(family.link).__name__} link function \"\n",
      "c:\\Users\\Lenovo\\AppData\\Local\\Programs\\Python\\Python312\\Lib\\site-packages\\statsmodels\\genmod\\generalized_linear_model.py:308: DomainWarning: The InversePower link function does not respect the domain of the Gamma family.\n",
      "  warnings.warn((f\"The {type(family.link).__name__} link function \"\n",
      "c:\\Users\\Lenovo\\AppData\\Local\\Programs\\Python\\Python312\\Lib\\site-packages\\statsmodels\\genmod\\generalized_linear_model.py:308: DomainWarning: The InversePower link function does not respect the domain of the Gamma family.\n",
      "  warnings.warn((f\"The {type(family.link).__name__} link function \"\n",
      "c:\\Users\\Lenovo\\AppData\\Local\\Programs\\Python\\Python312\\Lib\\site-packages\\statsmodels\\genmod\\generalized_linear_model.py:308: DomainWarning: The InversePower link function does not respect the domain of the Gamma family.\n",
      "  warnings.warn((f\"The {type(family.link).__name__} link function \"\n"
     ]
    },
    {
     "name": "stdout",
     "output_type": "stream",
     "text": [
      "138 - GLM with avg smape 109.32: \n",
      "Model Number: 139 of 279 with model UnivariateMotif for Validation 3\n",
      "Template Eval Error: ValueError('window shape cannot be larger than input array shape') in model 139 in generation 0: UnivariateMotif\n",
      "Model Number: 140 of 279 with model ConstantNaive for Validation 3\n",
      "140 - ConstantNaive with avg smape 104.05: \n",
      "Model Number: 141 of 279 with model Cassandra for Validation 3\n",
      "141 - Cassandra with avg smape 103.97: \n",
      "Model Number: 142 of 279 with model Cassandra for Validation 3\n",
      "142 - Cassandra with avg smape 103.97: \n",
      "Model Number: 143 of 279 with model Cassandra for Validation 3\n",
      "143 - Cassandra with avg smape 103.97: \n",
      "Model Number: 144 of 279 with model Cassandra for Validation 3\n",
      "Template Eval Error: ValueError('negative dimensions are not allowed') in model 144 in generation 0: Cassandra\n",
      "Model Number: 145 of 279 with model Cassandra for Validation 3\n",
      "145 - Cassandra with avg smape 103.97: \n",
      "Model Number: 146 of 279 with model Cassandra for Validation 3\n",
      "146 - Cassandra with avg smape 103.97: \n",
      "Model Number: 147 of 279 with model GLS for Validation 3\n",
      "147 - GLS with avg smape 117.28: \n",
      "Model Number: 148 of 279 with model GLS for Validation 3\n",
      "148 - GLS with avg smape 117.29: \n",
      "Model Number: 149 of 279 with model GLS for Validation 3\n",
      "149 - GLS with avg smape 117.28: \n",
      "Model Number: 150 of 279 with model GLS for Validation 3\n",
      "150 - GLS with avg smape 117.28: \n",
      "Model Number: 151 of 279 with model GLS for Validation 3\n",
      "151 - GLS with avg smape 117.28: \n",
      "Model Number: 152 of 279 with model GLS for Validation 3\n",
      "152 - GLS with avg smape 117.28: \n",
      "Model Number: 153 of 279 with model GLS for Validation 3\n",
      "153 - GLS with avg smape 117.28: \n",
      "Model Number: 154 of 279 with model GLS for Validation 3\n",
      "154 - GLS with avg smape 117.28: \n",
      "Model Number: 155 of 279 with model GLS for Validation 3\n",
      "155 - GLS with avg smape 117.28: \n",
      "Model Number: 156 of 279 with model GLS for Validation 3\n",
      "156 - GLS with avg smape 117.26: \n",
      "Model Number: 157 of 279 with model UnivariateMotif for Validation 3\n",
      "Template Eval Error: ValueError('window shape cannot be larger than input array shape') in model 157 in generation 0: UnivariateMotif\n",
      "Model Number: 158 of 279 with model GLM for Validation 3\n",
      "158 - GLM with avg smape 122.71: \n",
      "Model Number: 159 of 279 with model GLM for Validation 3\n",
      "159 - GLM with avg smape 115.18: \n",
      "Model Number: 160 of 279 with model GLM for Validation 3\n"
     ]
    },
    {
     "name": "stderr",
     "output_type": "stream",
     "text": [
      "c:\\Users\\Lenovo\\AppData\\Local\\Programs\\Python\\Python312\\Lib\\site-packages\\statsmodels\\genmod\\families\\links.py:198: RuntimeWarning: overflow encountered in exp\n",
      "  t = np.exp(-z)\n",
      "c:\\Users\\Lenovo\\AppData\\Local\\Programs\\Python\\Python312\\Lib\\site-packages\\statsmodels\\genmod\\generalized_linear_model.py:308: DomainWarning: The InversePower link function does not respect the domain of the Gamma family.\n",
      "  warnings.warn((f\"The {type(family.link).__name__} link function \"\n",
      "c:\\Users\\Lenovo\\AppData\\Local\\Programs\\Python\\Python312\\Lib\\site-packages\\statsmodels\\genmod\\generalized_linear_model.py:308: DomainWarning: The InversePower link function does not respect the domain of the Gamma family.\n",
      "  warnings.warn((f\"The {type(family.link).__name__} link function \"\n",
      "c:\\Users\\Lenovo\\AppData\\Local\\Programs\\Python\\Python312\\Lib\\site-packages\\statsmodels\\genmod\\generalized_linear_model.py:308: DomainWarning: The InversePower link function does not respect the domain of the Gamma family.\n",
      "  warnings.warn((f\"The {type(family.link).__name__} link function \"\n",
      "c:\\Users\\Lenovo\\AppData\\Local\\Programs\\Python\\Python312\\Lib\\site-packages\\statsmodels\\genmod\\generalized_linear_model.py:308: DomainWarning: The InversePower link function does not respect the domain of the Gamma family.\n",
      "  warnings.warn((f\"The {type(family.link).__name__} link function \"\n",
      "c:\\Users\\Lenovo\\AppData\\Local\\Programs\\Python\\Python312\\Lib\\site-packages\\statsmodels\\genmod\\generalized_linear_model.py:308: DomainWarning: The InversePower link function does not respect the domain of the Gamma family.\n",
      "  warnings.warn((f\"The {type(family.link).__name__} link function \"\n",
      "c:\\Users\\Lenovo\\AppData\\Local\\Programs\\Python\\Python312\\Lib\\site-packages\\statsmodels\\genmod\\generalized_linear_model.py:308: DomainWarning: The InversePower link function does not respect the domain of the Gamma family.\n",
      "  warnings.warn((f\"The {type(family.link).__name__} link function \"\n",
      "c:\\Users\\Lenovo\\AppData\\Local\\Programs\\Python\\Python312\\Lib\\site-packages\\statsmodels\\genmod\\generalized_linear_model.py:308: DomainWarning: The InversePower link function does not respect the domain of the Gamma family.\n",
      "  warnings.warn((f\"The {type(family.link).__name__} link function \"\n",
      "c:\\Users\\Lenovo\\AppData\\Local\\Programs\\Python\\Python312\\Lib\\site-packages\\statsmodels\\genmod\\generalized_linear_model.py:308: DomainWarning: The InversePower link function does not respect the domain of the Gamma family.\n",
      "  warnings.warn((f\"The {type(family.link).__name__} link function \"\n",
      "c:\\Users\\Lenovo\\AppData\\Local\\Programs\\Python\\Python312\\Lib\\site-packages\\statsmodels\\genmod\\generalized_linear_model.py:308: DomainWarning: The InversePower link function does not respect the domain of the Gamma family.\n",
      "  warnings.warn((f\"The {type(family.link).__name__} link function \"\n",
      "c:\\Users\\Lenovo\\AppData\\Local\\Programs\\Python\\Python312\\Lib\\site-packages\\statsmodels\\genmod\\families\\links.py:198: RuntimeWarning: overflow encountered in exp\n",
      "  t = np.exp(-z)\n"
     ]
    },
    {
     "name": "stdout",
     "output_type": "stream",
     "text": [
      "160 - GLM with avg smape 122.69: \n",
      "Model Number: 161 of 279 with model Cassandra for Validation 3\n"
     ]
    },
    {
     "name": "stderr",
     "output_type": "stream",
     "text": [
      "c:\\Users\\Lenovo\\AppData\\Local\\Programs\\Python\\Python312\\Lib\\site-packages\\numpy\\lib\\function_base.py:2897: RuntimeWarning: invalid value encountered in divide\n",
      "  c /= stddev[:, None]\n",
      "c:\\Users\\Lenovo\\AppData\\Local\\Programs\\Python\\Python312\\Lib\\site-packages\\numpy\\lib\\function_base.py:2898: RuntimeWarning: invalid value encountered in divide\n",
      "  c /= stddev[None, :]\n"
     ]
    },
    {
     "name": "stdout",
     "output_type": "stream",
     "text": [
      "161 - Cassandra with avg smape 141.36: \n",
      "Model Number: 162 of 279 with model SeasonalityMotif for Validation 3\n",
      "162 - SeasonalityMotif with avg smape 110.87: \n",
      "Model Number: 163 of 279 with model UnivariateMotif for Validation 3\n",
      "Template Eval Error: ValueError('window shape cannot be larger than input array shape') in model 163 in generation 0: UnivariateMotif\n",
      "Model Number: 164 of 279 with model SeasonalityMotif for Validation 3\n",
      "164 - SeasonalityMotif with avg smape 120.69: \n",
      "Model Number: 165 of 279 with model SeasonalityMotif for Validation 3\n",
      "Template Eval Error: ValueError('window shape cannot be larger than input array shape') in model 165 in generation 0: SeasonalityMotif\n",
      "Model Number: 166 of 279 with model Cassandra for Validation 3\n",
      "Template Eval Error: ValueError('negative dimensions are not allowed') in model 166 in generation 0: Cassandra\n",
      "Model Number: 167 of 279 with model SeasonalityMotif for Validation 3\n",
      "167 - SeasonalityMotif with avg smape 123.03: \n",
      "Model Number: 168 of 279 with model UnivariateMotif for Validation 3\n",
      "168 - UnivariateMotif with avg smape 162.95: \n",
      "Model Number: 169 of 279 with model UnivariateMotif for Validation 3\n",
      "Template Eval Error: ValueError('window shape cannot be larger than input array shape') in model 169 in generation 0: UnivariateMotif\n",
      "Model Number: 170 of 279 with model UnivariateMotif for Validation 3\n",
      "Template Eval Error: ValueError('window shape cannot be larger than input array shape') in model 170 in generation 0: UnivariateMotif\n",
      "Model Number: 171 of 279 with model GLM for Validation 3\n"
     ]
    },
    {
     "name": "stderr",
     "output_type": "stream",
     "text": [
      "c:\\Users\\Lenovo\\AppData\\Local\\Programs\\Python\\Python312\\Lib\\site-packages\\numpy\\lib\\function_base.py:2897: RuntimeWarning: invalid value encountered in divide\n",
      "  c /= stddev[:, None]\n",
      "c:\\Users\\Lenovo\\AppData\\Local\\Programs\\Python\\Python312\\Lib\\site-packages\\numpy\\lib\\function_base.py:2898: RuntimeWarning: invalid value encountered in divide\n",
      "  c /= stddev[None, :]\n"
     ]
    },
    {
     "name": "stdout",
     "output_type": "stream",
     "text": [
      "171 - GLM with avg smape 129.29: \n",
      "Model Number: 172 of 279 with model GLM for Validation 3\n",
      "172 - GLM with avg smape 72.6: \n"
     ]
    },
    {
     "name": "stderr",
     "output_type": "stream",
     "text": [
      "c:\\Users\\Lenovo\\AppData\\Local\\Programs\\Python\\Python312\\Lib\\site-packages\\statsmodels\\genmod\\generalized_linear_model.py:308: DomainWarning: The InversePower link function does not respect the domain of the Gamma family.\n",
      "  warnings.warn((f\"The {type(family.link).__name__} link function \"\n",
      "c:\\Users\\Lenovo\\AppData\\Local\\Programs\\Python\\Python312\\Lib\\site-packages\\statsmodels\\genmod\\generalized_linear_model.py:308: DomainWarning: The InversePower link function does not respect the domain of the Gamma family.\n",
      "  warnings.warn((f\"The {type(family.link).__name__} link function \"\n",
      "c:\\Users\\Lenovo\\AppData\\Local\\Programs\\Python\\Python312\\Lib\\site-packages\\statsmodels\\genmod\\generalized_linear_model.py:308: DomainWarning: The InversePower link function does not respect the domain of the Gamma family.\n",
      "  warnings.warn((f\"The {type(family.link).__name__} link function \"\n",
      "c:\\Users\\Lenovo\\AppData\\Local\\Programs\\Python\\Python312\\Lib\\site-packages\\statsmodels\\genmod\\generalized_linear_model.py:308: DomainWarning: The InversePower link function does not respect the domain of the Gamma family.\n",
      "  warnings.warn((f\"The {type(family.link).__name__} link function \"\n",
      "c:\\Users\\Lenovo\\AppData\\Local\\Programs\\Python\\Python312\\Lib\\site-packages\\statsmodels\\genmod\\generalized_linear_model.py:308: DomainWarning: The InversePower link function does not respect the domain of the Gamma family.\n",
      "  warnings.warn((f\"The {type(family.link).__name__} link function \"\n",
      "c:\\Users\\Lenovo\\AppData\\Local\\Programs\\Python\\Python312\\Lib\\site-packages\\statsmodels\\genmod\\generalized_linear_model.py:308: DomainWarning: The InversePower link function does not respect the domain of the Gamma family.\n",
      "  warnings.warn((f\"The {type(family.link).__name__} link function \"\n",
      "c:\\Users\\Lenovo\\AppData\\Local\\Programs\\Python\\Python312\\Lib\\site-packages\\statsmodels\\genmod\\generalized_linear_model.py:308: DomainWarning: The InversePower link function does not respect the domain of the Gamma family.\n",
      "  warnings.warn((f\"The {type(family.link).__name__} link function \"\n",
      "c:\\Users\\Lenovo\\AppData\\Local\\Programs\\Python\\Python312\\Lib\\site-packages\\statsmodels\\genmod\\generalized_linear_model.py:308: DomainWarning: The InversePower link function does not respect the domain of the Gamma family.\n",
      "  warnings.warn((f\"The {type(family.link).__name__} link function \"\n",
      "c:\\Users\\Lenovo\\AppData\\Local\\Programs\\Python\\Python312\\Lib\\site-packages\\statsmodels\\genmod\\generalized_linear_model.py:308: DomainWarning: The InversePower link function does not respect the domain of the Gamma family.\n",
      "  warnings.warn((f\"The {type(family.link).__name__} link function \"\n"
     ]
    },
    {
     "name": "stdout",
     "output_type": "stream",
     "text": [
      "Model Number: 173 of 279 with model SeasonalityMotif for Validation 3\n",
      "173 - SeasonalityMotif with avg smape 108.76: \n",
      "Model Number: 174 of 279 with model Cassandra for Validation 3\n",
      "174 - Cassandra with avg smape 104.02: \n",
      "Model Number: 175 of 279 with model GLM for Validation 3\n"
     ]
    },
    {
     "name": "stderr",
     "output_type": "stream",
     "text": [
      "c:\\Users\\Lenovo\\AppData\\Local\\Programs\\Python\\Python312\\Lib\\site-packages\\numpy\\lib\\function_base.py:2897: RuntimeWarning: invalid value encountered in divide\n",
      "  c /= stddev[:, None]\n",
      "c:\\Users\\Lenovo\\AppData\\Local\\Programs\\Python\\Python312\\Lib\\site-packages\\numpy\\lib\\function_base.py:2898: RuntimeWarning: invalid value encountered in divide\n",
      "  c /= stddev[None, :]\n",
      "c:\\Users\\Lenovo\\AppData\\Local\\Programs\\Python\\Python312\\Lib\\site-packages\\statsmodels\\genmod\\families\\family.py:1367: ValueWarning: Negative binomial dispersion parameter alpha not set. Using default value alpha=1.0.\n",
      "  warnings.warn(\"Negative binomial dispersion parameter alpha not \"\n",
      "c:\\Users\\Lenovo\\AppData\\Local\\Programs\\Python\\Python312\\Lib\\site-packages\\statsmodels\\genmod\\families\\family.py:1367: ValueWarning: Negative binomial dispersion parameter alpha not set. Using default value alpha=1.0.\n",
      "  warnings.warn(\"Negative binomial dispersion parameter alpha not \"\n",
      "c:\\Users\\Lenovo\\AppData\\Local\\Programs\\Python\\Python312\\Lib\\site-packages\\statsmodels\\genmod\\families\\family.py:1367: ValueWarning: Negative binomial dispersion parameter alpha not set. Using default value alpha=1.0.\n",
      "  warnings.warn(\"Negative binomial dispersion parameter alpha not \"\n",
      "c:\\Users\\Lenovo\\AppData\\Local\\Programs\\Python\\Python312\\Lib\\site-packages\\statsmodels\\genmod\\families\\family.py:1367: ValueWarning: Negative binomial dispersion parameter alpha not set. Using default value alpha=1.0.\n",
      "  warnings.warn(\"Negative binomial dispersion parameter alpha not \"\n",
      "c:\\Users\\Lenovo\\AppData\\Local\\Programs\\Python\\Python312\\Lib\\site-packages\\statsmodels\\genmod\\families\\family.py:1367: ValueWarning: Negative binomial dispersion parameter alpha not set. Using default value alpha=1.0.\n",
      "  warnings.warn(\"Negative binomial dispersion parameter alpha not \"\n",
      "c:\\Users\\Lenovo\\AppData\\Local\\Programs\\Python\\Python312\\Lib\\site-packages\\statsmodels\\genmod\\families\\family.py:1367: ValueWarning: Negative binomial dispersion parameter alpha not set. Using default value alpha=1.0.\n",
      "  warnings.warn(\"Negative binomial dispersion parameter alpha not \"\n",
      "c:\\Users\\Lenovo\\AppData\\Local\\Programs\\Python\\Python312\\Lib\\site-packages\\statsmodels\\genmod\\families\\family.py:1367: ValueWarning: Negative binomial dispersion parameter alpha not set. Using default value alpha=1.0.\n",
      "  warnings.warn(\"Negative binomial dispersion parameter alpha not \"\n",
      "c:\\Users\\Lenovo\\AppData\\Local\\Programs\\Python\\Python312\\Lib\\site-packages\\statsmodels\\genmod\\families\\family.py:1367: ValueWarning: Negative binomial dispersion parameter alpha not set. Using default value alpha=1.0.\n",
      "  warnings.warn(\"Negative binomial dispersion parameter alpha not \"\n",
      "c:\\Users\\Lenovo\\AppData\\Local\\Programs\\Python\\Python312\\Lib\\site-packages\\statsmodels\\genmod\\families\\family.py:1367: ValueWarning: Negative binomial dispersion parameter alpha not set. Using default value alpha=1.0.\n",
      "  warnings.warn(\"Negative binomial dispersion parameter alpha not \"\n"
     ]
    },
    {
     "name": "stdout",
     "output_type": "stream",
     "text": [
      "175 - GLM with avg smape 115.66: \n",
      "Model Number: 176 of 279 with model GLM for Validation 3\n",
      "176 - GLM with avg smape 115.66: \n",
      "Model Number: 177 of 279 with model SeasonalityMotif for Validation 3\n",
      "177 - SeasonalityMotif with avg smape 107.9: \n",
      "Model Number: 178 of 279 with model BallTreeMultivariateMotif for Validation 3\n",
      "Template Eval Error: ValueError('window shape cannot be larger than input array shape') in model 178 in generation 0: BallTreeMultivariateMotif\n",
      "Model Number: 179 of 279 with model SeasonalityMotif for Validation 3\n",
      "179 - SeasonalityMotif with avg smape 114.48: \n",
      "Model Number: 180 of 279 with model SeasonalityMotif for Validation 3\n"
     ]
    },
    {
     "name": "stderr",
     "output_type": "stream",
     "text": [
      "c:\\Users\\Lenovo\\AppData\\Local\\Programs\\Python\\Python312\\Lib\\site-packages\\statsmodels\\genmod\\families\\family.py:1367: ValueWarning: Negative binomial dispersion parameter alpha not set. Using default value alpha=1.0.\n",
      "  warnings.warn(\"Negative binomial dispersion parameter alpha not \"\n",
      "c:\\Users\\Lenovo\\AppData\\Local\\Programs\\Python\\Python312\\Lib\\site-packages\\statsmodels\\genmod\\families\\family.py:1367: ValueWarning: Negative binomial dispersion parameter alpha not set. Using default value alpha=1.0.\n",
      "  warnings.warn(\"Negative binomial dispersion parameter alpha not \"\n",
      "c:\\Users\\Lenovo\\AppData\\Local\\Programs\\Python\\Python312\\Lib\\site-packages\\statsmodels\\genmod\\families\\family.py:1367: ValueWarning: Negative binomial dispersion parameter alpha not set. Using default value alpha=1.0.\n",
      "  warnings.warn(\"Negative binomial dispersion parameter alpha not \"\n",
      "c:\\Users\\Lenovo\\AppData\\Local\\Programs\\Python\\Python312\\Lib\\site-packages\\statsmodels\\genmod\\families\\family.py:1367: ValueWarning: Negative binomial dispersion parameter alpha not set. Using default value alpha=1.0.\n",
      "  warnings.warn(\"Negative binomial dispersion parameter alpha not \"\n",
      "c:\\Users\\Lenovo\\AppData\\Local\\Programs\\Python\\Python312\\Lib\\site-packages\\statsmodels\\genmod\\families\\family.py:1367: ValueWarning: Negative binomial dispersion parameter alpha not set. Using default value alpha=1.0.\n",
      "  warnings.warn(\"Negative binomial dispersion parameter alpha not \"\n",
      "c:\\Users\\Lenovo\\AppData\\Local\\Programs\\Python\\Python312\\Lib\\site-packages\\statsmodels\\genmod\\families\\family.py:1367: ValueWarning: Negative binomial dispersion parameter alpha not set. Using default value alpha=1.0.\n",
      "  warnings.warn(\"Negative binomial dispersion parameter alpha not \"\n",
      "c:\\Users\\Lenovo\\AppData\\Local\\Programs\\Python\\Python312\\Lib\\site-packages\\statsmodels\\genmod\\families\\family.py:1367: ValueWarning: Negative binomial dispersion parameter alpha not set. Using default value alpha=1.0.\n",
      "  warnings.warn(\"Negative binomial dispersion parameter alpha not \"\n",
      "c:\\Users\\Lenovo\\AppData\\Local\\Programs\\Python\\Python312\\Lib\\site-packages\\statsmodels\\genmod\\families\\family.py:1367: ValueWarning: Negative binomial dispersion parameter alpha not set. Using default value alpha=1.0.\n",
      "  warnings.warn(\"Negative binomial dispersion parameter alpha not \"\n",
      "c:\\Users\\Lenovo\\AppData\\Local\\Programs\\Python\\Python312\\Lib\\site-packages\\statsmodels\\genmod\\families\\family.py:1367: ValueWarning: Negative binomial dispersion parameter alpha not set. Using default value alpha=1.0.\n",
      "  warnings.warn(\"Negative binomial dispersion parameter alpha not \"\n"
     ]
    },
    {
     "name": "stdout",
     "output_type": "stream",
     "text": [
      "Template Eval Error: ValueError('window shape cannot be larger than input array shape') in model 180 in generation 0: SeasonalityMotif\n",
      "Model Number: 181 of 279 with model SectionalMotif for Validation 3\n",
      "Template Eval Error: ValueError('kth(=10) out of bounds (5)') in model 181 in generation 0: SectionalMotif\n",
      "Model Number: 182 of 279 with model BallTreeMultivariateMotif for Validation 3\n",
      "Template Eval Error: ValueError('window shape cannot be larger than input array shape') in model 182 in generation 0: BallTreeMultivariateMotif\n",
      "Model Number: 183 of 279 with model MetricMotif for Validation 3\n",
      "183 - MetricMotif with avg smape 113.62: \n",
      "Model Number: 184 of 279 with model MetricMotif for Validation 3\n"
     ]
    },
    {
     "name": "stderr",
     "output_type": "stream",
     "text": [
      "c:\\Users\\Lenovo\\AppData\\Local\\Programs\\Python\\Python312\\Lib\\site-packages\\autots\\tools\\impute.py:60: RuntimeWarning: Mean of empty slice\n",
      "  arr = np.nan_to_num(arr) + np.isnan(arr) * np.nan_to_num(np.nanmean(arr, axis=0))\n",
      "c:\\Users\\Lenovo\\AppData\\Local\\Programs\\Python\\Python312\\Lib\\site-packages\\autots\\tools\\impute.py:60: RuntimeWarning: Mean of empty slice\n",
      "  arr = np.nan_to_num(arr) + np.isnan(arr) * np.nan_to_num(np.nanmean(arr, axis=0))\n"
     ]
    },
    {
     "name": "stdout",
     "output_type": "stream",
     "text": [
      "Template Eval Error: ValueError('window shape cannot be larger than input array shape') in model 184 in generation 0: MetricMotif\n",
      "Model Number: 185 of 279 with model MetricMotif for Validation 3\n",
      "Template Eval Error: ValueError('window shape cannot be larger than input array shape') in model 185 in generation 0: MetricMotif\n",
      "Model Number: 186 of 279 with model MetricMotif for Validation 3\n",
      "Template Eval Error: ValueError('window shape cannot be larger than input array shape') in model 186 in generation 0: MetricMotif\n",
      "Model Number: 187 of 279 with model Cassandra for Validation 3\n"
     ]
    },
    {
     "name": "stderr",
     "output_type": "stream",
     "text": [
      "c:\\Users\\Lenovo\\AppData\\Local\\Programs\\Python\\Python312\\Lib\\site-packages\\autots\\tools\\impute.py:60: RuntimeWarning: Mean of empty slice\n",
      "  arr = np.nan_to_num(arr) + np.isnan(arr) * np.nan_to_num(np.nanmean(arr, axis=0))\n",
      "c:\\Users\\Lenovo\\AppData\\Local\\Programs\\Python\\Python312\\Lib\\site-packages\\numpy\\lib\\function_base.py:2897: RuntimeWarning: invalid value encountered in divide\n",
      "  c /= stddev[:, None]\n",
      "c:\\Users\\Lenovo\\AppData\\Local\\Programs\\Python\\Python312\\Lib\\site-packages\\numpy\\lib\\function_base.py:2898: RuntimeWarning: invalid value encountered in divide\n",
      "  c /= stddev[None, :]\n"
     ]
    },
    {
     "name": "stdout",
     "output_type": "stream",
     "text": [
      "187 - Cassandra with avg smape 102.89: \n",
      "Model Number: 188 of 279 with model Cassandra for Validation 3\n",
      "Template Eval Error: ValueError('transformed data is all zeroes') in model 188 in generation 0: Cassandra\n",
      "Model Number: 189 of 279 with model SeasonalityMotif for Validation 3\n",
      "189 - SeasonalityMotif with avg smape 111.6: \n",
      "Model Number: 190 of 279 with model BallTreeMultivariateMotif for Validation 3\n",
      "Template Eval Error: ValueError('window shape cannot be larger than input array shape') in model 190 in generation 0: BallTreeMultivariateMotif\n",
      "Model Number: 191 of 279 with model ConstantNaive for Validation 3\n",
      "191 - ConstantNaive with avg smape 121.03: \n",
      "Model Number: 192 of 279 with model Cassandra for Validation 3\n",
      "Template Eval Error: ValueError('window shape cannot be larger than input array shape') in model 192 in generation 0: Cassandra\n",
      "Model Number: 193 of 279 with model SectionalMotif for Validation 3\n",
      "Template Eval Error: ValueError('kth(=10) out of bounds (5)') in model 193 in generation 0: SectionalMotif\n",
      "Model Number: 194 of 279 with model ConstantNaive for Validation 3\n",
      "194 - ConstantNaive with avg smape 109.4: \n",
      "Model Number: 195 of 279 with model ConstantNaive for Validation 3\n",
      "195 - ConstantNaive with avg smape 109.4: \n",
      "Model Number: 196 of 279 with model ConstantNaive for Validation 3\n",
      "196 - ConstantNaive with avg smape 109.32: \n",
      "Model Number: 197 of 279 with model MetricMotif for Validation 3\n",
      "197 - MetricMotif with avg smape 83.51: \n",
      "Model Number: 198 of 279 with model MetricMotif for Validation 3\n",
      "Template Eval Error: ValueError('window shape cannot be larger than input array shape') in model 198 in generation 0: MetricMotif\n",
      "Model Number: 199 of 279 with model BallTreeMultivariateMotif for Validation 3\n",
      "Template Eval Error: ValueError('window shape cannot be larger than input array shape') in model 199 in generation 0: BallTreeMultivariateMotif\n",
      "Model Number: 200 of 279 with model SectionalMotif for Validation 3\n",
      "Template Eval Error: ValueError('kth(=10) out of bounds (5)') in model 200 in generation 0: SectionalMotif\n",
      "Model Number: 201 of 279 with model SeasonalityMotif for Validation 3\n",
      "201 - SeasonalityMotif with avg smape 105.01: \n",
      "Model Number: 202 of 279 with model MetricMotif for Validation 3\n",
      "202 - MetricMotif with avg smape 75.28: \n",
      "Model Number: 203 of 279 with model BallTreeMultivariateMotif for Validation 3\n",
      "Template Eval Error: ValueError('window shape cannot be larger than input array shape') in model 203 in generation 0: BallTreeMultivariateMotif\n",
      "Model Number: 204 of 279 with model MetricMotif for Validation 3\n",
      "204 - MetricMotif with avg smape 112.92: \n",
      "Model Number: 205 of 279 with model ConstantNaive for Validation 3\n",
      "205 - ConstantNaive with avg smape 110.99: \n",
      "Model Number: 206 of 279 with model ConstantNaive for Validation 3\n",
      "206 - ConstantNaive with avg smape 110.99: \n",
      "Model Number: 207 of 279 with model ConstantNaive for Validation 3\n",
      "207 - ConstantNaive with avg smape 111.8: \n",
      "Model Number: 208 of 279 with model ConstantNaive for Validation 3\n",
      "208 - ConstantNaive with avg smape 111.79: \n",
      "Model Number: 209 of 279 with model ConstantNaive for Validation 3\n",
      "209 - ConstantNaive with avg smape 117.28: \n",
      "Model Number: 210 of 279 with model ConstantNaive for Validation 3\n",
      "210 - ConstantNaive with avg smape 117.28: \n",
      "Model Number: 211 of 279 with model ConstantNaive for Validation 3\n",
      "211 - ConstantNaive with avg smape 117.28: \n",
      "Model Number: 212 of 279 with model BallTreeMultivariateMotif for Validation 3\n",
      "Template Eval Error: ValueError('window shape cannot be larger than input array shape') in model 212 in generation 0: BallTreeMultivariateMotif\n",
      "Model Number: 213 of 279 with model ConstantNaive for Validation 3\n",
      "213 - ConstantNaive with avg smape 104.71: \n",
      "Model Number: 214 of 279 with model BallTreeMultivariateMotif for Validation 3\n",
      "Template Eval Error: ValueError('window shape cannot be larger than input array shape') in model 214 in generation 0: BallTreeMultivariateMotif\n",
      "Model Number: 215 of 279 with model SectionalMotif for Validation 3\n",
      "Template Eval Error: ValueError('kth(=5) out of bounds (3)') in model 215 in generation 0: SectionalMotif\n",
      "Model Number: 216 of 279 with model SectionalMotif for Validation 3\n",
      "Template Eval Error: ValueError('kth(=10) out of bounds (5)') in model 216 in generation 0: SectionalMotif\n",
      "Model Number: 217 of 279 with model BallTreeMultivariateMotif for Validation 3\n",
      "Template Eval Error: ValueError('window shape cannot be larger than input array shape') in model 217 in generation 0: BallTreeMultivariateMotif\n",
      "Model Number: 218 of 279 with model MetricMotif for Validation 3\n",
      "Template Eval Error: ValueError('kth(=9) out of bounds (5)') in model 218 in generation 0: MetricMotif\n",
      "Model Number: 219 of 279 with model NVAR for Validation 3\n",
      "Template Eval Error: Exception('Transformer RobustScaler failed on inverse from params fake_date {\\'0\\': {}, \\'1\\': {\\'window\\': 100}, \\'2\\': {\\'part\\': \\'trend\\', \\'lamb\\': 129600}, \\'3\\': {\\'output_distribution\\': \\'normal\\', \\'n_quantiles\\': 7}, \\'4\\': {}} with ValueError(\"Input contains infinity or a value too large for dtype(\\'float64\\').\")') in model 219 in generation 0: NVAR\n",
      "Model Number: 220 of 279 with model NVAR for Validation 3\n",
      "220 - NVAR with avg smape 63.09: \n",
      "Model Number: 221 of 279 with model MetricMotif for Validation 3\n",
      "221 - MetricMotif with avg smape 113.62: \n",
      "Model Number: 222 of 279 with model MetricMotif for Validation 3\n",
      "222 - MetricMotif with avg smape 113.62: \n",
      "Model Number: 223 of 279 with model BallTreeMultivariateMotif for Validation 3\n",
      "Template Eval Error: ValueError('window shape cannot be larger than input array shape') in model 223 in generation 0: BallTreeMultivariateMotif\n",
      "Model Number: 224 of 279 with model BallTreeMultivariateMotif for Validation 3\n",
      "Template Eval Error: ValueError('window shape cannot be larger than input array shape') in model 224 in generation 0: BallTreeMultivariateMotif\n",
      "Model Number: 225 of 279 with model BallTreeMultivariateMotif for Validation 3\n",
      "Template Eval Error: ValueError('window shape cannot be larger than input array shape') in model 225 in generation 0: BallTreeMultivariateMotif\n",
      "Model Number: 226 of 279 with model SectionalMotif for Validation 3\n",
      "Template Eval Error: ValueError('kth(=5) out of bounds (5)') in model 226 in generation 0: SectionalMotif\n",
      "Model Number: 227 of 279 with model SectionalMotif for Validation 3\n",
      "Template Eval Error: ValueError('kth(=10) out of bounds (5)') in model 227 in generation 0: SectionalMotif\n",
      "Model Number: 228 of 279 with model SeasonalityMotif for Validation 3\n",
      "228 - SeasonalityMotif with avg smape 143.58: \n",
      "Model Number: 229 of 279 with model SectionalMotif for Validation 3\n",
      "Template Eval Error: ValueError('kth(=10) out of bounds (5)') in model 229 in generation 0: SectionalMotif\n",
      "Model Number: 230 of 279 with model WindowRegression for Validation 3\n",
      "230 - WindowRegression with avg smape 161.67: \n",
      "Model Number: 231 of 279 with model SeasonalityMotif for Validation 3\n",
      "231 - SeasonalityMotif with avg smape 140.51: \n",
      "Model Number: 232 of 279 with model SectionalMotif for Validation 3\n",
      "Template Eval Error: ValueError('kth(=5) out of bounds (5)') in model 232 in generation 0: SectionalMotif\n",
      "Model Number: 233 of 279 with model SectionalMotif for Validation 3\n",
      "Template Eval Error: ValueError('kth(=10) out of bounds (5)') in model 233 in generation 0: SectionalMotif\n",
      "Model Number: 234 of 279 with model SectionalMotif for Validation 3\n",
      "Template Eval Error: ValueError('kth(=10) out of bounds (5)') in model 234 in generation 0: SectionalMotif\n",
      "Model Number: 235 of 279 with model WindowRegression for Validation 3\n",
      "235 - WindowRegression with avg smape 115.96: \n",
      "Model Number: 236 of 279 with model SectionalMotif for Validation 3\n",
      "Template Eval Error: ValueError('kth(=10) out of bounds (5)') in model 236 in generation 0: SectionalMotif\n",
      "Model Number: 237 of 279 with model WindowRegression for Validation 3\n",
      "237 - WindowRegression with avg smape 157.5: \n",
      "Model Number: 238 of 279 with model SectionalMotif for Validation 3\n",
      "Template Eval Error: ValueError('kth(=5) out of bounds (3)') in model 238 in generation 0: SectionalMotif\n",
      "Model Number: 239 of 279 with model WindowRegression for Validation 3\n",
      "239 - WindowRegression with avg smape 127.03: \n",
      "Model Number: 240 of 279 with model WindowRegression for Validation 3\n",
      "240 - WindowRegression with avg smape 151.44: \n",
      "Model Number: 241 of 279 with model WindowRegression for Validation 3\n",
      "241 - WindowRegression with avg smape 122.03: \n",
      "Model Number: 242 of 279 with model NVAR for Validation 3\n",
      "242 - NVAR with avg smape 149.05: \n",
      "Model Number: 243 of 279 with model NVAR for Validation 3\n",
      "243 - NVAR with avg smape 149.78: \n",
      "Model Number: 244 of 279 with model NVAR for Validation 3\n",
      "244 - NVAR with avg smape 121.85: \n",
      "Model Number: 245 of 279 with model WindowRegression for Validation 3\n",
      "Template Eval Error: ValueError('Found array with 0 sample(s) (shape=(0, 0)) while a minimum of 1 is required by MLPRegressor.') in model 245 in generation 0: WindowRegression\n",
      "Model Number: 246 of 279 with model WindowRegression for Validation 3\n",
      "246 - WindowRegression with avg smape 155.58: \n",
      "Model Number: 247 of 279 with model VECM for Validation 3\n",
      "247 - VECM with avg smape 200.0: \n",
      "Model Number: 248 of 279 with model VECM for Validation 3\n",
      "248 - VECM with avg smape 174.84: \n",
      "Model Number: 249 of 279 with model MAR for Validation 3\n",
      "249 - MAR with avg smape 200.0: \n",
      "Model Number: 250 of 279 with model NVAR for Validation 3\n",
      "250 - NVAR with avg smape 183.07: \n",
      "Model Number: 251 of 279 with model VECM for Validation 3\n",
      "251 - VECM with avg smape 199.02: \n",
      "Model Number: 252 of 279 with model WindowRegression for Validation 3\n",
      "252 - WindowRegression with avg smape 155.76: \n",
      "Model Number: 253 of 279 with model VECM for Validation 3\n",
      "253 - VECM with avg smape 200.0: \n",
      "Model Number: 254 of 279 with model VECM for Validation 3\n",
      "254 - VECM with avg smape 200.0: \n",
      "Model Number: 255 of 279 with model VECM for Validation 3\n",
      "255 - VECM with avg smape 158.6: \n",
      "Model Number: 256 of 279 with model MAR for Validation 3\n",
      "256 - MAR with avg smape 113.58: \n",
      "Model Number: 257 of 279 with model MAR for Validation 3\n",
      "257 - MAR with avg smape 200.0: \n",
      "Model Number: 258 of 279 with model VECM for Validation 3\n",
      "258 - VECM with avg smape 200.0: \n",
      "Model Number: 259 of 279 with model VECM for Validation 3\n",
      "Template Eval Error: LinAlgError('Singular matrix') in model 259 in generation 0: VECM\n",
      "Model Number: 260 of 279 with model VECM for Validation 3\n",
      "Template Eval Error: LinAlgError('Singular matrix') in model 260 in generation 0: VECM\n",
      "Model Number: 261 of 279 with model VECM for Validation 3\n",
      "261 - VECM with avg smape 200.0: \n",
      "Model Number: 262 of 279 with model VECM for Validation 3\n",
      "262 - VECM with avg smape 200.0: \n",
      "Model Number: 263 of 279 with model DatepartRegression for Validation 3\n",
      "263 - DatepartRegression with avg smape 117.36: \n",
      "Model Number: 264 of 279 with model FFT for Validation 3\n",
      "264 - FFT with avg smape 120.96: \n",
      "Model Number: 265 of 279 with model KalmanStateSpace for Validation 3\n"
     ]
    },
    {
     "name": "stderr",
     "output_type": "stream",
     "text": [
      "c:\\Users\\Lenovo\\AppData\\Local\\Programs\\Python\\Python312\\Lib\\site-packages\\sklearn\\svm\\_base.py:1235: ConvergenceWarning: Liblinear failed to converge, increase the number of iterations.\n",
      "  warnings.warn(\n",
      "c:\\Users\\Lenovo\\AppData\\Local\\Programs\\Python\\Python312\\Lib\\site-packages\\sklearn\\svm\\_base.py:1235: ConvergenceWarning: Liblinear failed to converge, increase the number of iterations.\n",
      "  warnings.warn(\n",
      "c:\\Users\\Lenovo\\AppData\\Local\\Programs\\Python\\Python312\\Lib\\site-packages\\sklearn\\svm\\_base.py:1235: ConvergenceWarning: Liblinear failed to converge, increase the number of iterations.\n",
      "  warnings.warn(\n",
      "c:\\Users\\Lenovo\\AppData\\Local\\Programs\\Python\\Python312\\Lib\\site-packages\\sklearn\\svm\\_base.py:1235: ConvergenceWarning: Liblinear failed to converge, increase the number of iterations.\n",
      "  warnings.warn(\n",
      "c:\\Users\\Lenovo\\AppData\\Local\\Programs\\Python\\Python312\\Lib\\site-packages\\sklearn\\svm\\_base.py:1235: ConvergenceWarning: Liblinear failed to converge, increase the number of iterations.\n",
      "  warnings.warn(\n",
      "c:\\Users\\Lenovo\\AppData\\Local\\Programs\\Python\\Python312\\Lib\\site-packages\\sklearn\\svm\\_base.py:1235: ConvergenceWarning: Liblinear failed to converge, increase the number of iterations.\n",
      "  warnings.warn(\n",
      "c:\\Users\\Lenovo\\AppData\\Local\\Programs\\Python\\Python312\\Lib\\site-packages\\sklearn\\svm\\_base.py:1235: ConvergenceWarning: Liblinear failed to converge, increase the number of iterations.\n",
      "  warnings.warn(\n",
      "c:\\Users\\Lenovo\\AppData\\Local\\Programs\\Python\\Python312\\Lib\\site-packages\\sklearn\\svm\\_base.py:1235: ConvergenceWarning: Liblinear failed to converge, increase the number of iterations.\n",
      "  warnings.warn(\n",
      "c:\\Users\\Lenovo\\AppData\\Local\\Programs\\Python\\Python312\\Lib\\site-packages\\sklearn\\svm\\_base.py:1235: ConvergenceWarning: Liblinear failed to converge, increase the number of iterations.\n",
      "  warnings.warn(\n"
     ]
    },
    {
     "name": "stdout",
     "output_type": "stream",
     "text": [
      "265 - KalmanStateSpace with avg smape 131.57: \n",
      "Model Number: 266 of 279 with model FFT for Validation 3\n",
      "266 - FFT with avg smape 52.2: \n",
      "Model Number: 267 of 279 with model FFT for Validation 3\n",
      "267 - FFT with avg smape 51.48: \n",
      "Model Number: 268 of 279 with model FFT for Validation 3\n",
      "268 - FFT with avg smape 74.93: \n",
      "Model Number: 269 of 279 with model FFT for Validation 3\n",
      "269 - FFT with avg smape 51.48: \n",
      "Model Number: 270 of 279 with model SeasonalNaive for Validation 3\n",
      "270 - SeasonalNaive with avg smape 113.55: \n",
      "Model Number: 271 of 279 with model FFT for Validation 3\n",
      "271 - FFT with avg smape 125.07: \n",
      "Model Number: 272 of 279 with model MetricMotif for Validation 3\n",
      "272 - MetricMotif with avg smape 114.43: \n",
      "Model Number: 273 of 279 with model FFT for Validation 3\n",
      "273 - FFT with avg smape 83.91: \n",
      "Model Number: 274 of 279 with model FFT for Validation 3\n",
      "274 - FFT with avg smape 84.16: \n",
      "Model Number: 275 of 279 with model FFT for Validation 3\n",
      "275 - FFT with avg smape 110.69: \n",
      "Model Number: 276 of 279 with model BallTreeMultivariateMotif for Validation 3\n",
      "276 - BallTreeMultivariateMotif with avg smape 112.29: \n",
      "Model Number: 277 of 279 with model FFT for Validation 3\n",
      "277 - FFT with avg smape 82.14: \n",
      "Model Number: 278 of 279 with model FFT for Validation 3\n",
      "278 - FFT with avg smape 80.51: \n",
      "Model Number: 279 of 279 with model SeasonalNaive for Validation 3\n",
      "279 - SeasonalNaive with avg smape 143.6: \n"
     ]
    },
    {
     "name": "stderr",
     "output_type": "stream",
     "text": [
      "c:\\Users\\Lenovo\\AppData\\Local\\Programs\\Python\\Python312\\Lib\\site-packages\\autots\\evaluator\\auto_model.py:2462: FutureWarning: Downcasting behavior in `replace` is deprecated and will be removed in a future version. To retain the old behavior, explicitly call `result.infer_objects(copy=False)`. To opt-in to the future behavior, set `pd.set_option('future.no_silent_downcasting', True)`\n",
      "  validation_results.model_results = validation_results.model_results.replace(\n"
     ]
    },
    {
     "name": "stdout",
     "output_type": "stream",
     "text": [
      "Model Number: 2592 with model Ensemble in generation 22 of Ensembles\n",
      "Model Number: 2593 with model Ensemble in generation 22 of Ensembles\n",
      "Model Number: 2594 with model Ensemble in generation 22 of Ensembles\n",
      "Model Number: 2595 with model Ensemble in generation 22 of Ensembles\n"
     ]
    },
    {
     "name": "stderr",
     "output_type": "stream",
     "text": [
      "c:\\Users\\Lenovo\\AppData\\Local\\Programs\\Python\\Python312\\Lib\\site-packages\\autots\\tools\\anomaly_utils.py:1115: FutureWarning: Downcasting object dtype arrays on .fillna, .ffill, .bfill is deprecated and will change in a future version. Call result.infer_objects(copy=False) instead. To opt-in to the future behavior, set `pd.set_option('future.no_silent_downcasting', True)`\n",
      "  result = result + temp.where(temp.isnull(), 1).fillna(0)\n",
      "c:\\Users\\Lenovo\\AppData\\Local\\Programs\\Python\\Python312\\Lib\\site-packages\\numpy\\lib\\function_base.py:2897: RuntimeWarning: invalid value encountered in divide\n",
      "  c /= stddev[:, None]\n",
      "c:\\Users\\Lenovo\\AppData\\Local\\Programs\\Python\\Python312\\Lib\\site-packages\\numpy\\lib\\function_base.py:2898: RuntimeWarning: invalid value encountered in divide\n",
      "  c /= stddev[None, :]\n",
      "c:\\Users\\Lenovo\\AppData\\Local\\Programs\\Python\\Python312\\Lib\\site-packages\\numpy\\lib\\function_base.py:2897: RuntimeWarning: invalid value encountered in divide\n",
      "  c /= stddev[:, None]\n",
      "c:\\Users\\Lenovo\\AppData\\Local\\Programs\\Python\\Python312\\Lib\\site-packages\\numpy\\lib\\function_base.py:2898: RuntimeWarning: invalid value encountered in divide\n",
      "  c /= stddev[None, :]\n"
     ]
    },
    {
     "name": "stdout",
     "output_type": "stream",
     "text": [
      "Model Number: 2596 with model Ensemble in generation 22 of Ensembles\n",
      "Model Number: 2597 with model Ensemble in generation 22 of Ensembles\n",
      "Model Number: 2598 with model Ensemble in generation 22 of Ensembles\n"
     ]
    },
    {
     "name": "stderr",
     "output_type": "stream",
     "text": [
      "c:\\Users\\Lenovo\\AppData\\Local\\Programs\\Python\\Python312\\Lib\\site-packages\\statsmodels\\genmod\\families\\family.py:1367: ValueWarning: Negative binomial dispersion parameter alpha not set. Using default value alpha=1.0.\n",
      "  warnings.warn(\"Negative binomial dispersion parameter alpha not \"\n",
      "c:\\Users\\Lenovo\\AppData\\Local\\Programs\\Python\\Python312\\Lib\\site-packages\\statsmodels\\genmod\\families\\family.py:1367: ValueWarning: Negative binomial dispersion parameter alpha not set. Using default value alpha=1.0.\n",
      "  warnings.warn(\"Negative binomial dispersion parameter alpha not \"\n",
      "c:\\Users\\Lenovo\\AppData\\Local\\Programs\\Python\\Python312\\Lib\\site-packages\\statsmodels\\genmod\\families\\family.py:1367: ValueWarning: Negative binomial dispersion parameter alpha not set. Using default value alpha=1.0.\n",
      "  warnings.warn(\"Negative binomial dispersion parameter alpha not \"\n",
      "c:\\Users\\Lenovo\\AppData\\Local\\Programs\\Python\\Python312\\Lib\\site-packages\\statsmodels\\genmod\\families\\family.py:1367: ValueWarning: Negative binomial dispersion parameter alpha not set. Using default value alpha=1.0.\n",
      "  warnings.warn(\"Negative binomial dispersion parameter alpha not \"\n",
      "c:\\Users\\Lenovo\\AppData\\Local\\Programs\\Python\\Python312\\Lib\\site-packages\\statsmodels\\genmod\\families\\family.py:1367: ValueWarning: Negative binomial dispersion parameter alpha not set. Using default value alpha=1.0.\n",
      "  warnings.warn(\"Negative binomial dispersion parameter alpha not \"\n",
      "c:\\Users\\Lenovo\\AppData\\Local\\Programs\\Python\\Python312\\Lib\\site-packages\\statsmodels\\genmod\\families\\family.py:1367: ValueWarning: Negative binomial dispersion parameter alpha not set. Using default value alpha=1.0.\n",
      "  warnings.warn(\"Negative binomial dispersion parameter alpha not \"\n",
      "c:\\Users\\Lenovo\\AppData\\Local\\Programs\\Python\\Python312\\Lib\\site-packages\\statsmodels\\genmod\\families\\family.py:1367: ValueWarning: Negative binomial dispersion parameter alpha not set. Using default value alpha=1.0.\n",
      "  warnings.warn(\"Negative binomial dispersion parameter alpha not \"\n",
      "c:\\Users\\Lenovo\\AppData\\Local\\Programs\\Python\\Python312\\Lib\\site-packages\\statsmodels\\genmod\\families\\family.py:1367: ValueWarning: Negative binomial dispersion parameter alpha not set. Using default value alpha=1.0.\n",
      "  warnings.warn(\"Negative binomial dispersion parameter alpha not \"\n",
      "c:\\Users\\Lenovo\\AppData\\Local\\Programs\\Python\\Python312\\Lib\\site-packages\\statsmodels\\genmod\\families\\family.py:1367: ValueWarning: Negative binomial dispersion parameter alpha not set. Using default value alpha=1.0.\n",
      "  warnings.warn(\"Negative binomial dispersion parameter alpha not \"\n"
     ]
    },
    {
     "name": "stdout",
     "output_type": "stream",
     "text": [
      "Model Number: 2599 with model Ensemble in generation 22 of Ensembles\n",
      "Model Number: 2600 with model Ensemble in generation 22 of Ensembles\n",
      "Model Number: 2601 with model Ensemble in generation 22 of Ensembles\n"
     ]
    },
    {
     "name": "stderr",
     "output_type": "stream",
     "text": [
      "c:\\Users\\Lenovo\\AppData\\Local\\Programs\\Python\\Python312\\Lib\\site-packages\\autots\\tools\\anomaly_utils.py:1115: FutureWarning: Downcasting object dtype arrays on .fillna, .ffill, .bfill is deprecated and will change in a future version. Call result.infer_objects(copy=False) instead. To opt-in to the future behavior, set `pd.set_option('future.no_silent_downcasting', True)`\n",
      "  result = result + temp.where(temp.isnull(), 1).fillna(0)\n",
      "c:\\Users\\Lenovo\\AppData\\Local\\Programs\\Python\\Python312\\Lib\\site-packages\\numpy\\lib\\function_base.py:2897: RuntimeWarning: invalid value encountered in divide\n",
      "  c /= stddev[:, None]\n",
      "c:\\Users\\Lenovo\\AppData\\Local\\Programs\\Python\\Python312\\Lib\\site-packages\\numpy\\lib\\function_base.py:2898: RuntimeWarning: invalid value encountered in divide\n",
      "  c /= stddev[None, :]\n"
     ]
    },
    {
     "name": "stdout",
     "output_type": "stream",
     "text": [
      "Model Number: 2602 with model Ensemble in generation 22 of Ensembles\n",
      "Model Number: 2603 with model Ensemble in generation 22 of Ensembles\n"
     ]
    },
    {
     "name": "stderr",
     "output_type": "stream",
     "text": [
      "c:\\Users\\Lenovo\\AppData\\Local\\Programs\\Python\\Python312\\Lib\\site-packages\\autots\\tools\\anomaly_utils.py:1115: FutureWarning: Downcasting object dtype arrays on .fillna, .ffill, .bfill is deprecated and will change in a future version. Call result.infer_objects(copy=False) instead. To opt-in to the future behavior, set `pd.set_option('future.no_silent_downcasting', True)`\n",
      "  result = result + temp.where(temp.isnull(), 1).fillna(0)\n",
      "c:\\Users\\Lenovo\\AppData\\Local\\Programs\\Python\\Python312\\Lib\\site-packages\\numpy\\lib\\function_base.py:2897: RuntimeWarning: invalid value encountered in divide\n",
      "  c /= stddev[:, None]\n",
      "c:\\Users\\Lenovo\\AppData\\Local\\Programs\\Python\\Python312\\Lib\\site-packages\\numpy\\lib\\function_base.py:2898: RuntimeWarning: invalid value encountered in divide\n",
      "  c /= stddev[None, :]\n"
     ]
    },
    {
     "name": "stdout",
     "output_type": "stream",
     "text": [
      "Model Number: 2604 with model Ensemble in generation 22 of Ensembles\n"
     ]
    },
    {
     "name": "stderr",
     "output_type": "stream",
     "text": [
      "c:\\Users\\Lenovo\\AppData\\Local\\Programs\\Python\\Python312\\Lib\\site-packages\\autots\\tools\\anomaly_utils.py:1115: FutureWarning: Downcasting object dtype arrays on .fillna, .ffill, .bfill is deprecated and will change in a future version. Call result.infer_objects(copy=False) instead. To opt-in to the future behavior, set `pd.set_option('future.no_silent_downcasting', True)`\n",
      "  result = result + temp.where(temp.isnull(), 1).fillna(0)\n",
      "c:\\Users\\Lenovo\\AppData\\Local\\Programs\\Python\\Python312\\Lib\\site-packages\\numpy\\lib\\function_base.py:2897: RuntimeWarning: invalid value encountered in divide\n",
      "  c /= stddev[:, None]\n",
      "c:\\Users\\Lenovo\\AppData\\Local\\Programs\\Python\\Python312\\Lib\\site-packages\\numpy\\lib\\function_base.py:2898: RuntimeWarning: invalid value encountered in divide\n",
      "  c /= stddev[None, :]\n"
     ]
    },
    {
     "name": "stdout",
     "output_type": "stream",
     "text": [
      "Validation Round: 1\n",
      "Model Number: 1 of 13 with model Ensemble for Validation 1\n",
      "📈 1 - Ensemble with avg smape 58.15: \n",
      "Model Number: 2 of 13 with model Ensemble for Validation 1\n",
      "2 - Ensemble with avg smape 60.43: \n",
      "Model Number: 3 of 13 with model Ensemble for Validation 1\n",
      "3 - Ensemble with avg smape 60.74: \n",
      "Model Number: 4 of 13 with model Ensemble for Validation 1\n"
     ]
    },
    {
     "name": "stderr",
     "output_type": "stream",
     "text": [
      "c:\\Users\\Lenovo\\AppData\\Local\\Programs\\Python\\Python312\\Lib\\site-packages\\autots\\tools\\anomaly_utils.py:1115: FutureWarning: Downcasting object dtype arrays on .fillna, .ffill, .bfill is deprecated and will change in a future version. Call result.infer_objects(copy=False) instead. To opt-in to the future behavior, set `pd.set_option('future.no_silent_downcasting', True)`\n",
      "  result = result + temp.where(temp.isnull(), 1).fillna(0)\n",
      "c:\\Users\\Lenovo\\AppData\\Local\\Programs\\Python\\Python312\\Lib\\site-packages\\numpy\\lib\\function_base.py:2897: RuntimeWarning: invalid value encountered in divide\n",
      "  c /= stddev[:, None]\n",
      "c:\\Users\\Lenovo\\AppData\\Local\\Programs\\Python\\Python312\\Lib\\site-packages\\numpy\\lib\\function_base.py:2898: RuntimeWarning: invalid value encountered in divide\n",
      "  c /= stddev[None, :]\n",
      "c:\\Users\\Lenovo\\AppData\\Local\\Programs\\Python\\Python312\\Lib\\site-packages\\numpy\\lib\\function_base.py:2897: RuntimeWarning: invalid value encountered in divide\n",
      "  c /= stddev[:, None]\n",
      "c:\\Users\\Lenovo\\AppData\\Local\\Programs\\Python\\Python312\\Lib\\site-packages\\numpy\\lib\\function_base.py:2898: RuntimeWarning: invalid value encountered in divide\n",
      "  c /= stddev[None, :]\n"
     ]
    },
    {
     "name": "stdout",
     "output_type": "stream",
     "text": [
      "4 - Ensemble with avg smape 74.92: \n",
      "Model Number: 5 of 13 with model Ensemble for Validation 1\n",
      "5 - Ensemble with avg smape 62.62: \n",
      "Model Number: 6 of 13 with model Ensemble for Validation 1\n",
      "6 - Ensemble with avg smape 69.12: \n",
      "Model Number: 7 of 13 with model Ensemble for Validation 1\n"
     ]
    },
    {
     "name": "stderr",
     "output_type": "stream",
     "text": [
      "c:\\Users\\Lenovo\\AppData\\Local\\Programs\\Python\\Python312\\Lib\\site-packages\\statsmodels\\genmod\\families\\family.py:1367: ValueWarning: Negative binomial dispersion parameter alpha not set. Using default value alpha=1.0.\n",
      "  warnings.warn(\"Negative binomial dispersion parameter alpha not \"\n",
      "c:\\Users\\Lenovo\\AppData\\Local\\Programs\\Python\\Python312\\Lib\\site-packages\\statsmodels\\genmod\\families\\family.py:1367: ValueWarning: Negative binomial dispersion parameter alpha not set. Using default value alpha=1.0.\n",
      "  warnings.warn(\"Negative binomial dispersion parameter alpha not \"\n",
      "c:\\Users\\Lenovo\\AppData\\Local\\Programs\\Python\\Python312\\Lib\\site-packages\\statsmodels\\genmod\\families\\family.py:1367: ValueWarning: Negative binomial dispersion parameter alpha not set. Using default value alpha=1.0.\n",
      "  warnings.warn(\"Negative binomial dispersion parameter alpha not \"\n",
      "c:\\Users\\Lenovo\\AppData\\Local\\Programs\\Python\\Python312\\Lib\\site-packages\\statsmodels\\genmod\\families\\family.py:1367: ValueWarning: Negative binomial dispersion parameter alpha not set. Using default value alpha=1.0.\n",
      "  warnings.warn(\"Negative binomial dispersion parameter alpha not \"\n",
      "c:\\Users\\Lenovo\\AppData\\Local\\Programs\\Python\\Python312\\Lib\\site-packages\\statsmodels\\genmod\\families\\family.py:1367: ValueWarning: Negative binomial dispersion parameter alpha not set. Using default value alpha=1.0.\n",
      "  warnings.warn(\"Negative binomial dispersion parameter alpha not \"\n",
      "c:\\Users\\Lenovo\\AppData\\Local\\Programs\\Python\\Python312\\Lib\\site-packages\\statsmodels\\genmod\\families\\family.py:1367: ValueWarning: Negative binomial dispersion parameter alpha not set. Using default value alpha=1.0.\n",
      "  warnings.warn(\"Negative binomial dispersion parameter alpha not \"\n",
      "c:\\Users\\Lenovo\\AppData\\Local\\Programs\\Python\\Python312\\Lib\\site-packages\\statsmodels\\genmod\\families\\family.py:1367: ValueWarning: Negative binomial dispersion parameter alpha not set. Using default value alpha=1.0.\n",
      "  warnings.warn(\"Negative binomial dispersion parameter alpha not \"\n",
      "c:\\Users\\Lenovo\\AppData\\Local\\Programs\\Python\\Python312\\Lib\\site-packages\\statsmodels\\genmod\\families\\family.py:1367: ValueWarning: Negative binomial dispersion parameter alpha not set. Using default value alpha=1.0.\n",
      "  warnings.warn(\"Negative binomial dispersion parameter alpha not \"\n",
      "c:\\Users\\Lenovo\\AppData\\Local\\Programs\\Python\\Python312\\Lib\\site-packages\\statsmodels\\genmod\\families\\family.py:1367: ValueWarning: Negative binomial dispersion parameter alpha not set. Using default value alpha=1.0.\n",
      "  warnings.warn(\"Negative binomial dispersion parameter alpha not \"\n"
     ]
    },
    {
     "name": "stdout",
     "output_type": "stream",
     "text": [
      "7 - Ensemble with avg smape 61.86: \n",
      "Model Number: 8 of 13 with model Ensemble for Validation 1\n",
      "8 - Ensemble with avg smape 61.86: \n",
      "Model Number: 9 of 13 with model Ensemble for Validation 1\n",
      "9 - Ensemble with avg smape 69.83: \n",
      "Model Number: 10 of 13 with model Ensemble for Validation 1\n"
     ]
    },
    {
     "name": "stderr",
     "output_type": "stream",
     "text": [
      "c:\\Users\\Lenovo\\AppData\\Local\\Programs\\Python\\Python312\\Lib\\site-packages\\autots\\tools\\anomaly_utils.py:1115: FutureWarning: Downcasting object dtype arrays on .fillna, .ffill, .bfill is deprecated and will change in a future version. Call result.infer_objects(copy=False) instead. To opt-in to the future behavior, set `pd.set_option('future.no_silent_downcasting', True)`\n",
      "  result = result + temp.where(temp.isnull(), 1).fillna(0)\n",
      "c:\\Users\\Lenovo\\AppData\\Local\\Programs\\Python\\Python312\\Lib\\site-packages\\numpy\\lib\\function_base.py:2897: RuntimeWarning: invalid value encountered in divide\n",
      "  c /= stddev[:, None]\n",
      "c:\\Users\\Lenovo\\AppData\\Local\\Programs\\Python\\Python312\\Lib\\site-packages\\numpy\\lib\\function_base.py:2898: RuntimeWarning: invalid value encountered in divide\n",
      "  c /= stddev[None, :]\n"
     ]
    },
    {
     "name": "stdout",
     "output_type": "stream",
     "text": [
      "10 - Ensemble with avg smape 77.03: \n",
      "Model Number: 11 of 13 with model Ensemble for Validation 1\n",
      "11 - Ensemble with avg smape 72.03: \n",
      "Model Number: 12 of 13 with model Ensemble for Validation 1\n"
     ]
    },
    {
     "name": "stderr",
     "output_type": "stream",
     "text": [
      "c:\\Users\\Lenovo\\AppData\\Local\\Programs\\Python\\Python312\\Lib\\site-packages\\autots\\tools\\anomaly_utils.py:1115: FutureWarning: Downcasting object dtype arrays on .fillna, .ffill, .bfill is deprecated and will change in a future version. Call result.infer_objects(copy=False) instead. To opt-in to the future behavior, set `pd.set_option('future.no_silent_downcasting', True)`\n",
      "  result = result + temp.where(temp.isnull(), 1).fillna(0)\n",
      "c:\\Users\\Lenovo\\AppData\\Local\\Programs\\Python\\Python312\\Lib\\site-packages\\numpy\\lib\\function_base.py:2897: RuntimeWarning: invalid value encountered in divide\n",
      "  c /= stddev[:, None]\n",
      "c:\\Users\\Lenovo\\AppData\\Local\\Programs\\Python\\Python312\\Lib\\site-packages\\numpy\\lib\\function_base.py:2898: RuntimeWarning: invalid value encountered in divide\n",
      "  c /= stddev[None, :]\n"
     ]
    },
    {
     "name": "stdout",
     "output_type": "stream",
     "text": [
      "12 - Ensemble with avg smape 83.5: \n",
      "Model Number: 13 of 13 with model Ensemble for Validation 1\n"
     ]
    },
    {
     "name": "stderr",
     "output_type": "stream",
     "text": [
      "c:\\Users\\Lenovo\\AppData\\Local\\Programs\\Python\\Python312\\Lib\\site-packages\\autots\\tools\\anomaly_utils.py:1115: FutureWarning: Downcasting object dtype arrays on .fillna, .ffill, .bfill is deprecated and will change in a future version. Call result.infer_objects(copy=False) instead. To opt-in to the future behavior, set `pd.set_option('future.no_silent_downcasting', True)`\n",
      "  result = result + temp.where(temp.isnull(), 1).fillna(0)\n",
      "c:\\Users\\Lenovo\\AppData\\Local\\Programs\\Python\\Python312\\Lib\\site-packages\\numpy\\lib\\function_base.py:2897: RuntimeWarning: invalid value encountered in divide\n",
      "  c /= stddev[:, None]\n",
      "c:\\Users\\Lenovo\\AppData\\Local\\Programs\\Python\\Python312\\Lib\\site-packages\\numpy\\lib\\function_base.py:2898: RuntimeWarning: invalid value encountered in divide\n",
      "  c /= stddev[None, :]\n"
     ]
    },
    {
     "name": "stdout",
     "output_type": "stream",
     "text": [
      "13 - Ensemble with avg smape 82.65: \n",
      "Validation Round: 2\n",
      "Model Number: 1 of 13 with model Ensemble for Validation 2\n",
      "📈 1 - Ensemble with avg smape 109.04: \n",
      "Model Number: 2 of 13 with model Ensemble for Validation 2\n",
      "2 - Ensemble with avg smape 118.15: \n",
      "Model Number: 3 of 13 with model Ensemble for Validation 2\n",
      "📈 3 - Ensemble with avg smape 98.99: \n",
      "Model Number: 4 of 13 with model Ensemble for Validation 2\n"
     ]
    },
    {
     "name": "stderr",
     "output_type": "stream",
     "text": [
      "c:\\Users\\Lenovo\\AppData\\Local\\Programs\\Python\\Python312\\Lib\\site-packages\\autots\\tools\\anomaly_utils.py:1115: FutureWarning: Downcasting object dtype arrays on .fillna, .ffill, .bfill is deprecated and will change in a future version. Call result.infer_objects(copy=False) instead. To opt-in to the future behavior, set `pd.set_option('future.no_silent_downcasting', True)`\n",
      "  result = result + temp.where(temp.isnull(), 1).fillna(0)\n",
      "c:\\Users\\Lenovo\\AppData\\Local\\Programs\\Python\\Python312\\Lib\\site-packages\\numpy\\lib\\function_base.py:2897: RuntimeWarning: invalid value encountered in divide\n",
      "  c /= stddev[:, None]\n",
      "c:\\Users\\Lenovo\\AppData\\Local\\Programs\\Python\\Python312\\Lib\\site-packages\\numpy\\lib\\function_base.py:2898: RuntimeWarning: invalid value encountered in divide\n",
      "  c /= stddev[None, :]\n",
      "c:\\Users\\Lenovo\\AppData\\Local\\Programs\\Python\\Python312\\Lib\\site-packages\\numpy\\lib\\function_base.py:2897: RuntimeWarning: invalid value encountered in divide\n",
      "  c /= stddev[:, None]\n",
      "c:\\Users\\Lenovo\\AppData\\Local\\Programs\\Python\\Python312\\Lib\\site-packages\\numpy\\lib\\function_base.py:2898: RuntimeWarning: invalid value encountered in divide\n",
      "  c /= stddev[None, :]\n"
     ]
    },
    {
     "name": "stdout",
     "output_type": "stream",
     "text": [
      "4 - Ensemble with avg smape 113.65: \n",
      "Model Number: 5 of 13 with model Ensemble for Validation 2\n",
      "5 - Ensemble with avg smape 102.68: \n",
      "Model Number: 6 of 13 with model Ensemble for Validation 2\n",
      "📈 6 - Ensemble with avg smape 96.16: \n",
      "Model Number: 7 of 13 with model Ensemble for Validation 2\n"
     ]
    },
    {
     "name": "stderr",
     "output_type": "stream",
     "text": [
      "c:\\Users\\Lenovo\\AppData\\Local\\Programs\\Python\\Python312\\Lib\\site-packages\\statsmodels\\genmod\\families\\family.py:1367: ValueWarning: Negative binomial dispersion parameter alpha not set. Using default value alpha=1.0.\n",
      "  warnings.warn(\"Negative binomial dispersion parameter alpha not \"\n",
      "c:\\Users\\Lenovo\\AppData\\Local\\Programs\\Python\\Python312\\Lib\\site-packages\\statsmodels\\genmod\\families\\family.py:1367: ValueWarning: Negative binomial dispersion parameter alpha not set. Using default value alpha=1.0.\n",
      "  warnings.warn(\"Negative binomial dispersion parameter alpha not \"\n",
      "c:\\Users\\Lenovo\\AppData\\Local\\Programs\\Python\\Python312\\Lib\\site-packages\\statsmodels\\genmod\\families\\family.py:1367: ValueWarning: Negative binomial dispersion parameter alpha not set. Using default value alpha=1.0.\n",
      "  warnings.warn(\"Negative binomial dispersion parameter alpha not \"\n",
      "c:\\Users\\Lenovo\\AppData\\Local\\Programs\\Python\\Python312\\Lib\\site-packages\\statsmodels\\genmod\\families\\family.py:1367: ValueWarning: Negative binomial dispersion parameter alpha not set. Using default value alpha=1.0.\n",
      "  warnings.warn(\"Negative binomial dispersion parameter alpha not \"\n",
      "c:\\Users\\Lenovo\\AppData\\Local\\Programs\\Python\\Python312\\Lib\\site-packages\\statsmodels\\genmod\\families\\family.py:1367: ValueWarning: Negative binomial dispersion parameter alpha not set. Using default value alpha=1.0.\n",
      "  warnings.warn(\"Negative binomial dispersion parameter alpha not \"\n",
      "c:\\Users\\Lenovo\\AppData\\Local\\Programs\\Python\\Python312\\Lib\\site-packages\\statsmodels\\genmod\\families\\family.py:1367: ValueWarning: Negative binomial dispersion parameter alpha not set. Using default value alpha=1.0.\n",
      "  warnings.warn(\"Negative binomial dispersion parameter alpha not \"\n",
      "c:\\Users\\Lenovo\\AppData\\Local\\Programs\\Python\\Python312\\Lib\\site-packages\\statsmodels\\genmod\\families\\family.py:1367: ValueWarning: Negative binomial dispersion parameter alpha not set. Using default value alpha=1.0.\n",
      "  warnings.warn(\"Negative binomial dispersion parameter alpha not \"\n",
      "c:\\Users\\Lenovo\\AppData\\Local\\Programs\\Python\\Python312\\Lib\\site-packages\\statsmodels\\genmod\\families\\family.py:1367: ValueWarning: Negative binomial dispersion parameter alpha not set. Using default value alpha=1.0.\n",
      "  warnings.warn(\"Negative binomial dispersion parameter alpha not \"\n",
      "c:\\Users\\Lenovo\\AppData\\Local\\Programs\\Python\\Python312\\Lib\\site-packages\\statsmodels\\genmod\\families\\family.py:1367: ValueWarning: Negative binomial dispersion parameter alpha not set. Using default value alpha=1.0.\n",
      "  warnings.warn(\"Negative binomial dispersion parameter alpha not \"\n"
     ]
    },
    {
     "name": "stdout",
     "output_type": "stream",
     "text": [
      "📈 7 - Ensemble with avg smape 84.69: \n",
      "Model Number: 8 of 13 with model Ensemble for Validation 2\n",
      "8 - Ensemble with avg smape 84.69: \n",
      "Model Number: 9 of 13 with model Ensemble for Validation 2\n",
      "9 - Ensemble with avg smape 114.41: \n",
      "Model Number: 10 of 13 with model Ensemble for Validation 2\n"
     ]
    },
    {
     "name": "stderr",
     "output_type": "stream",
     "text": [
      "c:\\Users\\Lenovo\\AppData\\Local\\Programs\\Python\\Python312\\Lib\\site-packages\\autots\\tools\\anomaly_utils.py:1115: FutureWarning: Downcasting object dtype arrays on .fillna, .ffill, .bfill is deprecated and will change in a future version. Call result.infer_objects(copy=False) instead. To opt-in to the future behavior, set `pd.set_option('future.no_silent_downcasting', True)`\n",
      "  result = result + temp.where(temp.isnull(), 1).fillna(0)\n",
      "c:\\Users\\Lenovo\\AppData\\Local\\Programs\\Python\\Python312\\Lib\\site-packages\\numpy\\lib\\function_base.py:2897: RuntimeWarning: invalid value encountered in divide\n",
      "  c /= stddev[:, None]\n",
      "c:\\Users\\Lenovo\\AppData\\Local\\Programs\\Python\\Python312\\Lib\\site-packages\\numpy\\lib\\function_base.py:2898: RuntimeWarning: invalid value encountered in divide\n",
      "  c /= stddev[None, :]\n"
     ]
    },
    {
     "name": "stdout",
     "output_type": "stream",
     "text": [
      "10 - Ensemble with avg smape 122.78: \n",
      "Model Number: 11 of 13 with model Ensemble for Validation 2\n",
      "11 - Ensemble with avg smape 108.56: \n",
      "Model Number: 12 of 13 with model Ensemble for Validation 2\n"
     ]
    },
    {
     "name": "stderr",
     "output_type": "stream",
     "text": [
      "c:\\Users\\Lenovo\\AppData\\Local\\Programs\\Python\\Python312\\Lib\\site-packages\\autots\\tools\\anomaly_utils.py:1115: FutureWarning: Downcasting object dtype arrays on .fillna, .ffill, .bfill is deprecated and will change in a future version. Call result.infer_objects(copy=False) instead. To opt-in to the future behavior, set `pd.set_option('future.no_silent_downcasting', True)`\n",
      "  result = result + temp.where(temp.isnull(), 1).fillna(0)\n",
      "c:\\Users\\Lenovo\\AppData\\Local\\Programs\\Python\\Python312\\Lib\\site-packages\\numpy\\lib\\function_base.py:2897: RuntimeWarning: invalid value encountered in divide\n",
      "  c /= stddev[:, None]\n",
      "c:\\Users\\Lenovo\\AppData\\Local\\Programs\\Python\\Python312\\Lib\\site-packages\\numpy\\lib\\function_base.py:2898: RuntimeWarning: invalid value encountered in divide\n",
      "  c /= stddev[None, :]\n"
     ]
    },
    {
     "name": "stdout",
     "output_type": "stream",
     "text": [
      "12 - Ensemble with avg smape 127.46: \n",
      "Model Number: 13 of 13 with model Ensemble for Validation 2\n"
     ]
    },
    {
     "name": "stderr",
     "output_type": "stream",
     "text": [
      "c:\\Users\\Lenovo\\AppData\\Local\\Programs\\Python\\Python312\\Lib\\site-packages\\autots\\tools\\anomaly_utils.py:1115: FutureWarning: Downcasting object dtype arrays on .fillna, .ffill, .bfill is deprecated and will change in a future version. Call result.infer_objects(copy=False) instead. To opt-in to the future behavior, set `pd.set_option('future.no_silent_downcasting', True)`\n",
      "  result = result + temp.where(temp.isnull(), 1).fillna(0)\n",
      "c:\\Users\\Lenovo\\AppData\\Local\\Programs\\Python\\Python312\\Lib\\site-packages\\numpy\\lib\\function_base.py:2897: RuntimeWarning: invalid value encountered in divide\n",
      "  c /= stddev[:, None]\n",
      "c:\\Users\\Lenovo\\AppData\\Local\\Programs\\Python\\Python312\\Lib\\site-packages\\numpy\\lib\\function_base.py:2898: RuntimeWarning: invalid value encountered in divide\n",
      "  c /= stddev[None, :]\n"
     ]
    },
    {
     "name": "stdout",
     "output_type": "stream",
     "text": [
      "13 - Ensemble with avg smape 126.45: \n",
      "Validation Round: 3\n",
      "Model Number: 1 of 13 with model Ensemble for Validation 3\n",
      "📈 1 - Ensemble with avg smape 101.43: \n",
      "Model Number: 2 of 13 with model Ensemble for Validation 3\n",
      "📈 2 - Ensemble with avg smape 98.56: \n",
      "Model Number: 3 of 13 with model Ensemble for Validation 3\n",
      "📈 3 - Ensemble with avg smape 86.84: \n",
      "Model Number: 4 of 13 with model Ensemble for Validation 3\n"
     ]
    },
    {
     "name": "stderr",
     "output_type": "stream",
     "text": [
      "c:\\Users\\Lenovo\\AppData\\Local\\Programs\\Python\\Python312\\Lib\\site-packages\\numpy\\lib\\function_base.py:2897: RuntimeWarning: invalid value encountered in divide\n",
      "  c /= stddev[:, None]\n",
      "c:\\Users\\Lenovo\\AppData\\Local\\Programs\\Python\\Python312\\Lib\\site-packages\\numpy\\lib\\function_base.py:2898: RuntimeWarning: invalid value encountered in divide\n",
      "  c /= stddev[None, :]\n",
      "c:\\Users\\Lenovo\\AppData\\Local\\Programs\\Python\\Python312\\Lib\\site-packages\\numpy\\lib\\function_base.py:2897: RuntimeWarning: invalid value encountered in divide\n",
      "  c /= stddev[:, None]\n",
      "c:\\Users\\Lenovo\\AppData\\Local\\Programs\\Python\\Python312\\Lib\\site-packages\\numpy\\lib\\function_base.py:2898: RuntimeWarning: invalid value encountered in divide\n",
      "  c /= stddev[None, :]\n"
     ]
    },
    {
     "name": "stdout",
     "output_type": "stream",
     "text": [
      "📈 4 - Ensemble with avg smape 84.32: \n",
      "Model Number: 5 of 13 with model Ensemble for Validation 3\n",
      "5 - Ensemble with avg smape 116.42: \n",
      "Model Number: 6 of 13 with model Ensemble for Validation 3\n",
      "6 - Ensemble with avg smape 119.86: \n",
      "Model Number: 7 of 13 with model Ensemble for Validation 3\n"
     ]
    },
    {
     "name": "stderr",
     "output_type": "stream",
     "text": [
      "c:\\Users\\Lenovo\\AppData\\Local\\Programs\\Python\\Python312\\Lib\\site-packages\\statsmodels\\genmod\\families\\family.py:1367: ValueWarning: Negative binomial dispersion parameter alpha not set. Using default value alpha=1.0.\n",
      "  warnings.warn(\"Negative binomial dispersion parameter alpha not \"\n",
      "c:\\Users\\Lenovo\\AppData\\Local\\Programs\\Python\\Python312\\Lib\\site-packages\\statsmodels\\genmod\\families\\family.py:1367: ValueWarning: Negative binomial dispersion parameter alpha not set. Using default value alpha=1.0.\n",
      "  warnings.warn(\"Negative binomial dispersion parameter alpha not \"\n",
      "c:\\Users\\Lenovo\\AppData\\Local\\Programs\\Python\\Python312\\Lib\\site-packages\\statsmodels\\genmod\\families\\family.py:1367: ValueWarning: Negative binomial dispersion parameter alpha not set. Using default value alpha=1.0.\n",
      "  warnings.warn(\"Negative binomial dispersion parameter alpha not \"\n",
      "c:\\Users\\Lenovo\\AppData\\Local\\Programs\\Python\\Python312\\Lib\\site-packages\\statsmodels\\genmod\\families\\family.py:1367: ValueWarning: Negative binomial dispersion parameter alpha not set. Using default value alpha=1.0.\n",
      "  warnings.warn(\"Negative binomial dispersion parameter alpha not \"\n",
      "c:\\Users\\Lenovo\\AppData\\Local\\Programs\\Python\\Python312\\Lib\\site-packages\\statsmodels\\genmod\\families\\family.py:1367: ValueWarning: Negative binomial dispersion parameter alpha not set. Using default value alpha=1.0.\n",
      "  warnings.warn(\"Negative binomial dispersion parameter alpha not \"\n",
      "c:\\Users\\Lenovo\\AppData\\Local\\Programs\\Python\\Python312\\Lib\\site-packages\\statsmodels\\genmod\\families\\family.py:1367: ValueWarning: Negative binomial dispersion parameter alpha not set. Using default value alpha=1.0.\n",
      "  warnings.warn(\"Negative binomial dispersion parameter alpha not \"\n",
      "c:\\Users\\Lenovo\\AppData\\Local\\Programs\\Python\\Python312\\Lib\\site-packages\\statsmodels\\genmod\\families\\family.py:1367: ValueWarning: Negative binomial dispersion parameter alpha not set. Using default value alpha=1.0.\n",
      "  warnings.warn(\"Negative binomial dispersion parameter alpha not \"\n",
      "c:\\Users\\Lenovo\\AppData\\Local\\Programs\\Python\\Python312\\Lib\\site-packages\\statsmodels\\genmod\\families\\family.py:1367: ValueWarning: Negative binomial dispersion parameter alpha not set. Using default value alpha=1.0.\n",
      "  warnings.warn(\"Negative binomial dispersion parameter alpha not \"\n",
      "c:\\Users\\Lenovo\\AppData\\Local\\Programs\\Python\\Python312\\Lib\\site-packages\\statsmodels\\genmod\\families\\family.py:1367: ValueWarning: Negative binomial dispersion parameter alpha not set. Using default value alpha=1.0.\n",
      "  warnings.warn(\"Negative binomial dispersion parameter alpha not \"\n"
     ]
    },
    {
     "name": "stdout",
     "output_type": "stream",
     "text": [
      "7 - Ensemble with avg smape 133.78: \n",
      "Model Number: 8 of 13 with model Ensemble for Validation 3\n",
      "8 - Ensemble with avg smape 133.78: \n",
      "Model Number: 9 of 13 with model Ensemble for Validation 3\n",
      "9 - Ensemble with avg smape 109.63: \n",
      "Model Number: 10 of 13 with model Ensemble for Validation 3\n"
     ]
    },
    {
     "name": "stderr",
     "output_type": "stream",
     "text": [
      "c:\\Users\\Lenovo\\AppData\\Local\\Programs\\Python\\Python312\\Lib\\site-packages\\numpy\\lib\\function_base.py:2897: RuntimeWarning: invalid value encountered in divide\n",
      "  c /= stddev[:, None]\n",
      "c:\\Users\\Lenovo\\AppData\\Local\\Programs\\Python\\Python312\\Lib\\site-packages\\numpy\\lib\\function_base.py:2898: RuntimeWarning: invalid value encountered in divide\n",
      "  c /= stddev[None, :]\n"
     ]
    },
    {
     "name": "stdout",
     "output_type": "stream",
     "text": [
      "10 - Ensemble with avg smape 113.68: \n",
      "Model Number: 11 of 13 with model Ensemble for Validation 3\n",
      "11 - Ensemble with avg smape 109.62: \n",
      "Model Number: 12 of 13 with model Ensemble for Validation 3\n"
     ]
    },
    {
     "name": "stderr",
     "output_type": "stream",
     "text": [
      "c:\\Users\\Lenovo\\AppData\\Local\\Programs\\Python\\Python312\\Lib\\site-packages\\numpy\\lib\\function_base.py:2897: RuntimeWarning: invalid value encountered in divide\n",
      "  c /= stddev[:, None]\n",
      "c:\\Users\\Lenovo\\AppData\\Local\\Programs\\Python\\Python312\\Lib\\site-packages\\numpy\\lib\\function_base.py:2898: RuntimeWarning: invalid value encountered in divide\n",
      "  c /= stddev[None, :]\n"
     ]
    },
    {
     "name": "stdout",
     "output_type": "stream",
     "text": [
      "12 - Ensemble with avg smape 112.55: \n",
      "Model Number: 13 of 13 with model Ensemble for Validation 3\n"
     ]
    },
    {
     "name": "stderr",
     "output_type": "stream",
     "text": [
      "c:\\Users\\Lenovo\\AppData\\Local\\Programs\\Python\\Python312\\Lib\\site-packages\\numpy\\lib\\function_base.py:2897: RuntimeWarning: invalid value encountered in divide\n",
      "  c /= stddev[:, None]\n",
      "c:\\Users\\Lenovo\\AppData\\Local\\Programs\\Python\\Python312\\Lib\\site-packages\\numpy\\lib\\function_base.py:2898: RuntimeWarning: invalid value encountered in divide\n",
      "  c /= stddev[None, :]\n"
     ]
    },
    {
     "name": "stdout",
     "output_type": "stream",
     "text": [
      "13 - Ensemble with avg smape 111.89: \n"
     ]
    },
    {
     "name": "stderr",
     "output_type": "stream",
     "text": [
      "c:\\Users\\Lenovo\\AppData\\Local\\Programs\\Python\\Python312\\Lib\\site-packages\\autots\\evaluator\\auto_model.py:2462: FutureWarning: Downcasting behavior in `replace` is deprecated and will be removed in a future version. To retain the old behavior, explicitly call `result.infer_objects(copy=False)`. To opt-in to the future behavior, set `pd.set_option('future.no_silent_downcasting', True)`\n",
      "  validation_results.model_results = validation_results.model_results.replace(\n",
      "c:\\Users\\Lenovo\\AppData\\Local\\Programs\\Python\\Python312\\Lib\\site-packages\\autots\\evaluator\\auto_model.py:2462: FutureWarning: Downcasting behavior in `replace` is deprecated and will be removed in a future version. To retain the old behavior, explicitly call `result.infer_objects(copy=False)`. To opt-in to the future behavior, set `pd.set_option('future.no_silent_downcasting', True)`\n",
      "  validation_results.model_results = validation_results.model_results.replace(\n"
     ]
    },
    {
     "name": "stdout",
     "output_type": "stream",
     "text": [
      "Model Number: 1 with model Ensemble in generation 0 of Horizontal Ensembles\n"
     ]
    },
    {
     "name": "stderr",
     "output_type": "stream",
     "text": [
      "c:\\Users\\Lenovo\\AppData\\Local\\Programs\\Python\\Python312\\Lib\\site-packages\\numpy\\lib\\function_base.py:2897: RuntimeWarning: invalid value encountered in divide\n",
      "  c /= stddev[:, None]\n",
      "c:\\Users\\Lenovo\\AppData\\Local\\Programs\\Python\\Python312\\Lib\\site-packages\\numpy\\lib\\function_base.py:2898: RuntimeWarning: invalid value encountered in divide\n",
      "  c /= stddev[None, :]\n",
      "c:\\Users\\Lenovo\\AppData\\Local\\Programs\\Python\\Python312\\Lib\\site-packages\\autots\\tools\\anomaly_utils.py:1115: FutureWarning: Downcasting object dtype arrays on .fillna, .ffill, .bfill is deprecated and will change in a future version. Call result.infer_objects(copy=False) instead. To opt-in to the future behavior, set `pd.set_option('future.no_silent_downcasting', True)`\n",
      "  result = result + temp.where(temp.isnull(), 1).fillna(0)\n",
      "c:\\Users\\Lenovo\\AppData\\Local\\Programs\\Python\\Python312\\Lib\\site-packages\\numpy\\lib\\function_base.py:2897: RuntimeWarning: invalid value encountered in divide\n",
      "  c /= stddev[:, None]\n",
      "c:\\Users\\Lenovo\\AppData\\Local\\Programs\\Python\\Python312\\Lib\\site-packages\\numpy\\lib\\function_base.py:2898: RuntimeWarning: invalid value encountered in divide\n",
      "  c /= stddev[None, :]\n",
      "c:\\Users\\Lenovo\\AppData\\Local\\Programs\\Python\\Python312\\Lib\\site-packages\\numpy\\lib\\function_base.py:2897: RuntimeWarning: invalid value encountered in divide\n",
      "  c /= stddev[:, None]\n",
      "c:\\Users\\Lenovo\\AppData\\Local\\Programs\\Python\\Python312\\Lib\\site-packages\\numpy\\lib\\function_base.py:2898: RuntimeWarning: invalid value encountered in divide\n",
      "  c /= stddev[None, :]\n"
     ]
    },
    {
     "name": "stdout",
     "output_type": "stream",
     "text": [
      "Traceback (most recent call last):\n",
      "  File \"c:\\Users\\Lenovo\\AppData\\Local\\Programs\\Python\\Python312\\Lib\\site-packages\\autots\\evaluator\\auto_model.py\", line 1386, in model_forecast\n",
      "    df_forecast = model_forecast(\n",
      "                  ^^^^^^^^^^^^^^^\n",
      "  File \"c:\\Users\\Lenovo\\AppData\\Local\\Programs\\Python\\Python312\\Lib\\site-packages\\autots\\evaluator\\auto_model.py\", line 1432, in model_forecast\n",
      "    ens_forecast = EnsembleForecast(\n",
      "                   ^^^^^^^^^^^^^^^^^\n",
      "  File \"c:\\Users\\Lenovo\\AppData\\Local\\Programs\\Python\\Python312\\Lib\\site-packages\\autots\\models\\ensemble.py\", line 797, in EnsembleForecast\n",
      "    ens_forecast = BestNEnsemble(\n",
      "                   ^^^^^^^^^^^^^^\n",
      "  File \"c:\\Users\\Lenovo\\AppData\\Local\\Programs\\Python\\Python312\\Lib\\site-packages\\autots\\models\\ensemble.py\", line 230, in BestNEnsemble\n",
      "    forecast_array = np.array(\n",
      "                     ^^^^^^^^^\n",
      "ValueError: setting an array element with a sequence. The requested array has an inhomogeneous shape after 2 dimensions. The detected shape was (5, 3) + inhomogeneous part.\n",
      "\n",
      "FAILED: Ensemble Horizontal component 5 of 7 Ensemble with error: ValueError('setting an array element with a sequence. The requested array has an inhomogeneous shape after 2 dimensions. The detected shape was (5, 3) + inhomogeneous part.')\n"
     ]
    },
    {
     "name": "stderr",
     "output_type": "stream",
     "text": [
      "c:\\Users\\Lenovo\\AppData\\Local\\Programs\\Python\\Python312\\Lib\\site-packages\\autots\\tools\\anomaly_utils.py:1115: FutureWarning: Downcasting object dtype arrays on .fillna, .ffill, .bfill is deprecated and will change in a future version. Call result.infer_objects(copy=False) instead. To opt-in to the future behavior, set `pd.set_option('future.no_silent_downcasting', True)`\n",
      "  result = result + temp.where(temp.isnull(), 1).fillna(0)\n",
      "c:\\Users\\Lenovo\\AppData\\Local\\Programs\\Python\\Python312\\Lib\\site-packages\\numpy\\lib\\function_base.py:2897: RuntimeWarning: invalid value encountered in divide\n",
      "  c /= stddev[:, None]\n",
      "c:\\Users\\Lenovo\\AppData\\Local\\Programs\\Python\\Python312\\Lib\\site-packages\\numpy\\lib\\function_base.py:2898: RuntimeWarning: invalid value encountered in divide\n",
      "  c /= stddev[None, :]\n"
     ]
    },
    {
     "name": "stdout",
     "output_type": "stream",
     "text": [
      "Model Number: 2 with model Ensemble in generation 0 of Horizontal Ensembles\n"
     ]
    },
    {
     "name": "stderr",
     "output_type": "stream",
     "text": [
      "c:\\Users\\Lenovo\\AppData\\Local\\Programs\\Python\\Python312\\Lib\\site-packages\\autots\\tools\\anomaly_utils.py:1115: FutureWarning: Downcasting object dtype arrays on .fillna, .ffill, .bfill is deprecated and will change in a future version. Call result.infer_objects(copy=False) instead. To opt-in to the future behavior, set `pd.set_option('future.no_silent_downcasting', True)`\n",
      "  result = result + temp.where(temp.isnull(), 1).fillna(0)\n",
      "c:\\Users\\Lenovo\\AppData\\Local\\Programs\\Python\\Python312\\Lib\\site-packages\\numpy\\lib\\function_base.py:2897: RuntimeWarning: invalid value encountered in divide\n",
      "  c /= stddev[:, None]\n",
      "c:\\Users\\Lenovo\\AppData\\Local\\Programs\\Python\\Python312\\Lib\\site-packages\\numpy\\lib\\function_base.py:2898: RuntimeWarning: invalid value encountered in divide\n",
      "  c /= stddev[None, :]\n",
      "c:\\Users\\Lenovo\\AppData\\Local\\Programs\\Python\\Python312\\Lib\\site-packages\\numpy\\lib\\function_base.py:2897: RuntimeWarning: invalid value encountered in divide\n",
      "  c /= stddev[:, None]\n",
      "c:\\Users\\Lenovo\\AppData\\Local\\Programs\\Python\\Python312\\Lib\\site-packages\\numpy\\lib\\function_base.py:2898: RuntimeWarning: invalid value encountered in divide\n",
      "  c /= stddev[None, :]\n"
     ]
    },
    {
     "name": "stdout",
     "output_type": "stream",
     "text": [
      "Traceback (most recent call last):\n",
      "  File \"c:\\Users\\Lenovo\\AppData\\Local\\Programs\\Python\\Python312\\Lib\\site-packages\\autots\\evaluator\\auto_model.py\", line 1386, in model_forecast\n",
      "    df_forecast = model_forecast(\n",
      "                  ^^^^^^^^^^^^^^^\n",
      "  File \"c:\\Users\\Lenovo\\AppData\\Local\\Programs\\Python\\Python312\\Lib\\site-packages\\autots\\evaluator\\auto_model.py\", line 1432, in model_forecast\n",
      "    ens_forecast = EnsembleForecast(\n",
      "                   ^^^^^^^^^^^^^^^^^\n",
      "  File \"c:\\Users\\Lenovo\\AppData\\Local\\Programs\\Python\\Python312\\Lib\\site-packages\\autots\\models\\ensemble.py\", line 797, in EnsembleForecast\n",
      "    ens_forecast = BestNEnsemble(\n",
      "                   ^^^^^^^^^^^^^^\n",
      "  File \"c:\\Users\\Lenovo\\AppData\\Local\\Programs\\Python\\Python312\\Lib\\site-packages\\autots\\models\\ensemble.py\", line 230, in BestNEnsemble\n",
      "    forecast_array = np.array(\n",
      "                     ^^^^^^^^^\n",
      "ValueError: setting an array element with a sequence. The requested array has an inhomogeneous shape after 2 dimensions. The detected shape was (5, 3) + inhomogeneous part.\n",
      "\n",
      "FAILED: Ensemble Horizontal component 4 of 6 Ensemble with error: ValueError('setting an array element with a sequence. The requested array has an inhomogeneous shape after 2 dimensions. The detected shape was (5, 3) + inhomogeneous part.')\n"
     ]
    },
    {
     "name": "stderr",
     "output_type": "stream",
     "text": [
      "c:\\Users\\Lenovo\\AppData\\Local\\Programs\\Python\\Python312\\Lib\\site-packages\\autots\\tools\\anomaly_utils.py:1115: FutureWarning: Downcasting object dtype arrays on .fillna, .ffill, .bfill is deprecated and will change in a future version. Call result.infer_objects(copy=False) instead. To opt-in to the future behavior, set `pd.set_option('future.no_silent_downcasting', True)`\n",
      "  result = result + temp.where(temp.isnull(), 1).fillna(0)\n",
      "c:\\Users\\Lenovo\\AppData\\Local\\Programs\\Python\\Python312\\Lib\\site-packages\\numpy\\lib\\function_base.py:2897: RuntimeWarning: invalid value encountered in divide\n",
      "  c /= stddev[:, None]\n",
      "c:\\Users\\Lenovo\\AppData\\Local\\Programs\\Python\\Python312\\Lib\\site-packages\\numpy\\lib\\function_base.py:2898: RuntimeWarning: invalid value encountered in divide\n",
      "  c /= stddev[None, :]\n",
      "c:\\Users\\Lenovo\\AppData\\Local\\Programs\\Python\\Python312\\Lib\\site-packages\\autots\\evaluator\\auto_model.py:2462: FutureWarning: Downcasting behavior in `replace` is deprecated and will be removed in a future version. To retain the old behavior, explicitly call `result.infer_objects(copy=False)`. To opt-in to the future behavior, set `pd.set_option('future.no_silent_downcasting', True)`\n",
      "  validation_results.model_results = validation_results.model_results.replace(\n",
      "c:\\Users\\Lenovo\\AppData\\Local\\Programs\\Python\\Python312\\Lib\\site-packages\\autots\\evaluator\\auto_model.py:2551: FutureWarning: Downcasting behavior in `replace` is deprecated and will be removed in a future version. To retain the old behavior, explicitly call `result.infer_objects(copy=False)`. To opt-in to the future behavior, set `pd.set_option('future.no_silent_downcasting', True)`\n",
      "  model_results = model_results.replace([np.inf, -np.inf], np.nan)\n"
     ]
    }
   ],
   "source": [
    "# Fit\n",
    "auto_ts = auto_ts.fit(train,\n",
    "date_col = 'Date',\n",
    "value_col = 'QTY',\n",
    "id_col = 'Product Code')"
   ]
  },
  {
   "cell_type": "code",
   "execution_count": 8,
   "metadata": {},
   "outputs": [],
   "source": [
    "# Predykcje\n",
    "prediction = auto_ts.predict()"
   ]
  },
  {
   "cell_type": "code",
   "execution_count": null,
   "metadata": {},
   "outputs": [],
   "source": [
    "auto_ts.best_model"
   ]
  },
  {
   "cell_type": "code",
   "execution_count": null,
   "metadata": {},
   "outputs": [],
   "source": [
    "auto_ts.best_model['ModelParameters'].values"
   ]
  },
  {
   "cell_type": "code",
   "execution_count": null,
   "metadata": {},
   "outputs": [],
   "source": [
    "# Wyniki\n",
    "auto_ts.df_wide_numeric"
   ]
  },
  {
   "cell_type": "code",
   "execution_count": null,
   "metadata": {},
   "outputs": [],
   "source": [
    "# wizualizacja wyników\n",
    "prediction.plot(auto_ts.df_wide_numeric,\n",
    "series = auto_ts.df_wide_numeric.columns[0],\n",
    "start_date = '2019-07-31')\n"
   ]
  },
  {
   "cell_type": "code",
   "execution_count": null,
   "metadata": {},
   "outputs": [],
   "source": [
    "import matplolib.pyplot as plt"
   ]
  },
  {
   "cell_type": "code",
   "execution_count": null,
   "metadata": {},
   "outputs": [],
   "source": [
    "plt.plot(df_panel.loc[df_panel['Product Code']==30001278,'Date'],df_panel.loc[df_panel['Product Code']==30001278,'QTY'], label='actual')\n",
    "plt.plot(auto_ts.df_wide_numeric[auto_ts.df_wide_numeric.columns[0]], label='prediction')\n",
    "plt.legend()\n",
    "plt.show()"
   ]
  },
  {
   "cell_type": "code",
   "execution_count": null,
   "metadata": {},
   "outputs": [],
   "source": [
    "# Ramka danych z predykcjami\n",
    "forecast_df = prediction.forecast\n",
    "forecast_df"
   ]
  },
  {
   "cell_type": "code",
   "execution_count": null,
   "metadata": {},
   "outputs": [],
   "source": [
    "plt.plot(df_panel.loc[df_panel['Product Code']==30001278,'Date'],df_panel.loc[df_panel['Product Code']==30001278,'QTY'], label='actual')\n",
    "plt.plot(auto_ts.df_wide_numeric[auto_ts.df_wide_numeric.columns[0]], label='prediction')\n",
    "plt.plot(forecast_df[forecast_df.columns[0]], label='prediction')\n",
    "plt.legend()\n",
    "plt.show()"
   ]
  },
  {
   "cell_type": "code",
   "execution_count": null,
   "metadata": {},
   "outputs": [],
   "source": [
    "# wizualizacja wyników\n",
    "prediction.plot(auto_ts.df_wide_numeric,\n",
    "series = auto_ts.df_wide_numeric.columns[2],\n",
    "start_date = '2019-07-31')"
   ]
  },
  {
   "cell_type": "code",
   "execution_count": null,
   "metadata": {},
   "outputs": [],
   "source": [
    "plt.plot(df_panel.loc[df_panel['Product Code']==30001280,'Date'],df_panel.loc[df_panel['Product Code']==30001278,'QTY'], label='actual')\n",
    "plt.plot(auto_ts.df_wide_numeric[auto_ts.df_wide_numeric.columns[2]], label='prediction')\n",
    "plt.plot(forecast_df[forecast_df.columns[2]], label='prediction')\n",
    "plt.legend()\n",
    "plt.show()"
   ]
  },
  {
   "cell_type": "code",
   "execution_count": null,
   "metadata": {},
   "outputs": [],
   "source": [
    "# Wyniki wszystkich modeli\n",
    "auto_ts.results()"
   ]
  }
 ],
 "metadata": {
  "kernelspec": {
   "display_name": "Python 3",
   "language": "python",
   "name": "python3"
  },
  "language_info": {
   "codemirror_mode": {
    "name": "ipython",
    "version": 3
   },
   "file_extension": ".py",
   "mimetype": "text/x-python",
   "name": "python",
   "nbconvert_exporter": "python",
   "pygments_lexer": "ipython3",
   "version": "3.12.5"
  }
 },
 "nbformat": 4,
 "nbformat_minor": 2
}
