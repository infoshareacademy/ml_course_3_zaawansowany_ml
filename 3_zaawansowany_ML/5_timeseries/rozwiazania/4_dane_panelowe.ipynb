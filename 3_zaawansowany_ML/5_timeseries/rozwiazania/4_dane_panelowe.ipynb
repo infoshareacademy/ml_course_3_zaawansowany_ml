{
 "cells": [
  {
   "cell_type": "markdown",
   "metadata": {},
   "source": [
    "# Dane panelowe - czyli wiele szeregów czasowych\n",
    "\n",
    "Zbiór danych: https://www.kaggle.com/datasets/hamidrezabakhtaki/fmcg-export-sale\n",
    "\n",
    "## Preprocessing"
   ]
  },
  {
   "cell_type": "code",
   "execution_count": 1,
   "metadata": {},
   "outputs": [],
   "source": [
    "import pandas as pd \n",
    "from sklearn.ensemble import RandomForestRegressor\n",
    "from sklearn.preprocessing import OrdinalEncoder\n",
    "from sklearn.metrics import r2_score"
   ]
  },
  {
   "cell_type": "code",
   "execution_count": 2,
   "metadata": {},
   "outputs": [],
   "source": [
    "# puść ten kod, \n",
    "# jeżeli wywołujesz plik  w folderze rozwiąznaia, \n",
    "# a ramka danych znajduje się w folderze data\n",
    "import os \n",
    "os.chdir('../')"
   ]
  },
  {
   "cell_type": "code",
   "execution_count": 3,
   "metadata": {},
   "outputs": [],
   "source": [
    "# wczytanie danych\n",
    "df = pd.read_csv(\"data/ExportSales.csv\")"
   ]
  },
  {
   "cell_type": "code",
   "execution_count": 4,
   "metadata": {},
   "outputs": [
    {
     "data": {
      "text/html": [
       "<div>\n",
       "<style scoped>\n",
       "    .dataframe tbody tr th:only-of-type {\n",
       "        vertical-align: middle;\n",
       "    }\n",
       "\n",
       "    .dataframe tbody tr th {\n",
       "        vertical-align: top;\n",
       "    }\n",
       "\n",
       "    .dataframe thead th {\n",
       "        text-align: right;\n",
       "    }\n",
       "</style>\n",
       "<table border=\"1\" class=\"dataframe\">\n",
       "  <thead>\n",
       "    <tr style=\"text-align: right;\">\n",
       "      <th></th>\n",
       "      <th>ID</th>\n",
       "      <th>Date</th>\n",
       "      <th>Category</th>\n",
       "      <th>Invoice Number</th>\n",
       "      <th>Product Code</th>\n",
       "      <th>Customer Code</th>\n",
       "      <th>Destenation</th>\n",
       "      <th>QTY</th>\n",
       "      <th>Total Price</th>\n",
       "    </tr>\n",
       "  </thead>\n",
       "  <tbody>\n",
       "    <tr>\n",
       "      <th>0</th>\n",
       "      <td>2529604</td>\n",
       "      <td>2019-04-28</td>\n",
       "      <td>Category5</td>\n",
       "      <td>267</td>\n",
       "      <td>30011006</td>\n",
       "      <td>612</td>\n",
       "      <td>IRQ</td>\n",
       "      <td>750</td>\n",
       "      <td>3334.8225</td>\n",
       "    </tr>\n",
       "    <tr>\n",
       "      <th>1</th>\n",
       "      <td>2529605</td>\n",
       "      <td>2019-04-29</td>\n",
       "      <td>Category5</td>\n",
       "      <td>302</td>\n",
       "      <td>30011006</td>\n",
       "      <td>514</td>\n",
       "      <td>BHR</td>\n",
       "      <td>400</td>\n",
       "      <td>3032.8240</td>\n",
       "    </tr>\n",
       "    <tr>\n",
       "      <th>2</th>\n",
       "      <td>2529606</td>\n",
       "      <td>2019-05-13</td>\n",
       "      <td>Category5</td>\n",
       "      <td>507</td>\n",
       "      <td>30011006</td>\n",
       "      <td>513</td>\n",
       "      <td>BHR</td>\n",
       "      <td>100</td>\n",
       "      <td>749.9520</td>\n",
       "    </tr>\n",
       "    <tr>\n",
       "      <th>3</th>\n",
       "      <td>2529607</td>\n",
       "      <td>2019-06-01</td>\n",
       "      <td>Category5</td>\n",
       "      <td>795</td>\n",
       "      <td>30011006</td>\n",
       "      <td>5</td>\n",
       "      <td>SYC</td>\n",
       "      <td>100</td>\n",
       "      <td>556.8170</td>\n",
       "    </tr>\n",
       "    <tr>\n",
       "      <th>4</th>\n",
       "      <td>2529608</td>\n",
       "      <td>2019-07-03</td>\n",
       "      <td>Category5</td>\n",
       "      <td>1184</td>\n",
       "      <td>30011006</td>\n",
       "      <td>560</td>\n",
       "      <td>AFG</td>\n",
       "      <td>20</td>\n",
       "      <td>39.4460</td>\n",
       "    </tr>\n",
       "  </tbody>\n",
       "</table>\n",
       "</div>"
      ],
      "text/plain": [
       "        ID        Date   Category  Invoice Number  Product Code  \\\n",
       "0  2529604  2019-04-28  Category5             267      30011006   \n",
       "1  2529605  2019-04-29  Category5             302      30011006   \n",
       "2  2529606  2019-05-13  Category5             507      30011006   \n",
       "3  2529607  2019-06-01  Category5             795      30011006   \n",
       "4  2529608  2019-07-03  Category5            1184      30011006   \n",
       "\n",
       "   Customer Code Destenation  QTY  Total Price  \n",
       "0            612         IRQ  750    3334.8225  \n",
       "1            514         BHR  400    3032.8240  \n",
       "2            513         BHR  100     749.9520  \n",
       "3              5         SYC  100     556.8170  \n",
       "4            560         AFG   20      39.4460  "
      ]
     },
     "execution_count": 4,
     "metadata": {},
     "output_type": "execute_result"
    }
   ],
   "source": [
    "# nagłówek\n",
    "df.head()"
   ]
  },
  {
   "cell_type": "code",
   "execution_count": 5,
   "metadata": {},
   "outputs": [
    {
     "data": {
      "text/html": [
       "<div>\n",
       "<style scoped>\n",
       "    .dataframe tbody tr th:only-of-type {\n",
       "        vertical-align: middle;\n",
       "    }\n",
       "\n",
       "    .dataframe tbody tr th {\n",
       "        vertical-align: top;\n",
       "    }\n",
       "\n",
       "    .dataframe thead th {\n",
       "        text-align: right;\n",
       "    }\n",
       "</style>\n",
       "<table border=\"1\" class=\"dataframe\">\n",
       "  <thead>\n",
       "    <tr style=\"text-align: right;\">\n",
       "      <th></th>\n",
       "      <th>Date</th>\n",
       "      <th>Category</th>\n",
       "      <th>Product Code</th>\n",
       "      <th>QTY</th>\n",
       "      <th>Total Price</th>\n",
       "    </tr>\n",
       "  </thead>\n",
       "  <tbody>\n",
       "    <tr>\n",
       "      <th>0</th>\n",
       "      <td>2019-04-07</td>\n",
       "      <td>Category4</td>\n",
       "      <td>30001095</td>\n",
       "      <td>70</td>\n",
       "      <td>1202.8310</td>\n",
       "    </tr>\n",
       "    <tr>\n",
       "      <th>1</th>\n",
       "      <td>2019-04-07</td>\n",
       "      <td>Category4</td>\n",
       "      <td>30001096</td>\n",
       "      <td>40</td>\n",
       "      <td>687.3320</td>\n",
       "    </tr>\n",
       "    <tr>\n",
       "      <th>2</th>\n",
       "      <td>2019-04-07</td>\n",
       "      <td>Category4</td>\n",
       "      <td>30001097</td>\n",
       "      <td>30</td>\n",
       "      <td>515.4990</td>\n",
       "    </tr>\n",
       "    <tr>\n",
       "      <th>3</th>\n",
       "      <td>2019-04-07</td>\n",
       "      <td>Category4</td>\n",
       "      <td>30001135</td>\n",
       "      <td>10</td>\n",
       "      <td>105.5546</td>\n",
       "    </tr>\n",
       "    <tr>\n",
       "      <th>4</th>\n",
       "      <td>2019-04-07</td>\n",
       "      <td>Category6</td>\n",
       "      <td>30002072</td>\n",
       "      <td>50</td>\n",
       "      <td>1423.7590</td>\n",
       "    </tr>\n",
       "  </tbody>\n",
       "</table>\n",
       "</div>"
      ],
      "text/plain": [
       "         Date   Category  Product Code  QTY  Total Price\n",
       "0  2019-04-07  Category4      30001095   70    1202.8310\n",
       "1  2019-04-07  Category4      30001096   40     687.3320\n",
       "2  2019-04-07  Category4      30001097   30     515.4990\n",
       "3  2019-04-07  Category4      30001135   10     105.5546\n",
       "4  2019-04-07  Category6      30002072   50    1423.7590"
      ]
     },
     "execution_count": 5,
     "metadata": {},
     "output_type": "execute_result"
    }
   ],
   "source": [
    "# Agregacja danych\n",
    "df_agg = df[['Date','Category','Product Code', 'QTY', 'Total Price']].groupby(['Date','Category','Product Code']).sum().reset_index()\n",
    "df_agg.head()"
   ]
  },
  {
   "cell_type": "code",
   "execution_count": 7,
   "metadata": {},
   "outputs": [],
   "source": [
    "# Liczba wystąpień w zbiorze\n",
    "products = df['Product Code'].value_counts().sort_values(ascending=False)[:10]"
   ]
  },
  {
   "cell_type": "code",
   "execution_count": 8,
   "metadata": {},
   "outputs": [
    {
     "data": {
      "text/plain": [
       "Product Code\n",
       "30006003    463\n",
       "30006004    344\n",
       "30006002    328\n",
       "30009011    242\n",
       "30006023    213\n",
       "30009007    169\n",
       "30011006    166\n",
       "30009016    139\n",
       "30009017    127\n",
       "30001311    106\n",
       "Name: count, dtype: int64"
      ]
     },
     "execution_count": 8,
     "metadata": {},
     "output_type": "execute_result"
    }
   ],
   "source": [
    "# 10 największych produktów\n",
    "products"
   ]
  },
  {
   "cell_type": "code",
   "execution_count": 9,
   "metadata": {},
   "outputs": [
    {
     "data": {
      "text/html": [
       "<div>\n",
       "<style scoped>\n",
       "    .dataframe tbody tr th:only-of-type {\n",
       "        vertical-align: middle;\n",
       "    }\n",
       "\n",
       "    .dataframe tbody tr th {\n",
       "        vertical-align: top;\n",
       "    }\n",
       "\n",
       "    .dataframe thead th {\n",
       "        text-align: right;\n",
       "    }\n",
       "</style>\n",
       "<table border=\"1\" class=\"dataframe\">\n",
       "  <thead>\n",
       "    <tr style=\"text-align: right;\">\n",
       "      <th></th>\n",
       "      <th>Date</th>\n",
       "      <th>Category</th>\n",
       "      <th>Product Code</th>\n",
       "      <th>QTY</th>\n",
       "      <th>Total Price</th>\n",
       "    </tr>\n",
       "  </thead>\n",
       "  <tbody>\n",
       "    <tr>\n",
       "      <th>18</th>\n",
       "      <td>2019-04-28</td>\n",
       "      <td>Category5</td>\n",
       "      <td>30011006</td>\n",
       "      <td>750</td>\n",
       "      <td>3334.82250</td>\n",
       "    </tr>\n",
       "    <tr>\n",
       "      <th>34</th>\n",
       "      <td>2019-04-29</td>\n",
       "      <td>Category5</td>\n",
       "      <td>30011006</td>\n",
       "      <td>400</td>\n",
       "      <td>3032.82400</td>\n",
       "    </tr>\n",
       "    <tr>\n",
       "      <th>60</th>\n",
       "      <td>2019-05-13</td>\n",
       "      <td>Category5</td>\n",
       "      <td>30011006</td>\n",
       "      <td>100</td>\n",
       "      <td>749.95200</td>\n",
       "    </tr>\n",
       "    <tr>\n",
       "      <th>63</th>\n",
       "      <td>2019-05-13</td>\n",
       "      <td>Category8</td>\n",
       "      <td>30009007</td>\n",
       "      <td>20</td>\n",
       "      <td>102.67200</td>\n",
       "    </tr>\n",
       "    <tr>\n",
       "      <th>71</th>\n",
       "      <td>2019-05-20</td>\n",
       "      <td>Category8</td>\n",
       "      <td>30009007</td>\n",
       "      <td>23</td>\n",
       "      <td>78.20069</td>\n",
       "    </tr>\n",
       "  </tbody>\n",
       "</table>\n",
       "</div>"
      ],
      "text/plain": [
       "          Date   Category  Product Code  QTY  Total Price\n",
       "18  2019-04-28  Category5      30011006  750   3334.82250\n",
       "34  2019-04-29  Category5      30011006  400   3032.82400\n",
       "60  2019-05-13  Category5      30011006  100    749.95200\n",
       "63  2019-05-13  Category8      30009007   20    102.67200\n",
       "71  2019-05-20  Category8      30009007   23     78.20069"
      ]
     },
     "execution_count": 9,
     "metadata": {},
     "output_type": "execute_result"
    }
   ],
   "source": [
    "# Przefiltrowana ramka\n",
    "df_to_analysis = df_agg.loc[df_agg['Product Code'].isin(products.index),:]\n",
    "df_to_analysis.head()"
   ]
  },
  {
   "cell_type": "code",
   "execution_count": 10,
   "metadata": {},
   "outputs": [],
   "source": [
    "# Konwersja daty\n",
    "df_to_analysis.loc[:,'Date'] = pd.to_datetime(df_to_analysis['Date'])"
   ]
  },
  {
   "cell_type": "code",
   "execution_count": 11,
   "metadata": {},
   "outputs": [
    {
     "name": "stderr",
     "output_type": "stream",
     "text": [
      "c:\\Users\\Lenovo\\AppData\\Local\\Programs\\Python\\Python312\\Lib\\site-packages\\pandas\\core\\indexes\\base.py:7588: FutureWarning: Dtype inference on a pandas object (Series, Index, ExtensionArray) is deprecated. The Index constructor will keep the original dtype in the future. Call `infer_objects` on the result to get the old behavior.\n",
      "  return Index(sequences[0], name=names)\n"
     ]
    }
   ],
   "source": [
    "# Zmiana indeksu\n",
    "df_to_analysis = df_to_analysis.set_index('Date')"
   ]
  },
  {
   "cell_type": "code",
   "execution_count": 12,
   "metadata": {},
   "outputs": [],
   "source": [
    "# Resample do danych miesiecznych\n",
    "df_resampled = df_to_analysis[['Product Code','Category','QTY','Total Price']].groupby(['Category','Product Code']).resample('ME')[['QTY','Total Price']].sum().reset_index().fillna(0)"
   ]
  },
  {
   "cell_type": "code",
   "execution_count": 13,
   "metadata": {},
   "outputs": [
    {
     "data": {
      "text/html": [
       "<div>\n",
       "<style scoped>\n",
       "    .dataframe tbody tr th:only-of-type {\n",
       "        vertical-align: middle;\n",
       "    }\n",
       "\n",
       "    .dataframe tbody tr th {\n",
       "        vertical-align: top;\n",
       "    }\n",
       "\n",
       "    .dataframe thead th {\n",
       "        text-align: right;\n",
       "    }\n",
       "</style>\n",
       "<table border=\"1\" class=\"dataframe\">\n",
       "  <thead>\n",
       "    <tr style=\"text-align: right;\">\n",
       "      <th></th>\n",
       "      <th>Category</th>\n",
       "      <th>Product Code</th>\n",
       "      <th>Date</th>\n",
       "      <th>QTY</th>\n",
       "      <th>Total Price</th>\n",
       "    </tr>\n",
       "  </thead>\n",
       "  <tbody>\n",
       "    <tr>\n",
       "      <th>0</th>\n",
       "      <td>Category4</td>\n",
       "      <td>30001311</td>\n",
       "      <td>2020-07-31</td>\n",
       "      <td>800</td>\n",
       "      <td>17351.20</td>\n",
       "    </tr>\n",
       "    <tr>\n",
       "      <th>1</th>\n",
       "      <td>Category4</td>\n",
       "      <td>30001311</td>\n",
       "      <td>2020-08-31</td>\n",
       "      <td>0</td>\n",
       "      <td>0.00</td>\n",
       "    </tr>\n",
       "    <tr>\n",
       "      <th>2</th>\n",
       "      <td>Category4</td>\n",
       "      <td>30001311</td>\n",
       "      <td>2020-09-30</td>\n",
       "      <td>1070</td>\n",
       "      <td>27765.43</td>\n",
       "    </tr>\n",
       "    <tr>\n",
       "      <th>3</th>\n",
       "      <td>Category4</td>\n",
       "      <td>30001311</td>\n",
       "      <td>2020-10-31</td>\n",
       "      <td>1120</td>\n",
       "      <td>36115.80</td>\n",
       "    </tr>\n",
       "    <tr>\n",
       "      <th>4</th>\n",
       "      <td>Category4</td>\n",
       "      <td>30001311</td>\n",
       "      <td>2020-11-30</td>\n",
       "      <td>950</td>\n",
       "      <td>26093.65</td>\n",
       "    </tr>\n",
       "  </tbody>\n",
       "</table>\n",
       "</div>"
      ],
      "text/plain": [
       "    Category  Product Code       Date   QTY  Total Price\n",
       "0  Category4      30001311 2020-07-31   800     17351.20\n",
       "1  Category4      30001311 2020-08-31     0         0.00\n",
       "2  Category4      30001311 2020-09-30  1070     27765.43\n",
       "3  Category4      30001311 2020-10-31  1120     36115.80\n",
       "4  Category4      30001311 2020-11-30   950     26093.65"
      ]
     },
     "execution_count": 13,
     "metadata": {},
     "output_type": "execute_result"
    }
   ],
   "source": [
    "df_resampled.head()"
   ]
  },
  {
   "cell_type": "code",
   "execution_count": 15,
   "metadata": {},
   "outputs": [
    {
     "data": {
      "text/html": [
       "<div>\n",
       "<style scoped>\n",
       "    .dataframe tbody tr th:only-of-type {\n",
       "        vertical-align: middle;\n",
       "    }\n",
       "\n",
       "    .dataframe tbody tr th {\n",
       "        vertical-align: top;\n",
       "    }\n",
       "\n",
       "    .dataframe thead th {\n",
       "        text-align: right;\n",
       "    }\n",
       "</style>\n",
       "<table border=\"1\" class=\"dataframe\">\n",
       "  <thead>\n",
       "    <tr style=\"text-align: right;\">\n",
       "      <th></th>\n",
       "      <th>Category</th>\n",
       "      <th>Product Code</th>\n",
       "      <th>Date</th>\n",
       "      <th>QTY</th>\n",
       "      <th>Total Price</th>\n",
       "      <th>month</th>\n",
       "      <th>quarter</th>\n",
       "    </tr>\n",
       "  </thead>\n",
       "  <tbody>\n",
       "    <tr>\n",
       "      <th>0</th>\n",
       "      <td>Category4</td>\n",
       "      <td>30001311</td>\n",
       "      <td>2020-07-31</td>\n",
       "      <td>800</td>\n",
       "      <td>17351.20000</td>\n",
       "      <td>7</td>\n",
       "      <td>3</td>\n",
       "    </tr>\n",
       "    <tr>\n",
       "      <th>1</th>\n",
       "      <td>Category4</td>\n",
       "      <td>30001311</td>\n",
       "      <td>2020-08-31</td>\n",
       "      <td>0</td>\n",
       "      <td>0.00000</td>\n",
       "      <td>8</td>\n",
       "      <td>3</td>\n",
       "    </tr>\n",
       "    <tr>\n",
       "      <th>2</th>\n",
       "      <td>Category4</td>\n",
       "      <td>30001311</td>\n",
       "      <td>2020-09-30</td>\n",
       "      <td>1070</td>\n",
       "      <td>27765.43000</td>\n",
       "      <td>9</td>\n",
       "      <td>3</td>\n",
       "    </tr>\n",
       "    <tr>\n",
       "      <th>3</th>\n",
       "      <td>Category4</td>\n",
       "      <td>30001311</td>\n",
       "      <td>2020-10-31</td>\n",
       "      <td>1120</td>\n",
       "      <td>36115.80000</td>\n",
       "      <td>10</td>\n",
       "      <td>4</td>\n",
       "    </tr>\n",
       "    <tr>\n",
       "      <th>4</th>\n",
       "      <td>Category4</td>\n",
       "      <td>30001311</td>\n",
       "      <td>2020-11-30</td>\n",
       "      <td>950</td>\n",
       "      <td>26093.65000</td>\n",
       "      <td>11</td>\n",
       "      <td>4</td>\n",
       "    </tr>\n",
       "    <tr>\n",
       "      <th>...</th>\n",
       "      <td>...</td>\n",
       "      <td>...</td>\n",
       "      <td>...</td>\n",
       "      <td>...</td>\n",
       "      <td>...</td>\n",
       "      <td>...</td>\n",
       "      <td>...</td>\n",
       "    </tr>\n",
       "    <tr>\n",
       "      <th>337</th>\n",
       "      <td>Category8</td>\n",
       "      <td>30009017</td>\n",
       "      <td>2022-04-30</td>\n",
       "      <td>1300</td>\n",
       "      <td>10181.70000</td>\n",
       "      <td>4</td>\n",
       "      <td>2</td>\n",
       "    </tr>\n",
       "    <tr>\n",
       "      <th>338</th>\n",
       "      <td>Category8</td>\n",
       "      <td>30009017</td>\n",
       "      <td>2022-05-31</td>\n",
       "      <td>1375</td>\n",
       "      <td>11780.14000</td>\n",
       "      <td>5</td>\n",
       "      <td>2</td>\n",
       "    </tr>\n",
       "    <tr>\n",
       "      <th>339</th>\n",
       "      <td>Category8</td>\n",
       "      <td>30009017</td>\n",
       "      <td>2022-06-30</td>\n",
       "      <td>3325</td>\n",
       "      <td>29401.69375</td>\n",
       "      <td>6</td>\n",
       "      <td>2</td>\n",
       "    </tr>\n",
       "    <tr>\n",
       "      <th>340</th>\n",
       "      <td>Category8</td>\n",
       "      <td>30009017</td>\n",
       "      <td>2022-07-31</td>\n",
       "      <td>1400</td>\n",
       "      <td>13162.93125</td>\n",
       "      <td>7</td>\n",
       "      <td>3</td>\n",
       "    </tr>\n",
       "    <tr>\n",
       "      <th>341</th>\n",
       "      <td>Category8</td>\n",
       "      <td>30009017</td>\n",
       "      <td>2022-08-31</td>\n",
       "      <td>450</td>\n",
       "      <td>4774.77500</td>\n",
       "      <td>8</td>\n",
       "      <td>3</td>\n",
       "    </tr>\n",
       "  </tbody>\n",
       "</table>\n",
       "<p>342 rows × 7 columns</p>\n",
       "</div>"
      ],
      "text/plain": [
       "      Category  Product Code       Date   QTY  Total Price  month  quarter\n",
       "0    Category4      30001311 2020-07-31   800  17351.20000      7        3\n",
       "1    Category4      30001311 2020-08-31     0      0.00000      8        3\n",
       "2    Category4      30001311 2020-09-30  1070  27765.43000      9        3\n",
       "3    Category4      30001311 2020-10-31  1120  36115.80000     10        4\n",
       "4    Category4      30001311 2020-11-30   950  26093.65000     11        4\n",
       "..         ...           ...        ...   ...          ...    ...      ...\n",
       "337  Category8      30009017 2022-04-30  1300  10181.70000      4        2\n",
       "338  Category8      30009017 2022-05-31  1375  11780.14000      5        2\n",
       "339  Category8      30009017 2022-06-30  3325  29401.69375      6        2\n",
       "340  Category8      30009017 2022-07-31  1400  13162.93125      7        3\n",
       "341  Category8      30009017 2022-08-31   450   4774.77500      8        3\n",
       "\n",
       "[342 rows x 7 columns]"
      ]
     },
     "execution_count": 15,
     "metadata": {},
     "output_type": "execute_result"
    }
   ],
   "source": [
    "df_resampled"
   ]
  },
  {
   "cell_type": "code",
   "execution_count": 14,
   "metadata": {},
   "outputs": [],
   "source": [
    "# miesiac i kwartal z daty\n",
    "df_resampled['month'] = df_resampled['Date'].dt.month\n",
    "df_resampled['quarter'] = df_resampled['Date'].dt.quarter"
   ]
  },
  {
   "cell_type": "code",
   "execution_count": 17,
   "metadata": {},
   "outputs": [],
   "source": [
    "# Stworzenie y_diff\n",
    "df_resampled = df_resampled.sort_values(by=['Product Code', 'Date'])\n",
    "df_resampled['y_diff'] = df_resampled.groupby('Product Code')['QTY'].diff()\n",
    "df_resampled['QTY_lag'] = df_resampled.groupby('Product Code')['QTY'].shift(1)\n",
    "df_resampled.dropna(inplace=True)"
   ]
  },
  {
   "cell_type": "code",
   "execution_count": 18,
   "metadata": {},
   "outputs": [],
   "source": [
    "# zmienna - cena jednostkowa\n",
    "df_resampled['price'] = df_resampled['Total Price'] / df_resampled['QTY']"
   ]
  },
  {
   "cell_type": "code",
   "execution_count": 20,
   "metadata": {},
   "outputs": [],
   "source": [
    "# Encoding kategorii\n",
    "df_resampled['category_encoded'] = OrdinalEncoder().fit_transform(df_resampled[['Category']])"
   ]
  },
  {
   "cell_type": "code",
   "execution_count": 21,
   "metadata": {},
   "outputs": [
    {
     "data": {
      "text/plain": [
       "Timestamp('2021-11-30 00:00:00')"
      ]
     },
     "execution_count": 21,
     "metadata": {},
     "output_type": "execute_result"
    }
   ],
   "source": [
    "# graniczna data\n",
    "date = df_resampled['Date'].quantile(0.7)\n",
    "date"
   ]
  },
  {
   "cell_type": "code",
   "execution_count": 22,
   "metadata": {},
   "outputs": [],
   "source": [
    "# przypisanie model setu jako kolumna\n",
    "df_resampled['model_set'] = 'train'\n",
    "df_resampled.loc[df_resampled['Date']>date,'model_set'] = 'test'"
   ]
  },
  {
   "cell_type": "code",
   "execution_count": 23,
   "metadata": {},
   "outputs": [],
   "source": [
    "# zapisanie danych \n",
    "df_resampled.to_csv('data/panel_data.csv')"
   ]
  },
  {
   "cell_type": "code",
   "execution_count": 24,
   "metadata": {},
   "outputs": [],
   "source": [
    "# train/test\n",
    "train = df_resampled[df_resampled['model_set']=='train']\n",
    "test = df_resampled[df_resampled['model_set']=='test']"
   ]
  },
  {
   "cell_type": "code",
   "execution_count": 25,
   "metadata": {},
   "outputs": [],
   "source": [
    "# zmienne x\n",
    "x_names = ['month', 'quarter','category_encoded','QTY_lag','price']"
   ]
  },
  {
   "cell_type": "code",
   "execution_count": 26,
   "metadata": {},
   "outputs": [],
   "source": [
    "#train x/y\n",
    "\n",
    "train_x = train[x_names]\n",
    "test_x = test[x_names]"
   ]
  },
  {
   "cell_type": "code",
   "execution_count": 27,
   "metadata": {},
   "outputs": [],
   "source": [
    "# Model\n",
    "model = RandomForestRegressor(max_depth=20, min_samples_leaf=10, n_estimators=200).fit(train_x, train['y_diff'])"
   ]
  },
  {
   "cell_type": "code",
   "execution_count": 28,
   "metadata": {},
   "outputs": [],
   "source": [
    "# Predict\n",
    "df_resampled['predict'] = model.predict(df_resampled[model.feature_names_in_])"
   ]
  },
  {
   "cell_type": "code",
   "execution_count": 29,
   "metadata": {},
   "outputs": [
    {
     "data": {
      "text/plain": [
       "<Axes: xlabel='Date'>"
      ]
     },
     "execution_count": 29,
     "metadata": {},
     "output_type": "execute_result"
    },
    {
     "data": {
      "image/png": "[encoded data removed]",
      "text/plain": [
       "<Figure size 640x480 with 1 Axes>"
      ]
     },
     "metadata": {},
     "output_type": "display_data"
    }
   ],
   "source": [
    "# Sprawdzenie całego szeregu\n",
    "df_resampled[['Date','y_diff','predict']].groupby('Date').sum().plot()"
   ]
  },
  {
   "cell_type": "code",
   "execution_count": 30,
   "metadata": {},
   "outputs": [
    {
     "data": {
      "text/plain": [
       "array([30001311, 30006002, 30006003, 30006004, 30006023, 30009007,\n",
       "       30009011, 30009016, 30009017, 30011006])"
      ]
     },
     "execution_count": 30,
     "metadata": {},
     "output_type": "execute_result"
    }
   ],
   "source": [
    "df_resampled['Product Code'].unique()"
   ]
  },
  {
   "cell_type": "code",
   "execution_count": 32,
   "metadata": {},
   "outputs": [
    {
     "data": {
      "text/plain": [
       "<Axes: xlabel='Date'>"
      ]
     },
     "execution_count": 32,
     "metadata": {},
     "output_type": "execute_result"
    },
    {
     "data": {
      "image/png": "[encoded data removed]",
      "text/plain": [
       "<Figure size 640x480 with 1 Axes>"
      ]
     },
     "metadata": {},
     "output_type": "display_data"
    }
   ],
   "source": [
    "df_resampled.loc[df_resampled['Product Code'] ==30006003 ,['Date','y_diff','predict']].groupby('Date').sum().plot()"
   ]
  },
  {
   "cell_type": "code",
   "execution_count": null,
   "metadata": {},
   "outputs": [
    {
     "data": {
      "text/plain": [
       "-12.356427534275202"
      ]
     },
     "execution_count": 34,
     "metadata": {},
     "output_type": "execute_result"
    }
   ],
   "source": [
    "# r2\n",
    "r2_score(df_resampled.loc[df_resampled['model_set']=='test','predict'],test['y_diff'])"
   ]
  },
  {
   "cell_type": "code",
   "execution_count": 35,
   "metadata": {},
   "outputs": [
    {
     "data": {
      "text/html": [
       "<div>\n",
       "<style scoped>\n",
       "    .dataframe tbody tr th:only-of-type {\n",
       "        vertical-align: middle;\n",
       "    }\n",
       "\n",
       "    .dataframe tbody tr th {\n",
       "        vertical-align: top;\n",
       "    }\n",
       "\n",
       "    .dataframe thead th {\n",
       "        text-align: right;\n",
       "    }\n",
       "</style>\n",
       "<table border=\"1\" class=\"dataframe\">\n",
       "  <thead>\n",
       "    <tr style=\"text-align: right;\">\n",
       "      <th></th>\n",
       "      <th>Category</th>\n",
       "      <th>Product Code</th>\n",
       "      <th>Date</th>\n",
       "      <th>QTY</th>\n",
       "      <th>Total Price</th>\n",
       "      <th>month</th>\n",
       "      <th>quarter</th>\n",
       "      <th>y_diff</th>\n",
       "      <th>QTY_lag</th>\n",
       "      <th>price</th>\n",
       "      <th>category_encoded</th>\n",
       "      <th>model_set</th>\n",
       "      <th>predict</th>\n",
       "    </tr>\n",
       "  </thead>\n",
       "  <tbody>\n",
       "    <tr>\n",
       "      <th>59</th>\n",
       "      <td>Category5</td>\n",
       "      <td>30011006</td>\n",
       "      <td>2022-04-30</td>\n",
       "      <td>1300</td>\n",
       "      <td>14032.6200</td>\n",
       "      <td>4</td>\n",
       "      <td>2</td>\n",
       "      <td>-4992.0</td>\n",
       "      <td>6292.0</td>\n",
       "      <td>10.794323</td>\n",
       "      <td>1.0</td>\n",
       "      <td>test</td>\n",
       "      <td>729.660057</td>\n",
       "    </tr>\n",
       "    <tr>\n",
       "      <th>60</th>\n",
       "      <td>Category5</td>\n",
       "      <td>30011006</td>\n",
       "      <td>2022-05-31</td>\n",
       "      <td>4900</td>\n",
       "      <td>50973.4650</td>\n",
       "      <td>5</td>\n",
       "      <td>2</td>\n",
       "      <td>3600.0</td>\n",
       "      <td>1300.0</td>\n",
       "      <td>10.402748</td>\n",
       "      <td>1.0</td>\n",
       "      <td>test</td>\n",
       "      <td>355.789225</td>\n",
       "    </tr>\n",
       "    <tr>\n",
       "      <th>61</th>\n",
       "      <td>Category5</td>\n",
       "      <td>30011006</td>\n",
       "      <td>2022-06-30</td>\n",
       "      <td>575</td>\n",
       "      <td>7763.3875</td>\n",
       "      <td>6</td>\n",
       "      <td>2</td>\n",
       "      <td>-4325.0</td>\n",
       "      <td>4900.0</td>\n",
       "      <td>13.501543</td>\n",
       "      <td>1.0</td>\n",
       "      <td>test</td>\n",
       "      <td>-540.589047</td>\n",
       "    </tr>\n",
       "    <tr>\n",
       "      <th>62</th>\n",
       "      <td>Category5</td>\n",
       "      <td>30011006</td>\n",
       "      <td>2022-07-31</td>\n",
       "      <td>675</td>\n",
       "      <td>8840.6875</td>\n",
       "      <td>7</td>\n",
       "      <td>3</td>\n",
       "      <td>100.0</td>\n",
       "      <td>575.0</td>\n",
       "      <td>13.097315</td>\n",
       "      <td>1.0</td>\n",
       "      <td>test</td>\n",
       "      <td>768.906182</td>\n",
       "    </tr>\n",
       "    <tr>\n",
       "      <th>63</th>\n",
       "      <td>Category5</td>\n",
       "      <td>30011006</td>\n",
       "      <td>2022-08-31</td>\n",
       "      <td>800</td>\n",
       "      <td>10582.4675</td>\n",
       "      <td>8</td>\n",
       "      <td>3</td>\n",
       "      <td>125.0</td>\n",
       "      <td>675.0</td>\n",
       "      <td>13.228084</td>\n",
       "      <td>1.0</td>\n",
       "      <td>test</td>\n",
       "      <td>838.060247</td>\n",
       "    </tr>\n",
       "  </tbody>\n",
       "</table>\n",
       "</div>"
      ],
      "text/plain": [
       "     Category  Product Code       Date   QTY  Total Price  month  quarter  \\\n",
       "59  Category5      30011006 2022-04-30  1300   14032.6200      4        2   \n",
       "60  Category5      30011006 2022-05-31  4900   50973.4650      5        2   \n",
       "61  Category5      30011006 2022-06-30   575    7763.3875      6        2   \n",
       "62  Category5      30011006 2022-07-31   675    8840.6875      7        3   \n",
       "63  Category5      30011006 2022-08-31   800   10582.4675      8        3   \n",
       "\n",
       "    y_diff  QTY_lag      price  category_encoded model_set     predict  \n",
       "59 -4992.0   6292.0  10.794323               1.0      test  729.660057  \n",
       "60  3600.0   1300.0  10.402748               1.0      test  355.789225  \n",
       "61 -4325.0   4900.0  13.501543               1.0      test -540.589047  \n",
       "62   100.0    575.0  13.097315               1.0      test  768.906182  \n",
       "63   125.0    675.0  13.228084               1.0      test  838.060247  "
      ]
     },
     "execution_count": 35,
     "metadata": {},
     "output_type": "execute_result"
    }
   ],
   "source": [
    "# predict\n",
    "df_resampled.tail()"
   ]
  },
  {
   "cell_type": "code",
   "execution_count": 36,
   "metadata": {},
   "outputs": [
    {
     "data": {
      "text/plain": [
       "array(['month', 'quarter', 'category_encoded', 'QTY_lag', 'price'],\n",
       "      dtype=object)"
      ]
     },
     "execution_count": 36,
     "metadata": {},
     "output_type": "execute_result"
    }
   ],
   "source": [
    "model.feature_names_in_"
   ]
  },
  {
   "cell_type": "code",
   "execution_count": 37,
   "metadata": {},
   "outputs": [
    {
     "name": "stderr",
     "output_type": "stream",
     "text": [
      "c:\\Users\\Lenovo\\AppData\\Local\\Programs\\Python\\Python312\\Lib\\site-packages\\sklearn\\base.py:493: UserWarning: X does not have valid feature names, but RandomForestRegressor was fitted with feature names\n",
      "  warnings.warn(\n"
     ]
    },
    {
     "data": {
      "text/plain": [
       "array([809.96654277])"
      ]
     },
     "execution_count": 37,
     "metadata": {},
     "output_type": "execute_result"
    }
   ],
   "source": [
    "# Predykcja\n",
    "model.predict(pd.DataFrame([9,3,1,800,13.23]).transpose())"
   ]
  }
 ],
 "metadata": {
  "kernelspec": {
   "display_name": "Python 3",
   "language": "python",
   "name": "python3"
  },
  "language_info": {
   "codemirror_mode": {
    "name": "ipython",
    "version": 3
   },
   "file_extension": ".py",
   "mimetype": "text/x-python",
   "name": "python",
   "nbconvert_exporter": "python",
   "pygments_lexer": "ipython3",
   "version": "3.12.5"
  }
 },
 "nbformat": 4,
 "nbformat_minor": 2
}
