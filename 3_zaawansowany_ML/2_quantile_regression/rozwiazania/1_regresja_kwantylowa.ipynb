{
 "cells": [
  {
   "cell_type": "markdown",
   "metadata": {},
   "source": [
    "# Regresja kwantylowa\n",
    "\n",
    "Na tych zajęciach użyjemy zbioru danych dotyczących sprzedaży samochodów.\n",
    "\n",
    "Link do zbioru danych: https://www.kaggle.com/datasets/hellbuoy/car-price-prediction\n",
    "\n",
    "Cel biznesowy: oszacowanie ceny sprzedaży auta, w celu rekomendacji ceny użytkownikowi, sugerowania czy cena jest poniżej/ powyżej średniej."
   ]
  },
  {
   "cell_type": "code",
   "execution_count": 1,
   "metadata": {},
   "outputs": [],
   "source": [
    "import pandas as pd\n",
    "import numpy as np\n",
    "import matplotlib.pyplot as plt\n",
    "import seaborn as sns\n",
    "from sklearn.linear_model import QuantileRegressor , LinearRegression\n",
    "from sklearn.model_selection import train_test_split"
   ]
  },
  {
   "cell_type": "code",
   "execution_count": 2,
   "metadata": {},
   "outputs": [],
   "source": [
    "# puść ten kod, \n",
    "# jeżeli wywołujesz plik  w folderze rozwiąznaia, \n",
    "# a ramka danych znajduje się w folderze data\n",
    "import os \n",
    "os.chdir('../')"
   ]
  },
  {
   "cell_type": "code",
   "execution_count": 3,
   "metadata": {},
   "outputs": [],
   "source": [
    "# Pobranie danych\n",
    "df = pd.read_csv(\"data/CarPrice_Assignment.csv\")"
   ]
  },
  {
   "cell_type": "code",
   "execution_count": null,
   "metadata": {},
   "outputs": [],
   "source": [
    "# describe\n",
    "df.describe()"
   ]
  },
  {
   "cell_type": "code",
   "execution_count": null,
   "metadata": {},
   "outputs": [],
   "source": [
    "# Korelacja\n",
    "df.select_dtypes(exclude='object').corr().sort_values(by='price')['price']"
   ]
  },
  {
   "cell_type": "code",
   "execution_count": null,
   "metadata": {},
   "outputs": [],
   "source": [
    "plt.scatter(df['enginesize'],df['price'])\n",
    "plt.show()"
   ]
  },
  {
   "cell_type": "code",
   "execution_count": null,
   "metadata": {},
   "outputs": [],
   "source": [
    "# rozkład kwantyli\n",
    "df['price'].quantile(np.arange(0,1,0.1))"
   ]
  },
  {
   "cell_type": "code",
   "execution_count": null,
   "metadata": {},
   "outputs": [],
   "source": [
    "# średnia\n",
    "df['price'].mean()"
   ]
  },
  {
   "cell_type": "code",
   "execution_count": null,
   "metadata": {},
   "outputs": [],
   "source": [
    "# wykres gęstości\n",
    "sns.kdeplot(df['price'])\n",
    "plt.title('Wykres gęstości ceny aut')\n",
    "plt.show()"
   ]
  },
  {
   "cell_type": "markdown",
   "metadata": {},
   "source": [
    "## Model regresji kwantylowej"
   ]
  },
  {
   "cell_type": "code",
   "execution_count": 10,
   "metadata": {},
   "outputs": [],
   "source": [
    "# train test split\n",
    "\n",
    "train_x, test_x, train_y, test_y = train_test_split(df[['enginesize']],df['price'], test_size=0.3, random_state=123)"
   ]
  },
  {
   "cell_type": "code",
   "execution_count": 11,
   "metadata": {},
   "outputs": [],
   "source": [
    "# model regresji liniowej\n",
    "lr = LinearRegression().fit(train_x,train_y)"
   ]
  },
  {
   "cell_type": "code",
   "execution_count": 12,
   "metadata": {},
   "outputs": [],
   "source": [
    "# predykcje regresji liniowej\n",
    "df['predict_lr'] = lr.predict(df[['enginesize']])"
   ]
  },
  {
   "cell_type": "code",
   "execution_count": 13,
   "metadata": {},
   "outputs": [],
   "source": [
    "# Modele dla różnych kwantyli\n",
    "q =[0.1,0.25,0.5,0.7,0.9]\n",
    "models = []\n",
    "for i in q:\n",
    "    model = QuantileRegressor(quantile=i).fit(train_x,train_y)\n",
    "    models.append(model)\n",
    "    df[f'predict_q_{i}'] = model.predict(df[['enginesize']])"
   ]
  },
  {
   "cell_type": "code",
   "execution_count": null,
   "metadata": {},
   "outputs": [],
   "source": [
    "df.head()"
   ]
  },
  {
   "cell_type": "code",
   "execution_count": null,
   "metadata": {},
   "outputs": [],
   "source": [
    "# Porównanie regresji kwantylowej i liniowej\n",
    "plt.scatter(df['enginesize'],df['price'])\n",
    "plt.plot(df['enginesize'],df['predict_lr'], label = 'Regresja Liniowa')\n",
    "plt.plot(df['enginesize'], df['predict_q_0.5'], label = 'Regresja dla mediany')\n",
    "plt.legend()\n",
    "plt.show()"
   ]
  },
  {
   "cell_type": "code",
   "execution_count": 16,
   "metadata": {},
   "outputs": [],
   "source": [
    "cols = ['predict_q_0.1','predict_q_0.25', 'predict_q_0.5',\n",
    "       'predict_q_0.7', 'predict_q_0.9']"
   ]
  },
  {
   "cell_type": "code",
   "execution_count": null,
   "metadata": {},
   "outputs": [],
   "source": [
    "# Różne wersje kwantyli\n",
    "for i in cols:\n",
    "    plt.plot(df['enginesize'],df[i], label=i)\n",
    "plt.scatter(df['enginesize'],df['price'])\n",
    "plt.legend()\n",
    "plt.title('Quantiles of predictions')\n",
    "plt.show()\n"
   ]
  }
 ],
 "metadata": {
  "kernelspec": {
   "display_name": "Python 3",
   "language": "python",
   "name": "python3"
  },
  "language_info": {
   "codemirror_mode": {
    "name": "ipython",
    "version": 3
   },
   "file_extension": ".py",
   "mimetype": "text/x-python",
   "name": "python",
   "nbconvert_exporter": "python",
   "pygments_lexer": "ipython3",
   "version": "3.12.5"
  }
 },
 "nbformat": 4,
 "nbformat_minor": 2
}
