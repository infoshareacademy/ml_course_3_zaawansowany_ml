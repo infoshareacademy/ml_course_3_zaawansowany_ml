{
 "cells": [
  {
   "cell_type": "markdown",
   "metadata": {},
   "source": [
    "# Projekt\n",
    "\n",
    "\n",
    "źródło danych: https://www.kaggle.com/datasets/franciscogcc/financial-data \n",
    "\n",
    "Dane zawierają informacje z giełdowe.\n",
    "Cel biznesowy: Zaprognozować cenę złota, w celu podjęcia decyzji o zakupie/ sprzedaży.\n",
    "\n",
    "Opis danych:\n",
    "- S&P 500 - SPDR S&P 500 ETF Trust\n",
    "- Nasdaq 100 - Invesco QQQ ETF\n",
    "- US Interest Rates - monthly federal rates\n",
    "- CPI - Consumer Price Index, monthly\n",
    "- USD / CHF forex rate\n",
    "- EUR / USD forex rate\n",
    "- GDP - Gross Domestic Product, trimonthly\n",
    "- Silver - abrdn Physical Silver Shares ETF\n",
    "- Oil - USO ETF\n",
    "- Platinum - abrdn Physical Platinum Shares ETF\n",
    "- Palladium - abrdn Physical Palladium Shares ETF\n",
    "- Gold - SPDR Gold Trust ETF\n",
    "\n",
    "Zadania do wykonania:\n",
    "1. Wstępna analiza danych.\n",
    "2. Uzupełnienie braków danych\n",
    "3. Podział danych na klastry - jakie grupy przypadków obserwujemy?\n",
    "4. Użycie głównych składowych do zmniejszenia liczby zmiennych.\n",
    "5. Podział danych na train/ test\n",
    "6. Stworzenie modelu time series\n",
    "7. Stworzenie modelu ML i porównanie wyników\n",
    "8. *Stworzenie modelu, który dokona predykcji na za 7 dni. (Możesz wybrać inną jednostkę).\n",
    "\n",
    "Zmienna celu: gold close\n",
    "\n",
    "Dla chętnych: stworzenie modelu ML z wieloklasowym wyjściem: wyznaczamy cenę otwarcia, zamknięcia oraz najwyższą/ najniższą\n"
   ]
  },
  {
   "cell_type": "code",
   "execution_count": 1,
   "metadata": {},
   "outputs": [],
   "source": [
    "import pandas as pd"
   ]
  },
  {
   "cell_type": "code",
   "execution_count": 2,
   "metadata": {},
   "outputs": [],
   "source": [
    "df = pd.read_csv('data/financial_regression.csv')"
   ]
  },
  {
   "cell_type": "markdown",
   "metadata": {},
   "source": [
    "1. Wstępna analiza danych."
   ]
  },
  {
   "cell_type": "code",
   "execution_count": 3,
   "metadata": {},
   "outputs": [],
   "source": [
    "import matplotlib.pyplot as plt"
   ]
  },
  {
   "cell_type": "code",
   "execution_count": null,
   "metadata": {},
   "outputs": [],
   "source": [
    "df.head()"
   ]
  },
  {
   "cell_type": "code",
   "execution_count": null,
   "metadata": {},
   "outputs": [],
   "source": [
    "df.info()"
   ]
  },
  {
   "cell_type": "code",
   "execution_count": 6,
   "metadata": {},
   "outputs": [],
   "source": [
    "df['date'] = pd.to_datetime(df['date'])"
   ]
  },
  {
   "cell_type": "code",
   "execution_count": null,
   "metadata": {},
   "outputs": [],
   "source": [
    "df.info()"
   ]
  },
  {
   "cell_type": "code",
   "execution_count": null,
   "metadata": {},
   "outputs": [],
   "source": [
    "df.describe()"
   ]
  },
  {
   "cell_type": "code",
   "execution_count": null,
   "metadata": {},
   "outputs": [],
   "source": [
    "df.select_dtypes(include='float').corr().sort_values(by='gold close')['gold close']"
   ]
  },
  {
   "cell_type": "code",
   "execution_count": null,
   "metadata": {},
   "outputs": [],
   "source": [
    "plt.plot(df['date'],df['gold close'])\n",
    "plt.title('Cena zamkniecia zlota')\n",
    "plt.show()"
   ]
  },
  {
   "cell_type": "markdown",
   "metadata": {},
   "source": [
    "2. Uzupełnienie braków danych\n"
   ]
  },
  {
   "cell_type": "code",
   "execution_count": 11,
   "metadata": {},
   "outputs": [],
   "source": [
    "df.set_index('date', inplace=True)"
   ]
  },
  {
   "cell_type": "code",
   "execution_count": 12,
   "metadata": {},
   "outputs": [],
   "source": [
    "df = df.resample('D').mean()"
   ]
  },
  {
   "cell_type": "code",
   "execution_count": null,
   "metadata": {},
   "outputs": [],
   "source": [
    "df.head(10)"
   ]
  },
  {
   "cell_type": "code",
   "execution_count": 14,
   "metadata": {},
   "outputs": [],
   "source": [
    "df_interpolate = df.interpolate('time',limit=10000)"
   ]
  },
  {
   "cell_type": "code",
   "execution_count": null,
   "metadata": {},
   "outputs": [],
   "source": [
    "df_interpolate.isna().max()"
   ]
  },
  {
   "cell_type": "code",
   "execution_count": null,
   "metadata": {},
   "outputs": [],
   "source": [
    "df_interpolate.isna().sum()"
   ]
  },
  {
   "cell_type": "code",
   "execution_count": null,
   "metadata": {},
   "outputs": [],
   "source": [
    "df_interpolate.loc[:,'CPI']"
   ]
  },
  {
   "cell_type": "code",
   "execution_count": 18,
   "metadata": {},
   "outputs": [],
   "source": [
    "df_interpolate = df_interpolate.bfill()"
   ]
  },
  {
   "cell_type": "code",
   "execution_count": null,
   "metadata": {},
   "outputs": [],
   "source": [
    "df_interpolate.isna().max()"
   ]
  },
  {
   "cell_type": "code",
   "execution_count": null,
   "metadata": {},
   "outputs": [],
   "source": [
    "df_interpolate.isna().max().max()"
   ]
  },
  {
   "cell_type": "markdown",
   "metadata": {},
   "source": [
    "3. Podział danych na klastry - jakie grupy przypadków obserwujemy?\n"
   ]
  },
  {
   "cell_type": "code",
   "execution_count": 21,
   "metadata": {},
   "outputs": [],
   "source": [
    "from sklearn.preprocessing import scale\n",
    "import numpy as np \n",
    "from sklearn.cluster import KMeans\n",
    "from sklearn.metrics import silhouette_score\n",
    "import seaborn as sns"
   ]
  },
  {
   "cell_type": "code",
   "execution_count": null,
   "metadata": {},
   "outputs": [],
   "source": [
    "df_scaled = pd.DataFrame(data = scale(df_interpolate), columns = df_interpolate.columns)\n",
    "df_scaled.head()"
   ]
  },
  {
   "cell_type": "code",
   "execution_count": null,
   "metadata": {},
   "outputs": [],
   "source": [
    "df_scaled.describe()"
   ]
  },
  {
   "cell_type": "code",
   "execution_count": null,
   "metadata": {},
   "outputs": [],
   "source": [
    "clusters = np.arange(2,11,1)\n",
    "clusters"
   ]
  },
  {
   "cell_type": "code",
   "execution_count": null,
   "metadata": {},
   "outputs": [],
   "source": [
    "df_scaled.columns"
   ]
  },
  {
   "cell_type": "code",
   "execution_count": 27,
   "metadata": {},
   "outputs": [],
   "source": [
    "features_to_cluster = [i for i in df_scaled.columns if 'open' in i] + [ 'us_rates_%', 'CPI',\n",
    "       'usd_chf', 'eur_usd', 'GDP']"
   ]
  },
  {
   "cell_type": "code",
   "execution_count": null,
   "metadata": {},
   "outputs": [],
   "source": [
    "features_to_cluster"
   ]
  },
  {
   "cell_type": "code",
   "execution_count": 30,
   "metadata": {},
   "outputs": [],
   "source": [
    "scores = []\n",
    "for i in clusters:\n",
    "    k_means = KMeans(n_clusters=i, random_state=123).fit(df_scaled[features_to_cluster])\n",
    "    scores.append(silhouette_score(df_scaled[features_to_cluster],k_means.labels_))"
   ]
  },
  {
   "cell_type": "code",
   "execution_count": null,
   "metadata": {},
   "outputs": [],
   "source": [
    "plt.plot(clusters,scores)\n",
    "plt.title('Silhouette score dla poszczególnej liczby klastrów')\n",
    "plt.show()"
   ]
  },
  {
   "cell_type": "code",
   "execution_count": null,
   "metadata": {},
   "outputs": [],
   "source": [
    "chosen_cluster = clusters[scores.index(max(scores))]\n",
    "chosen_cluster"
   ]
  },
  {
   "cell_type": "code",
   "execution_count": 34,
   "metadata": {},
   "outputs": [],
   "source": [
    "k_means = KMeans(n_clusters=chosen_cluster,random_state=123).fit(df_scaled[features_to_cluster])\n",
    "df_interpolate['cluster'] = k_means.labels_"
   ]
  },
  {
   "cell_type": "code",
   "execution_count": 35,
   "metadata": {},
   "outputs": [],
   "source": [
    "gold_features = [i for i in df_interpolate.columns if 'gold' in i]"
   ]
  },
  {
   "cell_type": "code",
   "execution_count": null,
   "metadata": {},
   "outputs": [],
   "source": [
    "sns.pairplot(df[gold_features + ['cluster']], hue = 'cluster')\n",
    "plt.show()"
   ]
  },
  {
   "cell_type": "markdown",
   "metadata": {},
   "source": [
    "4. Użycie głównych składowych do zmniejszenia liczby zmiennych.\n"
   ]
  },
  {
   "cell_type": "code",
   "execution_count": 37,
   "metadata": {},
   "outputs": [],
   "source": [
    "from sklearn.decomposition import PCA"
   ]
  },
  {
   "cell_type": "code",
   "execution_count": 43,
   "metadata": {},
   "outputs": [
    {
     "data": {
      "text/plain": [
       "Index(['sp500 open', 'sp500 high', 'sp500 low', 'sp500 close', 'sp500 volume',\n",
       "       'sp500 high-low', 'nasdaq open', 'nasdaq high', 'nasdaq low',\n",
       "       'nasdaq close', 'nasdaq volume', 'nasdaq high-low', 'us_rates_%', 'CPI',\n",
       "       'usd_chf', 'eur_usd', 'GDP', 'silver open', 'silver high', 'silver low',\n",
       "       'silver close', 'silver volume', 'silver high-low', 'oil open',\n",
       "       'oil high', 'oil low', 'oil close', 'oil volume', 'oil high-low',\n",
       "       'platinum open', 'platinum high', 'platinum low', 'platinum close',\n",
       "       'platinum volume', 'platinum high-low', 'palladium open',\n",
       "       'palladium high', 'palladium low', 'palladium close',\n",
       "       'palladium volume', 'palladium high-low', 'gold open', 'gold high',\n",
       "       'gold low', 'gold close', 'gold volume', 'cluster'],\n",
       "      dtype='object')"
      ]
     },
     "execution_count": 43,
     "metadata": {},
     "output_type": "execute_result"
    }
   ],
   "source": [
    "df.columns"
   ]
  },
  {
   "cell_type": "code",
   "execution_count": 42,
   "metadata": {},
   "outputs": [
    {
     "data": {
      "text/plain": [
       "['sp500 open',\n",
       " 'nasdaq open',\n",
       " 'silver open',\n",
       " 'oil open',\n",
       " 'platinum open',\n",
       " 'palladium open',\n",
       " 'us_rates_%',\n",
       " 'CPI',\n",
       " 'usd_chf',\n",
       " 'eur_usd',\n",
       " 'GDP']"
      ]
     },
     "execution_count": 42,
     "metadata": {},
     "output_type": "execute_result"
    }
   ],
   "source": [
    "x = [i for i in df.columns if 'open' in i and 'gold' not in i] + ['us_rates_%', 'CPI',\n",
    "       'usd_chf', 'eur_usd', 'GDP']\n",
    "x"
   ]
  },
  {
   "cell_type": "code",
   "execution_count": 44,
   "metadata": {},
   "outputs": [],
   "source": [
    "pca = PCA().fit(df_scaled[x])"
   ]
  },
  {
   "cell_type": "code",
   "execution_count": 45,
   "metadata": {},
   "outputs": [
    {
     "data": {
      "image/png": "[encoded data removed]",
      "text/plain": [
       "<Figure size 640x480 with 1 Axes>"
      ]
     },
     "metadata": {},
     "output_type": "display_data"
    }
   ],
   "source": [
    "plt.plot(pca.explained_variance_ratio_)\n",
    "plt.title('Explained variance ratio')\n",
    "plt.show()"
   ]
  },
  {
   "cell_type": "code",
   "execution_count": 46,
   "metadata": {},
   "outputs": [
    {
     "data": {
      "text/plain": [
       "array([5.78553756e-01, 2.32156961e-01, 8.72541841e-02, 4.69923458e-02,\n",
       "       2.28627370e-02, 1.69434471e-02, 1.05429893e-02, 3.36954087e-03,\n",
       "       8.70766914e-04, 2.76220499e-04, 1.77052061e-04])"
      ]
     },
     "execution_count": 46,
     "metadata": {},
     "output_type": "execute_result"
    }
   ],
   "source": [
    "pca.explained_variance_ratio_"
   ]
  },
  {
   "cell_type": "code",
   "execution_count": 47,
   "metadata": {},
   "outputs": [
    {
     "data": {
      "text/plain": [
       "['pca_0',\n",
       " 'pca_1',\n",
       " 'pca_2',\n",
       " 'pca_3',\n",
       " 'pca_4',\n",
       " 'pca_5',\n",
       " 'pca_6',\n",
       " 'pca_7',\n",
       " 'pca_8',\n",
       " 'pca_9',\n",
       " 'pca_10']"
      ]
     },
     "execution_count": 47,
     "metadata": {},
     "output_type": "execute_result"
    }
   ],
   "source": [
    "columns_pca = [f'pca_{i}' for i in range(len(x)) ]\n",
    "columns_pca"
   ]
  },
  {
   "cell_type": "code",
   "execution_count": 48,
   "metadata": {},
   "outputs": [],
   "source": [
    "df_pca = pd.DataFrame(pca.transform(df_scaled[x]), columns = columns_pca)"
   ]
  },
  {
   "cell_type": "code",
   "execution_count": 50,
   "metadata": {},
   "outputs": [],
   "source": [
    "df_to_train = df_pca[columns_pca[:3]].copy()"
   ]
  },
  {
   "cell_type": "code",
   "execution_count": 51,
   "metadata": {},
   "outputs": [],
   "source": [
    "df_to_train.loc[:,'date'] = df_interpolate.index.copy()"
   ]
  },
  {
   "cell_type": "code",
   "execution_count": 52,
   "metadata": {},
   "outputs": [
    {
     "data": {
      "text/html": [
       "<div>\n",
       "<style scoped>\n",
       "    .dataframe tbody tr th:only-of-type {\n",
       "        vertical-align: middle;\n",
       "    }\n",
       "\n",
       "    .dataframe tbody tr th {\n",
       "        vertical-align: top;\n",
       "    }\n",
       "\n",
       "    .dataframe thead th {\n",
       "        text-align: right;\n",
       "    }\n",
       "</style>\n",
       "<table border=\"1\" class=\"dataframe\">\n",
       "  <thead>\n",
       "    <tr style=\"text-align: right;\">\n",
       "      <th></th>\n",
       "      <th>pca_0</th>\n",
       "      <th>pca_1</th>\n",
       "      <th>pca_2</th>\n",
       "      <th>y</th>\n",
       "    </tr>\n",
       "    <tr>\n",
       "      <th>date</th>\n",
       "      <th></th>\n",
       "      <th></th>\n",
       "      <th></th>\n",
       "      <th></th>\n",
       "    </tr>\n",
       "  </thead>\n",
       "  <tbody>\n",
       "    <tr>\n",
       "      <th>2010-01-14</th>\n",
       "      <td>-3.627807</td>\n",
       "      <td>0.247963</td>\n",
       "      <td>-0.712306</td>\n",
       "      <td>112.030</td>\n",
       "    </tr>\n",
       "    <tr>\n",
       "      <th>2010-01-15</th>\n",
       "      <td>-3.615665</td>\n",
       "      <td>0.160358</td>\n",
       "      <td>-0.715375</td>\n",
       "      <td>110.860</td>\n",
       "    </tr>\n",
       "    <tr>\n",
       "      <th>2010-01-16</th>\n",
       "      <td>-3.619222</td>\n",
       "      <td>0.134815</td>\n",
       "      <td>-0.718421</td>\n",
       "      <td>111.025</td>\n",
       "    </tr>\n",
       "    <tr>\n",
       "      <th>2010-01-17</th>\n",
       "      <td>-3.622779</td>\n",
       "      <td>0.109272</td>\n",
       "      <td>-0.721466</td>\n",
       "      <td>111.190</td>\n",
       "    </tr>\n",
       "    <tr>\n",
       "      <th>2010-01-18</th>\n",
       "      <td>-3.626336</td>\n",
       "      <td>0.083729</td>\n",
       "      <td>-0.724511</td>\n",
       "      <td>111.355</td>\n",
       "    </tr>\n",
       "  </tbody>\n",
       "</table>\n",
       "</div>"
      ],
      "text/plain": [
       "               pca_0     pca_1     pca_2        y\n",
       "date                                             \n",
       "2010-01-14 -3.627807  0.247963 -0.712306  112.030\n",
       "2010-01-15 -3.615665  0.160358 -0.715375  110.860\n",
       "2010-01-16 -3.619222  0.134815 -0.718421  111.025\n",
       "2010-01-17 -3.622779  0.109272 -0.721466  111.190\n",
       "2010-01-18 -3.626336  0.083729 -0.724511  111.355"
      ]
     },
     "execution_count": 52,
     "metadata": {},
     "output_type": "execute_result"
    }
   ],
   "source": [
    "df_to_train.set_index('date', inplace = True)\n",
    "df_to_train['y'] = df_interpolate['gold close']\n",
    "df_to_train.head()"
   ]
  },
  {
   "cell_type": "markdown",
   "metadata": {},
   "source": [
    "5. Podział danych na train/ test"
   ]
  },
  {
   "cell_type": "code",
   "execution_count": 54,
   "metadata": {},
   "outputs": [
    {
     "data": {
      "text/plain": [
       "Timestamp('2023-10-24 00:00:00')"
      ]
     },
     "execution_count": 54,
     "metadata": {},
     "output_type": "execute_result"
    }
   ],
   "source": [
    "date_train = df.index.max() - pd.Timedelta(365,unit='D')\n",
    "date_train"
   ]
  },
  {
   "cell_type": "code",
   "execution_count": 55,
   "metadata": {},
   "outputs": [],
   "source": [
    "df_to_train = df_to_train.reset_index().rename(columns={'date':'ds'})"
   ]
  },
  {
   "cell_type": "code",
   "execution_count": 56,
   "metadata": {},
   "outputs": [],
   "source": [
    "train = df_to_train[df_to_train['ds']<=date_train]\n",
    "test = df_to_train[df_to_train['ds']>date_train]"
   ]
  },
  {
   "cell_type": "markdown",
   "metadata": {},
   "source": [
    "6. Stworzenie modelu time series\n"
   ]
  },
  {
   "cell_type": "code",
   "execution_count": 57,
   "metadata": {},
   "outputs": [],
   "source": [
    "from neuralprophet import NeuralProphet"
   ]
  },
  {
   "cell_type": "code",
   "execution_count": 58,
   "metadata": {},
   "outputs": [],
   "source": [
    "model = NeuralProphet()"
   ]
  },
  {
   "cell_type": "code",
   "execution_count": 59,
   "metadata": {},
   "outputs": [
    {
     "data": {
      "text/plain": [
       "Index(['ds', 'pca_0', 'pca_1', 'pca_2', 'y'], dtype='object')"
      ]
     },
     "execution_count": 59,
     "metadata": {},
     "output_type": "execute_result"
    }
   ],
   "source": [
    "train.columns"
   ]
  },
  {
   "cell_type": "code",
   "execution_count": 60,
   "metadata": {},
   "outputs": [
    {
     "name": "stdout",
     "output_type": "stream",
     "text": [
      "pca_0\n",
      "pca_1\n",
      "pca_2\n"
     ]
    }
   ],
   "source": [
    "for i in train.columns[1:4]:\n",
    "    model.add_future_regressor(i)\n",
    "    print(i)"
   ]
  },
  {
   "cell_type": "code",
   "execution_count": 61,
   "metadata": {},
   "outputs": [
    {
     "name": "stderr",
     "output_type": "stream",
     "text": [
      "WARNING - (NP.forecaster.fit) - When Global modeling with local normalization, metrics are displayed in normalized scale.\n",
      "c:\\Users\\Lenovo\\AppData\\Local\\Programs\\Python\\Python312\\Lib\\site-packages\\neuralprophet\\df_utils.py:1152: FutureWarning: Series.view is deprecated and will be removed in a future version. Use ``astype`` as an alternative to change the dtype.\n",
      "  converted_ds = pd.to_datetime(ds_col, utc=True).view(dtype=np.int64)\n",
      "INFO - (NP.df_utils._infer_frequency) - Major frequency D corresponds to 99.98% of the data.\n",
      "c:\\Users\\Lenovo\\AppData\\Local\\Programs\\Python\\Python312\\Lib\\site-packages\\neuralprophet\\df_utils.py:1152: FutureWarning: Series.view is deprecated and will be removed in a future version. Use ``astype`` as an alternative to change the dtype.\n",
      "  converted_ds = pd.to_datetime(ds_col, utc=True).view(dtype=np.int64)\n",
      "c:\\Users\\Lenovo\\AppData\\Local\\Programs\\Python\\Python312\\Lib\\site-packages\\neuralprophet\\df_utils.py:1152: FutureWarning: Series.view is deprecated and will be removed in a future version. Use ``astype`` as an alternative to change the dtype.\n",
      "  converted_ds = pd.to_datetime(ds_col, utc=True).view(dtype=np.int64)\n",
      "INFO - (NP.df_utils._infer_frequency) - Defined frequency is equal to major frequency - D\n",
      "INFO - (NP.config.init_data_params) - Setting normalization to global as only one dataframe provided for training.\n",
      "INFO - (NP.utils.set_auto_seasonalities) - Disabling daily seasonality. Run NeuralProphet with daily_seasonality=True to override this.\n",
      "INFO - (NP.config.set_auto_batch_epoch) - Auto-set batch_size to 64\n",
      "INFO - (NP.config.set_auto_batch_epoch) - Auto-set epochs to 70\n",
      "WARNING - (NP.config.set_lr_finder_args) - Learning rate finder: The number of batches (79) is too small than the required number                     for the learning rate finder (242). The results might not be optimal.\n",
      "c:\\Users\\Lenovo\\AppData\\Local\\Programs\\Python\\Python312\\Lib\\site-packages\\pytorch_lightning\\trainer\\configuration_validator.py:108: PossibleUserWarning: You defined a `validation_step` but have no `val_dataloader`. Skipping val loop.\n",
      "  rank_zero_warn(\n",
      "Missing logger folder: c:\\dane\\PATRYK\\kurs\\ml_course\\3_zaawansowany_ML\\9_projekt\\lightning_logs\n",
      "c:\\Users\\Lenovo\\AppData\\Local\\Programs\\Python\\Python312\\Lib\\site-packages\\pytorch_lightning\\trainer\\connectors\\data_connector.py:224: PossibleUserWarning: The dataloader, train_dataloader, does not have many workers which may be a bottleneck. Consider increasing the value of the `num_workers` argument` (try 4 which is the number of cpus on this machine) in the `DataLoader` init to improve performance.\n",
      "  rank_zero_warn(\n"
     ]
    },
    {
     "data": {
      "application/vnd.jupyter.widget-view+json": {
       "model_id": "87bbbb978f2e4997b212dc80bc81639a",
       "version_major": 2,
       "version_minor": 0
      },
      "text/plain": [
       "Finding best initial lr:   0%|          | 0/242 [00:00<?, ?it/s]"
      ]
     },
     "metadata": {},
     "output_type": "display_data"
    },
    {
     "name": "stderr",
     "output_type": "stream",
     "text": [
      "c:\\Users\\Lenovo\\AppData\\Local\\Programs\\Python\\Python312\\Lib\\site-packages\\lightning_fabric\\utilities\\cloud_io.py:51: FutureWarning: You are using `torch.load` with `weights_only=False` (the current default value), which uses the default pickle module implicitly. It is possible to construct malicious pickle data which will execute arbitrary code during unpickling (See https://github.com/pytorch/pytorch/blob/main/SECURITY.md#untrusted-models for more details). In a future release, the default value for `weights_only` will be flipped to `True`. This limits the functions that could be executed during unpickling. Arbitrary objects will no longer be allowed to be loaded via this mode unless they are explicitly allowlisted by the user via `torch.serialization.add_safe_globals`. We recommend you start setting `weights_only=True` for any use case where you don't have full control of the loaded file. Please open an issue on GitHub for any issues related to this experimental feature.\n",
      "  return torch.load(f, map_location=map_location)  # type: ignore[arg-type]\n",
      "c:\\Users\\Lenovo\\AppData\\Local\\Programs\\Python\\Python312\\Lib\\site-packages\\pytorch_lightning\\trainer\\configuration_validator.py:108: PossibleUserWarning: You defined a `validation_step` but have no `val_dataloader`. Skipping val loop.\n",
      "  rank_zero_warn(\n",
      "c:\\Users\\Lenovo\\AppData\\Local\\Programs\\Python\\Python312\\Lib\\site-packages\\pytorch_lightning\\trainer\\connectors\\data_connector.py:224: PossibleUserWarning: The dataloader, train_dataloader, does not have many workers which may be a bottleneck. Consider increasing the value of the `num_workers` argument` (try 4 which is the number of cpus on this machine) in the `DataLoader` init to improve performance.\n",
      "  rank_zero_warn(\n"
     ]
    },
    {
     "data": {
      "application/vnd.jupyter.widget-view+json": {
       "model_id": "56f9132c1b5349329238e4ff7c86ee1b",
       "version_major": 2,
       "version_minor": 0
      },
      "text/plain": [
       "Training: 0it [00:00, ?it/s]"
      ]
     },
     "metadata": {},
     "output_type": "display_data"
    },
    {
     "data": {
      "text/html": [
       "<div>\n",
       "<style scoped>\n",
       "    .dataframe tbody tr th:only-of-type {\n",
       "        vertical-align: middle;\n",
       "    }\n",
       "\n",
       "    .dataframe tbody tr th {\n",
       "        vertical-align: top;\n",
       "    }\n",
       "\n",
       "    .dataframe thead th {\n",
       "        text-align: right;\n",
       "    }\n",
       "</style>\n",
       "<table border=\"1\" class=\"dataframe\">\n",
       "  <thead>\n",
       "    <tr style=\"text-align: right;\">\n",
       "      <th></th>\n",
       "      <th>MAE</th>\n",
       "      <th>RMSE</th>\n",
       "      <th>Loss</th>\n",
       "      <th>RegLoss</th>\n",
       "      <th>epoch</th>\n",
       "    </tr>\n",
       "  </thead>\n",
       "  <tbody>\n",
       "    <tr>\n",
       "      <th>0</th>\n",
       "      <td>173.437515</td>\n",
       "      <td>188.806595</td>\n",
       "      <td>1.542961</td>\n",
       "      <td>0.0</td>\n",
       "      <td>0</td>\n",
       "    </tr>\n",
       "    <tr>\n",
       "      <th>1</th>\n",
       "      <td>78.423225</td>\n",
       "      <td>96.683250</td>\n",
       "      <td>0.608798</td>\n",
       "      <td>0.0</td>\n",
       "      <td>1</td>\n",
       "    </tr>\n",
       "    <tr>\n",
       "      <th>2</th>\n",
       "      <td>28.364168</td>\n",
       "      <td>37.407764</td>\n",
       "      <td>0.156998</td>\n",
       "      <td>0.0</td>\n",
       "      <td>2</td>\n",
       "    </tr>\n",
       "    <tr>\n",
       "      <th>3</th>\n",
       "      <td>17.547424</td>\n",
       "      <td>23.925295</td>\n",
       "      <td>0.074469</td>\n",
       "      <td>0.0</td>\n",
       "      <td>3</td>\n",
       "    </tr>\n",
       "    <tr>\n",
       "      <th>4</th>\n",
       "      <td>11.786348</td>\n",
       "      <td>15.994947</td>\n",
       "      <td>0.038924</td>\n",
       "      <td>0.0</td>\n",
       "      <td>4</td>\n",
       "    </tr>\n",
       "    <tr>\n",
       "      <th>...</th>\n",
       "      <td>...</td>\n",
       "      <td>...</td>\n",
       "      <td>...</td>\n",
       "      <td>...</td>\n",
       "      <td>...</td>\n",
       "    </tr>\n",
       "    <tr>\n",
       "      <th>65</th>\n",
       "      <td>4.269257</td>\n",
       "      <td>5.412844</td>\n",
       "      <td>0.005825</td>\n",
       "      <td>0.0</td>\n",
       "      <td>65</td>\n",
       "    </tr>\n",
       "    <tr>\n",
       "      <th>66</th>\n",
       "      <td>4.262691</td>\n",
       "      <td>5.419034</td>\n",
       "      <td>0.005802</td>\n",
       "      <td>0.0</td>\n",
       "      <td>66</td>\n",
       "    </tr>\n",
       "    <tr>\n",
       "      <th>67</th>\n",
       "      <td>4.259646</td>\n",
       "      <td>5.405123</td>\n",
       "      <td>0.005796</td>\n",
       "      <td>0.0</td>\n",
       "      <td>67</td>\n",
       "    </tr>\n",
       "    <tr>\n",
       "      <th>68</th>\n",
       "      <td>4.249434</td>\n",
       "      <td>5.411809</td>\n",
       "      <td>0.005802</td>\n",
       "      <td>0.0</td>\n",
       "      <td>68</td>\n",
       "    </tr>\n",
       "    <tr>\n",
       "      <th>69</th>\n",
       "      <td>4.250590</td>\n",
       "      <td>5.398700</td>\n",
       "      <td>0.005786</td>\n",
       "      <td>0.0</td>\n",
       "      <td>69</td>\n",
       "    </tr>\n",
       "  </tbody>\n",
       "</table>\n",
       "<p>70 rows × 5 columns</p>\n",
       "</div>"
      ],
      "text/plain": [
       "           MAE        RMSE      Loss  RegLoss  epoch\n",
       "0   173.437515  188.806595  1.542961      0.0      0\n",
       "1    78.423225   96.683250  0.608798      0.0      1\n",
       "2    28.364168   37.407764  0.156998      0.0      2\n",
       "3    17.547424   23.925295  0.074469      0.0      3\n",
       "4    11.786348   15.994947  0.038924      0.0      4\n",
       "..         ...         ...       ...      ...    ...\n",
       "65    4.269257    5.412844  0.005825      0.0     65\n",
       "66    4.262691    5.419034  0.005802      0.0     66\n",
       "67    4.259646    5.405123  0.005796      0.0     67\n",
       "68    4.249434    5.411809  0.005802      0.0     68\n",
       "69    4.250590    5.398700  0.005786      0.0     69\n",
       "\n",
       "[70 rows x 5 columns]"
      ]
     },
     "execution_count": 61,
     "metadata": {},
     "output_type": "execute_result"
    }
   ],
   "source": [
    "model.fit(train,freq = 'D')"
   ]
  },
  {
   "cell_type": "code",
   "execution_count": 62,
   "metadata": {},
   "outputs": [
    {
     "name": "stderr",
     "output_type": "stream",
     "text": [
      "c:\\Users\\Lenovo\\AppData\\Local\\Programs\\Python\\Python312\\Lib\\site-packages\\neuralprophet\\df_utils.py:1152: FutureWarning: Series.view is deprecated and will be removed in a future version. Use ``astype`` as an alternative to change the dtype.\n",
      "  converted_ds = pd.to_datetime(ds_col, utc=True).view(dtype=np.int64)\n",
      "INFO - (NP.df_utils._infer_frequency) - Major frequency D corresponds to 99.981% of the data.\n",
      "c:\\Users\\Lenovo\\AppData\\Local\\Programs\\Python\\Python312\\Lib\\site-packages\\neuralprophet\\df_utils.py:1152: FutureWarning: Series.view is deprecated and will be removed in a future version. Use ``astype`` as an alternative to change the dtype.\n",
      "  converted_ds = pd.to_datetime(ds_col, utc=True).view(dtype=np.int64)\n",
      "c:\\Users\\Lenovo\\AppData\\Local\\Programs\\Python\\Python312\\Lib\\site-packages\\neuralprophet\\df_utils.py:1152: FutureWarning: Series.view is deprecated and will be removed in a future version. Use ``astype`` as an alternative to change the dtype.\n",
      "  converted_ds = pd.to_datetime(ds_col, utc=True).view(dtype=np.int64)\n",
      "INFO - (NP.df_utils._infer_frequency) - Defined frequency is equal to major frequency - D\n",
      "c:\\Users\\Lenovo\\AppData\\Local\\Programs\\Python\\Python312\\Lib\\site-packages\\neuralprophet\\df_utils.py:1152: FutureWarning: Series.view is deprecated and will be removed in a future version. Use ``astype`` as an alternative to change the dtype.\n",
      "  converted_ds = pd.to_datetime(ds_col, utc=True).view(dtype=np.int64)\n",
      "INFO - (NP.df_utils._infer_frequency) - Major frequency D corresponds to 99.981% of the data.\n",
      "c:\\Users\\Lenovo\\AppData\\Local\\Programs\\Python\\Python312\\Lib\\site-packages\\neuralprophet\\df_utils.py:1152: FutureWarning: Series.view is deprecated and will be removed in a future version. Use ``astype`` as an alternative to change the dtype.\n",
      "  converted_ds = pd.to_datetime(ds_col, utc=True).view(dtype=np.int64)\n",
      "c:\\Users\\Lenovo\\AppData\\Local\\Programs\\Python\\Python312\\Lib\\site-packages\\neuralprophet\\df_utils.py:1152: FutureWarning: Series.view is deprecated and will be removed in a future version. Use ``astype`` as an alternative to change the dtype.\n",
      "  converted_ds = pd.to_datetime(ds_col, utc=True).view(dtype=np.int64)\n",
      "INFO - (NP.df_utils._infer_frequency) - Defined frequency is equal to major frequency - D\n",
      "c:\\Users\\Lenovo\\AppData\\Local\\Programs\\Python\\Python312\\Lib\\site-packages\\pytorch_lightning\\trainer\\connectors\\data_connector.py:224: PossibleUserWarning: The dataloader, predict_dataloader 0, does not have many workers which may be a bottleneck. Consider increasing the value of the `num_workers` argument` (try 4 which is the number of cpus on this machine) in the `DataLoader` init to improve performance.\n",
      "  rank_zero_warn(\n"
     ]
    },
    {
     "data": {
      "application/vnd.jupyter.widget-view+json": {
       "model_id": "ff3a6aa44352438eb6f6c97498cab61f",
       "version_major": 2,
       "version_minor": 0
      },
      "text/plain": [
       "Predicting: 79it [00:00, ?it/s]"
      ]
     },
     "metadata": {},
     "output_type": "display_data"
    },
    {
     "name": "stderr",
     "output_type": "stream",
     "text": [
      "INFO - (NP.df_utils.return_df_in_original_format) - Returning df with no ID column\n"
     ]
    }
   ],
   "source": [
    "forecast = model.predict(df_to_train)"
   ]
  },
  {
   "cell_type": "code",
   "execution_count": 63,
   "metadata": {},
   "outputs": [
    {
     "data": {
      "text/html": [
       "<div>\n",
       "<style scoped>\n",
       "    .dataframe tbody tr th:only-of-type {\n",
       "        vertical-align: middle;\n",
       "    }\n",
       "\n",
       "    .dataframe tbody tr th {\n",
       "        vertical-align: top;\n",
       "    }\n",
       "\n",
       "    .dataframe thead th {\n",
       "        text-align: right;\n",
       "    }\n",
       "</style>\n",
       "<table border=\"1\" class=\"dataframe\">\n",
       "  <thead>\n",
       "    <tr style=\"text-align: right;\">\n",
       "      <th></th>\n",
       "      <th>ds</th>\n",
       "      <th>y</th>\n",
       "      <th>yhat1</th>\n",
       "      <th>trend</th>\n",
       "      <th>season_yearly</th>\n",
       "      <th>season_weekly</th>\n",
       "      <th>future_regressors_additive</th>\n",
       "      <th>future_regressor_pca_0</th>\n",
       "      <th>future_regressor_pca_1</th>\n",
       "      <th>future_regressor_pca_2</th>\n",
       "    </tr>\n",
       "  </thead>\n",
       "  <tbody>\n",
       "    <tr>\n",
       "      <th>0</th>\n",
       "      <td>2010-01-14</td>\n",
       "      <td>112.030</td>\n",
       "      <td>118.327339</td>\n",
       "      <td>97.610825</td>\n",
       "      <td>-0.608568</td>\n",
       "      <td>-0.092364</td>\n",
       "      <td>21.417444</td>\n",
       "      <td>-0.008859</td>\n",
       "      <td>21.886816</td>\n",
       "      <td>-0.460512</td>\n",
       "    </tr>\n",
       "    <tr>\n",
       "      <th>1</th>\n",
       "      <td>2010-01-15</td>\n",
       "      <td>110.860</td>\n",
       "      <td>117.867699</td>\n",
       "      <td>97.633797</td>\n",
       "      <td>-0.562327</td>\n",
       "      <td>0.048908</td>\n",
       "      <td>20.747320</td>\n",
       "      <td>-0.060417</td>\n",
       "      <td>21.266882</td>\n",
       "      <td>-0.459145</td>\n",
       "    </tr>\n",
       "    <tr>\n",
       "      <th>2</th>\n",
       "      <td>2010-01-16</td>\n",
       "      <td>111.025</td>\n",
       "      <td>117.815231</td>\n",
       "      <td>97.656776</td>\n",
       "      <td>-0.519899</td>\n",
       "      <td>0.095330</td>\n",
       "      <td>20.583025</td>\n",
       "      <td>-0.045313</td>\n",
       "      <td>21.086126</td>\n",
       "      <td>-0.457788</td>\n",
       "    </tr>\n",
       "    <tr>\n",
       "      <th>3</th>\n",
       "      <td>2010-01-17</td>\n",
       "      <td>111.190</td>\n",
       "      <td>117.714066</td>\n",
       "      <td>97.679749</td>\n",
       "      <td>-0.481349</td>\n",
       "      <td>0.096925</td>\n",
       "      <td>20.418736</td>\n",
       "      <td>-0.030209</td>\n",
       "      <td>20.905376</td>\n",
       "      <td>-0.456432</td>\n",
       "    </tr>\n",
       "    <tr>\n",
       "      <th>4</th>\n",
       "      <td>2010-01-18</td>\n",
       "      <td>111.355</td>\n",
       "      <td>117.354019</td>\n",
       "      <td>97.702728</td>\n",
       "      <td>-0.446708</td>\n",
       "      <td>-0.156446</td>\n",
       "      <td>20.254444</td>\n",
       "      <td>-0.015104</td>\n",
       "      <td>20.724625</td>\n",
       "      <td>-0.455075</td>\n",
       "    </tr>\n",
       "  </tbody>\n",
       "</table>\n",
       "</div>"
      ],
      "text/plain": [
       "          ds        y       yhat1      trend  season_yearly  season_weekly  \\\n",
       "0 2010-01-14  112.030  118.327339  97.610825      -0.608568      -0.092364   \n",
       "1 2010-01-15  110.860  117.867699  97.633797      -0.562327       0.048908   \n",
       "2 2010-01-16  111.025  117.815231  97.656776      -0.519899       0.095330   \n",
       "3 2010-01-17  111.190  117.714066  97.679749      -0.481349       0.096925   \n",
       "4 2010-01-18  111.355  117.354019  97.702728      -0.446708      -0.156446   \n",
       "\n",
       "   future_regressors_additive  future_regressor_pca_0  future_regressor_pca_1  \\\n",
       "0                   21.417444               -0.008859               21.886816   \n",
       "1                   20.747320               -0.060417               21.266882   \n",
       "2                   20.583025               -0.045313               21.086126   \n",
       "3                   20.418736               -0.030209               20.905376   \n",
       "4                   20.254444               -0.015104               20.724625   \n",
       "\n",
       "   future_regressor_pca_2  \n",
       "0               -0.460512  \n",
       "1               -0.459145  \n",
       "2               -0.457788  \n",
       "3               -0.456432  \n",
       "4               -0.455075  "
      ]
     },
     "execution_count": 63,
     "metadata": {},
     "output_type": "execute_result"
    }
   ],
   "source": [
    "forecast.head()"
   ]
  },
  {
   "cell_type": "code",
   "execution_count": 64,
   "metadata": {},
   "outputs": [
    {
     "data": {
      "image/png": "[encoded data removed]",
      "text/plain": [
       "<Figure size 640x480 with 1 Axes>"
      ]
     },
     "metadata": {},
     "output_type": "display_data"
    }
   ],
   "source": [
    "plt.plot(forecast['ds'],forecast['y'], label = 'actual')\n",
    "plt.plot(forecast['ds'], forecast['yhat1'], label ='predictions')\n",
    "plt.legend()\n",
    "plt.show()"
   ]
  },
  {
   "cell_type": "code",
   "execution_count": 76,
   "metadata": {},
   "outputs": [],
   "source": [
    "df_to_train['gold open'] = df_interpolate.reset_index()['gold open'].copy()"
   ]
  },
  {
   "cell_type": "code",
   "execution_count": 77,
   "metadata": {},
   "outputs": [
    {
     "data": {
      "text/html": [
       "<div>\n",
       "<style scoped>\n",
       "    .dataframe tbody tr th:only-of-type {\n",
       "        vertical-align: middle;\n",
       "    }\n",
       "\n",
       "    .dataframe tbody tr th {\n",
       "        vertical-align: top;\n",
       "    }\n",
       "\n",
       "    .dataframe thead th {\n",
       "        text-align: right;\n",
       "    }\n",
       "</style>\n",
       "<table border=\"1\" class=\"dataframe\">\n",
       "  <thead>\n",
       "    <tr style=\"text-align: right;\">\n",
       "      <th></th>\n",
       "      <th>ds</th>\n",
       "      <th>pca_0</th>\n",
       "      <th>pca_1</th>\n",
       "      <th>pca_2</th>\n",
       "      <th>y</th>\n",
       "      <th>gold open</th>\n",
       "    </tr>\n",
       "  </thead>\n",
       "  <tbody>\n",
       "    <tr>\n",
       "      <th>0</th>\n",
       "      <td>2010-01-14</td>\n",
       "      <td>-3.627807</td>\n",
       "      <td>0.247963</td>\n",
       "      <td>-0.712306</td>\n",
       "      <td>112.030</td>\n",
       "      <td>111.51</td>\n",
       "    </tr>\n",
       "    <tr>\n",
       "      <th>1</th>\n",
       "      <td>2010-01-15</td>\n",
       "      <td>-3.615665</td>\n",
       "      <td>0.160358</td>\n",
       "      <td>-0.715375</td>\n",
       "      <td>110.860</td>\n",
       "      <td>111.35</td>\n",
       "    </tr>\n",
       "    <tr>\n",
       "      <th>2</th>\n",
       "      <td>2010-01-16</td>\n",
       "      <td>-3.619222</td>\n",
       "      <td>0.134815</td>\n",
       "      <td>-0.718421</td>\n",
       "      <td>111.025</td>\n",
       "      <td>111.25</td>\n",
       "    </tr>\n",
       "    <tr>\n",
       "      <th>3</th>\n",
       "      <td>2010-01-17</td>\n",
       "      <td>-3.622779</td>\n",
       "      <td>0.109272</td>\n",
       "      <td>-0.721466</td>\n",
       "      <td>111.190</td>\n",
       "      <td>111.15</td>\n",
       "    </tr>\n",
       "    <tr>\n",
       "      <th>4</th>\n",
       "      <td>2010-01-18</td>\n",
       "      <td>-3.626336</td>\n",
       "      <td>0.083729</td>\n",
       "      <td>-0.724511</td>\n",
       "      <td>111.355</td>\n",
       "      <td>111.05</td>\n",
       "    </tr>\n",
       "  </tbody>\n",
       "</table>\n",
       "</div>"
      ],
      "text/plain": [
       "          ds     pca_0     pca_1     pca_2        y  gold open\n",
       "0 2010-01-14 -3.627807  0.247963 -0.712306  112.030     111.51\n",
       "1 2010-01-15 -3.615665  0.160358 -0.715375  110.860     111.35\n",
       "2 2010-01-16 -3.619222  0.134815 -0.718421  111.025     111.25\n",
       "3 2010-01-17 -3.622779  0.109272 -0.721466  111.190     111.15\n",
       "4 2010-01-18 -3.626336  0.083729 -0.724511  111.355     111.05"
      ]
     },
     "execution_count": 77,
     "metadata": {},
     "output_type": "execute_result"
    }
   ],
   "source": [
    "df_to_train.head()"
   ]
  },
  {
   "cell_type": "code",
   "execution_count": 70,
   "metadata": {},
   "outputs": [],
   "source": [
    "model_2 = NeuralProphet()"
   ]
  },
  {
   "cell_type": "code",
   "execution_count": 79,
   "metadata": {},
   "outputs": [],
   "source": [
    "train = df_to_train[df_to_train['ds']<=date_train]\n",
    "test = df_to_train[df_to_train['ds']>date_train]"
   ]
  },
  {
   "cell_type": "code",
   "execution_count": 72,
   "metadata": {},
   "outputs": [
    {
     "data": {
      "text/plain": [
       "Index(['ds', 'pca_0', 'pca_1', 'pca_2', 'y', 'gold open'], dtype='object')"
      ]
     },
     "execution_count": 72,
     "metadata": {},
     "output_type": "execute_result"
    }
   ],
   "source": [
    "train.columns"
   ]
  },
  {
   "cell_type": "code",
   "execution_count": 73,
   "metadata": {},
   "outputs": [
    {
     "name": "stdout",
     "output_type": "stream",
     "text": [
      "pca_0\n",
      "pca_1\n",
      "pca_2\n"
     ]
    }
   ],
   "source": [
    "for i in train.columns[1:4]:\n",
    "    model_2.add_future_regressor(i)\n",
    "    print(i)"
   ]
  },
  {
   "cell_type": "code",
   "execution_count": 74,
   "metadata": {},
   "outputs": [
    {
     "data": {
      "text/plain": [
       "<neuralprophet.forecaster.NeuralProphet at 0x1a5e16574a0>"
      ]
     },
     "execution_count": 74,
     "metadata": {},
     "output_type": "execute_result"
    }
   ],
   "source": [
    "model_2.add_future_regressor('gold open')"
   ]
  },
  {
   "cell_type": "code",
   "execution_count": 80,
   "metadata": {},
   "outputs": [
    {
     "name": "stderr",
     "output_type": "stream",
     "text": [
      "WARNING - (NP.forecaster.fit) - When Global modeling with local normalization, metrics are displayed in normalized scale.\n",
      "c:\\Users\\Lenovo\\AppData\\Local\\Programs\\Python\\Python312\\Lib\\site-packages\\neuralprophet\\df_utils.py:1152: FutureWarning: Series.view is deprecated and will be removed in a future version. Use ``astype`` as an alternative to change the dtype.\n",
      "  converted_ds = pd.to_datetime(ds_col, utc=True).view(dtype=np.int64)\n",
      "INFO - (NP.df_utils._infer_frequency) - Major frequency D corresponds to 99.98% of the data.\n",
      "c:\\Users\\Lenovo\\AppData\\Local\\Programs\\Python\\Python312\\Lib\\site-packages\\neuralprophet\\df_utils.py:1152: FutureWarning: Series.view is deprecated and will be removed in a future version. Use ``astype`` as an alternative to change the dtype.\n",
      "  converted_ds = pd.to_datetime(ds_col, utc=True).view(dtype=np.int64)\n",
      "c:\\Users\\Lenovo\\AppData\\Local\\Programs\\Python\\Python312\\Lib\\site-packages\\neuralprophet\\df_utils.py:1152: FutureWarning: Series.view is deprecated and will be removed in a future version. Use ``astype`` as an alternative to change the dtype.\n",
      "  converted_ds = pd.to_datetime(ds_col, utc=True).view(dtype=np.int64)\n",
      "INFO - (NP.df_utils._infer_frequency) - Defined frequency is equal to major frequency - D\n",
      "INFO - (NP.config.init_data_params) - Setting normalization to global as only one dataframe provided for training.\n",
      "INFO - (NP.utils.set_auto_seasonalities) - Disabling daily seasonality. Run NeuralProphet with daily_seasonality=True to override this.\n",
      "INFO - (NP.config.set_auto_batch_epoch) - Auto-set batch_size to 64\n",
      "INFO - (NP.config.set_auto_batch_epoch) - Auto-set epochs to 70\n",
      "WARNING - (NP.config.set_lr_finder_args) - Learning rate finder: The number of batches (79) is too small than the required number                     for the learning rate finder (242). The results might not be optimal.\n",
      "c:\\Users\\Lenovo\\AppData\\Local\\Programs\\Python\\Python312\\Lib\\site-packages\\pytorch_lightning\\trainer\\configuration_validator.py:108: PossibleUserWarning: You defined a `validation_step` but have no `val_dataloader`. Skipping val loop.\n",
      "  rank_zero_warn(\n",
      "c:\\Users\\Lenovo\\AppData\\Local\\Programs\\Python\\Python312\\Lib\\site-packages\\pytorch_lightning\\trainer\\connectors\\data_connector.py:224: PossibleUserWarning: The dataloader, train_dataloader, does not have many workers which may be a bottleneck. Consider increasing the value of the `num_workers` argument` (try 4 which is the number of cpus on this machine) in the `DataLoader` init to improve performance.\n",
      "  rank_zero_warn(\n"
     ]
    },
    {
     "data": {
      "application/vnd.jupyter.widget-view+json": {
       "model_id": "e049e8ab0694498c8f07b1af995adb3b",
       "version_major": 2,
       "version_minor": 0
      },
      "text/plain": [
       "Finding best initial lr:   0%|          | 0/242 [00:00<?, ?it/s]"
      ]
     },
     "metadata": {},
     "output_type": "display_data"
    },
    {
     "name": "stderr",
     "output_type": "stream",
     "text": [
      "c:\\Users\\Lenovo\\AppData\\Local\\Programs\\Python\\Python312\\Lib\\site-packages\\lightning_fabric\\utilities\\cloud_io.py:51: FutureWarning: You are using `torch.load` with `weights_only=False` (the current default value), which uses the default pickle module implicitly. It is possible to construct malicious pickle data which will execute arbitrary code during unpickling (See https://github.com/pytorch/pytorch/blob/main/SECURITY.md#untrusted-models for more details). In a future release, the default value for `weights_only` will be flipped to `True`. This limits the functions that could be executed during unpickling. Arbitrary objects will no longer be allowed to be loaded via this mode unless they are explicitly allowlisted by the user via `torch.serialization.add_safe_globals`. We recommend you start setting `weights_only=True` for any use case where you don't have full control of the loaded file. Please open an issue on GitHub for any issues related to this experimental feature.\n",
      "  return torch.load(f, map_location=map_location)  # type: ignore[arg-type]\n"
     ]
    },
    {
     "data": {
      "application/vnd.jupyter.widget-view+json": {
       "model_id": "8ac4298431d940f1b648a25638fca5b0",
       "version_major": 2,
       "version_minor": 0
      },
      "text/plain": [
       "Training: 0it [00:00, ?it/s]"
      ]
     },
     "metadata": {},
     "output_type": "display_data"
    },
    {
     "data": {
      "text/html": [
       "<div>\n",
       "<style scoped>\n",
       "    .dataframe tbody tr th:only-of-type {\n",
       "        vertical-align: middle;\n",
       "    }\n",
       "\n",
       "    .dataframe tbody tr th {\n",
       "        vertical-align: top;\n",
       "    }\n",
       "\n",
       "    .dataframe thead th {\n",
       "        text-align: right;\n",
       "    }\n",
       "</style>\n",
       "<table border=\"1\" class=\"dataframe\">\n",
       "  <thead>\n",
       "    <tr style=\"text-align: right;\">\n",
       "      <th></th>\n",
       "      <th>MAE</th>\n",
       "      <th>RMSE</th>\n",
       "      <th>Loss</th>\n",
       "      <th>RegLoss</th>\n",
       "      <th>epoch</th>\n",
       "    </tr>\n",
       "  </thead>\n",
       "  <tbody>\n",
       "    <tr>\n",
       "      <th>0</th>\n",
       "      <td>56.391571</td>\n",
       "      <td>71.122246</td>\n",
       "      <td>0.391642</td>\n",
       "      <td>0.0</td>\n",
       "      <td>0</td>\n",
       "    </tr>\n",
       "    <tr>\n",
       "      <th>1</th>\n",
       "      <td>27.880531</td>\n",
       "      <td>37.335766</td>\n",
       "      <td>0.148020</td>\n",
       "      <td>0.0</td>\n",
       "      <td>1</td>\n",
       "    </tr>\n",
       "    <tr>\n",
       "      <th>2</th>\n",
       "      <td>11.274025</td>\n",
       "      <td>14.971575</td>\n",
       "      <td>0.035906</td>\n",
       "      <td>0.0</td>\n",
       "      <td>2</td>\n",
       "    </tr>\n",
       "    <tr>\n",
       "      <th>3</th>\n",
       "      <td>6.065299</td>\n",
       "      <td>7.497430</td>\n",
       "      <td>0.010242</td>\n",
       "      <td>0.0</td>\n",
       "      <td>3</td>\n",
       "    </tr>\n",
       "    <tr>\n",
       "      <th>4</th>\n",
       "      <td>4.799622</td>\n",
       "      <td>5.811633</td>\n",
       "      <td>0.006206</td>\n",
       "      <td>0.0</td>\n",
       "      <td>4</td>\n",
       "    </tr>\n",
       "    <tr>\n",
       "      <th>...</th>\n",
       "      <td>...</td>\n",
       "      <td>...</td>\n",
       "      <td>...</td>\n",
       "      <td>...</td>\n",
       "      <td>...</td>\n",
       "    </tr>\n",
       "    <tr>\n",
       "      <th>65</th>\n",
       "      <td>0.595641</td>\n",
       "      <td>0.866820</td>\n",
       "      <td>0.000151</td>\n",
       "      <td>0.0</td>\n",
       "      <td>65</td>\n",
       "    </tr>\n",
       "    <tr>\n",
       "      <th>66</th>\n",
       "      <td>0.598877</td>\n",
       "      <td>0.866899</td>\n",
       "      <td>0.000152</td>\n",
       "      <td>0.0</td>\n",
       "      <td>66</td>\n",
       "    </tr>\n",
       "    <tr>\n",
       "      <th>67</th>\n",
       "      <td>0.596647</td>\n",
       "      <td>0.868552</td>\n",
       "      <td>0.000151</td>\n",
       "      <td>0.0</td>\n",
       "      <td>67</td>\n",
       "    </tr>\n",
       "    <tr>\n",
       "      <th>68</th>\n",
       "      <td>0.592842</td>\n",
       "      <td>0.860792</td>\n",
       "      <td>0.000150</td>\n",
       "      <td>0.0</td>\n",
       "      <td>68</td>\n",
       "    </tr>\n",
       "    <tr>\n",
       "      <th>69</th>\n",
       "      <td>0.592110</td>\n",
       "      <td>0.857910</td>\n",
       "      <td>0.000149</td>\n",
       "      <td>0.0</td>\n",
       "      <td>69</td>\n",
       "    </tr>\n",
       "  </tbody>\n",
       "</table>\n",
       "<p>70 rows × 5 columns</p>\n",
       "</div>"
      ],
      "text/plain": [
       "          MAE       RMSE      Loss  RegLoss  epoch\n",
       "0   56.391571  71.122246  0.391642      0.0      0\n",
       "1   27.880531  37.335766  0.148020      0.0      1\n",
       "2   11.274025  14.971575  0.035906      0.0      2\n",
       "3    6.065299   7.497430  0.010242      0.0      3\n",
       "4    4.799622   5.811633  0.006206      0.0      4\n",
       "..        ...        ...       ...      ...    ...\n",
       "65   0.595641   0.866820  0.000151      0.0     65\n",
       "66   0.598877   0.866899  0.000152      0.0     66\n",
       "67   0.596647   0.868552  0.000151      0.0     67\n",
       "68   0.592842   0.860792  0.000150      0.0     68\n",
       "69   0.592110   0.857910  0.000149      0.0     69\n",
       "\n",
       "[70 rows x 5 columns]"
      ]
     },
     "execution_count": 80,
     "metadata": {},
     "output_type": "execute_result"
    }
   ],
   "source": [
    "model_2.fit(train,freq='D')"
   ]
  },
  {
   "cell_type": "code",
   "execution_count": 81,
   "metadata": {},
   "outputs": [
    {
     "name": "stderr",
     "output_type": "stream",
     "text": [
      "c:\\Users\\Lenovo\\AppData\\Local\\Programs\\Python\\Python312\\Lib\\site-packages\\neuralprophet\\df_utils.py:1152: FutureWarning: Series.view is deprecated and will be removed in a future version. Use ``astype`` as an alternative to change the dtype.\n",
      "  converted_ds = pd.to_datetime(ds_col, utc=True).view(dtype=np.int64)\n",
      "INFO - (NP.df_utils._infer_frequency) - Major frequency D corresponds to 99.981% of the data.\n",
      "c:\\Users\\Lenovo\\AppData\\Local\\Programs\\Python\\Python312\\Lib\\site-packages\\neuralprophet\\df_utils.py:1152: FutureWarning: Series.view is deprecated and will be removed in a future version. Use ``astype`` as an alternative to change the dtype.\n",
      "  converted_ds = pd.to_datetime(ds_col, utc=True).view(dtype=np.int64)\n",
      "c:\\Users\\Lenovo\\AppData\\Local\\Programs\\Python\\Python312\\Lib\\site-packages\\neuralprophet\\df_utils.py:1152: FutureWarning: Series.view is deprecated and will be removed in a future version. Use ``astype`` as an alternative to change the dtype.\n",
      "  converted_ds = pd.to_datetime(ds_col, utc=True).view(dtype=np.int64)\n",
      "INFO - (NP.df_utils._infer_frequency) - Defined frequency is equal to major frequency - D\n",
      "c:\\Users\\Lenovo\\AppData\\Local\\Programs\\Python\\Python312\\Lib\\site-packages\\neuralprophet\\df_utils.py:1152: FutureWarning: Series.view is deprecated and will be removed in a future version. Use ``astype`` as an alternative to change the dtype.\n",
      "  converted_ds = pd.to_datetime(ds_col, utc=True).view(dtype=np.int64)\n",
      "INFO - (NP.df_utils._infer_frequency) - Major frequency D corresponds to 99.981% of the data.\n",
      "c:\\Users\\Lenovo\\AppData\\Local\\Programs\\Python\\Python312\\Lib\\site-packages\\neuralprophet\\df_utils.py:1152: FutureWarning: Series.view is deprecated and will be removed in a future version. Use ``astype`` as an alternative to change the dtype.\n",
      "  converted_ds = pd.to_datetime(ds_col, utc=True).view(dtype=np.int64)\n",
      "c:\\Users\\Lenovo\\AppData\\Local\\Programs\\Python\\Python312\\Lib\\site-packages\\neuralprophet\\df_utils.py:1152: FutureWarning: Series.view is deprecated and will be removed in a future version. Use ``astype`` as an alternative to change the dtype.\n",
      "  converted_ds = pd.to_datetime(ds_col, utc=True).view(dtype=np.int64)\n",
      "INFO - (NP.df_utils._infer_frequency) - Defined frequency is equal to major frequency - D\n",
      "c:\\Users\\Lenovo\\AppData\\Local\\Programs\\Python\\Python312\\Lib\\site-packages\\pytorch_lightning\\trainer\\connectors\\data_connector.py:224: PossibleUserWarning: The dataloader, predict_dataloader 0, does not have many workers which may be a bottleneck. Consider increasing the value of the `num_workers` argument` (try 4 which is the number of cpus on this machine) in the `DataLoader` init to improve performance.\n",
      "  rank_zero_warn(\n"
     ]
    },
    {
     "data": {
      "application/vnd.jupyter.widget-view+json": {
       "model_id": "c1dc6c38965245158a61118c1f2b9bf1",
       "version_major": 2,
       "version_minor": 0
      },
      "text/plain": [
       "Predicting: 79it [00:00, ?it/s]"
      ]
     },
     "metadata": {},
     "output_type": "display_data"
    },
    {
     "name": "stderr",
     "output_type": "stream",
     "text": [
      "INFO - (NP.df_utils.return_df_in_original_format) - Returning df with no ID column\n"
     ]
    }
   ],
   "source": [
    "forecast_m2 = model_2.predict(df_to_train)"
   ]
  },
  {
   "cell_type": "code",
   "execution_count": 82,
   "metadata": {},
   "outputs": [
    {
     "data": {
      "image/png": "[encoded data removed]",
      "text/plain": [
       "<Figure size 640x480 with 1 Axes>"
      ]
     },
     "metadata": {},
     "output_type": "display_data"
    }
   ],
   "source": [
    "plt.plot(forecast_m2['ds'],forecast_m2['y'], label = 'actual')\n",
    "plt.plot(forecast_m2['ds'], forecast_m2['yhat1'], label ='predictions')\n",
    "plt.legend()\n",
    "plt.show()"
   ]
  },
  {
   "cell_type": "markdown",
   "metadata": {},
   "source": [
    "7. Stworzenie modelu ML i porównanie wyników"
   ]
  },
  {
   "cell_type": "code",
   "execution_count": 83,
   "metadata": {},
   "outputs": [
    {
     "data": {
      "text/html": [
       "<div>\n",
       "<style scoped>\n",
       "    .dataframe tbody tr th:only-of-type {\n",
       "        vertical-align: middle;\n",
       "    }\n",
       "\n",
       "    .dataframe tbody tr th {\n",
       "        vertical-align: top;\n",
       "    }\n",
       "\n",
       "    .dataframe thead th {\n",
       "        text-align: right;\n",
       "    }\n",
       "</style>\n",
       "<table border=\"1\" class=\"dataframe\">\n",
       "  <thead>\n",
       "    <tr style=\"text-align: right;\">\n",
       "      <th></th>\n",
       "      <th>ds</th>\n",
       "      <th>pca_0</th>\n",
       "      <th>pca_1</th>\n",
       "      <th>pca_2</th>\n",
       "      <th>y</th>\n",
       "      <th>gold open</th>\n",
       "    </tr>\n",
       "  </thead>\n",
       "  <tbody>\n",
       "    <tr>\n",
       "      <th>0</th>\n",
       "      <td>2010-01-14</td>\n",
       "      <td>-3.627807</td>\n",
       "      <td>0.247963</td>\n",
       "      <td>-0.712306</td>\n",
       "      <td>112.030</td>\n",
       "      <td>111.51</td>\n",
       "    </tr>\n",
       "    <tr>\n",
       "      <th>1</th>\n",
       "      <td>2010-01-15</td>\n",
       "      <td>-3.615665</td>\n",
       "      <td>0.160358</td>\n",
       "      <td>-0.715375</td>\n",
       "      <td>110.860</td>\n",
       "      <td>111.35</td>\n",
       "    </tr>\n",
       "    <tr>\n",
       "      <th>2</th>\n",
       "      <td>2010-01-16</td>\n",
       "      <td>-3.619222</td>\n",
       "      <td>0.134815</td>\n",
       "      <td>-0.718421</td>\n",
       "      <td>111.025</td>\n",
       "      <td>111.25</td>\n",
       "    </tr>\n",
       "    <tr>\n",
       "      <th>3</th>\n",
       "      <td>2010-01-17</td>\n",
       "      <td>-3.622779</td>\n",
       "      <td>0.109272</td>\n",
       "      <td>-0.721466</td>\n",
       "      <td>111.190</td>\n",
       "      <td>111.15</td>\n",
       "    </tr>\n",
       "    <tr>\n",
       "      <th>4</th>\n",
       "      <td>2010-01-18</td>\n",
       "      <td>-3.626336</td>\n",
       "      <td>0.083729</td>\n",
       "      <td>-0.724511</td>\n",
       "      <td>111.355</td>\n",
       "      <td>111.05</td>\n",
       "    </tr>\n",
       "  </tbody>\n",
       "</table>\n",
       "</div>"
      ],
      "text/plain": [
       "          ds     pca_0     pca_1     pca_2        y  gold open\n",
       "0 2010-01-14 -3.627807  0.247963 -0.712306  112.030     111.51\n",
       "1 2010-01-15 -3.615665  0.160358 -0.715375  110.860     111.35\n",
       "2 2010-01-16 -3.619222  0.134815 -0.718421  111.025     111.25\n",
       "3 2010-01-17 -3.622779  0.109272 -0.721466  111.190     111.15\n",
       "4 2010-01-18 -3.626336  0.083729 -0.724511  111.355     111.05"
      ]
     },
     "execution_count": 83,
     "metadata": {},
     "output_type": "execute_result"
    }
   ],
   "source": [
    "df_to_train.head()"
   ]
  },
  {
   "cell_type": "code",
   "execution_count": 84,
   "metadata": {},
   "outputs": [],
   "source": [
    "df_to_train['month'] = df_to_train['ds'].dt.month\n",
    "df_to_train['day'] = df_to_train['ds'].dt.day\n",
    "df_to_train['quarter'] = df_to_train['ds'].dt.quarter"
   ]
  },
  {
   "cell_type": "code",
   "execution_count": 86,
   "metadata": {},
   "outputs": [],
   "source": [
    "df_to_train['y_diff'] = df_to_train['y'].diff()"
   ]
  },
  {
   "cell_type": "code",
   "execution_count": 87,
   "metadata": {},
   "outputs": [
    {
     "data": {
      "text/html": [
       "<div>\n",
       "<style scoped>\n",
       "    .dataframe tbody tr th:only-of-type {\n",
       "        vertical-align: middle;\n",
       "    }\n",
       "\n",
       "    .dataframe tbody tr th {\n",
       "        vertical-align: top;\n",
       "    }\n",
       "\n",
       "    .dataframe thead th {\n",
       "        text-align: right;\n",
       "    }\n",
       "</style>\n",
       "<table border=\"1\" class=\"dataframe\">\n",
       "  <thead>\n",
       "    <tr style=\"text-align: right;\">\n",
       "      <th></th>\n",
       "      <th>ds</th>\n",
       "      <th>pca_0</th>\n",
       "      <th>pca_1</th>\n",
       "      <th>pca_2</th>\n",
       "      <th>y</th>\n",
       "      <th>gold open</th>\n",
       "      <th>month</th>\n",
       "      <th>day</th>\n",
       "      <th>quarter</th>\n",
       "      <th>y_diff</th>\n",
       "    </tr>\n",
       "  </thead>\n",
       "  <tbody>\n",
       "    <tr>\n",
       "      <th>0</th>\n",
       "      <td>2010-01-14</td>\n",
       "      <td>-3.627807</td>\n",
       "      <td>0.247963</td>\n",
       "      <td>-0.712306</td>\n",
       "      <td>112.030</td>\n",
       "      <td>111.51</td>\n",
       "      <td>1</td>\n",
       "      <td>14</td>\n",
       "      <td>1</td>\n",
       "      <td>NaN</td>\n",
       "    </tr>\n",
       "    <tr>\n",
       "      <th>1</th>\n",
       "      <td>2010-01-15</td>\n",
       "      <td>-3.615665</td>\n",
       "      <td>0.160358</td>\n",
       "      <td>-0.715375</td>\n",
       "      <td>110.860</td>\n",
       "      <td>111.35</td>\n",
       "      <td>1</td>\n",
       "      <td>15</td>\n",
       "      <td>1</td>\n",
       "      <td>-1.170</td>\n",
       "    </tr>\n",
       "    <tr>\n",
       "      <th>2</th>\n",
       "      <td>2010-01-16</td>\n",
       "      <td>-3.619222</td>\n",
       "      <td>0.134815</td>\n",
       "      <td>-0.718421</td>\n",
       "      <td>111.025</td>\n",
       "      <td>111.25</td>\n",
       "      <td>1</td>\n",
       "      <td>16</td>\n",
       "      <td>1</td>\n",
       "      <td>0.165</td>\n",
       "    </tr>\n",
       "    <tr>\n",
       "      <th>3</th>\n",
       "      <td>2010-01-17</td>\n",
       "      <td>-3.622779</td>\n",
       "      <td>0.109272</td>\n",
       "      <td>-0.721466</td>\n",
       "      <td>111.190</td>\n",
       "      <td>111.15</td>\n",
       "      <td>1</td>\n",
       "      <td>17</td>\n",
       "      <td>1</td>\n",
       "      <td>0.165</td>\n",
       "    </tr>\n",
       "    <tr>\n",
       "      <th>4</th>\n",
       "      <td>2010-01-18</td>\n",
       "      <td>-3.626336</td>\n",
       "      <td>0.083729</td>\n",
       "      <td>-0.724511</td>\n",
       "      <td>111.355</td>\n",
       "      <td>111.05</td>\n",
       "      <td>1</td>\n",
       "      <td>18</td>\n",
       "      <td>1</td>\n",
       "      <td>0.165</td>\n",
       "    </tr>\n",
       "  </tbody>\n",
       "</table>\n",
       "</div>"
      ],
      "text/plain": [
       "          ds     pca_0     pca_1     pca_2        y  gold open  month  day  \\\n",
       "0 2010-01-14 -3.627807  0.247963 -0.712306  112.030     111.51      1   14   \n",
       "1 2010-01-15 -3.615665  0.160358 -0.715375  110.860     111.35      1   15   \n",
       "2 2010-01-16 -3.619222  0.134815 -0.718421  111.025     111.25      1   16   \n",
       "3 2010-01-17 -3.622779  0.109272 -0.721466  111.190     111.15      1   17   \n",
       "4 2010-01-18 -3.626336  0.083729 -0.724511  111.355     111.05      1   18   \n",
       "\n",
       "   quarter  y_diff  \n",
       "0        1     NaN  \n",
       "1        1  -1.170  \n",
       "2        1   0.165  \n",
       "3        1   0.165  \n",
       "4        1   0.165  "
      ]
     },
     "execution_count": 87,
     "metadata": {},
     "output_type": "execute_result"
    }
   ],
   "source": [
    "df_to_train.head()"
   ]
  },
  {
   "cell_type": "code",
   "execution_count": 88,
   "metadata": {},
   "outputs": [],
   "source": [
    "df_to_train_2 = df_to_train.dropna()"
   ]
  },
  {
   "cell_type": "code",
   "execution_count": 89,
   "metadata": {},
   "outputs": [],
   "source": [
    "train = df_to_train_2[df_to_train_2['ds']<=date_train]\n",
    "test = df_to_train_2[df_to_train_2['ds']>date_train]"
   ]
  },
  {
   "cell_type": "code",
   "execution_count": 90,
   "metadata": {},
   "outputs": [],
   "source": [
    "from sklearn.tree import DecisionTreeRegressor"
   ]
  },
  {
   "cell_type": "code",
   "execution_count": 94,
   "metadata": {},
   "outputs": [],
   "source": [
    "base_x = ['pca_0','pca_1','pca_2','month','quarter','day']"
   ]
  },
  {
   "cell_type": "code",
   "execution_count": 103,
   "metadata": {},
   "outputs": [],
   "source": [
    "x_y_names = [[base_x +['gold open'],'y'],[base_x,'y_diff'],[base_x +['gold open'],'y_diff']]"
   ]
  },
  {
   "cell_type": "code",
   "execution_count": 109,
   "metadata": {},
   "outputs": [
    {
     "name": "stdout",
     "output_type": "stream",
     "text": [
      "[['pca_0', 'pca_1', 'pca_2', 'month', 'quarter', 'day', 'gold open'], 'y']\n"
     ]
    },
    {
     "data": {
      "image/png": "[encoded data removed]",
      "text/plain": [
       "<Figure size 640x480 with 1 Axes>"
      ]
     },
     "metadata": {},
     "output_type": "display_data"
    },
    {
     "name": "stdout",
     "output_type": "stream",
     "text": [
      "[['pca_0', 'pca_1', 'pca_2', 'month', 'quarter', 'day'], 'y_diff']\n"
     ]
    },
    {
     "data": {
      "image/png": "[encoded data removed]",
      "text/plain": [
       "<Figure size 640x480 with 1 Axes>"
      ]
     },
     "metadata": {},
     "output_type": "display_data"
    },
    {
     "name": "stdout",
     "output_type": "stream",
     "text": [
      "[['pca_0', 'pca_1', 'pca_2', 'month', 'quarter', 'day', 'gold open'], 'y_diff']\n"
     ]
    },
    {
     "data": {
      "image/png": "[encoded data removed]",
      "text/plain": [
       "<Figure size 640x480 with 1 Axes>"
      ]
     },
     "metadata": {},
     "output_type": "display_data"
    }
   ],
   "source": [
    "for i in x_y_names:\n",
    "    print(i)\n",
    "    train_x = train[i[0]]\n",
    "    train_y = train[i[1]]\n",
    "    model = DecisionTreeRegressor(max_depth=20, min_samples_split=10).fit(train_x,train_y)\n",
    "    pred = pd.Series(model.predict(df_to_train[i[0]]))\n",
    "    pred.index = df_to_train.ds\n",
    "    plt.plot(pred,label = 'forecast')\n",
    "    plt.plot(df_to_train['ds'],df_to_train[i[1]],alpha = 0.3)\n",
    "    plt.legend()\n",
    "    plt.show()"
   ]
  },
  {
   "cell_type": "markdown",
   "metadata": {},
   "source": [
    "8. *Stworzenie modelu, który dokona predykcji na za 7 dni. (Możesz wybrać inną jednostkę)."
   ]
  },
  {
   "cell_type": "code",
   "execution_count": 110,
   "metadata": {},
   "outputs": [],
   "source": [
    "from sklearn.linear_model import QuantileRegressor"
   ]
  },
  {
   "cell_type": "code",
   "execution_count": 112,
   "metadata": {},
   "outputs": [],
   "source": [
    "df_to_train = df_to_train.sort_values(by='ds')\n",
    "df_to_train['y_new'] = df_to_train['y'].shift(-7)"
   ]
  },
  {
   "cell_type": "code",
   "execution_count": 113,
   "metadata": {},
   "outputs": [
    {
     "data": {
      "text/html": [
       "<div>\n",
       "<style scoped>\n",
       "    .dataframe tbody tr th:only-of-type {\n",
       "        vertical-align: middle;\n",
       "    }\n",
       "\n",
       "    .dataframe tbody tr th {\n",
       "        vertical-align: top;\n",
       "    }\n",
       "\n",
       "    .dataframe thead th {\n",
       "        text-align: right;\n",
       "    }\n",
       "</style>\n",
       "<table border=\"1\" class=\"dataframe\">\n",
       "  <thead>\n",
       "    <tr style=\"text-align: right;\">\n",
       "      <th></th>\n",
       "      <th>ds</th>\n",
       "      <th>pca_0</th>\n",
       "      <th>pca_1</th>\n",
       "      <th>pca_2</th>\n",
       "      <th>y</th>\n",
       "      <th>gold open</th>\n",
       "      <th>month</th>\n",
       "      <th>day</th>\n",
       "      <th>quarter</th>\n",
       "      <th>y_diff</th>\n",
       "      <th>y_new</th>\n",
       "    </tr>\n",
       "  </thead>\n",
       "  <tbody>\n",
       "    <tr>\n",
       "      <th>0</th>\n",
       "      <td>2010-01-14</td>\n",
       "      <td>-3.627807</td>\n",
       "      <td>0.247963</td>\n",
       "      <td>-0.712306</td>\n",
       "      <td>112.030000</td>\n",
       "      <td>111.51</td>\n",
       "      <td>1</td>\n",
       "      <td>14</td>\n",
       "      <td>1</td>\n",
       "      <td>NaN</td>\n",
       "      <td>107.370000</td>\n",
       "    </tr>\n",
       "    <tr>\n",
       "      <th>1</th>\n",
       "      <td>2010-01-15</td>\n",
       "      <td>-3.615665</td>\n",
       "      <td>0.160358</td>\n",
       "      <td>-0.715375</td>\n",
       "      <td>110.860000</td>\n",
       "      <td>111.35</td>\n",
       "      <td>1</td>\n",
       "      <td>15</td>\n",
       "      <td>1</td>\n",
       "      <td>-1.170000</td>\n",
       "      <td>107.170000</td>\n",
       "    </tr>\n",
       "    <tr>\n",
       "      <th>2</th>\n",
       "      <td>2010-01-16</td>\n",
       "      <td>-3.619222</td>\n",
       "      <td>0.134815</td>\n",
       "      <td>-0.718421</td>\n",
       "      <td>111.025000</td>\n",
       "      <td>111.25</td>\n",
       "      <td>1</td>\n",
       "      <td>16</td>\n",
       "      <td>1</td>\n",
       "      <td>0.165000</td>\n",
       "      <td>107.273333</td>\n",
       "    </tr>\n",
       "    <tr>\n",
       "      <th>3</th>\n",
       "      <td>2010-01-17</td>\n",
       "      <td>-3.622779</td>\n",
       "      <td>0.109272</td>\n",
       "      <td>-0.721466</td>\n",
       "      <td>111.190000</td>\n",
       "      <td>111.15</td>\n",
       "      <td>1</td>\n",
       "      <td>17</td>\n",
       "      <td>1</td>\n",
       "      <td>0.165000</td>\n",
       "      <td>107.376667</td>\n",
       "    </tr>\n",
       "    <tr>\n",
       "      <th>4</th>\n",
       "      <td>2010-01-18</td>\n",
       "      <td>-3.626336</td>\n",
       "      <td>0.083729</td>\n",
       "      <td>-0.724511</td>\n",
       "      <td>111.355000</td>\n",
       "      <td>111.05</td>\n",
       "      <td>1</td>\n",
       "      <td>18</td>\n",
       "      <td>1</td>\n",
       "      <td>0.165000</td>\n",
       "      <td>107.480000</td>\n",
       "    </tr>\n",
       "    <tr>\n",
       "      <th>5</th>\n",
       "      <td>2010-01-19</td>\n",
       "      <td>-3.629893</td>\n",
       "      <td>0.058186</td>\n",
       "      <td>-0.727556</td>\n",
       "      <td>111.520000</td>\n",
       "      <td>110.95</td>\n",
       "      <td>1</td>\n",
       "      <td>19</td>\n",
       "      <td>1</td>\n",
       "      <td>0.165000</td>\n",
       "      <td>107.560000</td>\n",
       "    </tr>\n",
       "    <tr>\n",
       "      <th>6</th>\n",
       "      <td>2010-01-20</td>\n",
       "      <td>-3.612170</td>\n",
       "      <td>-0.100847</td>\n",
       "      <td>-0.764604</td>\n",
       "      <td>108.940000</td>\n",
       "      <td>109.97</td>\n",
       "      <td>1</td>\n",
       "      <td>20</td>\n",
       "      <td>1</td>\n",
       "      <td>-2.580000</td>\n",
       "      <td>106.528000</td>\n",
       "    </tr>\n",
       "    <tr>\n",
       "      <th>7</th>\n",
       "      <td>2010-01-21</td>\n",
       "      <td>-3.592635</td>\n",
       "      <td>-0.137417</td>\n",
       "      <td>-0.759061</td>\n",
       "      <td>107.370000</td>\n",
       "      <td>108.48</td>\n",
       "      <td>1</td>\n",
       "      <td>21</td>\n",
       "      <td>1</td>\n",
       "      <td>-1.570000</td>\n",
       "      <td>106.480000</td>\n",
       "    </tr>\n",
       "    <tr>\n",
       "      <th>8</th>\n",
       "      <td>2010-01-22</td>\n",
       "      <td>-3.565657</td>\n",
       "      <td>-0.268341</td>\n",
       "      <td>-0.772746</td>\n",
       "      <td>107.170000</td>\n",
       "      <td>106.93</td>\n",
       "      <td>1</td>\n",
       "      <td>22</td>\n",
       "      <td>1</td>\n",
       "      <td>-0.200000</td>\n",
       "      <td>105.960000</td>\n",
       "    </tr>\n",
       "    <tr>\n",
       "      <th>9</th>\n",
       "      <td>2010-01-23</td>\n",
       "      <td>-3.568631</td>\n",
       "      <td>-0.277995</td>\n",
       "      <td>-0.772594</td>\n",
       "      <td>107.273333</td>\n",
       "      <td>107.10</td>\n",
       "      <td>1</td>\n",
       "      <td>23</td>\n",
       "      <td>1</td>\n",
       "      <td>0.103333</td>\n",
       "      <td>106.756667</td>\n",
       "    </tr>\n",
       "  </tbody>\n",
       "</table>\n",
       "</div>"
      ],
      "text/plain": [
       "          ds     pca_0     pca_1     pca_2           y  gold open  month  day  \\\n",
       "0 2010-01-14 -3.627807  0.247963 -0.712306  112.030000     111.51      1   14   \n",
       "1 2010-01-15 -3.615665  0.160358 -0.715375  110.860000     111.35      1   15   \n",
       "2 2010-01-16 -3.619222  0.134815 -0.718421  111.025000     111.25      1   16   \n",
       "3 2010-01-17 -3.622779  0.109272 -0.721466  111.190000     111.15      1   17   \n",
       "4 2010-01-18 -3.626336  0.083729 -0.724511  111.355000     111.05      1   18   \n",
       "5 2010-01-19 -3.629893  0.058186 -0.727556  111.520000     110.95      1   19   \n",
       "6 2010-01-20 -3.612170 -0.100847 -0.764604  108.940000     109.97      1   20   \n",
       "7 2010-01-21 -3.592635 -0.137417 -0.759061  107.370000     108.48      1   21   \n",
       "8 2010-01-22 -3.565657 -0.268341 -0.772746  107.170000     106.93      1   22   \n",
       "9 2010-01-23 -3.568631 -0.277995 -0.772594  107.273333     107.10      1   23   \n",
       "\n",
       "   quarter    y_diff       y_new  \n",
       "0        1       NaN  107.370000  \n",
       "1        1 -1.170000  107.170000  \n",
       "2        1  0.165000  107.273333  \n",
       "3        1  0.165000  107.376667  \n",
       "4        1  0.165000  107.480000  \n",
       "5        1  0.165000  107.560000  \n",
       "6        1 -2.580000  106.528000  \n",
       "7        1 -1.570000  106.480000  \n",
       "8        1 -0.200000  105.960000  \n",
       "9        1  0.103333  106.756667  "
      ]
     },
     "execution_count": 113,
     "metadata": {},
     "output_type": "execute_result"
    }
   ],
   "source": [
    "df_to_train.head(10)"
   ]
  },
  {
   "cell_type": "code",
   "execution_count": 114,
   "metadata": {},
   "outputs": [],
   "source": [
    "train = df_to_train[df_to_train['ds']<=date_train]\n",
    "test = df_to_train[df_to_train['ds']>date_train]"
   ]
  },
  {
   "cell_type": "code",
   "execution_count": 117,
   "metadata": {},
   "outputs": [],
   "source": [
    "x_names =  base_x[:3] + ['gold open']"
   ]
  },
  {
   "cell_type": "code",
   "execution_count": 118,
   "metadata": {},
   "outputs": [],
   "source": [
    "mq = QuantileRegressor(quantile=0.5).fit(train[x_names], train['y_new'])"
   ]
  },
  {
   "cell_type": "code",
   "execution_count": 119,
   "metadata": {},
   "outputs": [],
   "source": [
    "pred_mq = pd.Series(mq.predict(df_to_train[x_names]))"
   ]
  },
  {
   "cell_type": "code",
   "execution_count": 121,
   "metadata": {},
   "outputs": [],
   "source": [
    "pred_mq.index = df_to_train.ds"
   ]
  },
  {
   "cell_type": "code",
   "execution_count": 122,
   "metadata": {},
   "outputs": [
    {
     "data": {
      "image/png": "[encoded data removed]",
      "text/plain": [
       "<Figure size 640x480 with 1 Axes>"
      ]
     },
     "metadata": {},
     "output_type": "display_data"
    }
   ],
   "source": [
    "plt.plot(pred_mq, label='forecast')\n",
    "plt.plot(df_to_train['ds'],df_to_train['y_new'])\n",
    "plt.legend()\n",
    "plt.show()\n"
   ]
  }
 ],
 "metadata": {
  "kernelspec": {
   "display_name": "Python 3",
   "language": "python",
   "name": "python3"
  },
  "language_info": {
   "codemirror_mode": {
    "name": "ipython",
    "version": 3
   },
   "file_extension": ".py",
   "mimetype": "text/x-python",
   "name": "python",
   "nbconvert_exporter": "python",
   "pygments_lexer": "ipython3",
   "version": "3.12.5"
  }
 },
 "nbformat": 4,
 "nbformat_minor": 2
}
