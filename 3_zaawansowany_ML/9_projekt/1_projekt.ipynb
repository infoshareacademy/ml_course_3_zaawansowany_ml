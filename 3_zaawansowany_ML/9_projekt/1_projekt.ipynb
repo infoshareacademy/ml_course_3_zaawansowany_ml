{
 "cells": [
  {
   "cell_type": "markdown",
   "metadata": {},
   "source": [
    "# Projekt\n",
    "\n",
    "\n",
    "źródło danych: https://www.kaggle.com/datasets/franciscogcc/financial-data \n",
    "\n",
    "Dane zawierają informacje z giełdowe.\n",
    "Cel biznesowy: Zaprognozować cenę złota, w celu podjęcia decyzji o zakupie/ sprzedaży.\n",
    "\n",
    "Opis danych:\n",
    "- S&P 500 - SPDR S&P 500 ETF Trust\n",
    "- Nasdaq 100 - Invesco QQQ ETF\n",
    "- US Interest Rates - monthly federal rates\n",
    "- CPI - Consumer Price Index, monthly\n",
    "- USD / CHF forex rate\n",
    "- EUR / USD forex rate\n",
    "- GDP - Gross Domestic Product, trimonthly\n",
    "- Silver - abrdn Physical Silver Shares ETF\n",
    "- Oil - USO ETF\n",
    "- Platinum - abrdn Physical Platinum Shares ETF\n",
    "- Palladium - abrdn Physical Palladium Shares ETF\n",
    "- Gold - SPDR Gold Trust ETF\n",
    "\n",
    "Zadania do wykonania:\n",
    "1. Wstępna analiza danych.\n",
    "2. Uzupełnienie braków danych\n",
    "3. Podział danych na klastry - jakie grupy przypadków obserwujemy?\n",
    "4. Użycie głównych składowych do zmniejszenia liczby zmiennych.\n",
    "5. Podział danych na train/ test\n",
    "6. Stworzenie modelu time series\n",
    "7. Stworzenie modelu ML i porównanie wyników\n",
    "8. *Stworzenie modelu, który dokona predykcji na za 7 dni. (Możesz wybrać inną jednostkę).\n",
    "\n",
    "Zmienna celu: gold close\n",
    "\n",
    "Dla chętnych: stworzenie modelu ML z wieloklasowym wyjściem: wyznaczamy cenę otwarcia, zamknięcia oraz najwyższą/ najniższą\n"
   ]
  },
  {
   "cell_type": "code",
   "execution_count": 1,
   "metadata": {},
   "outputs": [],
   "source": [
    "import pandas as pd"
   ]
  },
  {
   "cell_type": "code",
   "execution_count": 2,
   "metadata": {},
   "outputs": [],
   "source": [
    "df = pd.read_csv('data/financial_regression.csv')"
   ]
  },
  {
   "cell_type": "markdown",
   "metadata": {},
   "source": [
    "1. Wstępna analiza danych."
   ]
  },
  {
   "cell_type": "code",
   "execution_count": null,
   "metadata": {},
   "outputs": [],
   "source": []
  },
  {
   "cell_type": "markdown",
   "metadata": {},
   "source": [
    "2. Uzupełnienie braków danych\n"
   ]
  },
  {
   "cell_type": "code",
   "execution_count": null,
   "metadata": {},
   "outputs": [],
   "source": []
  },
  {
   "cell_type": "markdown",
   "metadata": {},
   "source": [
    "3. Podział danych na klastry - jakie grupy przypadków obserwujemy?\n"
   ]
  },
  {
   "cell_type": "code",
   "execution_count": null,
   "metadata": {},
   "outputs": [],
   "source": []
  },
  {
   "cell_type": "markdown",
   "metadata": {},
   "source": [
    "4. Użycie głównych składowych do zmniejszenia liczby zmiennych.\n"
   ]
  },
  {
   "cell_type": "code",
   "execution_count": null,
   "metadata": {},
   "outputs": [],
   "source": []
  },
  {
   "cell_type": "markdown",
   "metadata": {},
   "source": [
    "5. Podział danych na train/ test"
   ]
  },
  {
   "cell_type": "code",
   "execution_count": null,
   "metadata": {},
   "outputs": [],
   "source": []
  },
  {
   "cell_type": "markdown",
   "metadata": {},
   "source": [
    "6. Stworzenie modelu time series\n"
   ]
  },
  {
   "cell_type": "code",
   "execution_count": null,
   "metadata": {},
   "outputs": [],
   "source": []
  },
  {
   "cell_type": "markdown",
   "metadata": {},
   "source": [
    "7. Stworzenie modelu ML i porównanie wyników"
   ]
  },
  {
   "cell_type": "code",
   "execution_count": null,
   "metadata": {},
   "outputs": [],
   "source": []
  },
  {
   "cell_type": "markdown",
   "metadata": {},
   "source": [
    "8. *Stworzenie modelu, który dokona predykcji na za 7 dni. (Możesz wybrać inną jednostkę)."
   ]
  }
 ],
 "metadata": {
  "kernelspec": {
   "display_name": "Python 3",
   "language": "python",
   "name": "python3"
  },
  "language_info": {
   "codemirror_mode": {
    "name": "ipython",
    "version": 3
   },
   "file_extension": ".py",
   "mimetype": "text/x-python",
   "name": "python",
   "nbconvert_exporter": "python",
   "pygments_lexer": "ipython3",
   "version": "3.12.5"
  }
 },
 "nbformat": 4,
 "nbformat_minor": 2
}
