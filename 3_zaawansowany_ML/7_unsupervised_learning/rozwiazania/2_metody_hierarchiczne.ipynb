{
 "cells": [
  {
   "cell_type": "markdown",
   "metadata": {},
   "source": [
    "# Metody hierarchiczne\n",
    "\n",
    "Zbiór danych: https://www.kaggle.com/datasets/abdullah0a/human-age-prediction-synthetic-dataset\n",
    "\n",
    "Cel biznesowy: stowrzyć grupy pacjentów, w celu optymalizacji obsługi\n",
    "\n",
    "Dokumentacja: https://scikit-learn.org/stable/modules/generated/sklearn.cluster.AgglomerativeClustering.html"
   ]
  },
  {
   "cell_type": "code",
   "execution_count": 1,
   "metadata": {},
   "outputs": [],
   "source": [
    "from sklearn.cluster import AgglomerativeClustering\n",
    "import pandas as pd\n",
    "from sklearn.preprocessing import StandardScaler\n",
    "import matplotlib.pyplot as plt\n",
    "import numpy as np\n",
    "import seaborn as sns\n",
    "from scipy.cluster.hierarchy import dendrogram, linkage"
   ]
  },
  {
   "cell_type": "code",
   "execution_count": 2,
   "metadata": {},
   "outputs": [],
   "source": [
    "# puść ten kod, \n",
    "# jeżeli wywołujesz plik  w folderze rozwiąznaia, \n",
    "# a ramka danych znajduje się w folderze data\n",
    "import os \n",
    "os.chdir('../')"
   ]
  },
  {
   "cell_type": "code",
   "execution_count": 3,
   "metadata": {},
   "outputs": [],
   "source": [
    "# Przykładowe dane\n",
    "X = np.array([[1, 2], [2, 3], [3, 4], [5, 6], [8, 9], [10, 12], [12,15]])"
   ]
  },
  {
   "cell_type": "code",
   "execution_count": null,
   "metadata": {},
   "outputs": [],
   "source": [
    "# Wizualizacja - dendrogram\n",
    "z = linkage(X, method= 'ward')\n",
    "plt.figure(figsize=(10,5))\n",
    "dendrogram(z)\n",
    "plt.title('Dendrogram')\n",
    "plt.xlabel('Data points index')\n",
    "plt.ylabel('Euclidean distance')\n",
    "plt.show()"
   ]
  },
  {
   "cell_type": "code",
   "execution_count": null,
   "metadata": {},
   "outputs": [],
   "source": [
    "# Wczytanie danych\n",
    "df = pd.read_csv(\"data/Train.csv\")\n",
    "df_numerical = df.select_dtypes(exclude = 'object')\n",
    "df_scaled  = StandardScaler().fit_transform(df_numerical)\n",
    "df_scaled = pd.DataFrame(df_scaled, columns = df_numerical.columns)\n",
    "df_scaled"
   ]
  },
  {
   "cell_type": "code",
   "execution_count": 7,
   "metadata": {},
   "outputs": [],
   "source": [
    "# Zmienne do modelu\n",
    "x_cols = ['Cholesterol Level (mg/dL)','Blood Glucose Level (mg/dL)','Bone Density (g/cm²)','Cognitive Function','Hearing Ability (dB)','Vision Sharpness']"
   ]
  },
  {
   "cell_type": "code",
   "execution_count": 8,
   "metadata": {},
   "outputs": [],
   "source": [
    "# Model\n",
    "model = AgglomerativeClustering(n_clusters=4,compute_distances=True, compute_full_tree=True).fit(df_scaled[x_cols])"
   ]
  },
  {
   "cell_type": "code",
   "execution_count": null,
   "metadata": {},
   "outputs": [],
   "source": [
    "# Połączenia elementów\n",
    "model.children_"
   ]
  },
  {
   "cell_type": "code",
   "execution_count": null,
   "metadata": {},
   "outputs": [],
   "source": [
    "df_scaled.loc[695,x_cols]"
   ]
  },
  {
   "cell_type": "code",
   "execution_count": null,
   "metadata": {},
   "outputs": [],
   "source": [
    "df_scaled.loc[2264,x_cols]"
   ]
  },
  {
   "cell_type": "code",
   "execution_count": 14,
   "metadata": {},
   "outputs": [],
   "source": [
    "# Przypisanie klastra\n",
    "df_scaled['cluster'] = model.labels_"
   ]
  },
  {
   "cell_type": "code",
   "execution_count": null,
   "metadata": {},
   "outputs": [],
   "source": [
    "# Liczba liści\n",
    "model.n_leaves_"
   ]
  },
  {
   "cell_type": "code",
   "execution_count": null,
   "metadata": {},
   "outputs": [],
   "source": [
    "# Centroidy\n",
    "sns.pairplot(data= df_scaled[x_cols+['cluster']], hue= 'cluster',)\n",
    "plt.show()"
   ]
  }
 ],
 "metadata": {
  "kernelspec": {
   "display_name": "Python 3",
   "language": "python",
   "name": "python3"
  },
  "language_info": {
   "codemirror_mode": {
    "name": "ipython",
    "version": 3
   },
   "file_extension": ".py",
   "mimetype": "text/x-python",
   "name": "python",
   "nbconvert_exporter": "python",
   "pygments_lexer": "ipython3",
   "version": "3.12.5"
  }
 },
 "nbformat": 4,
 "nbformat_minor": 2
}
