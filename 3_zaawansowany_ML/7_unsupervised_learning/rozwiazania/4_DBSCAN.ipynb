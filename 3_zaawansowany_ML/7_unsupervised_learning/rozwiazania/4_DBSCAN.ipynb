{
 "cells": [
  {
   "cell_type": "markdown",
   "metadata": {},
   "source": [
    "# DBSCAN\n",
    "\n",
    "Zbiór danych: https://www.kaggle.com/datasets/abdullah0a/human-age-prediction-synthetic-dataset\n",
    "\n",
    "Cel biznesowy: stowrzyć grupy pacjentów, w celu optymalizacji obsługi\n",
    "\n",
    "Dokumentacja: https://scikit-learn.org/stable/modules/generated/sklearn.cluster.DBSCAN.html\n"
   ]
  },
  {
   "cell_type": "code",
   "execution_count": 1,
   "metadata": {},
   "outputs": [],
   "source": [
    "import pandas as pd\n",
    "from sklearn.preprocessing import StandardScaler\n",
    "import matplotlib.pyplot as plt\n",
    "import numpy as np\n",
    "from sklearn.cluster import DBSCAN\n",
    "from sklearn.metrics import silhouette_score\n"
   ]
  },
  {
   "cell_type": "code",
   "execution_count": 2,
   "metadata": {},
   "outputs": [],
   "source": [
    "# puść ten kod, \n",
    "# jeżeli wywołujesz plik  w folderze rozwiąznaia, \n",
    "# a ramka danych znajduje się w folderze data\n",
    "import os \n",
    "os.chdir('../')"
   ]
  },
  {
   "cell_type": "code",
   "execution_count": null,
   "metadata": {},
   "outputs": [],
   "source": [
    "# Wczytanie danych\n",
    "df = pd.read_csv(\"data/Train.csv\")\n",
    "df_numerical = df.select_dtypes(exclude = 'object')\n",
    "df_scaled  = StandardScaler().fit_transform(df_numerical)\n",
    "df_scaled = pd.DataFrame(df_scaled, columns = df_numerical.columns)\n",
    "df_scaled"
   ]
  },
  {
   "cell_type": "code",
   "execution_count": 4,
   "metadata": {},
   "outputs": [],
   "source": [
    "x_cols = ['Cholesterol Level (mg/dL)',\n",
    "          'Blood Glucose Level (mg/dL)',\n",
    "          'Bone Density (g/cm²)',\n",
    "          'Cognitive Function',\n",
    "          'Hearing Ability (dB)',\n",
    "          'Vision Sharpness']"
   ]
  },
  {
   "cell_type": "code",
   "execution_count": 5,
   "metadata": {},
   "outputs": [],
   "source": [
    "# Model\n",
    "model = DBSCAN(eps=1,min_samples = 20).fit(df_scaled[x_cols])"
   ]
  },
  {
   "cell_type": "code",
   "execution_count": null,
   "metadata": {},
   "outputs": [],
   "source": [
    "# liczba klastrów\n",
    "pd.Series(model.labels_).unique()"
   ]
  },
  {
   "cell_type": "code",
   "execution_count": 8,
   "metadata": {},
   "outputs": [],
   "source": [
    "# Różne wartości epsilon\n",
    "epsilons = np.arange(0.1,3,step=0.1)"
   ]
  },
  {
   "cell_type": "code",
   "execution_count": 9,
   "metadata": {},
   "outputs": [],
   "source": [
    "# Optymalizacja epsilon\n",
    "scores = []\n",
    "for eps in epsilons:\n",
    "    model = DBSCAN(eps=eps, min_samples=10).fit(df_scaled[x_cols])\n",
    "    if len(set(model.labels_))==1:\n",
    "        scores.append(np.nan)\n",
    "    else:\n",
    "        scores.append(silhouette_score(df_scaled[x_cols],model.labels_))"
   ]
  },
  {
   "cell_type": "code",
   "execution_count": null,
   "metadata": {},
   "outputs": [],
   "source": [
    "# Wizualizacja\n",
    "plt.plot(epsilons, scores)\n",
    "plt.title('silhouette_score')\n",
    "plt.show()"
   ]
  },
  {
   "cell_type": "code",
   "execution_count": null,
   "metadata": {},
   "outputs": [],
   "source": [
    "max(scores)"
   ]
  },
  {
   "cell_type": "code",
   "execution_count": null,
   "metadata": {},
   "outputs": [],
   "source": [
    "pd.Series(scores).max()"
   ]
  },
  {
   "cell_type": "code",
   "execution_count": null,
   "metadata": {},
   "outputs": [],
   "source": [
    "epsilons[scores.index(pd.Series(scores).max())]"
   ]
  }
 ],
 "metadata": {
  "kernelspec": {
   "display_name": "Python 3",
   "language": "python",
   "name": "python3"
  },
  "language_info": {
   "codemirror_mode": {
    "name": "ipython",
    "version": 3
   },
   "file_extension": ".py",
   "mimetype": "text/x-python",
   "name": "python",
   "nbconvert_exporter": "python",
   "pygments_lexer": "ipython3",
   "version": "3.12.5"
  }
 },
 "nbformat": 4,
 "nbformat_minor": 2
}
