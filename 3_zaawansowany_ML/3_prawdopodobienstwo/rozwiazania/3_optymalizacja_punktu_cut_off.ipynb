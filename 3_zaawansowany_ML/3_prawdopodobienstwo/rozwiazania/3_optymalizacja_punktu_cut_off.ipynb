{
 "cells": [
  {
   "cell_type": "markdown",
   "metadata": {},
   "source": [
    "# Optymalizacja punktu cut-off"
   ]
  },
  {
   "cell_type": "code",
   "execution_count": 1,
   "metadata": {},
   "outputs": [],
   "source": [
    "import pandas as pd \n",
    "from sklearn.linear_model import LogisticRegression\n",
    "from sklearn.model_selection import train_test_split\n",
    "from sklearn.metrics import roc_curve,precision_score,recall_score, f1_score\n",
    "import matplotlib.pyplot as plt\n",
    "import seaborn as sns\n",
    "import numpy as np"
   ]
  },
  {
   "cell_type": "code",
   "execution_count": 2,
   "metadata": {},
   "outputs": [],
   "source": [
    "# puść ten kod, \n",
    "# jeżeli wywołujesz plik  w folderze rozwiąznaia, \n",
    "# a ramka danych znajduje się w folderze data\n",
    "import os \n",
    "os.chdir('../')"
   ]
  },
  {
   "cell_type": "code",
   "execution_count": 3,
   "metadata": {},
   "outputs": [],
   "source": [
    "# Wczytanie zbioru danych\n",
    "df = pd.read_csv('data/credit_fraud_sample.csv')\n",
    "del df['Unnamed: 0']"
   ]
  },
  {
   "cell_type": "code",
   "execution_count": 3,
   "metadata": {},
   "outputs": [],
   "source": [
    "## Pretrenuj model\n",
    "train_x, test_x, train_y, test_y = train_test_split(df.iloc[:,1:3],df['Class'], test_size=0.3, random_state=123)\n",
    "model = LogisticRegression().fit(train_x,train_y)\n",
    "train_pred = model.predict_proba(train_x)[:,1]\n",
    "test_pred = model.predict_proba(test_x)[:,1]\n",
    "df['predict_proba'] = model.predict_proba(df[model.feature_names_in_])[:,1]"
   ]
  },
  {
   "cell_type": "code",
   "execution_count": 4,
   "metadata": {},
   "outputs": [],
   "source": [
    "# Przygotwanie danych\n",
    "fpr_train , tpr_train , thresholds_train = roc_curve(train_y, train_pred)\n",
    "fpr_test, tpr_test, thresholds_test = roc_curve(test_y, test_pred)"
   ]
  },
  {
   "cell_type": "code",
   "execution_count": 5,
   "metadata": {},
   "outputs": [
    {
     "data": {
      "image/png": "[encoded data removed]",
      "text/plain": [
       "<Figure size 640x480 with 1 Axes>"
      ]
     },
     "metadata": {},
     "output_type": "display_data"
    }
   ],
   "source": [
    "# Wykres\n",
    "plt.plot(thresholds_test, tpr_test, label= 'TPR')\n",
    "plt.plot(thresholds_test, fpr_test, label = 'FPR')\n",
    "plt.legend()\n",
    "plt.show()"
   ]
  },
  {
   "cell_type": "markdown",
   "metadata": {},
   "source": [
    "Jeżeli zależy nam na dobrej identyfikacji 1 ze wszystkich przypadków ze zbioru, możemy wybrać cut-off, tam gdzie TPR jest wysoki, FPR będzie również wysoki, ale może to być mniejszym kosztem. Przykładem może być wykrywalność choroby. Chcemy znaleźć wszystkich chorych, nawet jeżeli wiąże się to ze zleceniem badań wielu osobom, które nie są chore."
   ]
  },
  {
   "cell_type": "code",
   "execution_count": 6,
   "metadata": {},
   "outputs": [],
   "source": [
    "# Y train df\n",
    "train_pred_df = pd.DataFrame()\n",
    "train_pred_df['y_true'] = train_y \n",
    "train_pred_df['y_pred'] = train_pred"
   ]
  },
  {
   "cell_type": "code",
   "execution_count": 7,
   "metadata": {},
   "outputs": [
    {
     "data": {
      "text/html": [
       "<div>\n",
       "<style scoped>\n",
       "    .dataframe tbody tr th:only-of-type {\n",
       "        vertical-align: middle;\n",
       "    }\n",
       "\n",
       "    .dataframe tbody tr th {\n",
       "        vertical-align: top;\n",
       "    }\n",
       "\n",
       "    .dataframe thead th {\n",
       "        text-align: right;\n",
       "    }\n",
       "</style>\n",
       "<table border=\"1\" class=\"dataframe\">\n",
       "  <thead>\n",
       "    <tr style=\"text-align: right;\">\n",
       "      <th></th>\n",
       "      <th>y_true</th>\n",
       "      <th>y_pred</th>\n",
       "    </tr>\n",
       "  </thead>\n",
       "  <tbody>\n",
       "    <tr>\n",
       "      <th>300</th>\n",
       "      <td>0</td>\n",
       "      <td>0.199024</td>\n",
       "    </tr>\n",
       "    <tr>\n",
       "      <th>778</th>\n",
       "      <td>1</td>\n",
       "      <td>0.624826</td>\n",
       "    </tr>\n",
       "    <tr>\n",
       "      <th>531</th>\n",
       "      <td>1</td>\n",
       "      <td>0.275817</td>\n",
       "    </tr>\n",
       "    <tr>\n",
       "      <th>863</th>\n",
       "      <td>1</td>\n",
       "      <td>0.775185</td>\n",
       "    </tr>\n",
       "    <tr>\n",
       "      <th>182</th>\n",
       "      <td>0</td>\n",
       "      <td>0.407731</td>\n",
       "    </tr>\n",
       "    <tr>\n",
       "      <th>...</th>\n",
       "      <td>...</td>\n",
       "      <td>...</td>\n",
       "    </tr>\n",
       "    <tr>\n",
       "      <th>929</th>\n",
       "      <td>1</td>\n",
       "      <td>0.229543</td>\n",
       "    </tr>\n",
       "    <tr>\n",
       "      <th>668</th>\n",
       "      <td>1</td>\n",
       "      <td>0.644452</td>\n",
       "    </tr>\n",
       "    <tr>\n",
       "      <th>577</th>\n",
       "      <td>1</td>\n",
       "      <td>0.655196</td>\n",
       "    </tr>\n",
       "    <tr>\n",
       "      <th>178</th>\n",
       "      <td>0</td>\n",
       "      <td>0.125597</td>\n",
       "    </tr>\n",
       "    <tr>\n",
       "      <th>485</th>\n",
       "      <td>0</td>\n",
       "      <td>0.253570</td>\n",
       "    </tr>\n",
       "  </tbody>\n",
       "</table>\n",
       "<p>296 rows × 2 columns</p>\n",
       "</div>"
      ],
      "text/plain": [
       "     y_true    y_pred\n",
       "300       0  0.199024\n",
       "778       1  0.624826\n",
       "531       1  0.275817\n",
       "863       1  0.775185\n",
       "182       0  0.407731\n",
       "..      ...       ...\n",
       "929       1  0.229543\n",
       "668       1  0.644452\n",
       "577       1  0.655196\n",
       "178       0  0.125597\n",
       "485       0  0.253570\n",
       "\n",
       "[296 rows x 2 columns]"
      ]
     },
     "execution_count": 7,
     "metadata": {},
     "output_type": "execute_result"
    }
   ],
   "source": [
    "# Y test df\n",
    "test_pred_df = pd.DataFrame()\n",
    "test_pred_df['y_true'] = test_y \n",
    "test_pred_df['y_pred'] = test_pred\n",
    "test_pred_df"
   ]
  },
  {
   "cell_type": "code",
   "execution_count": 10,
   "metadata": {},
   "outputs": [
    {
     "name": "stderr",
     "output_type": "stream",
     "text": [
      "c:\\Users\\Lenovo\\AppData\\Local\\Programs\\Python\\Python312\\Lib\\site-packages\\sklearn\\metrics\\_classification.py:1531: UndefinedMetricWarning: Precision is ill-defined and being set to 0.0 due to no predicted samples. Use `zero_division` parameter to control this behavior.\n",
      "  _warn_prf(average, modifier, f\"{metric.capitalize()} is\", len(result))\n"
     ]
    }
   ],
   "source": [
    "# Wyliczenie miar test\n",
    "precisions = []\n",
    "recalls = []\n",
    "avg_values = []\n",
    "f1_scores = []\n",
    "\n",
    "for i in range(len(thresholds_test)):\n",
    "    cut_off = thresholds_test[i]\n",
    "    pred_class = (test_pred_df['y_pred'] >=cut_off).astype(int)\n",
    "    pr = precision_score(test_pred_df['y_true'], pred_class)\n",
    "    rs = recall_score(test_pred_df['y_true'], pred_class)\n",
    "    f1 = f1_score(test_pred_df['y_true'],pred_class)\n",
    "    avg = (pr+rs)/2\n",
    "    precisions.append(pr)\n",
    "    recalls.append(rs)\n",
    "    f1_scores.append(f1)\n",
    "    avg_values.append(avg)"
   ]
  },
  {
   "cell_type": "code",
   "execution_count": 11,
   "metadata": {},
   "outputs": [
    {
     "data": {
      "image/png": "[encoded data removed]",
      "text/plain": [
       "<Figure size 640x480 with 1 Axes>"
      ]
     },
     "metadata": {},
     "output_type": "display_data"
    }
   ],
   "source": [
    "# Wykres\n",
    "plt.plot(thresholds_test, precisions, label = 'Precision')\n",
    "plt.plot(thresholds_test, recalls,label = 'Recall')\n",
    "plt.legend()\n",
    "plt.show()"
   ]
  },
  {
   "cell_type": "code",
   "execution_count": 12,
   "metadata": {},
   "outputs": [
    {
     "data": {
      "text/plain": [
       "np.float64(0.37145619093995746)"
      ]
     },
     "execution_count": 12,
     "metadata": {},
     "output_type": "execute_result"
    }
   ],
   "source": [
    "# Cut-off\n",
    "thresholds_test[f1_scores.index(max(f1_scores))]\n"
   ]
  },
  {
   "cell_type": "code",
   "execution_count": 13,
   "metadata": {},
   "outputs": [
    {
     "data": {
      "text/plain": [
       "np.float64(0.22712955117593778)"
      ]
     },
     "execution_count": 13,
     "metadata": {},
     "output_type": "execute_result"
    }
   ],
   "source": [
    "thresholds_test[avg_values.index(max(avg_values))]"
   ]
  },
  {
   "cell_type": "markdown",
   "metadata": {},
   "source": [
    "## Klasy prawdopodobieństwa"
   ]
  },
  {
   "cell_type": "code",
   "execution_count": null,
   "metadata": {},
   "outputs": [],
   "source": [
    "# podział według kwantyli\n",
    "train_pred_df['pred_class'] = pd.qcut(train_pred_df['y_pred'],q=4,)"
   ]
  },
  {
   "cell_type": "code",
   "execution_count": 15,
   "metadata": {},
   "outputs": [
    {
     "name": "stderr",
     "output_type": "stream",
     "text": [
      "C:\\Users\\Lenovo\\AppData\\Local\\Temp\\ipykernel_11512\\205865194.py:2: FutureWarning: The default of observed=False is deprecated and will be changed to True in a future version of pandas. Pass observed=False to retain current behavior or observed=True to adopt the future default and silence this warning.\n",
      "  train_pred_df.groupby('pred_class').mean()['y_true']\n"
     ]
    },
    {
     "data": {
      "text/plain": [
       "pred_class\n",
       "(0.0441, 0.223]    0.116279\n",
       "(0.223, 0.445]     0.354651\n",
       "(0.445, 0.793]     0.633721\n",
       "(0.793, 1.0]       0.936047\n",
       "Name: y_true, dtype: float64"
      ]
     },
     "execution_count": 15,
     "metadata": {},
     "output_type": "execute_result"
    }
   ],
   "source": [
    "# odsetek 1 w klasach\n",
    "train_pred_df.groupby('pred_class').mean()['y_true']"
   ]
  },
  {
   "cell_type": "code",
   "execution_count": 31,
   "metadata": {},
   "outputs": [],
   "source": [
    "# Funkcja do przypisania klasy\n",
    "def assign_class(x):\n",
    "    cuts = [0.223,0.445, 0.793,1]\n",
    "    ranges = ['(0.0441, 0.223]','(0.223, 0.445]','(0.445, 0.793]','(0.793, 1.0]']\n",
    "    for i in range(len(cuts)):\n",
    "        if x <= cuts[i]:\n",
    "            return ranges[i]\n"
   ]
  },
  {
   "cell_type": "code",
   "execution_count": 32,
   "metadata": {},
   "outputs": [],
   "source": [
    "# Przypisanie na zbiorze testowym\n",
    "test_pred_df['pred_class']  = test_pred_df.loc[:,'y_pred'].apply(lambda x: assign_class(x))"
   ]
  },
  {
   "cell_type": "code",
   "execution_count": 33,
   "metadata": {},
   "outputs": [
    {
     "data": {
      "text/plain": [
       "pred_class\n",
       "(0.0441, 0.223]    0.041667\n",
       "(0.223, 0.445]     0.390244\n",
       "(0.445, 0.793]     0.632184\n",
       "(0.793, 1.0]       0.927273\n",
       "Name: y_true, dtype: float64"
      ]
     },
     "execution_count": 33,
     "metadata": {},
     "output_type": "execute_result"
    }
   ],
   "source": [
    "# Sprawdzenie\n",
    "test_pred_df.groupby('pred_class').mean()['y_true']"
   ]
  }
 ],
 "metadata": {
  "kernelspec": {
   "display_name": "Python 3",
   "language": "python",
   "name": "python3"
  },
  "language_info": {
   "codemirror_mode": {
    "name": "ipython",
    "version": 3
   },
   "file_extension": ".py",
   "mimetype": "text/x-python",
   "name": "python",
   "nbconvert_exporter": "python",
   "pygments_lexer": "ipython3",
   "version": "3.12.5"
  }
 },
 "nbformat": 4,
 "nbformat_minor": 2
}
